{
  "cells": [
    {
      "cell_type": "markdown",
      "metadata": {},
      "source": [
        "\n# Icepak: Creating blocks and assigning materials and power\nThis example shows how to create different types of blocks and assign power and material to them using\na *.csv input file\n"
      ]
    },
    {
      "cell_type": "markdown",
      "metadata": {},
      "source": [
        "## Perform required imports\nPerform required imports including the opertaing system, regular expression, csv, Ansys PyAEDT\nand its boundary objects.\n\n"
      ]
    },
    {
      "cell_type": "code",
      "execution_count": null,
      "metadata": {
        "collapsed": false
      },
      "outputs": [],
      "source": [
        "import os\nimport re\nimport csv\nfrom collections import OrderedDict\nimport pyaedt\nfrom pyaedt.modules.Boundary import BoundaryObject"
      ]
    },
    {
      "cell_type": "markdown",
      "metadata": {},
      "source": [
        "## Set non-graphical mode\nSet non-graphical mode. \nYou can set ``non_graphical`` either to ``True`` or ``False``.\n\n"
      ]
    },
    {
      "cell_type": "code",
      "execution_count": null,
      "metadata": {
        "collapsed": false
      },
      "outputs": [],
      "source": [
        "non_graphical = False"
      ]
    },
    {
      "cell_type": "markdown",
      "metadata": {},
      "source": [
        "## Download and open project\nDownload the project, open it, and save it to the temporary folder.\n\n"
      ]
    },
    {
      "cell_type": "code",
      "execution_count": null,
      "metadata": {
        "collapsed": false
      },
      "outputs": [],
      "source": [
        "temp_folder = pyaedt.generate_unique_folder_name()\n\nipk = pyaedt.Icepak(projectname=os.path.join(temp_folder, \"Icepak_CSV_Import.aedt\"),\n                    specified_version=\"2023.2\",\n                    new_desktop_session=True,\n                    non_graphical=non_graphical\n                    )\n\nipk.autosave_disable()"
      ]
    },
    {
      "cell_type": "markdown",
      "metadata": {},
      "source": [
        "## Import the CSV file\nImport the CSV file that lists the name of blocks, their type and material properties.\n\nBlock types (solid, network, hollow), block name, block starting and end points, solid material, and power are listed.\n\nHollow and network blocks do not need the material name.\n\nNetwork blocks must have the Board side listed as well as Rjb and Rjc values.\n\nMonitor points can be created for any types of block if the last column is assigned to be 1 (0 and 1 are the only options).\n\nThe following image does not show the entire rows and data and only serves as a sample.\n\n\n<img src=\"file://../../_static/CSV_Import.png\" width=\"400\" alt=\"CSV Screenshot.\">\n\n\n\n"
      ]
    },
    {
      "cell_type": "code",
      "execution_count": null,
      "metadata": {
        "collapsed": false
      },
      "outputs": [],
      "source": [
        "filename = pyaedt.downloads.download_file('icepak','blocks-list.csv',destination=temp_folder)\nfields = []\nrows = []\n\nwith open(filename, 'r') as csvFile:\n    csvReader = csv.reader(csvFile)\n    fields = next(csvReader)\n    for row in csvReader:\n        rows.append(row)"
      ]
    },
    {
      "cell_type": "markdown",
      "metadata": {},
      "source": [
        "## Defining a function for network block types\nThis function will be called in the next step if the blcok type is network.\nIt will read the board side as well as thetaj values and assign them to the block.\n\n"
      ]
    },
    {
      "cell_type": "code",
      "execution_count": null,
      "metadata": {
        "collapsed": false
      },
      "outputs": [],
      "source": [
        "def create_2R_network_BC(object3d, power, rjb, rjc, board_side):\n\n    board_side = board_side.casefold()  # returns the board side with all letters in lower case\n\n    if board_side == \"minx\":\n        board_faceID = object3d.bottom_face_x.id\n        case_faceID = object3d.top_face_x.id\n        case_side = \"maxx\"\n    elif board_side == \"maxx\":\n        board_faceID = object3d.top_face_x.id\n        case_faceID = object3d.bottom_face_x.id\n        case_side = \"minx\"\n    elif board_side == \"miny\":\n        board_faceID = object3d.bottom_face_y.id\n        case_faceID = object3d.top_face_y.id\n        case_side = \"maxy\"\n    elif board_side == \"maxy\":\n        board_faceID = object3d.top_face_y.id\n        case_faceID = object3d.bottom_face_y.id\n        case_side = \"miny\"\n    elif board_side == \"minz\":\n        board_faceID = object3d.bottom_face_z.id\n        case_faceID = object3d.top_face_z.id\n        case_side = \"maxz\"\n    else:\n        board_faceID = object3d.top_face_z.id\n        case_faceID = object3d.bottom_face_z.id\n        case_side = \"minz\"\n\n    # Define network properties in props dictionary\n    props = {}\n    props[\"Faces\"] = [board_faceID, case_faceID]\n\n    props[\"Nodes\"] = OrderedDict(\n        {\n            \"Case_side(\" + case_side + \")\": [case_faceID, \"NoResistance\"],\n            \"Board_side(\" + board_side + \")\": [board_faceID, \"NoResistance\"],\n            \"Internal\": [power + 'W'],\n        }\n    )\n\n    props[\"Links\"] = OrderedDict(\n        {\n            \"Rjc\": [\"Case_side(\" + case_side + \")\", \"Internal\", \"R\", str(rjc) + \"cel_per_w\"],\n            \"Rjb\": [\"Board_side(\" + board_side + \")\", \"Internal\", \"R\", str(rjb) + \"cel_per_w\"],\n        }\n    )\n\n    props[\"SchematicData\"] = OrderedDict({})\n\n    # Default material is Ceramic material\n    ipk.modeler.primitives[object3d.name].material_name = \"Ceramic_material\"\n\n    # Create boundary condition and set Solve Inside to No\n    bound = BoundaryObject(ipk, object3d.name, props, \"Network\")\n    if bound.create():\n        ipk.boundaries.append(bound)\n        ipk.modeler.primitives[object3d.name].solve_inside = False"
      ]
    },
    {
      "cell_type": "markdown",
      "metadata": {},
      "source": [
        "## Final stage to create the blocks\nIt will loop over the csv file lines and creates the blocks.\nIt will create solid blocks and assign BCs.\nEvery row in the list has information of a particular block.\nThis information is extracted via a \"for\" loop.\nFor example, rows[i][1] is the first item in the list that has the block name information.\n\n"
      ]
    },
    {
      "cell_type": "code",
      "execution_count": null,
      "metadata": {
        "collapsed": false
      },
      "outputs": [],
      "source": [
        "for i in range(len(rows)):\n\n    origin = [float(rows[i][2]), float(rows[i][3]), float(rows[i][4])]  # blcok starting point\n    dimensions = [float(rows[i][5]), float(rows[i][6]), float(rows[i][7])]  # blcok lengths in 3 dimentions\n    block_name = rows[i][1]  # blcok name\n    block_name = re.sub(\"\\W\", \"_\", block_name)\n\n    # Define material name\n\n    if rows[i][8] == \"\":\n        material_name = \"Al-Extruded\"\n    else:\n        material_name = rows[i][8]\n\n    # creates the block with the given name, coordinates, material, and type\n    block = ipk.modeler.primitives.create_box(origin, dimensions, name=block_name, matname=material_name)\n\n    # Assign boundary conditions\n\n    if rows[i][0] == \"solid\":\n        ipk.create_source_block(block_name, rows[i][9] + \"W\", assign_material=False, use_object_for_name=True)\n\n    elif rows[i][0] == \"network\":\n        create_2R_network_BC(block, rows[i][9], rows[i][11], rows[i][12], rows[i][10])\n\n    else:\n        ipk.create_source_block(block_name, rows[i][9] + \"W\", assign_material=False, use_object_for_name=True)\n        ipk.modeler.primitives[block.name].solve_inside = False\n\n    # Create temperature monitor points if assigned value is 1 in the last column of the csv file\n\n    if rows[i][13] == '1':\n        # calculates the location of the monitoir point based on the starting point an dlength of the block\n\n        mon_loc_x = float(rows[i][2]) + 0.5 * float(rows[i][5])\n        mon_loc_y = float(rows[i][3]) + 0.5 * float(rows[i][6])\n        mon_loc_z = float(rows[i][4]) + 0.5 * float(rows[i][7])\n        mon_loc = [mon_loc_x, mon_loc_y, mon_loc_z]\n        ipk.assign_point_monitor(mon_loc, monitor_name=block_name)  # creates the monitor point"
      ]
    },
    {
      "cell_type": "markdown",
      "metadata": {},
      "source": [
        "## Fit to scale, save the project\nThis will scale to fit all objects in AEDT and save the project.\n\n"
      ]
    },
    {
      "cell_type": "code",
      "execution_count": null,
      "metadata": {
        "collapsed": false
      },
      "outputs": [],
      "source": [
        "ipk.modeler.fit_all()\nipk.save_project()"
      ]
    },
    {
      "cell_type": "markdown",
      "metadata": {},
      "source": [
        "## Closing and releasing AEDT\nRelease the AEDT session.  If this step is missing, AEDT cannot be closed.\n\n"
      ]
    },
    {
      "cell_type": "code",
      "execution_count": null,
      "metadata": {
        "collapsed": false
      },
      "outputs": [],
      "source": [
        "ipk.close_project()\nipk.release_desktop(True, True)"
      ]
    }
  ],
  "metadata": {
    "kernelspec": {
      "display_name": "Python 3",
      "language": "python",
      "name": "python3"
    },
    "language_info": {
      "codemirror_mode": {
        "name": "ipython",
        "version": 3
      },
      "file_extension": ".py",
      "mimetype": "text/x-python",
      "name": "python",
      "nbconvert_exporter": "python",
      "pygments_lexer": "ipython3",
      "version": "3.10.5"
    }
  },
  "nbformat": 4,
  "nbformat_minor": 0
}