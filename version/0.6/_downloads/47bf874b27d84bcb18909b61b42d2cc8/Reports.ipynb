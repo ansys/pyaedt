{
  "cells": [
    {
      "cell_type": "markdown",
      "metadata": {},
      "source": [
        "\n# Circuit: automatic report creation\nThis example shows how you can use PyAEDT to create reports automatically using a JSON file.\n"
      ]
    },
    {
      "cell_type": "markdown",
      "metadata": {},
      "source": [
        "## Perform required imports\nPerform required imports and set the local path to the path for PyAEDT.\n\n"
      ]
    },
    {
      "cell_type": "code",
      "execution_count": null,
      "metadata": {
        "collapsed": false
      },
      "outputs": [],
      "source": [
        "# sphinx_gallery_thumbnail_path = 'Resources/spectrum_plot.png'\nimport os\n\nimport pyaedt\n\n# Set local path to path for PyAEDT\ntemp_folder = pyaedt.generate_unique_folder_name()\nproject_path = pyaedt.downloads.download_custom_reports(destination=temp_folder)"
      ]
    },
    {
      "cell_type": "markdown",
      "metadata": {},
      "source": [
        "## Launch AEDT\nLaunch AEDT 2023 R2 in graphical mode. This example uses SI units.\n\n"
      ]
    },
    {
      "cell_type": "code",
      "execution_count": null,
      "metadata": {
        "collapsed": false
      },
      "outputs": [],
      "source": [
        "desktopVersion = \"2023.2\""
      ]
    },
    {
      "cell_type": "markdown",
      "metadata": {},
      "source": [
        "## Set non-graphical mode\nSet non-graphical mode. \nYou can set ``non_graphical`` either to ``True`` or ``False``.\nThe Boolean parameter ``new_thread`` defines whether to create a new instance\nof AEDT or try to connect to an existing instance of it.\n\n"
      ]
    },
    {
      "cell_type": "code",
      "execution_count": null,
      "metadata": {
        "collapsed": false
      },
      "outputs": [],
      "source": [
        "non_graphical = False\nNewThread = True"
      ]
    },
    {
      "cell_type": "markdown",
      "metadata": {},
      "source": [
        "## Launch AEDT with Circuit\nLaunch AEDT with Circuit. The :class:`pyaedt.Desktop` class initializes AEDT\nand starts the specified version in the specified mode.\n\n"
      ]
    },
    {
      "cell_type": "code",
      "execution_count": null,
      "metadata": {
        "collapsed": false
      },
      "outputs": [],
      "source": [
        "cir = pyaedt.Circuit(projectname=os.path.join(project_path, 'CISPR25_Radiated_Emissions_Example23R1.aedtz'),\n                     non_graphical=non_graphical,\n                     specified_version=desktopVersion,\n                     new_desktop_session=True\n                     )"
      ]
    },
    {
      "cell_type": "markdown",
      "metadata": {},
      "source": [
        "## Create spectrum report\nCreate a spectrum report. You can use a JSON file to create a simple setup\nor a fully customized one. The following code creates a simple setup and changes\nthe JSON file to customize it. In a spectrum report, you can add limitilines and\nnotes and edit axes, the grid, and the legend. You can create custom reports\nin non-graphical mode in AEDT 2023 R2 and later.\n\n"
      ]
    },
    {
      "cell_type": "code",
      "execution_count": null,
      "metadata": {
        "collapsed": false
      },
      "outputs": [],
      "source": [
        "report1 = cir.post.create_report_from_configuration(os.path.join(project_path,'Spectrum_CISPR_Basic.json'))\n\nif not non_graphical:\n    report1_full = cir.post.create_report_from_configuration(os.path.join(project_path,'Spectrum_CISPR_Custom.json'))"
      ]
    },
    {
      "cell_type": "markdown",
      "metadata": {},
      "source": [
        "## Create transient report\nCreate a transient report. You can read and modify the JSON file\nbefore running the script. The following code modifies the traces\nbefore generating the report. You can create custom reports in non-graphical\nmode in AEDT 2023 R2 and later.\n\n"
      ]
    },
    {
      "cell_type": "code",
      "execution_count": null,
      "metadata": {
        "collapsed": false
      },
      "outputs": [],
      "source": [
        "if non_graphical:\n    props = pyaedt.data_handler.json_to_dict(os.path.join(project_path, 'Transient_CISPR_Basic.json'))\nelse:\n    props = pyaedt.data_handler.json_to_dict(os.path.join(project_path, 'Transient_CISPR_Custom.json'))\n\nreport2 = cir.post.create_report_from_configuration(input_dict=props, solution_name=\"NexximTransient\")\nprops[\"expressions\"] = {\"V(Battery)\": {}, \"V(U1_VDD)\": {}}\nprops[\"plot_name\"] = \"Battery Voltage\"\nreport3 = cir.post.create_report_from_configuration(input_dict=props, solution_name=\"NexximTransient\")"
      ]
    },
    {
      "cell_type": "markdown",
      "metadata": {},
      "source": [
        "## Create eye diagram\nCreate an eye diagram. If the JSON file contains an eye mask, you can create\nan eye diagram and fully customize it. You can create custom reports in\nnon-graphical mode in AEDT 2023 R2 and later.\n\n"
      ]
    },
    {
      "cell_type": "code",
      "execution_count": null,
      "metadata": {
        "collapsed": false
      },
      "outputs": [],
      "source": [
        "report4 = cir.post.create_report_from_configuration(os.path.join(project_path, 'EyeDiagram_CISPR_Basic.json'))\n\nif not non_graphical:\n    report4_full = cir.post.create_report_from_configuration(os.path.join(project_path, 'EyeDiagram_CISPR_Custom.json'))\n\nif not non_graphical:\n    cir.post.export_report_to_jpg(cir.working_directory, report4.plot_name)"
      ]
    },
    {
      "cell_type": "markdown",
      "metadata": {},
      "source": [
        "This is how the spectrum looks like\n<img src=\"file://Resources/spectrum_plot.png\">\n\n"
      ]
    },
    {
      "cell_type": "markdown",
      "metadata": {},
      "source": [
        "## Save project and close AEDT\nSave the project and close AEDT.\n\n"
      ]
    },
    {
      "cell_type": "code",
      "execution_count": null,
      "metadata": {
        "collapsed": false
      },
      "outputs": [],
      "source": [
        "cir.save_project()\nprint(\"Project Saved in {}\".format(cir.project_path))\ncir.release_desktop()"
      ]
    }
  ],
  "metadata": {
    "kernelspec": {
      "display_name": "Python 3",
      "language": "python",
      "name": "python3"
    },
    "language_info": {
      "codemirror_mode": {
        "name": "ipython",
        "version": 3
      },
      "file_extension": ".py",
      "mimetype": "text/x-python",
      "name": "python",
      "nbconvert_exporter": "python",
      "pygments_lexer": "ipython3",
      "version": "3.10.5"
    }
  },
  "nbformat": 4,
  "nbformat_minor": 0
}