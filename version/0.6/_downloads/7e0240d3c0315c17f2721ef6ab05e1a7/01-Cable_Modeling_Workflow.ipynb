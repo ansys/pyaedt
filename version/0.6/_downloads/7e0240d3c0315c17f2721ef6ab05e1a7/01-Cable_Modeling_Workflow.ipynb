{
  "cells": [
    {
      "cell_type": "code",
      "execution_count": null,
      "metadata": {
        "collapsed": false
      },
      "outputs": [],
      "source": [
        "%matplotlib inline"
      ]
    },
    {
      "cell_type": "markdown",
      "metadata": {},
      "source": [
        "\n# HFSS: Cable Modeling\nThis example shows how you can use PyAEDT to use all the cable modeling features available in HFSS.\nCable Modeling requires a pre-defined JSON file with all the cables and cable harness properties to set.\nIn this example the properties are explicitly set but the user can also set them manually inside the file, save it\nand instantiate the Cable class to access all the available methods.\n"
      ]
    },
    {
      "cell_type": "markdown",
      "metadata": {},
      "source": [
        "## Perform required imports\nPerform required imports.\n\n"
      ]
    },
    {
      "cell_type": "code",
      "execution_count": null,
      "metadata": {
        "collapsed": false
      },
      "outputs": [],
      "source": [
        "import os\nimport pyaedt\nfrom pyaedt.modules.CableModeling import Cable\n\n# Set local temporary folder to export the cable library into.\n# set_cable_properties.json is the required json file to work with the Cable class.\n# Its structure must never change except for the properties values.\ntemp_folder = pyaedt.generate_unique_folder_name()\nproject_path = pyaedt.downloads.download_file(\"cable_modeling\", \"cable_modeling.aedt\", temp_folder)\njson_path = pyaedt.downloads.download_file(\"cable_modeling\", \"set_cable_properties.json\", temp_folder)"
      ]
    },
    {
      "cell_type": "markdown",
      "metadata": {},
      "source": [
        "## Launch AEDT\nLaunch AEDT 2023 R1 in graphical mode. This example uses SI units.\n\n"
      ]
    },
    {
      "cell_type": "code",
      "execution_count": null,
      "metadata": {
        "collapsed": false
      },
      "outputs": [],
      "source": [
        "desktopVersion = \"2023.1\""
      ]
    },
    {
      "cell_type": "markdown",
      "metadata": {},
      "source": [
        "## Set non-graphical mode\nSet non-graphical mode. ``\"PYAEDT_NON_GRAPHICAL\"`` is needed to generate\ndocumentation only.\nYou can set ``non_graphical`` either to ``True`` or ``False``.\n\n"
      ]
    },
    {
      "cell_type": "code",
      "execution_count": null,
      "metadata": {
        "collapsed": false
      },
      "outputs": [],
      "source": [
        "non_graphical = False"
      ]
    },
    {
      "cell_type": "markdown",
      "metadata": {},
      "source": [
        "## Launch AEDT\nLaunch AEDT 2023 R1 in graphical mode.\n\n"
      ]
    },
    {
      "cell_type": "code",
      "execution_count": null,
      "metadata": {
        "collapsed": false
      },
      "outputs": [],
      "source": [
        "d = pyaedt.launch_desktop(desktopVersion, non_graphical=non_graphical, new_desktop_session=True)"
      ]
    },
    {
      "cell_type": "markdown",
      "metadata": {},
      "source": [
        "## Launch HFSS\nLaunch HFSS 2023 R1 in graphical mode.\n\n"
      ]
    },
    {
      "cell_type": "code",
      "execution_count": null,
      "metadata": {
        "collapsed": false
      },
      "outputs": [],
      "source": [
        "hfss = pyaedt.Hfss(projectname=project_path, non_graphical=non_graphical)\nhfss.modeler.model_units = \"mm\""
      ]
    },
    {
      "cell_type": "markdown",
      "metadata": {},
      "source": [
        "## New instance of Cable modeling class\nNew instance of Cable modeling class which requires as input\nthe aedt app and the json file path containing all the cable properties.\n\n"
      ]
    },
    {
      "cell_type": "code",
      "execution_count": null,
      "metadata": {
        "collapsed": false
      },
      "outputs": [],
      "source": [
        "cable = Cable(hfss, json_path)"
      ]
    },
    {
      "cell_type": "markdown",
      "metadata": {},
      "source": [
        "## Create cable bundle\nProperties for cable bundle are updated (user can change them manually\nin json file).\nA cable bundle with insulation jacket type is created.\n\n"
      ]
    },
    {
      "cell_type": "code",
      "execution_count": null,
      "metadata": {
        "collapsed": false
      },
      "outputs": [],
      "source": [
        "cable_props = pyaedt.data_handler.json_to_dict(json_path)\n\ncable_props[\"Add_Cable\"] = \"True\"\ncable_props[\"Cable_prop\"][\"CableType\"] = \"bundle\"\ncable_props[\"Cable_prop\"][\"IsJacketTypeInsulation\"] = \"True\"\ncable_props[\"CableManager\"][\"Definitions\"][\"CableBundle\"][\"BundleParams\"][\"InsulationJacketParams\"][\n            \"InsThickness\"\n        ] = \"3.66mm\"\ncable_props[\"CableManager\"][\"Definitions\"][\"CableBundle\"][\"BundleParams\"][\"InsulationJacketParams\"][\n            \"JacketMaterial\"\n        ] = \"pec\"\ncable_props[\"CableManager\"][\"Definitions\"][\"CableBundle\"][\"BundleParams\"][\"InsulationJacketParams\"][\n            \"InnerDiameter\"\n        ] = \"2.88mm\"\ncable_props[\"CableManager\"][\"Definitions\"][\"CableBundle\"][\"BundleAttribs\"][\"Name\"] = \"Bundle_Cable_Insulation\"\n\ncable = Cable(hfss, cable_props)\ncable.create_cable()"
      ]
    },
    {
      "cell_type": "markdown",
      "metadata": {},
      "source": [
        "## Create cable bundle\nA cable bundle with no jacket type is created.\n\n"
      ]
    },
    {
      "cell_type": "code",
      "execution_count": null,
      "metadata": {
        "collapsed": false
      },
      "outputs": [],
      "source": [
        "cable_props[\"Cable_prop\"][\"IsJacketTypeInsulation\"] = \"False\"\ncable_props[\"Cable_prop\"][\"IsJacketTypeNoJacket\"] = \"True\"\ncable_props[\"CableManager\"][\"Definitions\"][\"CableBundle\"][\"BundleAttribs\"][\"Name\"] = \"Bundle_Cable_NoJacket\"\n\n# Cable class has to be reinitialized because json has changed.\n# It accepts in input both a json file path and a dictionary.\ncable = Cable(hfss, cable_props)\ncable.create_cable()"
      ]
    },
    {
      "cell_type": "markdown",
      "metadata": {},
      "source": [
        "## Create cable bundle\nA cable bundle with shielding jacket type is created.\n\n"
      ]
    },
    {
      "cell_type": "code",
      "execution_count": null,
      "metadata": {
        "collapsed": false
      },
      "outputs": [],
      "source": [
        "cable_props[\"Cable_prop\"][\"IsJacketTypeNoJacket\"] = \"False\"\ncable_props[\"Cable_prop\"][\"IsJacketTypeBraidShield\"] = \"True\"\ncable_props[\"CableManager\"][\"Definitions\"][\"CableBundle\"][\"BundleParams\"][\"BraidShieldJacketParams\"][\n            \"JacketMaterial\"\n        ] = \"pec\"\ncable_props[\"CableManager\"][\"Definitions\"][\"CableBundle\"][\"BundleParams\"][\"BraidShieldJacketParams\"][\n            \"InnerDiameter\"\n        ] = \"6mm\"\ncable_props[\"CableManager\"][\"Definitions\"][\"CableBundle\"][\"BundleParams\"][\"BraidShieldJacketParams\"][\n            \"NumCarriers\"\n        ] = \"36\"\ncable_props[\"CableManager\"][\"Definitions\"][\"CableBundle\"][\"BundleParams\"][\"BraidShieldJacketParams\"][\n            \"NumWiresInCarrier\"\n        ] = \"52\"\ncable_props[\"CableManager\"][\"Definitions\"][\"CableBundle\"][\"BundleParams\"][\"BraidShieldJacketParams\"][\n            \"WireDiameter\"\n        ] = \"0.242424mm\"\ncable_props[\"CableManager\"][\"Definitions\"][\"CableBundle\"][\"BundleParams\"][\"BraidShieldJacketParams\"][\n            \"WeaveAngle\"\n        ] = \"33deg\"\ncable_props[\"CableManager\"][\"Definitions\"][\"CableBundle\"][\"BundleAttribs\"][\"Name\"] = \"Bundle_Cable_Shielding\"\n\ncable = Cable(hfss, cable_props)\ncable.create_cable()"
      ]
    },
    {
      "cell_type": "markdown",
      "metadata": {},
      "source": [
        "## Update cable bundle\nThe first cable bundle (insulation jacket type) is updated.\n\n"
      ]
    },
    {
      "cell_type": "code",
      "execution_count": null,
      "metadata": {
        "collapsed": false
      },
      "outputs": [],
      "source": [
        "cable_props[\"Update_Cable\"] = \"True\"\ncable_props[\"Cable_prop\"][\"IsJacketTypeNoJacket\"] = \"False\"\ncable_props[\"Cable_prop\"][\"IsJacketTypeBraidShield\"] = \"False\"\ncable_props[\"Cable_prop\"][\"IsJacketTypeInsulation\"] = \"True\"\ncable_props[\"CableManager\"][\"Definitions\"][\"CableBundle\"][\"BundleAttribs\"][\"Name\"] = \"Bundle_Cable_Insulation\"\ncable_props[\"Cable_prop\"][\"UpdatedName\"] = \"New_updated_name_cable_bundle_insulation\"\ncable_props[\"CableManager\"][\"Definitions\"][\"CableBundle\"][\"BundleParams\"][\"InsulationJacketParams\"][\n            \"InsThickness\"\n        ] = \"4mm\"\ncable_props[\"CableManager\"][\"Definitions\"][\"CableBundle\"][\"BundleParams\"][\"InsulationJacketParams\"][\n            \"JacketMaterial\"\n        ] = \"pec\"\ncable_props[\"CableManager\"][\"Definitions\"][\"CableBundle\"][\"BundleParams\"][\"InsulationJacketParams\"][\n            \"InnerDiameter\"\n        ] = \"1.2mm\"\n\ncable = Cable(hfss, cable_props)\ncable.update_cable_properties()"
      ]
    },
    {
      "cell_type": "markdown",
      "metadata": {},
      "source": [
        "## Create straight wire cable\nCreate straight wire cable.\n\n"
      ]
    },
    {
      "cell_type": "code",
      "execution_count": null,
      "metadata": {
        "collapsed": false
      },
      "outputs": [],
      "source": [
        "cable_props[\"Add_Cable\"] = \"True\"\ncable_props[\"Cable_prop\"][\"CableType\"] = \"straight wire\"\ncable_props[\"Update_Cable\"] = \"False\"\ncable_props[\"CableManager\"][\"Definitions\"][\"StWireCable\"][\"StWireParams\"][\"WireStandard\"] = \"ISO\"\ncable_props[\"CableManager\"][\"Definitions\"][\"StWireCable\"][\"StWireParams\"][\"WireGauge\"] = \"2.5\"\ncable_props[\"CableManager\"][\"Definitions\"][\"StWireCable\"][\"StWireParams\"][\"CondDiameter\"] = \"10mm\"\ncable_props[\"CableManager\"][\"Definitions\"][\"StWireCable\"][\"StWireParams\"][\"CondMaterial\"] = \"pec\"\ncable_props[\"CableManager\"][\"Definitions\"][\"StWireCable\"][\"StWireParams\"][\"InsThickness\"] = \"0.9mm\"\ncable_props[\"CableManager\"][\"Definitions\"][\"StWireCable\"][\"StWireParams\"][\"InsMaterial\"] = \"copper\"\ncable_props[\"CableManager\"][\"Definitions\"][\"StWireCable\"][\"StWireParams\"][\"InsType\"] = \"Thin Wall\"\ncable_props[\"CableManager\"][\"Definitions\"][\"StWireCable\"][\"StWireAttribs\"][\"Name\"] = \"straight_wire_cable\"\n\ncable = Cable(hfss, cable_props)\ncable.create_cable()\n\n# Create 3 straight wire cables for late to create the cable harness.\n\ncable_props[\"CableManager\"][\"Definitions\"][\"StWireCable\"][\"StWireAttribs\"][\"Name\"] = \"stwire1\"\ncable = Cable(hfss, cable_props)\ncable.create_cable()\ncable_props[\"CableManager\"][\"Definitions\"][\"StWireCable\"][\"StWireAttribs\"][\"Name\"] = \"stwire2\"\ncable = Cable(hfss, cable_props)\ncable.create_cable()\ncable_props[\"CableManager\"][\"Definitions\"][\"StWireCable\"][\"StWireAttribs\"][\"Name\"] = \"stwire3\"\ncable = Cable(hfss, cable_props)\ncable.create_cable()"
      ]
    },
    {
      "cell_type": "markdown",
      "metadata": {},
      "source": [
        "## Create twisted pair cable\nCreate twisted pair cable.\n\n"
      ]
    },
    {
      "cell_type": "code",
      "execution_count": null,
      "metadata": {
        "collapsed": false
      },
      "outputs": [],
      "source": [
        "cable_props[\"Add_Cable\"] = \"True\"\ncable_props[\"Cable_prop\"][\"CableType\"] = \"twisted pair\"\ncable_props[\"Update_Cable\"] = \"False\"\ncable_props[\"CableManager\"][\"Definitions\"][\"TwistedPairCable\"][\"TwistedPairParams\"][\n            \"StraightWireCableID\"\n        ] = 1023\ncable_props[\"CableManager\"][\"Definitions\"][\"TwistedPairCable\"][\"TwistedPairParams\"][\n            \"IsLayLengthSpecified\"\n        ] = \"False\"\ncable_props[\"CableManager\"][\"Definitions\"][\"TwistedPairCable\"][\"TwistedPairParams\"][\"LayLength\"] = \"34mm\"\ncable_props[\"CableManager\"][\"Definitions\"][\"TwistedPairCable\"][\"TwistedPairParams\"][\"TurnsPerMeter\"] = \"99\"\ncable_props[\"CableManager\"][\"Definitions\"][\"TwistedPairCable\"][\"TwistedPairAttribs\"][\n            \"Name\"\n        ] = \"twisted_pair_cable\"\n\ncable = Cable(hfss, cable_props)\ncable.create_cable()"
      ]
    },
    {
      "cell_type": "markdown",
      "metadata": {},
      "source": [
        "## Add cables to bundle\nAdd straight wire cables to bundle.\n\n"
      ]
    },
    {
      "cell_type": "code",
      "execution_count": null,
      "metadata": {
        "collapsed": false
      },
      "outputs": [],
      "source": [
        "cable_props[\"Add_Cable\"] = \"False\"\ncable_props[\"Update_Cable\"] = \"False\"\ncable_props[\"Add_CablesToBundle\"] = \"True\"\ncable_props[\"CablesToBundle_prop\"][\"CablesToAdd\"] = \"straight_wire_cable\"\ncable_props[\"CablesToBundle_prop\"][\"BundleCable\"] = \"New_updated_name_cable_bundle_insulation\"\ncable_props[\"CablesToBundle_prop\"][\"NumberOfCableToAdd\"] = 3\n\ncable = Cable(hfss, cable_props)\ncable.add_cable_to_bundle()"
      ]
    },
    {
      "cell_type": "markdown",
      "metadata": {},
      "source": [
        "## Remove a cable or a list of cables\nRemove a cable or a list of cables.\n\n"
      ]
    },
    {
      "cell_type": "code",
      "execution_count": null,
      "metadata": {
        "collapsed": false
      },
      "outputs": [],
      "source": [
        "cable_props[\"Add_Cable\"] = \"False\"\ncable_props[\"Update_Cable\"] = \"False\"\ncable_props[\"Add_CablesToBundle\"] = \"False\"\ncable_props[\"Remove_Cable\"] = \"True\"\ncable_props[\"Cable_prop\"][\"CablesToRemove\"] = \"Bundle_Cable_Shielding\"\n\ncable = Cable(hfss, cable_props)\ncable.remove_cables()"
      ]
    },
    {
      "cell_type": "markdown",
      "metadata": {},
      "source": [
        "## Create clock sources\nCreate and update a clock source.\n\n"
      ]
    },
    {
      "cell_type": "code",
      "execution_count": null,
      "metadata": {
        "collapsed": false
      },
      "outputs": [],
      "source": [
        "cable_props[\"Add_Cable\"] = \"False\"\ncable_props[\"Update_Cable\"] = \"False\"\ncable_props[\"Add_CablesToBundle\"] = \"False\"\ncable_props[\"Remove_Cable\"] = \"False\"\ncable_props[\"Add_Source\"] = \"True\"\ncable_props[\"Source_prop\"][\"AddClockSource\"] = \"True\"\ncable_props[\"CableManager\"][\"TDSources\"][\"ClockSourceDef\"][\"ClockSignalParams\"][\"Period\"] = \"40us\"\ncable_props[\"CableManager\"][\"TDSources\"][\"ClockSourceDef\"][\"ClockSignalParams\"][\"LowPulseVal\"] = \"0.1V\"\ncable_props[\"CableManager\"][\"TDSources\"][\"ClockSourceDef\"][\"ClockSignalParams\"][\"HighPulseVal\"] = \"2V\"\ncable_props[\"CableManager\"][\"TDSources\"][\"ClockSourceDef\"][\"ClockSignalParams\"][\"Risetime\"] = \"5us\"\ncable_props[\"CableManager\"][\"TDSources\"][\"ClockSourceDef\"][\"ClockSignalParams\"][\"Falltime\"] = \"10us\"\ncable_props[\"CableManager\"][\"TDSources\"][\"ClockSourceDef\"][\"ClockSignalParams\"][\"PulseWidth\"] = \"23us\"\ncable_props[\"CableManager\"][\"TDSources\"][\"ClockSourceDef\"][\"TDSourceAttribs\"][\"Name\"] = \"clock_test_1\"\n\ncable = Cable(hfss, cable_props)\ncable.create_clock_source()\n\ncable_props[\"Add_Source\"] = \"False\"\ncable_props[\"Update_Source\"] = \"True\"\ncable_props[\"Source_prop\"][\"UpdateClockSource\"] = \"True\"\ncable_props[\"Source_prop\"][\"UpdatedSourceName\"] = \"update_clock_test_1\"\ncable_props[\"CableManager\"][\"TDSources\"][\"ClockSourceDef\"][\"TDSourceAttribs\"][\"Name\"] = \"clock_test_1\"\ncable_props[\"CableManager\"][\"TDSources\"][\"ClockSourceDef\"][\"ClockSignalParams\"][\"Period\"] = \"45us\"\ncable_props[\"CableManager\"][\"TDSources\"][\"ClockSourceDef\"][\"ClockSignalParams\"][\"LowPulseVal\"] = \"0.3V\"\ncable_props[\"CableManager\"][\"TDSources\"][\"ClockSourceDef\"][\"ClockSignalParams\"][\"HighPulseVal\"] = \"3V\"\ncable_props[\"CableManager\"][\"TDSources\"][\"ClockSourceDef\"][\"ClockSignalParams\"][\"Risetime\"] = \"4us\"\ncable_props[\"CableManager\"][\"TDSources\"][\"ClockSourceDef\"][\"ClockSignalParams\"][\"Falltime\"] = \"15us\"\ncable_props[\"CableManager\"][\"TDSources\"][\"ClockSourceDef\"][\"ClockSignalParams\"][\"PulseWidth\"] = \"26us\"\n\ncable = Cable(hfss, cable_props)\ncable.update_clock_source()"
      ]
    },
    {
      "cell_type": "markdown",
      "metadata": {},
      "source": [
        "## Create pwl sources\nCreate a pwl source.\n\n"
      ]
    },
    {
      "cell_type": "code",
      "execution_count": null,
      "metadata": {
        "collapsed": false
      },
      "outputs": [],
      "source": [
        "cable_props[\"Add_Cable\"] = \"False\"\ncable_props[\"Update_Cable\"] = \"False\"\ncable_props[\"Add_CablesToBundle\"] = \"False\"\ncable_props[\"Remove_Cable\"] = \"False\"\ncable_props[\"Add_Source\"] = \"True\"\ncable_props[\"Update_Source\"] = \"False\"\ncable_props[\"Source_prop\"][\"AddClockSource\"] = \"False\"\ncable_props[\"Source_prop\"][\"AddPwlSource\"] = \"True\"\ncable_props[\"CableManager\"][\"TDSources\"][\"PWLSourceDef\"][\"PWLSignalParams\"][\"SignalValues\"] = [\n            \"0V\",\n            \"0.5V\",\n            \"0V\",\n            \"3V\",\n            \"4V\",\n            \"0V\",\n        ]\ncable_props[\"CableManager\"][\"TDSources\"][\"PWLSourceDef\"][\"PWLSignalParams\"][\"TimeValues\"] = [\n            \"0ns\",\n            \"1ns\",\n            \"2ns\",\n            \"3ns\",\n            \"4ns\",\n            \"5ns\",\n        ]\ncable_props[\"CableManager\"][\"TDSources\"][\"PWLSourceDef\"][\"TDSourceAttribs\"][\"Name\"] = \"pwl4\"\n\ncable = Cable(hfss, cable_props)\ncable.create_pwl_source()\n\n# Update a pwl source.\n\ncable_props[\"Add_Source\"] = \"False\"\ncable_props[\"Update_Source\"] = \"True\"\ncable_props[\"Source_prop\"][\"AddClockSource\"] = \"False\"\ncable_props[\"Source_prop\"][\"AddPwlSource\"] = \"False\"\ncable_props[\"Source_prop\"][\"UpdateClockSource\"] = \"False\"\ncable_props[\"Source_prop\"][\"UpdatePwlSource\"] = \"True\"\ncable_props[\"Source_prop\"][\"UpdatedSourceName\"] = \"update_pwl_source\"\ncable_props[\"CableManager\"][\"TDSources\"][\"PWLSourceDef\"][\"PWLSignalParams\"][\"SignalValues\"] = [\n            \"0V\",\n            \"0.5V\",\n            \"0V\",\n            \"3V\",\n            \"4V\",\n            \"9V\",\n            \"0V\",\n        ]\ncable_props[\"CableManager\"][\"TDSources\"][\"PWLSourceDef\"][\"PWLSignalParams\"][\"TimeValues\"] = [\n            \"0ns\",\n            \"1ns\",\n            \"2ns\",\n            \"3ns\",\n            \"4ns\",\n            \"5ns\",\n            \"6ns\",\n        ]\ncable_props[\"CableManager\"][\"TDSources\"][\"PWLSourceDef\"][\"TDSourceAttribs\"][\"Name\"] = \"pwl1\"\ncable_props[\"Source_prop\"][\"UpdatedSourceName\"] = \"updated_pwl1\"\n\ncable = Cable(hfss, cable_props)\ncable.update_pwl_source()\n\n# Create a pwl source from file.\n\npwl_path = pyaedt.downloads.download_file(\"cable_modeling\", \"import_pwl.pwl\", temp_folder)\n\ncable_props[\"Add_Source\"] = \"True\"\ncable_props[\"Update_Source\"] = \"False\"\ncable_props[\"Source_prop\"][\"AddClockSource\"] = \"False\"\ncable_props[\"Source_prop\"][\"AddPwlSource\"] = \"True\"\ncable_props[\"Source_prop\"][\"UpdateClockSource\"] = \"False\"\ncable_props[\"Source_prop\"][\"UpdatePwlSource\"] = \"False\"\ncable_props[\"Source_prop\"][\"AddPwlSourceFromFile\"] = pwl_path\n\ncable = Cable(hfss, cable_props)\ncable.create_pwl_source_from_file()\n\n# Remove clock source.\n\ncable_props[\"Add_Cable\"] = \"False\"\ncable_props[\"Update_Cable\"] = \"False\"\ncable_props[\"Add_CablesToBundle\"] = \"False\"\ncable_props[\"Remove_Cable\"] = \"False\"\ncable_props[\"Add_Source\"] = \"False\"\ncable_props[\"Update_Source\"] = \"False\"\ncable_props[\"Remove_Source\"] = \"True\"\ncable_props[\"Source_prop\"][\"AddClockSource\"] = \"False\"\ncable_props[\"Source_prop\"][\"AddPwlSource\"] = \"False\"\ncable_props[\"Source_prop\"][\"SourcesToRemove\"] = \"update_clock_test_1\"\n\ncable = Cable(hfss, cable_props)\ncable.remove_source()"
      ]
    },
    {
      "cell_type": "markdown",
      "metadata": {},
      "source": [
        "## Create cable harness\nCreate cable harness.\n\n"
      ]
    },
    {
      "cell_type": "code",
      "execution_count": null,
      "metadata": {
        "collapsed": false
      },
      "outputs": [],
      "source": [
        "cable_props[\"Add_Cable\"] = \"False\"\ncable_props[\"Update_Cable\"] = \"False\"\ncable_props[\"Add_CablesToBundle\"] = \"False\"\ncable_props[\"Remove_Cable\"] = \"False\"\ncable_props[\"Add_Source\"] = \"False\"\ncable_props[\"Update_Source\"] = \"False\"\ncable_props[\"Remove_Source\"] = \"False\"\ncable_props[\"Add_CableHarness\"] = \"True\"\ncable_props[\"CableHarness_prop\"][\"Name\"] = \"cable_harness_test\"\ncable_props[\"CableHarness_prop\"][\"Bundle\"] = \"New_updated_name_cable_bundle_insulation\"\ncable_props[\"CableHarness_prop\"][\"TwistAngleAlongRoute\"] = \"20deg\"\ncable_props[\"CableHarness_prop\"][\"Polyline\"] = \"Polyline1\"\ncable_props[\"CableHarness_prop\"][\"AutoOrient\"] = \"False\"\ncable_props[\"CableHarness_prop\"][\"XAxis\"] = \"Undefined\"\ncable_props[\"CableHarness_prop\"][\"XAxisOrigin\"] = [\"0mm\", \"0mm\", \"0mm\"]\ncable_props[\"CableHarness_prop\"][\"XAxisEnd\"] = [\"0mm\", \"0mm\", \"0mm\"]\ncable_props[\"CableHarness_prop\"][\"ReverseYAxisDirection\"] = \"True\"\ncable_props[\"CableHarness_prop\"][\"CableTerminationsToInclude\"][0][\"CableName\"] = \"straight_wire_cable\"\ncable_props[\"CableHarness_prop\"][\"CableTerminationsToInclude\"][1][\"CableName\"] = \"straight_wire_cable1\"\ncable_props[\"CableHarness_prop\"][\"CableTerminationsToInclude\"][2][\"CableName\"] = \"straight_wire_cable2\"\n\ncable = Cable(hfss, cable_props)\ncable.create_cable_harness()"
      ]
    },
    {
      "cell_type": "markdown",
      "metadata": {},
      "source": [
        "## Plot model\nPlot the model.\n\n"
      ]
    },
    {
      "cell_type": "code",
      "execution_count": null,
      "metadata": {
        "collapsed": false
      },
      "outputs": [],
      "source": [
        "hfss.plot(show=False, export_path=os.path.join(hfss.working_directory, \"Cable.jpg\"), plot_air_objects=True)"
      ]
    },
    {
      "cell_type": "markdown",
      "metadata": {},
      "source": [
        "## Save project and close AEDT\nSave the project and close AEDT.\n\n"
      ]
    },
    {
      "cell_type": "code",
      "execution_count": null,
      "metadata": {
        "collapsed": false
      },
      "outputs": [],
      "source": [
        "hfss.save_project()\nhfss.release_desktop()"
      ]
    }
  ],
  "metadata": {
    "kernelspec": {
      "display_name": "Python 3",
      "language": "python",
      "name": "python3"
    },
    "language_info": {
      "codemirror_mode": {
        "name": "ipython",
        "version": 3
      },
      "file_extension": ".py",
      "mimetype": "text/x-python",
      "name": "python",
      "nbconvert_exporter": "python",
      "pygments_lexer": "ipython3",
      "version": "3.8.10"
    }
  },
  "nbformat": 4,
  "nbformat_minor": 0
}