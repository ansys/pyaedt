{
  "cells": [
    {
      "cell_type": "markdown",
      "metadata": {},
      "source": [
        "\n# EDB: geometry creation\nThis example shows how to\n1, Create a parameterized PCB layout design.\n2, Place 3D component on PCB.\n3, Create HFSS setup and frequency sweep with a mesh operation.\n4, Create return loss plot\n"
      ]
    },
    {
      "cell_type": "markdown",
      "metadata": {},
      "source": [
        "Final expected project\n ~~~~~~~~~~~~~~~~~~~~~~\n\n .. image:: ../../_static/edb_example_12_sma_connector_on_board.png\n  :width: 600\n  :alt: Differential Vias.\n#####################################################################\n\n"
      ]
    },
    {
      "cell_type": "markdown",
      "metadata": {},
      "source": [
        "Create parameterized PCB\n ~~~~~~~~~~~~~~~~~~~~~~~~\n Initialize an empty EDB layout object on version 2023 R2.\n#####################################################################\n\n"
      ]
    },
    {
      "cell_type": "code",
      "execution_count": null,
      "metadata": {
        "collapsed": false
      },
      "outputs": [],
      "source": [
        "import os\nimport numpy as np\nimport pyaedt\n\nansys_version = \"2023.2\"\n\naedb_path = os.path.join(pyaedt.generate_unique_folder_name(), pyaedt.generate_unique_name(\"pcb\") + \".aedb\")\nedb = pyaedt.Edb(edbpath=aedb_path, edbversion=ansys_version)\nprint(\"EDB is located at {}\".format(aedb_path))"
      ]
    },
    {
      "cell_type": "markdown",
      "metadata": {},
      "source": [
        "## Create FR4 material\n\n"
      ]
    },
    {
      "cell_type": "code",
      "execution_count": null,
      "metadata": {
        "collapsed": false
      },
      "outputs": [],
      "source": [
        "edb.materials.add_dielectric_material(\"ANSYS_FR4\", 3.5, 0.005)\n\n################\n# Create stackup\n# ~~~~~~~~~~~~~~\n# A stackup can be created by importing from a csv/xml file or adding layer by layer.\n#\n\nedb.add_design_variable(\"$DIEL_T\", \"0.15mm\")\nedb.stackup.add_layer(\"BOT\")\nedb.stackup.add_layer(\"D5\", \"GND\", layer_type=\"dielectric\", thickness=\"$DIEL_T\", material=\"ANSYS_FR4\")\nedb.stackup.add_layer(\"L5\", \"Diel\", thickness=\"0.05mm\")\nedb.stackup.add_layer(\"D4\", \"GND\", layer_type=\"dielectric\", thickness=\"$DIEL_T\", material=\"ANSYS_FR4\")\nedb.stackup.add_layer(\"L4\", \"Diel\", thickness=\"0.05mm\")\nedb.stackup.add_layer(\"D3\", \"GND\", layer_type=\"dielectric\", thickness=\"$DIEL_T\", material=\"ANSYS_FR4\")\nedb.stackup.add_layer(\"L3\", \"Diel\", thickness=\"0.05mm\")\nedb.stackup.add_layer(\"D2\", \"GND\", layer_type=\"dielectric\", thickness=\"$DIEL_T\", material=\"ANSYS_FR4\")\nedb.stackup.add_layer(\"L2\", \"Diel\", thickness=\"0.05mm\")\nedb.stackup.add_layer(\"D1\", \"GND\", layer_type=\"dielectric\", thickness=\"$DIEL_T\", material=\"ANSYS_FR4\")\nedb.stackup.add_layer(\"TOP\", \"Diel\", thickness=\"0.05mm\")"
      ]
    },
    {
      "cell_type": "markdown",
      "metadata": {},
      "source": [
        "## Create ground planes\n\n\n"
      ]
    },
    {
      "cell_type": "code",
      "execution_count": null,
      "metadata": {
        "collapsed": false
      },
      "outputs": [],
      "source": [
        "edb.add_design_variable(\"PCB_W\", \"20mm\")\nedb.add_design_variable(\"PCB_L\", \"20mm\")\n\ngnd_dict = {}\nfor layer_name in edb.stackup.signal_layers.keys():\n    gnd_dict[layer_name] = edb.modeler.create_rectangle(layer_name, \"GND\", [0, \"PCB_W/-2\"], [\"PCB_L\", \"PCB_W/2\"])\n\n###################\n# Create signal net\n# ~~~~~~~~~~~~~~~~~\n# Create signal net on layer 3, and add clearance to the ground plane.\n\nedb.add_design_variable(\"SIG_L\", \"10mm\")\nedb.add_design_variable(\"SIG_W\", \"0.1mm\")\nedb.add_design_variable(\"SIG_C\", \"0.3mm\")\n\nsignal_path = ([\"5mm\", 0], [\"SIG_L+5mm\", 0])\nsignal_trace = edb.modeler.create_trace(signal_path, \"L3\", \"SIG_W\", \"SIG\", \"Flat\", \"Flat\")\n\nsignal_path = ([\"5mm\", 0], [\"PCB_L\", 0])\nclr = edb.modeler.create_trace(signal_path, \"L3\", \"SIG_C*2+SIG_W\", \"SIG\", \"Flat\", \"Flat\")\ngnd_dict[\"L3\"].add_void(clr)"
      ]
    },
    {
      "cell_type": "markdown",
      "metadata": {},
      "source": [
        "## Create signal vias\nCreate via padstack definition. Place the signal vias.\n\n"
      ]
    },
    {
      "cell_type": "code",
      "execution_count": null,
      "metadata": {
        "collapsed": false
      },
      "outputs": [],
      "source": [
        "edb.add_design_variable(\"SG_VIA_D\", \"1mm\")\n\nedb.add_design_variable(\"$VIA_AP_D\", \"1.2mm\")\n\nedb.padstacks.create(\"ANSYS_VIA\", \"0.3mm\", \"0.5mm\", \"$VIA_AP_D\")\n\nedb.padstacks.place([\"5mm\", 0], \"ANSYS_VIA\", \"SIG\")"
      ]
    },
    {
      "cell_type": "markdown",
      "metadata": {},
      "source": [
        "## Create ground vias around signal via\n\n"
      ]
    },
    {
      "cell_type": "code",
      "execution_count": null,
      "metadata": {
        "collapsed": false
      },
      "outputs": [],
      "source": [
        "for i in np.arange(30, 331, 30):\n    px = np.cos(i / 180 * np.pi)\n    py = np.sin(i / 180 * np.pi)\n    edb.padstacks.place([\"{}*{}+5mm\".format(\"SG_VIA_D\", px), \"{}*{}\".format(\"SG_VIA_D\", py)], \"ANSYS_VIA\", \"GND\")"
      ]
    },
    {
      "cell_type": "markdown",
      "metadata": {},
      "source": [
        "## Create ground vias along signal trace\n\n"
      ]
    },
    {
      "cell_type": "code",
      "execution_count": null,
      "metadata": {
        "collapsed": false
      },
      "outputs": [],
      "source": [
        "for i in np.arange(2e-3, edb.variables[\"SIG_L\"].value - 2e-3, 2e-3):\n    edb.padstacks.place([\"{}+5mm\".format(i), \"1mm\"], \"ANSYS_VIA\", \"GND\")\n    edb.padstacks.place([\"{}+5mm\".format(i), \"-1mm\"], \"ANSYS_VIA\", \"GND\")"
      ]
    },
    {
      "cell_type": "markdown",
      "metadata": {},
      "source": [
        "## Create a wave port at the end of the signal trace\n\n"
      ]
    },
    {
      "cell_type": "code",
      "execution_count": null,
      "metadata": {
        "collapsed": false
      },
      "outputs": [],
      "source": [
        "signal_trace.create_edge_port(\"port_1\", \"End\", \"Wave\", horizontal_extent_factor=10)\n\n##################\n# Set hfss options\n# ~~~~~~~~~~~~~~~~\n\nedb.design_options.antipads_always_on = True\nedb.hfss.hfss_extent_info.air_box_horizontal_extent = 0.01\nedb.hfss.hfss_extent_info.air_box_positive_vertical_extent = 2\nedb.hfss.hfss_extent_info.air_box_negative_vertical_extent = 2\n\n##############\n# Create setup\n# ~~~~~~~~~~~~\n\nsetup = edb.create_hfss_setup(\"Setup1\")\nsetup.set_solution_single_frequency(\"5GHz\", max_num_passes=2, max_delta_s=\"0.01\")\nsetup.hfss_solver_settings.order_basis = \"first\""
      ]
    },
    {
      "cell_type": "markdown",
      "metadata": {},
      "source": [
        "## Add mesh operation to setup\n\n"
      ]
    },
    {
      "cell_type": "code",
      "execution_count": null,
      "metadata": {
        "collapsed": false
      },
      "outputs": [],
      "source": [
        "edb.setups[\"Setup1\"].add_length_mesh_operation({\"SIG\": [\"L3\"]}, \"m1\", max_length=\"0.1mm\")"
      ]
    },
    {
      "cell_type": "markdown",
      "metadata": {},
      "source": [
        "## Add frequency sweep to setup\n\n"
      ]
    },
    {
      "cell_type": "code",
      "execution_count": null,
      "metadata": {
        "collapsed": false
      },
      "outputs": [],
      "source": [
        "setup.add_frequency_sweep(\n    \"Sweep1\",\n    frequency_sweep=[\n        [\"linear count\", \"0\", \"1KHz\", 1],\n        [\"log scale\", \"1KHz\", \"0.1GHz\", 10],\n        [\"linear scale\", \"0.1GHz\", \"5GHz\", \"0.1GHz\"],\n    ],\n)"
      ]
    },
    {
      "cell_type": "markdown",
      "metadata": {},
      "source": [
        "## Save and close EDB\n\n"
      ]
    },
    {
      "cell_type": "code",
      "execution_count": null,
      "metadata": {
        "collapsed": false
      },
      "outputs": [],
      "source": [
        "edb.save_edb()\nedb.close_edb()"
      ]
    },
    {
      "cell_type": "markdown",
      "metadata": {},
      "source": [
        "## Launch Hfss3dLayout\n\n"
      ]
    },
    {
      "cell_type": "code",
      "execution_count": null,
      "metadata": {
        "collapsed": false
      },
      "outputs": [],
      "source": [
        "h3d = pyaedt.Hfss3dLayout(aedb_path, specified_version=ansys_version, new_desktop_session=True)"
      ]
    },
    {
      "cell_type": "markdown",
      "metadata": {},
      "source": [
        "## Place 3D component\n\n"
      ]
    },
    {
      "cell_type": "code",
      "execution_count": null,
      "metadata": {
        "collapsed": false
      },
      "outputs": [],
      "source": [
        "component3d = pyaedt.downloads.download_file(\"component_3d\", \"SMA_RF_SURFACE_MOUNT.a3dcomp\",)\n\ncomp = h3d.modeler.place_3d_component(\n    component_path=component3d, number_of_terminals=1, placement_layer=\"TOP\", component_name=\"my_connector\",\n    pos_x=\"5mm\", pos_y=0.000)\n\n##########\n# Analysis\n# ~~~~~~~~\nh3d.analyze(num_cores=4)"
      ]
    },
    {
      "cell_type": "markdown",
      "metadata": {},
      "source": [
        "## Create return loss plot\n\n"
      ]
    },
    {
      "cell_type": "code",
      "execution_count": null,
      "metadata": {
        "collapsed": false
      },
      "outputs": [],
      "source": [
        "h3d.post.create_report(\"dB(S(port_1, port_1))\")"
      ]
    },
    {
      "cell_type": "markdown",
      "metadata": {},
      "source": [
        "## Save and close the project\n\n"
      ]
    },
    {
      "cell_type": "code",
      "execution_count": null,
      "metadata": {
        "collapsed": false
      },
      "outputs": [],
      "source": [
        "h3d.save_project()\nprint(\"Project is saved to {}\".format(h3d.project_path))\nh3d.release_desktop(True, True)"
      ]
    }
  ],
  "metadata": {
    "kernelspec": {
      "display_name": "Python 3",
      "language": "python",
      "name": "python3"
    },
    "language_info": {
      "codemirror_mode": {
        "name": "ipython",
        "version": 3
      },
      "file_extension": ".py",
      "mimetype": "text/x-python",
      "name": "python",
      "nbconvert_exporter": "python",
      "pygments_lexer": "ipython3",
      "version": "3.10.5"
    }
  },
  "nbformat": 4,
  "nbformat_minor": 0
}