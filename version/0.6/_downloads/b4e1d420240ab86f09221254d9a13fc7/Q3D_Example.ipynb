{
  "cells": [
    {
      "cell_type": "code",
      "execution_count": null,
      "metadata": {
        "collapsed": false
      },
      "outputs": [],
      "source": [
        "%matplotlib inline"
      ]
    },
    {
      "cell_type": "markdown",
      "metadata": {},
      "source": [
        "\n# Q3D Extractor: busbar analysis\nThis example shows how you can use PyAEDT to create a busbar design in\nQ3D Extractor and run a simulation.\n"
      ]
    },
    {
      "cell_type": "markdown",
      "metadata": {},
      "source": [
        "## Perform required imports\nPerform required imports.\n\n"
      ]
    },
    {
      "cell_type": "code",
      "execution_count": null,
      "metadata": {
        "collapsed": false
      },
      "outputs": [],
      "source": [
        "import os\nimport pyaedt"
      ]
    },
    {
      "cell_type": "markdown",
      "metadata": {},
      "source": [
        "## Set non-graphical mode\nSet non-graphical mode. ``\"PYAEDT_NON_GRAPHICAL\"`` is needed to generate\ndocumentation only.\nYou can set ``non_graphical`` either to ``True`` or ``False``.\n\n"
      ]
    },
    {
      "cell_type": "code",
      "execution_count": null,
      "metadata": {
        "collapsed": false
      },
      "outputs": [],
      "source": [
        "non_graphical = False"
      ]
    },
    {
      "cell_type": "markdown",
      "metadata": {},
      "source": [
        "## Launch AEDT and Q3D Extractor\nLaunch AEDT 2023 R1 in graphical mode and launch Q3D Extractor. This example uses SI units.\n\n"
      ]
    },
    {
      "cell_type": "code",
      "execution_count": null,
      "metadata": {
        "collapsed": false
      },
      "outputs": [],
      "source": [
        "q = pyaedt.Q3d(projectname=pyaedt.generate_unique_project_name(),\n               specified_version=\"2023.1\",\n               non_graphical=non_graphical,\n               new_desktop_session=True)"
      ]
    },
    {
      "cell_type": "markdown",
      "metadata": {},
      "source": [
        "## Create primitives\nCreate polylines for three busbars and a box for the substrate.\n\n"
      ]
    },
    {
      "cell_type": "code",
      "execution_count": null,
      "metadata": {
        "collapsed": false
      },
      "outputs": [],
      "source": [
        "b1 = q.modeler.create_polyline(\n    [[0, 0, 0], [-100, 0, 0]],\n    name=\"Bar1\",\n    matname=\"copper\",\n    xsection_type=\"Rectangle\",\n    xsection_width=\"5mm\",\n    xsection_height=\"1mm\",\n)\nq.modeler[\"Bar1\"].color = (255, 0, 0)\n\nq.modeler.create_polyline(\n    [[0, -15, 0], [-150, -15, 0]],\n    name=\"Bar2\",\n    matname=\"aluminum\",\n    xsection_type=\"Rectangle\",\n    xsection_width=\"5mm\",\n    xsection_height=\"1mm\",\n)\nq.modeler[\"Bar2\"].color = (0, 255, 0)\n\nq.modeler.create_polyline(\n    [[0, -30, 0], [-175, -30, 0], [-175, -10, 0]],\n    name=\"Bar3\",\n    matname=\"copper\",\n    xsection_type=\"Rectangle\",\n    xsection_width=\"5mm\",\n    xsection_height=\"1mm\",\n)\nq.modeler[\"Bar3\"].color = (0, 0, 255)\n\nq.modeler.create_box([50, 30, -0.5], [-250, -100, -3], name=\"substrate\", matname=\"FR4_epoxy\")\nq.modeler[\"substrate\"].color = (128, 128, 128)\nq.modeler[\"substrate\"].transparency = 0.8\n\nq.plot(show=False, export_path=os.path.join(q.working_directory, \"Q3D.jpg\"), plot_air_objects=False)"
      ]
    },
    {
      "cell_type": "markdown",
      "metadata": {},
      "source": [
        "## Set up boundaries\nIdentify nets and assign sources and sinks to all nets.\nThere is a source and sink for each busbar.\n\n"
      ]
    },
    {
      "cell_type": "code",
      "execution_count": null,
      "metadata": {
        "collapsed": false
      },
      "outputs": [],
      "source": [
        "q.auto_identify_nets()\n\nq.assign_source_to_objectface(\"Bar1\", axisdir=q.AxisDir.XPos, source_name=\"Source1\")\nq.assign_sink_to_objectface(\"Bar1\", axisdir=q.AxisDir.XNeg, sink_name=\"Sink1\")\n\nq.assign_source_to_objectface(\"Bar2\", axisdir=q.AxisDir.XPos, source_name=\"Source2\")\nq.assign_sink_to_objectface(\"Bar2\", axisdir=q.AxisDir.XNeg, sink_name=\"Sink2\")\nq.assign_source_to_objectface(\"Bar3\", axisdir=q.AxisDir.XPos, source_name=\"Source3\")\nbar3_sink = q.assign_sink_to_objectface(\"Bar3\", axisdir=q.AxisDir.YPos)\nbar3_sink.name = \"Sink3\""
      ]
    },
    {
      "cell_type": "markdown",
      "metadata": {},
      "source": [
        "## Print information\nUse the different methods available to print net and terminal information.\n\n"
      ]
    },
    {
      "cell_type": "code",
      "execution_count": null,
      "metadata": {
        "collapsed": false
      },
      "outputs": [],
      "source": [
        "print(q.nets)\nprint(q.net_sinks(\"Bar1\"))\nprint(q.net_sinks(\"Bar2\"))\nprint(q.net_sinks(\"Bar3\"))\nprint(q.net_sources(\"Bar1\"))\nprint(q.net_sources(\"Bar2\"))\nprint(q.net_sources(\"Bar3\"))"
      ]
    },
    {
      "cell_type": "markdown",
      "metadata": {},
      "source": [
        "## Create setup\nCreate a setup for Q3D Extractor and add a sweep that defines the adaptive\nfrequency value.\n\n"
      ]
    },
    {
      "cell_type": "code",
      "execution_count": null,
      "metadata": {
        "collapsed": false
      },
      "outputs": [],
      "source": [
        "setup1 = q.create_setup(props={\"AdaptiveFreq\": \"100MHz\"})\nsw1 = setup1.add_sweep()\nsw1.props[\"RangeStart\"] = \"1MHz\"\nsw1.props[\"RangeEnd\"] = \"100MHz\"\nsw1.props[\"RangeStep\"] = \"5MHz\"\nsw1.update()"
      ]
    },
    {
      "cell_type": "markdown",
      "metadata": {},
      "source": [
        "## Get curves to plot\nGet the curves to plot. The following code simplifies the way to get curves.\n\n"
      ]
    },
    {
      "cell_type": "code",
      "execution_count": null,
      "metadata": {
        "collapsed": false
      },
      "outputs": [],
      "source": [
        "data_plot_self = q.matrices[0].get_sources_for_plot(get_self_terms=True, get_mutual_terms=False)\ndata_plot_mutual = q.get_traces_for_plot(get_self_terms=False, get_mutual_terms=True, category=\"C\")\ndata_plot_self\ndata_plot_mutual"
      ]
    },
    {
      "cell_type": "markdown",
      "metadata": {},
      "source": [
        "## Create rectangular plot\nCreate a rectangular plot and a data table.\n\n"
      ]
    },
    {
      "cell_type": "code",
      "execution_count": null,
      "metadata": {
        "collapsed": false
      },
      "outputs": [],
      "source": [
        "q.post.create_report(expressions=data_plot_self)\nq.post.create_report(expressions=data_plot_mutual, context=\"Original\", plot_type=\"Data Table\")"
      ]
    },
    {
      "cell_type": "markdown",
      "metadata": {},
      "source": [
        "## Solve setup\nSolve the setup.\n\n"
      ]
    },
    {
      "cell_type": "code",
      "execution_count": null,
      "metadata": {
        "collapsed": false
      },
      "outputs": [],
      "source": [
        "q.analyze()\nq.save_project()"
      ]
    },
    {
      "cell_type": "markdown",
      "metadata": {},
      "source": [
        "## Get report data\nGet the report data into a data structure that allows you to manipulate it.\n\n"
      ]
    },
    {
      "cell_type": "code",
      "execution_count": null,
      "metadata": {
        "collapsed": false
      },
      "outputs": [],
      "source": [
        "a = q.post.get_solution_data(expressions=data_plot_self, context=\"Original\")\na.intrinsics[\"Freq\"]\na.data_magnitude()\na.plot()"
      ]
    },
    {
      "cell_type": "markdown",
      "metadata": {},
      "source": [
        "## Close AEDT\nAfter the simulation completes, you can close AEDT or release it using the\n``release_desktop`` method. All methods provide for saving projects before closing.\n\n"
      ]
    },
    {
      "cell_type": "code",
      "execution_count": null,
      "metadata": {
        "collapsed": false
      },
      "outputs": [],
      "source": [
        "q.release_desktop(close_projects=True, close_desktop=True)"
      ]
    }
  ],
  "metadata": {
    "kernelspec": {
      "display_name": "Python 3",
      "language": "python",
      "name": "python3"
    },
    "language_info": {
      "codemirror_mode": {
        "name": "ipython",
        "version": 3
      },
      "file_extension": ".py",
      "mimetype": "text/x-python",
      "name": "python",
      "nbconvert_exporter": "python",
      "pygments_lexer": "ipython3",
      "version": "3.8.10"
    }
  },
  "nbformat": 4,
  "nbformat_minor": 0
}