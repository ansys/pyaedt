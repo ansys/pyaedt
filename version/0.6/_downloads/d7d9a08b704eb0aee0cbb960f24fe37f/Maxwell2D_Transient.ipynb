{
  "cells": [
    {
      "cell_type": "markdown",
      "metadata": {},
      "source": [
        "\n# Maxwell 2D: transient winding analysis\nThis example shows how you can use PyAEDT to create a project in Maxwell 2D\nand run a transient simulation. It runs only on Windows using CPython.\n\nThe following libraries are required for the advanced postprocessing features\nused in this example:\n\n- [Matplotlib](https://pypi.org/project/matplotlib/)\n- [Numpty](https://pypi.org/project/numpy/)\n- [PyVista](https://pypi.org/project/pyvista/)\n\nInstall these libraries with:\n\n.. code::\n\n   pip install numpy pyvista matplotlib\n"
      ]
    },
    {
      "cell_type": "markdown",
      "metadata": {},
      "source": [
        "## Perform required imports\nPerform required imports.\n\n"
      ]
    },
    {
      "cell_type": "code",
      "execution_count": null,
      "metadata": {
        "collapsed": false
      },
      "outputs": [],
      "source": [
        "import os\nimport pyaedt"
      ]
    },
    {
      "cell_type": "markdown",
      "metadata": {},
      "source": [
        "## Set non-graphical mode\nSet non-graphical mode. \nYou can set ``non_graphical`` either to ``True`` or ``False``.\n\n"
      ]
    },
    {
      "cell_type": "code",
      "execution_count": null,
      "metadata": {
        "collapsed": false
      },
      "outputs": [],
      "source": [
        "non_graphical = False"
      ]
    },
    {
      "cell_type": "markdown",
      "metadata": {},
      "source": [
        "## Insert Maxwell 2D design and save project\nInsert a Maxwell 2D design and save the project.\n\n"
      ]
    },
    {
      "cell_type": "code",
      "execution_count": null,
      "metadata": {
        "collapsed": false
      },
      "outputs": [],
      "source": [
        "maxwell_2d = pyaedt.Maxwell2d(solution_type=\"TransientXY\", specified_version=\"2023.2\", non_graphical=non_graphical,\n                              new_desktop_session=True, projectname=pyaedt.generate_unique_project_name())"
      ]
    },
    {
      "cell_type": "markdown",
      "metadata": {},
      "source": [
        "## Create rectangle and duplicate it\nCreate a rectangle and duplicate it.\n\n"
      ]
    },
    {
      "cell_type": "code",
      "execution_count": null,
      "metadata": {
        "collapsed": false
      },
      "outputs": [],
      "source": [
        "rect1 = maxwell_2d.modeler.create_rectangle([0, 0, 0], [10, 20], name=\"winding\", matname=\"copper\")\nadded = rect1.duplicate_along_line([14, 0, 0])\nrect2 = maxwell_2d.modeler[added[0]]"
      ]
    },
    {
      "cell_type": "markdown",
      "metadata": {},
      "source": [
        "## Create air region\nCreate an air region.\n\n"
      ]
    },
    {
      "cell_type": "code",
      "execution_count": null,
      "metadata": {
        "collapsed": false
      },
      "outputs": [],
      "source": [
        "region = maxwell_2d.modeler.create_region([100, 100, 100, 100, 100, 100])"
      ]
    },
    {
      "cell_type": "markdown",
      "metadata": {},
      "source": [
        "## Assign windings and balloon\nAssigns windings to the sheets and a balloon to the air region.\n\n"
      ]
    },
    {
      "cell_type": "code",
      "execution_count": null,
      "metadata": {
        "collapsed": false
      },
      "outputs": [],
      "source": [
        "maxwell_2d.assign_winding([rect1.name, rect2.name], name=\"PHA\")\nmaxwell_2d.assign_balloon(region.edges)"
      ]
    },
    {
      "cell_type": "markdown",
      "metadata": {},
      "source": [
        "## Plot model\nPlot the model.\n\n"
      ]
    },
    {
      "cell_type": "code",
      "execution_count": null,
      "metadata": {
        "collapsed": false
      },
      "outputs": [],
      "source": [
        "maxwell_2d.plot(show=False, export_path=os.path.join(maxwell_2d.working_directory, \"Image.jpg\"), plot_air_objects=True)"
      ]
    },
    {
      "cell_type": "markdown",
      "metadata": {},
      "source": [
        "## Create setup\nCreate the transient setup.\n\n"
      ]
    },
    {
      "cell_type": "code",
      "execution_count": null,
      "metadata": {
        "collapsed": false
      },
      "outputs": [],
      "source": [
        "setup = maxwell_2d.create_setup()\nsetup.props[\"StopTime\"] = \"0.02s\"\nsetup.props[\"TimeStep\"] = \"0.0002s\"\nsetup.props[\"SaveFieldsType\"] = \"Every N Steps\"\nsetup.props[\"N Steps\"] = \"1\"\nsetup.props[\"Steps From\"] = \"0s\"\nsetup.props[\"Steps To\"] = \"0.002s\""
      ]
    },
    {
      "cell_type": "markdown",
      "metadata": {},
      "source": [
        "## Create rectangular plot\nCreate a rectangular plot.\n\n"
      ]
    },
    {
      "cell_type": "code",
      "execution_count": null,
      "metadata": {
        "collapsed": false
      },
      "outputs": [],
      "source": [
        "maxwell_2d.post.create_report(\n    \"InputCurrent(PHA)\", domain=\"Time\", primary_sweep_variable=\"Time\", plotname=\"Winding Plot 1\"\n)"
      ]
    },
    {
      "cell_type": "markdown",
      "metadata": {},
      "source": [
        "## Solve model\nSolve the model.\n\n"
      ]
    },
    {
      "cell_type": "code",
      "execution_count": null,
      "metadata": {
        "collapsed": false
      },
      "outputs": [],
      "source": [
        "maxwell_2d.analyze(use_auto_settings=False)"
      ]
    },
    {
      "cell_type": "markdown",
      "metadata": {},
      "source": [
        "## Create output and plot using PyVista\nCreate the output and plot it using PyVista.\n\n"
      ]
    },
    {
      "cell_type": "code",
      "execution_count": null,
      "metadata": {
        "collapsed": false
      },
      "outputs": [],
      "source": [
        "cutlist = [\"Global:XY\"]\nface_lists = rect1.faces\nface_lists += rect2.faces\ntimesteps = [str(i * 2e-4) + \"s\" for i in range(11)]\nid_list = [f.id for f in face_lists]\n\nanimatedGif = maxwell_2d.post.plot_animated_field(\n    \"Mag_B\",\n    id_list,\n    \"Surface\",\n    intrinsics={\"Time\": \"0s\"},\n    variation_variable=\"Time\",\n    variation_list=timesteps,\n    show=False,\n    export_gif=False,\n)\nanimatedGif.isometric_view = False\nanimatedGif.camera_position = [15, 15, 80]\nanimatedGif.focal_point = [15, 15, 0]\nanimatedGif.roll_angle = 0\nanimatedGif.elevation_angle = 0\nanimatedGif.azimuth_angle = 0\n# Set off_screen to False to visualize the animation.\n# animatedGif.off_screen = False\nanimatedGif.animate()"
      ]
    },
    {
      "cell_type": "markdown",
      "metadata": {},
      "source": [
        "## Generate plot outside of AEDT\nGenerate the same plot outside AEDT.\n\n"
      ]
    },
    {
      "cell_type": "code",
      "execution_count": null,
      "metadata": {
        "collapsed": false
      },
      "outputs": [],
      "source": [
        "solutions = maxwell_2d.post.get_solution_data(\"InputCurrent(PHA)\", primary_sweep_variable=\"Time\")\nsolutions.plot()"
      ]
    },
    {
      "cell_type": "markdown",
      "metadata": {},
      "source": [
        "## Close AEDT\nClose AEDT.\n\n"
      ]
    },
    {
      "cell_type": "code",
      "execution_count": null,
      "metadata": {
        "collapsed": false
      },
      "outputs": [],
      "source": [
        "maxwell_2d.release_desktop()"
      ]
    }
  ],
  "metadata": {
    "kernelspec": {
      "display_name": "Python 3",
      "language": "python",
      "name": "python3"
    },
    "language_info": {
      "codemirror_mode": {
        "name": "ipython",
        "version": 3
      },
      "file_extension": ".py",
      "mimetype": "text/x-python",
      "name": "python",
      "nbconvert_exporter": "python",
      "pygments_lexer": "ipython3",
      "version": "3.10.5"
    }
  },
  "nbformat": 4,
  "nbformat_minor": 0
}