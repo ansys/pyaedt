{
  "cells": [
    {
      "cell_type": "markdown",
      "metadata": {},
      "source": [
        "\n# Icepak: Importing a PCB and its components via IDF and EDB\nThis example shows how to import a PCB and its components using IDF files (*.ldb/*.bdf). \nThe *.emn/*.emp combination can also be used in a similar way.\n"
      ]
    },
    {
      "cell_type": "markdown",
      "metadata": {},
      "source": [
        "## Perform required imports\nPerform required imports including the opertaing system, Ansys PyAEDT packages.\n\n"
      ]
    },
    {
      "cell_type": "code",
      "execution_count": null,
      "metadata": {
        "collapsed": false
      },
      "outputs": [],
      "source": [
        "# Generic Python packages \n\nimport os \n\n# PyAEDT Packages\nimport pyaedt\nfrom pyaedt import Icepak\nfrom pyaedt import Desktop\nfrom pyaedt import Hfss3dLayout\nfrom pyaedt.modules.Boundary import BoundaryObject"
      ]
    },
    {
      "cell_type": "markdown",
      "metadata": {},
      "source": [
        "## Set non-graphical mode\nSet non-graphical mode. \nYou can set ``non_graphical`` either to ``True`` or ``False``.\n\n"
      ]
    },
    {
      "cell_type": "code",
      "execution_count": null,
      "metadata": {
        "collapsed": false
      },
      "outputs": [],
      "source": [
        "non_graphical = False"
      ]
    },
    {
      "cell_type": "markdown",
      "metadata": {},
      "source": [
        "## Download and open project\nDownload the project, open it, and save it to the temporary folder.\n\n"
      ]
    },
    {
      "cell_type": "code",
      "execution_count": null,
      "metadata": {
        "collapsed": false
      },
      "outputs": [],
      "source": [
        "temp_folder = pyaedt.generate_unique_folder_name()\n\nipk = pyaedt.Icepak(projectname=os.path.join(temp_folder, \"Icepak_ECAD_Import.aedt\"),\n                    specified_version=\"2023.2\",\n                    new_desktop_session=True,\n                    non_graphical=non_graphical\n                    )\n\nipk.autosave_disable()                                                    # Saves the project"
      ]
    },
    {
      "cell_type": "markdown",
      "metadata": {},
      "source": [
        "## Import the IDF files\nSample *.bdf and *.ldf files are presented here.\n\n\n<img src=\"file://../../_static/bdf.png\" width=\"400\" alt=\"BDF image.\">\n\n\n<img src=\"file://../../_static/ldf.png\" width=\"400\" alt=\"LDF image.\">\n\n\nImports the idf files with several filtering options incluing caps, resistors, inductors, power, size, ...\nThere are also options for the PCB creation (number o flayers, copper percentages, layer sizes). \nIn this examples, the default values are used for the PCB.\nThe imported PCB here will be deleted later and replaced by a PCB that has the trace information for higher accuracy.\n\n"
      ]
    },
    {
      "cell_type": "code",
      "execution_count": null,
      "metadata": {
        "collapsed": false
      },
      "outputs": [],
      "source": [
        "def_path = pyaedt.downloads.download_file('icepak/Icepak_ECAD_Import/A1_uprev.aedb','edb.def',temp_folder)\nboard_path = pyaedt.downloads.download_file('icepak/Icepak_ECAD_Import/','A1.bdf',temp_folder)\nlibrary_path = pyaedt.downloads.download_file('icepak/Icepak_ECAD_Import/','A1.ldf',temp_folder)\n\nipk.import_idf(board_path, library_path=None, control_path=None, \n                  filter_cap=False, filter_ind=False, filter_res=False, \n                  filter_height_under=None, filter_height_exclude_2d=False, \n                  power_under=None, create_filtered_as_non_model=False, \n                  high_surface_thick='0.07mm', low_surface_thick='0.07mm', \n                  internal_thick='0.07mm', internal_layer_number=2, \n                  high_surface_coverage=30, low_surface_coverage=30, \n                  internal_layer_coverage=30, trace_material='Cu-Pure', \n                  substrate_material='FR-4', create_board=True, \n                  model_board_as_rect=False, model_device_as_rect=True, \n                  cutoff_height='5mm', component_lib='')"
      ]
    },
    {
      "cell_type": "markdown",
      "metadata": {},
      "source": [
        "## Fit to scale, save the project\n\n"
      ]
    },
    {
      "cell_type": "code",
      "execution_count": null,
      "metadata": {
        "collapsed": false
      },
      "outputs": [],
      "source": [
        "ipk.modeler.fit_all()    # scales to fit all objects in AEDT\nipk.save_project()       # saves the project"
      ]
    },
    {
      "cell_type": "markdown",
      "metadata": {},
      "source": [
        "## Add an HFSS 3D Layout design with the layout information of the PCB\n\n"
      ]
    },
    {
      "cell_type": "code",
      "execution_count": null,
      "metadata": {
        "collapsed": false
      },
      "outputs": [],
      "source": [
        "Layout_name = 'A1_uprev'          # 3D layout name available for import, the extension of .aedb should not be listed here\n\nhfss3dLO = Hfss3dLayout('Icepak_ECAD_Import', 'PCB_temp')      # adding a dummy HFSS 3D layout to the current project\n\n#edb_full_path = os.path.join(os.getcwd(), Layout_name+'.aedb\\edb.def')   # path to the EDB file\nhfss3dLO.import_edb(def_path)                                       # importing the EDB file           \nhfss3dLO.save_project()                                                  # save the new project so files are stored in the path     \n\nipk.delete_design(name='PCB_temp', fallback_design=None)                 # deleting the dummy layout from the original project\n\n# This part creates a 3D component PCB in Icepak from the imported EDB file\n# 1 watt is assigned to the PCB as power input\n\ncomponent_name = \"PCB_ECAD\"\n\nodb_path = os.path.join(temp_folder, 'icepak/Icepak_ECAD_Import/'+Layout_name+'.aedt')\nipk.create_pcb_from_3dlayout(\n    component_name, odb_path, Layout_name, resolution=2, extenttype=\"Polygon\", outlinepolygon='poly_0', \n    custom_x_resolution=None, custom_y_resolution=None,power_in=1)"
      ]
    },
    {
      "cell_type": "markdown",
      "metadata": {},
      "source": [
        "## Delete PCB objects\nDelete the PCB object from IDF import.\n\n"
      ]
    },
    {
      "cell_type": "code",
      "execution_count": null,
      "metadata": {
        "collapsed": false
      },
      "outputs": [],
      "source": [
        "ipk.modeler.delete_objects_containing(\"IDF_BoardOutline\", False)"
      ]
    },
    {
      "cell_type": "markdown",
      "metadata": {},
      "source": [
        "## Compute power budget\n\n"
      ]
    },
    {
      "cell_type": "code",
      "execution_count": null,
      "metadata": {
        "collapsed": false
      },
      "outputs": [],
      "source": [
        "# creates a setup to be able to calculate the power\nipk.create_setup(\"setup1\")\n\npower_budget, total = ipk.post.power_budget(\"W\")\nprint(total)"
      ]
    },
    {
      "cell_type": "markdown",
      "metadata": {},
      "source": [
        "## Closing and releasing AEDT\n\n"
      ]
    },
    {
      "cell_type": "code",
      "execution_count": null,
      "metadata": {
        "collapsed": false
      },
      "outputs": [],
      "source": [
        "ipk.close_project()      # close the project\nipk.release_desktop()    # release the AEDT session.  If this step is missing, AEDT cannot be closed."
      ]
    }
  ],
  "metadata": {
    "kernelspec": {
      "display_name": "Python 3",
      "language": "python",
      "name": "python3"
    },
    "language_info": {
      "codemirror_mode": {
        "name": "ipython",
        "version": 3
      },
      "file_extension": ".py",
      "mimetype": "text/x-python",
      "name": "python",
      "nbconvert_exporter": "python",
      "pygments_lexer": "ipython3",
      "version": "3.10.5"
    }
  },
  "nbformat": 4,
  "nbformat_minor": 0
}