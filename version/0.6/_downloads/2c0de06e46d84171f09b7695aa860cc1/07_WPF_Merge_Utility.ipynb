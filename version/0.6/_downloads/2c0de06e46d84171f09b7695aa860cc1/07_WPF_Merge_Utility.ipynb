{
  "cells": [
    {
      "cell_type": "code",
      "execution_count": null,
      "metadata": {
        "collapsed": false
      },
      "outputs": [],
      "source": [
        "%matplotlib inline"
      ]
    },
    {
      "cell_type": "markdown",
      "metadata": {},
      "source": [
        "\n# EDB: merge utility\n\nThis example shows how you can use the PyAEDT toolkit to create the WPF (Windows\nPresentation Foundation) for Windows usage. It runs a merge between two\nEDBs (package on board).\n"
      ]
    },
    {
      "cell_type": "markdown",
      "metadata": {},
      "source": [
        "## Download example\n\nThe example contains everything that you need to run it.\nYou can customize the JSON file to change the settings.\n\n"
      ]
    },
    {
      "cell_type": "code",
      "execution_count": null,
      "metadata": {
        "collapsed": false
      },
      "outputs": [],
      "source": [
        "import tempfile\n\nfrom pyaedt.downloads import download_edb_merge_utility\n\npython_file = download_edb_merge_utility(force_download=True, destination=tempfile.gettempdir())\ndesktop_version = \"2023.1\""
      ]
    },
    {
      "cell_type": "markdown",
      "metadata": {},
      "source": [
        "## Launch Python script\n\nYou can launch a Python script in AEDT (**Tools->Run Script**) \nor from the CPython command line.\n\nFor this example, four items are downloaded:\n\n- ``package.aedb`` folder contains a package example.\n- ``board.aedb`` folder contains a board example.\n- ``merge_wizard.py`` file contains the Python script to run.\n- ``merge_wizard_settings.json`` file contains the settings.\n\nYou can launch the ``merge_wizard.py`` file in AEDT (**Tools->Run Script**)\nor from the # CPython command line. This script works only on Windows with UI.\n\nThe ``merge_wizard_settings.json`` file contains default settings that can be\nused in any other project to automatically load all settings.\n\nYou can edit the following lines to launch a Python script from the Python\ninterpreter:\n\n"
      ]
    },
    {
      "cell_type": "code",
      "execution_count": null,
      "metadata": {
        "collapsed": false
      },
      "outputs": [],
      "source": [
        "# from pyaedt.generic.toolkit import launch\n# launch(python_file, specified_version=desktop_version, new_desktop_session=False, autosave=False)"
      ]
    }
  ],
  "metadata": {
    "kernelspec": {
      "display_name": "Python 3",
      "language": "python",
      "name": "python3"
    },
    "language_info": {
      "codemirror_mode": {
        "name": "ipython",
        "version": 3
      },
      "file_extension": ".py",
      "mimetype": "text/x-python",
      "name": "python",
      "nbconvert_exporter": "python",
      "pygments_lexer": "ipython3",
      "version": "3.8.10"
    }
  },
  "nbformat": 4,
  "nbformat_minor": 0
}