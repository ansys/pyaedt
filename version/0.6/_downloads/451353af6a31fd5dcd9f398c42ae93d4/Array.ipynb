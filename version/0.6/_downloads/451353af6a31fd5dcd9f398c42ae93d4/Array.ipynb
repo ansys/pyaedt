{
  "cells": [
    {
      "cell_type": "markdown",
      "metadata": {},
      "source": [
        "\n# HFSS: component antenna array\nThis example shows how you can use PyAEDT to create an example using a 3D component file. It sets up\nthe analysis, solves it, and uses postprocessing functions to create plots using Matplotlib and\nPyVista without opening the HFSS user interface. This examples runs only on Windows using CPython.\n"
      ]
    },
    {
      "cell_type": "markdown",
      "metadata": {},
      "source": [
        "## Perform required imports\nPerform required imports.\n\n"
      ]
    },
    {
      "cell_type": "code",
      "execution_count": null,
      "metadata": {
        "collapsed": false
      },
      "outputs": [],
      "source": [
        "import os\nimport pyaedt"
      ]
    },
    {
      "cell_type": "markdown",
      "metadata": {},
      "source": [
        "## Set non-graphical mode\nSet non-graphical mode. \nYou can set ``non_graphical`` either to ``True`` or ``False``.\n\n"
      ]
    },
    {
      "cell_type": "code",
      "execution_count": null,
      "metadata": {
        "collapsed": false
      },
      "outputs": [],
      "source": [
        "non_graphical = False"
      ]
    },
    {
      "cell_type": "markdown",
      "metadata": {},
      "source": [
        "## Download 3D component\nDownload the 3D component that is needed to run the example.\n\n"
      ]
    },
    {
      "cell_type": "code",
      "execution_count": null,
      "metadata": {
        "collapsed": false
      },
      "outputs": [],
      "source": [
        "example_path = pyaedt.downloads.download_3dcomponent()"
      ]
    },
    {
      "cell_type": "markdown",
      "metadata": {},
      "source": [
        "## Launch HFSS and save project\nLaunch HFSS and save the project.\n\n"
      ]
    },
    {
      "cell_type": "code",
      "execution_count": null,
      "metadata": {
        "collapsed": false
      },
      "outputs": [],
      "source": [
        "project_name = pyaedt.generate_unique_project_name(project_name=\"array\")\nhfss = pyaedt.Hfss(projectname=project_name,\n                   specified_version=\"2023.2\",\n                   designname=\"Array_Simple\",\n                   non_graphical=non_graphical,\n                   new_desktop_session=True)\n\nprint(\"Project name \" + project_name)"
      ]
    },
    {
      "cell_type": "markdown",
      "metadata": {},
      "source": [
        "## Read array definition from JSON file\nRead the array definition from a JSON file. A JSON file\ncan contain all information needed to import and set up a\nfull array in HFSS.\n\nIf a 3D component is not available in the design, it is loaded\ninto the dictionary from the path that you specify. The following\ncode edits the dictionary to point to the location of the A3DCOMP file.\n\n"
      ]
    },
    {
      "cell_type": "code",
      "execution_count": null,
      "metadata": {
        "collapsed": false
      },
      "outputs": [],
      "source": [
        "dict_in = pyaedt.data_handler.json_to_dict(os.path.join(example_path, \"array_simple.json\"))\ndict_in[\"Circ_Patch_5GHz1\"] = os.path.join(example_path, \"Circ_Patch_5GHz.a3dcomp\")\ndict_in[\"cells\"][(3, 3)] = {\"name\": \"Circ_Patch_5GHz1\"}\nhfss.add_3d_component_array_from_json(dict_in)"
      ]
    },
    {
      "cell_type": "markdown",
      "metadata": {},
      "source": [
        "## Set up simulation\nSet up a simulation and analyze it.\n\n"
      ]
    },
    {
      "cell_type": "code",
      "execution_count": null,
      "metadata": {
        "collapsed": false
      },
      "outputs": [],
      "source": [
        "setup = hfss.create_setup()\nsetup.props[\"Frequency\"] = \"5GHz\"\nsetup.props[\"MaximumPasses\"] = 3\n\nhfss.analyze(num_cores=4)"
      ]
    },
    {
      "cell_type": "markdown",
      "metadata": {},
      "source": [
        "## Get far field data\nGet far field data. After the simulation completes, the far\nfield data is generated port by port and stored in a data class.\n\n"
      ]
    },
    {
      "cell_type": "code",
      "execution_count": null,
      "metadata": {
        "collapsed": false
      },
      "outputs": [],
      "source": [
        "ffdata = hfss.get_antenna_ffd_solution_data(sphere_name=\"Infinite Sphere1\", setup_name=hfss.nominal_adaptive,\n                                            frequencies=[5e9])"
      ]
    },
    {
      "cell_type": "markdown",
      "metadata": {},
      "source": [
        "## Generate contour plot\nGenerate a contour plot. You can define the Theta scan\nand Phi scan.\n\n"
      ]
    },
    {
      "cell_type": "code",
      "execution_count": null,
      "metadata": {
        "collapsed": false
      },
      "outputs": [],
      "source": [
        "ffdata.plot_farfield_contour(qty_str='RealizedGain', convert_to_db=True,\n                             title='Contour at {}Hz'.format(ffdata.frequency))"
      ]
    },
    {
      "cell_type": "markdown",
      "metadata": {},
      "source": [
        "## Generate 2D cutout plots\nGenerate 2D cutout plots. You can define the Theta scan\nand Phi scan.\n\n"
      ]
    },
    {
      "cell_type": "code",
      "execution_count": null,
      "metadata": {
        "collapsed": false
      },
      "outputs": [],
      "source": [
        "ffdata.plot_2d_cut(primary_sweep='theta', secondary_sweep_value=[-180, -75, 75],\n                   qty_str='RealizedGain',\n                   title='Azimuth at {}Hz'.format(ffdata.frequency),\n                   convert_to_db=True)\n\nffdata.plot_2d_cut(primary_sweep=\"phi\", secondary_sweep_value=30,\n                   qty_str='RealizedGain',\n                   title='Elevation',\n                   convert_to_db=True)"
      ]
    },
    {
      "cell_type": "markdown",
      "metadata": {},
      "source": [
        "## Generate 3D polar plots in Matplotlib\nGenerate 3D polar plots in Matplotlib. You can define\nthe Theta scan and Phi scan.\n\n"
      ]
    },
    {
      "cell_type": "code",
      "execution_count": null,
      "metadata": {
        "collapsed": false
      },
      "outputs": [],
      "source": [
        "ffdata.polar_plot_3d(qty_str='RealizedGain',\n                     convert_to_db=True)"
      ]
    },
    {
      "cell_type": "markdown",
      "metadata": {},
      "source": [
        "## Generate 3D plots in PyVista\nGenerate 3D plots in PyVista. You can define the Theta and Phi\nscan angles. You can change the easy-to-use interactive plot\nthat is generated on the fly. \n\n"
      ]
    },
    {
      "cell_type": "code",
      "execution_count": null,
      "metadata": {
        "collapsed": false
      },
      "outputs": [],
      "source": [
        "ffdata.polar_plot_3d_pyvista(qty_str='RealizedGain',\n                             convert_to_db=True,\n                             export_image_path=os.path.join(hfss.working_directory, \"picture.jpg\"),\n                             show=False)"
      ]
    },
    {
      "cell_type": "markdown",
      "metadata": {},
      "source": [
        "## Release AEDT\nRelease AEDT.\n\n"
      ]
    },
    {
      "cell_type": "code",
      "execution_count": null,
      "metadata": {
        "collapsed": false
      },
      "outputs": [],
      "source": [
        "hfss.release_desktop()"
      ]
    }
  ],
  "metadata": {
    "kernelspec": {
      "display_name": "Python 3",
      "language": "python",
      "name": "python3"
    },
    "language_info": {
      "codemirror_mode": {
        "name": "ipython",
        "version": 3
      },
      "file_extension": ".py",
      "mimetype": "text/x-python",
      "name": "python",
      "nbconvert_exporter": "python",
      "pygments_lexer": "ipython3",
      "version": "3.10.5"
    }
  },
  "nbformat": 4,
  "nbformat_minor": 0
}