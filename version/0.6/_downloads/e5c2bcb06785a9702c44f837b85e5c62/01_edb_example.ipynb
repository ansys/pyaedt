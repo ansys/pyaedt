{
  "cells": [
    {
      "cell_type": "markdown",
      "metadata": {},
      "source": [
        "\n# EDB: Siwave analysis from EDB setup\nThis example shows how you can use EDB to interact with a layout.\n"
      ]
    },
    {
      "cell_type": "markdown",
      "metadata": {},
      "source": [
        "## Perform required imports\nPerform required imports.\n\n"
      ]
    },
    {
      "cell_type": "code",
      "execution_count": null,
      "metadata": {
        "collapsed": false
      },
      "outputs": [],
      "source": [
        "import shutil\n\nimport os\nimport time\nimport pyaedt\n\ntemp_folder = pyaedt.generate_unique_folder_name()\ntargetfile = pyaedt.downloads.download_file('edb/ANSYS-HSD_V1.aedb', destination=temp_folder)\n\nsiwave_file = os.path.join(os.path.dirname(targetfile), \"ANSYS-HSD_V1.siw\")\nprint(targetfile)\naedt_file = targetfile[:-4] + \"aedt\""
      ]
    },
    {
      "cell_type": "markdown",
      "metadata": {},
      "source": [
        "## Launch EDB\nLaunch the :class:`pyaedt.Edb` class, using EDB 2023 R2 and SI units.\n\n"
      ]
    },
    {
      "cell_type": "code",
      "execution_count": null,
      "metadata": {
        "collapsed": false
      },
      "outputs": [],
      "source": [
        "edb_version = \"2023.2\"\nif os.path.exists(aedt_file):\n    os.remove(aedt_file)\nedb = pyaedt.Edb(edbpath=targetfile, edbversion=edb_version)"
      ]
    },
    {
      "cell_type": "markdown",
      "metadata": {},
      "source": [
        "## Compute nets and components\nComputes nets and components.\nThere are queries for nets, stackups, layers, components, and geometries.\n\n"
      ]
    },
    {
      "cell_type": "code",
      "execution_count": null,
      "metadata": {
        "collapsed": false
      },
      "outputs": [],
      "source": [
        "print(\"Nets {}\".format(len(edb.nets.netlist)))\nstart = time.time()\nprint(\"Components {}\".format(len(edb.components.components.keys())))\nprint(\"elapsed time = \", time.time() - start)"
      ]
    },
    {
      "cell_type": "markdown",
      "metadata": {},
      "source": [
        "## Get pin position\nGet the position for a specific pin.\nThe next section shows how to get all pins for a specific component and\nthe positions of each of them.\nEach pin is a list of ``[X, Y]`` coordinate positions.\n\n"
      ]
    },
    {
      "cell_type": "code",
      "execution_count": null,
      "metadata": {
        "collapsed": false
      },
      "outputs": [],
      "source": [
        "pins = edb.components[\"U2\"].pins\nfor pin in edb.components[\"U2\"].pins.values():\n    print(pin.position)"
      ]
    },
    {
      "cell_type": "markdown",
      "metadata": {},
      "source": [
        "## Get all nets connected to a component\nGet all nets connected to a specific component.\n\n"
      ]
    },
    {
      "cell_type": "code",
      "execution_count": null,
      "metadata": {
        "collapsed": false
      },
      "outputs": [],
      "source": [
        "edb.components.get_component_net_connection_info(\"U2\")"
      ]
    },
    {
      "cell_type": "markdown",
      "metadata": {},
      "source": [
        "## Compute rats\nComputes rats.\n\n"
      ]
    },
    {
      "cell_type": "code",
      "execution_count": null,
      "metadata": {
        "collapsed": false
      },
      "outputs": [],
      "source": [
        "rats = edb.components.get_rats()"
      ]
    },
    {
      "cell_type": "markdown",
      "metadata": {},
      "source": [
        "## Get all DC-connected net lists through inductance\nGet all DC-connected net lists through inductance.\nThe inputs needed are ground net lists. The returned list contains all nets\nconnected to a ground through an inductor.\n\n"
      ]
    },
    {
      "cell_type": "code",
      "execution_count": null,
      "metadata": {
        "collapsed": false
      },
      "outputs": [],
      "source": [
        "GROUND_NETS = [\"GND\", \"GND_DP\"]\ndc_connected_net_list = edb.nets.get_dcconnected_net_list(GROUND_NETS)\nprint(dc_connected_net_list)"
      ]
    },
    {
      "cell_type": "markdown",
      "metadata": {},
      "source": [
        "## Get power tree based on a specific net\nGet the power tree based on a specific net.\n\n"
      ]
    },
    {
      "cell_type": "code",
      "execution_count": null,
      "metadata": {
        "collapsed": false
      },
      "outputs": [],
      "source": [
        "VRM = \"U1\"\nOUTPUT_NET = \"AVCC_1V3\"\npowertree_df, component_list_columns, net_group = edb.nets.get_powertree(OUTPUT_NET, GROUND_NETS)\nfor el in powertree_df:\n    print(el)"
      ]
    },
    {
      "cell_type": "markdown",
      "metadata": {},
      "source": [
        "## Delete all RLCs with only one pin\nDelete all RLCs with only one pin. This method provides a useful way of\nremoving components not needed in the simulation.\n\n"
      ]
    },
    {
      "cell_type": "code",
      "execution_count": null,
      "metadata": {
        "collapsed": false
      },
      "outputs": [],
      "source": [
        "edb.components.delete_single_pin_rlc()"
      ]
    },
    {
      "cell_type": "markdown",
      "metadata": {},
      "source": [
        "## Delete components\nDelete manually one or more components.\n\n"
      ]
    },
    {
      "cell_type": "code",
      "execution_count": null,
      "metadata": {
        "collapsed": false
      },
      "outputs": [],
      "source": [
        "edb.components.delete(\"C380\")"
      ]
    },
    {
      "cell_type": "markdown",
      "metadata": {},
      "source": [
        "## Delete nets\nDelete manually one or more nets.\n\n"
      ]
    },
    {
      "cell_type": "code",
      "execution_count": null,
      "metadata": {
        "collapsed": false
      },
      "outputs": [],
      "source": [
        "edb.nets.delete(\"PDEN\")"
      ]
    },
    {
      "cell_type": "markdown",
      "metadata": {},
      "source": [
        "## Get stackup limits\nGet the stackup limits (top and bottom layers and elevations).\n\n"
      ]
    },
    {
      "cell_type": "code",
      "execution_count": null,
      "metadata": {
        "collapsed": false
      },
      "outputs": [],
      "source": [
        "print(edb.stackup.limits())"
      ]
    },
    {
      "cell_type": "markdown",
      "metadata": {},
      "source": [
        "## Create voltage source and Siwave DCIR analysis\nCreate a voltage source and then set up a DCIR analysis.\n\n"
      ]
    },
    {
      "cell_type": "code",
      "execution_count": null,
      "metadata": {
        "collapsed": false
      },
      "outputs": [],
      "source": [
        "edb.siwave.create_voltage_source_on_net(\"U1\", \"AVCC_1V3\", \"U1\", \"GND\", 1.3, 0, \"V1\")\nedb.siwave.create_current_source_on_net(\"IC2\", \"NetD3_2\", \"IC2\", \"GND\", 1.0, 0, \"I1\")\nsetup = edb.siwave.add_siwave_dc_analysis(\"myDCIR_4\")\nsetup.use_dc_custom_settings = True\nsetup.dc_slider_position = 0\nsetup.add_source_terminal_to_ground(\"V1\", 1)"
      ]
    },
    {
      "cell_type": "markdown",
      "metadata": {},
      "source": [
        "## Save modifications\nSave modifications.\n\n"
      ]
    },
    {
      "cell_type": "code",
      "execution_count": null,
      "metadata": {
        "collapsed": false
      },
      "outputs": [],
      "source": [
        "edb.save_edb()\nedb.nets.plot(None, \"1_Top\",plot_components_on_top=True)\n\nsiw_file = edb.solve_siwave()"
      ]
    },
    {
      "cell_type": "markdown",
      "metadata": {},
      "source": [
        "## Export Siwave Reports\nExport all DC Reports quantities.\n\n"
      ]
    },
    {
      "cell_type": "code",
      "execution_count": null,
      "metadata": {
        "collapsed": false
      },
      "outputs": [],
      "source": [
        "outputs = edb.export_siwave_dc_results(siw_file, setup.name, )"
      ]
    },
    {
      "cell_type": "markdown",
      "metadata": {},
      "source": [
        "## Close EDB\nClose EDB. After EDB is closed, it can be opened by AEDT.\n\n"
      ]
    },
    {
      "cell_type": "code",
      "execution_count": null,
      "metadata": {
        "collapsed": false
      },
      "outputs": [],
      "source": [
        "edb.close_edb()"
      ]
    },
    {
      "cell_type": "markdown",
      "metadata": {},
      "source": [
        "## Postprocess in Siwave\nOpen Siwave and generate a report. This works on Window only.\n\n"
      ]
    },
    {
      "cell_type": "code",
      "execution_count": null,
      "metadata": {
        "collapsed": false
      },
      "outputs": [],
      "source": [
        "# from pyaedt import Siwave\n# siwave = Siwave(\"2023.2\")\n# siwave.open_project(siwave_file)\n# report_file = os.path.join(temp_folder,'Ansys.htm')\n#\n# siwave.export_siwave_report(\"myDCIR_4\", report_file)\n# siwave.close_project()\n# siwave.quit_application()"
      ]
    }
  ],
  "metadata": {
    "kernelspec": {
      "display_name": "Python 3",
      "language": "python",
      "name": "python3"
    },
    "language_info": {
      "codemirror_mode": {
        "name": "ipython",
        "version": 3
      },
      "file_extension": ".py",
      "mimetype": "text/x-python",
      "name": "python",
      "nbconvert_exporter": "python",
      "pygments_lexer": "ipython3",
      "version": "3.10.5"
    }
  },
  "nbformat": 4,
  "nbformat_minor": 0
}