{
  "cells": [
    {
      "cell_type": "markdown",
      "metadata": {},
      "source": [
        "\n# Maxwell 3D: asymmetric conductor analysis\nThis example uses PyAEDT to set up the TEAM 7 problem for an asymetric\nconductor with a hole and solve it using the Maxwell 3D Eddy Current solver.\n"
      ]
    },
    {
      "cell_type": "markdown",
      "metadata": {},
      "source": [
        "## Perform required imports\nPerform required imports.\n\n"
      ]
    },
    {
      "cell_type": "code",
      "execution_count": null,
      "metadata": {
        "collapsed": false
      },
      "outputs": [],
      "source": [
        "from pyaedt import Maxwell3d\nfrom pyaedt import generate_unique_project_name\nimport numpy as np\nimport csv\nimport os"
      ]
    },
    {
      "cell_type": "markdown",
      "metadata": {},
      "source": [
        "## Set non-graphical mode\nSet non-graphical mode. \nYou can set ``non_graphical`` either to ``True`` or ``False``.\n\n"
      ]
    },
    {
      "cell_type": "code",
      "execution_count": null,
      "metadata": {
        "collapsed": false
      },
      "outputs": [],
      "source": [
        "non_graphical = False"
      ]
    },
    {
      "cell_type": "markdown",
      "metadata": {},
      "source": [
        "## Launch AEDT and Maxwell 3D\nLaunch AEDT and Maxwell 3D. The following code sets up the project and design names, the solver, and\nthe version. It also creates an instance of the ``Maxwell3d`` class named ``M3D``. \n\n"
      ]
    },
    {
      "cell_type": "code",
      "execution_count": null,
      "metadata": {
        "collapsed": false
      },
      "outputs": [],
      "source": [
        "Project_Name = \"COMPUMAG\"\nDesign_Name = \"TEAM 7 Asymmetric Conductor\"\nSolver = \"EddyCurrent\"\nDesktopVersion = \"2023.2\"\n\nM3D = Maxwell3d(\n    projectname=generate_unique_project_name(),\n    designname=Design_Name,\n    solution_type=Solver,\n    specified_version=DesktopVersion,\n    non_graphical=non_graphical,\n    new_desktop_session=True\n)\nM3D.modeler.model_units = \"mm\"\nmodeler = M3D.modeler\nPlot = M3D.odesign.GetModule(\"ReportSetup\")"
      ]
    },
    {
      "cell_type": "markdown",
      "metadata": {},
      "source": [
        "## Add Maxwell 3D setup\nAdd a Maxwell 3D setup with frequency points at DC, 50 Hz, and 200Hz.\nOtherwise, the default PyAEDT setup values are used. To approximate a DC field in the\nEddy Current solver, use a low frequency value. Second-order shape functions improve\nthe smoothness of the induced currents in the plate.\n\n"
      ]
    },
    {
      "cell_type": "code",
      "execution_count": null,
      "metadata": {
        "collapsed": false
      },
      "outputs": [],
      "source": [
        "dc_freq = 0.1\nstop_freq = 50\n\nSetup = M3D.create_setup(setupname=\"Setup1\")\nSetup.props[\"Frequency\"] = \"200Hz\"\nSetup.props[\"HasSweepSetup\"] = True\nSetup.add_eddy_current_sweep(\"LinearStep\", dc_freq, stop_freq, stop_freq - dc_freq, clear=True)\nSetup.props[\"UseHighOrderShapeFunc\"] = True\nSetup.props[\"PercentError\"] = 0.4"
      ]
    },
    {
      "cell_type": "markdown",
      "metadata": {},
      "source": [
        "## Define coil dimensions\nDefine coil dimensions as shown on the TEAM7 drawing of the coil.\n\n"
      ]
    },
    {
      "cell_type": "code",
      "execution_count": null,
      "metadata": {
        "collapsed": false
      },
      "outputs": [],
      "source": [
        "coil_external = 150 + 25 + 25\ncoil_internal = 150\ncoil_r1 = 25\ncoil_r2 = 50\ncoil_thk = coil_r2 - coil_r1\ncoil_height = 100\ncoil_centre = [294 - 25 - 150 / 2, 25 + 150 / 2, 19 + 30 + 100 / 2]\n\n# Use expressions to construct the three dimensions needed to describe the midpoints of\n# the coil.\n\ndim1 = coil_internal / 2 + (coil_external - coil_internal) / 4\ndim2 = coil_internal / 2 - coil_r1\ndim3 = dim2 + np.sqrt(((coil_r1 + (coil_r2 - coil_r1) / 2) ** 2) / 2)\n\n# Use coordinates to draw a polyline along which to sweep the coil cross sections.\nP1 = [dim1, -dim2, 0]\nP2 = [dim1, dim2, 0]\nP3 = [dim3, dim3, 0]\nP4 = [dim2, dim1, 0]"
      ]
    },
    {
      "cell_type": "markdown",
      "metadata": {},
      "source": [
        "## Create coordinate system for positioning coil\nCreate a coordinate system for positioning the coil.\n\n"
      ]
    },
    {
      "cell_type": "code",
      "execution_count": null,
      "metadata": {
        "collapsed": false
      },
      "outputs": [],
      "source": [
        "M3D.modeler.create_coordinate_system(origin=coil_centre, mode=\"view\", view=\"XY\", name=\"Coil_CS\")"
      ]
    },
    {
      "cell_type": "markdown",
      "metadata": {},
      "source": [
        "## Create polyline\nCreate a polyline. One quarter of the coil is modeled by sweeping a 2D sheet along a polyline.\n\n"
      ]
    },
    {
      "cell_type": "code",
      "execution_count": null,
      "metadata": {
        "collapsed": false
      },
      "outputs": [],
      "source": [
        "test = M3D.modeler.create_polyline(position_list=[P1, P2, P3, P4], segment_type=[\"Line\", \"Arc\"], name=\"Coil\")\ntest.set_crosssection_properties(type=\"Rectangle\", width=coil_thk, height=coil_height)"
      ]
    },
    {
      "cell_type": "markdown",
      "metadata": {},
      "source": [
        "## Duplicate and unite polyline to create full coil\nDuplicate and unit the polyline to create a full coil.\n\n"
      ]
    },
    {
      "cell_type": "code",
      "execution_count": null,
      "metadata": {
        "collapsed": false
      },
      "outputs": [],
      "source": [
        "M3D.modeler.duplicate_around_axis(\n    \"Coil\", cs_axis=\"Global\", angle=90, nclones=4, create_new_objects=True, is_3d_comp=False\n)\nM3D.modeler.unite(\"Coil,Coil_1,Coil_2\")\nM3D.modeler.unite(\"Coil,Coil_3\")\nM3D.modeler.fit_all()"
      ]
    },
    {
      "cell_type": "markdown",
      "metadata": {},
      "source": [
        "## Assign material and if solution is allowed inside coil\nAssign the material ``Cooper`` from the Maxwell internal library to the coil and\nallow a solution inside the coil.\n\n"
      ]
    },
    {
      "cell_type": "code",
      "execution_count": null,
      "metadata": {
        "collapsed": false
      },
      "outputs": [],
      "source": [
        "M3D.assign_material(\"Coil\", \"Copper\")\nM3D.solve_inside(\"Coil\")"
      ]
    },
    {
      "cell_type": "markdown",
      "metadata": {},
      "source": [
        "## Create terminal\nCreate a terminal for the coil from a cross section that is split and one half deleted.\n\n"
      ]
    },
    {
      "cell_type": "code",
      "execution_count": null,
      "metadata": {
        "collapsed": false
      },
      "outputs": [],
      "source": [
        "M3D.modeler.section(\"Coil\", \"YZ\")\nM3D.modeler.separate_bodies(\"Coil_Section1\")\nM3D.modeler.delete(\"Coil_Section1_Separate1\")\n\n# Add variable for coil excitation\n# ~~~~~~~~~~~~~~~~~~~~~~~~~~~~~~~~\n# Add a design variable for coil excitation. The NB units here are AmpereTurns.\n\nCoil_Excitation = 2742\nM3D[\"Coil_Excitation\"] = str(Coil_Excitation) + \"A\"\nM3D.assign_current(\"Coil_Section1\", amplitude=\"Coil_Excitation\", solid=False)\nM3D.modeler.set_working_coordinate_system(\"Global\")"
      ]
    },
    {
      "cell_type": "markdown",
      "metadata": {},
      "source": [
        "## Add a material\nAdd a material named ``team3_aluminium``.\n\n"
      ]
    },
    {
      "cell_type": "code",
      "execution_count": null,
      "metadata": {
        "collapsed": false
      },
      "outputs": [],
      "source": [
        "mat = M3D.materials.add_material(\"team7_aluminium\")\nmat.conductivity = 3.526e7"
      ]
    },
    {
      "cell_type": "markdown",
      "metadata": {},
      "source": [
        "## Model aluminium plate with a hole\nModel the aluminium plate with a hole by subtracting two rectangular cuboids.\n\n"
      ]
    },
    {
      "cell_type": "code",
      "execution_count": null,
      "metadata": {
        "collapsed": false
      },
      "outputs": [],
      "source": [
        "plate = M3D.modeler.create_box(position=[0, 0, 0], dimensions_list=[294, 294, 19], name=\"Plate\",\n                               matname=\"team7_aluminium\")\nM3D.modeler.fit_all()\nhole = M3D.modeler.create_box(position=[18, 18, 0], dimensions_list=[108, 108, 19], name=\"Hole\")\nM3D.modeler.subtract(\"Plate\", [\"Hole\"], keep_originals=False)"
      ]
    },
    {
      "cell_type": "markdown",
      "metadata": {},
      "source": [
        "## Draw a background region\nDraw a background region that uses the default properties for an air region.\n\n"
      ]
    },
    {
      "cell_type": "code",
      "execution_count": null,
      "metadata": {
        "collapsed": false
      },
      "outputs": [],
      "source": [
        "M3D.modeler.create_air_region(x_pos=100, y_pos=100, z_pos=100, x_neg=100, y_neg=100, z_neg=100)"
      ]
    },
    {
      "cell_type": "markdown",
      "metadata": {},
      "source": [
        "## Adjust eddy effects for plate and coil\nAdjust the eddy effects for the plate and coil by turning off displacement currents\nfor all parts. The setting for eddy effect is ignored for the stranded conductor type\nused in the coil.\n\n"
      ]
    },
    {
      "cell_type": "code",
      "execution_count": null,
      "metadata": {
        "collapsed": false
      },
      "outputs": [],
      "source": [
        "M3D.eddy_effects_on(object_list=\"Plate\")\nM3D.eddy_effects_on(object_list=[\"Coil\", \"Region\", \"Line_A1_B1mesh\", \"Line_A2_B2mesh\"],\n                    activate_eddy_effects=False,\n                    activate_displacement_current=False)"
      ]
    },
    {
      "cell_type": "markdown",
      "metadata": {},
      "source": [
        "## Create expression for Z component of B in Gauss\nCreate an expression for the Z component of B in Gauss using the fields calculator.\n\n"
      ]
    },
    {
      "cell_type": "code",
      "execution_count": null,
      "metadata": {
        "collapsed": false
      },
      "outputs": [],
      "source": [
        "Fields = M3D.odesign.GetModule(\"FieldsReporter\")\nFields.EnterQty(\"B\")\nFields.CalcOp(\"ScalarZ\")\nFields.EnterScalarFunc(\"Phase\")\nFields.CalcOp(\"AtPhase\")\nFields.EnterScalar(10000)\nFields.CalcOp(\"*\")\nFields.CalcOp(\"Smooth\")\nFields.AddNamedExpression(\"Bz\", \"Fields\")"
      ]
    },
    {
      "cell_type": "markdown",
      "metadata": {},
      "source": [
        "## Draw two lines along which to plot Bz\nDraw two lines along which to plot Bz. The following code also adds a small cylinder\nto refine the mesh locally around each line.\n\n"
      ]
    },
    {
      "cell_type": "code",
      "execution_count": null,
      "metadata": {
        "collapsed": false
      },
      "outputs": [],
      "source": [
        "lines = [\"Line_A1_B1\", \"Line_A2_B2\"]\nmesh_diameter = \"2mm\"\n\nline_points_1 = [[\"0mm\", \"72mm\", \"34mm\"], [\"288mm\", \"72mm\", \"34mm\"]]\npolyline = modeler.create_polyline(position_list=line_points_1, name=lines[0])\nL1Mesh = modeler.create_polyline(position_list=line_points_1, name=lines[0] + \"mesh\")\nL1Mesh.set_crosssection_properties(type=\"Circle\", width=mesh_diameter)\n\nline_points_2 = [[\"0mm\", \"144mm\", \"34mm\"], [\"288mm\", \"144mm\", \"34mm\"]]\npolyline2 = modeler.create_polyline(position_list=line_points_2, name=lines[1])\npolyline2_mesh = modeler.create_polyline(position_list=line_points_2, name=lines[1] + \"mesh\")\npolyline2_mesh.set_crosssection_properties(type=\"Circle\", width=mesh_diameter)"
      ]
    },
    {
      "cell_type": "markdown",
      "metadata": {},
      "source": [
        "## Plot model\nPlot the model.\n\n"
      ]
    },
    {
      "cell_type": "code",
      "execution_count": null,
      "metadata": {
        "collapsed": false
      },
      "outputs": [],
      "source": [
        "M3D.plot(show=False, export_path=os.path.join(M3D.working_directory, \"Image.jpg\"), plot_air_objects=False)"
      ]
    },
    {
      "cell_type": "markdown",
      "metadata": {},
      "source": [
        "Published measurement results are included with this script via the list below.\nTest results are used to create text files for import into a rectangular plot\nand to overlay simulation results.\n\n"
      ]
    },
    {
      "cell_type": "code",
      "execution_count": null,
      "metadata": {
        "collapsed": false
      },
      "outputs": [],
      "source": [
        "project_dir = M3D.working_directory\ndataset = [\n    \"Bz A1_B1 000 0\",\n    \"Bz A1_B1 050 0\",\n    \"Bz A1_B1 050 90\",\n    \"Bz A1_B1 200 0\",\n    \"Bz A1_B1 200 90\",\n    \"Bz A2_B2 050 0\",\n    \"Bz A2_B2 050 90\",\n    \"Bz A2_B2 200 0\",\n    \"Bz A2_B2 200 90\",\n]\nheader = [\"Distance [mm]\", \"Bz [Tesla]\"]\n\nline_length = [0, 18, 36, 54, 72, 90, 108, 126, 144, 162, 180, 198, 216, 234, 252, 270, 288]\ndata = [\n    [\n        -6.667,\n        -7.764,\n        -8.707,\n        -8.812,\n        -5.870,\n        8.713,\n        50.40,\n        88.47,\n        100.9,\n        104.0,\n        104.8,\n        104.9,\n        104.6,\n        103.1,\n        97.32,\n        75.19,\n        29.04,\n    ],\n    [\n        4.90,\n        -17.88,\n        -22.13,\n        -20.19,\n        -15.67,\n        0.36,\n        43.64,\n        78.11,\n        71.55,\n        60.44,\n        53.91,\n        52.62,\n        53.81,\n        56.91,\n        59.24,\n        52.78,\n        27.61,\n    ],\n    [-1.16, 2.84, 4.15, 4.00, 3.07, 2.31, 1.89, 4.97, 12.61, 14.15, 13.04, 12.40, 12.05, 12.27, 12.66, 9.96, 2.36],\n    [\n        -3.63,\n        -18.46,\n        -23.62,\n        -21.59,\n        -16.09,\n        0.23,\n        44.35,\n        75.53,\n        63.42,\n        53.20,\n        48.66,\n        47.31,\n        48.31,\n        51.26,\n        53.61,\n        46.11,\n        24.96,\n    ],\n    [-1.38, 1.20, 2.15, 1.63, 1.10, 0.27, -2.28, -1.40, 4.17, 3.94, 4.86, 4.09, 3.69, 4.60, 3.48, 4.10, 0.98],\n    [\n        -1.83,\n        -8.50,\n        -13.60,\n        -15.21,\n        -14.48,\n        -5.62,\n        28.77,\n        60.34,\n        61.84,\n        56.64,\n        53.40,\n        52.36,\n        53.93,\n        56.82,\n        59.48,\n        52.08,\n        26.56,\n    ],\n    [-1.63, -0.60, -0.43, 0.11, 1.26, 3.40, 6.53, 10.25, 11.83, 11.83, 11.01, 10.58, 10.80, 10.54, 10.62, 9.03, 1.79],\n    [\n        -0.86,\n        -7.00,\n        -11.58,\n        -13.36,\n        -13.77,\n        -6.74,\n        24.63,\n        53.19,\n        54.89,\n        50.72,\n        48.03,\n        47.13,\n        48.25,\n        51.35,\n        53.35,\n        45.37,\n        24.01,\n    ],\n    [-1.35, -0.71, -0.81, -0.67, 0.15, 1.39, 2.67, 3.00, 4.01, 3.80, 4.00, 3.02, 2.20, 2.78, 1.58, 1.37, 0.93],\n]\n\n# Dataset details are used to encode test parameters in the text files.\n# For example, ``Bz A1_B1 050 0`` is the Z component of flux density ``B``\n# along line ``A1_B1`` at 50 Hz and 0 deg. These text files are created\n# and saved in the default project directory.\n\nprint(\"project_dir\", project_dir)\ndataset_range = range(int(0), len(dataset), int(1))\nline_length_range = range(int(0), len(line_length), int(1))\ndataset_list = []\n\nfor item in dataset_range:\n    dataset_list.clear()\n    for jtem in line_length_range:\n        dataset_list.insert(jtem, data[item][jtem])\n        ziplist = zip(line_length, dataset_list)\n    with open(project_dir + \"\\\\\" + str(dataset[item]) + \".csv\", \"w\", newline=\"\") as f:\n        writer = csv.writer(f, delimiter=\",\")\n        writer.writerow(header)\n        writer.writerows(ziplist)\n\n# Create rectangular plots\n# ~~~~~~~~~~~~~~~~~~~~~~~~\n# Create rectangular plots, using text file encoding to control their formatting. Create\n# the DC plot separately because it needs a different frequency and phase than the other plots.\n\nfor item in dataset_range:\n    if item % 2 == 0:\n        plotname = dataset[item][0:3] + \"Along the Line\" + dataset[item][2:9] + \", \" + dataset[item][9:12] + \"Hz\"\n        if dataset[item][9:12] == \"000\":\n            variations = {\n                \"Distance\": [\"All\"],\n                \"Freq\": [str(dc_freq) + \"Hz\"],\n                \"Phase\": [\"0deg\"],\n                \"Coil_Excitation\": [\"All\"],\n            }\n            M3D.post.create_report(\n                plotname=plotname,\n                report_category=\"Fields\",\n                context=\"Line_\" + dataset[item][3:8],\n                primary_sweep_variable=\"Distance\",\n                variations=variations,\n                expressions=dataset[item][0:2],\n            )\n        else:\n            variations = {\n                \"Distance\": [\"All\"],\n                \"Freq\": [dataset[item][9:12] + \"Hz\"],\n                \"Phase\": [\"0deg\", \"90deg\"],\n                \"Coil_Excitation\": [\"All\"],\n            }\n            M3D.post.create_report(\n                plotname=plotname,\n                report_category=\"Fields\",\n                context=\"Line_\" + dataset[item][3:8],\n                primary_sweep_variable=\"Distance\",\n                variations=variations,\n                expressions=dataset[item][0:2],\n            )\n\n# Import test data into correct plot and overlay with simulation results\n# ~~~~~~~~~~~~~~~~~~~~~~~~~~~~~~~~~~~~~~~~~~~~~~~~~~~~~~~~~~~~~~~~~~~~~~\n# Import test data into the correct plot and overlay it with the simulation results.\n\nif item == 0:\n    Plot.ImportIntoReport(plotname, os.path.join(project_dir, str(dataset[item]) + \".csv\"))\nelse:\n    Plot.ImportIntoReport(plotname, project_dir + \"\\\\\" + str(dataset[item - 1]) + \".csv\")\n    Plot.ImportIntoReport(plotname, project_dir + \"\\\\\" + str(dataset[item]) + \".csv\")"
      ]
    },
    {
      "cell_type": "markdown",
      "metadata": {},
      "source": [
        "## Create plots of induced current and flux density on surface of plate\nCreate two plots of the induced current (``Mag_J``) and the flux density (``Mag_B``) on the\nsurface of the plate.\n\n"
      ]
    },
    {
      "cell_type": "code",
      "execution_count": null,
      "metadata": {
        "collapsed": false
      },
      "outputs": [],
      "source": [
        "surflist = modeler.get_object_faces(\"Plate\")\nintrinsic_dict = {\"Freq\": \"200Hz\", \"Phase\": \"0deg\"}\nM3D.post.create_fieldplot_surface(surflist, \"Mag_J\", intrinsincDict=intrinsic_dict, plot_name=\"Mag_J\")\nM3D.post.create_fieldplot_surface(surflist, \"Mag_B\", intrinsincDict=intrinsic_dict, plot_name=\"Mag_B\")"
      ]
    },
    {
      "cell_type": "markdown",
      "metadata": {},
      "source": [
        "## Save project and solve\nSave the project and solve it.\n\n"
      ]
    },
    {
      "cell_type": "code",
      "execution_count": null,
      "metadata": {
        "collapsed": false
      },
      "outputs": [],
      "source": [
        "M3D.save_project()\nM3D.analyze()"
      ]
    },
    {
      "cell_type": "markdown",
      "metadata": {},
      "source": [
        "## Release AEDT from PyAEDT scripting\nRelease AEDT from PyAEDT scripting. If you wanted to leave AEDT and the project open\nafter running the above script, in the following command, you would set ``(False, False)``.\n\n"
      ]
    },
    {
      "cell_type": "code",
      "execution_count": null,
      "metadata": {
        "collapsed": false
      },
      "outputs": [],
      "source": [
        "M3D.release_desktop(True, True)"
      ]
    }
  ],
  "metadata": {
    "kernelspec": {
      "display_name": "Python 3",
      "language": "python",
      "name": "python3"
    },
    "language_info": {
      "codemirror_mode": {
        "name": "ipython",
        "version": 3
      },
      "file_extension": ".py",
      "mimetype": "text/x-python",
      "name": "python",
      "nbconvert_exporter": "python",
      "pygments_lexer": "ipython3",
      "version": "3.10.5"
    }
  },
  "nbformat": 4,
  "nbformat_minor": 0
}