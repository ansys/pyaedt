{
  "cells": [
    {
      "cell_type": "markdown",
      "metadata": {},
      "source": [
        "\n# EDB: fully parametrized CPWG design\nThis example shows how you can use HFSS 3D Layout to create a parametric design\nfor a CPWG (coplanar waveguide with ground).\n"
      ]
    },
    {
      "cell_type": "markdown",
      "metadata": {},
      "source": [
        "## Perform required imports\nPeform required imports. Importing the ``Hfss3dlayout`` object initializes it\non version 2023 R2.\n\n"
      ]
    },
    {
      "cell_type": "code",
      "execution_count": null,
      "metadata": {
        "collapsed": false
      },
      "outputs": [],
      "source": [
        "import pyaedt\nimport os\nimport numpy as np"
      ]
    },
    {
      "cell_type": "markdown",
      "metadata": {},
      "source": [
        "## Set non-graphical mode\nSet non-graphical mode. The default is ``False``.\n\n"
      ]
    },
    {
      "cell_type": "code",
      "execution_count": null,
      "metadata": {
        "collapsed": false
      },
      "outputs": [],
      "source": [
        "non_graphical = False"
      ]
    },
    {
      "cell_type": "markdown",
      "metadata": {},
      "source": [
        "## Launch EDB\nLaunch EDB.\n\n"
      ]
    },
    {
      "cell_type": "code",
      "execution_count": null,
      "metadata": {
        "collapsed": false
      },
      "outputs": [],
      "source": [
        "aedb_path = os.path.join(pyaedt.generate_unique_folder_name(), pyaedt.generate_unique_name(\"pcb\") + \".aedb\")\nprint(aedb_path)\nedbapp = pyaedt.Edb(edbpath=aedb_path, edbversion=\"2023.2\")"
      ]
    },
    {
      "cell_type": "markdown",
      "metadata": {},
      "source": [
        "## Define parameters\nDefine parameters.\n\n"
      ]
    },
    {
      "cell_type": "code",
      "execution_count": null,
      "metadata": {
        "collapsed": false
      },
      "outputs": [],
      "source": [
        "params = {\"$ms_width\": \"0.4mm\",\n          \"$ms_clearance\": \"0.3mm\",\n          \"$ms_length\": \"20mm\",\n          }\nfor par_name in params:\n    edbapp.add_project_variable(par_name, params[par_name])"
      ]
    },
    {
      "cell_type": "markdown",
      "metadata": {},
      "source": [
        "## Create stackup\nCreate a symmetric stackup.\n\n"
      ]
    },
    {
      "cell_type": "code",
      "execution_count": null,
      "metadata": {
        "collapsed": false
      },
      "outputs": [],
      "source": [
        "edbapp.stackup.create_symmetric_stackup(2)\nedbapp.stackup.plot()"
      ]
    },
    {
      "cell_type": "markdown",
      "metadata": {},
      "source": [
        "## Draw planes\nDraw planes.\n\n"
      ]
    },
    {
      "cell_type": "code",
      "execution_count": null,
      "metadata": {
        "collapsed": false
      },
      "outputs": [],
      "source": [
        "plane_lw_pt = [\"0mm\", \"-3mm\"]\nplane_up_pt = [\"$ms_length\", \"3mm\"]\n\ntop_layer_obj = edbapp.modeler.create_rectangle(\"TOP\", net_name=\"gnd\",\n                                                        lower_left_point=plane_lw_pt,\n                                                        upper_right_point=plane_up_pt)\nbot_layer_obj = edbapp.modeler.create_rectangle(\"BOTTOM\", net_name=\"gnd\",\n                                                        lower_left_point=plane_lw_pt,\n                                                        upper_right_point=plane_up_pt)\nlayer_dict = {\"TOP\": top_layer_obj,\n              \"BOTTOM\": bot_layer_obj}"
      ]
    },
    {
      "cell_type": "markdown",
      "metadata": {},
      "source": [
        "## Draw trace\nDraw a trace.\n\n"
      ]
    },
    {
      "cell_type": "code",
      "execution_count": null,
      "metadata": {
        "collapsed": false
      },
      "outputs": [],
      "source": [
        "trace_path = [[\"0\", \"0\"], [\"$ms_length\", \"0\"]]\nedbapp.modeler.create_trace(trace_path,\n                                    layer_name=\"TOP\",\n                                    width=\"$ms_width\",\n                                    net_name=\"sig\",\n                                    start_cap_style=\"Flat\",\n                                    end_cap_style=\"Flat\"\n                                    )"
      ]
    },
    {
      "cell_type": "markdown",
      "metadata": {},
      "source": [
        "## Create trace to plane clearance\nCreate a trace to the plane clearance.\n\n"
      ]
    },
    {
      "cell_type": "code",
      "execution_count": null,
      "metadata": {
        "collapsed": false
      },
      "outputs": [],
      "source": [
        "poly_void = edbapp.modeler.create_trace(trace_path, layer_name=\"TOP\", net_name=\"gnd\",\n                                                width=\"{}+2*{}\".format(\"$ms_width\", \"$ms_clearance\"),\n                                                start_cap_style=\"Flat\",\n                                                end_cap_style=\"Flat\")\nedbapp.modeler.add_void(layer_dict[\"TOP\"], poly_void)"
      ]
    },
    {
      "cell_type": "markdown",
      "metadata": {},
      "source": [
        "## Create ground via padstack and place ground stitching vias\nCreate a ground via padstack and place ground stitching vias.\n\n"
      ]
    },
    {
      "cell_type": "code",
      "execution_count": null,
      "metadata": {
        "collapsed": false
      },
      "outputs": [],
      "source": [
        "edbapp.padstacks.create(padstackname=\"GVIA\",\n                                     holediam=\"0.3mm\",\n                                     paddiam=\"0.5mm\",\n                                     )\n\nyloc_u = \"$ms_width/2+$ms_clearance+0.25mm\"\nyloc_l = \"-$ms_width/2-$ms_clearance-0.25mm\"\n\nfor i in np.arange(1, 20):\n    edbapp.padstacks.place([str(i) + \"mm\", yloc_u], \"GVIA\", net_name=\"GND\")\n    edbapp.padstacks.place([str(i) + \"mm\", yloc_l], \"GVIA\", net_name=\"GND\")"
      ]
    },
    {
      "cell_type": "markdown",
      "metadata": {},
      "source": [
        "## Save and close EDB\nSave and close EDB.\n\n"
      ]
    },
    {
      "cell_type": "code",
      "execution_count": null,
      "metadata": {
        "collapsed": false
      },
      "outputs": [],
      "source": [
        "edbapp.save_edb()\nedbapp.close_edb()"
      ]
    },
    {
      "cell_type": "markdown",
      "metadata": {},
      "source": [
        "## Open EDB in AEDT\nOpen EDB in AEDT.\n\n"
      ]
    },
    {
      "cell_type": "code",
      "execution_count": null,
      "metadata": {
        "collapsed": false
      },
      "outputs": [],
      "source": [
        "h3d = pyaedt.Hfss3dLayout(projectname=aedb_path, specified_version=\"2023.2\",\n                          non_graphical=non_graphical, new_desktop_session=True)"
      ]
    },
    {
      "cell_type": "markdown",
      "metadata": {},
      "source": [
        "## Create wave ports\nCreate wave ports.\n\n"
      ]
    },
    {
      "cell_type": "code",
      "execution_count": null,
      "metadata": {
        "collapsed": false
      },
      "outputs": [],
      "source": [
        "h3d.create_edge_port(\"line_3\", 0, iswave=True, wave_vertical_extension=10, wave_horizontal_extension=10)\nh3d.create_edge_port(\"line_3\", 2, iswave=True, wave_vertical_extension=10, wave_horizontal_extension=10)"
      ]
    },
    {
      "cell_type": "markdown",
      "metadata": {},
      "source": [
        "## Edit airbox extents\nEdit airbox extents.\n\n"
      ]
    },
    {
      "cell_type": "code",
      "execution_count": null,
      "metadata": {
        "collapsed": false
      },
      "outputs": [],
      "source": [
        "h3d.edit_hfss_extents(air_vertical_positive_padding=\"10mm\",\n                      air_vertical_negative_padding=\"1mm\")"
      ]
    },
    {
      "cell_type": "markdown",
      "metadata": {},
      "source": [
        "## Create setup\nCreate an HFSS simulation setup.\n\n"
      ]
    },
    {
      "cell_type": "code",
      "execution_count": null,
      "metadata": {
        "collapsed": false
      },
      "outputs": [],
      "source": [
        "setup = h3d.create_setup()\nsetup[\"MaxPasses\"]=2\nsetup[\"AdaptiveFrequency\"]=\"3GHz\"\nsetup[\"SaveAdaptiveCurrents\"]=True\nh3d.create_linear_count_sweep(\n    setupname=setup.name,\n    unit=\"GHz\",\n    freqstart=0,\n    freqstop=5,\n    num_of_freq_points=1001,\n    sweepname=\"sweep1\",\n    sweep_type=\"Interpolating\",\n    interpolation_tol_percent=1,\n    interpolation_max_solutions=255,\n    save_fields=False,\n    use_q3d_for_dc=False,\n)"
      ]
    },
    {
      "cell_type": "markdown",
      "metadata": {},
      "source": [
        "## Plot layout\nPlot layout\n\n"
      ]
    },
    {
      "cell_type": "code",
      "execution_count": null,
      "metadata": {
        "collapsed": false
      },
      "outputs": [],
      "source": [
        "h3d.modeler.edb.nets.plot(None, None, color_by_net=True)\n\ncp_name = h3d.modeler.clip_plane()\n\nh3d.save_project()"
      ]
    },
    {
      "cell_type": "markdown",
      "metadata": {},
      "source": [
        "## Start HFSS solver\nStart the HFSS solver by uncommenting the ``h3d.analyze()`` command.\n\n"
      ]
    },
    {
      "cell_type": "code",
      "execution_count": null,
      "metadata": {
        "collapsed": false
      },
      "outputs": [],
      "source": [
        "h3d.analyze()\n\n# Save AEDT\naedt_path = aedb_path.replace(\".aedb\", \".aedt\")\nh3d.logger.info(\"Your AEDT project is saved to {}\".format(aedt_path))\nsolutions = h3d.get_touchstone_data()[0]\nsolutions.log_x = False\nsolutions.plot()\n\nh3d.post.create_fieldplot_cutplane(cp_name, \"Mag_E\", h3d.nominal_adaptive, intrinsincDict={\"Freq\":\"3GHz\", \"Phase\":\"0deg\"})\n\n# Release AEDT.\nh3d.release_desktop()"
      ]
    }
  ],
  "metadata": {
    "kernelspec": {
      "display_name": "Python 3",
      "language": "python",
      "name": "python3"
    },
    "language_info": {
      "codemirror_mode": {
        "name": "ipython",
        "version": 3
      },
      "file_extension": ".py",
      "mimetype": "text/x-python",
      "name": "python",
      "nbconvert_exporter": "python",
      "pygments_lexer": "ipython3",
      "version": "3.10.5"
    }
  },
  "nbformat": 4,
  "nbformat_minor": 0
}