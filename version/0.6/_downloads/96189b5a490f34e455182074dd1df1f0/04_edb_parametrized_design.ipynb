{
  "cells": [
    {
      "cell_type": "markdown",
      "metadata": {},
      "source": [
        "\n# EDB: fully parametrized design\nThis example shows how you can use HFSS 3D Layout to create and solve a parametric design.\n"
      ]
    },
    {
      "cell_type": "markdown",
      "metadata": {},
      "source": [
        "## Perform required imports\nPerform required imports, which includes importing the ``Hfss3dlayout`` object\nand initializing it on version 2023 R2.\n\n"
      ]
    },
    {
      "cell_type": "code",
      "execution_count": null,
      "metadata": {
        "collapsed": false
      },
      "outputs": [],
      "source": [
        "import pyaedt\nimport os"
      ]
    },
    {
      "cell_type": "markdown",
      "metadata": {},
      "source": [
        "## Set non-graphical mode\nSet non-graphical mode. The default is ``False``.\n\n"
      ]
    },
    {
      "cell_type": "code",
      "execution_count": null,
      "metadata": {
        "collapsed": false
      },
      "outputs": [],
      "source": [
        "non_graphical = False"
      ]
    },
    {
      "cell_type": "markdown",
      "metadata": {},
      "source": [
        "## Launch EDB\nLaunch EDB.\n\n"
      ]
    },
    {
      "cell_type": "code",
      "execution_count": null,
      "metadata": {
        "collapsed": false
      },
      "outputs": [],
      "source": [
        "aedb_path = os.path.join(pyaedt.generate_unique_folder_name(), pyaedt.generate_unique_name(\"pcb\") + \".aedb\")\nprint(aedb_path)\nedb = pyaedt.Edb(edbpath=aedb_path, edbversion=\"2023.2\")"
      ]
    },
    {
      "cell_type": "markdown",
      "metadata": {},
      "source": [
        "## Define parameters\nDefine the parameters.\n\n"
      ]
    },
    {
      "cell_type": "code",
      "execution_count": null,
      "metadata": {
        "collapsed": false
      },
      "outputs": [],
      "source": [
        "params = {\"$ms_width\": \"0.4mm\",\n          \"$sl_width\": \"0.2mm\",\n          \"$ms_spacing\": \"0.2mm\",\n          \"$sl_spacing\": \"0.1mm\",\n          \"$via_spacing\": \"0.5mm\",\n          \"$via_diam\": \"0.3mm\",\n          \"$pad_diam\": \"0.6mm\",\n          \"$anti_pad_diam\": \"0.7mm\",\n          \"$pcb_len\": \"30mm\",\n          \"$pcb_w\": \"5mm\",\n          \"$x_size\": \"1.2mm\",\n          \"$y_size\": \"1mm\",\n          \"$corner_rad\": \"0.5mm\"}\n\nfor par_name in params:\n    edb.add_project_variable(par_name, params[par_name])"
      ]
    },
    {
      "cell_type": "markdown",
      "metadata": {},
      "source": [
        "## Define stackup layers\nDefine the stackup layers from bottom to top.\n\n"
      ]
    },
    {
      "cell_type": "code",
      "execution_count": null,
      "metadata": {
        "collapsed": false
      },
      "outputs": [],
      "source": [
        "layers = [{\"name\": \"bottom\", \"layer_type\": \"signal\", \"thickness\": \"35um\", \"material\": \"copper\"},\n          {\"name\": \"diel_3\", \"layer_type\": \"dielectric\", \"thickness\": \"275um\", \"material\": \"FR4_epoxy\"},\n          {\"name\": \"sig_2\", \"layer_type\": \"signal\", \"thickness\": \"35um\", \"material\": \"copper\"},\n          {\"name\": \"diel_2\", \"layer_type\": \"dielectric\", \"thickness\": \"275um\", \"material\": \"FR4_epoxy\"},\n          {\"name\": \"sig_1\", \"layer_type\": \"signal\", \"thickness\": \"35um\", \"material\": \"copper\"},\n          {\"name\": \"diel_1\", \"layer_type\": \"dielectric\", \"thickness\": \"275um\", \"material\": \"FR4_epoxy\"},\n          {\"name\": \"top\", \"layer_type\": \"signal\", \"thickness\": \"35um\", \"material\": \"copper\"}]\n\n\n# Create EDB stackup.\n# Bottom layer\nprev = None\nfor layer in layers:\n    edb.stackup.add_layer(layer[\"name\"], base_layer=prev, layer_type=layer[\"layer_type\"], thickness=layer[\"thickness\"],\n                                          material=layer[\"material\"])\n    prev = layer[\"name\"]"
      ]
    },
    {
      "cell_type": "markdown",
      "metadata": {},
      "source": [
        "## Create padstack for signal via\nCreate a parametrized padstack for the signal via.\n\n"
      ]
    },
    {
      "cell_type": "code",
      "execution_count": null,
      "metadata": {
        "collapsed": false
      },
      "outputs": [],
      "source": [
        "signal_via_padstack = \"automated_via\"\nedb.padstacks.create(\n            padstackname=signal_via_padstack,\n            holediam=\"$via_diam\",\n            paddiam=\"$pad_diam\",\n            antipaddiam=\"\",\n            antipad_shape=\"Bullet\",\n            x_size=\"$x_size\",\n            y_size=\"$y_size\",\n            corner_radius=\"$corner_rad\",\n            start_layer=layers[-1][\"name\"],\n            stop_layer=layers[-3][\"name\"]\n        )"
      ]
    },
    {
      "cell_type": "markdown",
      "metadata": {},
      "source": [
        "## Assign net names\n# Assign net names. There are only two signal nets.\n\n"
      ]
    },
    {
      "cell_type": "code",
      "execution_count": null,
      "metadata": {
        "collapsed": false
      },
      "outputs": [],
      "source": [
        "net_p = \"p\"\nnet_n = \"n\""
      ]
    },
    {
      "cell_type": "markdown",
      "metadata": {},
      "source": [
        "## Place signal vias\nPlace signal vias.\n\n"
      ]
    },
    {
      "cell_type": "code",
      "execution_count": null,
      "metadata": {
        "collapsed": false
      },
      "outputs": [],
      "source": [
        "edb.padstacks.place(\n            position=[\"$pcb_len/3\", \"($ms_width+$ms_spacing+$via_spacing)/2\"],\n            definition_name=signal_via_padstack,\n            net_name=net_p,\n            via_name=\"\",\n            rotation=90.0\n)\n\nedb.padstacks.place(\n            position=[\"2*$pcb_len/3\", \"($ms_width+$ms_spacing+$via_spacing)/2\"],\n            definition_name=signal_via_padstack,\n            net_name=net_p,\n            via_name=\"\",\n            rotation=90.0,\n)\n\nedb.padstacks.place(\n            position=[\"$pcb_len/3\", \"-($ms_width+$ms_spacing+$via_spacing)/2\"],\n            definition_name=signal_via_padstack,\n            net_name=net_n,\n            via_name=\"\",\n            rotation=-90.0,\n)\n\nedb.padstacks.place(\n            position=[\"2*$pcb_len/3\", \"-($ms_width+$ms_spacing+$via_spacing)/2\"],\n            definition_name=signal_via_padstack,\n            net_name=net_n,\n            via_name=\"\",\n            rotation=-90.0,\n)\n\n\n# ###############################################################################\n# Draw parametrized traces\n# ~~~~~~~~~~~~~~~~~~~~~~~~\n# Draw parametrized traces.\n# Trace the width and the routing (Microstrip-Stripline-Microstrip).\n# Applies to both p and n nets.\n\nwidth = [\"$ms_width\", \"$sl_width\", \"$ms_width\"]                       # Trace width, n and p\nroute_layer = [layers[-1][\"name\"], layers[4][\"name\"], layers[-1][\"name\"]]    # Routing layer, n and p\n\n# Define points for three traces in the \"p\" net\n\npoints_p = [\n           [[\"0.0\", \"($ms_width+$ms_spacing)/2\"],\n            [\"$pcb_len/3-2*$via_spacing\", \"($ms_width+$ms_spacing)/2\"],\n            [\"$pcb_len/3-$via_spacing\", \"($ms_width+$ms_spacing+$via_spacing)/2\"],\n            [\"$pcb_len/3\", \"($ms_width+$ms_spacing+$via_spacing)/2\"],\n           ],\n           [[\"$pcb_len/3\", \"($ms_width+$sl_spacing+$via_spacing)/2\"],\n            [\"$pcb_len/3+$via_spacing\", \"($ms_width+$sl_spacing+$via_spacing)/2\"],\n            [\"$pcb_len/3+2*$via_spacing\", \"($sl_width+$sl_spacing)/2\"],\n            [\"2*$pcb_len/3-2*$via_spacing\", \"($sl_width+$sl_spacing)/2\"],\n            [\"2*$pcb_len/3-$via_spacing\", \"($ms_width+$sl_spacing+$via_spacing)/2\"],\n            [\"2*$pcb_len/3\", \"($ms_width+$sl_spacing+$via_spacing)/2\"],\n           ],\n           [[\"2*$pcb_len/3\", \"($ms_width+$ms_spacing+$via_spacing)/2\"],\n            [\"2*$pcb_len/3+$via_spacing\", \"($ms_width+$ms_spacing+$via_spacing)/2\"],\n            [\"2*$pcb_len/3+2*$via_spacing\", \"($ms_width+$ms_spacing)/2\"],\n            [\"$pcb_len\", \"($ms_width+$ms_spacing)/2\"],\n           ],\n          ]\n\n# Define points for three traces in the \"n\" net\n\npoints_n = [\n          [[\"0.0\", \"-($ms_width+$ms_spacing)/2\"],\n           [\"$pcb_len/3-2*$via_spacing\", \"-($ms_width+$ms_spacing)/2\"],\n           [\"$pcb_len/3-$via_spacing\", \"-($ms_width+$ms_spacing+$via_spacing)/2\"],\n           [\"$pcb_len/3\", \"-($ms_width+$ms_spacing+$via_spacing)/2\"],\n          ],\n          [[\"$pcb_len/3\", \"-($ms_width+$sl_spacing+$via_spacing)/2\"],\n           [\"$pcb_len/3+$via_spacing\", \"-($ms_width+$sl_spacing+$via_spacing)/2\"],\n           [\"$pcb_len/3+2*$via_spacing\", \"-($ms_width+$sl_spacing)/2\"],\n           [\"2*$pcb_len/3-2*$via_spacing\", \"-($ms_width+$sl_spacing)/2\"],\n           [\"2*$pcb_len/3-$via_spacing\", \"-($ms_width+$sl_spacing+$via_spacing)/2\"],\n           [\"2*$pcb_len/3\", \"-($ms_width+$sl_spacing+$via_spacing)/2\"],\n          ],\n          [[\"2*$pcb_len/3\", \"-($ms_width+$ms_spacing+$via_spacing)/2\"],\n           [\"2*$pcb_len/3 + $via_spacing\", \"-($ms_width+$ms_spacing+$via_spacing)/2\"],\n           [\"2*$pcb_len/3 + 2*$via_spacing\", \"-($ms_width+$ms_spacing)/2\"],\n           [\"$pcb_len\", \"-($ms_width + $ms_spacing)/2\"],\n          ],\n         ]\n# ###############################################################################\n# Add traces to EDB\n# ~~~~~~~~~~~~~~~~~\n# Add traces to EDB.\n\ntrace_p = []\ntrace_n = []\nfor n in range(len(points_p)):\n    trace_p.append(edb.modeler.create_trace(points_p[n], route_layer[n], width[n], net_p, \"Flat\", \"Flat\"))\n    trace_n.append(edb.modeler.create_trace(points_n[n], route_layer[n], width[n], net_n, \"Flat\", \"Flat\"))"
      ]
    },
    {
      "cell_type": "markdown",
      "metadata": {},
      "source": [
        "## Create wave ports\nCreate wave ports:\n\n"
      ]
    },
    {
      "cell_type": "code",
      "execution_count": null,
      "metadata": {
        "collapsed": false
      },
      "outputs": [],
      "source": [
        "edb.hfss.create_differential_wave_port(trace_p[0].id, [\"0.0\", \"($ms_width+$ms_spacing)/2\"],\n                                            trace_n[0].id, [\"0.0\", \"-($ms_width+$ms_spacing)/2\"],\n                                            \"wave_port_1\")\nedb.hfss.create_differential_wave_port(trace_p[2].id, [\"$pcb_len\", \"($ms_width+$ms_spacing)/2\"],\n                                            trace_n[2].id, [\"$pcb_len\", \"-($ms_width + $ms_spacing)/2\"],\n                                            \"wave_port_2\")"
      ]
    },
    {
      "cell_type": "markdown",
      "metadata": {},
      "source": [
        "## Draw ground polygons\nDraw ground polygons.\n\n"
      ]
    },
    {
      "cell_type": "code",
      "execution_count": null,
      "metadata": {
        "collapsed": false
      },
      "outputs": [],
      "source": [
        "gnd_poly = [[0.0, \"-$pcb_w/2\"],\n            [\"$pcb_len\", \"-$pcb_w/2\"],\n            [\"$pcb_len\", \"$pcb_w/2\"],\n            [0.0, \"$pcb_w/2\"]]\ngnd_shape = edb.modeler.Shape(\"polygon\", points=gnd_poly)\n\n# Void in ground for traces on the signal routing layer\n\nvoid_poly = [[\"$pcb_len/3\", \"-($ms_width+$ms_spacing+$via_spacing+$anti_pad_diam)/2-$via_spacing/2\"],\n             [\"$pcb_len/3 + $via_spacing\", \"-($ms_width+$ms_spacing+$via_spacing+$anti_pad_diam)/2-$via_spacing/2\"],\n             [\"$pcb_len/3 + 2*$via_spacing\",\n             \"-($ms_width+$ms_spacing+$via_spacing+$anti_pad_diam)/2\"],\n             [\"2*$pcb_len/3 - 2*$via_spacing\",\n             \"-($ms_width+$ms_spacing+$via_spacing+$anti_pad_diam)/2\"],\n             [\"2*$pcb_len/3 - $via_spacing\",\n             \"-($ms_width+$ms_spacing+$via_spacing+$anti_pad_diam)/2-$via_spacing/2\"],\n             [\"2*$pcb_len/3\", \"-($ms_width+$ms_spacing+$via_spacing+$anti_pad_diam)/2-$via_spacing/2\"],\n             [\"2*$pcb_len/3\", \"($ms_width+$ms_spacing+$via_spacing+$anti_pad_diam)/2+$via_spacing/2\"],\n             [\"2*$pcb_len/3 - $via_spacing\", \"($ms_width+$ms_spacing+$via_spacing+$anti_pad_diam)/2+$via_spacing/2\"],\n             [\"2*$pcb_len/3 - 2*$via_spacing\", \"($ms_width+$ms_spacing+$via_spacing+$anti_pad_diam)/2\"],\n             [\"$pcb_len/3 + 2*$via_spacing\", \"($ms_width+$ms_spacing+$via_spacing+$anti_pad_diam)/2\"],\n             [\"$pcb_len/3 + $via_spacing\", \"($ms_width+$ms_spacing+$via_spacing+$anti_pad_diam)/2+$via_spacing/2\"],\n             [\"$pcb_len/3\", \"($ms_width+$ms_spacing+$via_spacing+$anti_pad_diam)/2+$via_spacing/2\"],\n             [\"$pcb_len/3\", \"($ms_width+$ms_spacing+$via_spacing+$anti_pad_diam)/2\"]]\n\nvoid_shape = edb.modeler.Shape(\"polygon\", points=void_poly)\n\n# Add ground layers\n\nfor layer in layers[:-1:2]:\n\n    # add void if the layer is the signal routing layer.\n    void = [void_shape] if layer[\"name\"] == route_layer[1] else []\n\n    edb.modeler.create_polygon(main_shape=gnd_shape,\n                                       layer_name=layer[\"name\"],\n                                       voids=void,\n                                       net_name=\"gnd\")"
      ]
    },
    {
      "cell_type": "markdown",
      "metadata": {},
      "source": [
        "## Plot EDB\nPlot EDB.\n\n"
      ]
    },
    {
      "cell_type": "code",
      "execution_count": null,
      "metadata": {
        "collapsed": false
      },
      "outputs": [],
      "source": [
        "edb.nets.plot(None)"
      ]
    },
    {
      "cell_type": "markdown",
      "metadata": {},
      "source": [
        "## Save EDB\nSave EDB.\n\n"
      ]
    },
    {
      "cell_type": "code",
      "execution_count": null,
      "metadata": {
        "collapsed": false
      },
      "outputs": [],
      "source": [
        "edb.save_edb()\nedb.close_edb()"
      ]
    },
    {
      "cell_type": "markdown",
      "metadata": {},
      "source": [
        "## Open EDB in AEDT\nOpen EDB in AEDT.\n\n"
      ]
    },
    {
      "cell_type": "code",
      "execution_count": null,
      "metadata": {
        "collapsed": false
      },
      "outputs": [],
      "source": [
        "h3d = pyaedt.Hfss3dLayout(projectname=aedb_path, specified_version=\"2023.2\",\n                          non_graphical=non_graphical, new_desktop_session=True)"
      ]
    },
    {
      "cell_type": "markdown",
      "metadata": {},
      "source": [
        "## Add HFSS simulation setup\nAdd HFSS simulation setup.\n\n"
      ]
    },
    {
      "cell_type": "code",
      "execution_count": null,
      "metadata": {
        "collapsed": false
      },
      "outputs": [],
      "source": [
        "setup = h3d.create_setup()\nsetup.props[\"AdaptiveSettings\"][\"SingleFrequencyDataList\"][\"AdaptiveFrequencyData\"][\"MaxPasses\"] = 3\n\nh3d.create_linear_count_sweep(\n    setupname=setup.name,\n    unit=\"GHz\",\n    freqstart=0,\n    freqstop=10,\n    num_of_freq_points=1001,\n    sweepname=\"sweep1\",\n    sweep_type=\"Interpolating\",\n    interpolation_tol_percent=1,\n    interpolation_max_solutions=255,\n    save_fields=False,\n    use_q3d_for_dc=False,\n)"
      ]
    },
    {
      "cell_type": "markdown",
      "metadata": {},
      "source": [
        "## Set Differential Pairs.\nDefine the differential pairs to be used in the postprocessing.\n\n"
      ]
    },
    {
      "cell_type": "code",
      "execution_count": null,
      "metadata": {
        "collapsed": false
      },
      "outputs": [],
      "source": [
        "h3d.set_differential_pair(diff_name=\"In\", positive_terminal=\"wave_port_1:T1\", negative_terminal=\"wave_port_1:T2\")\nh3d.set_differential_pair(diff_name=\"Out\", positive_terminal=\"wave_port_2:T1\", negative_terminal=\"wave_port_2:T2\")"
      ]
    },
    {
      "cell_type": "markdown",
      "metadata": {},
      "source": [
        "## Start HFSS solver\nStart the HFSS solver by uncommenting the ``h3d.analyze()`` command.\n\n"
      ]
    },
    {
      "cell_type": "code",
      "execution_count": null,
      "metadata": {
        "collapsed": false
      },
      "outputs": [],
      "source": [
        "h3d.analyze()"
      ]
    },
    {
      "cell_type": "markdown",
      "metadata": {},
      "source": [
        "## Generate Plot\nGenerate the plot of differential pairs.\n\n"
      ]
    },
    {
      "cell_type": "code",
      "execution_count": null,
      "metadata": {
        "collapsed": false
      },
      "outputs": [],
      "source": [
        "solutions = h3d.post.get_solution_data([\"dB(S(In,In))\", \"dB(S(In,Out))\"], context=\"Differential Pairs\")\nsolutions.plot()\n\n\n\n\n\nh3d.release_desktop()"
      ]
    },
    {
      "cell_type": "markdown",
      "metadata": {},
      "source": [
        "Note that the ground nets are only connected to each other due\nto the wave ports. The problem with poor grounding can be seen in the\nS-parameters. Try to modify this script to add ground vias and eliminate\nthe resonance.\n\n"
      ]
    }
  ],
  "metadata": {
    "kernelspec": {
      "display_name": "Python 3",
      "language": "python",
      "name": "python3"
    },
    "language_info": {
      "codemirror_mode": {
        "name": "ipython",
        "version": 3
      },
      "file_extension": ".py",
      "mimetype": "text/x-python",
      "name": "python",
      "nbconvert_exporter": "python",
      "pygments_lexer": "ipython3",
      "version": "3.10.5"
    }
  },
  "nbformat": 4,
  "nbformat_minor": 0
}