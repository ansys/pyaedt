{
  "cells": [
    {
      "cell_type": "code",
      "execution_count": null,
      "metadata": {
        "collapsed": false
      },
      "outputs": [],
      "source": [
        "%matplotlib inline"
      ]
    },
    {
      "cell_type": "markdown",
      "metadata": {},
      "source": [
        "\n# HFSS: advanced far field postprocessing\nThis example shows how you can use advanced postprocessing functions to create plots\nusing Matplotlib without opening the HFSS user interface.\nThis examples runs only on Windows using CPython.\n"
      ]
    },
    {
      "cell_type": "markdown",
      "metadata": {},
      "source": [
        "## Perform required imports\nPerform required imports.\n\n"
      ]
    },
    {
      "cell_type": "code",
      "execution_count": null,
      "metadata": {
        "collapsed": false
      },
      "outputs": [],
      "source": [
        "import os\nimport time\n\nimport pyaedt\nfrom pyaedt.generic.general_methods import remove_project_lock\n\nproject_name = pyaedt.downloads.download_antenna_array()"
      ]
    },
    {
      "cell_type": "markdown",
      "metadata": {},
      "source": [
        "## Set non-graphical mode\nSet non-graphical mode. ``\"PYAEDT_NON_GRAPHICAL\"`` is needed to generate\ndocumentation only.\nYou can set ``non_graphical`` either to ``True`` or ``False``.\n\n"
      ]
    },
    {
      "cell_type": "code",
      "execution_count": null,
      "metadata": {
        "collapsed": false
      },
      "outputs": [],
      "source": [
        "non_graphical = False"
      ]
    },
    {
      "cell_type": "markdown",
      "metadata": {},
      "source": [
        "## Import modules for postprocessing\nImport modules for postprocessing.\n\n"
      ]
    },
    {
      "cell_type": "code",
      "execution_count": null,
      "metadata": {
        "collapsed": false
      },
      "outputs": [],
      "source": [
        "import numpy as np\nimport matplotlib.pyplot as plt"
      ]
    },
    {
      "cell_type": "markdown",
      "metadata": {},
      "source": [
        "## Launch AEDT\nLaunch AEDT 2023 R1 in non-graphical mode.\n\n"
      ]
    },
    {
      "cell_type": "code",
      "execution_count": null,
      "metadata": {
        "collapsed": false
      },
      "outputs": [],
      "source": [
        "desktopVersion = \"2023.1\"\nNewThread = True\ndesktop = pyaedt.launch_desktop(specified_version=desktopVersion,\n                                non_graphical=non_graphical,\n                                new_desktop_session=NewThread\n                                )"
      ]
    },
    {
      "cell_type": "markdown",
      "metadata": {},
      "source": [
        "## Open HFSS project\nOpen the HFSS project. ``Hfss`` class allows to initialize a new project or\nopen an existing project and point to a design name.\n\n"
      ]
    },
    {
      "cell_type": "code",
      "execution_count": null,
      "metadata": {
        "collapsed": false
      },
      "outputs": [],
      "source": [
        "remove_project_lock(project_name)\n\nhfss = pyaedt.Hfss(projectname=project_name,\n                   designname=\"4X4_MultiCell_CA-Array\")"
      ]
    },
    {
      "cell_type": "markdown",
      "metadata": {},
      "source": [
        "## Solve HFSS project\nSolves the HFSS project.\nThe solution time is computed.\n\n"
      ]
    },
    {
      "cell_type": "code",
      "execution_count": null,
      "metadata": {
        "collapsed": false
      },
      "outputs": [],
      "source": [
        "hfss.analyze_setup(\"Setup1\")\nhfss.save_project()"
      ]
    },
    {
      "cell_type": "markdown",
      "metadata": {},
      "source": [
        "## Get efields data from solution\nGets efields data from the solution.\n\n"
      ]
    },
    {
      "cell_type": "code",
      "execution_count": null,
      "metadata": {
        "collapsed": false
      },
      "outputs": [],
      "source": [
        "start = time.time()\nff_data = hfss.post.get_efields_data(ff_setup=\"3D\")\nend = time.time() - start\nprint(\"Postprocessing Time\", end)"
      ]
    },
    {
      "cell_type": "markdown",
      "metadata": {},
      "source": [
        "## Calculate far field values\nUse Matplotlib to read the solution generated in ``ff_data``. Process\nthe field based on Phi and Theta and generate a plot.\n\n"
      ]
    },
    {
      "cell_type": "code",
      "execution_count": null,
      "metadata": {
        "collapsed": false
      },
      "outputs": [],
      "source": [
        "def ff_calc(x=0, y=0, qty=\"rETotal\", dB=True):\n    array_size = [4, 4]\n    loc_offset = 2  # if array index is not starting at [1,1]\n    xphase = float(y)\n    yphase = float(x)\n    array_shape = (array_size[0], array_size[1])\n    weight = np.zeros(array_shape, dtype=complex)\n    mag = np.ones(array_shape, dtype=\"object\")\n    port_names_arranged = np.chararray(array_shape)\n    all_ports = ff_data.keys()\n    w_dict = {}\n    # calculate weights based off of progressive phase shift\n    for m in range(array_shape[0]):\n        for n in range(array_shape[1]):\n            mag_val = mag[m][n]\n            ang = np.radians(xphase * m) + np.radians(yphase * n)\n            weight[m][n] = np.sqrt(mag_val) * np.exp(1j * ang)\n            current_index_str = \"[\" + str(m + 1 + loc_offset) + \",\" + str(n + 1 + loc_offset) + \"]\"\n            port_name = [y for y in all_ports if current_index_str in y]\n            w_dict[port_name[0]] = weight[m][n]\n\n    length_of_ff_data = len(ff_data[port_name[0]][2])\n\n    array_shape = (len(w_dict), length_of_ff_data)\n    rEtheta_fields = np.zeros(array_shape, dtype=complex)\n    rEphi_fields = np.zeros(array_shape, dtype=complex)\n    w = np.zeros((1, array_shape[0]), dtype=complex)\n    # create port mapping\n    for n, port in enumerate(ff_data.keys()):\n        re_theta = ff_data[port][2]\n        re_phi = ff_data[port][3]\n        re_theta = re_theta * w_dict[port]\n\n        w[0][n] = w_dict[port]\n        re_phi = re_phi * w_dict[port]\n\n        rEtheta_fields[n] = re_theta\n        rEphi_fields[n] = re_phi\n\n        theta_range = ff_data[port][0]\n        phi_range = ff_data[port][1]\n        theta = [int(np.min(theta_range)), int(np.max(theta_range)), np.size(theta_range)]\n        phi = [int(np.min(phi_range)), int(np.max(phi_range)), np.size(phi_range)]\n        Ntheta = len(theta_range)\n        Nphi = len(phi_range)\n\n    rEtheta_fields = np.dot(w, rEtheta_fields)\n    rEtheta_fields = np.reshape(rEtheta_fields, (Ntheta, Nphi))\n\n    rEphi_fields = np.dot(w, rEphi_fields)\n    rEphi_fields = np.reshape(rEphi_fields, (Ntheta, Nphi))\n\n    all_qtys = {}\n    all_qtys[\"rEPhi\"] = rEphi_fields\n    all_qtys[\"rETheta\"] = rEtheta_fields\n    all_qtys[\"rETotal\"] = np.sqrt(np.power(np.abs(rEphi_fields), 2) + np.power(np.abs(rEtheta_fields), 2))\n\n    pin = np.sum(w)\n    print(str(pin))\n    real_gain = 2 * np.pi * np.abs(np.power(all_qtys[\"rETotal\"], 2)) / pin / 377\n    all_qtys[\"RealizedGain\"] = real_gain\n\n    if dB:\n        if \"Gain\" in qty:\n            qty_to_plot = 10 * np.log10(np.abs(all_qtys[qty]))\n        else:\n            qty_to_plot = 20 * np.log10(np.abs(all_qtys[qty]))\n        qty_str = qty + \" (dB)\"\n    else:\n        qty_to_plot = np.abs(all_qtys[qty])\n        qty_str = qty + \" (mag)\"\n\n    plt.figure(figsize=(25, 15))\n    plt.title(qty_str)\n    plt.xlabel(\"Theta (degree)\")\n    plt.ylabel(\"Phi (degree)\")\n\n    plt.imshow(qty_to_plot, cmap=\"jet\")\n    plt.colorbar()\n\n    np.max(qty_to_plot)"
      ]
    },
    {
      "cell_type": "markdown",
      "metadata": {},
      "source": [
        "## Create plot and interact with it\nCreate the plot and interact with it.\n\n"
      ]
    },
    {
      "cell_type": "code",
      "execution_count": null,
      "metadata": {
        "collapsed": false
      },
      "outputs": [],
      "source": [
        "ff_calc()\n\n# interact(ff_calc, x=widgets.FloatSlider(value=0, min=-180, max=180, step=1),\n#          y=widgets.FloatSlider(value=0, min=-180, max=180, step=1))\n\n\nvals = hfss.post.get_far_field_data(setup_sweep_name=hfss.nominal_sweep,\n                                    expression=\"RealizedGainTotal\",\n                                    domain=\"Elevation\"\n                                    )"
      ]
    },
    {
      "cell_type": "markdown",
      "metadata": {},
      "source": [
        "## Generate polar plot\nGenerate a polar plot.\n\n"
      ]
    },
    {
      "cell_type": "code",
      "execution_count": null,
      "metadata": {
        "collapsed": false
      },
      "outputs": [],
      "source": [
        "vals.plot(math_formula=\"db20\", is_polar=True)"
      ]
    },
    {
      "cell_type": "markdown",
      "metadata": {},
      "source": [
        "## Generate scalar plot\nGenerate a scalar plot.\n\n"
      ]
    },
    {
      "cell_type": "code",
      "execution_count": null,
      "metadata": {
        "collapsed": false
      },
      "outputs": [],
      "source": [
        "vals.plot(math_formula=\"db20\", is_polar=False)"
      ]
    },
    {
      "cell_type": "markdown",
      "metadata": {},
      "source": [
        "## Generate plot using Phi as primary sweep\nGenerate the plot using Phi as the primary sweep.\n\n"
      ]
    },
    {
      "cell_type": "code",
      "execution_count": null,
      "metadata": {
        "collapsed": false
      },
      "outputs": [],
      "source": [
        "vals3d = hfss.post.get_far_field_data(setup_sweep_name=hfss.nominal_sweep,\n                                      expression=\"RealizedGainTotal\",\n                                      domain=\"Infinite Sphere1\"\n                                      )\n\nvals3d.plot_3d()"
      ]
    },
    {
      "cell_type": "markdown",
      "metadata": {},
      "source": [
        "## Close HFSS project and AEDT\nClose the HFSS project and release AEDT.\n\n"
      ]
    },
    {
      "cell_type": "code",
      "execution_count": null,
      "metadata": {
        "collapsed": false
      },
      "outputs": [],
      "source": [
        "# hfss.close_project()\nhfss.save_project()\ndesktop.release_desktop()"
      ]
    }
  ],
  "metadata": {
    "kernelspec": {
      "display_name": "Python 3",
      "language": "python",
      "name": "python3"
    },
    "language_info": {
      "codemirror_mode": {
        "name": "ipython",
        "version": 3
      },
      "file_extension": ".py",
      "mimetype": "text/x-python",
      "name": "python",
      "nbconvert_exporter": "python",
      "pygments_lexer": "ipython3",
      "version": "3.8.10"
    }
  },
  "nbformat": 4,
  "nbformat_minor": 0
}