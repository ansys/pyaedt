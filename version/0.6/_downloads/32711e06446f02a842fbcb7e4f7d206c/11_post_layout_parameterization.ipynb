{
  "cells": [
    {
      "cell_type": "markdown",
      "metadata": {},
      "source": [
        "\n# EDB: post-layout parameterization\nThis example shows you how to parameterize the signal net in post-layout.\n"
      ]
    },
    {
      "cell_type": "markdown",
      "metadata": {},
      "source": [
        "## Define input parameters\n\n"
      ]
    },
    {
      "cell_type": "code",
      "execution_count": null,
      "metadata": {
        "collapsed": false
      },
      "outputs": [],
      "source": [
        "signal_net_name = \"DDR4_ALERT3\"\ncoplanar_plane_net_name = \"1V0\"  # Specify coplanar plane net name for adding clearance\nlayers = [\"16_Bottom\"]  # Specify layers to be parameterized"
      ]
    },
    {
      "cell_type": "markdown",
      "metadata": {},
      "source": [
        "## Perform required imports\n\n"
      ]
    },
    {
      "cell_type": "code",
      "execution_count": null,
      "metadata": {
        "collapsed": false
      },
      "outputs": [],
      "source": [
        "import os\nimport tempfile\nimport pyaedt\n\nfrom pyaedt import downloads\nfrom pyaedt import Edb\n\ntemppath =  pyaedt.generate_unique_folder_name()"
      ]
    },
    {
      "cell_type": "markdown",
      "metadata": {},
      "source": [
        "## Download and open example layout file in edb format\n\n"
      ]
    },
    {
      "cell_type": "code",
      "execution_count": null,
      "metadata": {
        "collapsed": false
      },
      "outputs": [],
      "source": [
        "edb_fpath = pyaedt.downloads.download_file('edb/ANSYS-HSD_V1.aedb',destination=temppath)\nappedb = Edb(edb_fpath, edbversion=\"2023.2\")"
      ]
    },
    {
      "cell_type": "markdown",
      "metadata": {},
      "source": [
        "## Cutout\n\n"
      ]
    },
    {
      "cell_type": "code",
      "execution_count": null,
      "metadata": {
        "collapsed": false
      },
      "outputs": [],
      "source": [
        "appedb.cutout([signal_net_name], [coplanar_plane_net_name, \"GND\"],\n              remove_single_pin_components=True)"
      ]
    },
    {
      "cell_type": "markdown",
      "metadata": {},
      "source": [
        "## Get all trace segments from the signal net\n\n"
      ]
    },
    {
      "cell_type": "code",
      "execution_count": null,
      "metadata": {
        "collapsed": false
      },
      "outputs": [],
      "source": [
        "net = appedb.nets[signal_net_name]\ntrace_segments = []\nfor p in net.primitives:\n    if p.layer_name not in layers:\n        continue\n    if not p.type == \"Path\":\n        continue\n    trace_segments.append(p)"
      ]
    },
    {
      "cell_type": "markdown",
      "metadata": {},
      "source": [
        "## Create and assign delta w variable per layer\n\n"
      ]
    },
    {
      "cell_type": "code",
      "execution_count": null,
      "metadata": {
        "collapsed": false
      },
      "outputs": [],
      "source": [
        "for p in trace_segments:\n    vname = f\"{p.net_name}_{p.layer_name}_dw\"\n    if vname not in appedb.variables:\n        appedb[vname] = \"0mm\"\n    new_w = f\"{p.width}+{vname}\"\n    p.width = new_w"
      ]
    },
    {
      "cell_type": "markdown",
      "metadata": {},
      "source": [
        "## Delete existing clearance\n\n"
      ]
    },
    {
      "cell_type": "code",
      "execution_count": null,
      "metadata": {
        "collapsed": false
      },
      "outputs": [],
      "source": [
        "for p in trace_segments:\n    for g in appedb.modeler.get_polygons_by_layer(p.layer_name, coplanar_plane_net_name):\n        for v in g.voids:\n            if p.is_intersecting(v):\n                v.delete()"
      ]
    },
    {
      "cell_type": "markdown",
      "metadata": {},
      "source": [
        "## Create and assign clearance variable per layer\n\n"
      ]
    },
    {
      "cell_type": "code",
      "execution_count": null,
      "metadata": {
        "collapsed": false
      },
      "outputs": [],
      "source": [
        "for p in trace_segments:\n    clr = f\"{p.net_name}_{p.layer_name}_clr\"\n    if clr not in appedb.variables:\n        appedb[clr] = \"0.5mm\"\n    path = p.get_center_line()\n    for g in appedb.modeler.get_polygons_by_layer(p.layer_name, coplanar_plane_net_name):\n        void = appedb.modeler.create_trace(path, p.layer_name, f\"{p.width}+{clr}*2\")\n        g.add_void(void)"
      ]
    },
    {
      "cell_type": "markdown",
      "metadata": {},
      "source": [
        "## Plot\n\n"
      ]
    },
    {
      "cell_type": "code",
      "execution_count": null,
      "metadata": {
        "collapsed": false
      },
      "outputs": [],
      "source": [
        "appedb.nets.plot(layers=layers[0], size=2000)"
      ]
    },
    {
      "cell_type": "markdown",
      "metadata": {},
      "source": [
        "## Save and close Edb\n\n"
      ]
    },
    {
      "cell_type": "code",
      "execution_count": null,
      "metadata": {
        "collapsed": false
      },
      "outputs": [],
      "source": [
        "save_edb_fpath = os.path.join(temppath, pyaedt.generate_unique_name(\"post_layout_parameterization\") + \".aedb\")\nappedb.save_edb_as(save_edb_fpath)\nprint(\"Edb is saved to \", save_edb_fpath)\nappedb.close_edb()"
      ]
    }
  ],
  "metadata": {
    "kernelspec": {
      "display_name": "Python 3",
      "language": "python",
      "name": "python3"
    },
    "language_info": {
      "codemirror_mode": {
        "name": "ipython",
        "version": 3
      },
      "file_extension": ".py",
      "mimetype": "text/x-python",
      "name": "python",
      "nbconvert_exporter": "python",
      "pygments_lexer": "ipython3",
      "version": "3.10.5"
    }
  },
  "nbformat": 4,
  "nbformat_minor": 0
}