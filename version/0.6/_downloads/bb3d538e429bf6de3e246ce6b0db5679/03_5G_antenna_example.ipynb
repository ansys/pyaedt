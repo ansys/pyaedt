{
  "cells": [
    {
      "cell_type": "markdown",
      "metadata": {},
      "source": [
        "\n# EDB: 5G linear array antenna\nThis example shows how you can use HFSS 3D Layout to create and solve a 5G linear array antenna.\n"
      ]
    },
    {
      "cell_type": "markdown",
      "metadata": {},
      "source": [
        "## Perform required imports\nPerform required imports.\n\n"
      ]
    },
    {
      "cell_type": "code",
      "execution_count": null,
      "metadata": {
        "collapsed": false
      },
      "outputs": [],
      "source": [
        "import tempfile\nimport pyaedt\nimport os"
      ]
    },
    {
      "cell_type": "markdown",
      "metadata": {},
      "source": [
        "## Set non-graphical mode\nSet non-graphical mode. The default is ``False``.\n\n"
      ]
    },
    {
      "cell_type": "code",
      "execution_count": null,
      "metadata": {
        "collapsed": false
      },
      "outputs": [],
      "source": [
        "non_graphical = False\n\n\nclass Patch:\n    def __init__(self, width=0.0, height=0.0, position=0.0):\n        self.width = width\n        self.height = height\n        self.position = position\n\n    @property\n    def points(self):\n        return [\n            [self.position, -self.height / 2],\n            [self.position + self.width, -self.height / 2],\n            [self.position + self.width, self.height / 2],\n            [self.position, self.height / 2],\n        ]\n\n\nclass Line:\n    def __init__(self, length=0.0, width=0.0, position=0.0):\n        self.length = length\n        self.width = width\n        self.position = position\n\n    @property\n    def points(self):\n        return [\n            [self.position, -self.width / 2],\n            [self.position + self.length, -self.width / 2],\n            [self.position + self.length, self.width / 2],\n            [self.position, self.width / 2],\n        ]\n\n\nclass LinearArray:\n    def __init__(self, nb_patch=1, array_length=10e-3, array_width=5e-3):\n        self.nbpatch = nb_patch\n        self.length = array_length\n        self.width = array_width\n\n    @property\n    def points(self):\n        return [\n            [-1e-3, -self.width / 2 - 1e-3],\n            [self.length + 1e-3, -self.width / 2 - 1e-3],\n            [self.length + 1e-3, self.width / 2 + 1e-3],\n            [-1e-3, self.width / 2 + 1e-3],\n        ]\n\n\ntmpfold = tempfile.gettempdir()\naedb_path = os.path.join(tmpfold, pyaedt.generate_unique_name(\"pcb\") + \".aedb\")\nprint(aedb_path)\nedb = pyaedt.Edb(edbpath=aedb_path, edbversion=\"2023.2\")"
      ]
    },
    {
      "cell_type": "markdown",
      "metadata": {},
      "source": [
        "## Add stackup layers\nAdd the stackup layers.\n\n\n"
      ]
    },
    {
      "cell_type": "code",
      "execution_count": null,
      "metadata": {
        "collapsed": false
      },
      "outputs": [],
      "source": [
        "if edb:\n    edb.stackup.add_layer(\"Virt_GND\")\n    edb.stackup.add_layer(\"Gap\", \"Virt_GND\", layer_type=\"dielectric\", thickness=\"0.05mm\", material=\"Air\")\n    edb.stackup.add_layer(\"GND\", \"Gap\")\n    edb.stackup.add_layer(\"Substrat\", \"GND\", layer_type=\"dielectric\", thickness=\"0.5mm\", material=\"Duroid (tm)\")\n    edb.stackup.add_layer(\"TOP\", \"Substrat\")"
      ]
    },
    {
      "cell_type": "markdown",
      "metadata": {},
      "source": [
        "## Create linear array\nCreate the first patch of the linear array.\n\n"
      ]
    },
    {
      "cell_type": "code",
      "execution_count": null,
      "metadata": {
        "collapsed": false
      },
      "outputs": [],
      "source": [
        "first_patch = Patch(width=1.4e-3, height=1.2e-3, position=0.0)\nedb.modeler.create_polygon(first_patch.points, \"TOP\", net_name=\"Array_antenna\")\n# First line\nfirst_line = Line(length=2.4e-3, width=0.3e-3, position=first_patch.width)\nedb.modeler.create_polygon(first_line.points, \"TOP\", net_name=\"Array_antenna\")"
      ]
    },
    {
      "cell_type": "markdown",
      "metadata": {},
      "source": [
        "## Patch linear array\nPatch the linear array.\n\n"
      ]
    },
    {
      "cell_type": "code",
      "execution_count": null,
      "metadata": {
        "collapsed": false
      },
      "outputs": [],
      "source": [
        "patch = Patch(width=2.29e-3, height=3.3e-3)\nline = Line(length=1.9e-3, width=0.2e-3)\nlinear_array = LinearArray(nb_patch=8, array_width=patch.height)\n\ncurrent_patch = 1\ncurrent_position = first_line.position + first_line.length\n\nwhile current_patch <= linear_array.nbpatch:\n    patch.position = current_position\n    edb.modeler.create_polygon(patch.points, \"TOP\", net_name=\"Array_antenna\")\n    current_position += patch.width\n    if current_patch < linear_array.nbpatch:\n        line.position = current_position\n        edb.modeler.create_polygon(line.points, \"TOP\", net_name=\"Array_antenna\")\n        current_position += line.length\n    current_patch += 1\n\nlinear_array.length = current_position"
      ]
    },
    {
      "cell_type": "markdown",
      "metadata": {},
      "source": [
        "## Add ground\nAdd a ground.\n\n"
      ]
    },
    {
      "cell_type": "code",
      "execution_count": null,
      "metadata": {
        "collapsed": false
      },
      "outputs": [],
      "source": [
        "edb.modeler.create_polygon(linear_array.points, \"GND\", net_name=\"GND\")"
      ]
    },
    {
      "cell_type": "markdown",
      "metadata": {},
      "source": [
        "## Add connector pin\nAdd a central connector pin.\n\n"
      ]
    },
    {
      "cell_type": "code",
      "execution_count": null,
      "metadata": {
        "collapsed": false
      },
      "outputs": [],
      "source": [
        "edb.padstacks.create(padstackname=\"Connector_pin\", holediam=\"100um\", paddiam=\"0\", antipaddiam=\"200um\")\ncon_pin = edb.padstacks.place(\n    [first_patch.width / 4, 0],\n    \"Connector_pin\",\n    net_name=\"Array_antenna\",\n    fromlayer=\"TOP\",\n    tolayer=\"GND\",\n    via_name=\"coax\",\n)"
      ]
    },
    {
      "cell_type": "markdown",
      "metadata": {},
      "source": [
        "## Add connector ground\nAdd a connector ground.\n\n"
      ]
    },
    {
      "cell_type": "code",
      "execution_count": null,
      "metadata": {
        "collapsed": false
      },
      "outputs": [],
      "source": [
        "edb.modeler.create_polygon(first_patch.points, \"Virt_GND\", net_name=\"GND\")\nedb.padstacks.create(\"gnd_via\", \"100um\", \"0\", \"0\")\ncon_ref1 = edb.padstacks.place(\n    [first_patch.points[0][0] + 0.2e-3, first_patch.points[0][1] + 0.2e-3],\n    \"gnd_via\",\n    fromlayer=\"GND\",\n    tolayer=\"Virt_GND\",\n    net_name=\"GND\",\n)\ncon_ref2 = edb.padstacks.place(\n    [first_patch.points[1][0] - 0.2e-3, first_patch.points[1][1] + 0.2e-3],\n    \"gnd_via\",\n    fromlayer=\"GND\",\n    tolayer=\"Virt_GND\",\n    net_name=\"GND\",\n)\ncon_ref3 = edb.padstacks.place(\n    [first_patch.points[2][0] - 0.2e-3, first_patch.points[2][1] - 0.2e-3],\n    \"gnd_via\",\n    fromlayer=\"GND\",\n    tolayer=\"Virt_GND\",\n    net_name=\"GND\",\n)\ncon_ref4 = edb.padstacks.place(\n    [first_patch.points[3][0] + 0.2e-3, first_patch.points[3][1] - 0.2e-3],\n    \"gnd_via\",\n    fromlayer=\"GND\",\n    tolayer=\"Virt_GND\",\n    net_name=\"GND\",\n)"
      ]
    },
    {
      "cell_type": "markdown",
      "metadata": {},
      "source": [
        "## Add excitation port\nAdd an excitation port.\n\n"
      ]
    },
    {
      "cell_type": "code",
      "execution_count": null,
      "metadata": {
        "collapsed": false
      },
      "outputs": [],
      "source": [
        "edb.padstacks.set_solderball(con_pin, \"Virt_GND\", isTopPlaced=False, ballDiam=0.1e-3)\nport_name = edb.padstacks.create_coax_port(con_pin)"
      ]
    },
    {
      "cell_type": "markdown",
      "metadata": {},
      "source": [
        "## Plot geometry\nPlot the geometry.\n\n"
      ]
    },
    {
      "cell_type": "code",
      "execution_count": null,
      "metadata": {
        "collapsed": false
      },
      "outputs": [],
      "source": [
        "edb.nets.plot(None)"
      ]
    },
    {
      "cell_type": "markdown",
      "metadata": {},
      "source": [
        "## Save and close Edb instance prior to opening it in Electronics Desktop.\nSave EDB.\n\n"
      ]
    },
    {
      "cell_type": "code",
      "execution_count": null,
      "metadata": {
        "collapsed": false
      },
      "outputs": [],
      "source": [
        "edb.save_edb()\nedb.close_edb()\nprint(\"EDB saved correctly to {}. You can import in AEDT.\".format(aedb_path))"
      ]
    },
    {
      "cell_type": "markdown",
      "metadata": {},
      "source": [
        "## Launch HFSS 3D Layout and open EDB\nLaunch HFSS 3D Layout and open EDB.\n\n"
      ]
    },
    {
      "cell_type": "code",
      "execution_count": null,
      "metadata": {
        "collapsed": false
      },
      "outputs": [],
      "source": [
        "h3d = pyaedt.Hfss3dLayout(projectname=aedb_path, specified_version=\"2023.2\", new_desktop_session=True,\n                          non_graphical=non_graphical)"
      ]
    },
    {
      "cell_type": "markdown",
      "metadata": {},
      "source": [
        "## Plot geometry\nPlot the geometry. The EDB methods are also accessible from the ``Hfss3dlayout`` class.\n\n"
      ]
    },
    {
      "cell_type": "code",
      "execution_count": null,
      "metadata": {
        "collapsed": false
      },
      "outputs": [],
      "source": [
        "h3d.modeler.edb.nets.plot(None)"
      ]
    },
    {
      "cell_type": "markdown",
      "metadata": {},
      "source": [
        "## Create setup and sweeps\nGetters and setters facilitate the settings on the nested property dictionary.\nPreviously, you had to use these commands:\n\n- ``setup.props[\"AdaptiveSettings\"][\"SingleFrequencyDataList\"][\"AdaptiveFrequencyData\"][\"AdaptiveFrequency\"] = \"20GHz\"``\n- ``setup.props[\"AdaptiveSettings\"][\"SingleFrequencyDataList\"][\"AdaptiveFrequencyData\"][\"MaxPasses\"] = 4``\n\nYou can now use the simpler approach that follows.\n\n"
      ]
    },
    {
      "cell_type": "code",
      "execution_count": null,
      "metadata": {
        "collapsed": false
      },
      "outputs": [],
      "source": [
        "setup = h3d.create_setup()\n\nsetup[\"AdaptiveFrequency\"] = \"20GHz\"\nsetup[\"AdaptiveSettings/SingleFrequencyDataList/AdaptiveFrequencyData/MaxPasses\"] = 4\nh3d.create_linear_count_sweep(\n    setupname=setup.name,\n    unit=\"GHz\",\n    freqstart=20,\n    freqstop=50,\n    num_of_freq_points=1001,\n    sweepname=\"sweep1\",\n    sweep_type=\"Interpolating\",\n    interpolation_tol_percent=1,\n    interpolation_max_solutions=255,\n    save_fields=False,\n    use_q3d_for_dc=False,\n)"
      ]
    },
    {
      "cell_type": "markdown",
      "metadata": {},
      "source": [
        "## Solve setup and create report\nSolve the project and create a report.\n\n"
      ]
    },
    {
      "cell_type": "code",
      "execution_count": null,
      "metadata": {
        "collapsed": false
      },
      "outputs": [],
      "source": [
        "h3d.analyze()\nh3d.post.create_report([\"db(S({0},{1}))\".format(port_name, port_name)])"
      ]
    },
    {
      "cell_type": "markdown",
      "metadata": {},
      "source": [
        "## Plot results outside AEDT\nPlot results using Matplotlib.\n\n"
      ]
    },
    {
      "cell_type": "code",
      "execution_count": null,
      "metadata": {
        "collapsed": false
      },
      "outputs": [],
      "source": [
        "solution = h3d.post.get_solution_data([\"S({0},{1})\".format(port_name, port_name)])\nsolution.plot()"
      ]
    },
    {
      "cell_type": "markdown",
      "metadata": {},
      "source": [
        "## Close AEDT\nAfter the simulation completes, you can close AEDT or release it using the\n:func:`pyaedt.Desktop.release_desktop` method.\nAll methods provide for saving the project before closing AEDT.\n\n"
      ]
    },
    {
      "cell_type": "code",
      "execution_count": null,
      "metadata": {
        "collapsed": false
      },
      "outputs": [],
      "source": [
        "h3d.save_project()\nh3d.release_desktop()"
      ]
    }
  ],
  "metadata": {
    "kernelspec": {
      "display_name": "Python 3",
      "language": "python",
      "name": "python3"
    },
    "language_info": {
      "codemirror_mode": {
        "name": "ipython",
        "version": 3
      },
      "file_extension": ".py",
      "mimetype": "text/x-python",
      "name": "python",
      "nbconvert_exporter": "python",
      "pygments_lexer": "ipython3",
      "version": "3.10.5"
    }
  },
  "nbformat": 4,
  "nbformat_minor": 0
}