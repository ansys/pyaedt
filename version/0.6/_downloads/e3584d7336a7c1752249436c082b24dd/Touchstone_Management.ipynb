{
  "cells": [
    {
      "cell_type": "markdown",
      "metadata": {},
      "source": [
        "\n# Circuit: Touchstone file management\nThis example shows how you can use objects in a Touchstone file without opening AEDT.\n\nTo provide the advanced postprocessing features needed for this example, Matplotlib and NumPy\nmust be installed on your machine.\n\nThis example runs only on Windows using CPython.\n"
      ]
    },
    {
      "cell_type": "markdown",
      "metadata": {},
      "source": [
        "## Perform required imports\nPerform required imports and set the local path to the path for PyAEDT.\n\n"
      ]
    },
    {
      "cell_type": "code",
      "execution_count": null,
      "metadata": {
        "collapsed": false
      },
      "outputs": [],
      "source": [
        "from pyaedt import downloads\n\nexample_path = downloads.download_touchstone()"
      ]
    },
    {
      "cell_type": "markdown",
      "metadata": {},
      "source": [
        "## Import libraries and Touchstone file\nImport Matplotlib, NumPy, and the Touchstone file.\n\n"
      ]
    },
    {
      "cell_type": "code",
      "execution_count": null,
      "metadata": {
        "collapsed": false
      },
      "outputs": [],
      "source": [
        "from pyaedt.generic.touchstone_parser import read_touchstone"
      ]
    },
    {
      "cell_type": "markdown",
      "metadata": {},
      "source": [
        "## Read Touchstone file\nRead the Touchstone file.\n\n"
      ]
    },
    {
      "cell_type": "code",
      "execution_count": null,
      "metadata": {
        "collapsed": false
      },
      "outputs": [],
      "source": [
        "data = read_touchstone(example_path)"
      ]
    },
    {
      "cell_type": "markdown",
      "metadata": {},
      "source": [
        "## Get curve plot\nGet the curve plot by category. The following code shows how to plot lists of the return losses,\ninsertion losses, fext, and next based on a few inputs and port names.\n\n"
      ]
    },
    {
      "cell_type": "code",
      "execution_count": null,
      "metadata": {
        "collapsed": false
      },
      "outputs": [],
      "source": [
        "data.plot_return_losses()\n\ndata.plot_insertion_losses()\n\ndata.plot_next_xtalk_losses(\"U1\")\n\ndata.plot_fext_xtalk_losses(tx_prefix=\"U1\", rx_prefix=\"U7\")"
      ]
    },
    {
      "cell_type": "markdown",
      "metadata": {},
      "source": [
        "## Get curve worst cases\nGet curve worst cases.\n\n"
      ]
    },
    {
      "cell_type": "code",
      "execution_count": null,
      "metadata": {
        "collapsed": false
      },
      "outputs": [],
      "source": [
        "worst_rl, global_mean = data.get_worst_curve(\n    freq_min=1, freq_max=20, worst_is_higher=True, curve_list=data.get_return_loss_index()\n)\nworst_il, mean2 = data.get_worst_curve(freq_min=1,\n                                       freq_max=20,\n                                       worst_is_higher=False,\n                                       curve_list=data.get_insertion_loss_index()\n                                       )\nworst_fext, mean3 = data.get_worst_curve(freq_min=1,\n                                         freq_max=20,\n                                         worst_is_higher=True,\n                                         curve_list=data.get_fext_xtalk_index_from_prefix(tx_prefix=\"U1\",\n                                                                                          rx_prefix=\"U7\")\n                                         )\nworst_next, mean4 = data.get_worst_curve(\n    freq_min=1, freq_max=20, worst_is_higher=True, curve_list=data.get_next_xtalk_index(\"U1\")\n)"
      ]
    }
  ],
  "metadata": {
    "kernelspec": {
      "display_name": "Python 3",
      "language": "python",
      "name": "python3"
    },
    "language_info": {
      "codemirror_mode": {
        "name": "ipython",
        "version": 3
      },
      "file_extension": ".py",
      "mimetype": "text/x-python",
      "name": "python",
      "nbconvert_exporter": "python",
      "pygments_lexer": "ipython3",
      "version": "3.10.5"
    }
  },
  "nbformat": 4,
  "nbformat_minor": 0
}