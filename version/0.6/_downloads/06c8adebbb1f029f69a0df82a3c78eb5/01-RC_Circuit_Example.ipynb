{
  "cells": [
    {
      "cell_type": "markdown",
      "metadata": {},
      "source": [
        "\n# Twin Builder: RC circuit design anaysis\nThis example shows how you can use PyAEDT to create a Twin Builder design\nand run a Twin Builder time-domain simulation.\n"
      ]
    },
    {
      "cell_type": "markdown",
      "metadata": {},
      "source": [
        "## Perform required imports\nPerform required imports.\n\n"
      ]
    },
    {
      "cell_type": "code",
      "execution_count": null,
      "metadata": {
        "collapsed": false
      },
      "outputs": [],
      "source": [
        "import os\nimport pyaedt"
      ]
    },
    {
      "cell_type": "markdown",
      "metadata": {},
      "source": [
        "## Select version and set launch options\nSelect the Twin Builder version and set the launch options. The following code\nlaunches Twin Builder 2023 R2 in graphical mode.\n\nYou can change the Boolean parameter ``non_graphical`` to ``True`` to launch\nTwin Builder in non-graphical mode. You can also change the Boolean parameter\n``new_thread`` to ``False`` to launch Twin Builder in an existing AEDT session\nif one is running.\n\n"
      ]
    },
    {
      "cell_type": "code",
      "execution_count": null,
      "metadata": {
        "collapsed": false
      },
      "outputs": [],
      "source": [
        "desktop_version = \"2023.2\"\n\nnon_graphical = False\nnew_thread = True"
      ]
    },
    {
      "cell_type": "markdown",
      "metadata": {},
      "source": [
        "## Launch Twin Builder\nLaunch Twin Builder using an implicit declaration and add a new design with\na default setup.\n\n"
      ]
    },
    {
      "cell_type": "code",
      "execution_count": null,
      "metadata": {
        "collapsed": false
      },
      "outputs": [],
      "source": [
        "tb = pyaedt.TwinBuilder(projectname=pyaedt.generate_unique_project_name(),\n                        specified_version=desktop_version,\n                        non_graphical=non_graphical,\n                        new_desktop_session=new_thread\n                        )\ntb.modeler.schematic_units = \"mil\""
      ]
    },
    {
      "cell_type": "markdown",
      "metadata": {},
      "source": [
        "## Create components for RC circuit\nCreate components for an RC circuit driven by a pulse voltage source.\nCreate components, such as a voltage source, resistor, and capacitor.\n\n"
      ]
    },
    {
      "cell_type": "code",
      "execution_count": null,
      "metadata": {
        "collapsed": false
      },
      "outputs": [],
      "source": [
        "source = tb.modeler.schematic.create_voltage_source(\"E1\", \"EPULSE\", 10, 10, [0, 0])\nresistor = tb.modeler.schematic.create_resistor(\"R1\", 10000, [1000, 1000], 90)\ncapacitor = tb.modeler.schematic.create_capacitor(\"C1\", 1e-6, [2000, 0])"
      ]
    },
    {
      "cell_type": "markdown",
      "metadata": {},
      "source": [
        "## Create ground\nCreate a ground, which is needed for an analog analysis.\n\n"
      ]
    },
    {
      "cell_type": "code",
      "execution_count": null,
      "metadata": {
        "collapsed": false
      },
      "outputs": [],
      "source": [
        "gnd = tb.modeler.components.create_gnd([0, -1000])"
      ]
    },
    {
      "cell_type": "markdown",
      "metadata": {},
      "source": [
        "## Connect components\nConnects components with pins.\n\n"
      ]
    },
    {
      "cell_type": "code",
      "execution_count": null,
      "metadata": {
        "collapsed": false
      },
      "outputs": [],
      "source": [
        "source.pins[1].connect_to_component(resistor.pins[0])\nresistor.pins[1].connect_to_component(capacitor.pins[0])\ncapacitor.pins[1].connect_to_component(source.pins[0])\nsource.pins[0].connect_to_component(gnd.pins[0])"
      ]
    },
    {
      "cell_type": "markdown",
      "metadata": {},
      "source": [
        "## Parametrize transient setup\nParametrize the default transient setup by setting the end time.\n\n"
      ]
    },
    {
      "cell_type": "code",
      "execution_count": null,
      "metadata": {
        "collapsed": false
      },
      "outputs": [],
      "source": [
        "tb.set_end_time(\"300ms\")"
      ]
    },
    {
      "cell_type": "markdown",
      "metadata": {},
      "source": [
        "## Solve transient setup\nSolve the transient setup.\n\n"
      ]
    },
    {
      "cell_type": "code",
      "execution_count": null,
      "metadata": {
        "collapsed": false
      },
      "outputs": [],
      "source": [
        "tb.analyze_setup(\"TR\")"
      ]
    },
    {
      "cell_type": "markdown",
      "metadata": {},
      "source": [
        "## Get report data and plot using Matplotlib\nGet report data and plot it using Matplotlib. The following code gets and plots\nthe values for the voltage on the pulse voltage source and the values for the\nvoltage on the capacitor in the RC circuit.\n\n"
      ]
    },
    {
      "cell_type": "code",
      "execution_count": null,
      "metadata": {
        "collapsed": false
      },
      "outputs": [],
      "source": [
        "E_Value = \"E1.V\"\nC_Value = \"C1.V\"\n\nx = tb.post.get_solution_data([E_Value, C_Value], \"TR\", \"Time\")\nx.plot([E_Value, C_Value], xlabel=\"Time\", ylabel=\"Capacitor Voltage vs Input Pulse\")\n\ntb.save_project()"
      ]
    },
    {
      "cell_type": "markdown",
      "metadata": {},
      "source": [
        "## Close Twin Builder\nAfter the simulation completes, you can close Twin Builder or release it.\nAll methods provide for saving the project before closing.\n\n"
      ]
    },
    {
      "cell_type": "code",
      "execution_count": null,
      "metadata": {
        "collapsed": false
      },
      "outputs": [],
      "source": [
        "tb.release_desktop()"
      ]
    }
  ],
  "metadata": {
    "kernelspec": {
      "display_name": "Python 3",
      "language": "python",
      "name": "python3"
    },
    "language_info": {
      "codemirror_mode": {
        "name": "ipython",
        "version": 3
      },
      "file_extension": ".py",
      "mimetype": "text/x-python",
      "name": "python",
      "nbconvert_exporter": "python",
      "pygments_lexer": "ipython3",
      "version": "3.10.5"
    }
  },
  "nbformat": 4,
  "nbformat_minor": 0
}