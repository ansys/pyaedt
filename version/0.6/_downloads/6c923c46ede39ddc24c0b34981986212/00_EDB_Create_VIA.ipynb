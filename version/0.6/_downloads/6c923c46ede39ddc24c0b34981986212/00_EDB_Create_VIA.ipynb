{
  "cells": [
    {
      "cell_type": "markdown",
      "metadata": {},
      "source": [
        "\n# EDB: geometry creation\nThis example shows how you can use EDB to create a layout.\n"
      ]
    },
    {
      "cell_type": "markdown",
      "metadata": {},
      "source": [
        "Final expected project\n ~~~~~~~~~~~~~~~~~~~~~~\n\n .. image:: ../../_static/diff_via.png\n  :width: 600\n  :alt: Differential Vias.\n#####################################################################\n\n"
      ]
    },
    {
      "cell_type": "markdown",
      "metadata": {},
      "source": [
        "Import EDB layout object\n ~~~~~~~~~~~~~~~~~~~~~~~~\n Import the EDB layout object and initialize it on version 2023 R2.\n#####################################################################\n\n"
      ]
    },
    {
      "cell_type": "code",
      "execution_count": null,
      "metadata": {
        "collapsed": false
      },
      "outputs": [],
      "source": [
        "import time\nimport os\nimport pyaedt\n\nstart = time.time()\n\naedb_path = os.path.join(pyaedt.generate_unique_folder_name(), pyaedt.generate_unique_name(\"pcb\") + \".aedb\")\nprint(aedb_path)\nedb = pyaedt.Edb(edbpath=aedb_path, edbversion=\"2023.2\")"
      ]
    },
    {
      "cell_type": "markdown",
      "metadata": {},
      "source": [
        "## Add stackup layers\nAdd stackup layers.\nA stackup can be created layer by layer or imported from a csv file or xml file.\n\n\n"
      ]
    },
    {
      "cell_type": "code",
      "execution_count": null,
      "metadata": {
        "collapsed": false
      },
      "outputs": [],
      "source": [
        "edb.stackup.add_layer(\"GND\")\nedb.stackup.add_layer(\"Diel\", \"GND\", layer_type=\"dielectric\", thickness=\"0.1mm\", material=\"FR4_epoxy\")\nedb.stackup.add_layer(\"TOP\", \"Diel\", thickness=\"0.05mm\")"
      ]
    },
    {
      "cell_type": "markdown",
      "metadata": {},
      "source": [
        "## Create signal net and ground planes\nCreate a signal net and ground planes.\n\n"
      ]
    },
    {
      "cell_type": "code",
      "execution_count": null,
      "metadata": {
        "collapsed": false
      },
      "outputs": [],
      "source": [
        "points = [\n    [0.0, 0],\n    [100e-3, 0.0],\n]\nedb.modeler.create_trace(points, \"TOP\", width=1e-3)\npoints = [[0.0, 1e-3], [0.0, 10e-3], [100e-3, 10e-3], [100e-3, 1e-3], [0.0, 1e-3]]\nedb.modeler.create_polygon(points, \"TOP\")\n\npoints = [[0.0, -1e-3], [0.0, -10e-3], [100e-3, -10e-3], [100e-3, -1e-3], [0.0, -1e-3]]\nedb.modeler.create_polygon(points, \"TOP\")"
      ]
    },
    {
      "cell_type": "markdown",
      "metadata": {},
      "source": [
        "## Create vias with parametric positions\nCreate vias with parametric positions.\n\n"
      ]
    },
    {
      "cell_type": "code",
      "execution_count": null,
      "metadata": {
        "collapsed": false
      },
      "outputs": [],
      "source": [
        "edb.padstacks.create(\"MyVia\")\nedb.padstacks.place([5e-3, 5e-3], \"MyVia\")\nedb.padstacks.place([15e-3, 5e-3], \"MyVia\")\nedb.padstacks.place([35e-3, 5e-3], \"MyVia\")\nedb.padstacks.place([45e-3, 5e-3], \"MyVia\")\nedb.padstacks.place([5e-3, -5e-3], \"MyVia\")\nedb.padstacks.place([15e-3, -5e-3], \"MyVia\")\nedb.padstacks.place([35e-3, -5e-3], \"MyVia\")\nedb.padstacks.place([45e-3, -5e-3], \"MyVia\")"
      ]
    },
    {
      "cell_type": "markdown",
      "metadata": {},
      "source": [
        "## Geometry Plot\n\n\n"
      ]
    },
    {
      "cell_type": "code",
      "execution_count": null,
      "metadata": {
        "collapsed": false
      },
      "outputs": [],
      "source": [
        "edb.nets.plot(None, color_by_net=True)"
      ]
    },
    {
      "cell_type": "markdown",
      "metadata": {},
      "source": [
        "## Stackup Plot\n\n\n"
      ]
    },
    {
      "cell_type": "code",
      "execution_count": null,
      "metadata": {
        "collapsed": false
      },
      "outputs": [],
      "source": [
        "edb.stackup.plot(plot_definitions=\"MyVia\")"
      ]
    },
    {
      "cell_type": "markdown",
      "metadata": {},
      "source": [
        "## Save and close EDB\nSave and close EDB.\n\n"
      ]
    },
    {
      "cell_type": "code",
      "execution_count": null,
      "metadata": {
        "collapsed": false
      },
      "outputs": [],
      "source": [
        "if edb:\n    edb.save_edb()\n    edb.close_edb()\nprint(\"EDB saved correctly to {}. You can import in AEDT.\".format(aedb_path))\nend = time.time() - start\nprint(end)"
      ]
    }
  ],
  "metadata": {
    "kernelspec": {
      "display_name": "Python 3",
      "language": "python",
      "name": "python3"
    },
    "language_info": {
      "codemirror_mode": {
        "name": "ipython",
        "version": 3
      },
      "file_extension": ".py",
      "mimetype": "text/x-python",
      "name": "python",
      "nbconvert_exporter": "python",
      "pygments_lexer": "ipython3",
      "version": "3.10.5"
    }
  },
  "nbformat": 4,
  "nbformat_minor": 0
}