{
  "cells": [
    {
      "cell_type": "code",
      "execution_count": null,
      "metadata": {
        "collapsed": false
      },
      "outputs": [],
      "source": [
        "%matplotlib inline"
      ]
    },
    {
      "cell_type": "markdown",
      "metadata": {},
      "source": [
        "\n# EDB: geometry creation\nThis example shows how you can use EDB to create a layout.\n"
      ]
    },
    {
      "cell_type": "markdown",
      "metadata": {},
      "source": [
        "## Import EDB layout object\nImport the EDB layout object and initialize it on version 2023 R1.\n\n"
      ]
    },
    {
      "cell_type": "code",
      "execution_count": null,
      "metadata": {
        "collapsed": false
      },
      "outputs": [],
      "source": [
        "import time\nimport os\nimport pyaedt\n\nstart = time.time()\n\naedb_path = os.path.join(pyaedt.generate_unique_folder_name(), pyaedt.generate_unique_name(\"pcb\") + \".aedb\")\nprint(aedb_path)\nedb = pyaedt.Edb(edbpath=aedb_path, edbversion=\"2023.1\")"
      ]
    },
    {
      "cell_type": "markdown",
      "metadata": {},
      "source": [
        "## Add stackup layers\nAdd stackup layers.\n\n\n"
      ]
    },
    {
      "cell_type": "code",
      "execution_count": null,
      "metadata": {
        "collapsed": false
      },
      "outputs": [],
      "source": [
        "if edb:\n    edb.stackup.add_layer(\"GND\")\n    edb.stackup.add_layer(\"Diel\", \"GND\", layer_type=\"dielectric\", thickness=\"0.1mm\", material=\"FR4_epoxy\")\n    edb.stackup.add_layer(\"TOP\", \"Diel\", thickness=\"0.05mm\")"
      ]
    },
    {
      "cell_type": "markdown",
      "metadata": {},
      "source": [
        "## Create signal net and ground planes\nCreate a signal net and ground planes.\n\n"
      ]
    },
    {
      "cell_type": "code",
      "execution_count": null,
      "metadata": {
        "collapsed": false
      },
      "outputs": [],
      "source": [
        "if edb:\n    points = [\n        [0.0, 0],\n        [100e-3, 0.0],\n    ]\n    edb.modeler.create_trace(points, \"TOP\", width=1e-3)\n    points = [[0.0, 1e-3], [0.0, 10e-3], [100e-3, 10e-3], [100e-3, 1e-3], [0.0, 1e-3]]\n    edb.modeler.create_polygon_from_points(points, \"TOP\")\n\n    points = [[0.0, -1e-3], [0.0, -10e-3], [100e-3, -10e-3], [100e-3, -1e-3], [0.0, -1e-3]]\n    edb.modeler.create_polygon_from_points(points, \"TOP\")"
      ]
    },
    {
      "cell_type": "markdown",
      "metadata": {},
      "source": [
        "## Create vias with parametric positions\nCreate vias with parametric positions.\n\n"
      ]
    },
    {
      "cell_type": "code",
      "execution_count": null,
      "metadata": {
        "collapsed": false
      },
      "outputs": [],
      "source": [
        "if edb:\n    edb.padstacks.create(\"MyVia\")\n    edb.padstacks.place([5e-3, 5e-3], \"MyVia\")\n    edb.padstacks.place([15e-3, 5e-3], \"MyVia\")\n    edb.padstacks.place([35e-3, 5e-3], \"MyVia\")\n    edb.padstacks.place([45e-3, 5e-3], \"MyVia\")\n    edb.padstacks.place([5e-3, -5e-3], \"MyVia\")\n    edb.padstacks.place([15e-3, -5e-3], \"MyVia\")\n    edb.padstacks.place([35e-3, -5e-3], \"MyVia\")\n    edb.padstacks.place([45e-3, -5e-3], \"MyVia\")\n\nedb.nets.plot(None, color_by_net=True)"
      ]
    },
    {
      "cell_type": "markdown",
      "metadata": {},
      "source": [
        "## Save and close EDB\nSave and close EDB.\n\n"
      ]
    },
    {
      "cell_type": "code",
      "execution_count": null,
      "metadata": {
        "collapsed": false
      },
      "outputs": [],
      "source": [
        "if edb:\n    edb.save_edb()\n    edb.close_edb()\nprint(\"EDB saved correctly to {}. You can import in AEDT.\".format(aedb_path))\nend = time.time() - start\nprint(end)"
      ]
    }
  ],
  "metadata": {
    "kernelspec": {
      "display_name": "Python 3",
      "language": "python",
      "name": "python3"
    },
    "language_info": {
      "codemirror_mode": {
        "name": "ipython",
        "version": 3
      },
      "file_extension": ".py",
      "mimetype": "text/x-python",
      "name": "python",
      "nbconvert_exporter": "python",
      "pygments_lexer": "ipython3",
      "version": "3.8.10"
    }
  },
  "nbformat": 4,
  "nbformat_minor": 0
}