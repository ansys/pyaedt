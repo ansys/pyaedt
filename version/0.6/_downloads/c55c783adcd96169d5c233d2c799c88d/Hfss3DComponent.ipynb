{
  "cells": [
    {
      "cell_type": "markdown",
      "metadata": {},
      "source": [
        "\n# HFSS: 3D Components\nThis example shows how you can use PyAEDT to place 3D Components in Hfss and in Hfss 3D Layout.\n"
      ]
    },
    {
      "cell_type": "code",
      "execution_count": null,
      "metadata": {
        "collapsed": false
      },
      "outputs": [],
      "source": [
        "import os\nimport pyaedt"
      ]
    },
    {
      "cell_type": "markdown",
      "metadata": {},
      "source": [
        "## Set non-graphical mode\nSet non-graphical mode. \nYou can set ``non_graphical`` either to ``True`` or ``False``.\n\n"
      ]
    },
    {
      "cell_type": "code",
      "execution_count": null,
      "metadata": {
        "collapsed": false
      },
      "outputs": [],
      "source": [
        "non_graphical = False"
      ]
    },
    {
      "cell_type": "markdown",
      "metadata": {},
      "source": [
        "## Common Properties\nSet common properties.\n\n"
      ]
    },
    {
      "cell_type": "code",
      "execution_count": null,
      "metadata": {
        "collapsed": false
      },
      "outputs": [],
      "source": [
        "trace_width = 0.6\ntrace_length = 30\ndiel_height = \"121mil\"\nsig_height = \"5mil\"\nmax_steps = 3\nfreq = \"3GHz\"\ndesktop_version = \"2023.2\"\nnew_session = True"
      ]
    },
    {
      "cell_type": "markdown",
      "metadata": {},
      "source": [
        "## 3D Component Definition\nFile to be used in the example\n\n"
      ]
    },
    {
      "cell_type": "code",
      "execution_count": null,
      "metadata": {
        "collapsed": false
      },
      "outputs": [],
      "source": [
        "component3d = pyaedt.downloads.download_file(\"component_3d\", \"SMA_RF_Jack.a3dcomp\",)"
      ]
    },
    {
      "cell_type": "markdown",
      "metadata": {},
      "source": [
        "# Hfss Example\nThis example will create a stackup in Hfss place a 3d component, build a ground plane, a trace,\ncreate excitation and solve it in Hfss.\n\n"
      ]
    },
    {
      "cell_type": "markdown",
      "metadata": {},
      "source": [
        "## Launch Hfss\nLaunch HFSS application\n\n"
      ]
    },
    {
      "cell_type": "code",
      "execution_count": null,
      "metadata": {
        "collapsed": false
      },
      "outputs": [],
      "source": [
        "hfss = pyaedt.Hfss(new_desktop_session=True, specified_version=\"2023.2\", non_graphical=non_graphical)\n\nhfss.solution_type = \"Terminal\""
      ]
    },
    {
      "cell_type": "markdown",
      "metadata": {},
      "source": [
        "## Insert 3d Component\nTo insert a 3d component we need to read parameters and then import in Hfss.\n\n"
      ]
    },
    {
      "cell_type": "code",
      "execution_count": null,
      "metadata": {
        "collapsed": false
      },
      "outputs": [],
      "source": [
        "comp_param = hfss.get_components3d_vars(component3d)\nhfss.modeler.insert_3d_component(component3d, comp_param)"
      ]
    },
    {
      "cell_type": "markdown",
      "metadata": {},
      "source": [
        "## Add a new Stackup\nPyaedt has a Stackup class which allows to parametrize stacked structures.\n\n"
      ]
    },
    {
      "cell_type": "code",
      "execution_count": null,
      "metadata": {
        "collapsed": false
      },
      "outputs": [],
      "source": [
        "stackup = hfss.add_stackup_3d()\ns1 = stackup.add_signal_layer(\"L1\", thickness=sig_height)\nd1 = stackup.add_dielectric_layer(\"D1\", thickness=diel_height)\ng1 = stackup.add_ground_layer(\"G1\", thickness=sig_height)"
      ]
    },
    {
      "cell_type": "markdown",
      "metadata": {},
      "source": [
        "## Define stackup extensions\nDefine stackup elevation and size. Defines also the stackup origin.\n\n"
      ]
    },
    {
      "cell_type": "code",
      "execution_count": null,
      "metadata": {
        "collapsed": false
      },
      "outputs": [],
      "source": [
        "stackup.start_position = \"-131mil\"\nstackup.dielectric_width = \"20mm\"\nstackup.dielectric_length = \"40mm\"\nstackup.dielectric_y_position = \"-dielectric_width/2\"\nstackup.dielectric_x_position = \"-dielectric_length/4\""
      ]
    },
    {
      "cell_type": "markdown",
      "metadata": {},
      "source": [
        "## Padstack Definition\nPadstacks are needed to create a clearance around 3d component since\nintersections are not allowed. There will be 1 padstack for Gnd and 1 for pin.\n\n"
      ]
    },
    {
      "cell_type": "code",
      "execution_count": null,
      "metadata": {
        "collapsed": false
      },
      "outputs": [],
      "source": [
        "p1 = stackup.add_padstack(\"gnd_via\", material=\"cloned_copper\")\np1.set_start_layer(\"L1\")\np1.set_stop_layer(\"G1\")\np1.set_all_antipad_value(1.3)\np1.set_all_pad_value(0)\np1.num_sides = 8\np1.add_via(-3.2, -3.2)\np1.add_via(-3.2, 3.2)\np1.add_via(3.2, -3.2)\np1.add_via(3.2, 3.2)\np2 = stackup.add_padstack(\"signal_via\", material=\"cloned_copper\")\n\np2.set_start_layer(\"L1\")\np2.set_stop_layer(\"G1\")\np2.set_all_antipad_value(0.7)\np2.set_all_pad_value(0)\np2.padstacks_by_layer[\"L1\"].pad_radius = 0.3048\np2.add_via(0, 0)"
      ]
    },
    {
      "cell_type": "markdown",
      "metadata": {},
      "source": [
        "## Trace Definition\nThe trace will connect the pin to the port on layer L1.\n\n"
      ]
    },
    {
      "cell_type": "code",
      "execution_count": null,
      "metadata": {
        "collapsed": false
      },
      "outputs": [],
      "source": [
        "t1 = s1.add_trace(trace_width, trace_length)\nrect1 = hfss.modeler.create_rectangle(csPlane=hfss.PLANE.YZ,\n                                                 position=[\"0.75*dielectric_length\", \"-5*\" + t1.width.name, \"0mm\"],\n                                                 dimension_list=[\"15*\" + t1.width.name, \"-3*\" + stackup.thickness.name])\np1 = hfss.wave_port(signal=rect1, reference=\"G1\", name=\"P1\")"
      ]
    },
    {
      "cell_type": "markdown",
      "metadata": {},
      "source": [
        "## Set Simulation Boundaries\nDefine regione and simulation boundaries.\n\n"
      ]
    },
    {
      "cell_type": "code",
      "execution_count": null,
      "metadata": {
        "collapsed": false
      },
      "outputs": [],
      "source": [
        "hfss.change_material_override(True)\nregion = hfss.modeler.create_region([0, 0, 0, 0, 0, 100])\nsheets = [i for i in region.faces]\nhfss.assign_radiation_boundary_to_faces(sheets)"
      ]
    },
    {
      "cell_type": "markdown",
      "metadata": {},
      "source": [
        "## Create Setup\nIterations will be reduced to reduce simulation time.\n\n"
      ]
    },
    {
      "cell_type": "code",
      "execution_count": null,
      "metadata": {
        "collapsed": false
      },
      "outputs": [],
      "source": [
        "setup1 = hfss.create_setup()\nsweep1 = hfss.create_linear_count_sweep(setup1.name, \"GHz\", 0.01, 8, 1601, sweep_type=\"Interpolating\")\nsetup1.props[\"Frequency\"] = freq\nsetup1.props[\"MaximumPasses\"] = max_steps"
      ]
    },
    {
      "cell_type": "markdown",
      "metadata": {},
      "source": [
        "## Solve Setup\nSave the project first and then solve the setup.\n\n"
      ]
    },
    {
      "cell_type": "code",
      "execution_count": null,
      "metadata": {
        "collapsed": false
      },
      "outputs": [],
      "source": [
        "hfss.save_project()\nhfss.analyze()"
      ]
    },
    {
      "cell_type": "markdown",
      "metadata": {},
      "source": [
        "## Plot results\nPlot the results when analysis is completed.\n\n"
      ]
    },
    {
      "cell_type": "code",
      "execution_count": null,
      "metadata": {
        "collapsed": false
      },
      "outputs": [],
      "source": [
        "traces = hfss.get_traces_for_plot(category=\"S\")\nsolutions = hfss.post.get_solution_data(traces)\nsolutions.plot(traces, math_formula=\"db20\")"
      ]
    },
    {
      "cell_type": "markdown",
      "metadata": {},
      "source": [
        "# Hfss 3D Layout Example\nPrevious example will be repeated this time in Hfss 3d Layout.\nSmall differences are expected in layout but results should be similar.\n\n"
      ]
    },
    {
      "cell_type": "markdown",
      "metadata": {},
      "source": [
        "## Launch Hfss3dLayout\nLaunch HFSS3dLayout application\n\n"
      ]
    },
    {
      "cell_type": "code",
      "execution_count": null,
      "metadata": {
        "collapsed": false
      },
      "outputs": [],
      "source": [
        "h3d = pyaedt.Hfss3dLayout()"
      ]
    },
    {
      "cell_type": "markdown",
      "metadata": {},
      "source": [
        "## Add stackup layers\nAdd stackup layers.\n\n"
      ]
    },
    {
      "cell_type": "code",
      "execution_count": null,
      "metadata": {
        "collapsed": false
      },
      "outputs": [],
      "source": [
        "l1 = h3d.modeler.layers.add_layer(\"L1\", \"signal\", thickness=sig_height)\nh3d.modeler.layers.add_layer(\"diel\", \"dielectric\", thickness=diel_height, material=\"FR4_epoxy\")\nh3d.modeler.layers.add_layer(\"G1\", \"signal\", thickness=sig_height, isnegative=True)"
      ]
    },
    {
      "cell_type": "markdown",
      "metadata": {},
      "source": [
        "## Place 3d Component\nPlace a 3d component by specifying the .a3dcomp file path.\n\n"
      ]
    },
    {
      "cell_type": "code",
      "execution_count": null,
      "metadata": {
        "collapsed": false
      },
      "outputs": [],
      "source": [
        "comp = h3d.modeler.place_3d_component(\n    component_path=component3d, number_of_terminals=1, placement_layer=\"G1\", component_name=\"my_connector\",\n    pos_x=0.000, pos_y=0.000\n)"
      ]
    },
    {
      "cell_type": "markdown",
      "metadata": {},
      "source": [
        "## Create signal net and ground planes\nCreate a signal net and ground planes.\n\n"
      ]
    },
    {
      "cell_type": "code",
      "execution_count": null,
      "metadata": {
        "collapsed": false
      },
      "outputs": [],
      "source": [
        "h3d[\"len\"] = str(trace_length) + \"mm\"\nh3d[\"w1\"] = str(trace_width) + \"mm\"\nline = h3d.modeler.create_line(\"L1\", [[0, 0], [\"len\", 0]], lw=\"w1\", netname=\"microstrip\", name=\"microstrip\")\nh3d.create_edge_port(line, h3d.modeler[line].top_edge_x, iswave=True, wave_horizontal_extension=15, )"
      ]
    },
    {
      "cell_type": "markdown",
      "metadata": {},
      "source": [
        "## Create void on Ground plane for pin\nCreate a void.\n\n"
      ]
    },
    {
      "cell_type": "code",
      "execution_count": null,
      "metadata": {
        "collapsed": false
      },
      "outputs": [],
      "source": [
        "h3d.modeler.create_circle(\"G1\", 0, 0, 0.5)"
      ]
    },
    {
      "cell_type": "markdown",
      "metadata": {},
      "source": [
        "## Create Setup\nIterations will be reduced to reduce simulation time.\n\n"
      ]
    },
    {
      "cell_type": "code",
      "execution_count": null,
      "metadata": {
        "collapsed": false
      },
      "outputs": [],
      "source": [
        "h3d.set_meshing_settings(mesh_method=\"PhiPlus\", enable_intersections_check=False)\nh3d.edit_hfss_extents(diel_extent_horizontal_padding=\"0.2\", air_vertical_positive_padding=\"0\",\n                      air_vertical_negative_padding=\"2\", airbox_values_as_dim=False)\nsetup1 = h3d.create_setup()\nsweep1 = h3d.create_linear_count_sweep(setup1.name, \"GHz\", 0.01, 8, 1601, sweep_type=\"Interpolating\")\nsetup1.props[\"AdaptiveSettings\"][\"SingleFrequencyDataList\"][\"AdaptiveFrequencyData\"][\"AdaptiveFrequency\"] = freq\nsetup1.props[\"AdaptiveSettings\"][\"SingleFrequencyDataList\"][\"AdaptiveFrequencyData\"][\"MaxPasses\"] = max_steps"
      ]
    },
    {
      "cell_type": "markdown",
      "metadata": {},
      "source": [
        "## Solve Setup\n\n"
      ]
    },
    {
      "cell_type": "code",
      "execution_count": null,
      "metadata": {
        "collapsed": false
      },
      "outputs": [],
      "source": [
        "h3d.analyze()"
      ]
    },
    {
      "cell_type": "markdown",
      "metadata": {},
      "source": [
        "## Plot results\n\n"
      ]
    },
    {
      "cell_type": "code",
      "execution_count": null,
      "metadata": {
        "collapsed": false
      },
      "outputs": [],
      "source": [
        "traces = h3d.get_traces_for_plot(category=\"S\")\nsolutions = h3d.post.get_solution_data(traces)\nsolutions.plot(traces, math_formula=\"db20\")\n\nh3d.save_project()\nh3d.release_desktop()"
      ]
    }
  ],
  "metadata": {
    "kernelspec": {
      "display_name": "Python 3",
      "language": "python",
      "name": "python3"
    },
    "language_info": {
      "codemirror_mode": {
        "name": "ipython",
        "version": 3
      },
      "file_extension": ".py",
      "mimetype": "text/x-python",
      "name": "python",
      "nbconvert_exporter": "python",
      "pygments_lexer": "ipython3",
      "version": "3.10.5"
    }
  },
  "nbformat": 4,
  "nbformat_minor": 0
}