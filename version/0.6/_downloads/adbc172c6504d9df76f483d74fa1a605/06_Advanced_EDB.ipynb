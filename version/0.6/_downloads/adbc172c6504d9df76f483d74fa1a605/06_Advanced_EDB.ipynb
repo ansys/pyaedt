{
  "cells": [
    {
      "cell_type": "markdown",
      "metadata": {},
      "source": [
        "\n# EDB: parametric via creation\nThis example shows how you can use EDB to create a layout.\n"
      ]
    },
    {
      "cell_type": "markdown",
      "metadata": {},
      "source": [
        "## Perform required imports\nPerform required imports.\n\n"
      ]
    },
    {
      "cell_type": "code",
      "execution_count": null,
      "metadata": {
        "collapsed": false
      },
      "outputs": [],
      "source": [
        "import os\nimport numpy as np\nimport pyaedt\n\n\naedb_path = os.path.join(pyaedt.generate_unique_folder_name(), pyaedt.generate_unique_name(\"via_opt\") + \".aedb\")"
      ]
    },
    {
      "cell_type": "markdown",
      "metadata": {},
      "source": [
        "## Create stackup\nThe ``StackupSimple`` class creates a stackup based on few inputs. This stackup\nis used later.\n\n"
      ]
    },
    {
      "cell_type": "markdown",
      "metadata": {},
      "source": [
        "## Create ground plane\nCreate a ground plane on specific layers.\n\n"
      ]
    },
    {
      "cell_type": "code",
      "execution_count": null,
      "metadata": {
        "collapsed": false
      },
      "outputs": [],
      "source": [
        "def _create_ground_planes(edb, layers):\n    plane = edb.modeler.Shape(\"rectangle\", pointA=[\"-3mm\", \"-3mm\"], pointB=[\"3mm\", \"3mm\"])\n    for i in layers:\n        edb.modeler.create_polygon(plane, i, net_name=\"GND\")"
      ]
    },
    {
      "cell_type": "markdown",
      "metadata": {},
      "source": [
        "## Create EDB\nCreate EDB. If the path doesn't exist, PyAEDT automatically generates a new AEDB folder.\n\n"
      ]
    },
    {
      "cell_type": "code",
      "execution_count": null,
      "metadata": {
        "collapsed": false
      },
      "outputs": [],
      "source": [
        "edb = pyaedt.Edb(edbpath=aedb_path, edbversion=\"2023.2\")"
      ]
    },
    {
      "cell_type": "markdown",
      "metadata": {},
      "source": [
        "## Create stackup layers\nCreate stackup layers.\n\n"
      ]
    },
    {
      "cell_type": "code",
      "execution_count": null,
      "metadata": {
        "collapsed": false
      },
      "outputs": [],
      "source": [
        "layout_count = 12\ndiel_material_name = \"FR4_epoxy\"\ndiel_thickness = \"0.15mm\"\ncond_thickness_outer = \"0.05mm\"\ncond_thickness_inner = \"0.017mm\"\nsoldermask_thickness = \"0.05mm\"\ntrace_in_layer = \"TOP\"\ntrace_out_layer = \"L10\"\ngvia_num = 10\ngvia_angle = 30\nedb.stackup.create_symmetric_stackup(layer_count=layout_count, inner_layer_thickness=cond_thickness_inner,\n                                     outer_layer_thickness=cond_thickness_outer,\n                                     soldermask_thickness=soldermask_thickness, dielectric_thickness=diel_thickness,\n                                     dielectric_material=diel_material_name)"
      ]
    },
    {
      "cell_type": "markdown",
      "metadata": {},
      "source": [
        "## Create variables\nCreate all variables. If a variable has a ``$`` prefix, it is a project variable.\nOtherwise, is a design variable.\n\n"
      ]
    },
    {
      "cell_type": "code",
      "execution_count": null,
      "metadata": {
        "collapsed": false
      },
      "outputs": [],
      "source": [
        "giva_angle_rad = gvia_angle / 180 * np.pi\n\nedb[\"$via_hole_size\"] = \"0.3mm\"\nedb[\"$antipaddiam\"] = \"0.7mm\"\nedb[\"$paddiam\"] = \"0.5mm\"\nedb.add_design_variable(\"via_pitch\", \"1mm\", is_parameter=True)\nedb.add_design_variable(\"trace_in_width\", \"0.2mm\", is_parameter=True)\nedb.add_design_variable(\"trace_out_width\", \"0.1mm\", is_parameter=True)"
      ]
    },
    {
      "cell_type": "markdown",
      "metadata": {},
      "source": [
        "## Create definitions\nCreate two definitions, one for the ground and one for the signal. The definitions\nare parametric.\n\n"
      ]
    },
    {
      "cell_type": "code",
      "execution_count": null,
      "metadata": {
        "collapsed": false
      },
      "outputs": [],
      "source": [
        "edb.padstacks.create(padstackname=\"SVIA\",\n                     holediam=\"$via_hole_size\",\n                     antipaddiam=\"$antipaddiam\",\n                     paddiam=\"$paddiam\",\n                     start_layer=trace_in_layer,\n                     stop_layer=trace_out_layer\n)\nedb.padstacks.create(padstackname=\"GVIA\", holediam=\"0.3mm\", antipaddiam=\"0.7mm\", paddiam=\"0.5mm\")"
      ]
    },
    {
      "cell_type": "markdown",
      "metadata": {},
      "source": [
        "## Place padstack for signal\nPlace the padstack for the signal.\n\n"
      ]
    },
    {
      "cell_type": "code",
      "execution_count": null,
      "metadata": {
        "collapsed": false
      },
      "outputs": [],
      "source": [
        "edb.padstacks.place([0, 0], \"SVIA\", net_name=\"RF\")"
      ]
    },
    {
      "cell_type": "markdown",
      "metadata": {},
      "source": [
        "## Place padstack for ground\nPlace the padstack for the  ground. A loop iterates and places multiple ground\nvias on different positions.\n\n"
      ]
    },
    {
      "cell_type": "code",
      "execution_count": null,
      "metadata": {
        "collapsed": false
      },
      "outputs": [],
      "source": [
        "gvia_num_side = gvia_num / 2\n\nif gvia_num_side % 2:\n\n    # Even number of ground vias on each side\n    edb.padstacks.place([\"via_pitch\", 0], \"GVIA\", net_name=\"GND\")\n    edb.padstacks.place([\"via_pitch*-1\", 0], \"GVIA\", net_name=\"GND\")\n    for i in np.arange(1, gvia_num_side / 2):\n        xloc = \"{}*{}\".format(np.cos(giva_angle_rad * i), \"via_pitch\")\n        yloc = \"{}*{}\".format(np.sin(giva_angle_rad * i), \"via_pitch\")\n        edb.padstacks.place([xloc, yloc], \"GVIA\", net_name=\"GND\")\n        edb.padstacks.place([xloc, yloc + \"*-1\"], \"GVIA\", net_name=\"GND\")\n\n        edb.padstacks.place([xloc + \"*-1\", yloc], \"GVIA\", net_name=\"GND\")\n        edb.padstacks.place([xloc + \"*-1\", yloc + \"*-1\"], \"GVIA\", net_name=\"GND\")\nelse:\n\n    # Odd number of ground vias on each side\n    for i in np.arange(0, gvia_num_side / 2):\n        xloc = \"{}*{}\".format(np.cos(giva_angle_rad * (i + 0.5)), \"via_pitch\")\n        yloc = \"{}*{}\".format(np.sin(giva_angle_rad * (i + 0.5)), \"via_pitch\")\n        edb.padstacks.place([xloc, yloc], \"GVIA\", net_name=\"GND\")\n        edb.padstacks.place([xloc, yloc + \"*-1\"], \"GVIA\", net_name=\"GND\")\n\n        edb.padstacks.place([xloc + \"*-1\", yloc], \"GVIA\", net_name=\"GND\")\n        edb.padstacks.place([xloc + \"*-1\", yloc + \"*-1\"], \"GVIA\", net_name=\"GND\")"
      ]
    },
    {
      "cell_type": "markdown",
      "metadata": {},
      "source": [
        "## Generate traces\nGenerate and place parametric traces.\n\n"
      ]
    },
    {
      "cell_type": "code",
      "execution_count": null,
      "metadata": {
        "collapsed": false
      },
      "outputs": [],
      "source": [
        "edb.modeler.create_trace(\n    [[0, 0], [0, \"-3mm\"]], layer_name=trace_in_layer, net_name=\"RF\", width=\"trace_in_width\", start_cap_style=\"Flat\", end_cap_style=\"Flat\"\n)\n\nedb.modeler.create_trace(\n    [[0, 0], [0, \"3mm\"]],\n    layer_name=trace_out_layer,\n    net_name=\"RF\",\n    width=\"trace_out_width\",\n    start_cap_style=\"Flat\",\n    end_cap_style=\"Flat\",\n)"
      ]
    },
    {
      "cell_type": "markdown",
      "metadata": {},
      "source": [
        "## Generate ground layers\nGenerate and place ground layers.\n\n"
      ]
    },
    {
      "cell_type": "code",
      "execution_count": null,
      "metadata": {
        "collapsed": false
      },
      "outputs": [],
      "source": [
        "ground_layers = [i for i in edb.stackup.signal_layers.keys()]\nground_layers.remove(trace_in_layer)\nground_layers.remove(trace_out_layer)\n_create_ground_planes(edb=edb, layers=ground_layers)"
      ]
    },
    {
      "cell_type": "markdown",
      "metadata": {},
      "source": [
        "## Plot Layout\nGenerate and plot the layout.\n\n"
      ]
    },
    {
      "cell_type": "code",
      "execution_count": null,
      "metadata": {
        "collapsed": false
      },
      "outputs": [],
      "source": [
        "#edb.nets.plot(layers=[\"TOP\", \"L10\"])\nedb.stackup.plot(plot_definitions=[\"GVIA\", \"SVIA\"])"
      ]
    },
    {
      "cell_type": "markdown",
      "metadata": {},
      "source": [
        "## Save EDB and close\nSave EDB and close.\n\n"
      ]
    },
    {
      "cell_type": "code",
      "execution_count": null,
      "metadata": {
        "collapsed": false
      },
      "outputs": [],
      "source": [
        "edb.save_edb()\nedb.close_edb()\n\nprint(\"aedb Saved in {}\".format(aedb_path))"
      ]
    }
  ],
  "metadata": {
    "kernelspec": {
      "display_name": "Python 3",
      "language": "python",
      "name": "python3"
    },
    "language_info": {
      "codemirror_mode": {
        "name": "ipython",
        "version": 3
      },
      "file_extension": ".py",
      "mimetype": "text/x-python",
      "name": "python",
      "nbconvert_exporter": "python",
      "pygments_lexer": "ipython3",
      "version": "3.10.5"
    }
  },
  "nbformat": 4,
  "nbformat_minor": 0
}