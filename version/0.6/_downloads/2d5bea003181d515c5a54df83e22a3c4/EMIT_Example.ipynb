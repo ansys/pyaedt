{
  "cells": [
    {
      "cell_type": "markdown",
      "metadata": {},
      "source": [
        "\n# EMIT: antenna\nThis example shows how you can use PyAEDT to create a project in EMIT for\nthe simulation of an antenna.\n"
      ]
    },
    {
      "cell_type": "markdown",
      "metadata": {},
      "source": [
        "## Perform required inputs\nPerform required imports.\n\nsphinx_gallery_thumbnail_path = \"Resources/emit_simple_cosite.png\"\n\n"
      ]
    },
    {
      "cell_type": "code",
      "execution_count": null,
      "metadata": {
        "collapsed": false
      },
      "outputs": [],
      "source": [
        "import os\nimport pyaedt\nfrom pyaedt.emit_core.emit_constants import TxRxMode, ResultType"
      ]
    },
    {
      "cell_type": "markdown",
      "metadata": {},
      "source": [
        "## Set non-graphical mode\nSet non-graphical mode. \nYou can set ``non_graphical`` either to ``True`` or ``False``.\nThe ``NewThread`` Boolean variable defines whether to create a new instance\nof AEDT or try to connect to existing instance of it if one is available.\n\n"
      ]
    },
    {
      "cell_type": "code",
      "execution_count": null,
      "metadata": {
        "collapsed": false
      },
      "outputs": [],
      "source": [
        "non_graphical = False\nNewThread = True\ndesktop_version = \"2023.2\""
      ]
    },
    {
      "cell_type": "markdown",
      "metadata": {},
      "source": [
        "## Launch AEDT with EMIT\nLaunch AEDT with EMIT. The ``Desktop`` class initializes AEDT and starts it\non the specified version and in the specified graphical mode.\n\n"
      ]
    },
    {
      "cell_type": "code",
      "execution_count": null,
      "metadata": {
        "collapsed": false
      },
      "outputs": [],
      "source": [
        "d = pyaedt.launch_desktop(desktop_version, non_graphical, NewThread)\naedtapp = pyaedt.Emit(pyaedt.generate_unique_project_name())"
      ]
    },
    {
      "cell_type": "markdown",
      "metadata": {},
      "source": [
        "## Create and connect EMIT components\nCreate three radios and connect an antenna to each one.\n\n"
      ]
    },
    {
      "cell_type": "code",
      "execution_count": null,
      "metadata": {
        "collapsed": false
      },
      "outputs": [],
      "source": [
        "rad1 = aedtapp.modeler.components.create_component(\"New Radio\")\nant1 = aedtapp.modeler.components.create_component(\"Antenna\")\nif rad1 and ant1:\n    ant1.move_and_connect_to(rad1)\n\n# Convenience method to create a radio and antenna connected together\nrad2, ant2 = aedtapp.modeler.components.create_radio_antenna(\"GPS Receiver\")\nrad3, ant3 = aedtapp.modeler.components.create_radio_antenna(\"Bluetooth Low Energy (LE)\", \"Bluetooth\")"
      ]
    },
    {
      "cell_type": "markdown",
      "metadata": {},
      "source": [
        "## Define coupling among RF systems\nDefine the coupling among the RF systems. This portion of the EMIT API is not\nyet implemented.\n\n"
      ]
    },
    {
      "cell_type": "markdown",
      "metadata": {},
      "source": [
        "## Run EMIT simulation\nRun the EMIT simulation. \n\nThis part of the example requires Ansys AEDT 2023 R2. \n\n"
      ]
    },
    {
      "cell_type": "code",
      "execution_count": null,
      "metadata": {
        "collapsed": false
      },
      "outputs": [],
      "source": [
        "if desktop_version > \"2023.1\":\n    rev = aedtapp.results.analyze()\n    rx_bands = rev.get_band_names(rad2.name, TxRxMode.RX) \n    tx_bands = rev.get_band_names(rad3.name, TxRxMode.TX) \n    domain = aedtapp.results.interaction_domain()\n    domain.set_receiver(rad2.name, rx_bands[0], -1)\n    domain.set_interferer(rad3.name,tx_bands[0])\n    interaction = rev.run(domain)\n    worst = interaction.get_worst_instance(ResultType.EMI)\n    if worst.has_valid_values():\n        emi = worst.get_value(ResultType.EMI)\n        print(\"Worst case interference is: {} dB\".format(emi))"
      ]
    },
    {
      "cell_type": "markdown",
      "metadata": {},
      "source": [
        "## Save project and close AEDT\nAfter the simulation completes, you can close AEDT or release it using the\n:func:`pyaedt.Desktop.force_close_desktop` method.\nAll methods provide for saving the project before closing.\n\n"
      ]
    },
    {
      "cell_type": "code",
      "execution_count": null,
      "metadata": {
        "collapsed": false
      },
      "outputs": [],
      "source": [
        "aedtapp.save_project()\naedtapp.release_desktop(close_projects=True, close_desktop=True)"
      ]
    }
  ],
  "metadata": {
    "kernelspec": {
      "display_name": "Python 3",
      "language": "python",
      "name": "python3"
    },
    "language_info": {
      "codemirror_mode": {
        "name": "ipython",
        "version": 3
      },
      "file_extension": ".py",
      "mimetype": "text/x-python",
      "name": "python",
      "nbconvert_exporter": "python",
      "pygments_lexer": "ipython3",
      "version": "3.10.5"
    }
  },
  "nbformat": 4,
  "nbformat_minor": 0
}