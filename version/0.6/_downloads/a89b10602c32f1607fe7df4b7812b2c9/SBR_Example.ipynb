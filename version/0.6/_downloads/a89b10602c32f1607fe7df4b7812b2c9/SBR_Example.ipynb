{
  "cells": [
    {
      "cell_type": "markdown",
      "metadata": {},
      "source": [
        "\n# SBR+: HFSS to SBR+ coupling\nThis example shows how you can use PyAEDT to create an HFSS SBR+ project from an\nHFSS antenna and run a simulation.\n"
      ]
    },
    {
      "cell_type": "markdown",
      "metadata": {},
      "source": [
        "## Perform required imports\nPerrform rquired imports and set up the local path to the path for the PyAEDT\ndirectory.\n\n"
      ]
    },
    {
      "cell_type": "code",
      "execution_count": null,
      "metadata": {
        "collapsed": false
      },
      "outputs": [],
      "source": [
        "import os\nimport pyaedt\n\nproject_full_name = pyaedt.downloads.download_sbr(pyaedt.generate_unique_project_name(project_name=\"sbr_freq\"))"
      ]
    },
    {
      "cell_type": "markdown",
      "metadata": {},
      "source": [
        "## Set non-graphical mode\nSet non-graphical mode. \nYou can set ``non_graphical`` either to ``True`` or ``False``.\n\n"
      ]
    },
    {
      "cell_type": "code",
      "execution_count": null,
      "metadata": {
        "collapsed": false
      },
      "outputs": [],
      "source": [
        "non_graphical = False"
      ]
    },
    {
      "cell_type": "markdown",
      "metadata": {},
      "source": [
        "## Define designs\nDefine two designs, one source and one target, with each design connected to\na different object.\n\n"
      ]
    },
    {
      "cell_type": "code",
      "execution_count": null,
      "metadata": {
        "collapsed": false
      },
      "outputs": [],
      "source": [
        "target = pyaedt.Hfss(\n    projectname=project_full_name,\n    designname=\"Cassegrain_\",\n    solution_type=\"SBR+\",\n    specified_version=\"2023.2\",\n    new_desktop_session=True,\n    non_graphical=non_graphical\n)\n\nsource = pyaedt.Hfss(projectname=target.project_name,\n                     designname=\"feeder\",\n                     specified_version=\"2023.2\",\n                     )"
      ]
    },
    {
      "cell_type": "markdown",
      "metadata": {},
      "source": [
        "## Define linked antenna\nDefine a linked antenna. This is HFSS far field applied to HFSS SBR+.\n\n"
      ]
    },
    {
      "cell_type": "code",
      "execution_count": null,
      "metadata": {
        "collapsed": false
      },
      "outputs": [],
      "source": [
        "target.create_sbr_linked_antenna(source, target_cs=\"feederPosition\", fieldtype=\"farfield\")"
      ]
    },
    {
      "cell_type": "markdown",
      "metadata": {},
      "source": [
        "## Assign boundaries\nAssign boundaries.\n\n"
      ]
    },
    {
      "cell_type": "code",
      "execution_count": null,
      "metadata": {
        "collapsed": false
      },
      "outputs": [],
      "source": [
        "target.assign_perfecte_to_sheets([\"Reflector\", \"Subreflector\"])\ntarget.mesh.assign_curvilinear_elements([\"Reflector\", \"Subreflector\"])"
      ]
    },
    {
      "cell_type": "markdown",
      "metadata": {},
      "source": [
        "## Plot model\nPlot the model\n\n"
      ]
    },
    {
      "cell_type": "code",
      "execution_count": null,
      "metadata": {
        "collapsed": false
      },
      "outputs": [],
      "source": [
        "source.plot(show=False, export_path=os.path.join(target.working_directory, \"Source.jpg\"), plot_air_objects=True)\ntarget.plot(show=False, export_path=os.path.join(target.working_directory, \"Target.jpg\"), plot_air_objects=False)"
      ]
    },
    {
      "cell_type": "markdown",
      "metadata": {},
      "source": [
        "## Create setup and solve\nCreate a setup and solve it.\n\n"
      ]
    },
    {
      "cell_type": "code",
      "execution_count": null,
      "metadata": {
        "collapsed": false
      },
      "outputs": [],
      "source": [
        "setup1 = target.create_setup()\nsetup1.props[\"RadiationSetup\"] = \"ATK_3D\"\nsetup1.props[\"ComputeFarFields\"] = True\nsetup1.props[\"RayDensityPerWavelength\"] = 2\nsetup1.props[\"MaxNumberOfBounces\"] = 3\nsetup1[\"RangeType\"] = \"SinglePoints\"\nsetup1[\"RangeStart\"] = \"10GHz\"\ntarget.analyze()"
      ]
    },
    {
      "cell_type": "markdown",
      "metadata": {},
      "source": [
        "## Plot results\nPlot results.\n\n"
      ]
    },
    {
      "cell_type": "code",
      "execution_count": null,
      "metadata": {
        "collapsed": false
      },
      "outputs": [],
      "source": [
        "variations = target.available_variations.nominal_w_values_dict\nvariations[\"Freq\"] = [\"10GHz\"]\nvariations[\"Theta\"] = [\"All\"]\nvariations[\"Phi\"] = [\"All\"]\ntarget.post.create_report(\n    \"db(GainTotal)\",\n    target.nominal_adaptive,\n    variations=variations,\n    primary_sweep_variable=\"Theta\",\n    context=\"ATK_3D\",\n    report_category=\"Far Fields\",\n)"
      ]
    },
    {
      "cell_type": "markdown",
      "metadata": {},
      "source": [
        "## Plot results outside AEDT\nPlot results using Matplotlib.\n\n"
      ]
    },
    {
      "cell_type": "code",
      "execution_count": null,
      "metadata": {
        "collapsed": false
      },
      "outputs": [],
      "source": [
        "solution = target.post.get_solution_data(\n    \"GainTotal\",\n    target.nominal_adaptive,\n    variations=variations,\n    primary_sweep_variable=\"Theta\",\n    context=\"ATK_3D\",\n    report_category=\"Far Fields\",\n)\nsolution.plot()"
      ]
    },
    {
      "cell_type": "markdown",
      "metadata": {},
      "source": [
        "## Release AEDT\nRelease AEDT and close the example.\n\n"
      ]
    },
    {
      "cell_type": "code",
      "execution_count": null,
      "metadata": {
        "collapsed": false
      },
      "outputs": [],
      "source": [
        "target.release_desktop()"
      ]
    }
  ],
  "metadata": {
    "kernelspec": {
      "display_name": "Python 3",
      "language": "python",
      "name": "python3"
    },
    "language_info": {
      "codemirror_mode": {
        "name": "ipython",
        "version": 3
      },
      "file_extension": ".py",
      "mimetype": "text/x-python",
      "name": "python",
      "nbconvert_exporter": "python",
      "pygments_lexer": "ipython3",
      "version": "3.10.5"
    }
  },
  "nbformat": 4,
  "nbformat_minor": 0
}