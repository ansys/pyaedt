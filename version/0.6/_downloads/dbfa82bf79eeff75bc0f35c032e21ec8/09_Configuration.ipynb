{
  "cells": [
    {
      "cell_type": "code",
      "execution_count": null,
      "metadata": {
        "collapsed": false
      },
      "outputs": [],
      "source": [
        "%matplotlib inline"
      ]
    },
    {
      "cell_type": "markdown",
      "metadata": {},
      "source": [
        "\n# EDB: fully configurable project\nThis example shows how you can create a project using a BOM file and configuration files.\nrun anlasyis and get results.\n"
      ]
    },
    {
      "cell_type": "markdown",
      "metadata": {},
      "source": [
        "## Perform required imports\nPeform required imports. Importing the ``Hfss3dlayout`` object initializes it\non version 2023 R1.\n\n"
      ]
    },
    {
      "cell_type": "code",
      "execution_count": null,
      "metadata": {
        "collapsed": false
      },
      "outputs": [],
      "source": [
        "import os\nimport pyaedt"
      ]
    },
    {
      "cell_type": "markdown",
      "metadata": {},
      "source": [
        "## Set non-graphical mode\nSet non-graphical mode. The default is ``True``.\n\n"
      ]
    },
    {
      "cell_type": "code",
      "execution_count": null,
      "metadata": {
        "collapsed": false
      },
      "outputs": [],
      "source": [
        "non_graphical = True"
      ]
    },
    {
      "cell_type": "markdown",
      "metadata": {},
      "source": [
        "## Download file\nDownload the AEDB file and copy it in the temporary folder.\n\n"
      ]
    },
    {
      "cell_type": "code",
      "execution_count": null,
      "metadata": {
        "collapsed": false
      },
      "outputs": [],
      "source": [
        "project_path = pyaedt.generate_unique_folder_name()\ntarget_aedb = pyaedt.downloads.download_file('edb/Galileo.aedb',destination=project_path)\nprint(\"Project folder will be\", target_aedb)"
      ]
    },
    {
      "cell_type": "markdown",
      "metadata": {},
      "source": [
        "## Launch EDB\nLaunch the :class:`pyaedt.Edb` class, using EDB 2023 R1 and SI units.\n\n"
      ]
    },
    {
      "cell_type": "code",
      "execution_count": null,
      "metadata": {
        "collapsed": false
      },
      "outputs": [],
      "source": [
        "edbapp = pyaedt.Edb(target_aedb, edbversion=\"2023.1\")"
      ]
    },
    {
      "cell_type": "markdown",
      "metadata": {},
      "source": [
        "## Import Definitions\nA definitions file is a json containing, for each part name the model associated.\nModel can be RLC, Sparameter or Spice.\nOnce imported the definition is applied to the board.\nJson file is stored for convenience in aedb folder.\n\n"
      ]
    },
    {
      "cell_type": "code",
      "execution_count": null,
      "metadata": {
        "collapsed": false
      },
      "outputs": [],
      "source": [
        "edbapp.components.import_definition(os.path.join(target_aedb, \"1_comp_definition.json\"))"
      ]
    },
    {
      "cell_type": "markdown",
      "metadata": {},
      "source": [
        "## Import BOM\nThis step imports a BOM file in CSV format. The BOM contains the\nreference designator, part name, component type, and default value.\nComponents not in the BOM are deactivated.\nCsv file is store for convenience in aedb folder.\n\n"
      ]
    },
    {
      "cell_type": "code",
      "execution_count": null,
      "metadata": {
        "collapsed": false
      },
      "outputs": [],
      "source": [
        "edbapp.components.import_bom(os.path.join(target_aedb,\"0_bom.csv\"),\n                                  refdes_col=0,\n                                  part_name_col=1,\n                                  comp_type_col=2,\n                                  value_col=3)"
      ]
    },
    {
      "cell_type": "markdown",
      "metadata": {},
      "source": [
        "## Check Component Values\n\n"
      ]
    },
    {
      "cell_type": "code",
      "execution_count": null,
      "metadata": {
        "collapsed": false
      },
      "outputs": [],
      "source": [
        "comp = edbapp.components[\"C3B14\"]\ncomp.model_type, comp.value"
      ]
    },
    {
      "cell_type": "markdown",
      "metadata": {},
      "source": [
        "## Check Component Values\n\n"
      ]
    },
    {
      "cell_type": "code",
      "execution_count": null,
      "metadata": {
        "collapsed": false
      },
      "outputs": [],
      "source": [
        "comp2 = edbapp.components[\"C3A3\"]\ncomp2.model_type, comp2.value"
      ]
    },
    {
      "cell_type": "markdown",
      "metadata": {},
      "source": [
        "## Check Component Definition\n\n"
      ]
    },
    {
      "cell_type": "code",
      "execution_count": null,
      "metadata": {
        "collapsed": false
      },
      "outputs": [],
      "source": [
        "edbapp.components.nport_comp_definition"
      ]
    },
    {
      "cell_type": "markdown",
      "metadata": {},
      "source": [
        "## Save Edb\n\n"
      ]
    },
    {
      "cell_type": "code",
      "execution_count": null,
      "metadata": {
        "collapsed": false
      },
      "outputs": [],
      "source": [
        "edbapp.save_edb()"
      ]
    },
    {
      "cell_type": "markdown",
      "metadata": {},
      "source": [
        "## Configure Setup\nThis step allows to define the project. It includes:\n - Definition of nets to be included into the cutout\n - Cutout details\n - Components on which to create the ports\n - Simulation settings\n\n"
      ]
    },
    {
      "cell_type": "code",
      "execution_count": null,
      "metadata": {
        "collapsed": false
      },
      "outputs": [],
      "source": [
        "sim_setup = edbapp.new_simulation_configuration()\nsim_setup.solver_type = sim_setup.SOLVER_TYPE.SiwaveSYZ\nsim_setup.batch_solve_settings.cutout_subdesign_expansion = 0.01\nsim_setup.batch_solve_settings.do_cutout_subdesign = True\nsim_setup.use_default_cutout = False\nsim_setup.batch_solve_settings.signal_nets = [\"PCIE0_RX0_P\", \"PCIE0_RX0_N\", \"PCIE0_TX0_P_C\", \"PCIE0_TX0_N_C\",\n                                              \"PCIE0_TX0_P\", \"PCIE0_TX0_N\"]\nsim_setup.batch_solve_settings.components = [\"U2A5\", \"J2L1\"]\nsim_setup.batch_solve_settings.power_nets = [\"GND\"]\nsim_setup.ac_settings.start_freq = \"100Hz\"\nsim_setup.ac_settings.stop_freq = \"6GHz\"\nsim_setup.ac_settings.step_freq = \"10MHz\""
      ]
    },
    {
      "cell_type": "markdown",
      "metadata": {},
      "source": [
        "## Run Setup\nThis step allows to create the cutout and apply all settings.\n\n"
      ]
    },
    {
      "cell_type": "code",
      "execution_count": null,
      "metadata": {
        "collapsed": false
      },
      "outputs": [],
      "source": [
        "sim_setup.export_json(os.path.join(project_path, \"configuration.json\"))\nedbapp.build_simulation_project(sim_setup)"
      ]
    },
    {
      "cell_type": "markdown",
      "metadata": {},
      "source": [
        "## Plot Cutout\nPlot cutout once finished.\n\n"
      ]
    },
    {
      "cell_type": "code",
      "execution_count": null,
      "metadata": {
        "collapsed": false
      },
      "outputs": [],
      "source": [
        "edbapp.nets.plot(None,None)"
      ]
    },
    {
      "cell_type": "markdown",
      "metadata": {},
      "source": [
        "## Save and Close EDB\nEdb will be saved and closed in order to be opened by Hfss 3D Layout and solved.\n\n"
      ]
    },
    {
      "cell_type": "code",
      "execution_count": null,
      "metadata": {
        "collapsed": false
      },
      "outputs": [],
      "source": [
        "edbapp.save_edb()\nedbapp.close_edb()"
      ]
    },
    {
      "cell_type": "markdown",
      "metadata": {},
      "source": [
        "## Open Aedt\nProject folder aedb will be opened in AEDT Hfss3DLayout and loaded.\n\n"
      ]
    },
    {
      "cell_type": "code",
      "execution_count": null,
      "metadata": {
        "collapsed": false
      },
      "outputs": [],
      "source": [
        "h3d = pyaedt.Hfss3dLayout(specified_version=\"2023.1\", projectname=target_aedb, non_graphical=non_graphical)"
      ]
    },
    {
      "cell_type": "markdown",
      "metadata": {},
      "source": [
        "## Analyze\nProject will be solved.\n\n"
      ]
    },
    {
      "cell_type": "code",
      "execution_count": null,
      "metadata": {
        "collapsed": false
      },
      "outputs": [],
      "source": [
        "h3d.analyze()"
      ]
    },
    {
      "cell_type": "markdown",
      "metadata": {},
      "source": [
        "## Get Results\nS Parameter data will be loaded at the end of simulation.\n\n"
      ]
    },
    {
      "cell_type": "code",
      "execution_count": null,
      "metadata": {
        "collapsed": false
      },
      "outputs": [],
      "source": [
        "solutions = h3d.post.get_solution_data()"
      ]
    },
    {
      "cell_type": "markdown",
      "metadata": {},
      "source": [
        "## Plot Results\nPlot S Parameter data.\n\n"
      ]
    },
    {
      "cell_type": "code",
      "execution_count": null,
      "metadata": {
        "collapsed": false
      },
      "outputs": [],
      "source": [
        "solutions.plot(solutions.expressions, \"db20\")"
      ]
    },
    {
      "cell_type": "markdown",
      "metadata": {},
      "source": [
        "## Save and Close AEDT\nHfss3dLayout is saved and closed.\n\n"
      ]
    },
    {
      "cell_type": "code",
      "execution_count": null,
      "metadata": {
        "collapsed": false
      },
      "outputs": [],
      "source": [
        "h3d.save_project()\nh3d.release_desktop()"
      ]
    }
  ],
  "metadata": {
    "kernelspec": {
      "display_name": "Python 3",
      "language": "python",
      "name": "python3"
    },
    "language_info": {
      "codemirror_mode": {
        "name": "ipython",
        "version": 3
      },
      "file_extension": ".py",
      "mimetype": "text/x-python",
      "name": "python",
      "nbconvert_exporter": "python",
      "pygments_lexer": "ipython3",
      "version": "3.8.10"
    }
  },
  "nbformat": 4,
  "nbformat_minor": 0
}