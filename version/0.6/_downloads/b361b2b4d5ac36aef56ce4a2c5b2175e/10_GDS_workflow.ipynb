{
  "cells": [
    {
      "cell_type": "markdown",
      "metadata": {},
      "source": [
        "\n# EDB: Edit Control File and import gds\nThis example shows how you can use PyAEDT to import a gds from an IC file.\n"
      ]
    },
    {
      "cell_type": "markdown",
      "metadata": {},
      "source": [
        "## Perform required imports\nPerform required imports, which includes importing a section.\n\n"
      ]
    },
    {
      "cell_type": "code",
      "execution_count": null,
      "metadata": {
        "collapsed": false
      },
      "outputs": [],
      "source": [
        "import os\nimport tempfile\nimport pyaedt\nimport shutil\nfrom pyaedt.edb_core.edb_data.control_file import ControlFile"
      ]
    },
    {
      "cell_type": "markdown",
      "metadata": {},
      "source": [
        "## Download file\nDownload the AEDB file and copy it in the temporary folder.\n\n"
      ]
    },
    {
      "cell_type": "code",
      "execution_count": null,
      "metadata": {
        "collapsed": false
      },
      "outputs": [],
      "source": [
        "temppath = tempfile.gettempdir()\nlocal_path = pyaedt.downloads.download_file('gds')\nc_file_in = os.path.join(\n    local_path, \"sky130_fictitious_dtc_example_control_no_map.xml\"\n)\nc_map = os.path.join(local_path, \"dummy_layermap.map\")\ngds_in = os.path.join(local_path, \"sky130_fictitious_dtc_example.gds\")\ngds_out = os.path.join(temppath, \"example.gds\")\nshutil.copy2(gds_in,gds_out )"
      ]
    },
    {
      "cell_type": "markdown",
      "metadata": {},
      "source": [
        "## Control file\nA Control file is an xml file which purpose if to provide additional\ninformation during import phase. It can include, materials, stackup, setup, boundaries and settings.\nIn this example we will import an exising xml, integrate it with a layer mapping file of gds\nand then adding setup and boundaries.\n\n"
      ]
    },
    {
      "cell_type": "code",
      "execution_count": null,
      "metadata": {
        "collapsed": false
      },
      "outputs": [],
      "source": [
        "c = ControlFile(c_file_in, layer_map=c_map)"
      ]
    },
    {
      "cell_type": "markdown",
      "metadata": {},
      "source": [
        "## Simulation setup\nHere we setup simulation with HFSS and add a frequency sweep.\n\n"
      ]
    },
    {
      "cell_type": "code",
      "execution_count": null,
      "metadata": {
        "collapsed": false
      },
      "outputs": [],
      "source": [
        "setup = c.setups.add_setup(\"Setup1\", \"1GHz\")\nsetup.add_sweep(\"Sweep1\", \"0.01GHz\", \"5GHz\", \"0.1GHz\")"
      ]
    },
    {
      "cell_type": "markdown",
      "metadata": {},
      "source": [
        "## Additional stackup settings\nAfter import user can change stackup settings and add/remove layers or materials.\n\n"
      ]
    },
    {
      "cell_type": "code",
      "execution_count": null,
      "metadata": {
        "collapsed": false
      },
      "outputs": [],
      "source": [
        "c.stackup.units = \"um\"\nc.stackup.dielectrics_base_elevation = -100\nc.stackup.metal_layer_snapping_tolerance = \"10nm\"\nfor via in c.stackup.vias:\n    via.create_via_group = True\n    via.snap_via_group = True"
      ]
    },
    {
      "cell_type": "markdown",
      "metadata": {},
      "source": [
        "## Boundaries settings\nBoundaries can include ports, components and boundary extent.\n\n"
      ]
    },
    {
      "cell_type": "code",
      "execution_count": null,
      "metadata": {
        "collapsed": false
      },
      "outputs": [],
      "source": [
        "c.boundaries.units = \"um\"\nc.boundaries.add_port(\"P1\", x1=223.7, y1=222.6, layer1=\"Metal6\", x2=223.7, y2=100, layer2=\"Metal6\")\nc.boundaries.add_extent()\ncomp = c.components.add_component(\"B1\", \"BGA\", \"IC\", \"Flip chip\", \"Cylinder\")\ncomp.solder_diameter = \"65um\"\ncomp.add_pin(\"1\", \"81.28\", \"84.6\", \"met2\")\ncomp.add_pin(\"2\", \"211.28\", \"84.6\", \"met2\")\ncomp.add_pin(\"3\", \"211.28\", \"214.6\", \"met2\")\ncomp.add_pin(\"4\", \"81.28\", \"214.6\", \"met2\")\nc.import_options.import_dummy_nets = True"
      ]
    },
    {
      "cell_type": "markdown",
      "metadata": {},
      "source": [
        "## Write xml\nAfter all settings are ready we can write xml.\n\n"
      ]
    },
    {
      "cell_type": "code",
      "execution_count": null,
      "metadata": {
        "collapsed": false
      },
      "outputs": [],
      "source": [
        "c.write_xml(os.path.join(temppath, \"output.xml\"))"
      ]
    },
    {
      "cell_type": "markdown",
      "metadata": {},
      "source": [
        "## Open Edb\nImport the gds and open the edb.\n\n"
      ]
    },
    {
      "cell_type": "code",
      "execution_count": null,
      "metadata": {
        "collapsed": false
      },
      "outputs": [],
      "source": [
        "from pyaedt import Edb\n\nedb = Edb(gds_out, edbversion=\"2023.2\", technology_file=os.path.join(temppath, \"output.xml\"))"
      ]
    },
    {
      "cell_type": "markdown",
      "metadata": {},
      "source": [
        "## Plot Stackup\nStackup plot.\n\n"
      ]
    },
    {
      "cell_type": "code",
      "execution_count": null,
      "metadata": {
        "collapsed": false
      },
      "outputs": [],
      "source": [
        "edb.stackup.plot(first_layer=\"met1\")"
      ]
    },
    {
      "cell_type": "markdown",
      "metadata": {},
      "source": [
        "## Close Edb\nClose the project.\n\n"
      ]
    },
    {
      "cell_type": "code",
      "execution_count": null,
      "metadata": {
        "collapsed": false
      },
      "outputs": [],
      "source": [
        "edb.close_edb()"
      ]
    }
  ],
  "metadata": {
    "kernelspec": {
      "display_name": "Python 3",
      "language": "python",
      "name": "python3"
    },
    "language_info": {
      "codemirror_mode": {
        "name": "ipython",
        "version": 3
      },
      "file_extension": ".py",
      "mimetype": "text/x-python",
      "name": "python",
      "nbconvert_exporter": "python",
      "pygments_lexer": "ipython3",
      "version": "3.10.5"
    }
  },
  "nbformat": 4,
  "nbformat_minor": 0
}