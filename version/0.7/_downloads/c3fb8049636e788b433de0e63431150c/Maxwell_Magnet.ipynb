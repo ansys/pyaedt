{
  "cells": [
    {
      "cell_type": "markdown",
      "metadata": {},
      "source": [
        "\n# Maxwell 3D: magnet DC analysis\nThis example shows how you can use PyAEDT to create a Maxwell DC analysis,\ncompute mass center, and move coordinate systems.\n"
      ]
    },
    {
      "cell_type": "markdown",
      "metadata": {},
      "source": [
        "## Perform required imports\nPerform required imports.\n\n"
      ]
    },
    {
      "cell_type": "code",
      "execution_count": null,
      "metadata": {
        "collapsed": false
      },
      "outputs": [],
      "source": [
        "from pyaedt import Maxwell3d\nfrom pyaedt import generate_unique_project_name\nimport os"
      ]
    },
    {
      "cell_type": "markdown",
      "metadata": {},
      "source": [
        "## Set non-graphical mode\nSet non-graphical mode. \nYou can set ``non_graphical`` either to ``True`` or ``False``.\n\n"
      ]
    },
    {
      "cell_type": "code",
      "execution_count": null,
      "metadata": {
        "collapsed": false
      },
      "outputs": [],
      "source": [
        "non_graphical = False"
      ]
    },
    {
      "cell_type": "markdown",
      "metadata": {},
      "source": [
        "## Launch AEDT\nLaunch AEDT 2023 R2 in graphical mode.\n\n"
      ]
    },
    {
      "cell_type": "code",
      "execution_count": null,
      "metadata": {
        "collapsed": false
      },
      "outputs": [],
      "source": [
        "m3d = Maxwell3d(projectname=generate_unique_project_name(),\n                specified_version=\"2023.2\",\n                new_desktop_session=True,\n                non_graphical=non_graphical)"
      ]
    },
    {
      "cell_type": "markdown",
      "metadata": {},
      "source": [
        "## Set up Maxwell solution\nSet up the Maxwell solution to DC.\n\n"
      ]
    },
    {
      "cell_type": "code",
      "execution_count": null,
      "metadata": {
        "collapsed": false
      },
      "outputs": [],
      "source": [
        "m3d.solution_type = m3d.SOLUTIONS.Maxwell3d.ElectroDCConduction"
      ]
    },
    {
      "cell_type": "markdown",
      "metadata": {},
      "source": [
        "## Create magnet\nCreate a magnet.\n\n"
      ]
    },
    {
      "cell_type": "code",
      "execution_count": null,
      "metadata": {
        "collapsed": false
      },
      "outputs": [],
      "source": [
        "magnet = m3d.modeler.create_box(position=[7, 4, 22], dimensions_list=[10, 5, 30], name=\"Magnet\", matname=\"copper\")"
      ]
    },
    {
      "cell_type": "markdown",
      "metadata": {},
      "source": [
        "## Create setup and assign voltage\nCreate the setup and assign a voltage.\n\n"
      ]
    },
    {
      "cell_type": "code",
      "execution_count": null,
      "metadata": {
        "collapsed": false
      },
      "outputs": [],
      "source": [
        "m3d.assign_voltage(magnet.faces, 0)\nm3d.create_setup()"
      ]
    },
    {
      "cell_type": "markdown",
      "metadata": {},
      "source": [
        "## Plot model\nPlot the model.\n\n"
      ]
    },
    {
      "cell_type": "code",
      "execution_count": null,
      "metadata": {
        "collapsed": false
      },
      "outputs": [],
      "source": [
        "m3d.plot(show=False, export_path=os.path.join(m3d.working_directory, \"Image.jpg\"), plot_air_objects=True)"
      ]
    },
    {
      "cell_type": "markdown",
      "metadata": {},
      "source": [
        "## Solve setup\nSolve the setup.\n\n"
      ]
    },
    {
      "cell_type": "code",
      "execution_count": null,
      "metadata": {
        "collapsed": false
      },
      "outputs": [],
      "source": [
        "m3d.analyze()"
      ]
    },
    {
      "cell_type": "markdown",
      "metadata": {},
      "source": [
        "## Compute mass center\nCompute mass center using the fields calculator.\n\n"
      ]
    },
    {
      "cell_type": "code",
      "execution_count": null,
      "metadata": {
        "collapsed": false
      },
      "outputs": [],
      "source": [
        "m3d.post.ofieldsreporter.EnterScalarFunc(\"X\")\nm3d.post.ofieldsreporter.EnterVol(magnet.name)\nm3d.post.ofieldsreporter.CalcOp(\"Mean\")\nm3d.post.ofieldsreporter.AddNamedExpression(\"CM_X\", \"Fields\")\nm3d.post.ofieldsreporter.EnterScalarFunc(\"Y\")\nm3d.post.ofieldsreporter.EnterVol(magnet.name)\nm3d.post.ofieldsreporter.CalcOp(\"Mean\")\nm3d.post.ofieldsreporter.AddNamedExpression(\"CM_Y\", \"Fields\")\nm3d.post.ofieldsreporter.EnterScalarFunc(\"Z\")\nm3d.post.ofieldsreporter.EnterVol(magnet.name)\nm3d.post.ofieldsreporter.CalcOp(\"Mean\")\nm3d.post.ofieldsreporter.AddNamedExpression(\"CM_Z\", \"Fields\")\nm3d.post.ofieldsreporter.CalcStack(\"clear\")"
      ]
    },
    {
      "cell_type": "markdown",
      "metadata": {},
      "source": [
        "## Get mass center\nGet mass center using the fields calculator.\n\n"
      ]
    },
    {
      "cell_type": "code",
      "execution_count": null,
      "metadata": {
        "collapsed": false
      },
      "outputs": [],
      "source": [
        "xval = m3d.post.get_scalar_field_value(\"CM_X\", None)\nyval = m3d.post.get_scalar_field_value(\"CM_Y\", None)\nzval = m3d.post.get_scalar_field_value(\"CM_Z\", None)"
      ]
    },
    {
      "cell_type": "markdown",
      "metadata": {},
      "source": [
        "## Create variables\nCreate variables with mass center values.\n\n"
      ]
    },
    {
      "cell_type": "code",
      "execution_count": null,
      "metadata": {
        "collapsed": false
      },
      "outputs": [],
      "source": [
        "m3d[magnet.name + \"x\"] = str(xval * 1e3) + \"mm\"\nm3d[magnet.name + \"y\"] = str(yval * 1e3) + \"mm\"\nm3d[magnet.name + \"z\"] = str(zval * 1e3) + \"mm\""
      ]
    },
    {
      "cell_type": "markdown",
      "metadata": {},
      "source": [
        "## Create coordinate system\nCreate a parametric coordinate system.\n\n"
      ]
    },
    {
      "cell_type": "code",
      "execution_count": null,
      "metadata": {
        "collapsed": false
      },
      "outputs": [],
      "source": [
        "cs1 = m3d.modeler.create_coordinate_system(\n    [magnet.name + \"x\", magnet.name + \"y\", magnet.name + \"z\"], reference_cs=\"Global\", name=magnet.name + \"CS\"\n)"
      ]
    },
    {
      "cell_type": "markdown",
      "metadata": {},
      "source": [
        "## Save and close\nSave the project and close AEDT.\n\n"
      ]
    },
    {
      "cell_type": "code",
      "execution_count": null,
      "metadata": {
        "collapsed": false
      },
      "outputs": [],
      "source": [
        "m3d.save_project()\nm3d.release_desktop(close_projects=True, close_desktop=True)"
      ]
    }
  ],
  "metadata": {
    "kernelspec": {
      "display_name": "Python 3",
      "language": "python",
      "name": "python3"
    },
    "language_info": {
      "codemirror_mode": {
        "name": "ipython",
        "version": 3
      },
      "file_extension": ".py",
      "mimetype": "text/x-python",
      "name": "python",
      "nbconvert_exporter": "python",
      "pygments_lexer": "ipython3",
      "version": "3.10.5"
    }
  },
  "nbformat": 4,
  "nbformat_minor": 0
}