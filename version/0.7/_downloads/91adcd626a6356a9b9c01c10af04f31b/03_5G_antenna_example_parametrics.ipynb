{
  "cells": [
    {
      "cell_type": "markdown",
      "metadata": {},
      "source": [
        "\n# EDB: Layout Components\nThis example shows how you can use EDB to create a layout component parametrics and use it in HFSS 3D.\n"
      ]
    },
    {
      "cell_type": "markdown",
      "metadata": {},
      "source": [
        "## Perform required imports\nPerform required imports, which includes importing the ``Hfss3dlayout`` object\nand initializing it on version 2023 R2.\n\n"
      ]
    },
    {
      "cell_type": "code",
      "execution_count": null,
      "metadata": {
        "collapsed": false
      },
      "outputs": [],
      "source": [
        "import tempfile\nimport pyaedt\nimport os"
      ]
    },
    {
      "cell_type": "markdown",
      "metadata": {},
      "source": [
        "## Set non-graphical mode\nSet non-graphical mode. The default is ``False``.\n\n"
      ]
    },
    {
      "cell_type": "code",
      "execution_count": null,
      "metadata": {
        "collapsed": false
      },
      "outputs": [],
      "source": [
        "non_graphical = False"
      ]
    },
    {
      "cell_type": "markdown",
      "metadata": {},
      "source": [
        "## Creating data classes\nData classes are useful to do calculations and store variables.\nWe create 3 Data classes for Patch, Line and Array\n\n"
      ]
    },
    {
      "cell_type": "code",
      "execution_count": null,
      "metadata": {
        "collapsed": false
      },
      "outputs": [],
      "source": [
        "class Patch:\n    def __init__(self, width=0.0, height=0.0, position=0.0):\n        self.width = width\n        self.height = height\n        self.position = position\n\n    @property\n    def points(self):\n        return [\n            [self.position, \"-{}/2\".format(self.height)],\n            [\"{} + {}\".format(self.position, self.width), \"-{}/2\".format(self.height)],\n            [\"{} + {}\".format(self.position, self.width), \"{}/2\".format(self.height)],\n            [self.position, \"{}/2\".format(self.height)],\n        ]\n\n\nclass Line:\n    def __init__(self, length=0.0, width=0.0, position=0.0):\n        self.length = length\n        self.width = width\n        self.position = position\n\n    @property\n    def points(self):\n        return [\n            [self.position, \"-{}/2\".format(self.width)],\n            [\"{} + {}\".format(self.position, self.length), \"-{}/2\".format(self.width)],\n            [\"{} + {}\".format(self.position, self.length), \"{}/2\".format(self.width)],\n            [self.position, \"{}/2\".format(self.width)],\n        ]\n\n\nclass LinearArray:\n    def __init__(self, nb_patch=1, array_length=10e-3, array_width=5e-3):\n        self.nbpatch = nb_patch\n        self.length = array_length\n        self.width = array_width\n\n    @property\n    def points(self):\n        return [\n            [-1e-3, \"-{}/2-1e-3\".format(self.width)],\n            [\"{}+1e-3\".format(self.length), \"-{}/2-1e-3\".format(self.width)],\n            [\"{}+1e-3\".format(self.length), \"{}/2+1e-3\".format(self.width)],\n            [-1e-3, \"{}/2+1e-3\".format(self.width)],\n        ]"
      ]
    },
    {
      "cell_type": "markdown",
      "metadata": {},
      "source": [
        "## Launch EDB\nPyAEDT.Edb allows to open existing Edb project or create a new empty project.\n\n"
      ]
    },
    {
      "cell_type": "code",
      "execution_count": null,
      "metadata": {
        "collapsed": false
      },
      "outputs": [],
      "source": [
        "tmpfold = tempfile.gettempdir()\naedb_path = os.path.join(tmpfold, pyaedt.generate_unique_name(\"pcb\") + \".aedb\")\nprint(aedb_path)\nedb = pyaedt.Edb(edbpath=aedb_path, edbversion=\"2023.2\")"
      ]
    },
    {
      "cell_type": "markdown",
      "metadata": {},
      "source": [
        "## Add stackup layers\nAdd the stackup layers.\n\n"
      ]
    },
    {
      "cell_type": "code",
      "execution_count": null,
      "metadata": {
        "collapsed": false
      },
      "outputs": [],
      "source": [
        "edb.stackup.add_layer(\"Virt_GND\")\nedb.stackup.add_layer(\"Gap\", \"Virt_GND\", layer_type=\"dielectric\", thickness=\"0.05mm\", material=\"Air\")\nedb.stackup.add_layer(\"GND\", \"Gap\")\nedb.stackup.add_layer(\"Substrat\", \"GND\", layer_type=\"dielectric\", thickness=\"0.5mm\", material=\"Duroid (tm)\")\nedb.stackup.add_layer(\"TOP\", \"Substrat\")"
      ]
    },
    {
      "cell_type": "markdown",
      "metadata": {},
      "source": [
        "## Create linear array\nCreate the first patch of the linear array.\n\n"
      ]
    },
    {
      "cell_type": "code",
      "execution_count": null,
      "metadata": {
        "collapsed": false
      },
      "outputs": [],
      "source": [
        "edb[\"w1\"] = 1.4e-3\nedb[\"h1\"] = 1.2e-3\nedb[\"initial_position\"] = 0.0\nedb[\"l1\"] = 2.4e-3\nedb[\"trace_w\"] = 0.3e-3\nfirst_patch = Patch(width=\"w1\", height=\"h1\", position=\"initial_position\")\nedb.modeler.create_polygon(first_patch.points, \"TOP\", net_name=\"Array_antenna\")\n# First line\n\nfirst_line = Line(length=\"l1\", width=\"trace_w\", position=first_patch.width)\nedb.modeler.create_polygon(first_line.points, \"TOP\", net_name=\"Array_antenna\")"
      ]
    },
    {
      "cell_type": "markdown",
      "metadata": {},
      "source": [
        "## Patch linear array\nPatch the linear array.\n\n"
      ]
    },
    {
      "cell_type": "code",
      "execution_count": null,
      "metadata": {
        "collapsed": false
      },
      "outputs": [],
      "source": [
        "edb[\"w2\"] = 2.29e-3\nedb[\"h2\"] = 3.3e-3\nedb[\"l2\"] = 1.9e-3\nedb[\"trace_w2\"] = 0.2e-3\n\npatch = Patch(width=\"w2\", height=\"h2\")\nline = Line(length=\"l2\", width=\"trace_w2\")\nlinear_array = LinearArray(nb_patch=8, array_width=patch.height)\n\ncurrent_patch = 1\ncurrent_position = \"{} + {}\".format(first_line.position, first_line.length)\n\nwhile current_patch <= linear_array.nbpatch:\n    patch.position = current_position\n    edb.modeler.create_polygon(patch.points, \"TOP\", net_name=\"Array_antenna\")\n    current_position = \"{} + {}\".format(current_position, patch.width)\n    if current_patch < linear_array.nbpatch:\n        line.position = current_position\n        edb.modeler.create_polygon(line.points, \"TOP\", net_name=\"Array_antenna\")\n        current_position = \"{} + {}\".format(current_position, line.length)\n    current_patch += 1\n\nlinear_array.length = current_position"
      ]
    },
    {
      "cell_type": "markdown",
      "metadata": {},
      "source": [
        "## Add ground\nAdd a ground.\n\n"
      ]
    },
    {
      "cell_type": "code",
      "execution_count": null,
      "metadata": {
        "collapsed": false
      },
      "outputs": [],
      "source": [
        "edb.modeler.create_polygon(linear_array.points, \"GND\", net_name=\"GND\")"
      ]
    },
    {
      "cell_type": "markdown",
      "metadata": {},
      "source": [
        "## Add connector pin\nAdd a central connector pin.\n\n"
      ]
    },
    {
      "cell_type": "code",
      "execution_count": null,
      "metadata": {
        "collapsed": false
      },
      "outputs": [],
      "source": [
        "edb.padstacks.create(padstackname=\"Connector_pin\", holediam=\"100um\", paddiam=\"0\", antipaddiam=\"200um\")\ncon_pin = edb.padstacks.place(\n    [\"{}/4.0\".format(first_patch.width), 0],\n    \"Connector_pin\",\n    net_name=\"Array_antenna\",\n    fromlayer=\"TOP\",\n    tolayer=\"GND\",\n    via_name=\"coax\",\n)"
      ]
    },
    {
      "cell_type": "markdown",
      "metadata": {},
      "source": [
        "## Add connector ground\nAdd a connector ground.\n\n"
      ]
    },
    {
      "cell_type": "code",
      "execution_count": null,
      "metadata": {
        "collapsed": false
      },
      "outputs": [],
      "source": [
        "edb.modeler.create_polygon(first_patch.points, \"Virt_GND\", net_name=\"GND\")\nedb.padstacks.create(\"gnd_via\", \"100um\", \"0\", \"0\")\nedb[\"via_spacing\"] = 0.2e-3\ncon_ref1 = edb.padstacks.place(\n    [\"{} + {}\".format(first_patch.points[0][0], \"via_spacing\"), \"{} + {}\".format(first_patch.points[0][1], \"via_spacing\")],\n    \"gnd_via\",\n    fromlayer=\"GND\",\n    tolayer=\"Virt_GND\",\n    net_name=\"GND\",\n)\ncon_ref2 = edb.padstacks.place(\n    [\"{} + {}\".format(first_patch.points[1][0], \"-via_spacing\"), \"{} + {}\".format(first_patch.points[1][1], \"via_spacing\")],\n    \"gnd_via\",\n    fromlayer=\"GND\",\n    tolayer=\"Virt_GND\",\n    net_name=\"GND\",\n)\ncon_ref3 = edb.padstacks.place(\n    [\"{} + {}\".format(first_patch.points[2][0], \"-via_spacing\"), \"{} + {}\".format(first_patch.points[2][1], \"-via_spacing\")],\n    \"gnd_via\",\n    fromlayer=\"GND\",\n    tolayer=\"Virt_GND\",\n    net_name=\"GND\",\n)\ncon_ref4 = edb.padstacks.place(\n    [\"{} + {}\".format(first_patch.points[3][0], \"via_spacing\"), \"{} + {}\".format(first_patch.points[3][1], \"-via_spacing\")],\n    \"gnd_via\",\n    fromlayer=\"GND\",\n    tolayer=\"Virt_GND\",\n    net_name=\"GND\",\n)"
      ]
    },
    {
      "cell_type": "markdown",
      "metadata": {},
      "source": [
        "## Add excitation port\nAdd an excitation port.\n\n"
      ]
    },
    {
      "cell_type": "code",
      "execution_count": null,
      "metadata": {
        "collapsed": false
      },
      "outputs": [],
      "source": [
        "edb.padstacks.set_solderball(con_pin, \"Virt_GND\", isTopPlaced=False, ballDiam=0.1e-3)\nport_name = edb.padstacks.create_coax_port(con_pin)"
      ]
    },
    {
      "cell_type": "markdown",
      "metadata": {},
      "source": [
        "## Plot geometry\nPlot the geometry.\n\n"
      ]
    },
    {
      "cell_type": "code",
      "execution_count": null,
      "metadata": {
        "collapsed": false
      },
      "outputs": [],
      "source": [
        "edb.nets.plot()"
      ]
    },
    {
      "cell_type": "markdown",
      "metadata": {},
      "source": [
        "## Save and close Edb instance prior to opening it in Electronics Desktop.\nSave EDB.\n\n"
      ]
    },
    {
      "cell_type": "code",
      "execution_count": null,
      "metadata": {
        "collapsed": false
      },
      "outputs": [],
      "source": [
        "edb.save_edb()\nedb.close_edb()\nprint(\"EDB saved correctly to {}. You can import in AEDT.\".format(aedb_path))"
      ]
    },
    {
      "cell_type": "markdown",
      "metadata": {},
      "source": [
        "## Launch HFSS 3D\nLaunch HFSS 3D.\n\n"
      ]
    },
    {
      "cell_type": "code",
      "execution_count": null,
      "metadata": {
        "collapsed": false
      },
      "outputs": [],
      "source": [
        "h3d = pyaedt.Hfss(specified_version=\"2023.2\", new_desktop_session=True, close_on_exit=True, solution_type=\"Terminal\")"
      ]
    },
    {
      "cell_type": "markdown",
      "metadata": {},
      "source": [
        "## Add the layout component\nHfss allows user to add Layout components (aedb) or 3D Components into a 3D Design \nand benefit of different functionalities like parametrization, mesh fusion and others.\n\n"
      ]
    },
    {
      "cell_type": "code",
      "execution_count": null,
      "metadata": {
        "collapsed": false
      },
      "outputs": [],
      "source": [
        "component = h3d.modeler.insert_layout_component(aedb_path, parameter_mapping=True)"
      ]
    },
    {
      "cell_type": "markdown",
      "metadata": {},
      "source": [
        "## Edit Parameters\nIf a layout component is parametric, parameters can be exposed and changed in HFSS\n\n"
      ]
    },
    {
      "cell_type": "code",
      "execution_count": null,
      "metadata": {
        "collapsed": false
      },
      "outputs": [],
      "source": [
        "component.parameters\n\nw1_name = \"{}_{}\".format(\"w1\", h3d.modeler.user_defined_component_names[0])\nh3d[w1_name]= 0.0015"
      ]
    },
    {
      "cell_type": "markdown",
      "metadata": {},
      "source": [
        "## Boundaries\nTo run the simulation we need an airbox to which apply radiation boundaries.\nWe don't need to create ports because are embedded in layout component.\n\n"
      ]
    },
    {
      "cell_type": "code",
      "execution_count": null,
      "metadata": {
        "collapsed": false
      },
      "outputs": [],
      "source": [
        "h3d.modeler.fit_all()\n\n\nh3d.modeler.create_air_region(130,400,1000, 130,400,300)\nh3d.assign_radiation_boundary_to_objects(\"Region\")"
      ]
    },
    {
      "cell_type": "markdown",
      "metadata": {},
      "source": [
        "## Create setup and sweeps\nGetters and setters facilitate the settings on the nested property dictionary.\n\n- ``setup.props['Frequency']=\"20GHz\"``\n\n\nYou can now use the simpler approach that follows.\n\n\n\n"
      ]
    },
    {
      "cell_type": "code",
      "execution_count": null,
      "metadata": {
        "collapsed": false
      },
      "outputs": [],
      "source": [
        "setup = h3d.create_setup()\n\nsetup.props['Frequency']=\"20GHz\"\nsetup.props['MaximumPasses'] = 2\n\nsweep1 = setup.add_sweep()\nsweep1.props[\"RangeStart\"]=\"20GHz\"\nsweep1.props[\"RangeEnd\"]=\"50GHz\"\nsweep1.update()"
      ]
    },
    {
      "cell_type": "markdown",
      "metadata": {},
      "source": [
        "## Solve setup and create report\nSolve the project and create a report.\n\n"
      ]
    },
    {
      "cell_type": "code",
      "execution_count": null,
      "metadata": {
        "collapsed": false
      },
      "outputs": [],
      "source": [
        "h3d.analyze()"
      ]
    },
    {
      "cell_type": "markdown",
      "metadata": {},
      "source": [
        "## Plot results outside AEDT\nPlot results using Matplotlib.\n\n"
      ]
    },
    {
      "cell_type": "code",
      "execution_count": null,
      "metadata": {
        "collapsed": false
      },
      "outputs": [],
      "source": [
        "trace = h3d.get_traces_for_plot()\nsolution = h3d.post.get_solution_data(trace[0])\nsolution.plot()"
      ]
    },
    {
      "cell_type": "markdown",
      "metadata": {},
      "source": [
        "## Plot Far Fields in AEDT\nPlot Radiation patterns in AEDT.\n\n"
      ]
    },
    {
      "cell_type": "code",
      "execution_count": null,
      "metadata": {
        "collapsed": false
      },
      "outputs": [],
      "source": [
        "variations = {}\nvariations[\"Freq\"] = [\"20GHz\"]\nvariations[\"Theta\"] = [\"All\"]\nvariations[\"Phi\"] = [\"All\"]\nh3d.insert_infinite_sphere( name=\"3D\")\n\n\nnew_report = h3d.post.reports_by_category.far_field(\"db(RealizedGainTotal)\", h3d.nominal_adaptive, \"3D\")\nnew_report.variations = variations\nnew_report.primary_sweep = \"Theta\"\nnew_report.create(\"Realized2D\")"
      ]
    },
    {
      "cell_type": "markdown",
      "metadata": {},
      "source": [
        "## Plot Far Fields in AEDT\nPlot Radiation patterns in AEDT.\n\n"
      ]
    },
    {
      "cell_type": "code",
      "execution_count": null,
      "metadata": {
        "collapsed": false
      },
      "outputs": [],
      "source": [
        "new_report.report_type = \"3D Polar Plot\"\nnew_report.secondary_sweep = \"Phi\"\nnew_report.create(\"Realized3D\")"
      ]
    },
    {
      "cell_type": "markdown",
      "metadata": {},
      "source": [
        "## Plot Far Fields outside AEDT\nPlot Radiation patterns outside AEDT.\n\n"
      ]
    },
    {
      "cell_type": "code",
      "execution_count": null,
      "metadata": {
        "collapsed": false
      },
      "outputs": [],
      "source": [
        "solutions_custom = new_report.get_solution_data()\nsolutions_custom.plot_3d()"
      ]
    },
    {
      "cell_type": "markdown",
      "metadata": {},
      "source": [
        "## Plot E Field on nets and layers\nPlot E Field on nets and layers in AEDT.\n\n"
      ]
    },
    {
      "cell_type": "code",
      "execution_count": null,
      "metadata": {
        "collapsed": false
      },
      "outputs": [],
      "source": [
        "h3d.post.create_fieldplot_layers_nets(\n            [[\"TOP\",\"Array_antenna\"]],\n            \"Mag_E\",\n            intrinsics={\"Freq\":\"20GHz\", \"Phase\": \"0deg\"},\n            plot_name=\"E_Layers\",\n        )"
      ]
    },
    {
      "cell_type": "markdown",
      "metadata": {},
      "source": [
        "## Close AEDT\nAfter the simulation completes, you can close AEDT or release it using the\n:func:`pyaedt.Desktop.release_desktop` method.\nAll methods provide for saving the project before closing AEDT.\n\n"
      ]
    },
    {
      "cell_type": "code",
      "execution_count": null,
      "metadata": {
        "collapsed": false
      },
      "outputs": [],
      "source": [
        "h3d.save_project(os.path.join(tmpfold, \"test_layout.aedt\"))\nh3d.release_desktop()"
      ]
    }
  ],
  "metadata": {
    "kernelspec": {
      "display_name": "Python 3",
      "language": "python",
      "name": "python3"
    },
    "language_info": {
      "codemirror_mode": {
        "name": "ipython",
        "version": 3
      },
      "file_extension": ".py",
      "mimetype": "text/x-python",
      "name": "python",
      "nbconvert_exporter": "python",
      "pygments_lexer": "ipython3",
      "version": "3.10.5"
    }
  },
  "nbformat": 4,
  "nbformat_minor": 0
}