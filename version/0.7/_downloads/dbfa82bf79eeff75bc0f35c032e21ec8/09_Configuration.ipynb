{
  "cells": [
    {
      "cell_type": "markdown",
      "metadata": {},
      "source": [
        "\n# EDB: Pin to Pin project\nThis example shows how you can create a project using a BOM file and configuration files.\nrun anlasyis and get results.\n"
      ]
    },
    {
      "cell_type": "markdown",
      "metadata": {},
      "source": [
        "## Perform required imports\nPerform required imports. Importing the ``Hfss3dlayout`` object initializes it\non version 2023 R2.\n\n"
      ]
    },
    {
      "cell_type": "code",
      "execution_count": null,
      "metadata": {
        "collapsed": false
      },
      "outputs": [],
      "source": [
        "import os\nimport pyaedt"
      ]
    },
    {
      "cell_type": "markdown",
      "metadata": {},
      "source": [
        "## Set non-graphical mode\nSet non-graphical mode. The default is ``True``.\n\n"
      ]
    },
    {
      "cell_type": "code",
      "execution_count": null,
      "metadata": {
        "collapsed": false
      },
      "outputs": [],
      "source": [
        "non_graphical = True"
      ]
    },
    {
      "cell_type": "markdown",
      "metadata": {},
      "source": [
        "## Download file\nDownload the AEDB file and copy it in the temporary folder.\n\n"
      ]
    },
    {
      "cell_type": "code",
      "execution_count": null,
      "metadata": {
        "collapsed": false
      },
      "outputs": [],
      "source": [
        "project_path = pyaedt.generate_unique_folder_name()\ntarget_aedb = pyaedt.downloads.download_file('edb/ANSYS-HSD_V1.aedb', destination=project_path)\nprint(\"Project folder will be\", target_aedb)"
      ]
    },
    {
      "cell_type": "markdown",
      "metadata": {},
      "source": [
        "## Launch EDB\nLaunch the :class:`pyaedt.Edb` class, using EDB 2023 R2 and SI units.\n\n"
      ]
    },
    {
      "cell_type": "code",
      "execution_count": null,
      "metadata": {
        "collapsed": false
      },
      "outputs": [],
      "source": [
        "edbapp = pyaedt.Edb(target_aedb, edbversion=\"2023.2\")"
      ]
    },
    {
      "cell_type": "markdown",
      "metadata": {},
      "source": [
        "## Import Definitions\nA definitions file is a json containing, for each part name the model associated.\nModel can be RLC, Sparameter or Spice.\nOnce imported the definition is applied to the board.\nIn this example the json file is stored for convenience in aedb folder and has the following format:\n{\n    \"SParameterModel\": {\n        \"GRM32_DC0V_25degC_series\": \"./GRM32_DC0V_25degC_series.s2p\"\n    },\n    \"SPICEModel\": {\n        \"GRM32_DC0V_25degC\": \"./GRM32_DC0V_25degC.mod\"\n    },\n    \"Definitions\": {\n        \"CAPC1005X05N\": {\n            \"Component_type\": \"Capacitor\",\n            \"Model_type\": \"RLC\",\n            \"Res\": 1,\n            \"Ind\": 2,\n            \"Cap\": 3,\n            \"Is_parallel\": false\n        },\n        \"'CAPC3216X180X55ML20T25\": {\n            \"Component_type\": \"Capacitor\",\n            \"Model_type\": \"SParameterModel\",\n            \"Model_name\": \"GRM32_DC0V_25degC_series\"\n        },\n        \"'CAPC3216X180X20ML20\": {\n            \"Component_type\": \"Capacitor\",\n            \"Model_type\": \"SPICEModel\",\n            \"Model_name\": \"GRM32_DC0V_25degC\"\n        }\n    }\n}\n\n"
      ]
    },
    {
      "cell_type": "code",
      "execution_count": null,
      "metadata": {
        "collapsed": false
      },
      "outputs": [],
      "source": [
        "edbapp.components.import_definition(os.path.join(target_aedb, \"1_comp_definition.json\"))"
      ]
    },
    {
      "cell_type": "markdown",
      "metadata": {},
      "source": [
        "## Import BOM\nThis step imports a BOM file in CSV format. The BOM contains the\nreference designator, part name, component type, and default value.\nComponents not in the BOM are deactivated.\nIn this example the csv file is stored for convenience in aedb folder.\n\n+------------+-----------------------+-----------+------------+\n| RefDes     | Part name             | Type      | Value      |\n+============+=======================+===========+============+\n| C380       | CAPC1005X55X25LL05T10 | Capacitor | 11nF       |\n+------------+-----------------------+-----------+------------+\n\n"
      ]
    },
    {
      "cell_type": "code",
      "execution_count": null,
      "metadata": {
        "collapsed": false
      },
      "outputs": [],
      "source": [
        "edbapp.components.import_bom(os.path.join(target_aedb, \"0_bom.csv\"),\n                                  refdes_col=0,\n                                  part_name_col=1,\n                                  comp_type_col=2,\n                                  value_col=3)"
      ]
    },
    {
      "cell_type": "markdown",
      "metadata": {},
      "source": [
        "## Check Component Values\nComponent property allows to access all components instances and their property with getters and setters.\n\n"
      ]
    },
    {
      "cell_type": "code",
      "execution_count": null,
      "metadata": {
        "collapsed": false
      },
      "outputs": [],
      "source": [
        "comp = edbapp.components[\"C1\"]\ncomp.model_type, comp.value"
      ]
    },
    {
      "cell_type": "markdown",
      "metadata": {},
      "source": [
        "## Check Component Definition\nWhen an s-parameter model is associated to a component it will be available in nport_comp_definition property.\n\n"
      ]
    },
    {
      "cell_type": "code",
      "execution_count": null,
      "metadata": {
        "collapsed": false
      },
      "outputs": [],
      "source": [
        "edbapp.components.nport_comp_definition"
      ]
    },
    {
      "cell_type": "markdown",
      "metadata": {},
      "source": [
        "## Save Edb\n\n"
      ]
    },
    {
      "cell_type": "code",
      "execution_count": null,
      "metadata": {
        "collapsed": false
      },
      "outputs": [],
      "source": [
        "edbapp.save_edb()"
      ]
    },
    {
      "cell_type": "markdown",
      "metadata": {},
      "source": [
        "## Configure Setup\nThis step allows to define the project. It includes:\n - Definition of nets to be included into the cutout,\n - Cutout details,\n - Components on which to create the ports,\n - Simulation settings.\n\n"
      ]
    },
    {
      "cell_type": "code",
      "execution_count": null,
      "metadata": {
        "collapsed": false
      },
      "outputs": [],
      "source": [
        "sim_setup = edbapp.new_simulation_configuration()\nsim_setup.solver_type = sim_setup.SOLVER_TYPE.SiwaveSYZ\nsim_setup.batch_solve_settings.cutout_subdesign_expansion = 0.003\nsim_setup.batch_solve_settings.do_cutout_subdesign = True\nsim_setup.batch_solve_settings.use_pyaedt_cutout = True\nsim_setup.ac_settings.max_arc_points = 6\nsim_setup.ac_settings.max_num_passes = 5\n\nsim_setup.batch_solve_settings.signal_nets = ['PCIe_Gen4_TX2_CAP_P',\n                                              'PCIe_Gen4_TX2_CAP_N',\n                                              'PCIe_Gen4_TX2_P',\n                                              'PCIe_Gen4_TX2_N']\nsim_setup.batch_solve_settings.components = [\"U1\", \"X1\"]\nsim_setup.batch_solve_settings.power_nets = [\"GND\", \"GND_DP\"]\nsim_setup.ac_settings.start_freq = \"100Hz\"\nsim_setup.ac_settings.stop_freq = \"6GHz\"\nsim_setup.ac_settings.step_freq = \"10MHz\""
      ]
    },
    {
      "cell_type": "markdown",
      "metadata": {},
      "source": [
        "## Run Setup\nThis step allows to create the cutout and apply all settings.\n\n"
      ]
    },
    {
      "cell_type": "code",
      "execution_count": null,
      "metadata": {
        "collapsed": false
      },
      "outputs": [],
      "source": [
        "sim_setup.export_json(os.path.join(project_path, \"configuration.json\"))\nedbapp.build_simulation_project(sim_setup)"
      ]
    },
    {
      "cell_type": "markdown",
      "metadata": {},
      "source": [
        "## Plot Cutout\nPlot cutout once finished.\n\n"
      ]
    },
    {
      "cell_type": "code",
      "execution_count": null,
      "metadata": {
        "collapsed": false
      },
      "outputs": [],
      "source": [
        "edbapp.nets.plot(None,None)"
      ]
    },
    {
      "cell_type": "markdown",
      "metadata": {},
      "source": [
        "## Save and Close EDB\nEdb will be saved and closed in order to be opened by Hfss 3D Layout and solved.\n\n"
      ]
    },
    {
      "cell_type": "code",
      "execution_count": null,
      "metadata": {
        "collapsed": false
      },
      "outputs": [],
      "source": [
        "edbapp.save_edb()\nedbapp.close_edb()"
      ]
    },
    {
      "cell_type": "markdown",
      "metadata": {},
      "source": [
        "## Open Aedt\nProject folder aedb will be opened in AEDT Hfss3DLayout and loaded.\n\n"
      ]
    },
    {
      "cell_type": "code",
      "execution_count": null,
      "metadata": {
        "collapsed": false
      },
      "outputs": [],
      "source": [
        "h3d = pyaedt.Hfss3dLayout(specified_version=\"2023.2\", projectname=target_aedb, non_graphical=non_graphical, new_desktop_session=True)"
      ]
    },
    {
      "cell_type": "markdown",
      "metadata": {},
      "source": [
        "## Analyze\nProject will be solved.\n\n"
      ]
    },
    {
      "cell_type": "code",
      "execution_count": null,
      "metadata": {
        "collapsed": false
      },
      "outputs": [],
      "source": [
        "h3d.analyze()"
      ]
    },
    {
      "cell_type": "markdown",
      "metadata": {},
      "source": [
        "## Get Results\nS Parameter data will be loaded at the end of simulation.\n\n"
      ]
    },
    {
      "cell_type": "code",
      "execution_count": null,
      "metadata": {
        "collapsed": false
      },
      "outputs": [],
      "source": [
        "solutions = h3d.post.get_solution_data()"
      ]
    },
    {
      "cell_type": "markdown",
      "metadata": {},
      "source": [
        "## Plot Results\nPlot S Parameter data.\n\n"
      ]
    },
    {
      "cell_type": "code",
      "execution_count": null,
      "metadata": {
        "collapsed": false
      },
      "outputs": [],
      "source": [
        "solutions.plot(solutions.expressions, \"db20\")"
      ]
    },
    {
      "cell_type": "markdown",
      "metadata": {},
      "source": [
        "## Save and Close AEDT\nHfss3dLayout is saved and closed.\n\n"
      ]
    },
    {
      "cell_type": "code",
      "execution_count": null,
      "metadata": {
        "collapsed": false
      },
      "outputs": [],
      "source": [
        "h3d.save_project()\nh3d.release_desktop()"
      ]
    }
  ],
  "metadata": {
    "kernelspec": {
      "display_name": "Python 3",
      "language": "python",
      "name": "python3"
    },
    "language_info": {
      "codemirror_mode": {
        "name": "ipython",
        "version": 3
      },
      "file_extension": ".py",
      "mimetype": "text/x-python",
      "name": "python",
      "nbconvert_exporter": "python",
      "pygments_lexer": "ipython3",
      "version": "3.10.5"
    }
  },
  "nbformat": 4,
  "nbformat_minor": 0
}