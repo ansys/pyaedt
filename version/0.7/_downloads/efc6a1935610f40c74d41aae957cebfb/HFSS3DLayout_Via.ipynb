{
  "cells": [
    {
      "cell_type": "markdown",
      "metadata": {},
      "source": [
        "\n# HFSS 3D Layout: parametric via analysis\nThis example shows how you can use HFSS 3D Layout to create and solve a\nparametric via analysis.\n"
      ]
    },
    {
      "cell_type": "markdown",
      "metadata": {},
      "source": [
        "## Perform required imports\nPerform required imports.\n\n"
      ]
    },
    {
      "cell_type": "code",
      "execution_count": null,
      "metadata": {
        "collapsed": false
      },
      "outputs": [],
      "source": [
        "import pyaedt\nimport os"
      ]
    },
    {
      "cell_type": "markdown",
      "metadata": {},
      "source": [
        "## Set non-graphical mode\nSet non-graphical mode. \nYou can set ``non_graphical`` either to ``True`` or ``False``.\n\n"
      ]
    },
    {
      "cell_type": "code",
      "execution_count": null,
      "metadata": {
        "collapsed": false
      },
      "outputs": [],
      "source": [
        "non_graphical = True"
      ]
    },
    {
      "cell_type": "markdown",
      "metadata": {},
      "source": [
        "## Launch AEDT\nLaunch AEDT 2023 R2 in graphical mode.\n\n"
      ]
    },
    {
      "cell_type": "code",
      "execution_count": null,
      "metadata": {
        "collapsed": false
      },
      "outputs": [],
      "source": [
        "h3d = pyaedt.Hfss3dLayout(specified_version=\"2023.2\", new_desktop_session=True, non_graphical=non_graphical)"
      ]
    },
    {
      "cell_type": "markdown",
      "metadata": {},
      "source": [
        "## Set up variables\nSet up all parametric variables to use in the layout.\n\n"
      ]
    },
    {
      "cell_type": "code",
      "execution_count": null,
      "metadata": {
        "collapsed": false
      },
      "outputs": [],
      "source": [
        "h3d[\"viatotrace\"] = \"5mm\"\nh3d[\"viatovia\"] = \"10mm\"\nh3d[\"w1\"] = \"1mm\"\nh3d[\"sp\"] = \"0.5mm\"\nh3d[\"len\"] = \"50mm\""
      ]
    },
    {
      "cell_type": "markdown",
      "metadata": {},
      "source": [
        "## Add stackup layers\nAdd stackup layers.\n\n"
      ]
    },
    {
      "cell_type": "code",
      "execution_count": null,
      "metadata": {
        "collapsed": false
      },
      "outputs": [],
      "source": [
        "h3d.modeler.layers.add_layer(layername=\"GND\", layertype=\"signal\", thickness=\"0\", isnegative=True)\nh3d.modeler.layers.add_layer(layername=\"diel\", layertype=\"dielectric\", thickness=\"0.2mm\", material=\"FR4_epoxy\")\nh3d.modeler.layers.add_layer(layername=\"TOP\", layertype=\"signal\", thickness=\"0.035mm\", elevation=\"0.2mm\")"
      ]
    },
    {
      "cell_type": "markdown",
      "metadata": {},
      "source": [
        "## Create signal net and ground planes\nCreate a signal net and ground planes.\n\n"
      ]
    },
    {
      "cell_type": "code",
      "execution_count": null,
      "metadata": {
        "collapsed": false
      },
      "outputs": [],
      "source": [
        "h3d.modeler.create_line(layername=\"TOP\", center_line_list=[[0, 0], [\"len\", 0]], lw=\"w1\", netname=\"microstrip\", name=\"microstrip\")\nh3d.modeler.create_rectangle(layername=\"TOP\", origin=[0, \"-w1/2-sp\"], dimensions=[\"len\", \"-w1/2-sp-20mm\"])\nh3d.modeler.create_rectangle(layername=\"TOP\", origin=[0, \"w1/2+sp\"], dimensions=[\"len\", \"w1/2+sp+20mm\"])"
      ]
    },
    {
      "cell_type": "markdown",
      "metadata": {},
      "source": [
        "## Create vias\nCreate vias with parametric positions.\n\n"
      ]
    },
    {
      "cell_type": "code",
      "execution_count": null,
      "metadata": {
        "collapsed": false
      },
      "outputs": [],
      "source": [
        "h3d.modeler.create_via(x=\"viatovia\", y=\"-viatotrace\", name=\"via1\")\nh3d.modeler.create_via(x=\"viatovia\", y=\"viatotrace\", name=\"via2\")\nh3d.modeler.create_via(x=\"2*viatovia\", y=\"-viatotrace\")\nh3d.modeler.create_via(x=\"2*viatovia\", y=\"viatotrace\")\nh3d.modeler.create_via(x=\"3*viatovia\", y=\"-viatotrace\")\nh3d.modeler.create_via(x=\"3*viatovia\", y=\"viatotrace\")"
      ]
    },
    {
      "cell_type": "markdown",
      "metadata": {},
      "source": [
        "## Create circuit ports\nCreate circuit ports.\n\n"
      ]
    },
    {
      "cell_type": "code",
      "execution_count": null,
      "metadata": {
        "collapsed": false
      },
      "outputs": [],
      "source": [
        "h3d.create_edge_port(\"microstrip\", 0)\nh3d.create_edge_port(\"microstrip\", 2)"
      ]
    },
    {
      "cell_type": "markdown",
      "metadata": {},
      "source": [
        "## Create setup and sweep\nCreate a setup and a sweep.\n\n"
      ]
    },
    {
      "cell_type": "code",
      "execution_count": null,
      "metadata": {
        "collapsed": false
      },
      "outputs": [],
      "source": [
        "setup = h3d.create_setup()\nh3d.create_linear_count_sweep(\n    setupname=setup.name,\n    unit=\"GHz\",\n    freqstart=3,\n    freqstop=7,\n    num_of_freq_points=1001,\n    sweepname=\"sweep1\",\n    sweep_type=\"Interpolating\",\n    interpolation_tol_percent=1,\n    interpolation_max_solutions=255,\n    save_fields=False,\n    use_q3d_for_dc=False,\n)"
      ]
    },
    {
      "cell_type": "markdown",
      "metadata": {},
      "source": [
        "## Solve and plot results\nSolve and plot the results.\n\n"
      ]
    },
    {
      "cell_type": "code",
      "execution_count": null,
      "metadata": {
        "collapsed": false
      },
      "outputs": [],
      "source": [
        "h3d.analyze()\ntraces = h3d.get_traces_for_plot(first_element_filter=\"Port1\")\nh3d.post.create_report(traces, variations=h3d.available_variations.nominal_w_values_dict)"
      ]
    },
    {
      "cell_type": "markdown",
      "metadata": {},
      "source": [
        "## Create report outside AEDT\nCreate a report using Matplotlib.\n\n"
      ]
    },
    {
      "cell_type": "code",
      "execution_count": null,
      "metadata": {
        "collapsed": false
      },
      "outputs": [],
      "source": [
        "traces = h3d.get_traces_for_plot(first_element_filter=\"Port1\", category=\"S\")\n\nsolutions = h3d.post.get_solution_data(expressions=traces)\nsolutions.plot(math_formula=\"db20\")"
      ]
    },
    {
      "cell_type": "markdown",
      "metadata": {},
      "source": [
        "## Close AEDT\nAfter the simulation completes, you can close AEDT or release it using the\n:func:`pyaedt.Desktop.release_desktop` method.\nAll methods provide for saving the project before closing.\n\n"
      ]
    },
    {
      "cell_type": "code",
      "execution_count": null,
      "metadata": {
        "collapsed": false
      },
      "outputs": [],
      "source": [
        "h3d.release_desktop()"
      ]
    }
  ],
  "metadata": {
    "kernelspec": {
      "display_name": "Python 3",
      "language": "python",
      "name": "python3"
    },
    "language_info": {
      "codemirror_mode": {
        "name": "ipython",
        "version": 3
      },
      "file_extension": ".py",
      "mimetype": "text/x-python",
      "name": "python",
      "nbconvert_exporter": "python",
      "pygments_lexer": "ipython3",
      "version": "3.10.5"
    }
  },
  "nbformat": 4,
  "nbformat_minor": 0
}