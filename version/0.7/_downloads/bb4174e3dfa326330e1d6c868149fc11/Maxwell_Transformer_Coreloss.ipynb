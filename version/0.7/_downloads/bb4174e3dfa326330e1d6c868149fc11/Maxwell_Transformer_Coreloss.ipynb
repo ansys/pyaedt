{
  "cells": [
    {
      "cell_type": "markdown",
      "metadata": {},
      "source": [
        "\n# Maxwell 3D: Transformer\nThis example shows how you can use PyAEDT to set core loss given a set\nof Power-Volume [kw/m^3] curves at different frequencies.\n"
      ]
    },
    {
      "cell_type": "markdown",
      "metadata": {},
      "source": [
        "## Perform required imports\nPerform required imports.\n\n"
      ]
    },
    {
      "cell_type": "code",
      "execution_count": null,
      "metadata": {
        "collapsed": false
      },
      "outputs": [],
      "source": [
        "from pyaedt import downloads\nfrom pyaedt import generate_unique_folder_name\nfrom pyaedt import Maxwell3d\nfrom pyaedt.generic.constants import unit_converter\nfrom pyaedt.generic.general_methods import read_csv_pandas"
      ]
    },
    {
      "cell_type": "markdown",
      "metadata": {},
      "source": [
        "## Download .aedt file example\nSet local temporary folder to export the .aedt file to.\n\n"
      ]
    },
    {
      "cell_type": "code",
      "execution_count": null,
      "metadata": {
        "collapsed": false
      },
      "outputs": [],
      "source": [
        "temp_folder = generate_unique_folder_name()\naedt_file = downloads.download_file(\"core_loss_transformer\", \"Ex2-PlanarTransformer_2023R2.aedtz\", temp_folder)\nfreq_curve_csv_25kHz = downloads.download_file(\"core_loss_transformer\", \"mf3_25kHz.csv\", temp_folder)\nfreq_curve_csv_100kHz = downloads.download_file(\"core_loss_transformer\", \"mf3_100kHz.csv\", temp_folder)\nfreq_curve_csv_200kHz = downloads.download_file(\"core_loss_transformer\", \"mf3_200kHz.csv\", temp_folder)\nfreq_curve_csv_400kHz = downloads.download_file(\"core_loss_transformer\", \"mf3_400kHz.csv\", temp_folder)\nfreq_curve_csv_700kHz = downloads.download_file(\"core_loss_transformer\", \"mf3_700kHz.csv\", temp_folder)\nfreq_curve_csv_1MHz = downloads.download_file(\"core_loss_transformer\", \"mf3_1MHz.csv\", temp_folder)\n\ndata = read_csv_pandas(filename=freq_curve_csv_25kHz)\ncurves_csv_25kHz = list(zip(data[data.columns[0]],\n                            data[data.columns[1]]))\ndata = read_csv_pandas(filename=freq_curve_csv_100kHz)\ncurves_csv_100kHz = list(zip(data[data.columns[0]],\n                             data[data.columns[1]]))\ndata = read_csv_pandas(filename=freq_curve_csv_200kHz)\ncurves_csv_200kHz = list(zip(data[data.columns[0]],\n                             data[data.columns[1]]))\ndata = read_csv_pandas(filename=freq_curve_csv_400kHz)\ncurves_csv_400kHz = list(zip(data[data.columns[0]],\n                             data[data.columns[1]]))\ndata = read_csv_pandas(filename=freq_curve_csv_700kHz)\ncurves_csv_700kHz = list(zip(data[data.columns[0]],\n                             data[data.columns[1]]))\ndata = read_csv_pandas(filename=freq_curve_csv_1MHz)\ncurves_csv_1MHz = list(zip(data[data.columns[0]],\n                           data[data.columns[1]]))"
      ]
    },
    {
      "cell_type": "markdown",
      "metadata": {},
      "source": [
        "## Launch AEDT\nLaunch AEDT 2023 R2 in graphical mode.\n\n"
      ]
    },
    {
      "cell_type": "code",
      "execution_count": null,
      "metadata": {
        "collapsed": false
      },
      "outputs": [],
      "source": [
        "m3d = Maxwell3d(projectname=aedt_file,\n                designname=\"02_3D eddycurrent_CmXY_for_thermal\",\n                specified_version=\"2023.2\",\n                new_desktop_session=True,\n                non_graphical=False)"
      ]
    },
    {
      "cell_type": "markdown",
      "metadata": {},
      "source": [
        "## Set core loss at frequencies\nCreate a new material, create a dictionary of Power-Volume [kw/m^3] points for a set of frequencies\nretrieved from datasheet provided by supplier and finally set Power-Ferrite core loss model.\n\n"
      ]
    },
    {
      "cell_type": "code",
      "execution_count": null,
      "metadata": {
        "collapsed": false
      },
      "outputs": [],
      "source": [
        "mat = m3d.materials.add_material(\"newmat\")\nfreq_25kHz = unit_converter(25, unit_system=\"Freq\", input_units=\"kHz\", output_units=\"Hz\")\nfreq_100kHz = unit_converter(100, unit_system=\"Freq\", input_units=\"kHz\", output_units=\"Hz\")\nfreq_200kHz = unit_converter(200, unit_system=\"Freq\", input_units=\"kHz\", output_units=\"Hz\")\nfreq_400kHz = unit_converter(400, unit_system=\"Freq\", input_units=\"kHz\", output_units=\"Hz\")\nfreq_700kHz = unit_converter(700, unit_system=\"Freq\", input_units=\"kHz\", output_units=\"Hz\")\npv = {freq_25kHz: curves_csv_25kHz,\n      freq_100kHz: curves_csv_100kHz,\n      freq_200kHz: curves_csv_200kHz,\n      freq_400kHz: curves_csv_400kHz,\n      freq_700kHz: curves_csv_700kHz}\nm3d.materials[mat.name].set_coreloss_at_frequency(points_list_at_freq=pv,\n                                                  coefficient_setup=\"kw_per_cubic_meter\",\n                                                  core_loss_model_type=\"Power Ferrite\")\ncoefficients = m3d.materials[mat.name].get_core_loss_coefficients(points_list_at_freq=pv,\n                                                                  coefficient_setup=\"kw_per_cubic_meter\")"
      ]
    },
    {
      "cell_type": "markdown",
      "metadata": {},
      "source": [
        "## Save project and close AEDT\nSave the project and close AEDT.\n\n"
      ]
    },
    {
      "cell_type": "code",
      "execution_count": null,
      "metadata": {
        "collapsed": false
      },
      "outputs": [],
      "source": [
        "m3d.save_project()\nm3d.release_desktop()"
      ]
    }
  ],
  "metadata": {
    "kernelspec": {
      "display_name": "Python 3",
      "language": "python",
      "name": "python3"
    },
    "language_info": {
      "codemirror_mode": {
        "name": "ipython",
        "version": 3
      },
      "file_extension": ".py",
      "mimetype": "text/x-python",
      "name": "python",
      "nbconvert_exporter": "python",
      "pygments_lexer": "ipython3",
      "version": "3.10.5"
    }
  },
  "nbformat": 4,
  "nbformat_minor": 0
}