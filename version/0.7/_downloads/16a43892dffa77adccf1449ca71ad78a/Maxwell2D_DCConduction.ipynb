{
  "cells": [
    {
      "cell_type": "markdown",
      "metadata": {},
      "source": [
        "\n# Maxwell 2D: resistance calculation\nThis example uses PyAEDT to set up a resistance calculation\nand solve it using the Maxwell 2D DCConduction solver.\nKeywords: DXF import, material sweep, expression cache\n"
      ]
    },
    {
      "cell_type": "code",
      "execution_count": null,
      "metadata": {
        "collapsed": false
      },
      "outputs": [],
      "source": [
        "import os.path\n\nimport pyaedt\n\nfrom pyaedt.generic.pdf import AnsysReport"
      ]
    },
    {
      "cell_type": "markdown",
      "metadata": {},
      "source": [
        "## Launch AEDT and Maxwell 2D\nLaunch AEDT and Maxwell 2D after first setting up the project and design names,\nthe solver, and the version. The following code also creates an instance of the\n``Maxwell2d`` class named ``m2d``.\n\n"
      ]
    },
    {
      "cell_type": "code",
      "execution_count": null,
      "metadata": {
        "collapsed": false
      },
      "outputs": [],
      "source": [
        "m2d = pyaedt.Maxwell2d(\n    specified_version=\"2023.2\",\n    new_desktop_session=True,\n    close_on_exit=True,\n    solution_type=\"DCConduction\",\n    projectname=\"M2D_DC_Conduction\",\n    designname=\"Ansys_resistor\"\n)"
      ]
    },
    {
      "cell_type": "markdown",
      "metadata": {},
      "source": [
        "## Create results folder\nCreate results folder.\n\n"
      ]
    },
    {
      "cell_type": "code",
      "execution_count": null,
      "metadata": {
        "collapsed": false
      },
      "outputs": [],
      "source": [
        "results_folder = os.path.join(m2d.working_directory, \"M2D_DC_Conduction\")\nif not os.path.exists(results_folder):\n    os.mkdir(results_folder)"
      ]
    },
    {
      "cell_type": "markdown",
      "metadata": {},
      "source": [
        "## Import geometry as a DXF file\nYou can test importing a DXF or a Parasolid file by commenting/uncommenting\nthe following lines.\nImporting DXF files only works in graphical mode.\n\n"
      ]
    },
    {
      "cell_type": "code",
      "execution_count": null,
      "metadata": {
        "collapsed": false
      },
      "outputs": [],
      "source": [
        "# DXFPath = pyaedt.downloads.download_file(\"dxf\", \"Ansys_logo_2D.dxf\")\n# dxf_layers = m2d.get_dxf_layers(DXFPath)\n# m2d.import_dxf(DXFPath, dxf_layers, scale=1E-05)\n\nParasolidPath = pyaedt.downloads.download_file(\"x_t\", \"Ansys_logo_2D.x_t\")\nm2d.modeler.import_3d_cad(ParasolidPath)"
      ]
    },
    {
      "cell_type": "markdown",
      "metadata": {},
      "source": [
        "## Define variables\nDefine conductor thickness in z-direction, material array with 4 materials,\nand MaterialIndex referring to the material array\n\n"
      ]
    },
    {
      "cell_type": "code",
      "execution_count": null,
      "metadata": {
        "collapsed": false
      },
      "outputs": [],
      "source": [
        "m2d[\"MaterialThickness\"] = \"5mm\"\nm2d[\"ConductorMaterial\"] = \"[\\\"Copper\\\", \\\"Aluminum\\\", \\\"silver\\\", \\\"gold\\\"]\"\nMaterialIndex = 0\nm2d[\"MaterialIndex\"] = str(MaterialIndex)\nno_materials = 4"
      ]
    },
    {
      "cell_type": "markdown",
      "metadata": {},
      "source": [
        "## Assign materials\nVoltage ports will be defined as perfect electric conductor (pec), conductor\ngets the material defined by the 0th entry of the material array\n\n"
      ]
    },
    {
      "cell_type": "code",
      "execution_count": null,
      "metadata": {
        "collapsed": false
      },
      "outputs": [],
      "source": [
        "m2d.assign_material([\"ANSYS_LOGO_2D_1\", \"ANSYS_LOGO_2D_2\"], \"pec\")\nm2d.modeler[\"ANSYS_LOGO_2D_3\"].material_name = \"ConductorMaterial[MaterialIndex]\""
      ]
    },
    {
      "cell_type": "markdown",
      "metadata": {},
      "source": [
        "## Assign voltages\n1V and 0V\n\n"
      ]
    },
    {
      "cell_type": "code",
      "execution_count": null,
      "metadata": {
        "collapsed": false
      },
      "outputs": [],
      "source": [
        "m2d.assign_voltage([\"ANSYS_LOGO_2D_1\"], amplitude=1, name=\"1V\")\nm2d.assign_voltage([\"ANSYS_LOGO_2D_2\"], amplitude=0, name=\"0V\")"
      ]
    },
    {
      "cell_type": "markdown",
      "metadata": {},
      "source": [
        "## Setup conductance calculation\n1V is the source, 0V ground\n\n"
      ]
    },
    {
      "cell_type": "code",
      "execution_count": null,
      "metadata": {
        "collapsed": false
      },
      "outputs": [],
      "source": [
        "m2d.assign_matrix(sources=['1V'], group_sources=['0V'], matrix_name=\"Matrix1\")"
      ]
    },
    {
      "cell_type": "markdown",
      "metadata": {},
      "source": [
        "## Assign mesh operation\n3mm on the conductor\n\n"
      ]
    },
    {
      "cell_type": "code",
      "execution_count": null,
      "metadata": {
        "collapsed": false
      },
      "outputs": [],
      "source": [
        "m2d.mesh.assign_length_mesh([\"ANSYS_LOGO_2D_3\"], meshop_name=\"conductor\", maxlength=3, maxel=None)"
      ]
    },
    {
      "cell_type": "markdown",
      "metadata": {},
      "source": [
        "## Create simulation setup and enable expression cache\nCreate simulation setup with minimum 4 adaptive passes to ensure convergence.\nEnable expression cache to observe the convergence.\n\n"
      ]
    },
    {
      "cell_type": "code",
      "execution_count": null,
      "metadata": {
        "collapsed": false
      },
      "outputs": [],
      "source": [
        "setup1 = m2d.create_setup(setupname=\"Setup1\", MinimumPasses=4)\nsetup1.enable_expression_cache( # doesn't work?\n    report_type=\"DCConduction\",\n    expressions=\"1/Matrix1.G(1V,1V)/MaterialThickness\",\n    isconvergence=True,\n    conv_criteria=1,\n    use_cache_for_freq=False)\nsetup1.analyze()"
      ]
    },
    {
      "cell_type": "markdown",
      "metadata": {},
      "source": [
        "## Create parametric sweep\nCreate parametric sweep to sweep all the entries in the material array.\nSave fields and mesh and use the mesh for all the materials.\n\n"
      ]
    },
    {
      "cell_type": "code",
      "execution_count": null,
      "metadata": {
        "collapsed": false
      },
      "outputs": [],
      "source": [
        "param_sweep = m2d.parametrics.add(\n    \"MaterialIndex\", 0, no_materials-1, 1, \"LinearStep\",\n    parametricname=\"MaterialSweep\")\nparam_sweep[\"SaveFields\"] = True\nparam_sweep[\"CopyMesh\"] = True\nparam_sweep[\"SolveWithCopiedMeshOnly\"] = True\nparam_sweep.analyze()"
      ]
    },
    {
      "cell_type": "markdown",
      "metadata": {},
      "source": [
        "## Create resistance report\nCreate R. vs. material report\n\n"
      ]
    },
    {
      "cell_type": "code",
      "execution_count": null,
      "metadata": {
        "collapsed": false
      },
      "outputs": [],
      "source": [
        "variations = {\"MaterialIndex\": [\"All\"], \"MaterialThickness\": [\"Nominal\"]}\nreport = m2d.post.create_report(\n    expressions=\"1/Matrix1.G(1V,1V)/MaterialThickness\",\n    primary_sweep_variable=\"MaterialIndex\",\n    report_category=\"DCConduction\",\n    plot_type=\"Data Table\",\n    variations=variations,\n    plotname=\"Resistance vs. Material\",\n)\nd = report.get_solution_data()\nresistence = d.data_magnitude()\nmaterial_index = d.primary_sweep_values\nd.primary_sweep = \"MaterialIndex\"\nd.plot(snapshot_path=os.path.join(results_folder, \"M2D_DCConduction.jpg\"))\n\nmaterial_index_vs_resistance = [[\"Material\", \"Resistance\"]]\ncolors = [[(255, 255, 255), (0, 255, 0)]]\nfor i in range(len(d.primary_sweep_values)):\n    material_index_vs_resistance.append([str(d.primary_sweep_values[i]), str(resistence[i])])\n    colors.append([None, None])"
      ]
    },
    {
      "cell_type": "markdown",
      "metadata": {},
      "source": [
        "## Field overlay\nPlot electric field and current density on the conductor surface\n\n"
      ]
    },
    {
      "cell_type": "code",
      "execution_count": null,
      "metadata": {
        "collapsed": false
      },
      "outputs": [],
      "source": [
        "conductor_surface = m2d.modeler[\"ANSYS_LOGO_2D_3\"].faces\nplot1 = m2d.post.create_fieldplot_surface(conductor_surface, \"Mag_E\", plot_name=\"Electric Field\")\nplot2 = m2d.post.create_fieldplot_surface(conductor_surface, \"Mag_J\", plot_name=\"Current Density\")"
      ]
    },
    {
      "cell_type": "markdown",
      "metadata": {},
      "source": [
        "## Field overlay\nPlot electric field using pyvista and saving to an image\n\n"
      ]
    },
    {
      "cell_type": "code",
      "execution_count": null,
      "metadata": {
        "collapsed": false
      },
      "outputs": [],
      "source": [
        "py_vista_plot = m2d.post.plot_field(\"Mag_E\", conductor_surface, plot_cad_objs=False, show=False)\npy_vista_plot.isometric_view = False\npy_vista_plot.camera_position = [0, 0, 7]\npy_vista_plot.focal_point = [0, 0, 0]\npy_vista_plot.roll_angle = 0\npy_vista_plot.elevation_angle = 0\npy_vista_plot.azimuth_angle = 0\npy_vista_plot.plot(os.path.join(results_folder, \"mag_E.jpg\"))"
      ]
    },
    {
      "cell_type": "markdown",
      "metadata": {},
      "source": [
        "## Field animation\nPlot current density vs the Material index.\n\n"
      ]
    },
    {
      "cell_type": "code",
      "execution_count": null,
      "metadata": {
        "collapsed": false
      },
      "outputs": [],
      "source": [
        "animated = m2d.post.plot_animated_field(\n    quantity=\"Mag_J\",\n    object_list=conductor_surface,\n    export_path=results_folder,\n    variation_variable=\"MaterialIndex\",\n    variation_list=[0,1,2,3],\n    show=False,\n    export_gif=False,\n    log_scale=True,\n)\nanimated.isometric_view = False\nanimated.camera_position = [0, 0, 7]\nanimated.focal_point = [0, 0, 0]\nanimated.roll_angle = 0\nanimated.elevation_angle = 0\nanimated.azimuth_angle = 0\nanimated.animate()"
      ]
    },
    {
      "cell_type": "markdown",
      "metadata": {},
      "source": [
        "## Export model picture\nExport model picture.\n\n"
      ]
    },
    {
      "cell_type": "code",
      "execution_count": null,
      "metadata": {
        "collapsed": false
      },
      "outputs": [],
      "source": [
        "model_picture = m2d.post.export_model_picture()"
      ]
    },
    {
      "cell_type": "markdown",
      "metadata": {},
      "source": [
        "## Generate PDF report\nGenerate a PDF report with output of simulation.\n\n"
      ]
    },
    {
      "cell_type": "code",
      "execution_count": null,
      "metadata": {
        "collapsed": false
      },
      "outputs": [],
      "source": [
        "pdf_report = AnsysReport(project_name=m2d.project_name, design_name=m2d.design_name, version=\"2023.2\")\npdf_report.report_specs.font = \"times\"\npdf_report.report_specs.text_font_size = 10\npdf_report.project_name = m2d.project_name\npdf_report.create()\npdf_report.add_project_info(m2d)\npdf_report.add_chapter(\"Model Picture\")\npdf_report.add_text(\"This section contains the model picture\")\npdf_report.add_image(model_picture, \"Model Picture\", width=80, height=60)\npdf_report.add_chapter(\"Field overlay\")\npdf_report.add_sub_chapter(\"Plots\")\npdf_report.add_text(\"This section contains the fields overlay.\")\npdf_report.add_image(os.path.join(results_folder, \"mag_E.jpg\"), \"Mag E\", width=120, height=80)\npdf_report.add_page_break()\npdf_report.add_section()\npdf_report.add_chapter(\"Results\")\npdf_report.add_sub_chapter(\"Resistance vs. Material\")\npdf_report.add_text(\"This section contains resistance vs material data.\")\n# Aspect ratio is automatically calculated if only width is provided\npdf_report.add_image(os.path.join(results_folder, \"M2D_DCConduction.jpg\"), width=130)\npdf_report.add_sub_chapter(\"Resistance data table\")\npdf_report.add_text(\"This section contains Resistance data.\")\npdf_report.add_table(\"Resistance Data\", content=material_index_vs_resistance, formatting=colors, col_widths=[75, 100])\npdf_report.add_toc()\npdf_report.save_pdf(results_folder, \"AEDT_Results.pdf\")"
      ]
    },
    {
      "cell_type": "markdown",
      "metadata": {},
      "source": [
        "## Release desktop\n\n"
      ]
    },
    {
      "cell_type": "code",
      "execution_count": null,
      "metadata": {
        "collapsed": false
      },
      "outputs": [],
      "source": [
        "m2d.release_desktop()"
      ]
    }
  ],
  "metadata": {
    "kernelspec": {
      "display_name": "Python 3",
      "language": "python",
      "name": "python3"
    },
    "language_info": {
      "codemirror_mode": {
        "name": "ipython",
        "version": 3
      },
      "file_extension": ".py",
      "mimetype": "text/x-python",
      "name": "python",
      "nbconvert_exporter": "python",
      "pygments_lexer": "ipython3",
      "version": "3.10.5"
    }
  },
  "nbformat": 4,
  "nbformat_minor": 0
}