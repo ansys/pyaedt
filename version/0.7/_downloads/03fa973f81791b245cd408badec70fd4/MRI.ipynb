{
  "cells": [
    {
      "cell_type": "markdown",
      "metadata": {},
      "source": [
        "\n# Multiphysics: HFSS-Mechanical MRI analysis\nThe goal of this workshop is to use a coil tuned to 63.8 MHz to determine the temperature\nrise in a gel phantom near an implant given a background SAR of 1 W/kg.\n\nSteps to follow\nStep 1: Simulate coil loaded by empty phantom:\nScale input to coil ports to produce desired background SAR of 1 W/kg at location that will later contain the implant.\nStep 2: Simulate coil loaded by phantom containing implant in proper location:\nView SAR in tissue surrounding implant.\nStep 3: Thermal simulation:\nLink HFSS to transient thermal solver to find temperature rise in tissue near implant vs. time.\n"
      ]
    },
    {
      "cell_type": "markdown",
      "metadata": {},
      "source": [
        "## Perform required imports\nPerform required imports.\n\n"
      ]
    },
    {
      "cell_type": "code",
      "execution_count": null,
      "metadata": {
        "collapsed": false
      },
      "outputs": [],
      "source": [
        "import os.path\n\nfrom pyaedt import Hfss, Mechanical, Icepak, downloads"
      ]
    },
    {
      "cell_type": "markdown",
      "metadata": {},
      "source": [
        "## Set non-graphical mode\nSet non-graphical mode. `\nYou can set ``non_graphical`` either to ``True`` or ``False``.\n\n"
      ]
    },
    {
      "cell_type": "code",
      "execution_count": null,
      "metadata": {
        "collapsed": false
      },
      "outputs": [],
      "source": [
        "non_graphical = False"
      ]
    },
    {
      "cell_type": "markdown",
      "metadata": {},
      "source": [
        "## Project load\nOpen the ANSYS Electronics Desktop 2018.2\nOpen project background_SAR.aedt\nProject contains phantom and airbox\nPhantom consists of two objects: phantom and implant_box\nSeparate objects are used to selectively assign mesh operations\nMaterial properties defined in  this project already contain #electrical and thermal properties.\n\n"
      ]
    },
    {
      "cell_type": "code",
      "execution_count": null,
      "metadata": {
        "collapsed": false
      },
      "outputs": [],
      "source": [
        "project_path = downloads.download_file(directory=\"mri\")\nhfss = Hfss(os.path.join(project_path, \"background_SAR.aedt\"), specified_version=\"2023.2\", non_graphical=non_graphical,\n            new_desktop_session=True)"
      ]
    },
    {
      "cell_type": "markdown",
      "metadata": {},
      "source": [
        "## Insert 3D component\nThe MRI Coil is saved as a separate 3D Component\n\u2012 3D Components store geometry (including parameters),\nmaterial properties, boundary conditions, mesh assignments,\nand excitations\n\u2012 3D Components make it easy to reuse and share parts of a simulation\n\n"
      ]
    },
    {
      "cell_type": "code",
      "execution_count": null,
      "metadata": {
        "collapsed": false
      },
      "outputs": [],
      "source": [
        "hfss.modeler.insert_3d_component(os.path.join(project_path, \"coil.a3dcomp\"))"
      ]
    },
    {
      "cell_type": "markdown",
      "metadata": {},
      "source": [
        "## Expression Cache\n On the expression cache tab, define additional convergence criteria for self impedance of the four coil\nports\n\u2012 Set each of these convergence criteria to 2.5 ohm\nFor this demo number of passes is limited to 2 to reduce simulation time.\n\n"
      ]
    },
    {
      "cell_type": "code",
      "execution_count": null,
      "metadata": {
        "collapsed": false
      },
      "outputs": [],
      "source": [
        "im_traces = hfss.get_traces_for_plot(get_mutual_terms=False, category=\"im(Z\", first_element_filter=\"Coil1_p*\")\n\nhfss.setups[0].enable_expression_cache(\n    report_type=\"Modal Solution Data\",\n    expressions=im_traces,\n    isconvergence=True,\n    isrelativeconvergence=False,\n    conv_criteria=2.5,\n    use_cache_for_freq=False)\nhfss.setups[0].props[\"MaximumPasses\"] = 2\nim_traces"
      ]
    },
    {
      "cell_type": "markdown",
      "metadata": {},
      "source": [
        "## Edit Sources\nThe 3D Component of the MRI Coil contains all the ports,\nbut the sources for these ports are not yet defined.\nBrowse to and select sources.csv.\nThese sources were determined by tuning this coil at 63.8 MHz.\nNotice the \u201c*input_scale\u201d multiplier to allow quick adjustment of the coil excitation power.\n\n"
      ]
    },
    {
      "cell_type": "code",
      "execution_count": null,
      "metadata": {
        "collapsed": false
      },
      "outputs": [],
      "source": [
        "hfss.edit_sources_from_file(os.path.join(project_path, \"sources.csv\"))"
      ]
    },
    {
      "cell_type": "markdown",
      "metadata": {},
      "source": [
        "## Run Simulation\nSave and analyze the project.\n\n"
      ]
    },
    {
      "cell_type": "code",
      "execution_count": null,
      "metadata": {
        "collapsed": false
      },
      "outputs": [],
      "source": [
        "hfss.save_project(os.path.join(project_path, \"solved.aedt\"))\nhfss.analyze(num_cores=6)"
      ]
    },
    {
      "cell_type": "markdown",
      "metadata": {},
      "source": [
        "## Plot SAR on Cut Plane in Phantom\nEnsure that the SAR averaging method is set to Gridless\nPlot averagedSAR on GlobalYZ plane\nDraw Point1 at origin of the implant coordinate system\n\n"
      ]
    },
    {
      "cell_type": "code",
      "execution_count": null,
      "metadata": {
        "collapsed": false
      },
      "outputs": [],
      "source": [
        "hfss.sar_setup(-1, Average_SAR_method=1, TissueMass=1, MaterialDensity=1, )\nhfss.post.create_fieldplot_cutplane(objlist=\"implant:YZ\",\n                                    quantityName=\"Average_SAR\",\n                                    filter_objects=[\"implant_box\"])\n\nhfss.modeler.set_working_coordinate_system(\"implant\")\nhfss.modeler.create_point([0, 0, 0], name=\"Point1\")\n\nhfss.post.plot_field(quantity=\"Average_SAR\",\n                     object_list=\"implant:YZ\",\n                     plot_type=\"CutPlane\",\n                     show_legend=False,\n                     filter_objects=[\"implant_box\"],\n                     )"
      ]
    },
    {
      "cell_type": "markdown",
      "metadata": {},
      "source": [
        "## Adjust Input Power to MRI Coil\nThe goal is to adjust the MRI coil\u2019s input power, so that the averageSAR at Point1 is 1 W/kg\nNote that SAR and input power are linearly related\nTo determine required input, calculate\ninput_scale = 1/AverageSAR at Point1\n\n"
      ]
    },
    {
      "cell_type": "code",
      "execution_count": null,
      "metadata": {
        "collapsed": false
      },
      "outputs": [],
      "source": [
        "sol_data = hfss.post.get_solution_data(expressions=\"Average_SAR\",\n                                       primary_sweep_variable=\"Freq\",\n                                       context=\"Point1\",\n                                       report_category=\"Fields\")\nsol_data.data_real()\n\nhfss[\"input_scale\"] = 1 / sol_data.data_real()[0]"
      ]
    },
    {
      "cell_type": "markdown",
      "metadata": {},
      "source": [
        "## Phantom with Implant\nImport implant geometry.\nSubtract rod from implant_box.\nAssign titanium to the imported object rod.\nAnalyze the project.\n\n"
      ]
    },
    {
      "cell_type": "code",
      "execution_count": null,
      "metadata": {
        "collapsed": false
      },
      "outputs": [],
      "source": [
        "hfss.modeler.import_3d_cad(os.path.join(project_path, \"implant_rod.sat\"))\n\nhfss.modeler[\"implant_box\"].subtract(\"rod\", keep_originals=True)\nhfss.modeler[\"rod\"].material_name = \"titanium\"\nhfss.analyze(num_cores=6)\nhfss.save_project()"
      ]
    },
    {
      "cell_type": "markdown",
      "metadata": {},
      "source": [
        "## Thermal Simulation\nInitialize a new Mechanical Transient Thermal analysis.\nMechanical Transient Thermal is available in AEDT from 2023 R2 as a Beta feature.\n\n"
      ]
    },
    {
      "cell_type": "code",
      "execution_count": null,
      "metadata": {
        "collapsed": false
      },
      "outputs": [],
      "source": [
        "mech = Mechanical(solution_type=\"Transient Thermal\", specified_version=\"2023.2\")"
      ]
    },
    {
      "cell_type": "markdown",
      "metadata": {},
      "source": [
        "## Copy geometries\nCopy bodies from the HFSS project. 3D Component will not be copied.\n\n"
      ]
    },
    {
      "cell_type": "code",
      "execution_count": null,
      "metadata": {
        "collapsed": false
      },
      "outputs": [],
      "source": [
        "mech.copy_solid_bodies_from(hfss)"
      ]
    },
    {
      "cell_type": "markdown",
      "metadata": {},
      "source": [
        "## Link sources to EM losses\nLink sources to the EM losses.\nAssign external convection.\n\n"
      ]
    },
    {
      "cell_type": "code",
      "execution_count": null,
      "metadata": {
        "collapsed": false
      },
      "outputs": [],
      "source": [
        "exc = mech.assign_em_losses(\n    designname=hfss.design_name,\n    setupname=hfss.setups[0].name,\n    sweepname=\"LastAdaptive\",\n    map_frequency=hfss.setups[0].props[\"Frequency\"],\n    surface_objects=mech.get_all_conductors_names(),\n)\nmech.assign_uniform_convection(mech.modeler[\"Region\"].faces, convection_value=1)"
      ]
    },
    {
      "cell_type": "markdown",
      "metadata": {},
      "source": [
        "## Create Setup\nCreate a new setup and edit properties.\nSimulation will be for 60 seconds.\n\n"
      ]
    },
    {
      "cell_type": "code",
      "execution_count": null,
      "metadata": {
        "collapsed": false
      },
      "outputs": [],
      "source": [
        "setup = mech.create_setup()\n# setup.add_mesh_link(\"backgroundSAR\")\n# mech.create_dataset1d_design(\"PowerMap\", [0, 239, 240, 360], [1, 1, 0, 0])\n# exc.props[\"LossMultiplier\"] = \"pwl(PowerMap,Time)\"\n\nmech.modeler.set_working_coordinate_system(\"implant\")\nmech.modeler.create_point([0, 0, 0], name=\"Point1\")\nsetup.props[\"Stop Time\"] = 60\nsetup.props[\"Time Step\"] = \"10s\"\nsetup.props[\"SaveFieldsType\"] = \"Every N Steps\"\nsetup.props[\"N Steps\"] = \"2\""
      ]
    },
    {
      "cell_type": "markdown",
      "metadata": {},
      "source": [
        "## Analyze Mechanical\nAnalyze the project.\n\n"
      ]
    },
    {
      "cell_type": "code",
      "execution_count": null,
      "metadata": {
        "collapsed": false
      },
      "outputs": [],
      "source": [
        "mech.analyze(num_cores=6)"
      ]
    },
    {
      "cell_type": "markdown",
      "metadata": {},
      "source": [
        "## Plot Fields\nPlot Temperature on cut plane.\nPlot Temperature on point.\n\n"
      ]
    },
    {
      "cell_type": "code",
      "execution_count": null,
      "metadata": {
        "collapsed": false
      },
      "outputs": [],
      "source": [
        "mech.post.create_fieldplot_cutplane(\"implant:YZ\", \"Temperature\", filter_objects=[\"implant_box\"],\n                                    intrinsincDict={\"Time\": \"10s\"})\nmech.save_project()\n\ndata = mech.post.get_solution_data(\"Temperature\", primary_sweep_variable=\"Time\", context=\"Point1\",\n                                   report_category=\"Fields\")\ndata.plot()\n\nmech.post.plot_animated_field(quantity=\"Temperature\",\n                              object_list=\"implant:YZ\",\n                              plot_type=\"CutPlane\",\n                              intrinsics={\"Time\": \"10s\"},\n                              variation_variable=\"Time\",\n                              variation_list=[\"10s\", \"20s\", \"30s\", \"40s\", \"50s\", \"60s\"],\n                              filter_objects=[\"implant_box\"],\n                              )"
      ]
    },
    {
      "cell_type": "markdown",
      "metadata": {},
      "source": [
        "## Thermal Simulation\nInitialize a new Icepak Transient Thermal analysis.\n\n"
      ]
    },
    {
      "cell_type": "code",
      "execution_count": null,
      "metadata": {
        "collapsed": false
      },
      "outputs": [],
      "source": [
        "ipk = Icepak(solution_type=\"Transient\", specified_version=\"2023.2\")\nipk.design_solutions.problem_type = \"TemperatureOnly\""
      ]
    },
    {
      "cell_type": "markdown",
      "metadata": {},
      "source": [
        "## Copy geometries\nCopy bodies from the HFSS project. 3D Component will not be copied.\n\n"
      ]
    },
    {
      "cell_type": "code",
      "execution_count": null,
      "metadata": {
        "collapsed": false
      },
      "outputs": [],
      "source": [
        "ipk.modeler.delete(\"Region\")\nipk.copy_solid_bodies_from(hfss)"
      ]
    },
    {
      "cell_type": "markdown",
      "metadata": {},
      "source": [
        "## Link sources to EM losses\nLink sources to the EM losses.\nAssign external convection.\n\n"
      ]
    },
    {
      "cell_type": "code",
      "execution_count": null,
      "metadata": {
        "collapsed": false
      },
      "outputs": [],
      "source": [
        "exc = ipk.assign_em_losses(\n    designname=hfss.design_name,\n    setupname=hfss.setups[0].name,\n    sweepname=\"LastAdaptive\",\n    map_frequency=hfss.setups[0].props[\"Frequency\"],\n    surface_objects=ipk.get_all_conductors_names(),\n)"
      ]
    },
    {
      "cell_type": "markdown",
      "metadata": {},
      "source": [
        "## Create Setup\nCreate a new setup and edit properties.\nSimulation will be for 60 seconds.\n\n"
      ]
    },
    {
      "cell_type": "code",
      "execution_count": null,
      "metadata": {
        "collapsed": false
      },
      "outputs": [],
      "source": [
        "setup = ipk.create_setup()\n\nsetup.props[\"Stop Time\"] = 60\nsetup.props[\"N Steps\"] = 2\nsetup.props[\"Time Step\"] = 5\nsetup.props['Convergence Criteria - Energy'] = 1e-12"
      ]
    },
    {
      "cell_type": "markdown",
      "metadata": {},
      "source": [
        "## Mesh Region\nCreate a new mesh region and change accuracy level to 4.\n\n"
      ]
    },
    {
      "cell_type": "code",
      "execution_count": null,
      "metadata": {
        "collapsed": false
      },
      "outputs": [],
      "source": [
        "bound = ipk.modeler[\"implant_box\"].bounding_box\nmesh_box = ipk.modeler.create_box(bound[:3], [bound[3] - bound[0], bound[4] - bound[1], bound[5] - bound[2]])\nmesh_box.model = False\nmesh_region = ipk.mesh.assign_mesh_region([mesh_box.name])\nmesh_region.UserSpecifiedSettings = False\nmesh_region.Level = 4\nmesh_region.update()"
      ]
    },
    {
      "cell_type": "markdown",
      "metadata": {},
      "source": [
        "## Point Monitor\nCreate a new point monitor.\n\n"
      ]
    },
    {
      "cell_type": "code",
      "execution_count": null,
      "metadata": {
        "collapsed": false
      },
      "outputs": [],
      "source": [
        "ipk.modeler.set_working_coordinate_system(\"implant\")\nipk.monitor.assign_point_monitor([0, 0, 0], monitor_name=\"Point1\")\nipk.assign_openings(ipk.modeler[\"Region\"].top_face_z)"
      ]
    },
    {
      "cell_type": "markdown",
      "metadata": {},
      "source": [
        "## Analyze and plot fields\nAnalyze the project.\nPlot Temperature on cut plane.\nPlot Temperature on monitor point.\n\n"
      ]
    },
    {
      "cell_type": "code",
      "execution_count": null,
      "metadata": {
        "collapsed": false
      },
      "outputs": [],
      "source": [
        "ipk.analyze(num_cores=4,num_tasks=4)\nipk.post.create_fieldplot_cutplane(\"implant:YZ\", \"Temperature\", filter_objects=[\"implant_box\"],\n                                   intrinsincDict={\"Time\": \"0s\"})\nipk.save_project()\n\ndata = ipk.post.get_solution_data(\"Point1.Temperature\", primary_sweep_variable=\"Time\", report_category=\"Monitor\")\ndata.plot()\n\nipk.release_desktop(False)"
      ]
    }
  ],
  "metadata": {
    "kernelspec": {
      "display_name": "Python 3",
      "language": "python",
      "name": "python3"
    },
    "language_info": {
      "codemirror_mode": {
        "name": "ipython",
        "version": 3
      },
      "file_extension": ".py",
      "mimetype": "text/x-python",
      "name": "python",
      "nbconvert_exporter": "python",
      "pygments_lexer": "ipython3",
      "version": "3.10.5"
    }
  },
  "nbformat": 4,
  "nbformat_minor": 0
}