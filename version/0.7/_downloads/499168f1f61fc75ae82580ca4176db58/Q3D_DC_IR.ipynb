{
  "cells": [
    {
      "cell_type": "markdown",
      "metadata": {},
      "source": [
        "\n# Q3D Extractor: PCB DCIR analysis\nThis example shows how you can use PyAEDT to create a design in\nQ3D Extractor and run a DC IR Drop simulation starting from an EDB Project.\n"
      ]
    },
    {
      "cell_type": "markdown",
      "metadata": {},
      "source": [
        "## Perform required imports\nPerform required imports.\n\n"
      ]
    },
    {
      "cell_type": "code",
      "execution_count": null,
      "metadata": {
        "collapsed": false
      },
      "outputs": [],
      "source": [
        "import os\nimport pyaedt"
      ]
    },
    {
      "cell_type": "markdown",
      "metadata": {},
      "source": [
        "## Set up project files and path\nDownload needed project file and set up temporary project directory.\n\n"
      ]
    },
    {
      "cell_type": "code",
      "execution_count": null,
      "metadata": {
        "collapsed": false
      },
      "outputs": [],
      "source": [
        "project_dir = pyaedt.generate_unique_folder_name()\naedb_project = pyaedt.downloads.download_file('edb/ANSYS-HSD_V1.aedb', destination=project_dir)\ncoil = pyaedt.downloads.download_file('inductance_3d_component', 'air_coil.a3dcomp')\nres = pyaedt.downloads.download_file('resistors', 'Res_0402.a3dcomp')\nproject_name = pyaedt.generate_unique_name(\"HSD\")\noutput_edb = os.path.join(project_dir, project_name + '.aedb')\noutput_q3d = os.path.join(project_dir, project_name + '_q3d.aedt')"
      ]
    },
    {
      "cell_type": "markdown",
      "metadata": {},
      "source": [
        "## Open EDB\nOpen the EDB project and create a cutout on the selected nets\nbefore exporting to Q3D.\n\n"
      ]
    },
    {
      "cell_type": "code",
      "execution_count": null,
      "metadata": {
        "collapsed": false
      },
      "outputs": [],
      "source": [
        "edb = pyaedt.Edb(aedb_project, edbversion=\"2023.2\")\nedb.cutout([\"1.2V_AVDLL_PLL\", \"1.2V_AVDDL\", \"1.2V_DVDDL\", \"NetR106_1\"],\n           [\"GND\"],\n           output_aedb_path=output_edb,\n           use_pyaedt_extent_computing=True,\n           )"
      ]
    },
    {
      "cell_type": "markdown",
      "metadata": {},
      "source": [
        "## Identify pin positions\nIdentify [x,y] pin locations on the components to define where to assign sources\nand sinks for Q3D.\n\n"
      ]
    },
    {
      "cell_type": "code",
      "execution_count": null,
      "metadata": {
        "collapsed": false
      },
      "outputs": [],
      "source": [
        "pin_u11_scl = [i for i in edb.components[\"U11\"].pins.values() if i.net_name == \"1.2V_AVDLL_PLL\"]\npin_u9_1 = [i for i in edb.components[\"U9\"].pins.values() if i.net_name == \"1.2V_AVDDL\"]\npin_u9_2 = [i for i in edb.components[\"U9\"].pins.values() if i.net_name == \"1.2V_DVDDL\"]\npin_u11_r106 = [i for i in edb.components[\"U11\"].pins.values() if i.net_name == \"NetR106_1\"]"
      ]
    },
    {
      "cell_type": "markdown",
      "metadata": {},
      "source": [
        "## Append Z Positions\nCompute Q3D 3D position. The factor 1000 converts from \"meters\" to \"mm\".\n\n"
      ]
    },
    {
      "cell_type": "code",
      "execution_count": null,
      "metadata": {
        "collapsed": false
      },
      "outputs": [],
      "source": [
        "location_u11_scl = [i * 1000 for i in pin_u11_scl[0].position]\nlocation_u11_scl.append(edb.components[\"U11\"].upper_elevation * 1000)\n\nlocation_u9_1_scl = [i * 1000 for i in pin_u9_1[0].position]\nlocation_u9_1_scl.append(edb.components[\"U9\"].upper_elevation * 1000)\n\nlocation_u9_2_scl = [i * 1000 for i in pin_u9_2[0].position]\nlocation_u9_2_scl.append(edb.components[\"U9\"].upper_elevation * 1000)\n\nlocation_u11_r106 = [i * 1000 for i in pin_u11_r106[0].position]\nlocation_u11_r106.append(edb.components[\"U11\"].upper_elevation * 1000)"
      ]
    },
    {
      "cell_type": "markdown",
      "metadata": {},
      "source": [
        "## Identify pin positions for 3D components\nIdentify the pin positions where 3D components of passives are to be added.\n\n"
      ]
    },
    {
      "cell_type": "code",
      "execution_count": null,
      "metadata": {
        "collapsed": false
      },
      "outputs": [],
      "source": [
        "location_l2_1 = [i * 1000 for i in edb.components[\"L2\"].pins[\"1\"].position]\nlocation_l2_1.append(edb.components[\"L2\"].upper_elevation * 1000)\nlocation_l4_1 = [i * 1000 for i in edb.components[\"L4\"].pins[\"1\"].position]\nlocation_l4_1.append(edb.components[\"L4\"].upper_elevation * 1000)\n\nlocation_r106_1 = [i * 1000 for i in edb.components[\"R106\"].pins[\"1\"].position]\nlocation_r106_1.append(edb.components[\"R106\"].upper_elevation * 1000)"
      ]
    },
    {
      "cell_type": "markdown",
      "metadata": {},
      "source": [
        "## Save and close EDB\nSave and close EDB. Then, open EDT in HFSS 3D Layout to generate the 3D model.\n\n"
      ]
    },
    {
      "cell_type": "code",
      "execution_count": null,
      "metadata": {
        "collapsed": false
      },
      "outputs": [],
      "source": [
        "edb.save_edb()\nedb.close_edb()\n\nh3d = pyaedt.Hfss3dLayout(output_edb, specified_version=\"2023.2\", non_graphical=False, new_desktop_session=True)"
      ]
    },
    {
      "cell_type": "markdown",
      "metadata": {},
      "source": [
        "## Export to Q3D\nCreate a dummy setup and export the layout in Q3D.\nThe ``keep_net_name`` parameter reassigns Q3D net names from HFSS 3D Layout.\n\n"
      ]
    },
    {
      "cell_type": "code",
      "execution_count": null,
      "metadata": {
        "collapsed": false
      },
      "outputs": [],
      "source": [
        "setup = h3d.create_setup()\nsetup.export_to_q3d(output_q3d, keep_net_name=True)\nh3d.close_project()"
      ]
    },
    {
      "cell_type": "markdown",
      "metadata": {},
      "source": [
        "## Open Q3D\nLaunch the newly created q3d project.\n\n"
      ]
    },
    {
      "cell_type": "code",
      "execution_count": null,
      "metadata": {
        "collapsed": false
      },
      "outputs": [],
      "source": [
        "q3d = pyaedt.Q3d(output_q3d)\nq3d.modeler.delete(\"GND\")\nq3d.delete_all_nets()"
      ]
    },
    {
      "cell_type": "markdown",
      "metadata": {},
      "source": [
        "## Insert inductors\nCreate new coordinate systems and place 3D component inductors.\n\n"
      ]
    },
    {
      "cell_type": "code",
      "execution_count": null,
      "metadata": {
        "collapsed": false
      },
      "outputs": [],
      "source": [
        "q3d.modeler.create_coordinate_system(location_l2_1, name=\"L2\")\ncomp = q3d.modeler.insert_3d_component(coil, targetCS=\"L2\")\ncomp.rotate(q3d.AXIS.Z, -90)\ncomp.parameters[\"n_turns\"] = \"3\"\ncomp.parameters[\"d_wire\"] = \"100um\"\nq3d.modeler.set_working_coordinate_system(\"Global\")\nq3d.modeler.create_coordinate_system(location_l4_1, name=\"L4\")\ncomp2 = q3d.modeler.insert_3d_component(coil, targetCS=\"L4\",)\ncomp2.rotate(q3d.AXIS.Z, -90)\ncomp2.parameters[\"n_turns\"] = \"3\"\ncomp2.parameters[\"d_wire\"] = \"100um\"\nq3d.modeler.set_working_coordinate_system(\"Global\")\n\nq3d.modeler.set_working_coordinate_system(\"Global\")\nq3d.modeler.create_coordinate_system(location_r106_1, name=\"R106\")\ncomp3= q3d.modeler.insert_3d_component(res, targetCS=\"R106\",geo_params={'$Resistance': 2000})\ncomp3.rotate(q3d.AXIS.Z, -90)\n\nq3d.modeler.set_working_coordinate_system(\"Global\")"
      ]
    },
    {
      "cell_type": "markdown",
      "metadata": {},
      "source": [
        "## Delete dielectrics\nDelete all dielectric objects since not needed in DC analysis.\n\n"
      ]
    },
    {
      "cell_type": "code",
      "execution_count": null,
      "metadata": {
        "collapsed": false
      },
      "outputs": [],
      "source": [
        "q3d.modeler.delete(q3d.modeler.get_objects_by_material(\"Megtron4\"))\nq3d.modeler.delete(q3d.modeler.get_objects_by_material(\"Megtron4_2\"))\nq3d.modeler.delete(q3d.modeler.get_objects_by_material(\"Megtron4_3\"))\nq3d.modeler.delete(q3d.modeler.get_objects_by_material(\"Solder Resist\"))\n\nobjs_copper = q3d.modeler.get_objects_by_material(\"copper\")\nobjs_copper_names = [i.name for i in objs_copper]\nq3d.plot(show=False,objects=objs_copper_names, plot_as_separate_objects=False,\n         export_path=os.path.join(q3d.working_directory, \"Q3D.jpg\"), plot_air_objects=False)"
      ]
    },
    {
      "cell_type": "markdown",
      "metadata": {},
      "source": [
        "## Assign source and sink\nUse previously calculated positions to identify faces,\nselect the net \"1_Top\" and\nassign sources and sinks on nets.\n\n"
      ]
    },
    {
      "cell_type": "code",
      "execution_count": null,
      "metadata": {
        "collapsed": false
      },
      "outputs": [],
      "source": [
        "sink_f = q3d.modeler.create_circle(q3d.PLANE.XY, location_u11_scl, 0.1)\nsource_f1 = q3d.modeler.create_circle(q3d.PLANE.XY, location_u9_1_scl, 0.1)\nsource_f2 = q3d.modeler.create_circle(q3d.PLANE.XY, location_u9_2_scl, 0.1)\nsource_f3= q3d.modeler.create_circle(q3d.PLANE.XY, location_u11_r106, 0.1)\nsources_objs = [source_f1, source_f2, source_f3]\nq3d.auto_identify_nets()\n\nidentified_net = q3d.nets[0]\n\nq3d.sink(sink_f, net_name=identified_net)\n\nsource1 = q3d.source(source_f1, net_name=identified_net)\n\nsource2 = q3d.source(source_f2, net_name=identified_net)\nsource3 = q3d.source(source_f3, net_name=identified_net)\nsources_bounds = [source1, source2, source3]\n\nq3d.edit_sources(dcrl={\"{}:{}\".format(source1.props[\"Net\"], source1.name): \"-1.0A\",\n                       \"{}:{}\".format(source2.props[\"Net\"], source2.name): \"-1.0A\",\n                       \"{}:{}\".format(source2.props[\"Net\"], source3.name): \"-1.0A\"})"
      ]
    },
    {
      "cell_type": "markdown",
      "metadata": {},
      "source": [
        "## Create setup\nCreate a setup and a frequency sweep from DC to 2GHz.\nAnalyze project.\n\n"
      ]
    },
    {
      "cell_type": "code",
      "execution_count": null,
      "metadata": {
        "collapsed": false
      },
      "outputs": [],
      "source": [
        "setup = q3d.create_setup()\nsetup.dc_enabled = True\nsetup.capacitance_enabled = False\nsetup.ac_rl_enabled = False\nsetup.props[\"SaveFields\"] = True\nsetup.props[\"DC\"][\"Cond\"][\"MaxPass\"]=3\nsetup.analyze()"
      ]
    },
    {
      "cell_type": "markdown",
      "metadata": {},
      "source": [
        "## Field Calculator\nWe will create a named expression using field calculator.\n\n"
      ]
    },
    {
      "cell_type": "code",
      "execution_count": null,
      "metadata": {
        "collapsed": false
      },
      "outputs": [],
      "source": [
        "drop_name = \"Vdrop3_3\"\nfields = q3d.ofieldsreporter\nq3d.ofieldsreporter.CalcStack(\"clear\")\nq3d.ofieldsreporter.EnterQty(\"Phidc\")\nq3d.ofieldsreporter.EnterScalar(3.3)\nq3d.ofieldsreporter.CalcOp(\"+\")\nq3d.ofieldsreporter.AddNamedExpression(drop_name, \"DC R/L Fields\")"
      ]
    },
    {
      "cell_type": "markdown",
      "metadata": {},
      "source": [
        "## Phi plot\nCompute ACL solutions and plot them.\n\n"
      ]
    },
    {
      "cell_type": "code",
      "execution_count": null,
      "metadata": {
        "collapsed": false
      },
      "outputs": [],
      "source": [
        "plot1 = q3d.post.create_fieldplot_surface(q3d.modeler.get_objects_by_material(\"copper\"), quantityName=drop_name,\n                                          intrinsincDict={\"Freq\": \"1GHz\"})\n\nq3d.post.plot_field_from_fieldplot(\n    plot1.name,\n    project_path=q3d.working_directory,\n    meshplot=False,\n    imageformat=\"jpg\",\n    view=\"isometric\",\n    show=False,\n    plot_cad_objs=False,\n    log_scale=False,\n)"
      ]
    },
    {
      "cell_type": "markdown",
      "metadata": {},
      "source": [
        "## Computing Voltage on Source Circles\nUsing Field Calculator we can compute the voltage on source circles and get the value\nusing get_solution_data method.\n\n"
      ]
    },
    {
      "cell_type": "code",
      "execution_count": null,
      "metadata": {
        "collapsed": false
      },
      "outputs": [],
      "source": [
        "curves = []\nfor source_circle, source_bound in zip(sources_objs, sources_bounds):\n    source_sheet_name = source_circle.name\n\n    curves.append(\"V{}\".format(source_bound.name))\n\n    q3d.ofieldsreporter.CalcStack(\"clear\")\n    q3d.ofieldsreporter.CopyNamedExprToStack(drop_name)\n    q3d.ofieldsreporter.EnterSurf(source_sheet_name)\n    q3d.ofieldsreporter.CalcOp(\"Maximum\")\n    q3d.ofieldsreporter.AddNamedExpression(\"V{}\".format(source_bound.name), \"DC R/L Fields\")\n\n\ndata = q3d.post.get_solution_data(\n            curves,\n            q3d.nominal_adaptive,\n            variations={\"Freq\": \"1GHz\"},\n            report_category=\"DC R/L Fields\",\n        )\nfor curve in curves:\n    print(data.data_real(curve))"
      ]
    },
    {
      "cell_type": "markdown",
      "metadata": {},
      "source": [
        "## Close AEDT\nAfter the simulation completes, you can close AEDT or release it using the\n``release_desktop`` method. All methods provide for saving projects before closing.\n\n"
      ]
    },
    {
      "cell_type": "code",
      "execution_count": null,
      "metadata": {
        "collapsed": false
      },
      "outputs": [],
      "source": [
        "q3d.save_project()\nq3d.release_desktop()"
      ]
    }
  ],
  "metadata": {
    "kernelspec": {
      "display_name": "Python 3",
      "language": "python",
      "name": "python3"
    },
    "language_info": {
      "codemirror_mode": {
        "name": "ipython",
        "version": 3
      },
      "file_extension": ".py",
      "mimetype": "text/x-python",
      "name": "python",
      "nbconvert_exporter": "python",
      "pygments_lexer": "ipython3",
      "version": "3.10.5"
    }
  },
  "nbformat": 4,
  "nbformat_minor": 0
}