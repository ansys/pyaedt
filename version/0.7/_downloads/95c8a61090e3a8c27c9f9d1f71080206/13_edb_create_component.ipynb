{
  "cells": [
    {
      "cell_type": "markdown",
      "metadata": {},
      "source": [
        "\n# EDB: geometry creation\nThis example shows how to\n1, Create a layout layer stackup.\n2, Create Padstack definition.\n3, Place padstack instances at given location.\n4, Create primitives, polygon and trace.\n5, Create component from pins.\n6, Create HFSS simulation setup and excitation ports.\n"
      ]
    },
    {
      "cell_type": "markdown",
      "metadata": {},
      "source": [
        "Final expected project\n ~~~~~~~~~~~~~~~~~~~~~~\n\n .. image:: ../../_static/connector_example.png\n  :width: 600\n  :alt: Connector from Vias.\n#####################################################################\n\n"
      ]
    },
    {
      "cell_type": "markdown",
      "metadata": {},
      "source": [
        "Create connector component from pad-stack\n ~~~~~~~~~~~~~~~~~~~~~~~~~~~~~~~~~~~~~~~~~\n Initialize an empty EDB layout object on version 2023 R2.\n#####################################################################\n\n"
      ]
    },
    {
      "cell_type": "code",
      "execution_count": null,
      "metadata": {
        "collapsed": false
      },
      "outputs": [],
      "source": [
        "import os\nimport pyaedt\nfrom pyaedt import Edb\n\naedb_path = os.path.join(pyaedt.generate_unique_folder_name(),\n                         pyaedt.generate_unique_name(\"component_example\") + \".aedb\")\n\n\nedb = Edb(edbpath=aedb_path, edbversion=\"2023.2\")\nprint(\"EDB is located at {}\".format(aedb_path))"
      ]
    },
    {
      "cell_type": "markdown",
      "metadata": {},
      "source": [
        "## Initialize variables\n\n"
      ]
    },
    {
      "cell_type": "code",
      "execution_count": null,
      "metadata": {
        "collapsed": false
      },
      "outputs": [],
      "source": [
        "layout_count = 12\ndiel_material_name = \"FR4_epoxy\"\ndiel_thickness = \"0.15mm\"\ncond_thickness_outer = \"0.05mm\"\ncond_thickness_inner = \"0.017mm\"\nsoldermask_thickness = \"0.05mm\"\ntrace_in_layer = \"TOP\"\ntrace_out_layer = \"L10\"\ntrace_width = \"200um\"\nconnector_size = 2e-3\nconectors_position = [[0, 0], [10e-3, 0]]\n\n################\n# Create stackup\n# ~~~~~~~~~~~~~~\nedb.stackup.create_symmetric_stackup(layer_count=layout_count, inner_layer_thickness=cond_thickness_inner,\n                                     outer_layer_thickness=cond_thickness_outer,\n                                     soldermask_thickness=soldermask_thickness, dielectric_thickness=diel_thickness,\n                                     dielectric_material=diel_material_name)"
      ]
    },
    {
      "cell_type": "markdown",
      "metadata": {},
      "source": [
        "## Create ground planes\n\n\n"
      ]
    },
    {
      "cell_type": "code",
      "execution_count": null,
      "metadata": {
        "collapsed": false
      },
      "outputs": [],
      "source": [
        "ground_layers = [layer_name for layer_name in edb.stackup.signal_layers.keys() if layer_name not in\n                 [trace_in_layer, trace_out_layer]]\nplane_shape = edb.modeler.Shape(\"rectangle\", pointA=[\"-3mm\", \"-3mm\"], pointB=[\"13mm\", \"3mm\"])\nfor i in ground_layers:\n    edb.modeler.create_polygon(plane_shape, i, net_name=\"VSS\")"
      ]
    },
    {
      "cell_type": "markdown",
      "metadata": {},
      "source": [
        "## Add design variables\n\n"
      ]
    },
    {
      "cell_type": "code",
      "execution_count": null,
      "metadata": {
        "collapsed": false
      },
      "outputs": [],
      "source": [
        "edb.add_design_variable(\"$via_hole_size\", \"0.3mm\")\nedb.add_design_variable(\"$antipaddiam\", \"0.7mm\")\nedb.add_design_variable(\"$paddiam\", \"0.5mm\")\nedb.add_design_variable(\"trace_in_width\", \"0.2mm\", is_parameter=True)\nedb.add_design_variable(\"trace_out_width\", \"0.1mm\", is_parameter=True)"
      ]
    },
    {
      "cell_type": "markdown",
      "metadata": {},
      "source": [
        "## Create padstack definition\n\n"
      ]
    },
    {
      "cell_type": "code",
      "execution_count": null,
      "metadata": {
        "collapsed": false
      },
      "outputs": [],
      "source": [
        "edb.padstacks.create_padstack(padstackname=\"Via\", holediam=\"$via_hole_size\", antipaddiam=\"$antipaddiam\",\n                              paddiam=\"$paddiam\")"
      ]
    },
    {
      "cell_type": "markdown",
      "metadata": {},
      "source": [
        "## Create connector 1\n\n"
      ]
    },
    {
      "cell_type": "code",
      "execution_count": null,
      "metadata": {
        "collapsed": false
      },
      "outputs": [],
      "source": [
        "component1_pins = [edb.padstacks.place_padstack(conectors_position[0], \"Via\", net_name=\"VDD\", fromlayer=trace_in_layer,\n                                                tolayer=trace_out_layer),\n                   edb.padstacks.place_padstack([conectors_position[0][0] - connector_size / 2,\n                                                 conectors_position[0][1] - connector_size / 2],\n                                                \"Via\", net_name=\"VSS\"),\n                   edb.padstacks.place_padstack([conectors_position[0][0] + connector_size / 2,\n                                                 conectors_position[0][1] - connector_size / 2],\n                                                \"Via\", net_name=\"VSS\"),\n                   edb.padstacks.place_padstack([conectors_position[0][0] + connector_size / 2,\n                                                 conectors_position[0][1] + connector_size / 2],\n                                                \"Via\", net_name=\"VSS\"),\n                   edb.padstacks.place_padstack([conectors_position[0][0] - connector_size / 2,\n                                                 conectors_position[0][1] + connector_size / 2],\n                                                \"Via\", net_name=\"VSS\")]"
      ]
    },
    {
      "cell_type": "markdown",
      "metadata": {},
      "source": [
        "## Create connector 2\n\n"
      ]
    },
    {
      "cell_type": "code",
      "execution_count": null,
      "metadata": {
        "collapsed": false
      },
      "outputs": [],
      "source": [
        "component2_pins = [\n    edb.padstacks.place_padstack(conectors_position[-1], \"Via\", net_name=\"VDD\", fromlayer=trace_in_layer,\n                                 tolayer=trace_out_layer),\n    edb.padstacks.place_padstack([conectors_position[1][0] - connector_size / 2,\n                                  conectors_position[1][1] - connector_size / 2],\n                                 \"Via\", net_name=\"VSS\"),\n    edb.padstacks.place_padstack([conectors_position[1][0] + connector_size / 2,\n                                  conectors_position[1][1] - connector_size / 2],\n                                 \"Via\", net_name=\"VSS\"),\n    edb.padstacks.place_padstack([conectors_position[1][0] + connector_size / 2,\n                                  conectors_position[1][1] + connector_size / 2],\n                                 \"Via\", net_name=\"VSS\"),\n    edb.padstacks.place_padstack([conectors_position[1][0] - connector_size / 2,\n                                  conectors_position[1][1] + connector_size / 2],\n                                 \"Via\", net_name=\"VSS\")]"
      ]
    },
    {
      "cell_type": "markdown",
      "metadata": {},
      "source": [
        "## Create layout pins\n\n"
      ]
    },
    {
      "cell_type": "code",
      "execution_count": null,
      "metadata": {
        "collapsed": false
      },
      "outputs": [],
      "source": [
        "for padstack_instance in list(edb.padstacks.instances.values()):\n    padstack_instance.is_pin = True"
      ]
    },
    {
      "cell_type": "markdown",
      "metadata": {},
      "source": [
        "## create component from pins\n\n"
      ]
    },
    {
      "cell_type": "code",
      "execution_count": null,
      "metadata": {
        "collapsed": false
      },
      "outputs": [],
      "source": [
        "edb.components.create(component1_pins, 'connector_1')\nedb.components.create(component2_pins, 'connector_2')"
      ]
    },
    {
      "cell_type": "markdown",
      "metadata": {},
      "source": [
        "## Creating ports and adding simulation setup using SimulationConfiguration class\n\n"
      ]
    },
    {
      "cell_type": "code",
      "execution_count": null,
      "metadata": {
        "collapsed": false
      },
      "outputs": [],
      "source": [
        "sim_setup = edb.new_simulation_configuration()\nsim_setup.solver_type = sim_setup.SOLVER_TYPE.Hfss3dLayout\nsim_setup.batch_solve_settings.cutout_subdesign_expansion = 0.01\nsim_setup.batch_solve_settings.do_cutout_subdesign = False\nsim_setup.batch_solve_settings.signal_nets = [\"VDD\"]\nsim_setup.batch_solve_settings.components = [\"connector_1\", \"connector_2\"]\nsim_setup.batch_solve_settings.power_nets = [\"VSS\"]\nsim_setup.ac_settings.start_freq = \"0GHz\"\nsim_setup.ac_settings.stop_freq = \"5GHz\"\nsim_setup.ac_settings.step_freq = \"1GHz\"\nedb.build_simulation_project(sim_setup)"
      ]
    },
    {
      "cell_type": "markdown",
      "metadata": {},
      "source": [
        "## Save EDB and open in AEDT\n\n"
      ]
    },
    {
      "cell_type": "code",
      "execution_count": null,
      "metadata": {
        "collapsed": false
      },
      "outputs": [],
      "source": [
        "edb.save_edb()\nedb.close_edb()\nh3d = pyaedt.Hfss3dLayout(specified_version=\"2023.2\",\n                          projectname=aedb_path,\n                          non_graphical=False,\n                          new_desktop_session=True)\nh3d.release_desktop(False, False)"
      ]
    }
  ],
  "metadata": {
    "kernelspec": {
      "display_name": "Python 3",
      "language": "python",
      "name": "python3"
    },
    "language_info": {
      "codemirror_mode": {
        "name": "ipython",
        "version": 3
      },
      "file_extension": ".py",
      "mimetype": "text/x-python",
      "name": "python",
      "nbconvert_exporter": "python",
      "pygments_lexer": "ipython3",
      "version": "3.10.5"
    }
  },
  "nbformat": 4,
  "nbformat_minor": 0
}