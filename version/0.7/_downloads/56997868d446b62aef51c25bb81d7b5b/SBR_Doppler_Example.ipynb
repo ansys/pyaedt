{
  "cells": [
    {
      "cell_type": "markdown",
      "metadata": {},
      "source": [
        "\n# SBR+: doppler setup\nThis example shows how you can use PyAEDT to create a multipart scenario in HFSS SBR+\nand set up a doppler analysis.\n"
      ]
    },
    {
      "cell_type": "markdown",
      "metadata": {},
      "source": [
        "## Perform required imports\nPerform required imports.\n\n"
      ]
    },
    {
      "cell_type": "code",
      "execution_count": null,
      "metadata": {
        "collapsed": false
      },
      "outputs": [],
      "source": [
        "import os\nimport pyaedt\n\n# Launch AEDT\n# ~~~~~~~~~~~\n# Launch AEDT.\n\naedt_version = \"2023.2\"\nprojectname = \"MicroDoppler_with_ADP\"\ndesignname = \"doppler\"\nlibrary_path = pyaedt.downloads.download_multiparts()"
      ]
    },
    {
      "cell_type": "markdown",
      "metadata": {},
      "source": [
        "## Set non-graphical mode\nSet non-graphical mode. \nYou can set ``non_graphical`` either to ``True`` or ``False``.\n\n"
      ]
    },
    {
      "cell_type": "code",
      "execution_count": null,
      "metadata": {
        "collapsed": false
      },
      "outputs": [],
      "source": [
        "non_graphical = False"
      ]
    },
    {
      "cell_type": "markdown",
      "metadata": {},
      "source": [
        "## Download and open project\nDownload and open the project.\n\n"
      ]
    },
    {
      "cell_type": "code",
      "execution_count": null,
      "metadata": {
        "collapsed": false
      },
      "outputs": [],
      "source": [
        "project_name = pyaedt.generate_unique_project_name(project_name=\"doppler\")\n\n# Instantiate the application.\napp = pyaedt.Hfss(\n    specified_version=aedt_version,\n    solution_type=\"SBR+\",\n    new_desktop_session=True,\n    projectname=project_name,\n    close_on_exit=True,\n    non_graphical=non_graphical\n)\n\napp.autosave_disable()"
      ]
    },
    {
      "cell_type": "markdown",
      "metadata": {},
      "source": [
        "## Save project and rename design\nSave the project to the temporary folder and rename the design.\n\n"
      ]
    },
    {
      "cell_type": "code",
      "execution_count": null,
      "metadata": {
        "collapsed": false
      },
      "outputs": [],
      "source": [
        "app.save_project()\napp.rename_design(designname)"
      ]
    },
    {
      "cell_type": "markdown",
      "metadata": {},
      "source": [
        "## Set up library paths\nSet up library paths to 3D components.\n\n"
      ]
    },
    {
      "cell_type": "code",
      "execution_count": null,
      "metadata": {
        "collapsed": false
      },
      "outputs": [],
      "source": [
        "actor_lib = os.path.join(library_path, \"actor_library\")\nenv_lib = os.path.join(library_path, \"environment_library\")\nradar_lib = os.path.join(library_path, \"radar_modules\")\nenv_folder = os.path.join(env_lib, \"road1\")\nperson_folder = os.path.join(actor_lib, \"person3\")\ncar_folder = os.path.join(actor_lib, \"vehicle1\")\nbike_folder = os.path.join(actor_lib, \"bike1\")\nbird_folder = os.path.join(actor_lib, \"bird1\")"
      ]
    },
    {
      "cell_type": "markdown",
      "metadata": {},
      "source": [
        "## Define environment\nDefine the background environment.\n\n"
      ]
    },
    {
      "cell_type": "code",
      "execution_count": null,
      "metadata": {
        "collapsed": false
      },
      "outputs": [],
      "source": [
        "road1 = app.modeler.add_environment(env_folder=env_folder, environment_name=\"Bari\")\nprim = app.modeler"
      ]
    },
    {
      "cell_type": "markdown",
      "metadata": {},
      "source": [
        "## Place actors\nPlace actors in the environment. This code places persons, birds, bikes, and cars\nin the environment.\n\n"
      ]
    },
    {
      "cell_type": "code",
      "execution_count": null,
      "metadata": {
        "collapsed": false
      },
      "outputs": [],
      "source": [
        "person1 = app.modeler.add_person(\n    actor_folder=person_folder, speed=1.0, global_offset=[25, 1.5, 0], yaw=180, actor_name=\"Massimo\"\n)\nperson2 = app.modeler.add_person(\n    actor_folder=person_folder, speed=1.0, global_offset=[25, 2.5, 0], yaw=180, actor_name=\"Devin\"\n)\ncar1 = app.modeler.add_vehicle(actor_folder=car_folder, speed=8.7, global_offset=[3, -2.5, 0], actor_name=\"LuxuryCar\")\nbike1 = app.modeler.add_vehicle(\n    actor_folder=bike_folder, speed=2.1, global_offset=[24, 3.6, 0], yaw=180, actor_name=\"Alberto_in_bike\"\n)\nbird1 = app.modeler.add_bird(\n    actor_folder=bird_folder,\n    speed=1.0,\n    global_offset=[19, 4, 3],\n    yaw=120,\n    pitch=-5,\n    flapping_rate=30,\n    actor_name=\"Pigeon\",\n)\nbird2 = app.modeler.add_bird(\n    actor_folder=bird_folder, speed=1.0, global_offset=[6, 2, 3], yaw=-60, pitch=10, actor_name=\"Eagle\"\n)"
      ]
    },
    {
      "cell_type": "markdown",
      "metadata": {},
      "source": [
        "## Place radar\nPlace radar on the car. The radar is created relative to the car's coordinate\nsystem.\n\n"
      ]
    },
    {
      "cell_type": "code",
      "execution_count": null,
      "metadata": {
        "collapsed": false
      },
      "outputs": [],
      "source": [
        "radar1 = app.create_sbr_radar_from_json(\n    radar_file=radar_lib,\n    radar_name=\"Example_1Tx_1Rx\",\n    offset=[2.57, 0, 0.54],\n    use_relative_cs=True,\n    relative_cs_name=car1.cs_name,\n)"
      ]
    },
    {
      "cell_type": "markdown",
      "metadata": {},
      "source": [
        "## Create setup\nCreate setup and validate it. The ``create_sbr_pulse_doppler_setup`` method\ncreates a setup and a parametric sweep on the time variable with a\nduration of two seconds. The step is computed automatically from CPI.\n\n"
      ]
    },
    {
      "cell_type": "code",
      "execution_count": null,
      "metadata": {
        "collapsed": false
      },
      "outputs": [],
      "source": [
        "setup, sweep = app.create_sbr_pulse_doppler_setup(sweep_time_duration=2)\napp.set_sbr_current_sources_options()\napp.validate_simple()"
      ]
    },
    {
      "cell_type": "markdown",
      "metadata": {},
      "source": [
        "## Plot model\nPlot the model.\n\n"
      ]
    },
    {
      "cell_type": "code",
      "execution_count": null,
      "metadata": {
        "collapsed": false
      },
      "outputs": [],
      "source": [
        "app.plot(show=False, export_path=os.path.join(app.working_directory, \"Image.jpg\"), plot_air_objects=True)"
      ]
    },
    {
      "cell_type": "markdown",
      "metadata": {},
      "source": [
        "## Solve and release AEDT\nSolve and release AEDT. To solve, uncomment the ``app.analyze_setup`` command\nto activate the simulation. \n\n"
      ]
    },
    {
      "cell_type": "code",
      "execution_count": null,
      "metadata": {
        "collapsed": false
      },
      "outputs": [],
      "source": [
        "# app.analyze_setup(sweep.name)\napp.save_project()\napp.release_desktop(close_projects=True, close_desktop=True)"
      ]
    }
  ],
  "metadata": {
    "kernelspec": {
      "display_name": "Python 3",
      "language": "python",
      "name": "python3"
    },
    "language_info": {
      "codemirror_mode": {
        "name": "ipython",
        "version": 3
      },
      "file_extension": ".py",
      "mimetype": "text/x-python",
      "name": "python",
      "nbconvert_exporter": "python",
      "pygments_lexer": "ipython3",
      "version": "3.10.5"
    }
  },
  "nbformat": 4,
  "nbformat_minor": 0
}