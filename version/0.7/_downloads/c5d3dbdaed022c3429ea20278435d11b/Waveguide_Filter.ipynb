{
  "cells": [
    {
      "cell_type": "markdown",
      "metadata": {},
      "source": [
        "\n# HFSS: Inductive Iris waveguide filter\nThis example shows how to build and analyze a 4-pole\nX-Band waveguide filter using inductive irises.\n"
      ]
    },
    {
      "cell_type": "code",
      "execution_count": null,
      "metadata": {
        "collapsed": false
      },
      "outputs": [],
      "source": [
        "# sphinx_gallery_thumbnail_path = 'Resources/wgf.png'"
      ]
    },
    {
      "cell_type": "markdown",
      "metadata": {},
      "source": [
        "## Perform required imports\nPerform required imports.\n\n\n"
      ]
    },
    {
      "cell_type": "code",
      "execution_count": null,
      "metadata": {
        "collapsed": false
      },
      "outputs": [],
      "source": [
        "import os\nimport tempfile\nimport pyaedt\nfrom pyaedt import general_methods"
      ]
    },
    {
      "cell_type": "markdown",
      "metadata": {},
      "source": [
        "## Launch Ansys Electronics Desktop (AEDT)\n\n\n"
      ]
    },
    {
      "cell_type": "markdown",
      "metadata": {},
      "source": [
        "## Define parameters and values for waveguide iris filter\nl: Length of the cavity from the mid-point of one iris\n   to the midpoint of the next iris.\nw: Width of the iris opening.\na: Long dimension of the waveguide cross-section (X-Band)\nb: Short dimension of the waveguide cross-section.\nt: Metal thickness of the iris insert.\n\n"
      ]
    },
    {
      "cell_type": "code",
      "execution_count": null,
      "metadata": {
        "collapsed": false
      },
      "outputs": [],
      "source": [
        "wgparams = {'l': [0.7428, 0.82188],\n            'w': [0.50013, 0.3642, 0.3458],\n            'a': 0.4,\n            'b': 0.9,\n            't': 0.15,\n            'units': 'in'}\n\nnon_graphical = False\nnew_thread = True"
      ]
    },
    {
      "cell_type": "markdown",
      "metadata": {},
      "source": [
        "## Save the project and results in the TEMP folder\n\n"
      ]
    },
    {
      "cell_type": "code",
      "execution_count": null,
      "metadata": {
        "collapsed": false
      },
      "outputs": [],
      "source": [
        "project_folder = os.path.join(tempfile.gettempdir(), \"waveguide_example\")\nif not os.path.exists(project_folder):\n    os.mkdir(project_folder)\nproject_name = os.path.join(project_folder, general_methods.generate_unique_name(\"wgf\", n=2))\n\n# Instantiate the HFSS application\nhfss = pyaedt.Hfss(projectname=project_name + '.aedt',\n                   specified_version=\"2023.2\",\n                   designname=\"filter\",\n                   non_graphical=non_graphical,\n                   new_desktop_session=True,\n                   close_on_exit=True)\n\n# hfss.settings.enable_debug_methods_argument_logger = False  # Only for debugging.\n\nvar_mapping = dict()  # Used by parse_expr to parse expressions."
      ]
    },
    {
      "cell_type": "markdown",
      "metadata": {},
      "source": [
        "## Initialize design parameters in HFSS.\n\n"
      ]
    },
    {
      "cell_type": "code",
      "execution_count": null,
      "metadata": {
        "collapsed": false
      },
      "outputs": [],
      "source": [
        "hfss.modeler.model_units = \"in\"  # Set to inches\nfor key in wgparams:\n    if type(wgparams[key]) in [int, float]:\n        hfss[key] = str(wgparams[key]) + wgparams['units']\n        var_mapping[key] = wgparams[key]  # Used for expression parsing\n    elif type(wgparams[key]) == list:\n        count = 1\n        for v in wgparams[key]:\n            this_key = key + str(count)\n            hfss[this_key] = str(v) + wgparams['units']\n            var_mapping[this_key] = v  # Used to parse expressions and generate numerical values.\n            count += 1\n\nif len(wgparams['l']) % 2 == 0:\n    zstart = \"-t/2\"  # Even number of cavities, odd number of irises.\n    is_even = True\nelse:\n    zstart = \"l1/2 - t/2\"  # Odd number of cavities, even number of irises.\n    is_even = False"
      ]
    },
    {
      "cell_type": "markdown",
      "metadata": {},
      "source": [
        "## Draw parametric waveguide filter\nDefine a function to place each iris at the correct longitudinal (z) position,\nLoop from the largest index (interior of the filter) to 1, which is the first\niris nearest the waveguide ports.\n\n"
      ]
    },
    {
      "cell_type": "code",
      "execution_count": null,
      "metadata": {
        "collapsed": false
      },
      "outputs": [],
      "source": [
        "def place_iris(zpos, dz, n):\n    w_str = \"w\" + str(n)  # Iris width parameter as a string.\n    this_name = \"iris_a_\" + str(n)  # Iris object name in the HFSS project.\n    iris = []  # Return a list of the two objects that make up the iris.\n    if this_name in hfss.modeler.object_names:\n        this_name = this_name.replace(\"a\", \"c\")\n    iris.append(hfss.modeler.create_box(['-b/2', '-a/2', zpos], ['(b - ' + w_str + ')/2', 'a', dz],\n                                        name=this_name, matname=\"silver\"))\n    iris.append(iris[0].mirror([0, 0, 0], [1, 0, 0], duplicate=True))\n    return iris"
      ]
    },
    {
      "cell_type": "markdown",
      "metadata": {},
      "source": [
        "## Place irises\nPlace the irises from inner (highest integer) to outer.\n\n"
      ]
    },
    {
      "cell_type": "code",
      "execution_count": null,
      "metadata": {
        "collapsed": false
      },
      "outputs": [],
      "source": [
        "for count in reversed(range(1, len(wgparams['w']) + 1)):\n    if count < len(wgparams['w']):  # Update zpos\n        zpos = zpos + \"\".join([\" + l\" + str(count) + \" + \"])[:-3]\n        iris = place_iris(zpos, \"t\", count)\n        iris = place_iris(\"-(\" + zpos + \")\", \"-t\", count)\n\n    else:  # Place first iris\n        zpos = zstart\n        iris = place_iris(zpos, \"t\", count)\n        if not is_even:\n            iris = place_iris(\"-(\" + zpos + \")\", \"-t\", count)"
      ]
    },
    {
      "cell_type": "markdown",
      "metadata": {},
      "source": [
        "## Draw full waveguide with ports\nUse ``hfss.variable_manager`` which acts like a dict() to return an instance of\nthe ``pyaedt.application.Variables.VariableManager`` class for any variable.\nThe ``VariableManager`` instance takes the HFSS variable name as a key.\n``VariableManager`` properties enable access to update, modify and\nevaluate variables.\n\n"
      ]
    },
    {
      "cell_type": "code",
      "execution_count": null,
      "metadata": {
        "collapsed": false
      },
      "outputs": [],
      "source": [
        "var_mapping['port_extension'] = 1.5 * wgparams['l'][0]\nhfss['port_extension'] = str(var_mapping['port_extension']) + wgparams['units']\nhfss[\"wg_z_start\"] = \"-(\" + zpos + \") - port_extension\"\nhfss[\"wg_length\"] = \"2*(\" + zpos + \" + port_extension )\"\nwg_z_start = hfss.variable_manager[\"wg_z_start\"]\nwg_length = hfss.variable_manager[\"wg_length\"]\nhfss[\"u_start\"] = \"-a/2\"\nhfss[\"u_end\"] = \"a/2\"\nhfss.modeler.create_box([\"-b/2\", \"-a/2\", \"wg_z_start\"], [\"b\", \"a\", \"wg_length\"],\n                        name=\"waveguide\", matname=\"vacuum\")"
      ]
    },
    {
      "cell_type": "markdown",
      "metadata": {},
      "source": [
        "## Draw the whole waveguide.\nwg_z is the total length of the waveguide, including port extension.\nNote that the ``.evaluated_value`` provides access to the numerical value of\n``wg_z_start`` which is an expression in HFSS.\n\n"
      ]
    },
    {
      "cell_type": "code",
      "execution_count": null,
      "metadata": {
        "collapsed": false
      },
      "outputs": [],
      "source": [
        "wg_z = [wg_z_start.evaluated_value, hfss.value_with_units(wg_z_start.numeric_value + wg_length.numeric_value, \"in\")]"
      ]
    },
    {
      "cell_type": "markdown",
      "metadata": {},
      "source": [
        "Assign wave ports to the end faces of the waveguid\nand define the calibration lines to ensure self-consistent\npolarization between wave ports.\n~~~~~~~~~~~~~~~~~~~~~~~~~~~~~~\n\n"
      ]
    },
    {
      "cell_type": "code",
      "execution_count": null,
      "metadata": {
        "collapsed": false
      },
      "outputs": [],
      "source": [
        "count = 0\nports = []\nfor n, z in enumerate(wg_z):\n    face_id = hfss.modeler.get_faceid_from_position([0, 0, z], obj_name=\"waveguide\")\n    u_start = [0, hfss.variable_manager[\"u_start\"].evaluated_value, z]\n    u_end = [0, hfss.variable_manager[\"u_end\"].evaluated_value, z]\n\n    ports.append(hfss.wave_port(face_id, integration_line=[u_start, u_end], name=\"P\" + str(n + 1), renormalize=False))"
      ]
    },
    {
      "cell_type": "markdown",
      "metadata": {},
      "source": [
        "## Insert the mesh adaptation setup using refinement at two frequencies.\nThis approach is useful for resonant structures as the coarse initial\nmesh impacts the resonant frequency and hence, the field propagation through the\nfilter.  Adaptation at multiple frequencies helps to ensure that energy propagates\nthrough the resonant structure while the mesh is refined.\n\n"
      ]
    },
    {
      "cell_type": "code",
      "execution_count": null,
      "metadata": {
        "collapsed": false
      },
      "outputs": [],
      "source": [
        "setup = hfss.create_setup(\"Setup1\", setuptype=\"HFSSDriven\",\n                          MultipleAdaptiveFreqsSetup=['9.8GHz', '10.2GHz'],\n                          MaximumPasses=5)\n\nsetup.create_frequency_sweep(\n    unit=\"GHz\",\n    sweepname=\"Sweep1\",\n    freqstart=9.5,\n    freqstop=10.5,\n    sweep_type=\"Interpolating\",\n)"
      ]
    },
    {
      "cell_type": "markdown",
      "metadata": {},
      "source": [
        "Solve the project with two tasks.\nEach frequency point is solved simultaneously.\n\n"
      ]
    },
    {
      "cell_type": "code",
      "execution_count": null,
      "metadata": {
        "collapsed": false
      },
      "outputs": [],
      "source": [
        "setup.analyze(num_tasks=2)"
      ]
    },
    {
      "cell_type": "markdown",
      "metadata": {},
      "source": [
        "## Generate S-Parameter Plots\n The following commands fetch solution data from HFSS for plotting directly\n from the Python interpreter.\n Caution: The syntax for expressions must be identical to that used\n in HFSS.\n\n"
      ]
    },
    {
      "cell_type": "code",
      "execution_count": null,
      "metadata": {
        "collapsed": false
      },
      "outputs": [],
      "source": [
        "traces_to_plot = hfss.get_traces_for_plot(second_element_filter=\"P1*\")\nreport = hfss.post.create_report(traces_to_plot)  # Creates a report in HFSS\nsolution = report.get_solution_data()\n\nplt = solution.plot(solution.expressions)  # Matplotlib axes object."
      ]
    },
    {
      "cell_type": "markdown",
      "metadata": {},
      "source": [
        "## Generate E field plot\n The following command generates a field plot in HFSS and uses PyVista\n to plot the field in Jupyter.\n\n"
      ]
    },
    {
      "cell_type": "code",
      "execution_count": null,
      "metadata": {
        "collapsed": false
      },
      "outputs": [],
      "source": [
        "plot = hfss.post.plot_field(quantity=\"Mag_E\",\n                            object_list=[\"Global:XZ\"],\n                            plot_type=\"CutPlane\",\n                            setup_name=hfss.nominal_adaptive,\n                            intrinsics={\"Freq\": \"9.8GHz\", \"Phase\": \"0deg\"},\n                            export_path=hfss.working_directory,\n                            show=False)"
      ]
    },
    {
      "cell_type": "markdown",
      "metadata": {},
      "source": [
        "## Save and close the desktop\n The following command saves the project to a file and closes the desktop.\n\n"
      ]
    },
    {
      "cell_type": "code",
      "execution_count": null,
      "metadata": {
        "collapsed": false
      },
      "outputs": [],
      "source": [
        "hfss.save_project()\nhfss.release_desktop()"
      ]
    }
  ],
  "metadata": {
    "kernelspec": {
      "display_name": "Python 3",
      "language": "python",
      "name": "python3"
    },
    "language_info": {
      "codemirror_mode": {
        "name": "ipython",
        "version": 3
      },
      "file_extension": ".py",
      "mimetype": "text/x-python",
      "name": "python",
      "nbconvert_exporter": "python",
      "pygments_lexer": "ipython3",
      "version": "3.10.5"
    }
  },
  "nbformat": 4,
  "nbformat_minor": 0
}