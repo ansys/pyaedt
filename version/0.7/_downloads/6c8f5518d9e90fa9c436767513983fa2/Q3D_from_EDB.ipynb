{
  "cells": [
    {
      "cell_type": "markdown",
      "metadata": {},
      "source": [
        "\n# Q3D Extractor: PCB analysis\nThis example shows how you can use PyAEDT to create a design in\nQ3D Extractor and run a simulation starting from an EDB Project.\n"
      ]
    },
    {
      "cell_type": "markdown",
      "metadata": {},
      "source": [
        "## Perform required imports\nPerform required imports.\n\n"
      ]
    },
    {
      "cell_type": "code",
      "execution_count": null,
      "metadata": {
        "collapsed": false
      },
      "outputs": [],
      "source": [
        "import os\nimport pyaedt"
      ]
    },
    {
      "cell_type": "markdown",
      "metadata": {},
      "source": [
        "## Setup project files and path\nDownload of needed project file and setup of temporary project directory.\n\n"
      ]
    },
    {
      "cell_type": "code",
      "execution_count": null,
      "metadata": {
        "collapsed": false
      },
      "outputs": [],
      "source": [
        "project_dir =  pyaedt.generate_unique_folder_name()\naedb_project = pyaedt.downloads.download_file('edb/ANSYS-HSD_V1.aedb',destination=project_dir)\n\nproject_name = pyaedt.generate_unique_name(\"HSD\")\noutput_edb = os.path.join(project_dir, project_name + '.aedb')\noutput_q3d = os.path.join(project_dir, project_name + '_q3d.aedt')"
      ]
    },
    {
      "cell_type": "markdown",
      "metadata": {},
      "source": [
        "## Open EDB\nOpen the edb project and created a cutout on the selected nets\nbefore exporting to Q3D.\n\n"
      ]
    },
    {
      "cell_type": "code",
      "execution_count": null,
      "metadata": {
        "collapsed": false
      },
      "outputs": [],
      "source": [
        "edb = pyaedt.Edb(aedb_project, edbversion=\"2023.2\")\nedb.cutout([\"CLOCK_I2C_SCL\", \"CLOCK_I2C_SDA\"], [\"GND\"], output_aedb_path=output_edb,\n                              use_pyaedt_extent_computing=True, )"
      ]
    },
    {
      "cell_type": "markdown",
      "metadata": {},
      "source": [
        "## Identify pins position\nIdentify [x,y] pin locations on the components to define where to assign sources\nand sinks for Q3D and append Z elevation.\n\n"
      ]
    },
    {
      "cell_type": "code",
      "execution_count": null,
      "metadata": {
        "collapsed": false
      },
      "outputs": [],
      "source": [
        "pin_u13_scl = [i for i in edb.components[\"U13\"].pins.values() if i.net_name == \"CLOCK_I2C_SCL\"]\npin_u1_scl = [i for i in edb.components[\"U1\"].pins.values() if i.net_name == \"CLOCK_I2C_SCL\"]\npin_u13_sda = [i for i in edb.components[\"U13\"].pins.values() if i.net_name == \"CLOCK_I2C_SDA\"]\npin_u1_sda = [i for i in edb.components[\"U1\"].pins.values() if i.net_name == \"CLOCK_I2C_SDA\"]"
      ]
    },
    {
      "cell_type": "markdown",
      "metadata": {},
      "source": [
        "## Append Z Positions\nNote: The factor 100 converts from \"meters\" to \"mm\"\n\n"
      ]
    },
    {
      "cell_type": "code",
      "execution_count": null,
      "metadata": {
        "collapsed": false
      },
      "outputs": [],
      "source": [
        "location_u13_scl = [i * 1000 for i in pin_u13_scl[0].position]\nlocation_u13_scl.append(edb.components[\"U13\"].upper_elevation * 1000)\n\nlocation_u1_scl = [i * 1000 for i in pin_u1_scl[0].position]\nlocation_u1_scl.append(edb.components[\"U1\"].upper_elevation * 1000)\n\nlocation_u13_sda = [i * 1000 for i in pin_u13_sda[0].position]\nlocation_u13_sda.append(edb.components[\"U13\"].upper_elevation * 1000)\n\nlocation_u1_sda = [i * 1000 for i in pin_u1_sda[0].position]\nlocation_u1_sda.append(edb.components[\"U1\"].upper_elevation * 1000)"
      ]
    },
    {
      "cell_type": "markdown",
      "metadata": {},
      "source": [
        "## Save and close Edb\nSave, close Edb and open it in Hfss 3D Layout to generate the 3D model.\n\n"
      ]
    },
    {
      "cell_type": "code",
      "execution_count": null,
      "metadata": {
        "collapsed": false
      },
      "outputs": [],
      "source": [
        "edb.save_edb()\nedb.close_edb()\n\nh3d = pyaedt.Hfss3dLayout(output_edb, specified_version=\"2023.2\", non_graphical=True, new_desktop_session=True)"
      ]
    },
    {
      "cell_type": "markdown",
      "metadata": {},
      "source": [
        "## Export to Q3D\nCreate a dummy setup and export the layout in Q3D.\nkeep_net_name will reassign Q3D nets names from Hfss 3D Layout.\n\n"
      ]
    },
    {
      "cell_type": "code",
      "execution_count": null,
      "metadata": {
        "collapsed": false
      },
      "outputs": [],
      "source": [
        "setup = h3d.create_setup()\nsetup.export_to_q3d(output_q3d, keep_net_name=True)\nh3d.close_project()"
      ]
    },
    {
      "cell_type": "markdown",
      "metadata": {},
      "source": [
        "## Open Q3D\nLaunch the newly created q3d project and plot it.\n\n"
      ]
    },
    {
      "cell_type": "code",
      "execution_count": null,
      "metadata": {
        "collapsed": false
      },
      "outputs": [],
      "source": [
        "q3d = pyaedt.Q3d(output_q3d)\nq3d.plot(show=False, objects=[\"CLOCK_I2C_SCL\", \"CLOCK_I2C_SDA\"],\n         export_path=os.path.join(q3d.working_directory, \"Q3D.jpg\"), plot_air_objects=False)"
      ]
    },
    {
      "cell_type": "markdown",
      "metadata": {},
      "source": [
        "## Assign Source and Sink\nUse previously calculated position to identify faces and\nassign sources and sinks on nets.\n\n"
      ]
    },
    {
      "cell_type": "code",
      "execution_count": null,
      "metadata": {
        "collapsed": false
      },
      "outputs": [],
      "source": [
        "f1 = q3d.modeler.get_faceid_from_position(location_u13_scl, obj_name=\"CLOCK_I2C_SCL\")\nq3d.source(f1, net_name=\"CLOCK_I2C_SCL\")\nf1 = q3d.modeler.get_faceid_from_position(location_u13_sda, obj_name=\"CLOCK_I2C_SDA\")\nq3d.source(f1, net_name=\"CLOCK_I2C_SDA\")\nf1 = q3d.modeler.get_faceid_from_position(location_u1_scl, obj_name=\"CLOCK_I2C_SCL\")\nq3d.sink(f1, net_name=\"CLOCK_I2C_SCL\")\nf1 = q3d.modeler.get_faceid_from_position(location_u1_sda, obj_name=\"CLOCK_I2C_SDA\")\nq3d.sink(f1, net_name=\"CLOCK_I2C_SDA\")"
      ]
    },
    {
      "cell_type": "markdown",
      "metadata": {},
      "source": [
        "## Create Setup\nCreate a setup and a frequency sweep from DC to 2GHz.\nAnalyze project.\n\n"
      ]
    },
    {
      "cell_type": "code",
      "execution_count": null,
      "metadata": {
        "collapsed": false
      },
      "outputs": [],
      "source": [
        "setup = q3d.create_setup()\nsetup.dc_enabled = True\nsetup.capacitance_enabled = False\nsweep = setup.add_sweep()\nsweep.add_subrange(\"LinearStep\", 0, end=2, count=0.05, unit=\"GHz\", save_single_fields=False, clear=True)\nsetup.analyze()"
      ]
    },
    {
      "cell_type": "markdown",
      "metadata": {},
      "source": [
        "## ACL Report\nCompute ACL solutions and plot them.\n\n"
      ]
    },
    {
      "cell_type": "code",
      "execution_count": null,
      "metadata": {
        "collapsed": false
      },
      "outputs": [],
      "source": [
        "traces_acl = q3d.post.available_report_quantities(quantities_category=\"ACL Matrix\")\nsolution = q3d.post.get_solution_data(traces_acl)\nsolution.plot()"
      ]
    },
    {
      "cell_type": "markdown",
      "metadata": {},
      "source": [
        "## ACR Report\nCompute ACR solutions and plot them.\n\n"
      ]
    },
    {
      "cell_type": "code",
      "execution_count": null,
      "metadata": {
        "collapsed": false
      },
      "outputs": [],
      "source": [
        "traces_acr = q3d.post.available_report_quantities(quantities_category=\"ACR Matrix\")\nsolution2 = q3d.post.get_solution_data(traces_acr)\nsolution2.plot()"
      ]
    },
    {
      "cell_type": "markdown",
      "metadata": {},
      "source": [
        "## Close AEDT\nAfter the simulation completes, you can close AEDT or release it using the\n``release_desktop`` method. All methods provide for saving projects before closing.\n\n"
      ]
    },
    {
      "cell_type": "code",
      "execution_count": null,
      "metadata": {
        "collapsed": false
      },
      "outputs": [],
      "source": [
        "q3d.release_desktop()"
      ]
    }
  ],
  "metadata": {
    "kernelspec": {
      "display_name": "Python 3",
      "language": "python",
      "name": "python3"
    },
    "language_info": {
      "codemirror_mode": {
        "name": "ipython",
        "version": 3
      },
      "file_extension": ".py",
      "mimetype": "text/x-python",
      "name": "python",
      "nbconvert_exporter": "python",
      "pygments_lexer": "ipython3",
      "version": "3.10.5"
    }
  },
  "nbformat": 4,
  "nbformat_minor": 0
}