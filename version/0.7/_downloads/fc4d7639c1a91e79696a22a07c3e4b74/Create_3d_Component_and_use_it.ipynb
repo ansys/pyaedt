{
  "cells": [
    {
      "cell_type": "markdown",
      "metadata": {},
      "source": [
        "\n# Create a 3D Component and reuse it\nSummary of the workflow\n1. Create an antenna using PyAEDT and HFSS 3D Modeler (same can be done with EDB and HFSS 3D Layout)\n2. Store the object as a 3D Component on the disk\n3. Reuse the 3D component in another project\n4. Parametrize and optimize target design\n"
      ]
    },
    {
      "cell_type": "markdown",
      "metadata": {},
      "source": [
        "## Perform required imports\nPerform required imports.\n\n"
      ]
    },
    {
      "cell_type": "code",
      "execution_count": null,
      "metadata": {
        "collapsed": false
      },
      "outputs": [],
      "source": [
        "import os\nimport tempfile\nfrom pyaedt import Hfss\nfrom pyaedt.generic.general_methods import generate_unique_name"
      ]
    },
    {
      "cell_type": "markdown",
      "metadata": {},
      "source": [
        "## Launch HFSS 2023.2\nPyAEDT can initialize a new session of Electronics Desktop or connect to an existing one. \nOnce Desktop is connected, a new HFSS session is started and a design is created.\n\n"
      ]
    },
    {
      "cell_type": "code",
      "execution_count": null,
      "metadata": {
        "collapsed": false
      },
      "outputs": [],
      "source": [
        "hfss = Hfss(specified_version=\"2023.2\", new_desktop_session=True, close_on_exit=True)"
      ]
    },
    {
      "cell_type": "markdown",
      "metadata": {},
      "source": [
        "## Variables\nPyAEDT can create and store all variables available in AEDT (Design, Project, Post Processing)\n\n"
      ]
    },
    {
      "cell_type": "code",
      "execution_count": null,
      "metadata": {
        "collapsed": false
      },
      "outputs": [],
      "source": [
        "hfss[\"thick\"] = \"0.1mm\"\nhfss[\"width\"] = \"1mm\""
      ]
    },
    {
      "cell_type": "markdown",
      "metadata": {},
      "source": [
        "## Modeler\nPyAEDT supports all modeler functionalities available in the Desktop.\nObjects can be created, deleted and modified using all available boolean operations.\nHistory is also fully accessible to PyAEDT.\n\n"
      ]
    },
    {
      "cell_type": "code",
      "execution_count": null,
      "metadata": {
        "collapsed": false
      },
      "outputs": [],
      "source": [
        "substrate = hfss.modeler.create_box([\"-width\",\"-width\",\"-thick\"],[\"2*width\",\"2*width\", \"thick\"], matname=\"FR4_epoxy\", name=\"sub\")\n\npatch = hfss.modeler.create_rectangle(\"XY\",[\"-width/2\",\"-width/2\",\"0mm\"],[\"width\",\"width\"], name=\"patch1\")\n\nvia1 = hfss.modeler.create_cylinder(2, [\"-width/8\",\"-width/4\",\"-thick\"],\"0.01mm\", \"thick\", matname=\"copper\", name=\"via_inner\")\n\nvia_outer = hfss.modeler.create_cylinder(2, [\"-width/8\",\"-width/4\",\"-thick\"],\"0.025mm\", \"thick\", matname=\"Teflon_based\", name=\"via_teflon\")"
      ]
    },
    {
      "cell_type": "markdown",
      "metadata": {},
      "source": [
        "## Boundaries\nMost of HFSS boundaries and excitations are already available in PyAEDT.\nUser can assign easily a boundary to a face or to an object by taking benefits of\nObject-Oriented Programming (OOP) available in PyAEDT.\n\n"
      ]
    },
    {
      "cell_type": "code",
      "execution_count": null,
      "metadata": {
        "collapsed": false
      },
      "outputs": [],
      "source": [
        "hfss.assign_perfecte_to_sheets(patch)"
      ]
    },
    {
      "cell_type": "markdown",
      "metadata": {},
      "source": [
        "## Advanced Modeler functions\nThanks to Python capabilities a lot of additional functionalities have been added to the Modeler of PyAEDT.\nin this example there is a property to retrieve automatically top and bottom faces of an objects.\n\n"
      ]
    },
    {
      "cell_type": "code",
      "execution_count": null,
      "metadata": {
        "collapsed": false
      },
      "outputs": [],
      "source": [
        "side_face = [i for i in via_outer.faces if i.id not in [via_outer.top_face_z.id, via_outer.bottom_face_z.id]]\n\nhfss.assign_perfecte_to_sheets(side_face)\nhfss.assign_perfecte_to_sheets(substrate.bottom_face_z)"
      ]
    },
    {
      "cell_type": "markdown",
      "metadata": {},
      "source": [
        "## Create Wave Port\nWave port can be assigned to a sheet or to a face of an object.\n\n"
      ]
    },
    {
      "cell_type": "code",
      "execution_count": null,
      "metadata": {
        "collapsed": false
      },
      "outputs": [],
      "source": [
        "hfss.wave_port(via_outer.bottom_face_z, name=\"P1\", )"
      ]
    },
    {
      "cell_type": "markdown",
      "metadata": {},
      "source": [
        "## Create 3D Component\nOnce the model is ready a 3D Component can be created.\nMultiple options are available to partially select objects, cs, boundaries and mesh operations.\nFurthermore, encrypted 3d comp can be created too.\n\n"
      ]
    },
    {
      "cell_type": "code",
      "execution_count": null,
      "metadata": {
        "collapsed": false
      },
      "outputs": [],
      "source": [
        "component_path = os.path.join(tempfile.gettempdir(), generate_unique_name(\"component_test\")+\".aedbcomp\")\nhfss.modeler.create_3dcomponent(component_path, \"patch_antenna\")"
      ]
    },
    {
      "cell_type": "markdown",
      "metadata": {},
      "source": [
        "## Multiple project management\nPyAEDT allows to control multiple projects, design and solution type at the same time.\n\n"
      ]
    },
    {
      "cell_type": "code",
      "execution_count": null,
      "metadata": {
        "collapsed": false
      },
      "outputs": [],
      "source": [
        "hfss2 = Hfss(projectname=\"new_project\", designname=\"new_design\")"
      ]
    },
    {
      "cell_type": "markdown",
      "metadata": {},
      "source": [
        "## Insert of 3d component\nThe 3d component can be inserted without any additional info.\nAll needed info will be read from the file itself.\n\n"
      ]
    },
    {
      "cell_type": "code",
      "execution_count": null,
      "metadata": {
        "collapsed": false
      },
      "outputs": [],
      "source": [
        "hfss2.modeler.insert_3d_component(component_path)"
      ]
    },
    {
      "cell_type": "markdown",
      "metadata": {},
      "source": [
        "## 3D Component Parameters\nAll 3d Component parameters are available and can be parametrized.\n\n"
      ]
    },
    {
      "cell_type": "code",
      "execution_count": null,
      "metadata": {
        "collapsed": false
      },
      "outputs": [],
      "source": [
        "hfss2.modeler.user_defined_components[\"patch_antenna1\"].parameters\n\nhfss2[\"p_thick\"] = \"1mm\"\n\nhfss2.modeler.user_defined_components[\"patch_antenna1\"].parameters[\"thick\"]=\"p_thick\""
      ]
    },
    {
      "cell_type": "markdown",
      "metadata": {},
      "source": [
        "## Multiple 3d Components\nThere is no limit to the number of 3D components that can be added on the same design.\nThey can be the same or linked to different files.\n\n"
      ]
    },
    {
      "cell_type": "code",
      "execution_count": null,
      "metadata": {
        "collapsed": false
      },
      "outputs": [],
      "source": [
        "hfss2.modeler.create_coordinate_system(origin=[20, 20, 10], name=\"Second_antenna\")\n\nant2 = hfss2.modeler.insert_3d_component(component_path, targetCS=\"Second_antenna\")"
      ]
    },
    {
      "cell_type": "markdown",
      "metadata": {},
      "source": [
        "## Move components\nThe component can be moved by changing is position or moving the relative coordinate system.\n\n"
      ]
    },
    {
      "cell_type": "code",
      "execution_count": null,
      "metadata": {
        "collapsed": false
      },
      "outputs": [],
      "source": [
        "hfss2.modeler.coordinate_systems[0].origin = [10, 10, 3]"
      ]
    },
    {
      "cell_type": "markdown",
      "metadata": {},
      "source": [
        "## Boundaries\nMost of HFSS boundaries and excitations are already available in PyAEDT.\nUser can assign easily a boundary to a face or to an object by taking benefits of\n\n"
      ]
    },
    {
      "cell_type": "code",
      "execution_count": null,
      "metadata": {
        "collapsed": false
      },
      "outputs": [],
      "source": [
        "hfss2.modeler.create_air_region(30, 30, 30, 30, 30, 30)\nhfss2.assign_radiation_boundary_to_faces(hfss2.modeler[\"Region\"].faces)\n\n# Create Setup and Optimetrics\n# Once project is ready to be solved, a setup and parametrics analysis can be created with PyAEDT.\n# All setup parameters can be edited.\n\nsetup1 = hfss2.create_setup()\n\noptim = hfss2.parametrics.add(\"p_thick\", \"0.2mm\", \"1.5mm\", step=14)"
      ]
    },
    {
      "cell_type": "markdown",
      "metadata": {},
      "source": [
        "## Save project\nSave the project.\n\n"
      ]
    },
    {
      "cell_type": "code",
      "execution_count": null,
      "metadata": {
        "collapsed": false
      },
      "outputs": [],
      "source": [
        "hfss2.modeler.fit_all()\nhfss2.plot(show=False, export_path=os.path.join(hfss.working_directory, \"Image.jpg\"), plot_air_objects=True)"
      ]
    },
    {
      "cell_type": "markdown",
      "metadata": {},
      "source": [
        "## Close AEDT\nAfter the simulation completes, you can close AEDT or release it using the\n:func:`pyaedt.Desktop.release_desktop` method.\nAll methods provide for saving the project before closing AEDT.\n\n"
      ]
    },
    {
      "cell_type": "code",
      "execution_count": null,
      "metadata": {
        "collapsed": false
      },
      "outputs": [],
      "source": [
        "hfss2.save_project(os.path.join(tempfile.gettempdir(), generate_unique_name(\"parametrized\")+\".aedt\"))\nhfss2.release_desktop()"
      ]
    }
  ],
  "metadata": {
    "kernelspec": {
      "display_name": "Python 3",
      "language": "python",
      "name": "python3"
    },
    "language_info": {
      "codemirror_mode": {
        "name": "ipython",
        "version": 3
      },
      "file_extension": ".py",
      "mimetype": "text/x-python",
      "name": "python",
      "nbconvert_exporter": "python",
      "pygments_lexer": "ipython3",
      "version": "3.10.5"
    }
  },
  "nbformat": 4,
  "nbformat_minor": 0
}