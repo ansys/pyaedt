{
  "cells": [
    {
      "cell_type": "markdown",
      "metadata": {},
      "source": [
        "\n# EDB: parameterized design\nThis example shows how to\n1, Create an HFSS simulation project using SimulationConfiguration class.\n2, Create automatically parametrized design.\n"
      ]
    },
    {
      "cell_type": "markdown",
      "metadata": {},
      "source": [
        "Final expected project\n ~~~~~~~~~~~~~~~~~~~~~~\n\n .. image:: ../../_static/parametrized_design.png\n  :width: 600\n  :alt: Fully automated parametrization.\n#####################################################################\n\n"
      ]
    },
    {
      "cell_type": "markdown",
      "metadata": {},
      "source": [
        "Create HFSS simulatio project\n ~~~~~~~~~~~~~~~~~~~~~~~~~~~~~~~~~~~~~~~~~\n Load an existing EDB folder.\n#####################################################################\n\n"
      ]
    },
    {
      "cell_type": "code",
      "execution_count": null,
      "metadata": {
        "collapsed": false
      },
      "outputs": [],
      "source": [
        "import os\nimport pyaedt\n\nproject_path = pyaedt.generate_unique_folder_name()\ntarget_aedb = pyaedt.downloads.download_file('edb/ANSYS-HSD_V1.aedb', destination=project_path)\nprint(\"Project folder will be\", target_aedb)\n\naedt_version = \"2023.2\"\nedb = pyaedt.Edb(edbpath=target_aedb, edbversion=aedt_version)\nprint(\"EDB is located at {}\".format(target_aedb))"
      ]
    },
    {
      "cell_type": "markdown",
      "metadata": {},
      "source": [
        "## Create SimulationConfiguration object and define simulation parameters\n\n"
      ]
    },
    {
      "cell_type": "code",
      "execution_count": null,
      "metadata": {
        "collapsed": false
      },
      "outputs": [],
      "source": [
        "simulation_configuration = edb.new_simulation_configuration()\nsimulation_configuration.signal_nets = [\"PCIe_Gen4_RX0_P\", \"PCIe_Gen4_RX0_N\",\n                                        \"PCIe_Gen4_RX1_P\", \"PCIe_Gen4_RX1_N\"]\nsimulation_configuration.power_nets = [\"GND\"]\nsimulation_configuration.components = [\"X1\", \"U1\"]\nsimulation_configuration.do_cutout_subdesign = True\nsimulation_configuration.start_freq = \"OGHz\"\nsimulation_configuration.stop_freq = \"20GHz\"\nsimulation_configuration.step_freq = \"10MHz\""
      ]
    },
    {
      "cell_type": "markdown",
      "metadata": {},
      "source": [
        "## Build simulation project\n\n"
      ]
    },
    {
      "cell_type": "code",
      "execution_count": null,
      "metadata": {
        "collapsed": false
      },
      "outputs": [],
      "source": [
        "edb.build_simulation_project(simulation_configuration)"
      ]
    },
    {
      "cell_type": "markdown",
      "metadata": {},
      "source": [
        "## Generated design parameters\n\n"
      ]
    },
    {
      "cell_type": "code",
      "execution_count": null,
      "metadata": {
        "collapsed": false
      },
      "outputs": [],
      "source": [
        "edb.auto_parametrize_design(layers=True, materials=True, via_holes=True, pads=True, antipads=True, traces=True)\nedb.save_edb()\nedb.close_edb()"
      ]
    },
    {
      "cell_type": "markdown",
      "metadata": {},
      "source": [
        "## Open project in AEDT\n\n"
      ]
    },
    {
      "cell_type": "code",
      "execution_count": null,
      "metadata": {
        "collapsed": false
      },
      "outputs": [],
      "source": [
        "# Uncomment the following line to open the design in HFSS 3D Layout\n# hfss = pyaedt.Hfss3dLayout(projectname=target_aedb, specified_version=aedt_version, new_desktop_session=True)\n# hfss.release_desktop()"
      ]
    }
  ],
  "metadata": {
    "kernelspec": {
      "display_name": "Python 3",
      "language": "python",
      "name": "python3"
    },
    "language_info": {
      "codemirror_mode": {
        "name": "ipython",
        "version": 3
      },
      "file_extension": ".py",
      "mimetype": "text/x-python",
      "name": "python",
      "nbconvert_exporter": "python",
      "pygments_lexer": "ipython3",
      "version": "3.10.5"
    }
  },
  "nbformat": 4,
  "nbformat_minor": 0
}