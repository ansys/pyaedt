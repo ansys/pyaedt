{
  "cells": [
    {
      "cell_type": "markdown",
      "metadata": {},
      "source": [
        "\n# EDB: SYZ analysis\nThis example shows how you can use PyAEDT to set up SYZ analysis on Serdes channel.\nThe input is the name of the differential nets. The positive net is PCIe_Gen4_TX3_CAP_P.\nThe negative net is PCIe_Gen4_TX3_CAP_N. The code will place ports on driver and\nreceiver components.\n"
      ]
    },
    {
      "cell_type": "markdown",
      "metadata": {},
      "source": [
        "## Perform required imports\nPerform required imports, which includes importing a section.\n\n"
      ]
    },
    {
      "cell_type": "code",
      "execution_count": null,
      "metadata": {
        "collapsed": false
      },
      "outputs": [],
      "source": [
        "import time\nimport pyaedt"
      ]
    },
    {
      "cell_type": "markdown",
      "metadata": {},
      "source": [
        "## Download file\nDownload the AEDB file and copy it in the temporary folder.\n\n"
      ]
    },
    {
      "cell_type": "code",
      "execution_count": null,
      "metadata": {
        "collapsed": false
      },
      "outputs": [],
      "source": [
        "temp_folder = pyaedt.generate_unique_folder_name()\ntargetfile = pyaedt.downloads.download_file('edb/ANSYS-HSD_V1.aedb', destination=temp_folder)\ntime.sleep(5)\n\nprint(targetfile)"
      ]
    },
    {
      "cell_type": "markdown",
      "metadata": {},
      "source": [
        "## Configure EDB\nLaunch the :class:`pyaedt.Edb` class, using EDB 2023 R2.\n\n"
      ]
    },
    {
      "cell_type": "code",
      "execution_count": null,
      "metadata": {
        "collapsed": false
      },
      "outputs": [],
      "source": [
        "edbapp = pyaedt.Edb(edbpath=targetfile, edbversion=\"2023.2\")"
      ]
    },
    {
      "cell_type": "markdown",
      "metadata": {},
      "source": [
        "## Generate extended nets\nAn extended net is a connection between two nets that are usually connected\nthrough a passive component like a resistor or capacitor.\n\n"
      ]
    },
    {
      "cell_type": "code",
      "execution_count": null,
      "metadata": {
        "collapsed": false
      },
      "outputs": [],
      "source": [
        "edbapp.extended_nets.auto_identify_signal(resistor_below=10, inductor_below=1, capacitor_above=1e-9)"
      ]
    },
    {
      "cell_type": "markdown",
      "metadata": {},
      "source": [
        "## Review extended net properties\nReview extended net properties.\n\n"
      ]
    },
    {
      "cell_type": "code",
      "execution_count": null,
      "metadata": {
        "collapsed": false
      },
      "outputs": [],
      "source": [
        "diff_p = edbapp.nets[\"PCIe_Gen4_TX3_CAP_P\"]\ndiff_n = edbapp.nets[\"PCIe_Gen4_TX3_CAP_N\"]\n\nnets_p = list(diff_p.extended_net.nets.keys())\nnets_n = list(diff_n.extended_net.nets.keys())\n\ncomp_p = list(diff_p.extended_net.components.keys())\ncomp_n = list(diff_n.extended_net.components.keys())\n\nrlc_p = list(diff_p.extended_net.rlc.keys())\nrlc_n = list(diff_n.extended_net.rlc.keys())\n\nprint(comp_p, rlc_p, comp_n, rlc_n, sep=\"\\n\")"
      ]
    },
    {
      "cell_type": "markdown",
      "metadata": {},
      "source": [
        "## Prepare input data for port creation\nPrepare input data for port creation.\n\n"
      ]
    },
    {
      "cell_type": "code",
      "execution_count": null,
      "metadata": {
        "collapsed": false
      },
      "outputs": [],
      "source": [
        "ports = []\nfor net_name, net_obj in diff_p.extended_net.nets.items():\n    for comp_name, comp_obj in net_obj.components.items():\n        if comp_obj.type not in [\"Resistor\", \"Capacitor\", \"Inductor\"]:\n            ports.append({\"port_name\": \"{}_{}\".format(comp_name, net_name),\n                          \"comp_name\":comp_name,\n                          \"net_name\":net_name})\n\nfor net_name, net_obj in diff_n.extended_net.nets.items():\n    for comp_name, comp_obj in net_obj.components.items():\n        if comp_obj.type not in [\"Resistor\", \"Capacitor\", \"Inductor\"]:\n            ports.append({\"port_name\": \"{}_{}\".format(comp_name, net_name),\n                          \"comp_name\":comp_name,\n                          \"net_name\":net_name})\n\nprint(*ports, sep=\"\\n\")"
      ]
    },
    {
      "cell_type": "markdown",
      "metadata": {},
      "source": [
        "## Create ports\nSolder balls are generated automatically. The default port type is coax port.\n\n"
      ]
    },
    {
      "cell_type": "code",
      "execution_count": null,
      "metadata": {
        "collapsed": false
      },
      "outputs": [],
      "source": [
        "for d in ports:\n    port_name = d[\"port_name\"]\n    comp_name = d[\"comp_name\"]\n    net_name = d[\"net_name\"]\n    edbapp.components.create_port_on_component(component=comp_name,\n                                               net_list=net_name,\n                                               port_name=port_name\n                                               )"
      ]
    },
    {
      "cell_type": "markdown",
      "metadata": {},
      "source": [
        "## Cutout\nDelete all irrelevant nets.\n\n"
      ]
    },
    {
      "cell_type": "code",
      "execution_count": null,
      "metadata": {
        "collapsed": false
      },
      "outputs": [],
      "source": [
        "nets = []\nnets.extend(nets_p)\nnets.extend(nets_n)\n\nedbapp.cutout(signal_list=nets, reference_list=[\"GND\"], extent_type=\"Bounding\")"
      ]
    },
    {
      "cell_type": "markdown",
      "metadata": {},
      "source": [
        "## Create SYZ analysis setup\nCreate SIwave SYZ setup.\n\n"
      ]
    },
    {
      "cell_type": "code",
      "execution_count": null,
      "metadata": {
        "collapsed": false
      },
      "outputs": [],
      "source": [
        "setup = edbapp.create_siwave_syz_setup(\"setup1\")\nsetup.add_frequency_sweep(frequency_sweep=[\n                               [\"linear count\", \"0\", \"1kHz\", 1],\n                               [\"log scale\", \"1kHz\", \"0.1GHz\", 10],\n                               [\"linear scale\", \"0.1GHz\", \"10GHz\", \"0.1GHz\"],\n                               ])"
      ]
    },
    {
      "cell_type": "markdown",
      "metadata": {},
      "source": [
        "## Save and close AEDT\nClose AEDT.\n\n"
      ]
    },
    {
      "cell_type": "code",
      "execution_count": null,
      "metadata": {
        "collapsed": false
      },
      "outputs": [],
      "source": [
        "edbapp.save()\nedbapp.close_edb()"
      ]
    },
    {
      "cell_type": "markdown",
      "metadata": {},
      "source": [
        "## Launch Hfss3dLayout\nTo do SYZ analysis, you must launch HFSS 3D Layout and import EDB into it.\n\n"
      ]
    },
    {
      "cell_type": "code",
      "execution_count": null,
      "metadata": {
        "collapsed": false
      },
      "outputs": [],
      "source": [
        "h3d = pyaedt.Hfss3dLayout(targetfile, specified_version=\"2023.2\", new_desktop_session=True)"
      ]
    },
    {
      "cell_type": "markdown",
      "metadata": {},
      "source": [
        "## Set differential pair\nSet differential pair.\n\n"
      ]
    },
    {
      "cell_type": "code",
      "execution_count": null,
      "metadata": {
        "collapsed": false
      },
      "outputs": [],
      "source": [
        "h3d.set_differential_pair(positive_terminal=\"U1_PCIe_Gen4_TX3_CAP_P\", negative_terminal=\"U1_PCIe_Gen4_TX3_CAP_N\", diff_name=\"PAIR_U1\")\nh3d.set_differential_pair(positive_terminal=\"X1_PCIe_Gen4_TX3_P\", negative_terminal=\"X1_PCIe_Gen4_TX3_N\", diff_name=\"PAIR_X1\")"
      ]
    },
    {
      "cell_type": "markdown",
      "metadata": {},
      "source": [
        "## Solve and plot results\nSolve and plot the results.\n\n"
      ]
    },
    {
      "cell_type": "code",
      "execution_count": null,
      "metadata": {
        "collapsed": false
      },
      "outputs": [],
      "source": [
        "h3d.analyze(num_cores=4)"
      ]
    },
    {
      "cell_type": "markdown",
      "metadata": {},
      "source": [
        "## Create report outside AEDT\nCreate a report.\n\n"
      ]
    },
    {
      "cell_type": "code",
      "execution_count": null,
      "metadata": {
        "collapsed": false
      },
      "outputs": [],
      "source": [
        "h3d.post.create_report(\"dB(S(PAIR_U1,PAIR_U1))\", context=\"Differential Pairs\")"
      ]
    },
    {
      "cell_type": "markdown",
      "metadata": {},
      "source": [
        "## Close AEDT\nClose AEDT.\n\n"
      ]
    },
    {
      "cell_type": "code",
      "execution_count": null,
      "metadata": {
        "collapsed": false
      },
      "outputs": [],
      "source": [
        "h3d.save_project()\nprint(\"Project is saved to {}\".format(h3d.project_path))\nh3d.release_desktop(True, True)"
      ]
    }
  ],
  "metadata": {
    "kernelspec": {
      "display_name": "Python 3",
      "language": "python",
      "name": "python3"
    },
    "language_info": {
      "codemirror_mode": {
        "name": "ipython",
        "version": 3
      },
      "file_extension": ".py",
      "mimetype": "text/x-python",
      "name": "python",
      "nbconvert_exporter": "python",
      "pygments_lexer": "ipython3",
      "version": "3.10.5"
    }
  },
  "nbformat": 4,
  "nbformat_minor": 0
}