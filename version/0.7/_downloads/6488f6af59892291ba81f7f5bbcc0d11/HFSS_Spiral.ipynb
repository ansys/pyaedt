{
  "cells": [
    {
      "cell_type": "markdown",
      "metadata": {},
      "source": [
        "\n# HFSS: spiral inductor\nThis example shows how you can use PyAEDT to create a spiral inductor, solve it, and plot results.\n"
      ]
    },
    {
      "cell_type": "markdown",
      "metadata": {},
      "source": [
        "## Perform required imports\nPerform required imports.\n\n"
      ]
    },
    {
      "cell_type": "code",
      "execution_count": null,
      "metadata": {
        "collapsed": false
      },
      "outputs": [],
      "source": [
        "import os\nimport pyaedt\n\nproject_name = pyaedt.generate_unique_project_name(project_name=\"spiral\")"
      ]
    },
    {
      "cell_type": "markdown",
      "metadata": {},
      "source": [
        "## Set non-graphical mode\nSet non-graphical mode. \nYou can set ``non_graphical`` either to ``True`` or ``False``.\n\n"
      ]
    },
    {
      "cell_type": "code",
      "execution_count": null,
      "metadata": {
        "collapsed": false
      },
      "outputs": [],
      "source": [
        "non_graphical = False"
      ]
    },
    {
      "cell_type": "markdown",
      "metadata": {},
      "source": [
        "## Launch HFSS\nLaunch HFSS 2023 R2 in non-graphical mode and change the\nunits to microns.\n\n"
      ]
    },
    {
      "cell_type": "code",
      "execution_count": null,
      "metadata": {
        "collapsed": false
      },
      "outputs": [],
      "source": [
        "hfss = pyaedt.Hfss(specified_version=\"2023.2\", non_graphical=non_graphical, designname=\"A1\", new_desktop_session=True)\nhfss.modeler.model_units = \"um\"\np = hfss.modeler"
      ]
    },
    {
      "cell_type": "markdown",
      "metadata": {},
      "source": [
        "## Define variables\nDefine input variables. You can use the values that follow or edit\nthem.\n\n"
      ]
    },
    {
      "cell_type": "code",
      "execution_count": null,
      "metadata": {
        "collapsed": false
      },
      "outputs": [],
      "source": [
        "rin = 10\nwidth = 2\nspacing = 1\nthickness = 1\nNp = 8\nNr = 10\ngap = 3\nhfss[\"Tsub\"] = \"6\" + hfss.modeler.model_units"
      ]
    },
    {
      "cell_type": "markdown",
      "metadata": {},
      "source": [
        "## Standardize polyline\nStandardize the polyline using the ``create_line`` method to fix\nthe width, thickness, and material.\n\n"
      ]
    },
    {
      "cell_type": "code",
      "execution_count": null,
      "metadata": {
        "collapsed": false
      },
      "outputs": [],
      "source": [
        "def create_line(pts):\n    p.create_polyline(pts, xsection_type=\"Rectangle\", xsection_width=width, xsection_height=thickness, matname=\"copper\")"
      ]
    },
    {
      "cell_type": "markdown",
      "metadata": {},
      "source": [
        "## Create spiral inductor\nCreate the spiral inductor. This spiral inductor is not\nparametric, but you could parametrize it later.\n\n"
      ]
    },
    {
      "cell_type": "code",
      "execution_count": null,
      "metadata": {
        "collapsed": false
      },
      "outputs": [],
      "source": [
        "ind = hfss.modeler.create_spiral(\n    internal_radius=rin,\n    width=width,\n    spacing=spacing,\n    turns=Nr,\n    faces=Np,\n    thickness=thickness,\n    material=\"copper\",\n    name=\"Inductor1\",\n)"
      ]
    },
    {
      "cell_type": "markdown",
      "metadata": {},
      "source": [
        "## Center return path\nCenter the return path.\n\n"
      ]
    },
    {
      "cell_type": "code",
      "execution_count": null,
      "metadata": {
        "collapsed": false
      },
      "outputs": [],
      "source": [
        "x0, y0, z0 = ind.points[0]\nx1, y1, z1 = ind.points[-1]\ncreate_line([(x0 - width / 2, y0, -gap), (abs(x1) + 5, y0, -gap)])\np.create_box([x0 - width / 2, y0 - width / 2, -gap - thickness / 2],\n             [width, width, gap + thickness],\n             matname=\"copper\")"
      ]
    },
    {
      "cell_type": "markdown",
      "metadata": {},
      "source": [
        "## Create port 1\nCreate port 1.\n\n"
      ]
    },
    {
      "cell_type": "code",
      "execution_count": null,
      "metadata": {
        "collapsed": false
      },
      "outputs": [],
      "source": [
        "p.create_rectangle(csPlane=pyaedt.constants.PLANE.YZ,\n                   position=[abs(x1) + 5, y0 - width / 2, -gap - thickness / 2],\n                   dimension_list=[width, \"Tsub+{}{}\".format(gap, hfss.modeler.model_units)],\n                   name=\"port1\"\n                   )\nhfss.lumped_port(signal=\"port1\", integration_line=pyaedt.constants.AXIS.Z)"
      ]
    },
    {
      "cell_type": "markdown",
      "metadata": {},
      "source": [
        "## Create port 2\nCreate port 2.\n\n"
      ]
    },
    {
      "cell_type": "code",
      "execution_count": null,
      "metadata": {
        "collapsed": false
      },
      "outputs": [],
      "source": [
        "create_line([(x1 + width / 2, y1, 0), (x1 - 5, y1, 0)])\np.create_rectangle(pyaedt.constants.PLANE.YZ, [x1 - 5, y1 - width / 2, -thickness / 2],\n                   [width, \"-Tsub\"],\n                   name=\"port2\")\nhfss.lumped_port(signal=\"port2\", integration_line=pyaedt.constants.AXIS.Z)"
      ]
    },
    {
      "cell_type": "markdown",
      "metadata": {},
      "source": [
        "## Create silicon substrate and ground plane\nCreate the silicon substrate and the ground plane.\n\n"
      ]
    },
    {
      "cell_type": "code",
      "execution_count": null,
      "metadata": {
        "collapsed": false
      },
      "outputs": [],
      "source": [
        "p.create_box([x1 - 20, x1 - 20, \"-Tsub-{}{}/2\".format(thickness, hfss.modeler.model_units)],\n             [-2 * x1 + 40, -2 * x1 + 40, \"Tsub\"],\n             matname=\"silicon\")\n\np.create_box([x1 - 20, x1 - 20, \"-Tsub-{}{}/2\".format(thickness, hfss.modeler.model_units)],\n             [-2 * x1 + 40, -2 * x1 + 40, -0.1],\n             matname=\"PEC\")"
      ]
    },
    {
      "cell_type": "markdown",
      "metadata": {},
      "source": [
        "## Assign airbox and radiation\nAssign the airbox and the radiation.\n\n"
      ]
    },
    {
      "cell_type": "code",
      "execution_count": null,
      "metadata": {
        "collapsed": false
      },
      "outputs": [],
      "source": [
        "box = p.create_box(\n    [x1 - 20, x1 - 20, \"-Tsub-{}{}/2 - 0.1{}\".format(thickness, hfss.modeler.model_units, hfss.modeler.model_units)],\n    [-2 * x1 + 40, -2 * x1 + 40, 100],\n    name=\"airbox\",\n    matname=\"air\"\n)\n\nhfss.assign_radiation_boundary_to_objects(\"airbox\")"
      ]
    },
    {
      "cell_type": "markdown",
      "metadata": {},
      "source": [
        "## Assign material override\nAssign a material override so that the validation check does\nnot fail.\n\n"
      ]
    },
    {
      "cell_type": "code",
      "execution_count": null,
      "metadata": {
        "collapsed": false
      },
      "outputs": [],
      "source": [
        "hfss.change_material_override()"
      ]
    },
    {
      "cell_type": "markdown",
      "metadata": {},
      "source": [
        "## Plot model\nPlot the model.\n\n"
      ]
    },
    {
      "cell_type": "code",
      "execution_count": null,
      "metadata": {
        "collapsed": false
      },
      "outputs": [],
      "source": [
        "hfss.plot(show=False, export_path=os.path.join(hfss.working_directory, \"Image.jpg\"), plot_air_objects=False)"
      ]
    },
    {
      "cell_type": "markdown",
      "metadata": {},
      "source": [
        "## Create setup\nCreate the setup and define a frequency sweep to solve the project.\n\n"
      ]
    },
    {
      "cell_type": "code",
      "execution_count": null,
      "metadata": {
        "collapsed": false
      },
      "outputs": [],
      "source": [
        "setup1 = hfss.create_setup(setupname=\"setup1\")\nsetup1.props[\"Frequency\"] = \"10GHz\"\nhfss.create_linear_count_sweep(setupname=\"setup1\", unit=\"GHz\", freqstart=1e-3, freqstop=50, num_of_freq_points=451,\n                               sweep_type=\"Interpolating\")\nhfss.save_project()\nhfss.analyze()"
      ]
    },
    {
      "cell_type": "markdown",
      "metadata": {},
      "source": [
        "## Get report data\nGet report data and use the following formulas to calculate\nthe inductance and quality factor.\n\n"
      ]
    },
    {
      "cell_type": "code",
      "execution_count": null,
      "metadata": {
        "collapsed": false
      },
      "outputs": [],
      "source": [
        "L_formula = \"1e9*im(1/Y(1,1))/(2*pi*freq)\"\nQ_formula = \"im(Y(1,1))/re(Y(1,1))\""
      ]
    },
    {
      "cell_type": "markdown",
      "metadata": {},
      "source": [
        "## Create output variable\nCreate output variable\n\n"
      ]
    },
    {
      "cell_type": "code",
      "execution_count": null,
      "metadata": {
        "collapsed": false
      },
      "outputs": [],
      "source": [
        "hfss.create_output_variable(\"L\", L_formula, solution=\"setup1 : LastAdaptive\")"
      ]
    },
    {
      "cell_type": "markdown",
      "metadata": {},
      "source": [
        "## Plot calculated values in Matplotlib\nPlot the calculated values in Matplotlib.\n\n"
      ]
    },
    {
      "cell_type": "code",
      "execution_count": null,
      "metadata": {
        "collapsed": false
      },
      "outputs": [],
      "source": [
        "data = hfss.post.get_solution_data([L_formula, Q_formula])\ndata.plot(curves=[L_formula, Q_formula], math_formula=\"re\", xlabel=\"Freq\", ylabel=\"L and Q\")"
      ]
    },
    {
      "cell_type": "markdown",
      "metadata": {},
      "source": [
        "## Export results to csv file\nExport results to csv file\n\n"
      ]
    },
    {
      "cell_type": "code",
      "execution_count": null,
      "metadata": {
        "collapsed": false
      },
      "outputs": [],
      "source": [
        "data.export_data_to_csv(os.path.join(hfss.toolkit_directory,\"output.csv\"))"
      ]
    },
    {
      "cell_type": "markdown",
      "metadata": {},
      "source": [
        "## Save project and close AEDT\nSave the project and close AEDT.\n\n"
      ]
    },
    {
      "cell_type": "code",
      "execution_count": null,
      "metadata": {
        "collapsed": false
      },
      "outputs": [],
      "source": [
        "hfss.save_project(project_name)\nhfss.release_desktop()"
      ]
    }
  ],
  "metadata": {
    "kernelspec": {
      "display_name": "Python 3",
      "language": "python",
      "name": "python3"
    },
    "language_info": {
      "codemirror_mode": {
        "name": "ipython",
        "version": 3
      },
      "file_extension": ".py",
      "mimetype": "text/x-python",
      "name": "python",
      "nbconvert_exporter": "python",
      "pygments_lexer": "ipython3",
      "version": "3.10.5"
    }
  },
  "nbformat": 4,
  "nbformat_minor": 0
}