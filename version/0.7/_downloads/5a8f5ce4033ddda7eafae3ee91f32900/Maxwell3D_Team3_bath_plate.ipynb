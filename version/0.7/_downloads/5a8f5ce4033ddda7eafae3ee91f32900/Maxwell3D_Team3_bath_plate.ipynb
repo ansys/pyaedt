{
  "cells": [
    {
      "cell_type": "markdown",
      "metadata": {},
      "source": [
        "\n# Maxwell 3D: bath plate analysis\nThis example uses PyAEDT to set up the TEAM 3 bath plate problem and\nsolve it using the Maxwell 3D Eddy Current solver.\n"
      ]
    },
    {
      "cell_type": "markdown",
      "metadata": {},
      "source": [
        "## Perform required imports\nPerform required imports.\n\n"
      ]
    },
    {
      "cell_type": "code",
      "execution_count": null,
      "metadata": {
        "collapsed": false
      },
      "outputs": [],
      "source": [
        "import os\nimport pyaedt"
      ]
    },
    {
      "cell_type": "markdown",
      "metadata": {},
      "source": [
        "## Set non-graphical mode\nSet non-graphical mode. \nYou can set ``non_graphical`` either to ``True`` or ``False``.\n\n"
      ]
    },
    {
      "cell_type": "code",
      "execution_count": null,
      "metadata": {
        "collapsed": false
      },
      "outputs": [],
      "source": [
        "non_graphical = False"
      ]
    },
    {
      "cell_type": "markdown",
      "metadata": {},
      "source": [
        "## Launch AEDT and Maxwell 3D\nLaunch AEDT and Maxwell 3D after first setting up the project and design names,\nthe solver, and the version. The following code also creates an instance of the\n``Maxwell3d`` class named ``M3D``. \n\n"
      ]
    },
    {
      "cell_type": "code",
      "execution_count": null,
      "metadata": {
        "collapsed": false
      },
      "outputs": [],
      "source": [
        "project_name = \"COMPUMAG\"\ndesign_name = \"TEAM 3 Bath Plate\"\nSolver = \"EddyCurrent\"\ndesktop_version = \"2023.2\"\n\nm3d = pyaedt.Maxwell3d(\n    projectname=pyaedt.generate_unique_project_name(),\n    designname=design_name,\n    solution_type=Solver,\n    specified_version=desktop_version,\n    non_graphical=non_graphical,\n    new_desktop_session=True,\n)\nuom = m3d.modeler.model_units = \"mm\"\nmodeler = m3d.modeler"
      ]
    },
    {
      "cell_type": "markdown",
      "metadata": {},
      "source": [
        "## Add variable\nAdd a design variable named ``Coil_Position`` that you use later to adjust the\nposition of the coil.\n\n"
      ]
    },
    {
      "cell_type": "code",
      "execution_count": null,
      "metadata": {
        "collapsed": false
      },
      "outputs": [],
      "source": [
        "Coil_Position = -20\nm3d[\"Coil_Position\"] = str(Coil_Position) + uom  # Creates a design variable in Maxwell"
      ]
    },
    {
      "cell_type": "markdown",
      "metadata": {},
      "source": [
        "## Add material\nAdd a material named ``team3_aluminium`` for the ladder plate.\n\n"
      ]
    },
    {
      "cell_type": "code",
      "execution_count": null,
      "metadata": {
        "collapsed": false
      },
      "outputs": [],
      "source": [
        "mat = m3d.materials.add_material(\"team3_aluminium\")\nmat.conductivity = 32780000"
      ]
    },
    {
      "cell_type": "markdown",
      "metadata": {},
      "source": [
        "## Draw background region\nDraw a background region that uses the default properties for an air region.\n\n"
      ]
    },
    {
      "cell_type": "code",
      "execution_count": null,
      "metadata": {
        "collapsed": false
      },
      "outputs": [],
      "source": [
        "m3d.modeler.create_air_region(x_pos=100, y_pos=100, z_pos=100, x_neg=100, y_neg=100, z_neg=100)"
      ]
    },
    {
      "cell_type": "markdown",
      "metadata": {},
      "source": [
        "## Draw ladder plate and assign material\nDraw a ladder plate and assign it the newly created material ``team3_aluminium``.\n\n"
      ]
    },
    {
      "cell_type": "code",
      "execution_count": null,
      "metadata": {
        "collapsed": false
      },
      "outputs": [],
      "source": [
        "m3d.modeler.create_box(position=[-30, -55, 0], dimensions_list=[60, 110, -6.35], name=\"LadderPlate\",\n                       matname=\"team3_aluminium\")\nm3d.modeler.create_box(position=[-20, -35, 0], dimensions_list=[40, 30, -6.35], name=\"CutoutTool1\")\nm3d.modeler.create_box(position=[-20, 5, 0], dimensions_list=[40, 30, -6.35], name=\"CutoutTool2\")\nm3d.modeler.subtract(\"LadderPlate\", [\"CutoutTool1\", \"CutoutTool2\"], keep_originals=False)"
      ]
    },
    {
      "cell_type": "markdown",
      "metadata": {},
      "source": [
        "## Add mesh refinement to ladder plate\nAdd a mesh refinement to the ladder plate.\n\n"
      ]
    },
    {
      "cell_type": "code",
      "execution_count": null,
      "metadata": {
        "collapsed": false
      },
      "outputs": [],
      "source": [
        "m3d.mesh.assign_length_mesh(\"LadderPlate\", maxlength=3, maxel=None, meshop_name=\"Ladder_Mesh\")"
      ]
    },
    {
      "cell_type": "markdown",
      "metadata": {},
      "source": [
        "## Draw search coil and assign excitation\nDraw a search coil and assign it a ``stranded`` current excitation. \nThe stranded type forces the current density to be constant in the coil.\n\n"
      ]
    },
    {
      "cell_type": "code",
      "execution_count": null,
      "metadata": {
        "collapsed": false
      },
      "outputs": [],
      "source": [
        "m3d.modeler.create_cylinder(\n    cs_axis=\"Z\", position=[0, \"Coil_Position\", 15], radius=40, height=20, name=\"SearchCoil\", matname=\"copper\"\n)\nm3d.modeler.create_cylinder(\n    cs_axis=\"Z\", position=[0, \"Coil_Position\", 15], radius=20, height=20, name=\"Bore\", matname=\"copper\"\n)\nm3d.modeler.subtract(\"SearchCoil\", \"Bore\", keep_originals=False)\nm3d.modeler.section(\"SearchCoil\", \"YZ\")\nm3d.modeler.separate_bodies(\"SearchCoil_Section1\")\nm3d.modeler.delete(\"SearchCoil_Section1_Separate1\")\nm3d.assign_current(object_list=[\"SearchCoil_Section1\"], amplitude=1260, solid=False, name=\"SearchCoil_Excitation\")"
      ]
    },
    {
      "cell_type": "markdown",
      "metadata": {},
      "source": [
        "## Draw a line for plotting Bz\nDraw a line for plotting Bz later. Bz is the Z component of the flux\ndensity. The following code also adds a small diameter cylinder to refine the\nmesh locally around the line.\n\n"
      ]
    },
    {
      "cell_type": "code",
      "execution_count": null,
      "metadata": {
        "collapsed": false
      },
      "outputs": [],
      "source": [
        "Line_Points = [[\"0mm\", \"-55mm\", \"0.5mm\"], [\"0mm\", \"55mm\", \"0.5mm\"]]\nP1 = modeler.create_polyline(position_list=Line_Points, name=\"Line_AB\")\nP2 = modeler.create_polyline(position_list=Line_Points, name=\"Line_AB_MeshRefinement\")\nP2.set_crosssection_properties(type=\"Circle\", width=\"0.5mm\")"
      ]
    },
    {
      "cell_type": "markdown",
      "metadata": {},
      "source": [
        "## Plot model\nPlot the model.\n\n"
      ]
    },
    {
      "cell_type": "code",
      "execution_count": null,
      "metadata": {
        "collapsed": false
      },
      "outputs": [],
      "source": [
        "m3d.plot(show=False, export_path=os.path.join(m3d.working_directory, \"Image.jpg\"), plot_air_objects=False)"
      ]
    },
    {
      "cell_type": "markdown",
      "metadata": {},
      "source": [
        "## Add Maxwell 3D setup\nAdd a Maxwell 3D setup with frequency points at 50 Hz and 200 Hz.\n\n"
      ]
    },
    {
      "cell_type": "code",
      "execution_count": null,
      "metadata": {
        "collapsed": false
      },
      "outputs": [],
      "source": [
        "Setup = m3d.create_setup(setupname=\"Setup1\")\nSetup.props[\"Frequency\"] = \"200Hz\"\nSetup.props[\"HasSweepSetup\"] = True\nSetup.add_eddy_current_sweep(range_type=\"LinearStep\", start=50, end=200, count=150, clear=True)"
      ]
    },
    {
      "cell_type": "markdown",
      "metadata": {},
      "source": [
        "## Adjust eddy effects\nAdjust eddy effects for the ladder plate and the search coil. The setting for\neddy effect is ignored for the stranded conductor type used in the search coil.\n\n"
      ]
    },
    {
      "cell_type": "code",
      "execution_count": null,
      "metadata": {
        "collapsed": false
      },
      "outputs": [],
      "source": [
        "m3d.eddy_effects_on([\"LadderPlate\"], activate_eddy_effects=True, activate_displacement_current=True)\nm3d.eddy_effects_on([\"SearchCoil\"], activate_eddy_effects=False, activate_displacement_current=True)"
      ]
    },
    {
      "cell_type": "markdown",
      "metadata": {},
      "source": [
        "## Add linear parametric sweep\nAdd a linear parametric sweep for the two coil positions.\n\n"
      ]
    },
    {
      "cell_type": "code",
      "execution_count": null,
      "metadata": {
        "collapsed": false
      },
      "outputs": [],
      "source": [
        "sweepname = \"CoilSweep\"\nparam = m3d.parametrics.add(\"Coil_Position\", -20, 0, 20, \"LinearStep\", parametricname=sweepname)\nparam[\"SaveFields\"] = True\nparam[\"CopyMesh\"] = False\nparam[\"SolveWithCopiedMeshOnly\"] = True\n\n# Solve parametric sweep\n# ~~~~~~~~~~~~~~~~~~~~~~\n# Solve the parametric sweep directly so that results of all variations are available.\n\nm3d.analyze_setup(sweepname)"
      ]
    },
    {
      "cell_type": "markdown",
      "metadata": {},
      "source": [
        "## Create expression for Bz\nCreate an expression for Bz using the fields calculator.\n\n"
      ]
    },
    {
      "cell_type": "code",
      "execution_count": null,
      "metadata": {
        "collapsed": false
      },
      "outputs": [],
      "source": [
        "Fields = m3d.odesign.GetModule(\"FieldsReporter\")\nFields.EnterQty(\"B\")\nFields.CalcOp(\"ScalarZ\")\nFields.EnterScalar(1000)\nFields.CalcOp(\"*\")\nFields.CalcOp(\"Smooth\")\nFields.AddNamedExpression(\"Bz\", \"Fields\")"
      ]
    },
    {
      "cell_type": "markdown",
      "metadata": {},
      "source": [
        "## Plot mag(Bz) as a function of frequency\nPlot mag(Bz) as a function of frequency for both coil positions.\n\n"
      ]
    },
    {
      "cell_type": "code",
      "execution_count": null,
      "metadata": {
        "collapsed": false
      },
      "outputs": [],
      "source": [
        "variations = {\"Distance\": [\"All\"], \"Freq\": [\"All\"], \"Phase\": [\"0deg\"], \"Coil_Position\": [\"-20mm\"]}\nm3d.post.create_report(\n    expressions=\"mag(Bz)\",\n    report_category=\"Fields\",\n    context=\"Line_AB\",\n    variations=variations,\n    primary_sweep_variable=\"Distance\",\n    plotname=\"mag(Bz) Along 'Line_AB' Offset Coil\",\n)\n\nvariations = {\"Distance\": [\"All\"], \"Freq\": [\"All\"], \"Phase\": [\"0deg\"], \"Coil_Position\": [\"0mm\"]}\nm3d.post.create_report(\n    expressions=\"mag(Bz)\",\n    report_category=\"Fields\",\n    context=\"Line_AB\",\n    variations=variations,\n    primary_sweep_variable=\"Distance\",\n    plotname=\"mag(Bz) Along 'Line_AB' Coil\",\n)"
      ]
    },
    {
      "cell_type": "markdown",
      "metadata": {},
      "source": [
        "## Generate plot outside of AEDT\nGenerate the same plot outside AEDT.\n\n"
      ]
    },
    {
      "cell_type": "code",
      "execution_count": null,
      "metadata": {
        "collapsed": false
      },
      "outputs": [],
      "source": [
        "variations = {\"Distance\": [\"All\"], \"Freq\": [\"All\"], \"Phase\": [\"0deg\"], \"Coil_Position\": [\"All\"]}\n\nsolutions = m3d.post.get_solution_data(\n    expressions=\"mag(Bz)\",\n    report_category=\"Fields\",\n    context=\"Line_AB\",\n    variations=variations,\n    primary_sweep_variable=\"Distance\",\n)"
      ]
    },
    {
      "cell_type": "markdown",
      "metadata": {},
      "source": [
        "## Set up sweep value and plot solution\nSet up a sweep value and plot the solution.\n\n"
      ]
    },
    {
      "cell_type": "code",
      "execution_count": null,
      "metadata": {
        "collapsed": false
      },
      "outputs": [],
      "source": [
        "solutions.active_variation[\"Coil_Position\"] = -0.02\nsolutions.plot()"
      ]
    },
    {
      "cell_type": "markdown",
      "metadata": {},
      "source": [
        "## Change sweep value and plot solution\nChange the sweep value and plot the solution again.\n\n"
      ]
    },
    {
      "cell_type": "code",
      "execution_count": null,
      "metadata": {
        "collapsed": false
      },
      "outputs": [],
      "source": [
        "solutions.active_variation[\"Coil_Position\"] = 0\nsolutions.plot()"
      ]
    },
    {
      "cell_type": "markdown",
      "metadata": {},
      "source": [
        "## Plot induced current density on surface of ladder plate\nPlot the induced current density, ``\"Mag_J\"``, on the surface of the ladder plate.\n\n"
      ]
    },
    {
      "cell_type": "code",
      "execution_count": null,
      "metadata": {
        "collapsed": false
      },
      "outputs": [],
      "source": [
        "surflist = modeler.get_object_faces(\"LadderPlate\")\nintrinsic_dict = {\"Freq\": \"50Hz\", \"Phase\": \"0deg\"}\nm3d.post.create_fieldplot_surface(surflist, \"Mag_J\", intrinsincDict=intrinsic_dict, plot_name=\"Mag_J\")"
      ]
    },
    {
      "cell_type": "markdown",
      "metadata": {},
      "source": [
        "## Release AEDT\nRelease AEDT from the script engine, leaving both AEDT and the project open.\n\n"
      ]
    },
    {
      "cell_type": "code",
      "execution_count": null,
      "metadata": {
        "collapsed": false
      },
      "outputs": [],
      "source": [
        "m3d.release_desktop(True, True)"
      ]
    }
  ],
  "metadata": {
    "kernelspec": {
      "display_name": "Python 3",
      "language": "python",
      "name": "python3"
    },
    "language_info": {
      "codemirror_mode": {
        "name": "ipython",
        "version": 3
      },
      "file_extension": ".py",
      "mimetype": "text/x-python",
      "name": "python",
      "nbconvert_exporter": "python",
      "pygments_lexer": "ipython3",
      "version": "3.10.5"
    }
  },
  "nbformat": 4,
  "nbformat_minor": 0
}