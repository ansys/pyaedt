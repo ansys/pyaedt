{
  "cells": [
    {
      "cell_type": "markdown",
      "metadata": {},
      "source": [
        "\n# General: configuration files\nThis example shows how you can use PyAEDT to export configuration files and re-use\nthem to import in a new project. A configuration file is supported by these applications:\n\n* HFSS\n* 2D Extractor and Q3D Extractor\n* Maxwell\n* Icepak (in AEDT)\n* Mechanical (in AEDT)\n\nThe following sections are covered:\n\n* Variables\n* Mesh operations (except Icepak)\n* Setup and optimetrics\n* Material properties\n* Object properties\n* Boundaries and excitations\n\nWhen a boundary is attached to a face, the tool tries to match it with a\n``FaceByPosition`` on the same object name on the target design. If, for\nany reason, this face position has changed or the object name in the target\ndesign has changed, the boundary fails to apply.\n"
      ]
    },
    {
      "cell_type": "markdown",
      "metadata": {},
      "source": [
        "## Perform required imports\nPerform required imports from PyAEDT.\n\n"
      ]
    },
    {
      "cell_type": "code",
      "execution_count": null,
      "metadata": {
        "collapsed": false
      },
      "outputs": [],
      "source": [
        "import os\nimport pyaedt"
      ]
    },
    {
      "cell_type": "markdown",
      "metadata": {},
      "source": [
        "## Set AEDT version\nSet AEDT version.\n\n"
      ]
    },
    {
      "cell_type": "code",
      "execution_count": null,
      "metadata": {
        "collapsed": false
      },
      "outputs": [],
      "source": [
        "aedt_version = \"2024.2\""
      ]
    },
    {
      "cell_type": "markdown",
      "metadata": {},
      "source": [
        "## Set non-graphical mode\nSet non-graphical mode. \nYou can set ``non_graphical`` either to ``True`` or ``False``.\n\n"
      ]
    },
    {
      "cell_type": "code",
      "execution_count": null,
      "metadata": {
        "collapsed": false
      },
      "outputs": [],
      "source": [
        "non_graphical = False"
      ]
    },
    {
      "cell_type": "markdown",
      "metadata": {},
      "source": [
        "## Open project\nDownload the project, open it, and save it to the temporary folder.\n\n"
      ]
    },
    {
      "cell_type": "code",
      "execution_count": null,
      "metadata": {
        "collapsed": false
      },
      "outputs": [],
      "source": [
        "project_full_name = pyaedt.downloads.download_icepak(pyaedt.generate_unique_folder_name(folder_name=\"Graphic_Card\"))\n\nipk = pyaedt.Icepak(project=project_full_name, version=aedt_version,\n                    new_desktop=True, non_graphical=non_graphical)\nipk.autosave_disable()"
      ]
    },
    {
      "cell_type": "markdown",
      "metadata": {},
      "source": [
        "## Create source blocks\nCreate a source block on the CPU and memories.\n\n"
      ]
    },
    {
      "cell_type": "code",
      "execution_count": null,
      "metadata": {
        "collapsed": false
      },
      "outputs": [],
      "source": [
        "ipk.create_source_block(object_name=\"CPU\", input_power=\"25W\")\nipk.create_source_block(object_name=[\"MEMORY1\", \"MEMORY1_1\"], input_power=\"5W\")"
      ]
    },
    {
      "cell_type": "markdown",
      "metadata": {},
      "source": [
        "## Assign boundaries\nAssign the opening and grille.\n\n"
      ]
    },
    {
      "cell_type": "code",
      "execution_count": null,
      "metadata": {
        "collapsed": false
      },
      "outputs": [],
      "source": [
        "region = ipk.modeler[\"Region\"]\nipk.assign_openings(air_faces=region.bottom_face_x.id)\nipk.assign_grille(air_faces=region.top_face_x.id, free_area_ratio=0.8)"
      ]
    },
    {
      "cell_type": "markdown",
      "metadata": {},
      "source": [
        "## Create setup\nCreate the setup. Properties can be set up from the ``setup`` object\nwith getters and setters. They don't have to perfectly match the property\nsyntax.\n\n"
      ]
    },
    {
      "cell_type": "code",
      "execution_count": null,
      "metadata": {
        "collapsed": false
      },
      "outputs": [],
      "source": [
        "setup1 = ipk.create_setup()\nsetup1[\"FlowRegime\"] = \"Turbulent\"\nsetup1[\"Max Iterations\"] = 5\nsetup1[\"Solver Type Pressure\"] = \"flex\"\nsetup1[\"Solver Type Temperature\"] = \"flex\"\nipk.save_project(r\"C:\\temp\\Graphic_card.aedt\")"
      ]
    },
    {
      "cell_type": "markdown",
      "metadata": {},
      "source": [
        "## Export project to step file\nExport the current project to the step file.\n\n"
      ]
    },
    {
      "cell_type": "code",
      "execution_count": null,
      "metadata": {
        "collapsed": false
      },
      "outputs": [],
      "source": [
        "filename = ipk.design_name\nfile_path = os.path.join(ipk.working_directory, filename + \".step\")\nipk.export_3d_model(file_name=filename, file_path=ipk.working_directory, file_format=\".step\", assignment_to_export=[],\n                    assignment_to_remove=[])"
      ]
    },
    {
      "cell_type": "markdown",
      "metadata": {},
      "source": [
        "## Export configuration files\nExport the configuration files. You can optionally disable the export and\nimport sections. Supported formats are json and toml files\n\n"
      ]
    },
    {
      "cell_type": "code",
      "execution_count": null,
      "metadata": {
        "collapsed": false
      },
      "outputs": [],
      "source": [
        "conf_file = ipk.configurations.export_config(os.path.join(ipk.working_directory, \"config.toml\"))\nipk.close_project()"
      ]
    },
    {
      "cell_type": "markdown",
      "metadata": {},
      "source": [
        "## Create project\nCreate an Icepak project and import the step.\n\n"
      ]
    },
    {
      "cell_type": "code",
      "execution_count": null,
      "metadata": {
        "collapsed": false
      },
      "outputs": [],
      "source": [
        "app = pyaedt.Icepak(project=\"new_proj_Ipk\")\napp.modeler.import_3d_cad(file_path)"
      ]
    },
    {
      "cell_type": "markdown",
      "metadata": {},
      "source": [
        "## Import and apply configuration file\nImport and apply the configuration file. You can apply all or part of the\nJSON file that you import using options in the ``configurations`` object.\n\n"
      ]
    },
    {
      "cell_type": "code",
      "execution_count": null,
      "metadata": {
        "collapsed": false
      },
      "outputs": [],
      "source": [
        "out = app.configurations.import_config(conf_file)\napp.configurations.results.global_import_success"
      ]
    },
    {
      "cell_type": "markdown",
      "metadata": {},
      "source": [
        "## Close project\nClose the project.\n\n"
      ]
    },
    {
      "cell_type": "code",
      "execution_count": null,
      "metadata": {
        "collapsed": false
      },
      "outputs": [],
      "source": [
        "app.release_desktop()"
      ]
    }
  ],
  "metadata": {
    "kernelspec": {
      "display_name": "Python 3",
      "language": "python",
      "name": "python3"
    },
    "language_info": {
      "codemirror_mode": {
        "name": "ipython",
        "version": 3
      },
      "file_extension": ".py",
      "mimetype": "text/x-python",
      "name": "python",
      "nbconvert_exporter": "python",
      "pygments_lexer": "ipython3",
      "version": "3.10.9"
    }
  },
  "nbformat": 4,
  "nbformat_minor": 0
}