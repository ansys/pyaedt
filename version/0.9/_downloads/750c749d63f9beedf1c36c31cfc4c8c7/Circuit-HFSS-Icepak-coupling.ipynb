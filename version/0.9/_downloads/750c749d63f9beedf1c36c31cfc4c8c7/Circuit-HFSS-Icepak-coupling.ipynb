{
  "cells": [
    {
      "cell_type": "markdown",
      "metadata": {},
      "source": [
        "\n# Multiphysics: Circuit-HFSS-Icepak coupling workflow\nThis example demonstrates how to create a two-way coupling between Circuit-HFSS designs and Icepak.\n\nLet's consider a design where some components are simulated in HFSS with a full 3D model,\nwhile others are simulated in Circuit as lumped elements. The electrical simulation is done by\nplacing the HFSS design into a Circuit design as a subcomponent and by connecting the lumped components to\nits ports.\n\nThe purpose of the workflow is to perform a thermal simulation of the Circuit-HFSS design,\ncreating a two-way coupling with Icepak that allows running multiple iterations.\nThe losses from both designs are accounted for: EM losses are evaluated by the HFSS solver\nand fed into Icepak via a direct link, while losses from the lumped components in the Circuit\ndesign are evaluated analytically and must be manually set into the Icepak boundary.\n\nOn the way back of the coupling, temperature information is handled differently for HFSS and Circuit.\nFor HFSS, a temperature map is exported from the Icepak design and used to create a 3D dataset;\nthen the material properties in the HFSS design are updated based on this dataset.\nFor Circuit, the average temperature of the lumped components is extracted from the Icepak design\nand used to update the temperature-dependent characteristics of the lumped components in Circuit.\n\nIn this example, the Circuit design contains only a resistor component,\nwith temperature-dependent resistance described by this formula: 0.162*(1+0.004*(TempE-TempE0)),\nwhere TempE is the current temperature and TempE0 is the ambient temperature.\nThe HFSS design includes only a cylinder with temperature-dependent material conductivity,\ndefined by a 2D dataset. The resistor and the cylinder have matching resistances.\n\n\nThe workflow steps are as follows:\n\n1. Solve the HFSS design.\n2. Refresh the dynamic link and solve the Circuit design.\n3. Push excitations (HFSS design results are scaled automatically).\n4. Extract the resistor's power loss value from the Circuit design.\n5. Set the resistor's power loss value in the Icepak design (block thermal condition).\n6. Solve the Icepak design.\n7. Export the temperature map from the Icepak design and create a new 3D dataset with it.\n8. Update material properties in the HFSS design based on the new dataset.\n9. Extract the average temperature of the resistor from the Icepak design.\n10. Update the resistance value in the Circuit design based on the new resistor average temperature.\n"
      ]
    },
    {
      "cell_type": "markdown",
      "metadata": {},
      "source": [
        "## Perform required imports\nPerform required imports.\n\n"
      ]
    },
    {
      "cell_type": "code",
      "execution_count": null,
      "metadata": {
        "collapsed": false
      },
      "outputs": [],
      "source": [
        "from pyaedt import Circuit\nfrom pyaedt import Hfss\nfrom pyaedt import Icepak\nfrom pyaedt import downloads\nimport os"
      ]
    },
    {
      "cell_type": "markdown",
      "metadata": {},
      "source": [
        "## Download and open project\nDownload the project archive. Save it to the temporary folder.\n\n"
      ]
    },
    {
      "cell_type": "code",
      "execution_count": null,
      "metadata": {
        "collapsed": false
      },
      "outputs": [],
      "source": [
        "project_path = downloads.download_file(\"circuit_hfss_icepak\", \"Circuit-HFSS-Icepak-workflow.aedtz\")"
      ]
    },
    {
      "cell_type": "markdown",
      "metadata": {},
      "source": [
        "Open the project and get the Circuit design.\n\n"
      ]
    },
    {
      "cell_type": "code",
      "execution_count": null,
      "metadata": {
        "collapsed": false
      },
      "outputs": [],
      "source": [
        "circuit = Circuit(\n    project=project_path,\n    new_desktop_session=True,\n    specified_version=242,\n    non_graphical=False\n)"
      ]
    },
    {
      "cell_type": "markdown",
      "metadata": {},
      "source": [
        "Set the name of the resistor in Circuit.\n\n"
      ]
    },
    {
      "cell_type": "code",
      "execution_count": null,
      "metadata": {
        "collapsed": false
      },
      "outputs": [],
      "source": [
        "resistor_body_name = \"Circuit_Component\""
      ]
    },
    {
      "cell_type": "markdown",
      "metadata": {},
      "source": [
        "Set the name of the cylinder body in HFSS.\n\n"
      ]
    },
    {
      "cell_type": "code",
      "execution_count": null,
      "metadata": {
        "collapsed": false
      },
      "outputs": [],
      "source": [
        "device3D_body_name = \"Device_3D\""
      ]
    },
    {
      "cell_type": "markdown",
      "metadata": {},
      "source": [
        "## Get the Hfss design and prepare the material for the thermal link\nGet the Hfss design.\n\n"
      ]
    },
    {
      "cell_type": "code",
      "execution_count": null,
      "metadata": {
        "collapsed": false
      },
      "outputs": [],
      "source": [
        "hfss = Hfss(project=circuit.project_name)"
      ]
    },
    {
      "cell_type": "markdown",
      "metadata": {},
      "source": [
        "Create a new material that will be used to set the temperature map on it.\nThe material is created by duplicating the material assigned to the cylinder.\n\n"
      ]
    },
    {
      "cell_type": "code",
      "execution_count": null,
      "metadata": {
        "collapsed": false
      },
      "outputs": [],
      "source": [
        "material_name = hfss.modeler.objects_by_name[device3D_body_name].material_name\nnew_material_name = material_name + \"_dataset\"\nnew_material = hfss.materials.duplicate_material(material=material_name, name=new_material_name)"
      ]
    },
    {
      "cell_type": "markdown",
      "metadata": {},
      "source": [
        "Save the conductivity value. It will be used later in the iterations.\n\n"
      ]
    },
    {
      "cell_type": "code",
      "execution_count": null,
      "metadata": {
        "collapsed": false
      },
      "outputs": [],
      "source": [
        "old_conductivity = new_material.conductivity.value"
      ]
    },
    {
      "cell_type": "markdown",
      "metadata": {},
      "source": [
        "Assign the new material to the cylinder object in HFSS.\n\n"
      ]
    },
    {
      "cell_type": "code",
      "execution_count": null,
      "metadata": {
        "collapsed": false
      },
      "outputs": [],
      "source": [
        "hfss.modeler.objects_by_name[device3D_body_name].material_name = new_material_name"
      ]
    },
    {
      "cell_type": "markdown",
      "metadata": {},
      "source": [
        "Since this material has a high conductivity, HFSS automatically deactivate \"Solve Inside\".\nIt needs to be set back on as we need to evaluate the losses inside the cylinder.\n\n"
      ]
    },
    {
      "cell_type": "code",
      "execution_count": null,
      "metadata": {
        "collapsed": false
      },
      "outputs": [],
      "source": [
        "hfss.modeler.objects_by_name[device3D_body_name].solve_inside = True"
      ]
    },
    {
      "cell_type": "markdown",
      "metadata": {},
      "source": [
        "## Get the Icepak design\nGet the Icepak design.\n\n"
      ]
    },
    {
      "cell_type": "code",
      "execution_count": null,
      "metadata": {
        "collapsed": false
      },
      "outputs": [],
      "source": [
        "icepak = Icepak(project=circuit.project_name)"
      ]
    },
    {
      "cell_type": "markdown",
      "metadata": {},
      "source": [
        "## Set the parameters for the iterations\nSet the initial temperature to a value closer to the final one, to speed up the convergence.\n\n"
      ]
    },
    {
      "cell_type": "code",
      "execution_count": null,
      "metadata": {
        "collapsed": false
      },
      "outputs": [],
      "source": [
        "circuit[\"TempE\"] = \"300cel\""
      ]
    },
    {
      "cell_type": "markdown",
      "metadata": {},
      "source": [
        "Set the maximum number of iterations.\n\n"
      ]
    },
    {
      "cell_type": "code",
      "execution_count": null,
      "metadata": {
        "collapsed": false
      },
      "outputs": [],
      "source": [
        "max_iter = 5"
      ]
    },
    {
      "cell_type": "markdown",
      "metadata": {},
      "source": [
        "Set the residual convergence criteria to stop the iterations.\n\n"
      ]
    },
    {
      "cell_type": "code",
      "execution_count": null,
      "metadata": {
        "collapsed": false
      },
      "outputs": [],
      "source": [
        "temp_residual_limit = 0.02\nloss_residual_limit = 0.02"
      ]
    },
    {
      "cell_type": "markdown",
      "metadata": {},
      "source": [
        "This variable will contain the iteration statistics.\n\n"
      ]
    },
    {
      "cell_type": "code",
      "execution_count": null,
      "metadata": {
        "collapsed": false
      },
      "outputs": [],
      "source": [
        "stats = {}"
      ]
    },
    {
      "cell_type": "markdown",
      "metadata": {},
      "source": [
        "## Start the iterations\nEach for loop is a complete two-way iteration.\nThe code is thoroughly commented.\nPlease read the inline comments carefully for a full understanding.\n\n"
      ]
    },
    {
      "cell_type": "code",
      "execution_count": null,
      "metadata": {
        "collapsed": false
      },
      "outputs": [],
      "source": [
        "for cp_iter in range(1, max_iter + 1):\n    stats[cp_iter] = {}\n\n\n    # Step 1: Solve the Hfss design\n    # ~~~~~~~~~~~~~~~~~~~~~~~~~~~~~\n    # Solve the Hfss design.\n    hfss.analyze()\n\n\n    # Step 2: Refresh the dynamic link and solve the Circuit design\n    # ~~~~~~~~~~~~~~~~~~~~~~~~~~~~~~~~~~~~~~~~~~~~~~~~~~~~~~~~~~~~~\n    # Find the HFSS subcomponent in Circuit.\n    # This information is required by refresh_dynamic_link and push_excitations methods.\n    hfss_component_name = \"\"\n    hfss_instance_name = \"\"\n    for component in circuit.modeler.components.components.values():\n        if (\n            component.model_name is not None\n            and hfss.design_name in component.model_name\n        ):\n            hfss_component_name = component.model_name\n            hfss_instance_name = component.refdes\n            break\n    if not hfss_component_name or not hfss_instance_name:\n        raise \"Hfss component not found in Circuit design\"\n\n    # Refresh the dynamic link.\n    circuit.modeler.schematic.refresh_dynamic_link(name=hfss_component_name)\n\n    # Solve the Circuit design.\n    circuit.analyze()\n\n\n    # Step 3: Push excitations (HFSS design results are scaled automatically)\n    # ~~~~~~~~~~~~~~~~~~~~~~~~~~~~~~~~~~~~~~~~~~~~~~~~~~~~~~~~~~~~~~~~~~~~~~~\n    # Push excitations.\n    circuit.push_excitations(instance=hfss_instance_name)\n\n\n    # Step 4: Extract the resistor's power loss value from the Circuit design\n    # ~~~~~~~~~~~~~~~~~~~~~~~~~~~~~~~~~~~~~~~~~~~~~~~~~~~~~~~~~~~~~~~~~~~~~~~\n    # Evaluate power loss on resistor.\n    r_losses = circuit.post.get_solution_data(expressions=\"0.5*mag(I(I1)*V(V1))\").data_magnitude()[0]\n\n    # Save the losses in the stats.\n    stats[cp_iter][\"losses\"] = r_losses\n\n\n    # Step 5: Set the resistor's power loss value in the Icepak design (block thermal condition)\n    # ~~~~~~~~~~~~~~~~~~~~~~~~~~~~~~~~~~~~~~~~~~~~~~~~~~~~~~~~~~~~~~~~~~~~~~~~~~~~~~~~~~~~~~~~~~\n    # Find the Solid Block boundary in Icepak.\n    boundaries = icepak.boundaries\n    boundary = None\n    for bb in boundaries:\n        if bb.name == \"Block1\":\n            boundary = bb\n            break\n    if not boundary:\n        raise \"Block boundary not defined in Icepak design.\"\n\n    # Set the resistor's power loss in the Block Boundary.\n    boundary.props[\"Total Power\"] = str(r_losses) + \"W\"\n\n\n    # Step 6: Solve the Icepak design\n    # ~~~~~~~~~~~~~~~~~~~~~~~~~~~~~~~\n    # Clear linked data, otherwise Icepak continues to run simulation with the initial losses.\n    icepak.clear_linked_data()\n\n    # Solve the Icepak design.\n    icepak.analyze()\n\n\n    # Step 7: Export the temperature map from the Icepak and create a new 3D dataset with it\n    # ~~~~~~~~~~~~~~~~~~~~~~~~~~~~~~~~~~~~~~~~~~~~~~~~~~~~~~~~~~~~~~~~~~~~~~~~~~~~~~~~~~~~~~\n    # Export the temperature map into a file.\n    fld_filename = os.path.join(\n        icepak.working_directory, f\"temperature_map_{cp_iter}.fld\"\n    )\n    icepak.post.export_field_file(\n        quantity=\"Temp\", output_file=fld_filename, assignment=\"AllObjects\", objects_type=\"Vol\"\n    )\n\n    # Convert the fld file format into a dataset tab file compatible with dataset import.\n    # The existing header lines must be removed and replaced with a single header line\n    # containing the value unit.\n    with open(fld_filename, \"r\") as f:\n        lines = f.readlines()\n\n    _ = lines.pop(0)\n    _ = lines.pop(0)\n    lines.insert(0, '\"X\"    \"Y\" \"Z\" \"cel\"\\n')\n\n    basename, _ = os.path.splitext(fld_filename)\n    tab_filename = basename + \"_dataset.tab\"\n\n    with open(tab_filename, \"w\") as f:\n        f.writelines(lines)\n\n    # Import the 3D dataset.\n    dataset_name = f\"temp_map_step_{cp_iter}\"\n    hfss.import_dataset3d(\n        input_file=tab_filename, name=dataset_name, is_project_dataset=True\n    )\n\n\n    # Step 8: Update material properties in the HFSS design based on the new dataset\n    # ~~~~~~~~~~~~~~~~~~~~~~~~~~~~~~~~~~~~~~~~~~~~~~~~~~~~~~~~~~~~~~~~~~~~~~~~~~~~~~\n    # Set the new conductivity value.\n    new_material.conductivity.value = (\n        f\"{old_conductivity}*Pwl($TempDepCond,clp(${dataset_name},X,Y,Z))\"\n    )\n\n    # Switch off the thermal modifier of the material, if any.\n    new_material.conductivity.thermalmodifier = None\n\n\n    # Step 9: Extract the average temperature of the resistor from the Icepak design\n    # ~~~~~~~~~~~~~~~~~~~~~~~~~~~~~~~~~~~~~~~~~~~~~~~~~~~~~~~~~~~~~~~~~~~~~~~~~~~~~~\n    # Get the mean temp value on the high resistivity object.\n    mean_temp = icepak.post.get_scalar_field_value(\n        quantity=\"Temp\", scalar_function=\"Mean\", object_name=resistor_body_name\n    )\n\n    # Save the temperature in the iteration stats.\n    stats[cp_iter][\"temp\"] = mean_temp\n\n\n    # Step 10: Update the resistance value in the Circuit design\n    # ~~~~~~~~~~~~~~~~~~~~~~~~~~~~~~~~~~~~~~~~~~~~~~~~~~~~~~~~~~\n    # Set this temperature in circuit in variable TempE.\n    circuit[\"TempE\"] = f\"{mean_temp}cel\"\n\n    # Save the project\n    circuit.save_project()\n\n\n    # Check the convergence of the iteration\n    # ~~~~~~~~~~~~~~~~~~~~~~~~~~~~~~~~~~~~~~\n    # Evaluate the relative residuals on temperature and losses.\n    # If the residuals are smaller than the threshold, set the convergence flag to `True`.\n    # Residuals are calculated starting from the second iteration.\n    converged = False\n    stats[cp_iter][\"converged\"] = converged\n    if cp_iter > 1:\n        delta_temp = abs(stats[cp_iter][\"temp\"] - stats[cp_iter-1][\"temp\"]) / abs(stats[cp_iter-1][\"temp\"])\n        delta_losses = abs(stats[cp_iter][\"losses\"] - stats[cp_iter-1][\"losses\"]) / abs(stats[cp_iter-1][\"losses\"])\n        if delta_temp <= temp_residual_limit and delta_losses <= loss_residual_limit:\n            converged = True\n            stats[cp_iter][\"converged\"] = converged\n    else:\n        delta_temp = None\n        delta_losses = None\n\n    # Save the relative residuals in the iteration stats.\n    stats[cp_iter][\"delta_temp\"] = delta_temp\n    stats[cp_iter][\"delta_losses\"] = delta_losses\n\n    # Exit from the loop if the convergence is reached.\n    if converged:\n        break"
      ]
    },
    {
      "cell_type": "markdown",
      "metadata": {},
      "source": [
        "## Print the overall statistics\nPrint the overall statistics for the multiphysic loop.\n\n"
      ]
    },
    {
      "cell_type": "code",
      "execution_count": null,
      "metadata": {
        "collapsed": false
      },
      "outputs": [],
      "source": [
        "for i in stats:\n    txt = \"yes\" if stats[i][\"converged\"] else \"no\"\n    delta_temp = f\"{stats[i]['delta_temp']:.4f}\" if stats[i]['delta_temp'] is not None else \"None\"\n    delta_losses = f\"{stats[i]['delta_losses']:.4f}\" if stats[i]['delta_losses'] is not None else \"None\"\n    print(\n        f\"Step {i}: temp={stats[i]['temp']:.3f}, losses={stats[i]['losses']:.3f}, \"\n        f\"delta_temp={delta_temp}, delta_losses={delta_losses}, \"\n        f\"converged={txt}\"\n    )"
      ]
    },
    {
      "cell_type": "markdown",
      "metadata": {},
      "source": [
        "Close Electronics Desktop\n\n"
      ]
    },
    {
      "cell_type": "code",
      "execution_count": null,
      "metadata": {
        "collapsed": false
      },
      "outputs": [],
      "source": [
        "circuit.release_desktop()"
      ]
    }
  ],
  "metadata": {
    "kernelspec": {
      "display_name": "Python 3",
      "language": "python",
      "name": "python3"
    },
    "language_info": {
      "codemirror_mode": {
        "name": "ipython",
        "version": 3
      },
      "file_extension": ".py",
      "mimetype": "text/x-python",
      "name": "python",
      "nbconvert_exporter": "python",
      "pygments_lexer": "ipython3",
      "version": "3.10.9"
    }
  },
  "nbformat": 4,
  "nbformat_minor": 0
}