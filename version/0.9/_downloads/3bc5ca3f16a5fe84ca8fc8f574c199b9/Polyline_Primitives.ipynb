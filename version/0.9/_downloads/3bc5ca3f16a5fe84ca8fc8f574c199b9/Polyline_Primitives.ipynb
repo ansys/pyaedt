{
  "cells": [
    {
      "cell_type": "markdown",
      "metadata": {},
      "source": [
        "\n# General: polyline creation\nThis example shows how you can use PyAEDT to create and manipulate polylines.\n"
      ]
    },
    {
      "cell_type": "markdown",
      "metadata": {},
      "source": [
        "## Perform required imports\nPerform required imports.\n\n"
      ]
    },
    {
      "cell_type": "code",
      "execution_count": null,
      "metadata": {
        "collapsed": false
      },
      "outputs": [],
      "source": [
        "import os\nimport pyaedt"
      ]
    },
    {
      "cell_type": "markdown",
      "metadata": {},
      "source": [
        "## Set AEDT version\nSet AEDT version.\n\n"
      ]
    },
    {
      "cell_type": "code",
      "execution_count": null,
      "metadata": {
        "collapsed": false
      },
      "outputs": [],
      "source": [
        "aedt_version = \"2024.2\""
      ]
    },
    {
      "cell_type": "markdown",
      "metadata": {},
      "source": [
        "## Set non-graphical mode\nSet non-graphical mode. \nYou can set ``non_graphical`` either to ``True`` or ``False``.\n\n"
      ]
    },
    {
      "cell_type": "code",
      "execution_count": null,
      "metadata": {
        "collapsed": false
      },
      "outputs": [],
      "source": [
        "non_graphical = False"
      ]
    },
    {
      "cell_type": "markdown",
      "metadata": {},
      "source": [
        "## Create Maxwell 3D object\nCreate a :class:`pyaedt.maxwell.Maxwell3d` object and set the unit type to ``\"mm\"``.\n\n"
      ]
    },
    {
      "cell_type": "code",
      "execution_count": null,
      "metadata": {
        "collapsed": false
      },
      "outputs": [],
      "source": [
        "M3D = pyaedt.Maxwell3d(solution_type=\"Transient\", design=\"test_polyline_3D\", version=aedt_version,\n                       new_desktop=True, non_graphical=non_graphical, )\nM3D.modeler.model_units = \"mm\"\nprim3D = M3D.modeler"
      ]
    },
    {
      "cell_type": "markdown",
      "metadata": {},
      "source": [
        "## Define variables\nDefine two design variables as parameters for the polyline objects.\n\n"
      ]
    },
    {
      "cell_type": "code",
      "execution_count": null,
      "metadata": {
        "collapsed": false
      },
      "outputs": [],
      "source": [
        "M3D[\"p1\"] = \"100mm\"\nM3D[\"p2\"] = \"71mm\""
      ]
    },
    {
      "cell_type": "markdown",
      "metadata": {},
      "source": [
        "## Input data\nInput data. All data for the polyline functions can be entered as either floating point\nvalues or strings. Floating point values are assumed to be in model units\n(``M3D.modeler.model_units``).\n\n"
      ]
    },
    {
      "cell_type": "code",
      "execution_count": null,
      "metadata": {
        "collapsed": false
      },
      "outputs": [],
      "source": [
        "test_points = [[\"0mm\", \"p1\", \"0mm\"], [\"-p1\", \"0mm\", \"0mm\"], [\"-p1/2\", \"-p1/2\", \"0mm\"], [\"0mm\", \"0mm\", \"0mm\"]]"
      ]
    },
    {
      "cell_type": "markdown",
      "metadata": {},
      "source": [
        "# Polyline primitives\nThe following examples are for creating polyline primitives.\n\n"
      ]
    },
    {
      "cell_type": "code",
      "execution_count": null,
      "metadata": {
        "collapsed": false
      },
      "outputs": [],
      "source": [
        "# Create line primitive\n# ~~~~~~~~~~~~~~~~~~~~~\n# Create a line primitive. The basic polyline command takes a list of positions\n# (``[X, Y, Z]`` coordinates) and creates a polyline object with one or more\n# segments. The supported segment types are ``Line``, ``Arc`` (3 points),\n# ``AngularArc`` (center-point + angle), and ``Spline``.\n\nP = prim3D.create_polyline(points=test_points[0:2], name=\"PL01_line\")\n\nprint(\"Created Polyline with name: {}\".format(prim3D.objects[P.id].name))\nprint(\"Segment types : {}\".format([s.type for s in P.segment_types]))\nprint(\"primitive id = {}\".format(P.id))"
      ]
    },
    {
      "cell_type": "markdown",
      "metadata": {},
      "source": [
        "## Create arc primitive\nCreate an arc primitive. The parameter ``position_list`` must contain at\nleast three position values. The first three position values are used.\n\n"
      ]
    },
    {
      "cell_type": "code",
      "execution_count": null,
      "metadata": {
        "collapsed": false
      },
      "outputs": [],
      "source": [
        "P = prim3D.create_polyline(points=test_points[0:3], segment_type=\"Arc\", name=\"PL02_arc\")\n\nprint(\"Created object with id {} and name {}.\".format(P.id, prim3D.objects[P.id].name))"
      ]
    },
    {
      "cell_type": "markdown",
      "metadata": {},
      "source": [
        "## Create spline primitive\nCreate a spline primitive. Defining the segment using a ``PolylineSegment``\nobject allows you to provide additional input parameters for the spine, such\nas the number of points (in this case 4). The parameter ``position_list``\nmust contain at least four position values.\n\n"
      ]
    },
    {
      "cell_type": "code",
      "execution_count": null,
      "metadata": {
        "collapsed": false
      },
      "outputs": [],
      "source": [
        "P = prim3D.create_polyline(points=test_points, segment_type=prim3D.polyline_segment(\"Spline\", num_points=4),\n                           name=\"PL03_spline_4pt\")"
      ]
    },
    {
      "cell_type": "markdown",
      "metadata": {},
      "source": [
        "## Create center-point arc primitive\nCreate a center-point arc primitive. A center-point arc segment is defined\nby a starting point, a center point, and an angle of rotation around the\ncenter point. The rotation occurs in a plane parallel to the XY, YZ, or ZX\nplane of the active coordinate system. The starting point and the center point\nmust therefore have one coordinate value (X, Y, or Z) with the same value.\n\nHere ``start-point`` and ``center-point`` have a common Z coordinate, ``\"0mm\"``.\nThe curve is therefore rotated in the XY plane with Z = ``\"0mm\"``.\n\n"
      ]
    },
    {
      "cell_type": "code",
      "execution_count": null,
      "metadata": {
        "collapsed": false
      },
      "outputs": [],
      "source": [
        "start_point = [100, 100, 0]\ncenter_point = [0, 0, 0]\nP = prim3D.create_polyline(points=[start_point],\n                           segment_type=prim3D.polyline_segment(\"AngularArc\", arc_center=center_point,\n                                                                arc_angle=\"30deg\"), name=\"PL04_center_point_arc\")"
      ]
    },
    {
      "cell_type": "markdown",
      "metadata": {},
      "source": [
        "Here ``start_point`` and ``center_point`` have the same values for the Y and\nZ coordinates, so the plane or rotation could be either XY or ZX.\nFor these special cases when the rotation plane is ambiguous, you can specify\nthe plane explicitly.\n\n"
      ]
    },
    {
      "cell_type": "code",
      "execution_count": null,
      "metadata": {
        "collapsed": false
      },
      "outputs": [],
      "source": [
        "start_point = [100, 0, 0]\ncenter_point = [0, 0, 0]\nP = prim3D.create_polyline(points=[start_point],\n                           segment_type=prim3D.polyline_segment(\"AngularArc\", arc_center=center_point,\n                                                                arc_angle=\"30deg\", arc_plane=\"XY\"),\n                           name=\"PL04_center_point_arc_rot_XY\")\nP = prim3D.create_polyline(points=[start_point],\n                           segment_type=prim3D.polyline_segment(\"AngularArc\", arc_center=center_point,\n                                                                arc_angle=\"30deg\", arc_plane=\"ZX\"),\n                           name=\"PL04_center_point_arc_rot_ZX\")"
      ]
    },
    {
      "cell_type": "markdown",
      "metadata": {},
      "source": [
        "Compound polylines\n------------------ \nYou can use a list of points in a single command to create a multi-segment\npolyline.\n\nBy default, if no specification of the type of segments is given, all points\nare connected by line segments.\n\n"
      ]
    },
    {
      "cell_type": "code",
      "execution_count": null,
      "metadata": {
        "collapsed": false
      },
      "outputs": [],
      "source": [
        "P = prim3D.create_polyline(points=test_points, name=\"PL06_segmented_compound_line\")"
      ]
    },
    {
      "cell_type": "markdown",
      "metadata": {},
      "source": [
        "You can specify the segment type with the parameter ``segment_type``.\nIn this case, you must specify that the four input points in ``position_list``\nare to be connected as a line segment followed by a 3-point arc segment.\n\n"
      ]
    },
    {
      "cell_type": "code",
      "execution_count": null,
      "metadata": {
        "collapsed": false
      },
      "outputs": [],
      "source": [
        "P = prim3D.create_polyline(points=test_points, segment_type=[\"Line\", \"Arc\"], name=\"PL05_compound_line_arc\")"
      ]
    },
    {
      "cell_type": "markdown",
      "metadata": {},
      "source": [
        "The parameter ``close_surface`` ensures that the polyline starting point and\nending point are the same. If necessary, you can add an additional line\nsegment to achieve this.\n\n"
      ]
    },
    {
      "cell_type": "code",
      "execution_count": null,
      "metadata": {
        "collapsed": false
      },
      "outputs": [],
      "source": [
        "P = prim3D.create_polyline(points=test_points, close_surface=True, name=\"PL07_segmented_compound_line_closed\")"
      ]
    },
    {
      "cell_type": "markdown",
      "metadata": {},
      "source": [
        "The parameter ``cover_surface=True`` also performs the modeler command\n``cover_surface``. Note that specifying ``cover_surface=True`` automatically\nresults in the polyline being closed.\n\n"
      ]
    },
    {
      "cell_type": "code",
      "execution_count": null,
      "metadata": {
        "collapsed": false
      },
      "outputs": [],
      "source": [
        "P = prim3D.create_polyline(points=test_points, cover_surface=True, name=\"SPL01_segmented_compound_line\")"
      ]
    },
    {
      "cell_type": "markdown",
      "metadata": {},
      "source": [
        "# Compound lines\nThe following examples are for inserting compound lines.\n\n## Insert line segment\nInsert a line segment starting at vertex 1 ``[\"100mm\", \"0mm\", \"0mm\"]``\nof an existing polyline and ending at some new point ``[\"90mm\", \"20mm\", \"0mm\"].``\nBy numerical comparison of the starting point with the existing vertices of the\noriginal polyline object, it is determined automatically that the segment is\ninserted after the first segment of the original polyline.\n\n"
      ]
    },
    {
      "cell_type": "code",
      "execution_count": null,
      "metadata": {
        "collapsed": false
      },
      "outputs": [],
      "source": [
        "P = prim3D.create_polyline(points=test_points, close_surface=True, name=\"PL08_segmented_compound_insert_segment\")\n\np2 = P.points[1]\ninsert_point = [\"-100mm\", \"20mm\", \"0mm\"]\n\nP.insert_segment(points=[insert_point, p2])"
      ]
    },
    {
      "cell_type": "markdown",
      "metadata": {},
      "source": [
        "## Insert compound line with insert curve\nInsert a compound line starting a line segment at vertex 1 ``[\"100mm\", \"0mm\", \"0mm\"]``\nof an existing polyline and end at some new point ``[\"90mm\", \"20mm\", \"0mm\"]``.\nBy numerical comparison of the starting point, it is determined automatically\nthat the segment is inserted after the first segment of the original polyline.\n\n"
      ]
    },
    {
      "cell_type": "code",
      "execution_count": null,
      "metadata": {
        "collapsed": false
      },
      "outputs": [],
      "source": [
        "P = prim3D.create_polyline(points=test_points, close_surface=False, name=\"PL08_segmented_compound_insert_arc\")\n\nstart_point = P.vertex_positions[1]\ninsert_point1 = [\"90mm\", \"20mm\", \"0mm\"]\ninsert_point2 = [40, 40, 0]\n\nP.insert_segment(points=[start_point, insert_point1, insert_point2], segment=\"Arc\")"
      ]
    },
    {
      "cell_type": "markdown",
      "metadata": {},
      "source": [
        "## Insert compound line at end of a center-point arc\nInsert a compound line at the end of a center-point arc (``type=\"AngularArc\"``).\nThis is a special case.\n\nStep 1: Draw a center-point arc.\n\n"
      ]
    },
    {
      "cell_type": "code",
      "execution_count": null,
      "metadata": {
        "collapsed": false
      },
      "outputs": [],
      "source": [
        "start_point = [2200.0, 0.0, 1200.0]\narc_center_1 = [1400, 0, 800]\narc_angle_1 = \"43.47deg\"\n\nP = prim3D.create_polyline(points=[start_point],\n                           segment_type=prim3D.polyline_segment(type=\"AngularArc\", arc_angle=arc_angle_1,\n                                                                arc_center=arc_center_1), name=\"First_Arc\")"
      ]
    },
    {
      "cell_type": "markdown",
      "metadata": {},
      "source": [
        "Step 2: Insert a line segment at the end of the arc with a specified end point.\n\n"
      ]
    },
    {
      "cell_type": "code",
      "execution_count": null,
      "metadata": {
        "collapsed": false
      },
      "outputs": [],
      "source": [
        "start_of_line_segment = P.end_point\nend_of_line_segment = [3600, 200, 30]\n\nP.insert_segment(points=[start_of_line_segment, end_of_line_segment])"
      ]
    },
    {
      "cell_type": "markdown",
      "metadata": {},
      "source": [
        "Step 3: Append a center-point arc segment to the line object.\n\n"
      ]
    },
    {
      "cell_type": "code",
      "execution_count": null,
      "metadata": {
        "collapsed": false
      },
      "outputs": [],
      "source": [
        "arc_angle_2 = \"39.716deg\"\narc_center_2 = [3400, 200, 3800]\n\nP.insert_segment(points=[end_of_line_segment],\n                 segment=prim3D.polyline_segment(type=\"AngularArc\", arc_center=arc_center_2, arc_angle=arc_angle_2))"
      ]
    },
    {
      "cell_type": "markdown",
      "metadata": {},
      "source": [
        "You can use the compound polyline definition to complete all three steps in\na single step.\n\n"
      ]
    },
    {
      "cell_type": "code",
      "execution_count": null,
      "metadata": {
        "collapsed": false
      },
      "outputs": [],
      "source": [
        "prim3D.create_polyline(points=[start_point, end_of_line_segment], segment_type=[\n    prim3D.polyline_segment(type=\"AngularArc\", arc_angle=\"43.47deg\", arc_center=arc_center_1),\n    prim3D.polyline_segment(type=\"Line\"),\n    prim3D.polyline_segment(type=\"AngularArc\", arc_angle=arc_angle_2, arc_center=arc_center_2),\n], name=\"Compound_Polyline_One_Command\")"
      ]
    },
    {
      "cell_type": "markdown",
      "metadata": {},
      "source": [
        "## Insert two 3-point arcs forming a circle and covered\nInsert two 3-point arcs forming a circle and covered.\nNote that the last point of the second arc segment is not defined in\nthe position list.\n\n"
      ]
    },
    {
      "cell_type": "code",
      "execution_count": null,
      "metadata": {
        "collapsed": false
      },
      "outputs": [],
      "source": [
        "P = prim3D.create_polyline(\n    points=[[34.1004, 14.1248, 0], [27.646, 16.7984, 0], [24.9725, 10.3439, 0], [31.4269, 7.6704, 0]],\n    segment_type=[\"Arc\", \"Arc\"], cover_surface=True, close_surface=True, name=\"Rotor_Subtract_25_0\", material=\"vacuum\")"
      ]
    },
    {
      "cell_type": "markdown",
      "metadata": {},
      "source": [
        "Here is an example of a complex polyline where the number of points is\ninsufficient to populate the requested segments. This results in an\n``IndexError`` that PyAEDT catches silently. The return value of the command\nis ``False``, which can be caught at the app level.  While this example might\nnot be so useful in a Jupyter Notebook, it is important for unit tests.\n\n"
      ]
    },
    {
      "cell_type": "code",
      "execution_count": null,
      "metadata": {
        "collapsed": false
      },
      "outputs": [],
      "source": [
        "MDL_points = [\n    [\"67.1332mm\", \"2.9901mm\", \"0mm\"],\n    [\"65.9357mm\", \"2.9116mm\", \"0mm\"],\n    [\"65.9839mm\", \"1.4562mm\", \"0mm\"],\n    [\"66mm\", \"0mm\", \"0mm\"],\n    [\"99mm\", \"0mm\", \"0mm\"],\n    [\"98.788mm\", \"6.4749mm\", \"0mm\"],\n    [\"98.153mm\", \"12.9221mm\", \"0mm\"],\n    [\"97.0977mm\", \"19.3139mm\", \"0mm\"],\n]\n\n\nMDL_segments = [\"Line\", \"Arc\", \"Line\", \"Arc\", \"Line\"]\nreturn_value = prim3D.create_polyline(MDL_points, segment_type=MDL_segments, name=\"MDL_Polyline\")\nassert return_value  # triggers an error at the application error"
      ]
    },
    {
      "cell_type": "markdown",
      "metadata": {},
      "source": [
        "Here is an example that provides more points than the segment list requires.\nThis is valid usage. The remaining points are ignored.\n\n"
      ]
    },
    {
      "cell_type": "code",
      "execution_count": null,
      "metadata": {
        "collapsed": false
      },
      "outputs": [],
      "source": [
        "MDL_segments = [\"Line\", \"Arc\", \"Line\", \"Arc\"]\n\nP = prim3D.create_polyline(MDL_points, segment_type=MDL_segments, name=\"MDL_Polyline\")"
      ]
    },
    {
      "cell_type": "markdown",
      "metadata": {},
      "source": [
        "# Save project\nSave the project.\n\n"
      ]
    },
    {
      "cell_type": "code",
      "execution_count": null,
      "metadata": {
        "collapsed": false
      },
      "outputs": [],
      "source": [
        "project_dir = r\"C:\\temp\"\nproject_name = \"Polylines\"\nproject_file = os.path.join(project_dir, project_name + \".aedt\")\n\nM3D.save_project(project_file)\n\nM3D.release_desktop()"
      ]
    }
  ],
  "metadata": {
    "kernelspec": {
      "display_name": "Python 3",
      "language": "python",
      "name": "python3"
    },
    "language_info": {
      "codemirror_mode": {
        "name": "ipython",
        "version": 3
      },
      "file_extension": ".py",
      "mimetype": "text/x-python",
      "name": "python",
      "nbconvert_exporter": "python",
      "pygments_lexer": "ipython3",
      "version": "3.10.9"
    }
  },
  "nbformat": 4,
  "nbformat_minor": 0
}