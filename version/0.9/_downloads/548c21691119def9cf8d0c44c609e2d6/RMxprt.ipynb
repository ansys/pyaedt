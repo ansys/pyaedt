{
  "cells": [
    {
      "cell_type": "markdown",
      "metadata": {},
      "source": [
        "\n# Rmxprt: Create and export motor\nThis example uses PyAEDT to create an Rmxprt project and export to Maxwell 2D\nKeywords: Rmxprt, Maxwell2D\n"
      ]
    },
    {
      "cell_type": "code",
      "execution_count": null,
      "metadata": {
        "collapsed": false
      },
      "outputs": [],
      "source": [
        "import os.path\nimport tempfile\n\nimport pyaedt"
      ]
    },
    {
      "cell_type": "markdown",
      "metadata": {},
      "source": [
        "## Set AEDT version\nSet AEDT version.\n\n"
      ]
    },
    {
      "cell_type": "code",
      "execution_count": null,
      "metadata": {
        "collapsed": false
      },
      "outputs": [],
      "source": [
        "aedt_version = \"2024.2\"\ntemp_dir = tempfile.TemporaryDirectory(suffix=\".ansys\")"
      ]
    },
    {
      "cell_type": "markdown",
      "metadata": {},
      "source": [
        "## Launch AEDT and Rmxprt\nLaunch AEDT and Rmxprt after first setting up the project name.\nAs solution type we will use ASSM (Adjust-Speed Syncronous Machine).\n\n"
      ]
    },
    {
      "cell_type": "code",
      "execution_count": null,
      "metadata": {
        "collapsed": false
      },
      "outputs": [],
      "source": [
        "app = pyaedt.Rmxprt(\n    version=aedt_version,\n    new_desktop=True,\n    close_on_exit=True,\n    solution_type=\"ASSM\",\n    project=os.path.join(temp_dir.name, \"ASSM.aedt\"),\n)"
      ]
    },
    {
      "cell_type": "markdown",
      "metadata": {},
      "source": [
        "## Define Machine settings\nDefine global machine settings.\n\n"
      ]
    },
    {
      "cell_type": "code",
      "execution_count": null,
      "metadata": {
        "collapsed": false
      },
      "outputs": [],
      "source": [
        "app.general[\"Number of Poles\"] = 4\napp.general[\"Rotor Position\"] = \"Inner Rotor\"\napp.general[\"Frictional Loss\"] = \"12W\"\napp.general[\"Windage Loss\"] = \"0W\"\napp.general[\"Reference Speed\"] = \"1500rpm\"\napp.general[\"Control Type\"] = \"DC\"\napp.general[\"Circuit Type\"] = \"Y3\""
      ]
    },
    {
      "cell_type": "markdown",
      "metadata": {},
      "source": [
        "## Define circuit settings\nDefine circuit settings.\n\n"
      ]
    },
    {
      "cell_type": "code",
      "execution_count": null,
      "metadata": {
        "collapsed": false
      },
      "outputs": [],
      "source": [
        "app.circuit[\"Trigger Pulse Width\"] = \"120deg\"\napp.circuit[\"Transistor Drop\"] = \"2V\"\napp.circuit[\"Diode Drop\"] = \"2V\""
      ]
    },
    {
      "cell_type": "markdown",
      "metadata": {},
      "source": [
        "## Stator\nDefine stator, slot and windings settings.\n\n"
      ]
    },
    {
      "cell_type": "code",
      "execution_count": null,
      "metadata": {
        "collapsed": false
      },
      "outputs": [],
      "source": [
        "app.stator[\"Outer Diameter\"] = \"122mm\"\napp.stator[\"Inner Diameter\"] = \"75mm\"\napp.stator[\"Length\"] = \"65mm\"\napp.stator[\"Stacking Factor\"] = 0.95\napp.stator[\"Steel Type\"] = \"steel_1008\"\napp.stator[\"Number of Slots\"] = 24\napp.stator[\"Slot Type\"] = 2\n\napp.stator.properties.children[\"Slot\"].props[\"Auto Design\"] = False\napp.stator.properties.children[\"Slot\"].props[\"Hs0\"] = \"0.5mm\"\napp.stator.properties.children[\"Slot\"].props[\"Hs1\"] = \"1.2mm\"\napp.stator.properties.children[\"Slot\"].props[\"Hs2\"] = \"8.2mm\"\napp.stator.properties.children[\"Slot\"].props[\"Bs0\"] = \"2.5mm\"\napp.stator.properties.children[\"Slot\"].props[\"Bs1\"] = \"5.6mm\"\napp.stator.properties.children[\"Slot\"].props[\"Bs2\"] = \"7.6mm\"\n\napp.stator.properties.children[\"Winding\"].props[\"Winding Layers\"] = 2\napp.stator.properties.children[\"Winding\"].props[\"Parallel Branches\"] = 1\napp.stator.properties.children[\"Winding\"].props[\"Conductors per Slot\"] = 52\napp.stator.properties.children[\"Winding\"].props[\"Coil Pitch\"] = 5\napp.stator.properties.children[\"Winding\"].props[\"Number of Strands\"] = 1"
      ]
    },
    {
      "cell_type": "markdown",
      "metadata": {},
      "source": [
        "## Rotor\nDefine rotor and pole settings.\n\n"
      ]
    },
    {
      "cell_type": "code",
      "execution_count": null,
      "metadata": {
        "collapsed": false
      },
      "outputs": [],
      "source": [
        "app.rotor[\"Outer Diameter\"] = \"74mm\"\napp.rotor[\"Inner Diameter\"] = \"26mm\"\napp.rotor[\"Length\"] = \"65mm\"\napp.rotor[\"Stacking Factor\"] = 0.95\napp.rotor[\"Steel Type\"] = \"steel_1008\"\napp.rotor[\"Pole Type\"] = 1\n\napp.rotor.properties.children[\"Pole\"].props[\"Embrace\"] = 0.7\napp.rotor.properties.children[\"Pole\"].props[\"Offset\"] = 0\napp.rotor.properties.children[\"Pole\"].props[\"Magnet Type\"] = [\"Material:=\", \"Alnico9\"]\napp.rotor.properties.children[\"Pole\"].props[\"Magnet Thickness\"] = \"3.5mm\""
      ]
    },
    {
      "cell_type": "markdown",
      "metadata": {},
      "source": [
        "## Setup\nCreate a setup and define main settings.\n\n"
      ]
    },
    {
      "cell_type": "code",
      "execution_count": null,
      "metadata": {
        "collapsed": false
      },
      "outputs": [],
      "source": [
        "setup = app.create_setup()\nsetup.props[\"RatedVoltage\"] = \"220V\"\nsetup.props[\"RatedOutputPower\"] = \"550W\"\nsetup.props[\"RatedSpeed\"] = \"1500rpm\"\nsetup.props[\"OperatingTemperature\"] = \"75cel\"\n\n\nsetup.analyze()"
      ]
    },
    {
      "cell_type": "markdown",
      "metadata": {},
      "source": [
        "## Export to Maxwell\nAfter the project is solved we can export in Maxwell 2D or Maxwell 3D.\n\n"
      ]
    },
    {
      "cell_type": "code",
      "execution_count": null,
      "metadata": {
        "collapsed": false
      },
      "outputs": [],
      "source": [
        "m2d = app.create_maxwell_design(setup_name=setup.name, maxwell_2d=True)\n\nm2d.plot(show=False, output_file=os.path.join(temp_dir.name, \"Image.jpg\"), plot_air_objects=True)"
      ]
    },
    {
      "cell_type": "markdown",
      "metadata": {},
      "source": [
        "## Rmxprt settings export\nAll Rmxprt settings can be exported in a json file and reused for another\nproject with import function.\n\n"
      ]
    },
    {
      "cell_type": "code",
      "execution_count": null,
      "metadata": {
        "collapsed": false
      },
      "outputs": [],
      "source": [
        "config = app.export_configuration(os.path.join(temp_dir.name, \"assm.json\"))\napp2 = pyaedt.Rmxprt(project=\"assm_test2\",solution_type=app.solution_type, design=\"from_configuration\")\napp2.import_configuration(config)"
      ]
    },
    {
      "cell_type": "markdown",
      "metadata": {},
      "source": [
        "## Save and Close Desktop\nSave and Close Desktop.\n\n"
      ]
    },
    {
      "cell_type": "code",
      "execution_count": null,
      "metadata": {
        "collapsed": false
      },
      "outputs": [],
      "source": [
        "m2d.save_project(os.path.join(temp_dir.name, \"Maxwell_project.aedt\"))\n\nm2d.release_desktop()"
      ]
    },
    {
      "cell_type": "markdown",
      "metadata": {},
      "source": [
        "## Cleanup\n\nAll project files are saved in the folder ``temp_dir.name``. If you've run this example as a Jupyter notebook you\ncan retrieve those project files. The following cell removes all temporary files, including the project folder.\n\n"
      ]
    },
    {
      "cell_type": "code",
      "execution_count": null,
      "metadata": {
        "collapsed": false
      },
      "outputs": [],
      "source": [
        "temp_dir.cleanup()"
      ]
    }
  ],
  "metadata": {
    "kernelspec": {
      "display_name": "Python 3",
      "language": "python",
      "name": "python3"
    },
    "language_info": {
      "codemirror_mode": {
        "name": "ipython",
        "version": 3
      },
      "file_extension": ".py",
      "mimetype": "text/x-python",
      "name": "python",
      "nbconvert_exporter": "python",
      "pygments_lexer": "ipython3",
      "version": "3.10.9"
    }
  },
  "nbformat": 4,
  "nbformat_minor": 0
}