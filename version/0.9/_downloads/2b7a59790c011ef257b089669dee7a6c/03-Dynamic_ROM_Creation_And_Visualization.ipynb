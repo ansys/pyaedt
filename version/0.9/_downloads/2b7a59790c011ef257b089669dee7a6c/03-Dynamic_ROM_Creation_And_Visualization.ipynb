{
  "cells": [
    {
      "cell_type": "markdown",
      "metadata": {},
      "source": [
        "\n# Twin Builder: dynamic ROM creation and simulation (2023 R2 beta)\nThis example shows how you can use PyAEDT to create a dynamic ROM in Twin Builder\nand run a Twin Builder time-domain simulation.\n\n<div class=\"alert alert-info\"><h4>Note</h4><p>This example uses functionality only available in Twin Builder 2023 R2 and later.\n    For 2023 R2, the build date must be 8/7/2022 or later.</p></div>\n"
      ]
    },
    {
      "cell_type": "markdown",
      "metadata": {},
      "source": [
        "## Perform required imports\nPerform required imports.\n\n"
      ]
    },
    {
      "cell_type": "code",
      "execution_count": null,
      "metadata": {
        "collapsed": false
      },
      "outputs": [],
      "source": [
        "import os\nimport shutil\nimport matplotlib.pyplot as plt\nfrom pyaedt import TwinBuilder\nfrom pyaedt import generate_unique_project_name\nfrom pyaedt.generic.general_methods import generate_unique_folder_name\nfrom pyaedt import downloads\nfrom pyaedt.generic.settings import settings"
      ]
    },
    {
      "cell_type": "markdown",
      "metadata": {},
      "source": [
        "## Set AEDT version\nSet AEDT version.\n\n"
      ]
    },
    {
      "cell_type": "code",
      "execution_count": null,
      "metadata": {
        "collapsed": false
      },
      "outputs": [],
      "source": [
        "aedt_version = \"2024.2\""
      ]
    },
    {
      "cell_type": "markdown",
      "metadata": {},
      "source": [
        "## Select version and set launch options\nSelect the Twin Builder version and set launch options. The following code\nlaunches Twin Builder in graphical mode.\n\nYou can change the Boolean parameter ``non_graphical`` to ``True`` to launch\nTwin Builder in non-graphical mode. You can also change the Boolean parameter\n``new_thread`` to ``False`` to launch Twin Builder in an existing AEDT session\nif one is running.\n\n"
      ]
    },
    {
      "cell_type": "code",
      "execution_count": null,
      "metadata": {
        "collapsed": false
      },
      "outputs": [],
      "source": [
        "non_graphical = False\nnew_thread = True"
      ]
    },
    {
      "cell_type": "markdown",
      "metadata": {},
      "source": [
        "## Set up input data\nDefine needed file name\n\n"
      ]
    },
    {
      "cell_type": "code",
      "execution_count": null,
      "metadata": {
        "collapsed": false
      },
      "outputs": [],
      "source": [
        "source_snapshot_data_zipfilename = \"Ex1_Mechanical_DynamicRom.zip\"\nsource_build_conf_file = \"dynarom_build.conf\"\n\n# Download data from example_data repository\ntemp_folder = generate_unique_folder_name()\nsource_data_folder = downloads.download_twin_builder_data(source_snapshot_data_zipfilename, True, temp_folder)\nsource_data_folder = downloads.download_twin_builder_data(source_build_conf_file, True, temp_folder)\n\n# Toggle these for local testing \n# source_data_folder = \"D:\\\\Scratch\\\\TempDyn\"\n\ndata_folder = os.path.join(source_data_folder, \"Ex03\")\n\n# Unzip training data and config file\ndownloads.unzip(os.path.join(source_data_folder, source_snapshot_data_zipfilename), data_folder)\nshutil.copyfile(os.path.join(source_data_folder, source_build_conf_file),\n                os.path.join(data_folder, source_build_conf_file))"
      ]
    },
    {
      "cell_type": "markdown",
      "metadata": {},
      "source": [
        "## Launch Twin Builder and build ROM component\nLaunch Twin Builder using an implicit declaration and add a new design with\na default setup for building the dynamic ROM component.\n\n"
      ]
    },
    {
      "cell_type": "code",
      "execution_count": null,
      "metadata": {
        "collapsed": false
      },
      "outputs": [],
      "source": [
        "tb = TwinBuilder(project=generate_unique_project_name(),\n                 version=aedt_version,\n                 non_graphical=non_graphical,\n                 new_desktop=new_thread)\n\n# Switch the current desktop configuration and the schematic environment to \"Twin Builder\".\n# The Dynamic ROM feature is only available with a twin builder license.\n# This and the restoring section at the end are not needed if the desktop is already configured as \"Twin Builder\".\ncurrent_desktop_config = tb._odesktop.GetDesktopConfiguration()\ncurrent_schematic_environment = tb._odesktop.GetSchematicEnvironment()\ntb._odesktop.SetDesktopConfiguration(\"Twin Builder\")\ntb._odesktop.SetSchematicEnvironment(1)\n\n# Get the dynamic ROM builder object\nrom_manager = tb._odesign.GetROMManager()\ndynamic_rom_builder = rom_manager.GetDynamicROMBuilder()\n\n# Build the dynamic ROM with specified configuration file\nconf_file_path = os.path.join(data_folder, source_build_conf_file)\ndynamic_rom_builder.Build(conf_file_path.replace('\\\\', '/'))\n\n# Test if ROM was created successfully\ndynamic_rom_path = os.path.join(data_folder, 'DynamicRom.dyn')\nif os.path.exists(dynamic_rom_path):\n    tb._odesign.AddMessage(\"Info\", \"path exists: {}\".format(dynamic_rom_path.replace('\\\\', '/')), \"\")\nelse:\n    tb._odesign.AddMessage(\"Info\", \"path does not exist: {}\".format(dynamic_rom_path), \"\")\n\n# Create the ROM component definition in Twin Builder\nrom_manager.CreateROMComponent(dynamic_rom_path.replace('\\\\', '/'), 'dynarom')"
      ]
    },
    {
      "cell_type": "markdown",
      "metadata": {},
      "source": [
        "## Create schematic\nPlace components to create a schematic.\n\n"
      ]
    },
    {
      "cell_type": "code",
      "execution_count": null,
      "metadata": {
        "collapsed": false
      },
      "outputs": [],
      "source": [
        "# Define the grid distance for ease in calculations\n\nG = 0.00254\n\n# Place a dynamic ROM component\n\nrom1 = tb.modeler.schematic.create_component(\"ROM1\", \"\", \"dynarom\", [36 * G, 28 * G])\n\n# Place two excitation sources\n\nsource1 = tb.modeler.schematic.create_periodic_waveform_source(None, \"PULSE\", 190, 0.002, \"300deg\", 210, 0,\n                                                               [20 * G, 29 * G])\nsource2 = tb.modeler.schematic.create_periodic_waveform_source(None, \"PULSE\", 190, 0.002, \"300deg\", 210, 0,\n                                                               [20 * G, 25 * G])\n\n# Connect components with wires\n\ntb.modeler.schematic.create_wire([[22 * G, 29 * G], [33 * G, 29 * G]])\ntb.modeler.schematic.create_wire([[22 * G, 25 * G], [30 * G, 25 * G], [30 * G, 28 * G], [33 * G, 28 * G]])\n\n# Zoom to fit the schematic\ntb.modeler.zoom_to_fit()"
      ]
    },
    {
      "cell_type": "markdown",
      "metadata": {},
      "source": [
        "## Parametrize transient setup\nParametrize the default transient setup by setting the end time.\n\n"
      ]
    },
    {
      "cell_type": "code",
      "execution_count": null,
      "metadata": {
        "collapsed": false
      },
      "outputs": [],
      "source": [
        "tb.set_end_time(\"1000s\")\ntb.set_hmin(\"1s\")\ntb.set_hmax(\"1s\")"
      ]
    },
    {
      "cell_type": "markdown",
      "metadata": {},
      "source": [
        "## Solve transient setup\nSolve the transient setup.\n\n"
      ]
    },
    {
      "cell_type": "code",
      "execution_count": null,
      "metadata": {
        "collapsed": false
      },
      "outputs": [],
      "source": [
        "tb.analyze_setup(\"TR\")"
      ]
    },
    {
      "cell_type": "markdown",
      "metadata": {},
      "source": [
        "## Get report data and plot using Matplotlib\nGet report data and plot it using Matplotlib. The following code gets and plots\nthe values for the voltage on the pulse voltage source and the values for the\noutput of the dynamic ROM.\n\n"
      ]
    },
    {
      "cell_type": "code",
      "execution_count": null,
      "metadata": {
        "collapsed": false
      },
      "outputs": [],
      "source": [
        "input_excitation = \"PULSE1.VAL\"\nx = tb.post.get_solution_data(input_excitation, \"TR\", \"Time\")\nplt.plot(x.intrinsics[\"Time\"], x.data_real(input_excitation))\n\noutput_temperature = \"ROM1.Temperature_history\"\nx = tb.post.get_solution_data(output_temperature, \"TR\", \"Time\")\nplt.plot(x.intrinsics[\"Time\"], x.data_real(output_temperature))\n\nplt.grid()\nplt.xlabel(\"Time\")\nplt.ylabel(\"Temperature History Variation with Input Temperature Pulse\")\nplt.show()"
      ]
    },
    {
      "cell_type": "markdown",
      "metadata": {},
      "source": [
        "## Close Twin Builder\nAfter the simulation is completed, you can close Twin Builder or release it.\nAll methods provide for saving the project before closing.\n\n"
      ]
    },
    {
      "cell_type": "code",
      "execution_count": null,
      "metadata": {
        "collapsed": false
      },
      "outputs": [],
      "source": [
        "# Clean up the downloaded data\nshutil.rmtree(source_data_folder)\n\n# Restore earlier desktop configuration and schematic environment\ntb._odesktop.SetDesktopConfiguration(current_desktop_config)\ntb._odesktop.SetSchematicEnvironment(current_schematic_environment)\n\ntb.release_desktop()"
      ]
    }
  ],
  "metadata": {
    "kernelspec": {
      "display_name": "Python 3",
      "language": "python",
      "name": "python3"
    },
    "language_info": {
      "codemirror_mode": {
        "name": "ipython",
        "version": 3
      },
      "file_extension": ".py",
      "mimetype": "text/x-python",
      "name": "python",
      "nbconvert_exporter": "python",
      "pygments_lexer": "ipython3",
      "version": "3.10.9"
    }
  },
  "nbformat": 4,
  "nbformat_minor": 0
}