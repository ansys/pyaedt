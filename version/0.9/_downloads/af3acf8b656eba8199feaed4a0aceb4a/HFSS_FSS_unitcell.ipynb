{
  "cells": [
    {
      "cell_type": "markdown",
      "metadata": {},
      "source": [
        "\n# HFSS: FSS Unitcell Simulation\nThis example shows how you can use PyAEDT to create a FSS unitcell simulations in HFSS and postprocess results.\n"
      ]
    },
    {
      "cell_type": "markdown",
      "metadata": {},
      "source": [
        "## Perform required imports\nPerform required imports.\n\n"
      ]
    },
    {
      "cell_type": "code",
      "execution_count": null,
      "metadata": {
        "collapsed": false
      },
      "outputs": [],
      "source": [
        "import os\nimport pyaedt\n\nproject_name = pyaedt.generate_unique_project_name(project_name=\"FSS\")"
      ]
    },
    {
      "cell_type": "markdown",
      "metadata": {},
      "source": [
        "## Set AEDT version\nSet AEDT version.\n\n"
      ]
    },
    {
      "cell_type": "code",
      "execution_count": null,
      "metadata": {
        "collapsed": false
      },
      "outputs": [],
      "source": [
        "aedt_version = \"2024.2\""
      ]
    },
    {
      "cell_type": "markdown",
      "metadata": {},
      "source": [
        "## Set non-graphical mode\nSet non-graphical mode. `\nYou can set ``non_graphical`` either to ``True`` or ``False``.\n\n"
      ]
    },
    {
      "cell_type": "code",
      "execution_count": null,
      "metadata": {
        "collapsed": false
      },
      "outputs": [],
      "source": [
        "non_graphical = False"
      ]
    },
    {
      "cell_type": "markdown",
      "metadata": {},
      "source": [
        "## Launch AEDT\nLaunch AEDT 2023 R2 in graphical mode.\n\n"
      ]
    },
    {
      "cell_type": "code",
      "execution_count": null,
      "metadata": {
        "collapsed": false
      },
      "outputs": [],
      "source": [
        "d = pyaedt.launch_desktop(aedt_version, non_graphical=non_graphical, new_desktop=True)"
      ]
    },
    {
      "cell_type": "markdown",
      "metadata": {},
      "source": [
        "## Launch HFSS\nLaunch HFSS 2023 R2 in graphical mode.\n\n"
      ]
    },
    {
      "cell_type": "code",
      "execution_count": null,
      "metadata": {
        "collapsed": false
      },
      "outputs": [],
      "source": [
        "hfss = pyaedt.Hfss(project=project_name, solution_type=\"Modal\")"
      ]
    },
    {
      "cell_type": "markdown",
      "metadata": {},
      "source": [
        "## Define variable\nDefine a variable for the 3D-component.\n\n"
      ]
    },
    {
      "cell_type": "code",
      "execution_count": null,
      "metadata": {
        "collapsed": false
      },
      "outputs": [],
      "source": [
        "hfss[\"patch_dim\"] = \"10mm\""
      ]
    },
    {
      "cell_type": "markdown",
      "metadata": {},
      "source": [
        "## Insert 3D component from system library\nDownload the 3D component from the example data and insert the 3D Component.\n\n"
      ]
    },
    {
      "cell_type": "code",
      "execution_count": null,
      "metadata": {
        "collapsed": false
      },
      "outputs": [],
      "source": [
        "unitcell_3d_component_path = pyaedt.downloads.download_FSS_3dcomponent()\nunitcell_path = os.path.join(unitcell_3d_component_path, \"FSS_unitcell_23R2.a3dcomp\")\n\ncomp = hfss.modeler.insert_3d_component(unitcell_path)"
      ]
    },
    {
      "cell_type": "markdown",
      "metadata": {},
      "source": [
        "## Assign design parameter to 3D Component parameter\nAssign parameter.\n\n"
      ]
    },
    {
      "cell_type": "code",
      "execution_count": null,
      "metadata": {
        "collapsed": false
      },
      "outputs": [],
      "source": [
        "component_name = hfss.modeler.user_defined_component_names\ncomp.parameters[\"a\"] = \"patch_dim\""
      ]
    },
    {
      "cell_type": "markdown",
      "metadata": {},
      "source": [
        "## Create air region\nCreate an open region along +Z direction for unitcell analysis.\n\n"
      ]
    },
    {
      "cell_type": "code",
      "execution_count": null,
      "metadata": {
        "collapsed": false
      },
      "outputs": [],
      "source": [
        "bounding_dimensions = hfss.modeler.get_bounding_dimension()\n\nperiodicity_x = bounding_dimensions[0]\nperiodicity_y = bounding_dimensions[1]\n\nregion = hfss.modeler.create_air_region(\n        z_pos=10 * bounding_dimensions[2],\n        is_percentage=False,\n    )\n\n[x_min, y_min, z_min, x_max, y_max, z_max] = region.bounding_box"
      ]
    },
    {
      "cell_type": "markdown",
      "metadata": {},
      "source": [
        "## Assign Lattice pair boundary\nAssigning lattice pair boundary automatically detected.\n\n"
      ]
    },
    {
      "cell_type": "code",
      "execution_count": null,
      "metadata": {
        "collapsed": false
      },
      "outputs": [],
      "source": [
        "hfss.auto_assign_lattice_pairs(assignment=region.name)"
      ]
    },
    {
      "cell_type": "markdown",
      "metadata": {},
      "source": [
        "## Assign Floquet port excitation along +Z direction\nAssign Floquet port.\n\n"
      ]
    },
    {
      "cell_type": "code",
      "execution_count": null,
      "metadata": {
        "collapsed": false
      },
      "outputs": [],
      "source": [
        "id_z_pos = region.top_face_z\nhfss.create_floquet_port(id_z_pos, [0, 0, z_max], [0, y_max, z_max], [x_max, 0, z_max], name='port_z_max',\n                         deembed_distance=10 * bounding_dimensions[2])"
      ]
    },
    {
      "cell_type": "markdown",
      "metadata": {},
      "source": [
        "## Create setup\nCreate a setup with a sweep to run the simulation.\n\n"
      ]
    },
    {
      "cell_type": "code",
      "execution_count": null,
      "metadata": {
        "collapsed": false
      },
      "outputs": [],
      "source": [
        "setup = hfss.create_setup(\"MySetup\")\nsetup.props[\"Frequency\"] = \"10GHz\"\nsetup.props[\"MaximumPasses\"] = 10\nhfss.create_linear_count_sweep(setup=setup.name, units=\"GHz\", start_frequency=6, stop_frequency=15,\n                               num_of_freq_points=51, name=\"sweep1\", save_fields=False, sweep_type=\"Interpolating\",\n                               interpolation_tol=6)"
      ]
    },
    {
      "cell_type": "markdown",
      "metadata": {},
      "source": [
        "## Create S-parameter report using report objects\nCreate S-parameter reports using create report.\n\n"
      ]
    },
    {
      "cell_type": "code",
      "execution_count": null,
      "metadata": {
        "collapsed": false
      },
      "outputs": [],
      "source": [
        "all_quantities = hfss.post.available_report_quantities()\nstr_mag = []\nstr_ang = []\n\nvariation = {\"Freq\": [\"All\"]}\n\nfor i in all_quantities:\n    str_mag.append(\"mag(\" + i + \")\")\n    str_ang.append(\"ang_deg(\" + i + \")\")\n\nhfss.post.create_report(expressions=str_mag, variations=variation, plot_name=\"magnitude_plot\")\nhfss.post.create_report(expressions=str_ang, variations=variation, plot_name=\"phase_plot\")"
      ]
    },
    {
      "cell_type": "markdown",
      "metadata": {},
      "source": [
        "## Save and run simulation\nSave and run the simulation. Uncomment the line following line to run the analysis.\n\n"
      ]
    },
    {
      "cell_type": "code",
      "execution_count": null,
      "metadata": {
        "collapsed": false
      },
      "outputs": [],
      "source": [
        "# hfss.analyze()"
      ]
    },
    {
      "cell_type": "markdown",
      "metadata": {},
      "source": [
        "## Close AEDT\nAfter the simulation completes, you can close AEDT or release it using the\n:func:`pyaedt.Desktop.release_desktop` method.\nAll methods provide for saving the project before closing.\n\n"
      ]
    },
    {
      "cell_type": "code",
      "execution_count": null,
      "metadata": {
        "collapsed": false
      },
      "outputs": [],
      "source": [
        "hfss.release_desktop()"
      ]
    }
  ],
  "metadata": {
    "kernelspec": {
      "display_name": "Python 3",
      "language": "python",
      "name": "python3"
    },
    "language_info": {
      "codemirror_mode": {
        "name": "ipython",
        "version": 3
      },
      "file_extension": ".py",
      "mimetype": "text/x-python",
      "name": "python",
      "nbconvert_exporter": "python",
      "pygments_lexer": "ipython3",
      "version": "3.10.9"
    }
  },
  "nbformat": 4,
  "nbformat_minor": 0
}