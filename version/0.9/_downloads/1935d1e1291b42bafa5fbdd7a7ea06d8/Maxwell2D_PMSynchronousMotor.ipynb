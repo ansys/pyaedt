{
  "cells": [
    {
      "cell_type": "markdown",
      "metadata": {},
      "source": [
        "\n# Maxwell 2D: PM synchronous motor transient analysis\nThis example shows how you can use PyAEDT to create a Maxwell 2D transient analysis for\nan interior permanent magnet electric motor.\n"
      ]
    },
    {
      "cell_type": "markdown",
      "metadata": {},
      "source": [
        "## Perform required imports\nPerform required imports.\n\n"
      ]
    },
    {
      "cell_type": "code",
      "execution_count": null,
      "metadata": {
        "collapsed": false
      },
      "outputs": [],
      "source": [
        "from math import sqrt as mysqrt\n\nimport csv\nimport os\nimport pyaedt"
      ]
    },
    {
      "cell_type": "markdown",
      "metadata": {},
      "source": [
        "## Set AEDT version\nSet AEDT version.\n\n"
      ]
    },
    {
      "cell_type": "code",
      "execution_count": null,
      "metadata": {
        "collapsed": false
      },
      "outputs": [],
      "source": [
        "aedt_version = \"2024.2\""
      ]
    },
    {
      "cell_type": "markdown",
      "metadata": {},
      "source": [
        "## Initialize Maxwell 2D\nInitialize Maxwell 2D, providing the version, path to the project, and the design\nname and type.\n\n"
      ]
    },
    {
      "cell_type": "code",
      "execution_count": null,
      "metadata": {
        "collapsed": false
      },
      "outputs": [],
      "source": [
        "setup_name = \"MySetupAuto\"\nsolver = \"TransientXY\"\n\nproject_name = pyaedt.generate_unique_project_name()\ndesign_name = \"Sinusoidal\""
      ]
    },
    {
      "cell_type": "markdown",
      "metadata": {},
      "source": [
        "## Initialize definitions for stator, rotor, and shaft \nInitialize geometry parameter definitions for the stator, rotor, and shaft.\nThe naming refers to RMxprt primitives.\n\n"
      ]
    },
    {
      "cell_type": "code",
      "execution_count": null,
      "metadata": {
        "collapsed": false
      },
      "outputs": [],
      "source": [
        "geom_params = {\n    \"DiaGap\": \"132mm\",\n    \"DiaStatorYoke\": \"198mm\",\n    \"DiaStatorInner\": \"132mm\",\n    \"DiaRotorLam\": \"130mm\",\n    \"DiaShaft\": \"44.45mm\",\n    \"DiaOuter\": \"198mm\",\n    \"Airgap\": \"1mm\",\n    \"SlotNumber\": \"48\",\n    \"SlotType\": \"3\"\n}"
      ]
    },
    {
      "cell_type": "markdown",
      "metadata": {},
      "source": [
        "## Initialize definitions for stator windings\nInitialize geometry parameter definitions for the stator windings. The naming\nrefers to RMxprt primitives.\n\n"
      ]
    },
    {
      "cell_type": "code",
      "execution_count": null,
      "metadata": {
        "collapsed": false
      },
      "outputs": [],
      "source": [
        "wind_params = {\n    \"Layers\": \"1\",\n    \"ParallelPaths\": \"2\",\n    \"R_Phase\": \"7.5mOhm\",\n    \"WdgExt_F\": \"5mm\",\n    \"SpanExt\": \"30mm\",\n    \"SegAngle\": \"0.25\",\n    \"CoilPitch\": \"5\",  # coil pitch in slots\n    \"Coil_SetBack\": \"3.605732823mm\",\n    \"SlotWidth\": \"2.814mm\",  # RMxprt Bs0\n    \"Coil_Edge_Short\": \"3.769235435mm\",\n    \"Coil_Edge_Long\": \"15.37828521mm\"\n}"
      ]
    },
    {
      "cell_type": "markdown",
      "metadata": {},
      "source": [
        "## Initialize definitions for model setup\nInitialize geometry parameter definitions for the model setup.\n\n"
      ]
    },
    {
      "cell_type": "code",
      "execution_count": null,
      "metadata": {
        "collapsed": false
      },
      "outputs": [],
      "source": [
        "mod_params = {\n    \"NumPoles\": \"8\",\n    \"Model_Length\": \"80mm\",\n    \"SymmetryFactor\": \"8\",\n    \"Magnetic_Axial_Length\": \"150mm\",\n    \"Stator_Lam_Length\": \"0mm\",\n    \"StatorSkewAngle\": \"0deg\",\n    \"NumTorquePointsPerCycle\": \"30\",\n    \"mapping_angle\": \"0.125*4deg\",\n    \"num_m\": \"16\",\n    \"Section_Angle\": \"360deg/SymmetryFactor\"\n}"
      ]
    },
    {
      "cell_type": "markdown",
      "metadata": {},
      "source": [
        "## Initialize definitions for operational machine\nInitialize geometry parameter definitions for the operational machine. This\nidentifies the operating point for the transient setup.\n\n"
      ]
    },
    {
      "cell_type": "code",
      "execution_count": null,
      "metadata": {
        "collapsed": false
      },
      "outputs": [],
      "source": [
        "oper_params = {\n    \"InitialPositionMD\": \"180deg/4\",\n    \"IPeak\": \"480A\",\n    \"MachineRPM\": \"3000rpm\",\n    \"ElectricFrequency\": \"MachineRPM/60rpm*NumPoles/2*1Hz\",\n    \"ElectricPeriod\": \"1/ElectricFrequency\",\n    \"BandTicksinModel\": \"360deg/NumPoles/mapping_angle\",\n    \"TimeStep\": \"ElectricPeriod/(2*BandTicksinModel)\",\n    \"StopTime\": \"ElectricPeriod\",\n    \"Theta_i\": \"135deg\"\n}"
      ]
    },
    {
      "cell_type": "markdown",
      "metadata": {},
      "source": [
        "## Set non-graphical mode\nSet non-graphical mode. ``\"PYAEDT_NON_GRAPHICAL\"`` is needed to\ngenerate documentation only.\nYou can set ``non_graphical`` either to ``True`` or ``False``.\n\n"
      ]
    },
    {
      "cell_type": "code",
      "execution_count": null,
      "metadata": {
        "collapsed": false
      },
      "outputs": [],
      "source": [
        "non_graphical = False"
      ]
    },
    {
      "cell_type": "markdown",
      "metadata": {},
      "source": [
        "## Launch Maxwell 2D\nLaunch Maxwell 2D and save the project.\n\n"
      ]
    },
    {
      "cell_type": "code",
      "execution_count": null,
      "metadata": {
        "collapsed": false
      },
      "outputs": [],
      "source": [
        "M2D = pyaedt.Maxwell2d(project=project_name,\n                       version=aedt_version,\n                       design=design_name,\n                       solution_type=solver,\n                       new_desktop=True,\n                       non_graphical=non_graphical\n                       )"
      ]
    },
    {
      "cell_type": "markdown",
      "metadata": {},
      "source": [
        "## Create object to access 2D modeler\nCreate the object ``mod2D`` to access the 2D modeler easily.\n\n"
      ]
    },
    {
      "cell_type": "code",
      "execution_count": null,
      "metadata": {
        "collapsed": false
      },
      "outputs": [],
      "source": [
        "mod2D = M2D.modeler\nmod2D.delete()\nmod2D.model_units = \"mm\""
      ]
    },
    {
      "cell_type": "markdown",
      "metadata": {},
      "source": [
        "## Define variables from dictionaries\nDefine design variables from the created dictionaries.\n\n"
      ]
    },
    {
      "cell_type": "code",
      "execution_count": null,
      "metadata": {
        "collapsed": false
      },
      "outputs": [],
      "source": [
        "for k, v in geom_params.items():\n    M2D[k] = v\nfor k, v in wind_params.items():\n    M2D[k] = v\nfor k, v in mod_params.items():\n    M2D[k] = v\nfor k, v in oper_params.items():\n    M2D[k] = v"
      ]
    },
    {
      "cell_type": "markdown",
      "metadata": {},
      "source": [
        "## Define path for non-linear material properties\nDefine the path for non-linear material properties.\nMaterials are stored in text files.\n\n"
      ]
    },
    {
      "cell_type": "code",
      "execution_count": null,
      "metadata": {
        "collapsed": false
      },
      "outputs": [],
      "source": [
        "filename_lam, filename_PM = pyaedt.downloads.download_leaf()"
      ]
    },
    {
      "cell_type": "markdown",
      "metadata": {},
      "source": [
        "## Create first material\nCreate the material ``\"Copper (Annealed)_65C\"``.\n\n"
      ]
    },
    {
      "cell_type": "code",
      "execution_count": null,
      "metadata": {
        "collapsed": false
      },
      "outputs": [],
      "source": [
        "mat_coils = M2D.materials.add_material(\"Copper (Annealed)_65C\")\nmat_coils.update()\nmat_coils.conductivity = \"49288048.9198\"\nmat_coils.permeability = \"1\""
      ]
    },
    {
      "cell_type": "markdown",
      "metadata": {},
      "source": [
        "## Create second material\nCreate the material ``\"Arnold_Magnetics_N30UH_80C\"``.\nThe BH curve is read from a tabbed CSV file, and a list (``BH_List_PM``)\nis created. This list is passed to the ``mat_PM.permeability.value``\nmethod.\n\n"
      ]
    },
    {
      "cell_type": "code",
      "execution_count": null,
      "metadata": {
        "collapsed": false
      },
      "outputs": [],
      "source": [
        "mat_PM = M2D.materials.add_material(\"Arnold_Magnetics_N30UH_80C_new\")\nmat_PM.update()\nmat_PM.conductivity = \"555555.5556\"\nmat_PM.set_magnetic_coercivity(value=-800146.66287534, x=1, y=0, z=0)\nmat_PM.mass_density = \"7500\"\nBH_List_PM = []\nwith open(filename_PM) as f:\n    reader = csv.reader(f, delimiter='\\t')\n    next(reader)\n    for row in reader:\n        BH_List_PM.append([float(row[0]), float(row[1])])\nmat_PM.permeability.value = BH_List_PM"
      ]
    },
    {
      "cell_type": "markdown",
      "metadata": {},
      "source": [
        "## Create third material\nCreate the laminated material ``30DH_20C_smooth``.\nThis material has a BH curve and a core loss model,\nwhich is set to electrical steel.\n\n"
      ]
    },
    {
      "cell_type": "code",
      "execution_count": null,
      "metadata": {
        "collapsed": false
      },
      "outputs": [],
      "source": [
        "mat_lam = M2D.materials.add_material(\"30DH_20C_smooth\")\nmat_lam.update()\nmat_lam.conductivity = \"1694915.25424\"\nkh = 71.7180985413\nkc = 0.25092214579\nke = 12.1625774023\nkdc = 0.001\neq_depth = 0.001\nmat_lam.set_electrical_steel_coreloss(kh, kc, ke, kdc, eq_depth)\nmat_lam.mass_density = \"7650\"\nBH_List_lam = []\nwith open(filename_lam) as f:\n    reader = csv.reader(f, delimiter='\\t')\n    next(reader)\n    for row in reader:\n        BH_List_lam.append([float(row[0]), float(row[1])])\nmat_lam.permeability.value = BH_List_lam"
      ]
    },
    {
      "cell_type": "markdown",
      "metadata": {},
      "source": [
        "## Create geometry for stator\nCreate the geometry for the stator. It is created via\nthe RMxprt user-defined primitive. A list of lists is\ncreated with the proper UDP parameters.\n\n"
      ]
    },
    {
      "cell_type": "code",
      "execution_count": null,
      "metadata": {
        "collapsed": false
      },
      "outputs": [],
      "source": [
        "udp_par_list_stator = [[\"DiaGap\", \"DiaGap\"], [\"DiaYoke\", \"DiaStatorYoke\"], [\"Length\", \"Stator_Lam_Length\"],\n                       [\"Skew\", \"StatorSkewAngle\"], [\"Slots\", \"SlotNumber\"], [\"SlotType\", \"SlotType\"],\n                       [\"Hs0\", \"1.2mm\"], [\"Hs01\", \"0mm\"], [\"Hs1\", \"0.4834227384999mm\"],\n                       [\"Hs2\", \"17.287669825502mm\"],\n                       [\"Bs0\", \"2.814mm\"], [\"Bs1\", \"4.71154109036mm\"], [\"Bs2\", \"6.9777285790998mm\"], [\"Rs\", \"2mm\"],\n                       [\"FilletType\", \"1\"], [\"HalfSlot\", \"0\"], [\"VentHoles\", \"0\"], [\"HoleDiaIn\", \"0mm\"],\n                       [\"HoleDiaOut\", \"0mm\"],\n                       [\"HoleLocIn\", \"0mm\"], [\"HoleLocOut\", \"0mm\"], [\"VentDucts\", \"0\"], [\"DuctWidth\", \"0mm\"],\n                       [\"DuctPitch\", \"0mm\"],\n                       [\"SegAngle\", \"0deg\"], [\"LenRegion\", \"Model_Length\"], [\"InfoCore\", \"0\"]]\n\nstator_id = mod2D.create_udp(dll=\"RMxprt/VentSlotCore.dll\", parameters=udp_par_list_stator, library='syslib',\n                             name='my_stator')  # name not taken"
      ]
    },
    {
      "cell_type": "markdown",
      "metadata": {},
      "source": [
        "## Assign properties to stator\nAssign properties to the stator. The following code assigns\nthe material, name, color, and  ``solve_inside`` properties.\n\n"
      ]
    },
    {
      "cell_type": "code",
      "execution_count": null,
      "metadata": {
        "collapsed": false
      },
      "outputs": [],
      "source": [
        "M2D.assign_material(assignment=stator_id, material=\"30DH_20C_smooth\")\nstator_id.name = \"Stator\"\nstator_id.color = (0, 0, 255)  # rgb\nstator_id.solve_inside = True  # to be reassigned: M2D.assign material puts False if not dielectric"
      ]
    },
    {
      "cell_type": "markdown",
      "metadata": {},
      "source": [
        "## Create geometry for PMs\nCreate the geometry for the PMs (permanent magnets). In Maxwell 2D, you assign\nmagnetization via the coordinate system. Because each PM needs to have a coordinate\nsystem in the face center, auxiliary functions are created. Here, you use the auxiliary\nfunction ``find_elements(lst1, lst2)`` to find the elements in list ``lst1`` with indexes\nin list ``lst2``.\n\n"
      ]
    },
    {
      "cell_type": "code",
      "execution_count": null,
      "metadata": {
        "collapsed": false
      },
      "outputs": [],
      "source": [
        "def find_elements(lst1, lst2):\n    return [lst1[i] for i in lst2]"
      ]
    },
    {
      "cell_type": "markdown",
      "metadata": {},
      "source": [
        "## Find largest elements in list\nUse the auxiliary function ``find_n_largest (input_len_list, n_largest_edges)``\nto find the ``n`` largest elements in the list ``input_len_list``.\n\n"
      ]
    },
    {
      "cell_type": "code",
      "execution_count": null,
      "metadata": {
        "collapsed": false
      },
      "outputs": [],
      "source": [
        "def find_n_largest(input_len_list, n_largest_edges):\n    tmp = list(input_len_list)\n    copied = list(input_len_list)\n    copied.sort()  # sort list so that largest elements are on the far right\n    index_list = []\n    for n in range(1, n_largest_edges + 1):  # get index of the nth largest element\n        index_list.append(tmp.index(copied[-n]))\n        tmp[tmp.index(copied[-n])] = 0  # index can only get the first occurrence that solves the problem\n    return index_list"
      ]
    },
    {
      "cell_type": "markdown",
      "metadata": {},
      "source": [
        "## Create coordinate system for PMs\nCreate the coordinate system for the PMs. The inputs are the object name, coordinate\nsystem name, and inner or outer magnetization. Find the two longest edges of the magnets\nand get the midpoint of the outer edge. You must have this point to create the face\ncoordinate systems in case of outer magnetization.\n\n"
      ]
    },
    {
      "cell_type": "code",
      "execution_count": null,
      "metadata": {
        "collapsed": false
      },
      "outputs": [],
      "source": [
        "def create_cs_magnets(pm_id, cs_name, point_direction):\n    pm_face_id = mod2D.get_object_faces(pm_id.name)[0]  # works with name only\n    pm_edges = mod2D.get_object_edges(pm_id.name)  # gets the edges of the PM object\n    edge_len_list = list(\n        map(mod2D.get_edge_length, pm_edges))  # apply method get_edge_length to all elements of list pm_edges\n    index_2_longest = find_n_largest(edge_len_list, 2)  # find the 2 longest edges of the PM\n    longest_edge_list = find_elements(pm_edges, index_2_longest)\n    edge_center_list = list(map(mod2D.get_edge_midpoint,\n                                longest_edge_list))  # apply method get_edge_midpoint to all elements of list longest_edge_list\n\n    rad = lambda x: mysqrt(x[0] * x[0] + x[1] * x[1] + x[2] * x[2])\n    index_largest_r = find_n_largest(list(map(rad, edge_center_list)), 2)\n    longest_edge_list2 = [longest_edge_list[i] for i in index_largest_r]  # reorder: outer first element of the list\n    if point_direction == 'outer':\n        my_axis_pos = longest_edge_list2[0]\n    elif point_direction == 'inner':\n        my_axis_pos = longest_edge_list2[1]\n\n    mod2D.create_face_coordinate_system(face=pm_face_id, origin=pm_face_id, axis_position=my_axis_pos,\n                                        axis=\"X\", name=cs_name)\n    pm_id.part_coordinate_system = cs_name\n    mod2D.set_working_coordinate_system('Global')"
      ]
    },
    {
      "cell_type": "markdown",
      "metadata": {},
      "source": [
        "## Create outer and inner PMs\nCreate the outer and inner PMs and assign color to them.\n\n"
      ]
    },
    {
      "cell_type": "code",
      "execution_count": null,
      "metadata": {
        "collapsed": false
      },
      "outputs": [],
      "source": [
        "IM1_points = [[56.70957112, 3.104886585, 0], [40.25081875, 16.67243502, 0], [38.59701538, 14.66621111, 0],\n              [55.05576774, 1.098662669, 0]]\nOM1_points = [[54.37758185, 22.52393189, 0], [59.69688156, 9.68200639, 0], [63.26490432, 11.15992981, 0],\n              [57.94560461, 24.00185531, 0]]\nIPM1_id = mod2D.create_polyline(points=IM1_points, cover_surface=True, name=\"PM_I1\",\n                                material=\"Arnold_Magnetics_N30UH_80C_new\")\nIPM1_id.color = (0, 128, 64)\nOPM1_id = mod2D.create_polyline(points=OM1_points, cover_surface=True, name=\"PM_O1\",\n                                material=\"Arnold_Magnetics_N30UH_80C_new\")\nOPM1_id.color = (0, 128, 64)"
      ]
    },
    {
      "cell_type": "markdown",
      "metadata": {},
      "source": [
        "## Create coordinate system for PMs in face center\nCreate the coordinate system for PMs in the face center.\n\n"
      ]
    },
    {
      "cell_type": "code",
      "execution_count": null,
      "metadata": {
        "collapsed": false
      },
      "outputs": [],
      "source": [
        "create_cs_magnets(IPM1_id, 'CS_' + IPM1_id.name, 'outer')\ncreate_cs_magnets(OPM1_id, 'CS_' + OPM1_id.name, 'outer')"
      ]
    },
    {
      "cell_type": "markdown",
      "metadata": {},
      "source": [
        "## Duplicate and mirror PMs\nDuplicate and mirror the PMs along with the local coordinate system.\n\n"
      ]
    },
    {
      "cell_type": "code",
      "execution_count": null,
      "metadata": {
        "collapsed": false
      },
      "outputs": [],
      "source": [
        "mod2D.duplicate_and_mirror([IPM1_id, OPM1_id], origin=[0, 0, 0],\n                           vector=[\"cos((360deg/SymmetryFactor/2)+90deg)\", \"sin((360deg/SymmetryFactor/2)+90deg)\", 0])\nid_PMs = mod2D.get_objects_w_string(\"PM\", case_sensitive=True)"
      ]
    },
    {
      "cell_type": "markdown",
      "metadata": {},
      "source": [
        "## Create coils\nCreate the coils.\n\n"
      ]
    },
    {
      "cell_type": "code",
      "execution_count": null,
      "metadata": {
        "collapsed": false
      },
      "outputs": [],
      "source": [
        "coil_id = mod2D.create_rectangle(origin=['DiaRotorLam/2+Airgap+Coil_SetBack', '-Coil_Edge_Short/2', 0],\n                                 sizes=['Coil_Edge_Long', 'Coil_Edge_Short', 0],\n                                 name='Coil', material=\"Copper (Annealed)_65C\")\ncoil_id.color = (255, 128, 0)\nM2D.modeler.rotate(assignment=coil_id, axis=\"Z\", angle=\"360deg/SlotNumber/2\")\ncoil_id.duplicate_around_axis(axis=\"Z\", angle=\"360deg/SlotNumber\", nclones='CoilPitch+1',\n                              create_new_objects=True)\nid_coils = mod2D.get_objects_w_string(\"Coil\", case_sensitive=True)"
      ]
    },
    {
      "cell_type": "markdown",
      "metadata": {},
      "source": [
        "## Create shaft and region\nCreate the shaft and region.\n\n"
      ]
    },
    {
      "cell_type": "code",
      "execution_count": null,
      "metadata": {
        "collapsed": false
      },
      "outputs": [],
      "source": [
        "region_id = mod2D.create_circle(position=[0, 0, 0], radius='DiaOuter/2',\n                                num_sides='SegAngle', is_covered=True, name='Region')\nshaft_id = mod2D.create_circle(position=[0, 0, 0], radius='DiaShaft/2',\n                               num_sides='SegAngle', is_covered=True, name='Shaft')"
      ]
    },
    {
      "cell_type": "markdown",
      "metadata": {},
      "source": [
        "## Create bands\nCreate the inner band, band, and outer band.\n\n"
      ]
    },
    {
      "cell_type": "code",
      "execution_count": null,
      "metadata": {
        "collapsed": false
      },
      "outputs": [],
      "source": [
        "bandIN_id = mod2D.create_circle(position=[0, 0, 0], radius='(DiaGap - (1.5 * Airgap))/2',\n                                num_sides='mapping_angle', is_covered=True, name='Inner_Band')\nbandMID_id = mod2D.create_circle(position=[0, 0, 0], radius='(DiaGap - (1.0 * Airgap))/2',\n                                 num_sides='mapping_angle', is_covered=True, name='Band')\nbandOUT_id = mod2D.create_circle(position=[0, 0, 0], radius='(DiaGap - (0.5 * Airgap))/2',\n                                 num_sides='mapping_angle', is_covered=True, name='Outer_Band')"
      ]
    },
    {
      "cell_type": "markdown",
      "metadata": {},
      "source": [
        "## Assign motion setup to object\nAssign a motion setup to a ``Band`` object named ``RotatingBand_mid``.\n\n"
      ]
    },
    {
      "cell_type": "code",
      "execution_count": null,
      "metadata": {
        "collapsed": false
      },
      "outputs": [],
      "source": [
        "M2D.assign_rotate_motion(assignment='Band', coordinate_system=\"Global\", axis=\"Z\", positive_movement=True,\n                         start_position=\"InitialPositionMD\", angular_velocity=\"MachineRPM\")"
      ]
    },
    {
      "cell_type": "markdown",
      "metadata": {},
      "source": [
        "## Create list of vacuum objects\nCreate a list of vacuum objects and assign color.\n\n"
      ]
    },
    {
      "cell_type": "code",
      "execution_count": null,
      "metadata": {
        "collapsed": false
      },
      "outputs": [],
      "source": [
        "vacuum_obj_id = [shaft_id, region_id, bandIN_id, bandMID_id, bandOUT_id]  # put shaft first\nfor item in vacuum_obj_id:\n    item.color = (128, 255, 255)"
      ]
    },
    {
      "cell_type": "markdown",
      "metadata": {},
      "source": [
        "## Create rotor\nCreate the rotor. Holes are specific to the lamination.\nAllocated PMs are created.\n\n"
      ]
    },
    {
      "cell_type": "code",
      "execution_count": null,
      "metadata": {
        "collapsed": false
      },
      "outputs": [],
      "source": [
        "rotor_id = mod2D.create_circle(position=[0, 0, 0], radius='DiaRotorLam/2',\n                               num_sides=0, name=\"Rotor\", material=\"30DH_20C_smooth\")\nrotor_id.color = (0, 128, 255)\nmod2D.subtract(rotor_id, shaft_id, keep_originals=True)\nvoid_small_1_id = mod2D.create_circle(position=[62, 0, 0], radius=\"2.55mm\",\n                                      num_sides=0, name=\"void1\", material=\"vacuum\")\nM2D.modeler.duplicate_around_axis(void_small_1_id, axis=\"Z\", angle=\"360deg/SymmetryFactor\",\n                                  clones=2, create_new_objects=False)\nvoid_big_1_id = mod2D.create_circle(position=[29.5643, 12.234389332712, 0], radius='9.88mm/2',\n                                    num_sides=0, name=\"void_big\", material=\"vacuum\")\nmod2D.subtract(rotor_id, [void_small_1_id, void_big_1_id], keep_originals=False)\n\nslot_IM1_points = [[37.5302872, 15.54555396, 0], [55.05576774, 1.098662669, 0], [57.33637589, 1.25, 0],\n                   [57.28982158, 2.626565019, 0], [40.25081875, 16.67243502, 0]]\nslot_OM1_points = [[54.37758185, 22.52393189, 0], [59.69688156, 9.68200639, 0], [63.53825619, 10.5, 0],\n                   [57.94560461, 24.00185531, 0]]\nslot_IM_id = mod2D.create_polyline(points=slot_IM1_points, cover_surface=True, name=\"slot_IM1\", material=\"vacuum\")\nslot_OM_id = mod2D.create_polyline(points=slot_OM1_points, cover_surface=True, name=\"slot_OM1\", material=\"vacuum\")\n\nM2D.modeler.duplicate_and_mirror(assignment=[slot_IM_id, slot_OM_id], origin=[0, 0, 0],\n                                 vector=[\"cos((360deg/SymmetryFactor/2)+90deg)\",\n                                         \"sin((360deg/SymmetryFactor/2)+90deg)\", 0])\n\nid_holes = mod2D.get_objects_w_string(\"slot_\", case_sensitive=True)\nM2D.modeler.subtract(rotor_id, id_holes, keep_originals=True)"
      ]
    },
    {
      "cell_type": "markdown",
      "metadata": {},
      "source": [
        "## Create section of machine\nCreate a section of the machine. This allows you to take\nadvantage of symmetries.\n\n"
      ]
    },
    {
      "cell_type": "code",
      "execution_count": null,
      "metadata": {
        "collapsed": false
      },
      "outputs": [],
      "source": [
        "object_list = [stator_id, rotor_id] + vacuum_obj_id\nmod2D.create_coordinate_system(origin=[0, 0, 0],\n                               reference_cs=\"Global\",\n                               name=\"Section\",\n                               mode=\"axis\",\n                               x_pointing=[\"cos(360deg/SymmetryFactor)\", \"sin(360deg/SymmetryFactor)\", 0],\n                               y_pointing=[\"-sin(360deg/SymmetryFactor)\", \"cos(360deg/SymmetryFactor)\", 0])\n\nmod2D.set_working_coordinate_system(\"Section\")\nmod2D.split(object_list, \"ZX\", sides=\"NegativeOnly\")\nmod2D.set_working_coordinate_system(\"Global\")\nmod2D.split(object_list, \"ZX\", sides=\"PositiveOnly\")"
      ]
    },
    {
      "cell_type": "markdown",
      "metadata": {},
      "source": [
        "## Create boundary conditions\nCreate independent and dependent boundary conditions.\nEdges for assignment are picked by position.\nThe points for edge picking are in the airgap.\n\n"
      ]
    },
    {
      "cell_type": "code",
      "execution_count": null,
      "metadata": {
        "collapsed": false
      },
      "outputs": [],
      "source": [
        "pos_1 = \"((DiaGap - (1.0 * Airgap))/4)\"\nid_bc_1 = mod2D.get_edgeid_from_position(position=[pos_1, 0, 0], assignment='Region')\nid_bc_2 = mod2D.get_edgeid_from_position(\n    position=[pos_1 + \"*cos((360deg/SymmetryFactor))\", pos_1 + \"*sin((360deg/SymmetryFactor))\", 0], assignment='Region')\nM2D.assign_master_slave(independent=id_bc_1, dependent=id_bc_2, reverse_master=False, reverse_slave=True,\n                        same_as_master=False, boundary=\"Matching\")"
      ]
    },
    {
      "cell_type": "markdown",
      "metadata": {},
      "source": [
        "## Assign vector potential\nAssign a vector potential of ``0`` to the second position.\n\n"
      ]
    },
    {
      "cell_type": "code",
      "execution_count": null,
      "metadata": {
        "collapsed": false
      },
      "outputs": [],
      "source": [
        "pos_2 = \"(DiaOuter/2)\"\nid_bc_az = mod2D.get_edgeid_from_position(\n    position=[pos_2 + \"*cos((360deg/SymmetryFactor/2))\", pos_2 + \"*sin((360deg/SymmetryFactor)/2)\", 0],\n    assignment='Region')\nM2D.assign_vector_potential(id_bc_az, vector_value=0, boundary=\"VectorPotentialZero\")"
      ]
    },
    {
      "cell_type": "markdown",
      "metadata": {},
      "source": [
        "## Create excitations\nCreate excitations, defining phase currents for the windings.\n\n"
      ]
    },
    {
      "cell_type": "code",
      "execution_count": null,
      "metadata": {
        "collapsed": false
      },
      "outputs": [],
      "source": [
        "PhA_current = \"IPeak * cos(2*pi*ElectricFrequency*time+Theta_i)\"\nPhB_current = \"IPeak * cos(2*pi * ElectricFrequency*time - 120deg+Theta_i)\"\nPhC_current = \"IPeak * cos(2*pi * ElectricFrequency*time - 240deg+Theta_i)\""
      ]
    },
    {
      "cell_type": "markdown",
      "metadata": {},
      "source": [
        "## Define windings in phase A\nDefine windings in phase A.\n\n"
      ]
    },
    {
      "cell_type": "code",
      "execution_count": null,
      "metadata": {
        "collapsed": false
      },
      "outputs": [],
      "source": [
        "M2D.assign_coil(assignment=[\"Coil\"], conductors_number=6, polarity=\"Positive\", name=\"CT_Ph1_P2_C1_Go\")\nM2D.assign_coil(assignment=[\"Coil_5\"], conductors_number=6, polarity=\"Negative\", name=\"CT_Ph1_P2_C1_Ret\")\nM2D.assign_winding(assignment=None, winding_type=\"Current\", is_solid=False, current=PhA_current, parallel_branches=1,\n                   name=\"Phase_A\")\nM2D.add_winding_coils(assignment=\"Phase_A\", coils=[\"CT_Ph1_P2_C1_Go\", \"CT_Ph1_P2_C1_Ret\"])"
      ]
    },
    {
      "cell_type": "markdown",
      "metadata": {},
      "source": [
        "## Define windings in phase B\nDefine windings in phase B.\n\n"
      ]
    },
    {
      "cell_type": "code",
      "execution_count": null,
      "metadata": {
        "collapsed": false
      },
      "outputs": [],
      "source": [
        "M2D.assign_coil(assignment=\"Coil_3\", conductors_number=6, polarity=\"Positive\", name=\"CT_Ph3_P1_C2_Go\")\nM2D.assign_coil(assignment=\"Coil_4\", conductors_number=6, polarity=\"Positive\", name=\"CT_Ph3_P1_C1_Go\")\nM2D.assign_winding(assignment=None, winding_type=\"Current\", is_solid=False, current=PhB_current, parallel_branches=1,\n                   name=\"Phase_B\")\nM2D.add_winding_coils(assignment=\"Phase_B\", coils=[\"CT_Ph3_P1_C2_Go\", \"CT_Ph3_P1_C1_Go\"])"
      ]
    },
    {
      "cell_type": "markdown",
      "metadata": {},
      "source": [
        "## Define windings in phase C\nDefine windings in phase C.\n\n"
      ]
    },
    {
      "cell_type": "code",
      "execution_count": null,
      "metadata": {
        "collapsed": false
      },
      "outputs": [],
      "source": [
        "M2D.assign_coil(assignment=\"Coil_1\", conductors_number=6, polarity=\"Negative\", name=\"CT_Ph2_P2_C2_Ret\")\nM2D.assign_coil(assignment=\"Coil_2\", conductors_number=6, polarity=\"Negative\", name=\"CT_Ph2_P2_C1_Ret\")\nM2D.assign_winding(assignment=None, winding_type=\"Current\", is_solid=False, current=PhC_current, parallel_branches=1,\n                   name=\"Phase_C\")\nM2D.add_winding_coils(assignment=\"Phase_C\", coils=[\"CT_Ph2_P2_C2_Ret\", \"CT_Ph2_P2_C1_Ret\"])"
      ]
    },
    {
      "cell_type": "markdown",
      "metadata": {},
      "source": [
        "## Assign total current on PMs\nAssign a total current of ``0`` on the PMs.\n\n"
      ]
    },
    {
      "cell_type": "code",
      "execution_count": null,
      "metadata": {
        "collapsed": false
      },
      "outputs": [],
      "source": [
        "PM_list = id_PMs\nfor item in PM_list:\n    M2D.assign_current(item, amplitude=0, solid=True, name=item + \"_I0\")"
      ]
    },
    {
      "cell_type": "markdown",
      "metadata": {},
      "source": [
        "## Create mesh operations\nCreate the mesh operations.\n\n"
      ]
    },
    {
      "cell_type": "code",
      "execution_count": null,
      "metadata": {
        "collapsed": false
      },
      "outputs": [],
      "source": [
        "M2D.mesh.assign_length_mesh(id_coils, inside_selection=True, maximum_length=3, maximum_elements=None, name=\"coils\")\nM2D.mesh.assign_length_mesh(stator_id, inside_selection=True, maximum_length=3, maximum_elements=None, name=\"stator\")\nM2D.mesh.assign_length_mesh(rotor_id, inside_selection=True, maximum_length=3, maximum_elements=None, name=\"rotor\")"
      ]
    },
    {
      "cell_type": "markdown",
      "metadata": {},
      "source": [
        "## Turn on eddy effects\nTurn on eddy effects.\n\n"
      ]
    },
    {
      "cell_type": "code",
      "execution_count": null,
      "metadata": {
        "collapsed": false
      },
      "outputs": [],
      "source": [
        "# M2D.eddy_effects_on(eddy_effects_list,activate_eddy_effects=True, activate_displacement_current=False)"
      ]
    },
    {
      "cell_type": "markdown",
      "metadata": {},
      "source": [
        "## Turn on core loss\nTurn on core loss.\n\n"
      ]
    },
    {
      "cell_type": "code",
      "execution_count": null,
      "metadata": {
        "collapsed": false
      },
      "outputs": [],
      "source": [
        "core_loss_list = ['Rotor', 'Stator']\nM2D.set_core_losses(core_loss_list)"
      ]
    },
    {
      "cell_type": "markdown",
      "metadata": {},
      "source": [
        "## Compute transient inductance\nCompute the transient inductance.\n\n"
      ]
    },
    {
      "cell_type": "code",
      "execution_count": null,
      "metadata": {
        "collapsed": false
      },
      "outputs": [],
      "source": [
        "M2D.change_inductance_computation(compute_transient_inductance=True, incremental_matrix=False)"
      ]
    },
    {
      "cell_type": "markdown",
      "metadata": {},
      "source": [
        "## Set model depth\nSet the model depth.\n\n"
      ]
    },
    {
      "cell_type": "code",
      "execution_count": null,
      "metadata": {
        "collapsed": false
      },
      "outputs": [],
      "source": [
        "M2D.model_depth = \"Magnetic_Axial_Length\""
      ]
    },
    {
      "cell_type": "markdown",
      "metadata": {},
      "source": [
        "## Set symmetry factor\nSet the symmetry factor.\n\n"
      ]
    },
    {
      "cell_type": "code",
      "execution_count": null,
      "metadata": {
        "collapsed": false
      },
      "outputs": [],
      "source": [
        "M2D.change_symmetry_multiplier(\"SymmetryFactor\")"
      ]
    },
    {
      "cell_type": "markdown",
      "metadata": {},
      "source": [
        "## Create setup and validate\nCreate the setup and validate it.\n\n"
      ]
    },
    {
      "cell_type": "code",
      "execution_count": null,
      "metadata": {
        "collapsed": false
      },
      "outputs": [],
      "source": [
        "setup = M2D.create_setup(name=setup_name)\nsetup.props[\"StopTime\"] = \"StopTime\"\nsetup.props[\"TimeStep\"] = \"TimeStep\"\nsetup.props[\"SaveFieldsType\"] = \"None\"\nsetup.props[\"OutputPerObjectCoreLoss\"] = True\nsetup.props[\"OutputPerObjectSolidLoss\"] = True\nsetup.props[\"OutputError\"] = True\nsetup.update()\nM2D.validate_simple()\n\nmodel = M2D.plot(show=False)\nmodel.plot(os.path.join(M2D.working_directory, \"Image.jpg\"))"
      ]
    },
    {
      "cell_type": "markdown",
      "metadata": {},
      "source": [
        "## Initialize definitions for output variables\nInitialize the definitions for the output variables.\nThese will be used later to generate reports.\n\n"
      ]
    },
    {
      "cell_type": "code",
      "execution_count": null,
      "metadata": {
        "collapsed": false
      },
      "outputs": [],
      "source": [
        "output_vars = {\n    \"Current_A\": \"InputCurrent(Phase_A)\",\n    \"Current_B\": \"InputCurrent(Phase_B)\",\n    \"Current_C\": \"InputCurrent(Phase_C)\",\n    \"Flux_A\": \"FluxLinkage(Phase_A)\",\n    \"Flux_B\": \"FluxLinkage(Phase_B)\",\n    \"Flux_C\": \"FluxLinkage(Phase_C)\",\n    \"pos\": \"(Moving1.Position -InitialPositionMD) *NumPoles/2\",\n    \"cos0\": \"cos(pos)\",\n    \"cos1\": \"cos(pos-2*PI/3)\",\n    \"cos2\": \"cos(pos-4*PI/3)\",\n    \"sin0\": \"sin(pos)\",\n    \"sin1\": \"sin(pos-2*PI/3)\",\n    \"sin2\": \"sin(pos-4*PI/3)\",\n    \"Flux_d\": \"2/3*(Flux_A*cos0+Flux_B*cos1+Flux_C*cos2)\",\n    \"Flux_q\": \"-2/3*(Flux_A*sin0+Flux_B*sin1+Flux_C*sin2)\",\n    \"I_d\": \"2/3*(Current_A*cos0 + Current_B*cos1 + Current_C*cos2)\",\n    \"I_q\": \"-2/3*(Current_A*sin0 + Current_B*sin1 + Current_C*sin2)\",\n    \"Irms\": \"sqrt(I_d^2+I_q^2)/sqrt(2)\",\n    \"ArmatureOhmicLoss_DC\": \"Irms^2*R_phase\",\n    \"Lad\": \"L(Phase_A,Phase_A)*cos0 + L(Phase_A,Phase_B)*cos1 + L(Phase_A,Phase_C)*cos2\",\n    \"Laq\": \"L(Phase_A,Phase_A)*sin0 + L(Phase_A,Phase_B)*sin1 + L(Phase_A,Phase_C)*sin2\",\n    \"Lbd\": \"L(Phase_B,Phase_A)*cos0 + L(Phase_B,Phase_B)*cos1 + L(Phase_B,Phase_C)*cos2\",\n    \"Lbq\": \"L(Phase_B,Phase_A)*sin0 + L(Phase_B,Phase_B)*sin1 + L(Phase_B,Phase_C)*sin2\",\n    \"Lcd\": \"L(Phase_C,Phase_A)*cos0 + L(Phase_C,Phase_B)*cos1 + L(Phase_C,Phase_C)*cos2\",\n    \"Lcq\": \"L(Phase_C,Phase_A)*sin0 + L(Phase_C,Phase_B)*sin1 + L(Phase_C,Phase_C)*sin2\",\n    \"L_d\": \"(Lad*cos0 + Lbd*cos1 + Lcd*cos2) * 2/3\",\n    \"L_q\": \"(Laq*sin0 + Lbq*sin1 + Lcq*sin2) * 2/3\",\n    \"OutputPower\": \"Moving1.Speed*Moving1.Torque\",\n    \"Ui_A\": \"InducedVoltage(Phase_A)\",\n    \"Ui_B\": \"InducedVoltage(Phase_B)\",\n    \"Ui_C\": \"InducedVoltage(Phase_C)\",\n    \"Ui_d\": \"2/3*(Ui_A*cos0 + Ui_B*cos1 + Ui_C*cos2)\",\n    \"Ui_q\": \"-2/3*(Ui_A*sin0 + Ui_B*sin1 + Ui_C*sin2)\",\n    \"U_A\": \"Ui_A+R_Phase*Current_A\",\n    \"U_B\": \"Ui_B+R_Phase*Current_B\",\n    \"U_C\": \"Ui_C+R_Phase*Current_C\",\n    \"U_d\": \"2/3*(U_A*cos0 + U_B*cos1 + U_C*cos2)\",\n    \"U_q\": \"-2/3*(U_A*sin0 + U_B*sin1 + U_C*sin2)\"\n}"
      ]
    },
    {
      "cell_type": "markdown",
      "metadata": {},
      "source": [
        "## Create output variables for postprocessing\nCreate output variables for postprocessing.\n\n"
      ]
    },
    {
      "cell_type": "code",
      "execution_count": null,
      "metadata": {
        "collapsed": false
      },
      "outputs": [],
      "source": [
        "for k, v in output_vars.items():\n    M2D.create_output_variable(k, v)"
      ]
    },
    {
      "cell_type": "markdown",
      "metadata": {},
      "source": [
        "## Initialize definition for postprocessing plots\nInitialize the definition for postprocessing plots.\n\n"
      ]
    },
    {
      "cell_type": "code",
      "execution_count": null,
      "metadata": {
        "collapsed": false
      },
      "outputs": [],
      "source": [
        "post_params = {\n    \"Moving1.Torque\": \"TorquePlots\"\n}"
      ]
    },
    {
      "cell_type": "markdown",
      "metadata": {},
      "source": [
        "## Initialize definition for postprocessing multiplots\nInitialize the definition for postprocessing multiplots.\n\n"
      ]
    },
    {
      "cell_type": "code",
      "execution_count": null,
      "metadata": {
        "collapsed": false
      },
      "outputs": [],
      "source": [
        "post_params_multiplot = {  # reports\n    (\"U_A\", \"U_B\", \"U_C\", \"Ui_A\", \"Ui_B\", \"Ui_C\"): \"PhaseVoltages\",\n    (\"CoreLoss\", \"SolidLoss\", \"ArmatureOhmicLoss_DC\"): \"Losses\",\n    (\"InputCurrent(Phase_A)\", \"InputCurrent(Phase_B)\", \"InputCurrent(Phase_C)\"): \"PhaseCurrents\",\n    (\"FluxLinkage(Phase_A)\", \"FluxLinkage(Phase_B)\", \"FluxLinkage(Phase_C)\"): \"PhaseFluxes\",\n    (\"I_d\", \"I_q\"): \"Currents_dq\",\n    (\"Flux_d\", \"Flux_q\"): \"Fluxes_dq\",\n    (\"Ui_d\", \"Ui_q\"): \"InducedVoltages_dq\",\n    (\"U_d\", \"U_q\"): \"Voltages_dq\",\n    (\"L(Phase_A,Phase_A)\", \"L(Phase_B,Phase_B)\", \"L(Phase_C,Phase_C)\", \"L(Phase_A,Phase_B)\", \"L(Phase_A,Phase_C)\",\n     \"L(Phase_B,Phase_C)\"): \"PhaseInductances\",\n    (\"L_d\", \"L_q\"): \"Inductances_dq\",\n    (\"CoreLoss\", \"CoreLoss(Stator)\", \"CoreLoss(Rotor)\"): \"CoreLosses\",\n    (\"EddyCurrentLoss\", \"EddyCurrentLoss(Stator)\", \"EddyCurrentLoss(Rotor)\"): \"EddyCurrentLosses (Core)\",\n    (\"ExcessLoss\", \"ExcessLoss(Stator)\", \"ExcessLoss(Rotor)\"): \"ExcessLosses (Core)\",\n    (\"HysteresisLoss\", \"HysteresisLoss(Stator)\", \"HysteresisLoss(Rotor)\"): \"HysteresisLosses (Core)\",\n    (\"SolidLoss\", \"SolidLoss(IPM1)\", \"SolidLoss(IPM1_1)\", \"SolidLoss(OPM1)\", \"SolidLoss(OPM1_1)\"): \"SolidLoss\"\n}"
      ]
    },
    {
      "cell_type": "markdown",
      "metadata": {},
      "source": [
        "## Create report\nCreate a report.\n\n"
      ]
    },
    {
      "cell_type": "code",
      "execution_count": null,
      "metadata": {
        "collapsed": false
      },
      "outputs": [],
      "source": [
        "for k, v in post_params.items():\n    M2D.post.create_report(expressions=k, setup_sweep_name=\"\", domain=\"Sweep\", variations=None,\n                           primary_sweep_variable=\"Time\", secondary_sweep_variable=None, report_category=None,\n                           plot_type=\"Rectangular Plot\", context=None, subdesign_id=None, polyline_points=1001,\n                           plot_name=v)"
      ]
    },
    {
      "cell_type": "markdown",
      "metadata": {},
      "source": [
        "## Create multiplot report\nCreate a multiplot report.\n\n"
      ]
    },
    {
      "cell_type": "code",
      "execution_count": null,
      "metadata": {
        "collapsed": false
      },
      "outputs": [],
      "source": [
        "# for k, v in post_params_multiplot.items():\n#     M2D.post.create_report(expressions=list(k), setup_sweep_name=\"\", domain=\"Sweep\", variations=None,\n#                            primary_sweep_variable=\"Time\", secondary_sweep_variable=None,\n#                            report_category=None, plot_type=\"Rectangular Plot\", context=None, subdesign_id=None,\n#                            polyline_points=1001, plotname=v)"
      ]
    },
    {
      "cell_type": "markdown",
      "metadata": {},
      "source": [
        "## Analyze and save project\nAnalyze and save the project.\n\n"
      ]
    },
    {
      "cell_type": "code",
      "execution_count": null,
      "metadata": {
        "collapsed": false
      },
      "outputs": [],
      "source": [
        "M2D.save_project()\nM2D.analyze_setup(setup_name, use_auto_settings=False)"
      ]
    },
    {
      "cell_type": "markdown",
      "metadata": {},
      "source": [
        "## Create flux lines plot on region\nCreate a flux lines plot on a region. The ``object_list`` is\nformerly created when the section is applied.\n\n"
      ]
    },
    {
      "cell_type": "code",
      "execution_count": null,
      "metadata": {
        "collapsed": false
      },
      "outputs": [],
      "source": [
        "faces_reg = mod2D.get_object_faces(object_list[1].name)  # Region\nplot1 = M2D.post.create_fieldplot_surface(assignment=faces_reg, quantity='Flux_Lines', intrinsics={\n    \"Time\": M2D.variable_manager.variables[\"StopTime\"].evaluated_value}, plot_name=\"Flux_Lines\")"
      ]
    },
    {
      "cell_type": "markdown",
      "metadata": {},
      "source": [
        "## Export a field plot to an image file\nExport the flux lines plot to an image file using Python PyVista.\n\n"
      ]
    },
    {
      "cell_type": "code",
      "execution_count": null,
      "metadata": {
        "collapsed": false
      },
      "outputs": [],
      "source": [
        "M2D.post.plot_field_from_fieldplot(plot1.name, show=False)"
      ]
    },
    {
      "cell_type": "markdown",
      "metadata": {},
      "source": [
        "## Get solution data\nGet a simulation result from a solved setup and cast it in a ``SolutionData`` object.\nPlot the desired expression by using Matplotlib plot().\n\n"
      ]
    },
    {
      "cell_type": "code",
      "execution_count": null,
      "metadata": {
        "collapsed": false
      },
      "outputs": [],
      "source": [
        "solutions = M2D.post.get_solution_data(expressions=\"Moving1.Torque\",\n                                       primary_sweep_variable=\"Time\")\n#solutions.plot()"
      ]
    },
    {
      "cell_type": "markdown",
      "metadata": {},
      "source": [
        "## Retrieve the data magnitude of an expression\nList of shaft torque points and compute average.\n\n"
      ]
    },
    {
      "cell_type": "code",
      "execution_count": null,
      "metadata": {
        "collapsed": false
      },
      "outputs": [],
      "source": [
        "mag = solutions.data_magnitude()\navg = sum(mag) / len(mag)"
      ]
    },
    {
      "cell_type": "markdown",
      "metadata": {},
      "source": [
        "## Export a report to a file\nExport a 2D Plot data to a .csv file.\n\n"
      ]
    },
    {
      "cell_type": "code",
      "execution_count": null,
      "metadata": {
        "collapsed": false
      },
      "outputs": [],
      "source": [
        "M2D.post.export_report_to_file(output_dir=M2D.toolkit_directory,\n                               plot_name=\"TorquePlots\",\n                               extension=\".csv\")"
      ]
    },
    {
      "cell_type": "markdown",
      "metadata": {},
      "source": [
        "## Close AEDT\nClose AEDT.\n\n"
      ]
    },
    {
      "cell_type": "code",
      "execution_count": null,
      "metadata": {
        "collapsed": false
      },
      "outputs": [],
      "source": [
        "M2D.release_desktop()"
      ]
    }
  ],
  "metadata": {
    "kernelspec": {
      "display_name": "Python 3",
      "language": "python",
      "name": "python3"
    },
    "language_info": {
      "codemirror_mode": {
        "name": "ipython",
        "version": 3
      },
      "file_extension": ".py",
      "mimetype": "text/x-python",
      "name": "python",
      "nbconvert_exporter": "python",
      "pygments_lexer": "ipython3",
      "version": "3.10.9"
    }
  },
  "nbformat": 4,
  "nbformat_minor": 0
}