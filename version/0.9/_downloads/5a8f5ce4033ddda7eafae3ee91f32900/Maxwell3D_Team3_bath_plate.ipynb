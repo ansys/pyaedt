{
  "cells": [
    {
      "cell_type": "markdown",
      "metadata": {},
      "source": [
        "\n# Maxwell 3D: bath plate analysis\nThis example uses PyAEDT to set up the TEAM 3 bath plate problem and\nsolve it using the Maxwell 3D Eddy Current solver.\nhttps://www.compumag.org/wp/wp-content/uploads/2018/06/problem3.pdf\n"
      ]
    },
    {
      "cell_type": "markdown",
      "metadata": {},
      "source": [
        "## Perform required imports\nPerform required imports.\n\n"
      ]
    },
    {
      "cell_type": "code",
      "execution_count": null,
      "metadata": {
        "collapsed": false
      },
      "outputs": [],
      "source": [
        "import os\nimport pyaedt\nimport tempfile"
      ]
    },
    {
      "cell_type": "markdown",
      "metadata": {},
      "source": [
        "## Set AEDT version\nSet AEDT version.\n\n"
      ]
    },
    {
      "cell_type": "code",
      "execution_count": null,
      "metadata": {
        "collapsed": false
      },
      "outputs": [],
      "source": [
        "aedt_version = \"2024.2\""
      ]
    },
    {
      "cell_type": "markdown",
      "metadata": {},
      "source": [
        "## Create temporary directory\nCreate temporary directory.\n\n"
      ]
    },
    {
      "cell_type": "code",
      "execution_count": null,
      "metadata": {
        "collapsed": false
      },
      "outputs": [],
      "source": [
        "temp_dir = tempfile.TemporaryDirectory(suffix=\".ansys\")"
      ]
    },
    {
      "cell_type": "markdown",
      "metadata": {},
      "source": [
        "## Set non-graphical mode\nSet non-graphical mode. \nYou can set ``non_graphical`` either to ``True`` or ``False``.\n\n"
      ]
    },
    {
      "cell_type": "code",
      "execution_count": null,
      "metadata": {
        "collapsed": false
      },
      "outputs": [],
      "source": [
        "non_graphical = False"
      ]
    },
    {
      "cell_type": "markdown",
      "metadata": {},
      "source": [
        "## Launch AEDT and Maxwell 3D\nLaunch AEDT and Maxwell 3D after first setting up the project and design names,\nthe solver, and the version. The following code also creates an instance of the\n``Maxwell3d`` class named ``M3D``. \n\n"
      ]
    },
    {
      "cell_type": "code",
      "execution_count": null,
      "metadata": {
        "collapsed": false
      },
      "outputs": [],
      "source": [
        "project_name = os.path.join(temp_dir.name, \"COMPUMAG.aedt\")\ndesign_name = \"TEAM 3 Bath Plate\"\nsolver = \"EddyCurrent\"\n\nm3d = pyaedt.Maxwell3d(\n    project=project_name,\n    design=design_name,\n    solution_type=solver,\n    version=aedt_version,\n    non_graphical=non_graphical,\n    new_desktop=True,\n)\nm3d.modeler.model_units = \"mm\""
      ]
    },
    {
      "cell_type": "markdown",
      "metadata": {},
      "source": [
        "## Add variable\nAdd a design variable named ``Coil_Position`` that you use later to adjust the\nposition of the coil.\n\n"
      ]
    },
    {
      "cell_type": "code",
      "execution_count": null,
      "metadata": {
        "collapsed": false
      },
      "outputs": [],
      "source": [
        "Coil_Position = -20\nm3d[\"Coil_Position\"] = str(Coil_Position) + m3d.modeler.model_units"
      ]
    },
    {
      "cell_type": "markdown",
      "metadata": {},
      "source": [
        "## Add material\nAdd a material named ``team3_aluminium`` for the ladder plate.\n\n"
      ]
    },
    {
      "cell_type": "code",
      "execution_count": null,
      "metadata": {
        "collapsed": false
      },
      "outputs": [],
      "source": [
        "mat = m3d.materials.add_material(\"team3_aluminium\")\nmat.conductivity = 32780000"
      ]
    },
    {
      "cell_type": "markdown",
      "metadata": {},
      "source": [
        "## Draw background region\nDraw a background region that uses the default properties for an air region.\n\n"
      ]
    },
    {
      "cell_type": "code",
      "execution_count": null,
      "metadata": {
        "collapsed": false
      },
      "outputs": [],
      "source": [
        "m3d.modeler.create_air_region(x_pos=100, y_pos=100, z_pos=100, x_neg=100, y_neg=100, z_neg=100)"
      ]
    },
    {
      "cell_type": "markdown",
      "metadata": {},
      "source": [
        "## Draw ladder plate and assign material\nDraw a ladder plate and assign it the newly created material ``team3_aluminium``.\n\n"
      ]
    },
    {
      "cell_type": "code",
      "execution_count": null,
      "metadata": {
        "collapsed": false
      },
      "outputs": [],
      "source": [
        "m3d.modeler.create_box(origin=[-30, -55, 0], sizes=[60, 110, -6.35], name=\"LadderPlate\", material=\"team3_aluminium\")\nm3d.modeler.create_box(origin=[-20, -35, 0], sizes=[40, 30, -6.35], name=\"CutoutTool1\")\nm3d.modeler.create_box(origin=[-20, 5, 0], sizes=[40, 30, -6.35], name=\"CutoutTool2\")\nm3d.modeler.subtract(\"LadderPlate\", [\"CutoutTool1\", \"CutoutTool2\"], keep_originals=False)"
      ]
    },
    {
      "cell_type": "markdown",
      "metadata": {},
      "source": [
        "## Add mesh refinement to ladder plate\nAdd a mesh refinement to the ladder plate.\n\n"
      ]
    },
    {
      "cell_type": "code",
      "execution_count": null,
      "metadata": {
        "collapsed": false
      },
      "outputs": [],
      "source": [
        "m3d.mesh.assign_length_mesh(\"LadderPlate\", maximum_length=3, maximum_elements=None, name=\"Ladder_Mesh\")"
      ]
    },
    {
      "cell_type": "markdown",
      "metadata": {},
      "source": [
        "## Draw search coil and assign excitation\nDraw a search coil and assign it a ``stranded`` current excitation. \nThe stranded type forces the current density to be constant in the coil.\n\n"
      ]
    },
    {
      "cell_type": "code",
      "execution_count": null,
      "metadata": {
        "collapsed": false
      },
      "outputs": [],
      "source": [
        "m3d.modeler.create_cylinder(orientation=\"Z\", origin=[0, \"Coil_Position\", 15], radius=40, height=20, name=\"SearchCoil\",\n                            material=\"copper\")\nm3d.modeler.create_cylinder(orientation=\"Z\", origin=[0, \"Coil_Position\", 15], radius=20, height=20, name=\"Bore\",\n                            material=\"copper\")\nm3d.modeler.subtract(\"SearchCoil\", \"Bore\", keep_originals=False)\nm3d.modeler.section(\"SearchCoil\", \"YZ\")\nm3d.modeler.separate_bodies(\"SearchCoil_Section1\")\nm3d.modeler.delete(\"SearchCoil_Section1_Separate1\")\nm3d.assign_current(assignment=[\"SearchCoil_Section1\"], amplitude=1260, solid=False, name=\"SearchCoil_Excitation\")"
      ]
    },
    {
      "cell_type": "markdown",
      "metadata": {},
      "source": [
        "## Draw a line for plotting Bz\nDraw a line for plotting Bz later. Bz is the Z component of the flux\ndensity. The following code also adds a small diameter cylinder to refine the\nmesh locally around the line.\n\n"
      ]
    },
    {
      "cell_type": "code",
      "execution_count": null,
      "metadata": {
        "collapsed": false
      },
      "outputs": [],
      "source": [
        "line_points = [[\"0mm\", \"-55mm\", \"0.5mm\"], [\"0mm\", \"55mm\", \"0.5mm\"]]\nm3d.modeler.create_polyline(points=line_points, name=\"Line_AB\")\npoly = m3d.modeler.create_polyline(points=line_points, name=\"Line_AB_MeshRefinement\")\npoly.set_crosssection_properties(type=\"Circle\", width=\"0.5mm\")"
      ]
    },
    {
      "cell_type": "markdown",
      "metadata": {},
      "source": [
        "## Plot model\nPlot the model.\n\n"
      ]
    },
    {
      "cell_type": "code",
      "execution_count": null,
      "metadata": {
        "collapsed": false
      },
      "outputs": [],
      "source": [
        "m3d.plot(show=False, output_file=os.path.join(temp_dir.name, \"Image.jpg\"), plot_air_objects=False)"
      ]
    },
    {
      "cell_type": "markdown",
      "metadata": {},
      "source": [
        "## Add Maxwell 3D setup\nAdd a Maxwell 3D setup with frequency points at 50 Hz and 200 Hz.\n\n"
      ]
    },
    {
      "cell_type": "code",
      "execution_count": null,
      "metadata": {
        "collapsed": false
      },
      "outputs": [],
      "source": [
        "setup = m3d.create_setup(name=\"Setup1\")\nsetup.props[\"Frequency\"] = \"200Hz\"\nsetup.props[\"HasSweepSetup\"] = True\nsetup.add_eddy_current_sweep(range_type=\"LinearStep\", start=50, end=200, count=150, clear=True)"
      ]
    },
    {
      "cell_type": "markdown",
      "metadata": {},
      "source": [
        "## Adjust eddy effects\nAdjust eddy effects for the ladder plate and the search coil. The setting for\neddy effect is ignored for the stranded conductor type used in the search coil.\n\n"
      ]
    },
    {
      "cell_type": "code",
      "execution_count": null,
      "metadata": {
        "collapsed": false
      },
      "outputs": [],
      "source": [
        "m3d.eddy_effects_on(assignment=[\"LadderPlate\"], enable_eddy_effects=True, enable_displacement_current=True)\nm3d.eddy_effects_on(assignment=[\"SearchCoil\"], enable_eddy_effects=False, enable_displacement_current=True)"
      ]
    },
    {
      "cell_type": "markdown",
      "metadata": {},
      "source": [
        "## Add linear parametric sweep\nAdd a linear parametric sweep for the two coil positions.\n\n"
      ]
    },
    {
      "cell_type": "code",
      "execution_count": null,
      "metadata": {
        "collapsed": false
      },
      "outputs": [],
      "source": [
        "sweep_name = \"CoilSweep\"\nparam = m3d.parametrics.add(\"Coil_Position\", -20, 0, 20, \"LinearStep\", name=sweep_name)\nparam[\"SaveFields\"] = True\nparam[\"CopyMesh\"] = False\nparam[\"SolveWithCopiedMeshOnly\"] = True"
      ]
    },
    {
      "cell_type": "markdown",
      "metadata": {},
      "source": [
        "## Solve parametric sweep\nSolve the parametric sweep directly so that results of all variations are available.\n\n"
      ]
    },
    {
      "cell_type": "code",
      "execution_count": null,
      "metadata": {
        "collapsed": false
      },
      "outputs": [],
      "source": [
        "m3d.analyze_setup(sweep_name)"
      ]
    },
    {
      "cell_type": "markdown",
      "metadata": {},
      "source": [
        "## Create expression for Bz\nCreate an expression for Bz using the fields calculator.\n\n"
      ]
    },
    {
      "cell_type": "code",
      "execution_count": null,
      "metadata": {
        "collapsed": false
      },
      "outputs": [],
      "source": [
        "Fields = m3d.ofieldsreporter\nFields.EnterQty(\"B\")\nFields.CalcOp(\"ScalarZ\")\nFields.EnterScalar(1000)\nFields.CalcOp(\"*\")\nFields.CalcOp(\"Smooth\")\nFields.AddNamedExpression(\"Bz\", \"Fields\")"
      ]
    },
    {
      "cell_type": "markdown",
      "metadata": {},
      "source": [
        "## Plot mag(Bz) as a function of frequency\nPlot mag(Bz) as a function of frequency for both coil positions.\n\n"
      ]
    },
    {
      "cell_type": "code",
      "execution_count": null,
      "metadata": {
        "collapsed": false
      },
      "outputs": [],
      "source": [
        "variations = {\"Distance\": [\"All\"], \"Freq\": [\"All\"], \"Phase\": [\"0deg\"], \"Coil_Position\": [\"All\"]}\nm3d.post.create_report(expressions=\"mag(Bz)\", variations=variations, primary_sweep_variable=\"Distance\",\n                       report_category=\"Fields\", context=\"Line_AB\", plot_name=\"mag(Bz) Along 'Line_AB' Coil\")"
      ]
    },
    {
      "cell_type": "markdown",
      "metadata": {},
      "source": [
        "## Get simulation results from a solved setup\nGet simulation results from a solved setup as a ``SolutionData`` object.\n\n"
      ]
    },
    {
      "cell_type": "code",
      "execution_count": null,
      "metadata": {
        "collapsed": false
      },
      "outputs": [],
      "source": [
        "solutions = m3d.post.get_solution_data(\n    expressions=\"mag(Bz)\",\n    report_category=\"Fields\",\n    context=\"Line_AB\",\n    variations=variations,\n    primary_sweep_variable=\"Distance\",\n)"
      ]
    },
    {
      "cell_type": "markdown",
      "metadata": {},
      "source": [
        "## Set up sweep value and plot solution\nSet up a sweep value and plot the solution.\n\n"
      ]
    },
    {
      "cell_type": "code",
      "execution_count": null,
      "metadata": {
        "collapsed": false
      },
      "outputs": [],
      "source": [
        "solutions.active_variation[\"Coil_Position\"] = -0.02\nsolutions.plot()"
      ]
    },
    {
      "cell_type": "markdown",
      "metadata": {},
      "source": [
        "## Change sweep value and plot solution\nChange the sweep value and plot the solution again.\n\n"
      ]
    },
    {
      "cell_type": "code",
      "execution_count": null,
      "metadata": {
        "collapsed": false
      },
      "outputs": [],
      "source": [
        "solutions.active_variation[\"Coil_Position\"] = 0\nsolutions.plot()"
      ]
    },
    {
      "cell_type": "markdown",
      "metadata": {},
      "source": [
        "## Plot induced current density on surface of ladder plate\nPlot the induced current density, ``\"Mag_J\"``, on the surface of the ladder plate.\n\n"
      ]
    },
    {
      "cell_type": "code",
      "execution_count": null,
      "metadata": {
        "collapsed": false
      },
      "outputs": [],
      "source": [
        "ladder_plate = m3d.modeler.objects_by_name[\"LadderPlate\"]\nintrinsic_dict = {\"Freq\": \"50Hz\", \"Phase\": \"0deg\"}\nm3d.post.create_fieldplot_surface(ladder_plate.faces, \"Mag_J\", intrinsics=intrinsic_dict, plot_name=\"Mag_J\")"
      ]
    },
    {
      "cell_type": "markdown",
      "metadata": {},
      "source": [
        "## Release AEDT\nRelease AEDT from the script engine, leaving both AEDT and the project open.\n\n"
      ]
    },
    {
      "cell_type": "code",
      "execution_count": null,
      "metadata": {
        "collapsed": false
      },
      "outputs": [],
      "source": [
        "m3d.release_desktop()\n\ntemp_dir.cleanup()"
      ]
    }
  ],
  "metadata": {
    "kernelspec": {
      "display_name": "Python 3",
      "language": "python",
      "name": "python3"
    },
    "language_info": {
      "codemirror_mode": {
        "name": "ipython",
        "version": 3
      },
      "file_extension": ".py",
      "mimetype": "text/x-python",
      "name": "python",
      "nbconvert_exporter": "python",
      "pygments_lexer": "ipython3",
      "version": "3.10.9"
    }
  },
  "nbformat": 4,
  "nbformat_minor": 0
}