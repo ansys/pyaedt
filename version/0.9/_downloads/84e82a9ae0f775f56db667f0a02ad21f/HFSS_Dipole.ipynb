{
  "cells": [
    {
      "cell_type": "markdown",
      "metadata": {},
      "source": [
        "\n# HFSS: dipole antenna\nThis example shows how you can use PyAEDT to create a dipole antenna in HFSS and postprocess results.\n"
      ]
    },
    {
      "cell_type": "markdown",
      "metadata": {},
      "source": [
        "## Perform required imports\nPerform required imports.\n\n"
      ]
    },
    {
      "cell_type": "code",
      "execution_count": null,
      "metadata": {
        "collapsed": false
      },
      "outputs": [],
      "source": [
        "import os\nimport pyaedt\n\nproject_name = pyaedt.generate_unique_project_name(project_name=\"dipole\")"
      ]
    },
    {
      "cell_type": "markdown",
      "metadata": {},
      "source": [
        "## Set AEDT version\nSet AEDT version.\n\n"
      ]
    },
    {
      "cell_type": "code",
      "execution_count": null,
      "metadata": {
        "collapsed": false
      },
      "outputs": [],
      "source": [
        "aedt_version = \"2024.2\""
      ]
    },
    {
      "cell_type": "markdown",
      "metadata": {},
      "source": [
        "## Set non-graphical mode\nSet non-graphical mode. `\nYou can set ``non_graphical`` either to ``True`` or ``False``.\n\n"
      ]
    },
    {
      "cell_type": "code",
      "execution_count": null,
      "metadata": {
        "collapsed": false
      },
      "outputs": [],
      "source": [
        "non_graphical = False"
      ]
    },
    {
      "cell_type": "markdown",
      "metadata": {},
      "source": [
        "## Launch AEDT\nLaunch AEDT 2023 R2 in graphical mode.\n\n"
      ]
    },
    {
      "cell_type": "code",
      "execution_count": null,
      "metadata": {
        "collapsed": false
      },
      "outputs": [],
      "source": [
        "d = pyaedt.launch_desktop(aedt_version, non_graphical=non_graphical, new_desktop=True)"
      ]
    },
    {
      "cell_type": "markdown",
      "metadata": {},
      "source": [
        "## Launch HFSS\nLaunch HFSS 2023 R2 in graphical mode.\n\n"
      ]
    },
    {
      "cell_type": "code",
      "execution_count": null,
      "metadata": {
        "collapsed": false
      },
      "outputs": [],
      "source": [
        "hfss = pyaedt.Hfss(project=project_name, solution_type=\"Modal\")"
      ]
    },
    {
      "cell_type": "markdown",
      "metadata": {},
      "source": [
        "## Define variable\nDefine a variable for the dipole length.\n\n"
      ]
    },
    {
      "cell_type": "code",
      "execution_count": null,
      "metadata": {
        "collapsed": false
      },
      "outputs": [],
      "source": [
        "hfss[\"l_dipole\"] = \"13.5cm\""
      ]
    },
    {
      "cell_type": "markdown",
      "metadata": {},
      "source": [
        "## Get 3D component from system library\nGet a 3D component from the ``syslib`` directory. For this example to run\ncorrectly, you must get all geometry parameters of the 3D component or, in\ncase of an encrypted 3D component, create a dictionary of the parameters.\n\n"
      ]
    },
    {
      "cell_type": "code",
      "execution_count": null,
      "metadata": {
        "collapsed": false
      },
      "outputs": [],
      "source": [
        "compfile = hfss.components3d[\"Dipole_Antenna_DM\"]\ngeometryparams = hfss.get_components3d_vars(\"Dipole_Antenna_DM\")\ngeometryparams[\"dipole_length\"] = \"l_dipole\"\nhfss.modeler.insert_3d_component(compfile, geometryparams)"
      ]
    },
    {
      "cell_type": "markdown",
      "metadata": {},
      "source": [
        "## Create boundaries\nCreate boundaries. A region with openings is needed to run the analysis.\n\n"
      ]
    },
    {
      "cell_type": "code",
      "execution_count": null,
      "metadata": {
        "collapsed": false
      },
      "outputs": [],
      "source": [
        "hfss.create_open_region(frequency=\"1GHz\")"
      ]
    },
    {
      "cell_type": "markdown",
      "metadata": {},
      "source": [
        "## Plot model\nPlot the model.\n\n"
      ]
    },
    {
      "cell_type": "code",
      "execution_count": null,
      "metadata": {
        "collapsed": false
      },
      "outputs": [],
      "source": [
        "my_plot = hfss.plot(show=False, plot_air_objects=False)\nmy_plot.show_axes = False\nmy_plot.show_grid = False\nmy_plot.isometric_view = False\nmy_plot.plot(\n    os.path.join(hfss.working_directory, \"Image.jpg\"),\n)"
      ]
    },
    {
      "cell_type": "markdown",
      "metadata": {},
      "source": [
        "## Create setup\nCreate a setup with a sweep to run the simulation.\n\n"
      ]
    },
    {
      "cell_type": "code",
      "execution_count": null,
      "metadata": {
        "collapsed": false
      },
      "outputs": [],
      "source": [
        "setup = hfss.create_setup(\"MySetup\")\nsetup.props[\"Frequency\"] = \"1GHz\"\nsetup.props[\"MaximumPasses\"] = 1\nhfss.create_linear_count_sweep(setup=setup.name, units=\"GHz\", start_frequency=0.5, stop_frequency=1.5,\n                               num_of_freq_points=251, name=\"sweep1\", save_fields=False, sweep_type=\"Interpolating\",\n                               interpolation_tol=3, interpolation_max_solutions=255)"
      ]
    },
    {
      "cell_type": "markdown",
      "metadata": {},
      "source": [
        "## Save and run simulation\nSave and run the simulation.\n\n"
      ]
    },
    {
      "cell_type": "code",
      "execution_count": null,
      "metadata": {
        "collapsed": false
      },
      "outputs": [],
      "source": [
        "hfss.analyze_setup(\"MySetup\")"
      ]
    },
    {
      "cell_type": "markdown",
      "metadata": {},
      "source": [
        "## Create scattering plot and far fields report\nCreate a scattering plot and a far fields report.\n\n"
      ]
    },
    {
      "cell_type": "code",
      "execution_count": null,
      "metadata": {
        "collapsed": false
      },
      "outputs": [],
      "source": [
        "hfss.create_scattering(\"MyScattering\")\nvariations = hfss.available_variations.nominal_w_values_dict\nvariations[\"Freq\"] = [\"1GHz\"]\nvariations[\"Theta\"] = [\"All\"]\nvariations[\"Phi\"] = [\"All\"]\nhfss.post.create_report(\"db(GainTotal)\", hfss.nominal_adaptive, variations, primary_sweep_variable=\"Theta\",\n                        report_category=\"Far Fields\", context=\"3D\")"
      ]
    },
    {
      "cell_type": "markdown",
      "metadata": {},
      "source": [
        "## Create far fields report using report objects\nCreate a far fields report using the ``report_by_category.far field`` method,\nwhich gives you more freedom.\n\n"
      ]
    },
    {
      "cell_type": "code",
      "execution_count": null,
      "metadata": {
        "collapsed": false
      },
      "outputs": [],
      "source": [
        "new_report = hfss.post.reports_by_category.far_field(\"db(RealizedGainTotal)\", hfss.nominal_adaptive, \"3D\")\nnew_report.variations = variations\nnew_report.primary_sweep = \"Theta\"\nnew_report.create(\"Realized2D\")"
      ]
    },
    {
      "cell_type": "markdown",
      "metadata": {},
      "source": [
        "## Generate multiple plots\nGenerate multiple plots using the object ``new_report``. This code generates\n2D and 3D polar plots.\n\n"
      ]
    },
    {
      "cell_type": "code",
      "execution_count": null,
      "metadata": {
        "collapsed": false
      },
      "outputs": [],
      "source": [
        "new_report.report_type = \"3D Polar Plot\"\nnew_report.secondary_sweep = \"Phi\"\nnew_report.create(\"Realized3D\")"
      ]
    },
    {
      "cell_type": "markdown",
      "metadata": {},
      "source": [
        "## Get solution data\nGet solution data using the object ``new_report``` and postprocess or plot the\ndata outside AEDT.\n\n"
      ]
    },
    {
      "cell_type": "code",
      "execution_count": null,
      "metadata": {
        "collapsed": false
      },
      "outputs": [],
      "source": [
        "solution_data = new_report.get_solution_data()\nsolution_data.plot()"
      ]
    },
    {
      "cell_type": "markdown",
      "metadata": {},
      "source": [
        "## Generate far field plot\nGenerate a far field plot by creating a postprocessing variable and assigning\nit to a new coordinate system. You can use the ``post`` prefix to create a\npostprocessing variable directly from a setter, or you can use the ``set_variable``\nmethod with an arbitrary name.\n\n"
      ]
    },
    {
      "cell_type": "code",
      "execution_count": null,
      "metadata": {
        "collapsed": false
      },
      "outputs": [],
      "source": [
        "hfss[\"post_x\"] = 2\nhfss.variable_manager.set_variable(name=\"y_post\", expression=1, is_post_processing=True)\nhfss.modeler.create_coordinate_system(origin=[\"post_x\", \"y_post\", 0], name=\"CS_Post\")\nhfss.insert_infinite_sphere(custom_coordinate_system=\"CS_Post\", name=\"Sphere_Custom\")"
      ]
    },
    {
      "cell_type": "markdown",
      "metadata": {},
      "source": [
        "## Get solution data\nGet solution data. You can use this code to generate the same plot outside AEDT.\n\n"
      ]
    },
    {
      "cell_type": "code",
      "execution_count": null,
      "metadata": {
        "collapsed": false
      },
      "outputs": [],
      "source": [
        "new_report = hfss.post.reports_by_category.far_field(\"GainTotal\", hfss.nominal_adaptive, \"3D\")\nnew_report.primary_sweep = \"Theta\"\nnew_report.far_field_sphere = \"3D\"\nsolutions = new_report.get_solution_data()"
      ]
    },
    {
      "cell_type": "markdown",
      "metadata": {},
      "source": [
        "## Generate 3D plot using Matplotlib\nGenerate a 3D plot using Matplotlib.\n\n"
      ]
    },
    {
      "cell_type": "code",
      "execution_count": null,
      "metadata": {
        "collapsed": false
      },
      "outputs": [],
      "source": [
        "solutions.plot_3d()"
      ]
    },
    {
      "cell_type": "markdown",
      "metadata": {},
      "source": [
        "## Generate 3D far fields plot using Matplotlib\nGenerate a far fields plot using Matplotlib.\n\n"
      ]
    },
    {
      "cell_type": "code",
      "execution_count": null,
      "metadata": {
        "collapsed": false
      },
      "outputs": [],
      "source": [
        "new_report.far_field_sphere = \"Sphere_Custom\"\nsolutions_custom = new_report.get_solution_data()\nsolutions_custom.plot_3d()"
      ]
    },
    {
      "cell_type": "markdown",
      "metadata": {},
      "source": [
        "## Generate 2D plot using Matplotlib\nGenerate a 2D plot using Matplotlib where you specify whether it is a polar\nplot or a rectangular plot.\n\n"
      ]
    },
    {
      "cell_type": "code",
      "execution_count": null,
      "metadata": {
        "collapsed": false
      },
      "outputs": [],
      "source": [
        "solutions.plot()"
      ]
    },
    {
      "cell_type": "markdown",
      "metadata": {},
      "source": [
        "## Get far field data\nGet far field data. After the simulation completes, the far\nfield data is generated port by port and stored in a data class, , user can use this data\nonce AEDT is released.\n\n"
      ]
    },
    {
      "cell_type": "code",
      "execution_count": null,
      "metadata": {
        "collapsed": false
      },
      "outputs": [],
      "source": [
        "ffdata = hfss.get_antenna_data(frequencies=[\"1000MHz\"], setup=hfss.nominal_adaptive,\n                               sphere=\"Sphere_Custom\")"
      ]
    },
    {
      "cell_type": "markdown",
      "metadata": {},
      "source": [
        "## Generate 2D cutout plot\nGenerate 2D cutout plot. You can define the Theta scan\nand Phi scan.\n\n"
      ]
    },
    {
      "cell_type": "code",
      "execution_count": null,
      "metadata": {
        "collapsed": false
      },
      "outputs": [],
      "source": [
        "ffdata.farfield_data.plot_cut(quantity='RealizedGain', primary_sweep=\"theta\", secondary_sweep_value=0, title='FarField',\n                              quantity_format=\"dB20\", is_polar=True)"
      ]
    },
    {
      "cell_type": "markdown",
      "metadata": {},
      "source": [
        "## Close AEDT\nAfter the simulation completes, you can close AEDT or release it using the\n:func:`pyaedt.Desktop.release_desktop` method.\nAll methods provide for saving the project before closing.\n\n"
      ]
    },
    {
      "cell_type": "code",
      "execution_count": null,
      "metadata": {
        "collapsed": false
      },
      "outputs": [],
      "source": [
        "d.release_desktop()"
      ]
    }
  ],
  "metadata": {
    "kernelspec": {
      "display_name": "Python 3",
      "language": "python",
      "name": "python3"
    },
    "language_info": {
      "codemirror_mode": {
        "name": "ipython",
        "version": 3
      },
      "file_extension": ".py",
      "mimetype": "text/x-python",
      "name": "python",
      "nbconvert_exporter": "python",
      "pygments_lexer": "ipython3",
      "version": "3.10.9"
    }
  },
  "nbformat": 4,
  "nbformat_minor": 0
}