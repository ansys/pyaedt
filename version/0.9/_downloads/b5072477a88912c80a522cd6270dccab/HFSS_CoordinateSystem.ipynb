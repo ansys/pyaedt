{
  "cells": [
    {
      "cell_type": "markdown",
      "metadata": {},
      "source": [
        "\n# General: coordinate system creation\nThis example shows how you can use PyAEDT to create and modify coordinate systems in the modeler.\n"
      ]
    },
    {
      "cell_type": "markdown",
      "metadata": {},
      "source": [
        "## Perform required imports\nPerform required imports\n\n"
      ]
    },
    {
      "cell_type": "code",
      "execution_count": null,
      "metadata": {
        "collapsed": false
      },
      "outputs": [],
      "source": [
        "import os\n\nimport pyaedt"
      ]
    },
    {
      "cell_type": "markdown",
      "metadata": {},
      "source": [
        "## Set AEDT version\nSet AEDT version.\n\n"
      ]
    },
    {
      "cell_type": "code",
      "execution_count": null,
      "metadata": {
        "collapsed": false
      },
      "outputs": [],
      "source": [
        "aedt_version = \"2024.2\""
      ]
    },
    {
      "cell_type": "markdown",
      "metadata": {},
      "source": [
        "## Set non-graphical mode\nSet non-graphical mode. \nYou can set ``non_graphical`` either to ``True`` or ``False``.\n\n"
      ]
    },
    {
      "cell_type": "code",
      "execution_count": null,
      "metadata": {
        "collapsed": false
      },
      "outputs": [],
      "source": [
        "non_graphical = False"
      ]
    },
    {
      "cell_type": "markdown",
      "metadata": {},
      "source": [
        "## Launch AEDT in graphical mode\nLaunch AEDT 2023 R2 in graphical mode.\n\n"
      ]
    },
    {
      "cell_type": "code",
      "execution_count": null,
      "metadata": {
        "collapsed": false
      },
      "outputs": [],
      "source": [
        "d = pyaedt.launch_desktop(version=aedt_version, non_graphical=non_graphical, new_desktop=True)"
      ]
    },
    {
      "cell_type": "markdown",
      "metadata": {},
      "source": [
        "## Insert HFSS design\nInsert an HFSS design with the default name.\n\n"
      ]
    },
    {
      "cell_type": "code",
      "execution_count": null,
      "metadata": {
        "collapsed": false
      },
      "outputs": [],
      "source": [
        "hfss = pyaedt.Hfss(project=pyaedt.generate_unique_project_name(folder_name=\"CoordSysDemo\"))"
      ]
    },
    {
      "cell_type": "markdown",
      "metadata": {},
      "source": [
        "## Create coordinate system\nThe coordinate system is centered on the global origin and has the axis\naligned to the global coordinate system. The new coordinate system is\nsaved in the object ``cs1``.\n\n"
      ]
    },
    {
      "cell_type": "code",
      "execution_count": null,
      "metadata": {
        "collapsed": false
      },
      "outputs": [],
      "source": [
        "cs1 = hfss.modeler.create_coordinate_system()"
      ]
    },
    {
      "cell_type": "markdown",
      "metadata": {},
      "source": [
        "## Modify coordinate system\nThe ``cs1`` object exposes properties and methods to manipulate the\ncoordinate system. The origin can be changed.\n\n"
      ]
    },
    {
      "cell_type": "code",
      "execution_count": null,
      "metadata": {
        "collapsed": false
      },
      "outputs": [],
      "source": [
        "cs1[\"OriginX\"] = 10\ncs1.props[\"OriginY\"] = 10\ncs1.props[\"OriginZ\"] = 10\n\n# Pointing vectors can be changed\n\nypoint = [0, -1, 0]\ncs1.props[\"YAxisXvec\"] = ypoint[0]\ncs1.props[\"YAxisYvec\"] = ypoint[1]\ncs1.props[\"YAxisZvec\"] = ypoint[2]"
      ]
    },
    {
      "cell_type": "markdown",
      "metadata": {},
      "source": [
        "## Rename coordinate system\nRename the coordinate system.\n\n"
      ]
    },
    {
      "cell_type": "code",
      "execution_count": null,
      "metadata": {
        "collapsed": false
      },
      "outputs": [],
      "source": [
        "cs1.rename(\"newCS\")"
      ]
    },
    {
      "cell_type": "markdown",
      "metadata": {},
      "source": [
        "## Change coordinate system mode\nUse the ``change_cs_mode`` method to change the mode. Options are ``0``\nfor axis/position, ``1`` for Euler angle ZXZ, and ``2`` for Euler angle ZYZ.\nHere ``1`` sets Euler angle ZXZ as the mode.\n\n"
      ]
    },
    {
      "cell_type": "code",
      "execution_count": null,
      "metadata": {
        "collapsed": false
      },
      "outputs": [],
      "source": [
        "cs1.change_cs_mode(1)\n\n# In the new mode, these properties can be edited\ncs1.props[\"Phi\"] = \"10deg\"\ncs1.props[\"Theta\"] = \"22deg\"\ncs1.props[\"Psi\"] = \"30deg\""
      ]
    },
    {
      "cell_type": "markdown",
      "metadata": {},
      "source": [
        "## Delete coordinate system\nDelete the coordinate system.\n\n"
      ]
    },
    {
      "cell_type": "code",
      "execution_count": null,
      "metadata": {
        "collapsed": false
      },
      "outputs": [],
      "source": [
        "cs1.delete()"
      ]
    },
    {
      "cell_type": "markdown",
      "metadata": {},
      "source": [
        "## Create coordinate system by defining axes\nCreate a coordinate system by defining the axes. During creation, you can\nspecify all coordinate system properties.\n\n"
      ]
    },
    {
      "cell_type": "code",
      "execution_count": null,
      "metadata": {
        "collapsed": false
      },
      "outputs": [],
      "source": [
        "cs2 = hfss.modeler.create_coordinate_system(\n    name=\"CS2\", origin=[1, 2, 3.5], mode=\"axis\", x_pointing=[1, 0, 1], y_pointing=[0, -1, 0]\n)"
      ]
    },
    {
      "cell_type": "markdown",
      "metadata": {},
      "source": [
        "## Create coordinate system by defining Euler angles\nCreate a coordinate system by defining Euler angles.\n\n"
      ]
    },
    {
      "cell_type": "code",
      "execution_count": null,
      "metadata": {
        "collapsed": false
      },
      "outputs": [],
      "source": [
        "cs3 = hfss.modeler.create_coordinate_system(name=\"CS3\", origin=[2, 2, 2], mode=\"zyz\", phi=10, theta=20, psi=30)"
      ]
    },
    {
      "cell_type": "markdown",
      "metadata": {},
      "source": [
        "## Create coordinate system by defining view\nCreate a coordinate system by defining the view. Options are ``\"iso\"``,\n``\"XY\"``, ``\"XZ\"``, and ``\"XY\"``. Here ``\"iso\"`` is specified.\nThe axes are set automatically.\n\n"
      ]
    },
    {
      "cell_type": "code",
      "execution_count": null,
      "metadata": {
        "collapsed": false
      },
      "outputs": [],
      "source": [
        "cs4 = hfss.modeler.create_coordinate_system(name=\"CS4\", origin=[1, 0, 0], reference_cs=\"CS3\", mode=\"view\", view=\"iso\")"
      ]
    },
    {
      "cell_type": "markdown",
      "metadata": {},
      "source": [
        "## Create coordinate system by defining axis and angle rotation\nCreate a coordinate system by defining the axis and angle rotation. When you\nspecify the axis and angle rotation, this data is automatically translated\nto Euler angles.\n\n"
      ]
    },
    {
      "cell_type": "code",
      "execution_count": null,
      "metadata": {
        "collapsed": false
      },
      "outputs": [],
      "source": [
        "cs5 = hfss.modeler.create_coordinate_system(name=\"CS5\", mode=\"axisrotation\", u=[1, 0, 0], theta=123)"
      ]
    },
    {
      "cell_type": "markdown",
      "metadata": {},
      "source": [
        "## Create face coordinate system\nFace coordinate systems are bound to an object face.\nFirst create a box and then define the face coordinate system on one of its\nfaces. To create the reference face for the face coordinate system, you must \nspecify starting and ending points for the axis.\n\n"
      ]
    },
    {
      "cell_type": "code",
      "execution_count": null,
      "metadata": {
        "collapsed": false
      },
      "outputs": [],
      "source": [
        "box = hfss.modeler.create_box([0, 0, 0], [2, 2, 2])\nface = box.faces[0]\nfcs1 = hfss.modeler.create_face_coordinate_system(\n    face=face, origin=face.edges[0], axis_position=face.edges[1], name=\"FCS1\"\n)"
      ]
    },
    {
      "cell_type": "markdown",
      "metadata": {},
      "source": [
        "## Create face coordinate system centered on face\nCreate a face coordinate system centered on the face with the X axis pointing\nto the edge vertex.\n\n"
      ]
    },
    {
      "cell_type": "code",
      "execution_count": null,
      "metadata": {
        "collapsed": false
      },
      "outputs": [],
      "source": [
        "fcs2 = hfss.modeler.create_face_coordinate_system(\n    face=face, origin=face, axis_position=face.edges[0].vertices[0], name=\"FCS2\"\n)"
      ]
    },
    {
      "cell_type": "markdown",
      "metadata": {},
      "source": [
        "## Swap X and Y axes of face coordinate system\nSwap the X axis and Y axis of the face coordinate system. The X axis is the\npointing ``axis_position`` by default. You can optionally select the Y axis.\n\n"
      ]
    },
    {
      "cell_type": "code",
      "execution_count": null,
      "metadata": {
        "collapsed": false
      },
      "outputs": [],
      "source": [
        "fcs3 = hfss.modeler.create_face_coordinate_system(face=face, origin=face, axis_position=face.edges[0], axis=\"Y\")\n\n# Axis can also be changed after coordinate system creation\nfcs3.props[\"WhichAxis\"] = \"X\""
      ]
    },
    {
      "cell_type": "markdown",
      "metadata": {},
      "source": [
        "## Apply a rotation around Z axis\nApply a rotation around the Z axis. The Z axis of a face coordinate system\nis always orthogonal to the face. A rotation can be applied at definition.\nRotation is expressed in degrees.\n\n"
      ]
    },
    {
      "cell_type": "code",
      "execution_count": null,
      "metadata": {
        "collapsed": false
      },
      "outputs": [],
      "source": [
        "fcs4 = hfss.modeler.create_face_coordinate_system(face=face, origin=face, axis_position=face.edges[1], rotation=10.3)\n\n# Rotation can also be changed after coordinate system creation\nfcs4.props[\"ZRotationAngle\"] = \"3deg\""
      ]
    },
    {
      "cell_type": "markdown",
      "metadata": {},
      "source": [
        "## Apply offset to X and Y axes of face coordinate system\nApply an offset to the X axis and Y axis of a face coordinate system.\nThe offset is in respect to the face coordinate system itself.\n\n"
      ]
    },
    {
      "cell_type": "code",
      "execution_count": null,
      "metadata": {
        "collapsed": false
      },
      "outputs": [],
      "source": [
        "fcs5 = hfss.modeler.create_face_coordinate_system(\n    face=face, origin=face, axis_position=face.edges[2], offset=[0.5, 0.3]\n)\n\n# The offset can also be changed after the coordinate system is created.\nfcs5.props[\"XOffset\"] = \"0.2mm\"\nfcs5.props[\"YOffset\"] = \"0.1mm\""
      ]
    },
    {
      "cell_type": "markdown",
      "metadata": {},
      "source": [
        "## Create coordinate system relative to face coordinate system\nCreate a coordinate system relative to a face coordinate system. Coordinate\nsystems and face coordinate systems interact with each other.\n\n"
      ]
    },
    {
      "cell_type": "code",
      "execution_count": null,
      "metadata": {
        "collapsed": false
      },
      "outputs": [],
      "source": [
        "face = box.faces[1]\nfcs6 = hfss.modeler.create_face_coordinate_system(face=face, origin=face, axis_position=face.edges[0])\ncs_fcs = hfss.modeler.create_coordinate_system(\n    name=\"CS_FCS\", origin=[0, 0, 0], reference_cs=fcs6.name, mode=\"view\", view=\"iso\"\n)"
      ]
    },
    {
      "cell_type": "markdown",
      "metadata": {},
      "source": [
        "## Create object coordinate system\nCreate object coordinate system with origin on face\n\n"
      ]
    },
    {
      "cell_type": "code",
      "execution_count": null,
      "metadata": {
        "collapsed": false
      },
      "outputs": [],
      "source": [
        "obj_cs = hfss.modeler.create_object_coordinate_system(assignment=box, origin=box.faces[0], x_axis=box.edges[0],\n                                                      y_axis=[0, 0, 0], name=\"box_obj_cs\")\nobj_cs.rename(\"new_obj_cs\")"
      ]
    },
    {
      "cell_type": "markdown",
      "metadata": {},
      "source": [
        "## Create object coordinate system\nCreate object coordinate system with origin on edge\n\n"
      ]
    },
    {
      "cell_type": "code",
      "execution_count": null,
      "metadata": {
        "collapsed": false
      },
      "outputs": [],
      "source": [
        "obj_cs_1 = hfss.modeler.create_object_coordinate_system(assignment=box.name, origin=box.edges[0], x_axis=[1, 0, 0],\n                                                        y_axis=[0, 1, 0], name=\"obj_cs_1\")\nobj_cs_1.set_as_working_cs()"
      ]
    },
    {
      "cell_type": "markdown",
      "metadata": {},
      "source": [
        "## Create object coordinate system\nCreate object coordinate system with origin specified on point\n\n"
      ]
    },
    {
      "cell_type": "code",
      "execution_count": null,
      "metadata": {
        "collapsed": false
      },
      "outputs": [],
      "source": [
        "obj_cs_2 = hfss.modeler.create_object_coordinate_system(assignment=box.name, origin=[0, 0.8, 0], x_axis=[1, 0, 0],\n                                                        y_axis=[0, 1, 0], name=\"obj_cs_2\")\nnew_obj_cs_2 = hfss.modeler.duplicate_coordinate_system_to_global(obj_cs_2)\nobj_cs_2.delete()"
      ]
    },
    {
      "cell_type": "markdown",
      "metadata": {},
      "source": [
        "## Create object coordinate system\nCreate object coordinate system with origin on vertex\n\n"
      ]
    },
    {
      "cell_type": "code",
      "execution_count": null,
      "metadata": {
        "collapsed": false
      },
      "outputs": [],
      "source": [
        "obj_cs_3 = hfss.modeler.create_object_coordinate_system(assignment=box.name, origin=box.vertices[1],\n                                                        x_axis=box.faces[2], y_axis=box.faces[4], name=\"obj_cs_3\")\nobj_cs_3.props[\"MoveToEnd\"] = False\nobj_cs_3.update()"
      ]
    },
    {
      "cell_type": "markdown",
      "metadata": {},
      "source": [
        "## Get all coordinate systems\nGet all coordinate systems.\n\n"
      ]
    },
    {
      "cell_type": "code",
      "execution_count": null,
      "metadata": {
        "collapsed": false
      },
      "outputs": [],
      "source": [
        "css = hfss.modeler.coordinate_systems\nnames = [i.name for i in css]\nprint(names)"
      ]
    },
    {
      "cell_type": "markdown",
      "metadata": {},
      "source": [
        "## Select coordinate system\nSelect an existing coordinate system.\n\n"
      ]
    },
    {
      "cell_type": "code",
      "execution_count": null,
      "metadata": {
        "collapsed": false
      },
      "outputs": [],
      "source": [
        "css = hfss.modeler.coordinate_systems\ncs_selected = css[0]\ncs_selected.delete()"
      ]
    },
    {
      "cell_type": "markdown",
      "metadata": {},
      "source": [
        "## Get point coordinate under another coordinate system\nGet a point coordinate under another coordinate system. A point coordinate\ncan be translated in respect to any coordinate system.\n\n"
      ]
    },
    {
      "cell_type": "code",
      "execution_count": null,
      "metadata": {
        "collapsed": false
      },
      "outputs": [],
      "source": [
        "hfss.modeler.create_box([-10, -10, -10], [20, 20, 20], \"Box1\")\np = hfss.modeler[\"Box1\"].faces[0].vertices[0].position\nprint(\"Global: \", p)\np2 = hfss.modeler.global_to_cs(p, \"CS5\")\nprint(\"CS5 :\", p2)"
      ]
    },
    {
      "cell_type": "markdown",
      "metadata": {},
      "source": [
        "## Close AEDT\nAfter the simulaton completes, you can close AEDT or release it using the\n:func:`pyaedt.Desktop.release_desktop` method.\nAll methods provide for saving the project before closing.\n\n"
      ]
    },
    {
      "cell_type": "code",
      "execution_count": null,
      "metadata": {
        "collapsed": false
      },
      "outputs": [],
      "source": [
        "d.release_desktop()"
      ]
    }
  ],
  "metadata": {
    "kernelspec": {
      "display_name": "Python 3",
      "language": "python",
      "name": "python3"
    },
    "language_info": {
      "codemirror_mode": {
        "name": "ipython",
        "version": 3
      },
      "file_extension": ".py",
      "mimetype": "text/x-python",
      "name": "python",
      "nbconvert_exporter": "python",
      "pygments_lexer": "ipython3",
      "version": "3.10.9"
    }
  },
  "nbformat": 4,
  "nbformat_minor": 0
}