{
  "cells": [
    {
      "cell_type": "markdown",
      "metadata": {},
      "source": [
        "\n# EMIT: Compute receiver protection levels\nThis example shows how you can use PyAEDT to open an AEDT project with\nan EMIT design and analyze the results to determine if the received \npower at the input to each receiver exceeds the specified protection\nlevels. \n"
      ]
    },
    {
      "cell_type": "markdown",
      "metadata": {},
      "source": [
        "## Perform required imports\nPerform required imports.\n\nsphinx_gallery_thumbnail_path = \"Resources/emit_protection_levels.png\"\n\n"
      ]
    },
    {
      "cell_type": "code",
      "execution_count": null,
      "metadata": {
        "collapsed": false
      },
      "outputs": [],
      "source": [
        "import os\nimport sys\nimport subprocess\nimport pyaedt\nfrom pyaedt import Emit\nfrom pyaedt.emit_core.emit_constants import TxRxMode, ResultType, InterfererType\n\n# Check to see which Python libraries have been installed\nreqs = subprocess.check_output([sys.executable, '-m', 'pip', 'freeze'])\ninstalled_packages = [r.decode().split('==')[0] for r in reqs.split()]\n\n# Install required packages if they are not installed\ndef install(package):\n    subprocess.check_call([sys.executable, '-m', 'pip', 'install', package])\n\n# Install any missing libraries\nrequired_packages = ['plotly']\nfor package in required_packages:\n    if package not in installed_packages:\n        install(package)\n\n# Import required modules\nimport plotly.graph_objects as go"
      ]
    },
    {
      "cell_type": "markdown",
      "metadata": {},
      "source": [
        "## Set AEDT version\nSet AEDT version.\n\n"
      ]
    },
    {
      "cell_type": "code",
      "execution_count": null,
      "metadata": {
        "collapsed": false
      },
      "outputs": [],
      "source": [
        "aedt_version = \"2024.2\""
      ]
    },
    {
      "cell_type": "markdown",
      "metadata": {},
      "source": [
        "## Set non-graphical mode\nSet non-graphical mode. ``\"PYAEDT_NON_GRAPHICAL\"``` is needed to generate\ndocumentation only.\nYou can set ``non_graphical`` either to ``True`` or ``False``.\nThe ``new_thread`` Boolean variable defines whether to create a new instance\nof AEDT or try to connect to existing instance of it if one is available.\n\n"
      ]
    },
    {
      "cell_type": "code",
      "execution_count": null,
      "metadata": {
        "collapsed": false
      },
      "outputs": [],
      "source": [
        "non_graphical = False\nnew_thread = True"
      ]
    },
    {
      "cell_type": "markdown",
      "metadata": {},
      "source": [
        "## Launch AEDT with EMIT\nLaunch AEDT with EMIT. The ``Desktop`` class initializes AEDT and starts it\non the specified version and in the specified graphical mode.\n\n"
      ]
    },
    {
      "cell_type": "code",
      "execution_count": null,
      "metadata": {
        "collapsed": false
      },
      "outputs": [],
      "source": [
        "if aedt_version <= \"2023.1\":\n    print(\"Warning: this example requires AEDT 2023.2 or later.\")\n    sys.exit()\n\nd = pyaedt.launch_desktop(aedt_version, non_graphical, new_thread)\nemitapp = Emit(pyaedt.generate_unique_project_name())"
      ]
    },
    {
      "cell_type": "markdown",
      "metadata": {},
      "source": [
        "## Specify the protection levels\nThe protection levels are specified in dBm.\nIf the damage threshold is exceeded, permanent damage to the receiver front\nend may occur.\nExceeding the overload threshold severely densensitizes the receiver.\nExceeding the intermod threshold can drive the victim receiver into non-\nlinear operation, where it operates as a mixer. \nExceeding the desense threshold reduces the signal-to-noise ratio and can \nreduce the maximum range, maximum bandwidth, and/or the overall link quality.\n\n"
      ]
    },
    {
      "cell_type": "code",
      "execution_count": null,
      "metadata": {
        "collapsed": false
      },
      "outputs": [],
      "source": [
        "header_color = 'grey'\ndamage_threshold = 30\noverload_threshold = -4\nintermod_threshold = -30\ndesense_threshold = -104\n\nprotection_levels = [damage_threshold, overload_threshold, intermod_threshold, desense_threshold]"
      ]
    },
    {
      "cell_type": "markdown",
      "metadata": {},
      "source": [
        "## Create and connect EMIT components\nSet up the scenario with radios connected to antennas.\n\n"
      ]
    },
    {
      "cell_type": "code",
      "execution_count": null,
      "metadata": {
        "collapsed": false
      },
      "outputs": [],
      "source": [
        "bluetooth, blue_ant = emitapp.modeler.components.create_radio_antenna(\"Bluetooth Low Energy (LE)\", \"Bluetooth\")\ngps, gps_ant = emitapp.modeler.components.create_radio_antenna(\"GPS Receiver\", \"GPS\")\nwifi, wifi_ant = emitapp.modeler.components.create_radio_antenna(\"WiFi - 802.11-2012\", \"WiFi\")"
      ]
    },
    {
      "cell_type": "markdown",
      "metadata": {},
      "source": [
        "## Configure the radios\nEnable the HR-DSSS bands for the Wi-Fi radio and set the power level\nfor all transmit bands to -20 dBm.\n\n"
      ]
    },
    {
      "cell_type": "code",
      "execution_count": null,
      "metadata": {
        "collapsed": false
      },
      "outputs": [],
      "source": [
        "bands = wifi.bands()\nfor band in bands:\n    if \"HR-DSSS\" in band.node_name:\n        if \"Ch 1-13\" in band.node_name:\n            band.enabled=True\n            band.set_band_power_level(-20)\n\n# Reduce the bluetooth transmit power\nbands = bluetooth.bands()\nfor band in bands:\n    band.set_band_power_level(-20)\n\ndef get_radio_node(radio_name):\n    \"\"\"Get the radio node that matches the\n    given radio name.\n    Arguments:\n        radio_name: String name of the radio.\n    Returns: Instance of the radio.\n    \"\"\"\n    if gps.name == radio_name:\n        radio = gps\n    elif bluetooth.name == radio_name:\n        radio = bluetooth\n    else:\n        radio = wifi\n    return radio\n\nbands = gps.bands()\nfor band in bands:\n    for child in band.children:\n        if \"L2 P(Y)\" in band.node_name:\n            band.enabled=True\n        else:\n            band.enabled=False"
      ]
    },
    {
      "cell_type": "markdown",
      "metadata": {},
      "source": [
        "## Load the results set\nCreate a results revision and load it for analysis.\n\n"
      ]
    },
    {
      "cell_type": "code",
      "execution_count": null,
      "metadata": {
        "collapsed": false
      },
      "outputs": [],
      "source": [
        "rev = emitapp.results.analyze()"
      ]
    },
    {
      "cell_type": "markdown",
      "metadata": {},
      "source": [
        "## Generate a legend\nDefine the thresholds and colors used to display the results of \nthe protection level analysis.\n\n"
      ]
    },
    {
      "cell_type": "code",
      "execution_count": null,
      "metadata": {
        "collapsed": false
      },
      "outputs": [],
      "source": [
        "def create_legend_table():    \n    \"\"\"Create a table showing the defined protection levels.\"\"\"\n    protectionLevels = ['>{} dBm'.format(damage_threshold), '>{} dBm'.format(overload_threshold),\n        '>{} dBm'.format(intermod_threshold), '>{} dBm'.format(desense_threshold)]\n    fig = go.Figure(data=[go.Table(\n        header=dict(\n            values=['<b>Interference</b>','<b>Power Level Threshold</b>'],\n            line_color='darkslategray',\n            fill_color=header_color,\n            align=['left','center'],\n            font=dict(color='white',size=16)\n        ),\n        cells=dict(\n            values=[['Damage','Overload','Intermodulation','Clear'], protectionLevels],\n            line_color='darkslategray',\n            fill_color=['white',['red','orange','yellow','green']],\n            align = ['left', 'center'],\n            font = dict(\n                color = ['darkslategray','black'],\n                size = 15)\n        )\n    )])\n    fig.update_layout(\n        title=dict(\n            text='Protection Levels (dBm)',\n            font=dict(color='darkslategray',size=20),\n            x = 0.5\n        ),\n        width = 600\n        )\n    fig.show()"
      ]
    },
    {
      "cell_type": "markdown",
      "metadata": {},
      "source": [
        "## Create a scenario matrix view\nCreate a scenario matrix view with the transmitters defined across the top\nand receivers down the left-most column. The power at the input to each\nreceiver is shown in each cell of the matrix and color-coded based on the\nprotection level thresholds defined.\n\n"
      ]
    },
    {
      "cell_type": "code",
      "execution_count": null,
      "metadata": {
        "collapsed": false
      },
      "outputs": [],
      "source": [
        "def create_scenario_view(emis, colors, tx_radios, rx_radios):\n    \"\"\"Create a scenario matrix-like table with the higher received\n    power for each Tx-Rx radio combination. The colors\n    used for the scenario matrix view are based on the highest \n    protection level that the received power exceeds.\"\"\"\n    fig = go.Figure(data=[go.Table(\n        header=dict(\n            values=['<b>Tx/Rx</b>','<b>{}</b>'.format(tx_radios[0]),'<b>{}</b>'.format(tx_radios[1])],\n            line_color='darkslategray',\n            fill_color=header_color,\n            align=['left','center'],\n            font=dict(color='white',size=16)\n        ),\n        cells=dict(\n            values=[\n                rx_radios,\n                emis[0],\n                emis[1]],\n            line_color='darkslategray',\n            fill_color=['white',colors[0], colors[1]],\n            align = ['left', 'center'],\n            font = dict(\n                color = ['darkslategray','black'],\n                size = 15)\n        )\n    )])\n    fig.update_layout(\n        title=dict(\n            text='Protection Levels (dBm)',\n            font=dict(color='darkslategray',size=20),\n            x = 0.5\n        ),\n        width = 600\n        )\n    fig.show()"
      ]
    },
    {
      "cell_type": "markdown",
      "metadata": {},
      "source": [
        "## Get all the radios in the project\nGet lists of all transmitters and receivers in the project.\n\n"
      ]
    },
    {
      "cell_type": "code",
      "execution_count": null,
      "metadata": {
        "collapsed": false
      },
      "outputs": [],
      "source": [
        "if os.getenv(\"PYAEDT_DOC_GENERATION\", \"False\") != \"1\":\n    rev = emitapp.results.current_revision\n    rx_radios = rev.get_receiver_names()\n    tx_radios = rev.get_interferer_names(InterfererType.TRANSMITTERS)\n    domain = emitapp.results.interaction_domain()"
      ]
    },
    {
      "cell_type": "markdown",
      "metadata": {},
      "source": [
        "## Classify the results\nIterate over all the transmitters and receivers and compute the power\nat the input to each receiver due to each of the transmitters. Computes\nwhich, if any, protection levels are exceeded by these power levels.\n\n"
      ]
    },
    {
      "cell_type": "code",
      "execution_count": null,
      "metadata": {
        "collapsed": false
      },
      "outputs": [],
      "source": [
        "if os.getenv(\"PYAEDT_DOC_GENERATION\", \"False\") != \"1\":\n    power_matrix=[]\n    all_colors=[]\n\n    all_colors, power_matrix = rev.protection_level_classification(domain, global_levels = protection_levels)\n\n    # Create a scenario matrix-like view for the protection levels\n    create_scenario_view(power_matrix, all_colors, tx_radios, rx_radios)\n\n    # Create a legend for the protection levels\n    create_legend_table()"
      ]
    },
    {
      "cell_type": "markdown",
      "metadata": {},
      "source": [
        "## Save project and close AEDT\nAfter the simulation completes, you can close AEDT or release it using the\n:func:`pyaedt.Desktop.force_close_desktop` method.\nAll methods provide for saving the project before closing.\n\n"
      ]
    },
    {
      "cell_type": "code",
      "execution_count": null,
      "metadata": {
        "collapsed": false
      },
      "outputs": [],
      "source": [
        "emitapp.save_project()\nemitapp.release_desktop(close_projects=True, close_desktop=True)"
      ]
    }
  ],
  "metadata": {
    "kernelspec": {
      "display_name": "Python 3",
      "language": "python",
      "name": "python3"
    },
    "language_info": {
      "codemirror_mode": {
        "name": "ipython",
        "version": 3
      },
      "file_extension": ".py",
      "mimetype": "text/x-python",
      "name": "python",
      "nbconvert_exporter": "python",
      "pygments_lexer": "ipython3",
      "version": "3.10.9"
    }
  },
  "nbformat": 4,
  "nbformat_minor": 0
}