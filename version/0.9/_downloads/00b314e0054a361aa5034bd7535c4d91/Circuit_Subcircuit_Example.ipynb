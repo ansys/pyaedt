{
  "cells": [
    {
      "cell_type": "markdown",
      "metadata": {},
      "source": [
        "\n# Circuit: schematic subcircuit management\nThis example shows how you can use PyAEDT to add a subcircuit to a circuit design.\nIt pushes down the child subcircuit and pops up to the parent design.\n"
      ]
    },
    {
      "cell_type": "markdown",
      "metadata": {},
      "source": [
        "## Perform required import\nPerform the required import.\n\n"
      ]
    },
    {
      "cell_type": "code",
      "execution_count": null,
      "metadata": {
        "collapsed": false
      },
      "outputs": [],
      "source": [
        "import os\nimport pyaedt"
      ]
    },
    {
      "cell_type": "markdown",
      "metadata": {},
      "source": [
        "## Set AEDT version\nSet AEDT version.\n\n"
      ]
    },
    {
      "cell_type": "code",
      "execution_count": null,
      "metadata": {
        "collapsed": false
      },
      "outputs": [],
      "source": [
        "aedt_version = \"2024.2\""
      ]
    },
    {
      "cell_type": "markdown",
      "metadata": {},
      "source": [
        "## Set non-graphical mode\nSet non-graphical mode. \nYou can set ``non_graphical`` either to ``True`` or ``False``.\n\n"
      ]
    },
    {
      "cell_type": "code",
      "execution_count": null,
      "metadata": {
        "collapsed": false
      },
      "outputs": [],
      "source": [
        "non_graphical = False"
      ]
    },
    {
      "cell_type": "markdown",
      "metadata": {},
      "source": [
        "## Launch AEDT with Circuit\nLaunch AEDT 2023 R2 in graphical mode with Circuit.\n\n"
      ]
    },
    {
      "cell_type": "code",
      "execution_count": null,
      "metadata": {
        "collapsed": false
      },
      "outputs": [],
      "source": [
        "circuit = pyaedt.Circuit(project=pyaedt.generate_unique_project_name(),\n                         version=aedt_version,\n                         non_graphical=non_graphical,\n                         new_desktop=True\n                         )\ncircuit.modeler.schematic_units = \"mil\""
      ]
    },
    {
      "cell_type": "markdown",
      "metadata": {},
      "source": [
        "## Add subcircuit\nAdd a new subcircuit to the previously created circuit design, creating a\nchild circuit. Push this child circuit down into the child subcircuit.\n\n"
      ]
    },
    {
      "cell_type": "code",
      "execution_count": null,
      "metadata": {
        "collapsed": false
      },
      "outputs": [],
      "source": [
        "subcircuit = circuit.modeler.schematic.create_subcircuit(location=[0.0, 0.0])\nsubcircuit_name = subcircuit.composed_name\ncircuit.push_down(subcircuit)"
      ]
    },
    {
      "cell_type": "markdown",
      "metadata": {},
      "source": [
        "## Parametrize subcircuit\nParametrize the subcircuit and add a resistor, inductor, and a capacitor with\nthe parameter values in the following code example. Connect them in series\nand then use the ``pop_up`` # method to get back to the parent design.\n\n"
      ]
    },
    {
      "cell_type": "code",
      "execution_count": null,
      "metadata": {
        "collapsed": false
      },
      "outputs": [],
      "source": [
        "circuit.variable_manager.set_variable(name=\"R_val\", expression=\"35ohm\")\ncircuit.variable_manager.set_variable(name=\"L_val\", expression=\"1e-7H\")\ncircuit.variable_manager.set_variable(name=\"C_val\", expression=\"5e-10F\")\np1 = circuit.modeler.schematic.create_interface_port(name=\"In\")\nr1 = circuit.modeler.schematic.create_resistor(value=\"R_val\")\nl1 = circuit.modeler.schematic.create_inductor(value=\"L_val\")\nc1 = circuit.modeler.schematic.create_capacitor(value=\"C_val\")\np2 = circuit.modeler.schematic.create_interface_port(name=\"Out\")\ncircuit.modeler.schematic.connect_components_in_series(assignment=[p1, r1, l1, c1, p2], use_wire=True)\ncircuit.pop_up()"
      ]
    },
    {
      "cell_type": "markdown",
      "metadata": {},
      "source": [
        "## Release AEDT\nRelease AEDT.\n\n"
      ]
    },
    {
      "cell_type": "code",
      "execution_count": null,
      "metadata": {
        "collapsed": false
      },
      "outputs": [],
      "source": [
        "circuit.release_desktop(True, True)"
      ]
    }
  ],
  "metadata": {
    "kernelspec": {
      "display_name": "Python 3",
      "language": "python",
      "name": "python3"
    },
    "language_info": {
      "codemirror_mode": {
        "name": "ipython",
        "version": 3
      },
      "file_extension": ".py",
      "mimetype": "text/x-python",
      "name": "python",
      "nbconvert_exporter": "python",
      "pygments_lexer": "ipython3",
      "version": "3.10.9"
    }
  },
  "nbformat": 4,
  "nbformat_minor": 0
}