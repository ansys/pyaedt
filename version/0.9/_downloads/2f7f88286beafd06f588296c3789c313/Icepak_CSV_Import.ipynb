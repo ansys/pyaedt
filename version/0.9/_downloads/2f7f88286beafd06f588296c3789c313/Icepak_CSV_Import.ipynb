{
  "cells": [
    {
      "cell_type": "markdown",
      "metadata": {},
      "source": [
        "\n# Icepak: Creating blocks and assigning materials and power\nThis example shows how to create different types of blocks and assign power and material to them using\na *.csv input file\n"
      ]
    },
    {
      "cell_type": "markdown",
      "metadata": {},
      "source": [
        "## Perform required imports\nPerform required imports including the operating system, regular expression, csv, Ansys PyAEDT\nand its boundary objects.\n\n"
      ]
    },
    {
      "cell_type": "code",
      "execution_count": null,
      "metadata": {
        "collapsed": false
      },
      "outputs": [],
      "source": [
        "import os\nimport re\nimport csv\nfrom collections import OrderedDict\nimport pyaedt\nfrom pyaedt.modules.Boundary import BoundaryObject"
      ]
    },
    {
      "cell_type": "markdown",
      "metadata": {},
      "source": [
        "## Set AEDT version\nSet AEDT version.\n\n"
      ]
    },
    {
      "cell_type": "code",
      "execution_count": null,
      "metadata": {
        "collapsed": false
      },
      "outputs": [],
      "source": [
        "aedt_version = \"2024.2\""
      ]
    },
    {
      "cell_type": "markdown",
      "metadata": {},
      "source": [
        "## Set non-graphical mode\nSet non-graphical mode. \nYou can set ``non_graphical`` either to ``True`` or ``False``.\n\n"
      ]
    },
    {
      "cell_type": "code",
      "execution_count": null,
      "metadata": {
        "collapsed": false
      },
      "outputs": [],
      "source": [
        "non_graphical = False"
      ]
    },
    {
      "cell_type": "markdown",
      "metadata": {},
      "source": [
        "## Download and open project\nDownload the project, open it, and save it to the temporary folder.\n\n"
      ]
    },
    {
      "cell_type": "code",
      "execution_count": null,
      "metadata": {
        "collapsed": false
      },
      "outputs": [],
      "source": [
        "temp_folder = pyaedt.generate_unique_folder_name()\n\nipk = pyaedt.Icepak(project=os.path.join(temp_folder, \"Icepak_CSV_Import.aedt\"),\n                    version=aedt_version,\n                    new_desktop=True,\n                    non_graphical=non_graphical\n                    )\n\nipk.autosave_disable()\n\n# Create the PCB as a simple block.\nboard = ipk.modeler.create_box([-30.48, -27.305, 0], [146.685, 71.755, 0.4064], \"board_outline\", material=\"FR-4_Ref\")"
      ]
    },
    {
      "cell_type": "markdown",
      "metadata": {},
      "source": [
        "## Blocks creation with a CSV file\nThe CSV file lists the name of blocks, their type and material properties.\nBlock types (solid, network, hollow), block name, block starting and end points, solid material, and power are listed.\nHollow and network blocks do not need the material name.\nNetwork blocks must have Rjb and Rjc values.\nMonitor points can be created for any types of block if the last column is assigned to be 1 (0 and 1 are the only options).\n\nThe following image does not show the entire rows and data and only serves as a sample.\n\n<img src=\"file://../../_static/CSV_Import.png\" width=\"400\" alt=\"CSV Screenshot.\">\n\n\nIn this step the code will loop over the csv file lines and creates the blocks.\nIt will create solid blocks and assign BCs.\nEvery row of the csv has information of a particular block.\n\n"
      ]
    },
    {
      "cell_type": "code",
      "execution_count": null,
      "metadata": {
        "collapsed": false
      },
      "outputs": [],
      "source": [
        "filename = pyaedt.downloads.download_file('icepak', 'blocks-list.csv', destination=temp_folder)\n\nwith open(filename, 'r') as csv_file:\n    csv_reader = csv.DictReader(csv_file)\n    for row in csv_reader:\n        origin = [float(row[\"xs\"]), float(row[\"ys\"]), float(row[\"zs\"])]  # block starting point\n        dimensions = [float(row[\"xd\"]), float(row[\"yd\"]), float(row[\"zd\"])]  # block lengths in 3 dimensions\n        block_name = row[\"name\"]  # block name\n\n        # Define material name\n        if row[\"matname\"]:\n            material_name = row[\"matname\"]\n        else:\n            material_name = \"copper\"\n\n        # creates the block with the given name, coordinates, material, and type\n        block = ipk.modeler.create_box(origin, dimensions, name=block_name, material=material_name)\n\n        # Assign boundary conditions\n        if row[\"block_type\"] == \"solid\":\n            ipk.assign_solid_block(block_name, row[\"power\"] + \"W\", block_name)\n        elif row[\"block_type\"] == \"network\":\n            ipk.create_two_resistor_network_block(block_name,\n                                                  board.name,\n                                                  row[\"power\"] + \"W\",\n                                                  row[\"Rjb\"],\n                                                  row[\"Rjc\"])\n        else:\n            ipk.modeler[block.name].solve_inside = False\n            ipk.assign_hollow_block(block_name, assignment_type=\"Total Power\", assignment_value=row[\"power\"] + \"W\",\n                                    boundary_name=block_name)\n\n        # Create temperature monitor points if assigned value is 1 in the last column of the csv file\n        if row[\"Monitor_point\"] == '1':\n            ipk.monitor.assign_point_monitor_in_object(\n                row[\"name\"],\n                monitor_quantity=\"Temperature\",\n                monitor_name=row[\"name\"])"
      ]
    },
    {
      "cell_type": "markdown",
      "metadata": {},
      "source": [
        "## Release AEDT\nRelease AEDT.\n\n"
      ]
    },
    {
      "cell_type": "code",
      "execution_count": null,
      "metadata": {
        "collapsed": false
      },
      "outputs": [],
      "source": [
        "ipk.release_desktop(True, True)"
      ]
    }
  ],
  "metadata": {
    "kernelspec": {
      "display_name": "Python 3",
      "language": "python",
      "name": "python3"
    },
    "language_info": {
      "codemirror_mode": {
        "name": "ipython",
        "version": 3
      },
      "file_extension": ".py",
      "mimetype": "text/x-python",
      "name": "python",
      "nbconvert_exporter": "python",
      "pygments_lexer": "ipython3",
      "version": "3.10.9"
    }
  },
  "nbformat": 4,
  "nbformat_minor": 0
}