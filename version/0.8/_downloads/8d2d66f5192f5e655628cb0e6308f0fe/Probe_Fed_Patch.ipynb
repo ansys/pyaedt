{
  "cells": [
    {
      "cell_type": "markdown",
      "metadata": {},
      "source": [
        "\n# HFSS: Probe-fed patch antenna\nThis example shows how to use the ``Stackup3D`` class\nto create and analyze a patch antenna in HFSS.\n\nNote that the HFSS 3D Layout interface may offer advantages for\nlaminate structures such as the patch antenna.\n"
      ]
    },
    {
      "cell_type": "markdown",
      "metadata": {},
      "source": [
        "## Perform  imports\n\n"
      ]
    },
    {
      "cell_type": "code",
      "execution_count": null,
      "metadata": {
        "collapsed": false
      },
      "outputs": [],
      "source": [
        "import os\n\nimport pyaedt\nimport tempfile\nfrom pyaedt.modeler.advanced_cad.stackup_3d import Stackup3D"
      ]
    },
    {
      "cell_type": "markdown",
      "metadata": {},
      "source": [
        "## Set AEDT version\nSet AEDT version.\n\n"
      ]
    },
    {
      "cell_type": "code",
      "execution_count": null,
      "metadata": {
        "collapsed": false
      },
      "outputs": [],
      "source": [
        "aedt_version = \"2024.1\""
      ]
    },
    {
      "cell_type": "markdown",
      "metadata": {},
      "source": [
        "## Set non-graphical mode\nSet non-graphical mode. ``\"PYAEDT_NON_GRAPHICAL\"`` is set to ``False``\nto create this documentation.\n\nYou can set ``non_graphical``  to ``True`` to view\nHFSS while the notebook cells are executed.\n\n"
      ]
    },
    {
      "cell_type": "code",
      "execution_count": null,
      "metadata": {
        "collapsed": false
      },
      "outputs": [],
      "source": [
        "non_graphical = False\nlength_units = \"mm\"\nfreq_units = \"GHz\""
      ]
    },
    {
      "cell_type": "markdown",
      "metadata": {},
      "source": [
        "## Create temporary working folder\nUse tempfile to create a temporary working folder. Project data\nis deleted after this example is run.\n\nTo save the project data in another location, change\nthe location of the project directory.\n\n\n"
      ]
    },
    {
      "cell_type": "code",
      "execution_count": null,
      "metadata": {
        "collapsed": false
      },
      "outputs": [],
      "source": [
        "# tmpdir.cleanup() at the end of this notebook removes all\n# project files and data.\n\ntmpdir = tempfile.TemporaryDirectory(suffix=\"_aedt\")\nproject_folder = tmpdir.name\nproj_name = os.path.join(project_folder, \"antenna\")"
      ]
    },
    {
      "cell_type": "markdown",
      "metadata": {},
      "source": [
        "# Launch HFSS\n\n\n"
      ]
    },
    {
      "cell_type": "code",
      "execution_count": null,
      "metadata": {
        "collapsed": false
      },
      "outputs": [],
      "source": [
        "hfss = pyaedt.Hfss(projectname=proj_name,\n                   solution_type=\"Terminal\",\n                   designname=\"patch\",\n                   non_graphical=non_graphical,\n                   new_desktop_session=True,\n                   specified_version=aedt_version)\n\nhfss.modeler.model_units = length_units"
      ]
    },
    {
      "cell_type": "markdown",
      "metadata": {},
      "source": [
        "# Create patch\nCreate the patch.\n\n\n"
      ]
    },
    {
      "cell_type": "code",
      "execution_count": null,
      "metadata": {
        "collapsed": false
      },
      "outputs": [],
      "source": [
        "stackup = Stackup3D(hfss)\nground = stackup.add_ground_layer(\"ground\", material=\"copper\", thickness=0.035, fill_material=\"air\")\ndielectric = stackup.add_dielectric_layer(\"dielectric\", thickness=\"0.5\" + length_units, material=\"Duroid (tm)\")\nsignal = stackup.add_signal_layer(\"signal\", material=\"copper\", thickness=0.035, fill_material=\"air\")\npatch = signal.add_patch(patch_length=9.57, patch_width=9.25,\n                         patch_name=\"Patch\", frequency=1E10)\n\nstackup.resize_around_element(patch)\npad_length = [3, 3, 3, 3, 3, 3]  # Air bounding box buffer in mm.\nregion = hfss.modeler.create_region(pad_length, is_percentage=False)\nhfss.assign_radiation_boundary_to_objects(region.name)\n\npatch.create_probe_port(ground, rel_x_offset=0.485)\nsetup = hfss.create_setup(name=\"Setup1\",\n                          setup_type=\"HFSSDriven\",\n                          Frequency=\"10GHz\")\n\nsetup.create_frequency_sweep(unit=\"GHz\",\n                             name=\"Sweep1\",\n                             start_frequency=8,\n                             stop_frequency=12,\n                             sweep_type=\"Interpolating\")\n\nhfss.save_project()\nhfss.analyze()"
      ]
    },
    {
      "cell_type": "markdown",
      "metadata": {},
      "source": [
        "# Plot S11\n\n"
      ]
    },
    {
      "cell_type": "code",
      "execution_count": null,
      "metadata": {
        "collapsed": false
      },
      "outputs": [],
      "source": [
        "plot_data = hfss.get_traces_for_plot()\nreport = hfss.post.create_report(plot_data)\nsolution = report.get_solution_data()\nplt = solution.plot(solution.expressions)"
      ]
    },
    {
      "cell_type": "markdown",
      "metadata": {},
      "source": [
        "# Release AEDT\nRelease AEDT and clean up temporary folders and files.\n\n"
      ]
    },
    {
      "cell_type": "code",
      "execution_count": null,
      "metadata": {
        "collapsed": false
      },
      "outputs": [],
      "source": [
        "hfss.release_desktop()\ntmpdir.cleanup()"
      ]
    }
  ],
  "metadata": {
    "kernelspec": {
      "display_name": "Python 3",
      "language": "python",
      "name": "python3"
    },
    "language_info": {
      "codemirror_mode": {
        "name": "ipython",
        "version": 3
      },
      "file_extension": ".py",
      "mimetype": "text/x-python",
      "name": "python",
      "nbconvert_exporter": "python",
      "pygments_lexer": "ipython3",
      "version": "3.10.9"
    }
  },
  "nbformat": 4,
  "nbformat_minor": 0
}