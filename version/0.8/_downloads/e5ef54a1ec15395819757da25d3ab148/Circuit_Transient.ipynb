{
  "cells": [
    {
      "cell_type": "markdown",
      "metadata": {},
      "source": [
        "\n# Circuit: transient analysis and eye plot\nThis example shows how you can use PyAEDT to create a circuit design,\nrun a Nexxim time-domain simulation, and create an eye diagram.\n"
      ]
    },
    {
      "cell_type": "markdown",
      "metadata": {},
      "source": [
        "## Perform required imports\nPerform required imports.\n\n"
      ]
    },
    {
      "cell_type": "code",
      "execution_count": null,
      "metadata": {
        "collapsed": false
      },
      "outputs": [],
      "source": [
        "import os\nfrom matplotlib import pyplot as plt\nimport numpy as np\nimport pyaedt"
      ]
    },
    {
      "cell_type": "markdown",
      "metadata": {},
      "source": [
        "## Set AEDT version\nSet AEDT version.\n\n"
      ]
    },
    {
      "cell_type": "code",
      "execution_count": null,
      "metadata": {
        "collapsed": false
      },
      "outputs": [],
      "source": [
        "aedt_version = \"2024.1\""
      ]
    },
    {
      "cell_type": "markdown",
      "metadata": {},
      "source": [
        "## Set non-graphical mode\nSet non-graphical mode, ``\"PYAEDT_NON_GRAPHICAL\"`` is needed to generate\ndocumentation only.\nYou can set ``non_graphical`` either to ``True`` or ``False``.\n\n"
      ]
    },
    {
      "cell_type": "code",
      "execution_count": null,
      "metadata": {
        "collapsed": false
      },
      "outputs": [],
      "source": [
        "non_graphical = False"
      ]
    },
    {
      "cell_type": "markdown",
      "metadata": {},
      "source": [
        "## Launch AEDT with Circuit\nLaunch AEDT 2023 R2 in graphical mode with Circuit.\n\n"
      ]
    },
    {
      "cell_type": "code",
      "execution_count": null,
      "metadata": {
        "collapsed": false
      },
      "outputs": [],
      "source": [
        "cir = pyaedt.Circuit(projectname=pyaedt.generate_unique_project_name(),\n                     specified_version=aedt_version,\n                     new_desktop_session=True,\n                     non_graphical=non_graphical\n                     )"
      ]
    },
    {
      "cell_type": "markdown",
      "metadata": {},
      "source": [
        "## Read IBIS file\nRead an IBIS file and place a buffer in the schematic.\n\n"
      ]
    },
    {
      "cell_type": "code",
      "execution_count": null,
      "metadata": {
        "collapsed": false
      },
      "outputs": [],
      "source": [
        "ibis = cir.get_ibis_model_from_file(os.path.join(cir.desktop_install_dir, 'buflib', 'IBIS', 'u26a_800.ibs'))\nibs = ibis.buffers[\"DQ_u26a_800\"].insert(0, 0)"
      ]
    },
    {
      "cell_type": "markdown",
      "metadata": {},
      "source": [
        "## Place ideal transmission line\nPlace an ideal transmission line in the schematic and parametrize it.\n\n"
      ]
    },
    {
      "cell_type": "code",
      "execution_count": null,
      "metadata": {
        "collapsed": false
      },
      "outputs": [],
      "source": [
        "tr1 = cir.modeler.components.components_catalog[\"Ideal Distributed:TRLK_NX\"].place(\"tr1\")\ntr1.parameters[\"P\"] = \"50mm\""
      ]
    },
    {
      "cell_type": "markdown",
      "metadata": {},
      "source": [
        "## Create resistor and ground\nCreate a resistor and ground in the schematic.\n\n"
      ]
    },
    {
      "cell_type": "code",
      "execution_count": null,
      "metadata": {
        "collapsed": false
      },
      "outputs": [],
      "source": [
        "res = cir.modeler.components.create_resistor(name=\"R1\", value=\"1Meg\")\ngnd1 = cir.modeler.components.create_gnd()"
      ]
    },
    {
      "cell_type": "markdown",
      "metadata": {},
      "source": [
        "## Connect elements\nConnect elements in the schematic.\n\n"
      ]
    },
    {
      "cell_type": "code",
      "execution_count": null,
      "metadata": {
        "collapsed": false
      },
      "outputs": [],
      "source": [
        "tr1.pins[0].connect_to_component(ibs.pins[0])\ntr1.pins[1].connect_to_component(res.pins[0])\nres.pins[1].connect_to_component(gnd1.pins[0])"
      ]
    },
    {
      "cell_type": "markdown",
      "metadata": {},
      "source": [
        "## Place probe\nPlace a probe and rename it to ``Vout``.\n\n"
      ]
    },
    {
      "cell_type": "code",
      "execution_count": null,
      "metadata": {
        "collapsed": false
      },
      "outputs": [],
      "source": [
        "pr1 = cir.modeler.components.components_catalog[\"Probes:VPROBE\"].place(\"vout\")\npr1.parameters[\"Name\"] = \"Vout\"\npr1.pins[0].connect_to_component(res.pins[0])\npr2 = cir.modeler.components.components_catalog[\"Probes:VPROBE\"].place(\"Vin\")\npr2.parameters[\"Name\"] = \"Vin\"\npr2.pins[0].connect_to_component(ibs.pins[0])"
      ]
    },
    {
      "cell_type": "markdown",
      "metadata": {},
      "source": [
        "## Create setup and analyze\nCreate a transient analysis setup and analyze it.\n\n"
      ]
    },
    {
      "cell_type": "code",
      "execution_count": null,
      "metadata": {
        "collapsed": false
      },
      "outputs": [],
      "source": [
        "trans_setup = cir.create_setup(name=\"TransientRun\", setup_type=\"NexximTransient\")\ntrans_setup.props[\"TransientData\"] = [\"0.01ns\", \"200ns\"]\ncir.analyze_setup(\"TransientRun\")"
      ]
    },
    {
      "cell_type": "markdown",
      "metadata": {},
      "source": [
        "## Create report outside AEDT\nCreate a report outside AEDT using the ``get_solution_data`` method. This\nmethod allows you to get solution data and plot it outside AEDT without needing\na UI.\n\n"
      ]
    },
    {
      "cell_type": "code",
      "execution_count": null,
      "metadata": {
        "collapsed": false
      },
      "outputs": [],
      "source": [
        "report = cir.post.create_report(\"V(Vout)\", domain=\"Time\")\nif not non_graphical:\n    report.add_cartesian_y_marker(0)\nsolutions = cir.post.get_solution_data(domain=\"Time\")\nsolutions.plot(\"V(Vout)\")"
      ]
    },
    {
      "cell_type": "markdown",
      "metadata": {},
      "source": [
        "## Create report inside AEDT\nCreate a report inside AEDT using the ``new_report`` object. This object is\nfully customizable and usable with most of the reports available in AEDT.\nThe standard report is the main one used in Circuit and Twin Builder.\n\n"
      ]
    },
    {
      "cell_type": "code",
      "execution_count": null,
      "metadata": {
        "collapsed": false
      },
      "outputs": [],
      "source": [
        "new_report = cir.post.reports_by_category.standard(\"V(Vout)\")\nnew_report.domain = \"Time\"\nnew_report.create()\nif not non_graphical:\n    new_report.add_limit_line_from_points([60, 80], [1, 1], \"ns\", \"V\")\n    vout = new_report.traces[0]\n    vout.set_trace_properties(trace_style=vout.LINESTYLE.Dot, width=2, trace_type=vout.TRACETYPE.Continuous,\n                              color=(0, 0, 255))\n    vout.set_symbol_properties(style=vout.SYMBOLSTYLE.Circle, fill=True, color=(255, 255, 0))\n    ll = new_report.limit_lines[0]\n    ll.set_line_properties(style=ll.LINESTYLE.Solid, width=4, hatch_above=True, violation_emphasis=True, hatch_pixels=2,\n                           color=(0, 0, 255))\nnew_report.time_start = \"20ns\"\nnew_report.time_stop = \"100ns\"\nnew_report.create()\nsol = new_report.get_solution_data()\nsol.plot()"
      ]
    },
    {
      "cell_type": "markdown",
      "metadata": {},
      "source": [
        "## Create eye diagram inside AEDT\nCreate an eye diagram inside AEDT using the ``new_eye`` object. \n\n"
      ]
    },
    {
      "cell_type": "code",
      "execution_count": null,
      "metadata": {
        "collapsed": false
      },
      "outputs": [],
      "source": [
        "new_eye = cir.post.reports_by_category.eye_diagram(\"V(Vout)\")\nnew_eye.unit_interval = \"1e-9s\"\nnew_eye.time_stop = \"100ns\"\nnew_eye.create()"
      ]
    },
    {
      "cell_type": "markdown",
      "metadata": {},
      "source": [
        "## Create eye diagram outside AEDT\nCreate the same eye diagram outside AEDT using Matplotlib and the\n``get_solution_data`` method.\n\n"
      ]
    },
    {
      "cell_type": "code",
      "execution_count": null,
      "metadata": {
        "collapsed": false
      },
      "outputs": [],
      "source": [
        "unit_interval = 1\noffset = 0.25\ntstop = 200\ntstart = 0\nt_steps = []\ni = tstart + offset\nwhile i < tstop:\n    i += 2 * unit_interval\n    t_steps.append(i)\n\nt = [[i for i in solutions.intrinsics[\"Time\"] if k - 2 * unit_interval < i <= k] for k in\n     t_steps]\nys = [[i / 1000 for i, j in zip(solutions.data_real(), solutions.intrinsics[\"Time\"]) if\n       k - 2 * unit_interval < j <= k] for k in t_steps]\nfig, ax = plt.subplots(sharex=True)\ncellst = np.array([])\ncellsv = np.array([])\nfor a, b in zip(t, ys):\n    an = np.array(a)\n    an = an - an.mean()\n    bn = np.array(b)\n    cellst = np.append(cellst, an)\n    cellsv = np.append(cellsv, bn)\nplt.plot(cellst.T, cellsv.T, zorder=0)\nplt.show()"
      ]
    },
    {
      "cell_type": "markdown",
      "metadata": {},
      "source": [
        "## Release AEDT\nRelease AEDT.\n\n"
      ]
    },
    {
      "cell_type": "code",
      "execution_count": null,
      "metadata": {
        "collapsed": false
      },
      "outputs": [],
      "source": [
        "cir.save_project()\ncir.release_desktop()"
      ]
    }
  ],
  "metadata": {
    "kernelspec": {
      "display_name": "Python 3",
      "language": "python",
      "name": "python3"
    },
    "language_info": {
      "codemirror_mode": {
        "name": "ipython",
        "version": 3
      },
      "file_extension": ".py",
      "mimetype": "text/x-python",
      "name": "python",
      "nbconvert_exporter": "python",
      "pygments_lexer": "ipython3",
      "version": "3.10.9"
    }
  },
  "nbformat": 4,
  "nbformat_minor": 0
}