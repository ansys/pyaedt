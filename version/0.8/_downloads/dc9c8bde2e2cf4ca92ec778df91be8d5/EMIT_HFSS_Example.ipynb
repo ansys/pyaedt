{
  "cells": [
    {
      "cell_type": "markdown",
      "metadata": {},
      "source": [
        "\n# EMIT: HFSS to EMIT coupling\nThis example shows how you can use PyAEDT to open an AEDT project with\nan HFSS design, create an EMIT design in the project, and link the HFSS design\nas a coupling link in the EMIT design.\n"
      ]
    },
    {
      "cell_type": "markdown",
      "metadata": {},
      "source": [
        "## Perform required imports\nPerform required imports.\n\nsphinx_gallery_thumbnail_path = \"Resources/emit_hfss.png\"\n\n"
      ]
    },
    {
      "cell_type": "code",
      "execution_count": null,
      "metadata": {
        "collapsed": false
      },
      "outputs": [],
      "source": [
        "import os\n\n# Import required modules\nimport pyaedt\nfrom pyaedt.generic.filesystem import Scratch\nfrom pyaedt.emit_core.emit_constants import TxRxMode, ResultType"
      ]
    },
    {
      "cell_type": "markdown",
      "metadata": {},
      "source": [
        "## Set AEDT version\nSet AEDT version.\n\n"
      ]
    },
    {
      "cell_type": "code",
      "execution_count": null,
      "metadata": {
        "collapsed": false
      },
      "outputs": [],
      "source": [
        "aedt_version = \"2024.1\""
      ]
    },
    {
      "cell_type": "markdown",
      "metadata": {},
      "source": [
        "## Set non-graphical mode\nSet non-graphical mode. \nYou can set ``non_graphical`` either to ``True`` or ``False``.\nThe Boolean parameter ``new_thread`` defines whether to create a new instance\nof AEDT or try to connect to an existing instance of it.\n\nThe following code uses AEDT 2023 R2.\n\n"
      ]
    },
    {
      "cell_type": "code",
      "execution_count": null,
      "metadata": {
        "collapsed": false
      },
      "outputs": [],
      "source": [
        "non_graphical = False\nNewThread = True\nscratch_path = pyaedt.generate_unique_folder_name()"
      ]
    },
    {
      "cell_type": "markdown",
      "metadata": {},
      "source": [
        "## Launch AEDT with EMIT\nLaunch AEDT with EMIT. The ``Desktop`` class initializes AEDT and starts it\non the specified version and in the specified graphical mode.\n\n"
      ]
    },
    {
      "cell_type": "code",
      "execution_count": null,
      "metadata": {
        "collapsed": false
      },
      "outputs": [],
      "source": [
        "d = pyaedt.launch_desktop(aedt_version, non_graphical, NewThread)\n\ntemp_folder = os.path.join(scratch_path, (\"EmitHFSSExample\"))\nif not os.path.exists(temp_folder):\n    os.mkdir(temp_folder)\n\nexample_name = \"Cell Phone RFI Desense\"\nexample_aedt = example_name + \".aedt\"\nexample_results = example_name + \".aedtresults\"\nexample_lock = example_aedt + \".lock\"\nexample_pdf_file = example_name + \" Example.pdf\"\n\nexample_dir = os.path.join(d.install_path, \"Examples\\\\EMIT\")\nexample_project = os.path.join(example_dir, example_aedt)\nexample_results_folder = os.path.join(example_dir, example_results)\nexample_pdf = os.path.join(example_dir, example_pdf_file)"
      ]
    },
    {
      "cell_type": "markdown",
      "metadata": {},
      "source": [
        "If the ``Cell Phone RFT Defense`` example is not\nin the installation directory, exit from this example.\n\n"
      ]
    },
    {
      "cell_type": "code",
      "execution_count": null,
      "metadata": {
        "collapsed": false
      },
      "outputs": [],
      "source": [
        "if not os.path.exists(example_project):\n    msg = \"\"\"\n        Cell phone RFT Desense example file is not in the\n         Examples/EMIT directory under the EDT installation. You cannot run this example.\n        \"\"\"\n    print(msg)\n    d.release_desktop(True, True)\n    exit()\n\nmy_project = os.path.join(temp_folder, example_aedt)\nmy_results_folder = os.path.join(temp_folder, example_results)\nmy_project_lock = os.path.join(temp_folder, example_lock)\nmy_project_pdf = os.path.join(temp_folder, example_pdf_file)\n\nif os.path.exists(my_project):\n    os.remove(my_project)\n\nif os.path.exists(my_project_lock):\n    os.remove(my_project_lock)\n\nwith Scratch(scratch_path) as local_scratch:\n    local_scratch.copyfile(example_project, my_project)\n    local_scratch.copyfolder(example_results_folder, my_results_folder)\n    if os.path.exists(example_pdf):\n        local_scratch.copyfile(example_pdf, my_project_pdf)\n\naedtapp = pyaedt.Emit(my_project)"
      ]
    },
    {
      "cell_type": "markdown",
      "metadata": {},
      "source": [
        "## Create and connect EMIT components\nCreate two radios with antennas connected to each one.\n\n"
      ]
    },
    {
      "cell_type": "code",
      "execution_count": null,
      "metadata": {
        "collapsed": false
      },
      "outputs": [],
      "source": [
        "rad1, ant1 = aedtapp.modeler.components.create_radio_antenna(\"Bluetooth Low Energy (LE)\")\nrad2, ant2 = aedtapp.modeler.components.create_radio_antenna(\"Bluetooth Low Energy (LE)\")"
      ]
    },
    {
      "cell_type": "markdown",
      "metadata": {},
      "source": [
        "## Define coupling among RF systems\nDefine coupling among the RF systems.\n\n"
      ]
    },
    {
      "cell_type": "code",
      "execution_count": null,
      "metadata": {
        "collapsed": false
      },
      "outputs": [],
      "source": [
        "for link in aedtapp.couplings.linkable_design_names:\n    aedtapp.couplings.add_link(link)\n\nfor link in aedtapp.couplings.coupling_names:\n    aedtapp.couplings.update_link(link)"
      ]
    },
    {
      "cell_type": "markdown",
      "metadata": {},
      "source": [
        "## Run EMIT simulation\nRun the EMIT simulation.\n\nThis part of the example requires Ansys AEDT 2023 R2. \n\n"
      ]
    },
    {
      "cell_type": "code",
      "execution_count": null,
      "metadata": {
        "collapsed": false
      },
      "outputs": [],
      "source": [
        "if aedt_version > \"2023.1\":\n    rev = aedtapp.results.analyze()\n    rx_bands = rev.get_band_names(rad1.name, TxRxMode.RX) \n    tx_bands = rev.get_band_names(rad2.name, TxRxMode.TX) \n    domain = aedtapp.results.interaction_domain()\n    domain.set_receiver(rad1.name, rx_bands[0], -1)\n    domain.set_interferer(rad2.name,tx_bands[0])\n    interaction = rev.run(domain)\n    worst = interaction.get_worst_instance(ResultType.EMI)\n    if worst.has_valid_values():\n        emi = worst.get_value(ResultType.EMI)\n        print(\"Worst case interference is: {} dB\".format(emi))"
      ]
    },
    {
      "cell_type": "markdown",
      "metadata": {},
      "source": [
        "## Save project and close AEDT\nAfter the simulation completes, you can close AEDT or release it using the\n:func:`pyaedt.Desktop.force_close_desktop` method.\nAll methods provide for saving the project before closing.\n\n"
      ]
    },
    {
      "cell_type": "code",
      "execution_count": null,
      "metadata": {
        "collapsed": false
      },
      "outputs": [],
      "source": [
        "aedtapp.save_project()\naedtapp.release_desktop(close_projects=True, close_desktop=True)"
      ]
    }
  ],
  "metadata": {
    "kernelspec": {
      "display_name": "Python 3",
      "language": "python",
      "name": "python3"
    },
    "language_info": {
      "codemirror_mode": {
        "name": "ipython",
        "version": 3
      },
      "file_extension": ".py",
      "mimetype": "text/x-python",
      "name": "python",
      "nbconvert_exporter": "python",
      "pygments_lexer": "ipython3",
      "version": "3.10.9"
    }
  },
  "nbformat": 4,
  "nbformat_minor": 0
}