{
  "cells": [
    {
      "cell_type": "markdown",
      "metadata": {},
      "source": [
        "\n# EMIT: Classify interference type\nThis example shows how you can use PyAEDT to load an existing AEDT \nproject with an EMIT design and analyze the results to classify the\nworst-case interference. \n"
      ]
    },
    {
      "cell_type": "markdown",
      "metadata": {},
      "source": [
        "## Perform required imports\nPerform required imports.\n\n"
      ]
    },
    {
      "cell_type": "code",
      "execution_count": null,
      "metadata": {
        "collapsed": false
      },
      "outputs": [],
      "source": [
        "import sys\nfrom pyaedt.emit_core.emit_constants import InterfererType, ResultType, TxRxMode\nfrom pyaedt import Emit\nimport pyaedt\nimport os\nimport pyaedt.generic.constants as consts\nimport subprocess"
      ]
    },
    {
      "cell_type": "markdown",
      "metadata": {},
      "source": [
        "## Set AEDT version\nSet AEDT version.\n\n"
      ]
    },
    {
      "cell_type": "code",
      "execution_count": null,
      "metadata": {
        "collapsed": false
      },
      "outputs": [],
      "source": [
        "aedt_version = \"2024.1\"\n\n# Check to see which Python libraries have been installed\nreqs = subprocess.check_output([sys.executable, '-m', 'pip', 'freeze'])\ninstalled_packages = [r.decode().split('==')[0] for r in reqs.split()]\n\n\n# Install required packages if they are not installed\ndef install(package):\n    subprocess.check_call([sys.executable, '-m', 'pip', 'install', package])\n\n\n# Install plotly library (if needed) to display legend and scenario matrix results (internet connection needed)\nrequired_packages = ['plotly']\nfor package in required_packages:\n    if package not in installed_packages:\n        install(package)\n\n# Import plotly library \nimport plotly.graph_objects as go\n\n# Define colors for tables\ntable_colors = {\"green\": '#7d73ca', \"yellow\": '#d359a2', \"orange\": '#ff6361', \"red\": '#ffa600', \"white\": '#ffffff'}\nheader_color = 'grey'\n\n# Check for if emit version is compatible\nif aedt_version <= \"2023.1\":\n    print(\"Warning: this example requires AEDT 2023.2 or later.\")\n    sys.exit()"
      ]
    },
    {
      "cell_type": "markdown",
      "metadata": {},
      "source": [
        "## Launch AEDT with EMIT\nLaunch AEDT with EMIT. The ``Desktop`` class initializes AEDT and starts it\non the specified version and in the specified graphical mode.\n\n"
      ]
    },
    {
      "cell_type": "code",
      "execution_count": null,
      "metadata": {
        "collapsed": false
      },
      "outputs": [],
      "source": [
        "non_graphical = False\nnew_thread = True\ndesktop = pyaedt.launch_desktop(aedt_version, non_graphical=non_graphical, new_desktop_session=new_thread)\n\npath_to_desktop_project = pyaedt.downloads.download_file(\"emit\", \"interference.aedtz\")\nemitapp = Emit(non_graphical=False, new_desktop_session=False, projectname=path_to_desktop_project)\n\n# Get all the radios in the project\n# ~~~~~~~~~~~~~~~~~~~~~~~~~~~~~~~~~\n# Get lists of all transmitters and receivers in the project.\nrev = emitapp.results.analyze()\ntx_interferer = InterfererType().TRANSMITTERS\nrx_radios = rev.get_receiver_names()\ntx_radios = rev.get_interferer_names(tx_interferer)\ndomain = emitapp.results.interaction_domain()\n\nif tx_radios is None or rx_radios is None:\n    print(\"No receivers or transmitters are in the design.\")\n    sys.exit()"
      ]
    },
    {
      "cell_type": "markdown",
      "metadata": {},
      "source": [
        "## Classify the interference\nIterate over all the transmitters and receivers and compute the power\nat the input to each receiver due to each of the transmitters. Computes\nwhich, if any, type of interference occurred.\n\n"
      ]
    },
    {
      "cell_type": "code",
      "execution_count": null,
      "metadata": {
        "collapsed": false
      },
      "outputs": [],
      "source": [
        "power_matrix = []\nall_colors = []\nall_colors, power_matrix = rev.interference_type_classification(domain, use_filter=False, filter_list=[])"
      ]
    },
    {
      "cell_type": "markdown",
      "metadata": {},
      "source": [
        "## Save project and close AEDT\nAfter the simulation completes, you can close AEDT or release it using the\n:func:`pyaedt.Desktop.force_close_desktop` method.\nAll methods provide for saving the project before closing.\n\n"
      ]
    },
    {
      "cell_type": "code",
      "execution_count": null,
      "metadata": {
        "collapsed": false
      },
      "outputs": [],
      "source": [
        "emitapp.save_project()\nemitapp.release_desktop()"
      ]
    },
    {
      "cell_type": "markdown",
      "metadata": {},
      "source": [
        "## Create a scenario matrix view\nCreate a scenario matrix view with the transmitters defined across the top\nand receivers down the left-most column. The power at the input to each\nreceiver is shown in each cell of the matrix and color-coded based on the\ninterference type.\n\n"
      ]
    },
    {
      "cell_type": "code",
      "execution_count": null,
      "metadata": {
        "collapsed": false
      },
      "outputs": [],
      "source": [
        "def create_scenario_view(emis, colors, tx_radios, rx_radios):\n    \"\"\"Create a scenario matrix-like table with the higher received\n    power for each Tx-Rx radio combination. The colors\n    used for the scenario matrix view are based on the interference type.\"\"\"\n\n    all_colors = []\n    for color in colors:\n        col = []\n        for cell in color:\n            col.append(table_colors[cell])\n        all_colors.append(col)\n\n    fig = go.Figure(data=[go.Table(\n        header=dict(\n            values=['<b>Tx/Rx</b>', '<b>{}</b>'.format(tx_radios[0]), '<b>{}</b>'.format(tx_radios[1])],\n            line_color='darkslategray',\n            fill_color='grey',\n            align=['left', 'center'],\n            font=dict(color='white', size=16)\n        ),\n        cells=dict(\n            values=[\n                rx_radios,\n                emis[0],\n                emis[1]],\n            line_color='darkslategray',\n            fill_color=['white', all_colors[0], all_colors[1]],\n            align=['left', 'center'],\n            height=25,\n            font=dict(\n                color=['darkslategray', 'black'],\n                size=15)\n        )\n    )])\n    fig.update_layout(\n        title=dict(\n            text='Interference Type Classification',\n            font=dict(color='darkslategray', size=20),\n            x=0.5\n        ),\n        width=600\n    )\n    fig.show()"
      ]
    },
    {
      "cell_type": "markdown",
      "metadata": {},
      "source": [
        "## Generate a legend\nDefine the interference types and colors used to display the results of \nthe analysis.\n\n"
      ]
    },
    {
      "cell_type": "code",
      "execution_count": null,
      "metadata": {
        "collapsed": false
      },
      "outputs": [],
      "source": [
        "def create_legend_table():\n    \"\"\"Create a table showing the interference types.\"\"\"\n    classifications = ['In-band/In-band', 'Out-of-band/In-band',\n                       'In-band/Out-of-band', 'Out-of-band/Out-of-band']\n    fig = go.Figure(data=[go.Table(\n        header=dict(\n            values=['<b>Interference Type (Source/Victim)</b>'],\n            line_color='darkslategray',\n            fill_color=header_color,\n            align=['center'],\n            font=dict(color='white', size=16)\n        ),\n        cells=dict(\n            values=[classifications],\n            line_color='darkslategray',\n            fill_color=[[table_colors['red'], table_colors['orange'], table_colors['yellow'], table_colors['green']]],\n            align=['center'],\n            height=25,\n            font=dict(\n                color=['darkslategray', 'black'],\n                size=15)\n        )\n    )])\n    fig.update_layout(\n        title=dict(\n            text='Interference Type Classification',\n            font=dict(color='darkslategray', size=20),\n            x=0.5\n        ),\n        width=600\n    )\n    fig.show()\n\n\nif os.getenv(\"PYAEDT_DOC_GENERATION\", \"False\") != \"1\":\n    # Create a scenario view for all the interference types\n    create_scenario_view(power_matrix, all_colors, tx_radios, rx_radios)\n\n    # Create a legend for the interference types\n    create_legend_table()"
      ]
    }
  ],
  "metadata": {
    "kernelspec": {
      "display_name": "Python 3",
      "language": "python",
      "name": "python3"
    },
    "language_info": {
      "codemirror_mode": {
        "name": "ipython",
        "version": 3
      },
      "file_extension": ".py",
      "mimetype": "text/x-python",
      "name": "python",
      "nbconvert_exporter": "python",
      "pygments_lexer": "ipython3",
      "version": "3.10.9"
    }
  },
  "nbformat": 4,
  "nbformat_minor": 0
}