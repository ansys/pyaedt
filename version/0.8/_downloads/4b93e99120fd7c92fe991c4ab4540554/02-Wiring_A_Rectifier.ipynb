{
  "cells": [
    {
      "cell_type": "markdown",
      "metadata": {},
      "source": [
        "\n# Twin Builder: wiring a rectifier with a capacitor filter\nThis example shows how you can use PyAEDT to create a Twin Builder design\nand run a Twin Builder time-domain simulation.\n"
      ]
    },
    {
      "cell_type": "markdown",
      "metadata": {},
      "source": [
        "## Perform required imports\nPerform required imports.\n\n"
      ]
    },
    {
      "cell_type": "code",
      "execution_count": null,
      "metadata": {
        "collapsed": false
      },
      "outputs": [],
      "source": [
        "import math\nimport matplotlib.pyplot as plt\nimport pyaedt"
      ]
    },
    {
      "cell_type": "markdown",
      "metadata": {},
      "source": [
        "## Set AEDT version\nSet AEDT version.\n\n"
      ]
    },
    {
      "cell_type": "code",
      "execution_count": null,
      "metadata": {
        "collapsed": false
      },
      "outputs": [],
      "source": [
        "aedt_version = \"2024.1\""
      ]
    },
    {
      "cell_type": "markdown",
      "metadata": {},
      "source": [
        "## Select version and set launch options\nSelect the Twin Builder version and set the launch options. The following code\nlaunches Twin Builder in graphical mode.\n\nYou can change the Boolean parameter ``non_graphical`` to ``True`` to launch\nTwin Builder in non-graphical mode. You can also change the Boolean parameter\n``new_thread`` to ``False`` to launch Twin Builder in an existing AEDT session\nif one is running.\n\n"
      ]
    },
    {
      "cell_type": "code",
      "execution_count": null,
      "metadata": {
        "collapsed": false
      },
      "outputs": [],
      "source": [
        "non_graphical = False\nnew_thread = True"
      ]
    },
    {
      "cell_type": "markdown",
      "metadata": {},
      "source": [
        "## Launch Twin Builder\nLaunch Twin Builder using an implicit declaration and add a new design with\na default setup.\n\n"
      ]
    },
    {
      "cell_type": "code",
      "execution_count": null,
      "metadata": {
        "collapsed": false
      },
      "outputs": [],
      "source": [
        "tb = pyaedt.TwinBuilder(projectname=pyaedt.generate_unique_project_name(),\n                        specified_version=aedt_version,\n                        non_graphical=non_graphical,\n                        new_desktop_session=new_thread\n                        )"
      ]
    },
    {
      "cell_type": "markdown",
      "metadata": {},
      "source": [
        "## Create components for bridge rectifier\nCreate components for a bridge rectifier with a capacitor filter.\n\n"
      ]
    },
    {
      "cell_type": "code",
      "execution_count": null,
      "metadata": {
        "collapsed": false
      },
      "outputs": [],
      "source": [
        "# Define the grid distance for ease in calculations.\n\nG = 0.00254\n\n# Create an AC sinosoidal source component.\n\nsource = tb.modeler.schematic.create_voltage_source(\"V_AC\", \"ESINE\", 100, 50, [-1 * G, 0])\n\n# Create the four diodes of the bridge rectifier.\n\ndiode1 = tb.modeler.schematic.create_diode(location=[10 * G, 6 * G], angle=270)\ndiode2 = tb.modeler.schematic.create_diode(location=[20 * G, 6 * G], angle=270)\ndiode3 = tb.modeler.schematic.create_diode(location=[10 * G, -4 * G], angle=270)\ndiode4 = tb.modeler.schematic.create_diode(location=[20 * G, -4 * G], angle=270)\n\n# Create a capacitor filter.\n\ncapacitor = tb.modeler.schematic.create_capacitor(value=1e-6, location=[29 * G, -10 * G])\n\n# Create a load resistor.\n\nresistor = tb.modeler.schematic.create_resistor(value=100000, location=[39 * G, -10 * G])\n\n# Create a ground.\n\ngnd = tb.modeler.components.create_gnd(location=[5 * G, -16 * G])"
      ]
    },
    {
      "cell_type": "markdown",
      "metadata": {},
      "source": [
        "## Connect components\nConnect components with wires.\n\n"
      ]
    },
    {
      "cell_type": "code",
      "execution_count": null,
      "metadata": {
        "collapsed": false
      },
      "outputs": [],
      "source": [
        "# Wire the diode bridge.\n\ntb.modeler.schematic.create_wire(points=[diode1.pins[0].location, diode3.pins[0].location])\ntb.modeler.schematic.create_wire(points=[diode2.pins[1].location, diode4.pins[1].location])\ntb.modeler.schematic.create_wire(points=[diode1.pins[1].location, diode2.pins[0].location])\ntb.modeler.schematic.create_wire(points=[diode3.pins[1].location, diode4.pins[0].location])\n\n# Wire the AC source.\n\ntb.modeler.schematic.create_wire(points=[source.pins[1].location, [0, 10 * G], [15 * G, 10 * G], [15 * G, 5 * G]])\ntb.modeler.schematic.create_wire(points=[source.pins[0].location, [0, -10 * G], [15 * G, -10 * G], [15 * G, -5 * G]])\n\n# Wire the filter capacitor and load resistor.\n\ntb.modeler.schematic.create_wire(points=[resistor.pins[0].location, [40 * G, 0], [22 * G, 0]])\ntb.modeler.schematic.create_wire(points=[capacitor.pins[0].location, [30 * G, 0]])\n\n# Wire the ground.\n\ntb.modeler.schematic.create_wire(points=[resistor.pins[1].location, [40 * G, -15 * G], gnd.pins[0].location])\ntb.modeler.schematic.create_wire(points=[capacitor.pins[1].location, [30 * G, -15 * G]])\ntb.modeler.schematic.create_wire(points=[gnd.pins[0].location, [5 * G, 0], [8 * G, 0]])\n\n# Zoom to fit the schematic\ntb.modeler.zoom_to_fit()"
      ]
    },
    {
      "cell_type": "markdown",
      "metadata": {},
      "source": [
        "## Parametrize transient setup\nParametrize the default transient setup by setting the end time.\n\n"
      ]
    },
    {
      "cell_type": "code",
      "execution_count": null,
      "metadata": {
        "collapsed": false
      },
      "outputs": [],
      "source": [
        "tb.set_end_time(\"100ms\")"
      ]
    },
    {
      "cell_type": "markdown",
      "metadata": {},
      "source": [
        "## Solve transient setup\nSolve the transient setup.\n\n"
      ]
    },
    {
      "cell_type": "code",
      "execution_count": null,
      "metadata": {
        "collapsed": false
      },
      "outputs": [],
      "source": [
        "tb.analyze_setup(\"TR\")"
      ]
    },
    {
      "cell_type": "markdown",
      "metadata": {},
      "source": [
        "## Get report data and plot using Matplotlib\nGet report data and plot it using Matplotlib. The following code gets and plots\nthe values for the voltage on the pulse voltage source and the values for the\nvoltage on the capacitor in the RC circuit.\n\n"
      ]
    },
    {
      "cell_type": "code",
      "execution_count": null,
      "metadata": {
        "collapsed": false
      },
      "outputs": [],
      "source": [
        "E_Value = \"V_AC.V\"\nx = tb.post.get_solution_data(E_Value, \"TR\", \"Time\")\nplt.plot(x.intrinsics[\"Time\"], x.data_real(E_Value))\n\nR_Value = \"R1.V\"\nx = tb.post.get_solution_data(R_Value, \"TR\", \"Time\")\nplt.plot(x.intrinsics[\"Time\"], x.data_real(R_Value))\n\nplt.grid()\nplt.xlabel(\"Time\")\nplt.ylabel(\"AC to DC Conversion using Rectifier\")\nplt.show()"
      ]
    },
    {
      "cell_type": "markdown",
      "metadata": {},
      "source": [
        "## Close Twin Builder\nAfter the simulation is completed, you can close Twin Builder or release it.\nAll methods provide for saving the project before closing.\n\n"
      ]
    },
    {
      "cell_type": "code",
      "execution_count": null,
      "metadata": {
        "collapsed": false
      },
      "outputs": [],
      "source": [
        "tb.release_desktop()"
      ]
    }
  ],
  "metadata": {
    "kernelspec": {
      "display_name": "Python 3",
      "language": "python",
      "name": "python3"
    },
    "language_info": {
      "codemirror_mode": {
        "name": "ipython",
        "version": 3
      },
      "file_extension": ".py",
      "mimetype": "text/x-python",
      "name": "python",
      "nbconvert_exporter": "python",
      "pygments_lexer": "ipython3",
      "version": "3.10.9"
    }
  },
  "nbformat": 4,
  "nbformat_minor": 0
}