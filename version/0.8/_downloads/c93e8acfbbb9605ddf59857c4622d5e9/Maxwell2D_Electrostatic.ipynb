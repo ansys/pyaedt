{
  "cells": [
    {
      "cell_type": "markdown",
      "metadata": {},
      "source": [
        "\n# Maxwell 2D Electrostatic analysis\nThis example shows how you can use PyAEDT to create a Maxwell 2D electrostatic analysis.\nIt shows how to create the geometry, load material properties from an Excel file and\nset up the mesh settings. Moreover, it focuses on post-processing operations, in particular how to\nplot field line traces, relevant for an electrostatic analysis.\n"
      ]
    },
    {
      "cell_type": "markdown",
      "metadata": {},
      "source": [
        "## Perform required imports\nPerform required imports.\n\n"
      ]
    },
    {
      "cell_type": "code",
      "execution_count": null,
      "metadata": {
        "collapsed": false
      },
      "outputs": [],
      "source": [
        "import pyaedt"
      ]
    },
    {
      "cell_type": "markdown",
      "metadata": {},
      "source": [
        "## Set AEDT version\nSet AEDT version.\n\n"
      ]
    },
    {
      "cell_type": "code",
      "execution_count": null,
      "metadata": {
        "collapsed": false
      },
      "outputs": [],
      "source": [
        "aedt_version = \"2024.1\""
      ]
    },
    {
      "cell_type": "markdown",
      "metadata": {},
      "source": [
        "## Initialize Maxwell 2D\nInitialize Maxwell 2D, providing the version, path to the project, and the design\nname and type.\n\n"
      ]
    },
    {
      "cell_type": "code",
      "execution_count": null,
      "metadata": {
        "collapsed": false
      },
      "outputs": [],
      "source": [
        "setup_name = 'MySetupAuto'\nsolver = 'Electrostatic'\ndesign_name = 'Design1'\nproject_name = pyaedt.generate_unique_project_name()\nnon_graphical = False"
      ]
    },
    {
      "cell_type": "markdown",
      "metadata": {},
      "source": [
        "## Download .xlsx file\nSet local temporary folder to export the .xlsx file to.\n\n"
      ]
    },
    {
      "cell_type": "code",
      "execution_count": null,
      "metadata": {
        "collapsed": false
      },
      "outputs": [],
      "source": [
        "file_name_xlsx = pyaedt.downloads.download_file(\"field_line_traces\", \"my_copper.xlsx\")"
      ]
    },
    {
      "cell_type": "markdown",
      "metadata": {},
      "source": [
        "## Initialize dictionaries\nInitialize dictionaries that contain all the definitions for the design variables.\n\n"
      ]
    },
    {
      "cell_type": "code",
      "execution_count": null,
      "metadata": {
        "collapsed": false
      },
      "outputs": [],
      "source": [
        "geom_params_circle = {\n    'circle_x0': '-10mm',\n    'circle_y0': '0mm',\n    'circle_z0': '0mm',\n    'circle_axis': 'Z',\n    'circle_radius': '1mm'\n}\n\ngeom_params_rectangle = {\n    'r_x0': '1mm',\n    'r_y0': '5mm',\n    'r_z0': '0mm',\n    'r_axis': 'Z',\n    'r_dx': '-1mm',\n    'r_dy': '-10mm'\n}"
      ]
    },
    {
      "cell_type": "markdown",
      "metadata": {},
      "source": [
        "## Launch Maxwell 2D\nLaunch Maxwell 2D and save the project.\n\n"
      ]
    },
    {
      "cell_type": "code",
      "execution_count": null,
      "metadata": {
        "collapsed": false
      },
      "outputs": [],
      "source": [
        "M2D = pyaedt.Maxwell2d(projectname=project_name,\n                       specified_version=aedt_version,\n                       designname=design_name,\n                       solution_type=solver,\n                       new_desktop_session=True,\n                       non_graphical=non_graphical\n                       )"
      ]
    },
    {
      "cell_type": "markdown",
      "metadata": {},
      "source": [
        "## Create object to access 2D modeler\nCreate the object ``mod2D`` to access the 2D modeler easily.\n\n"
      ]
    },
    {
      "cell_type": "code",
      "execution_count": null,
      "metadata": {
        "collapsed": false
      },
      "outputs": [],
      "source": [
        "mod2D = M2D.modeler\nmod2D.delete()\nmod2D.model_units = \"mm\""
      ]
    },
    {
      "cell_type": "markdown",
      "metadata": {},
      "source": [
        "## Define variables from dictionaries\nDefine design variables from the created dictionaries.\n\n"
      ]
    },
    {
      "cell_type": "code",
      "execution_count": null,
      "metadata": {
        "collapsed": false
      },
      "outputs": [],
      "source": [
        "for k, v in geom_params_circle.items():\n    M2D[k] = v\nfor k, v in geom_params_rectangle.items():\n    M2D[k] = v"
      ]
    },
    {
      "cell_type": "markdown",
      "metadata": {},
      "source": [
        "## Read materials from .xslx file\nRead materials from .xslx file into and set into design.\n\n"
      ]
    },
    {
      "cell_type": "code",
      "execution_count": null,
      "metadata": {
        "collapsed": false
      },
      "outputs": [],
      "source": [
        "mats = M2D.materials.import_materials_from_excel(file_name_xlsx)"
      ]
    },
    {
      "cell_type": "markdown",
      "metadata": {},
      "source": [
        "## Create design geometries\nCreate rectangle and a circle and assign the material read from the .xlsx file.\nCreate two new polylines and a region.\n\n"
      ]
    },
    {
      "cell_type": "code",
      "execution_count": null,
      "metadata": {
        "collapsed": false
      },
      "outputs": [],
      "source": [
        "rect = mod2D.create_rectangle(origin=['r_x0', 'r_y0', 'r_z0'],\n                              sizes=['r_dx', 'r_dy', 0],\n                              name='Ground', matname=mats[0])\nrect.color = (0, 0, 255)  # rgb\nrect.solve_inside = False\n\ncircle = mod2D.create_circle(position=['circle_x0', 'circle_y0', 'circle_z0'], radius='circle_radius',\n                             num_sides='0', is_covered=True, name='Electrode', matname=mats[0])\ncircle.color = (0, 0, 255)  # rgb\ncircle.solve_inside = False\n\npoly1_points = [[-9, 2, 0], [-4, 2, 0], [2, -2, 0],[8, 2, 0]]\npoly2_points = [[-9, 0, 0], [9, 0, 0]]\npoly1_id = mod2D.create_polyline(points=poly1_points, segment_type='Spline', name='Poly1')\npoly2_id = mod2D.create_polyline(points=poly2_points, name='Poly2')\nmod2D.split([poly1_id, poly2_id], 'YZ', sides='NegativeOnly')\nmod2D.create_region([20, 100, 20, 100])"
      ]
    },
    {
      "cell_type": "markdown",
      "metadata": {},
      "source": [
        "## Define excitations\nAssign voltage excitations to rectangle and circle.\n\n"
      ]
    },
    {
      "cell_type": "code",
      "execution_count": null,
      "metadata": {
        "collapsed": false
      },
      "outputs": [],
      "source": [
        "M2D.assign_voltage(rect.id, amplitude=0, name='Ground')\nM2D.assign_voltage(circle.id, amplitude=50e6, name='50kV')"
      ]
    },
    {
      "cell_type": "markdown",
      "metadata": {},
      "source": [
        "## Create initial mesh settings\nAssign a surface mesh to the rectangle.\n\n"
      ]
    },
    {
      "cell_type": "code",
      "execution_count": null,
      "metadata": {
        "collapsed": false
      },
      "outputs": [],
      "source": [
        "M2D.mesh.assign_surface_mesh_manual(assignment=['Ground'], surface_deviation=0.001)"
      ]
    },
    {
      "cell_type": "markdown",
      "metadata": {},
      "source": [
        "## Create, validate and analyze the setup\nCreate, update, validate and analyze the setup.\n\n"
      ]
    },
    {
      "cell_type": "code",
      "execution_count": null,
      "metadata": {
        "collapsed": false
      },
      "outputs": [],
      "source": [
        "setup = M2D.create_setup(name=setup_name)\nsetup.props['PercentError'] = 0.5\nsetup.update()\nM2D.validate_simple()\nM2D.analyze_setup(setup_name)"
      ]
    },
    {
      "cell_type": "markdown",
      "metadata": {},
      "source": [
        "## Evaluate the E Field tangential component\nEvaluate the E Field tangential component along the given polylines.\nAdd these operations to the Named Expression list in Field Calculator.\n\n"
      ]
    },
    {
      "cell_type": "code",
      "execution_count": null,
      "metadata": {
        "collapsed": false
      },
      "outputs": [],
      "source": [
        "fields = M2D.ofieldsreporter\nfields.CalcStack(\"clear\")\nfields.EnterQty(\"E\")\nfields.EnterEdge(\"Poly1\")\nfields.CalcOp(\"Tangent\")\nfields.CalcOp(\"Dot\")\nfields.AddNamedExpression(\"e_tan_poly1\", \"Fields\")\nfields.EnterQty(\"E\")\nfields.EnterEdge(\"Poly2\")\nfields.CalcOp(\"Tangent\")\nfields.CalcOp(\"Dot\")\nfields.AddNamedExpression(\"e_tan_poly2\", \"Fields\")"
      ]
    },
    {
      "cell_type": "markdown",
      "metadata": {},
      "source": [
        "## Create Field Line Traces Plot\nCreate Field Line Traces Plot specifying as seeding faces\nthe ground, the electrode and the region\nand as ``In surface objects`` only the region.\n\n"
      ]
    },
    {
      "cell_type": "code",
      "execution_count": null,
      "metadata": {
        "collapsed": false
      },
      "outputs": [],
      "source": [
        "plot = M2D.post.create_fieldplot_line_traces(seeding_faces=[\"Ground\", \"Electrode\", \"Region\"],\n                                             in_volume_tracing_objs=\"Region\", plot_name=\"LineTracesTest\")"
      ]
    },
    {
      "cell_type": "markdown",
      "metadata": {},
      "source": [
        "## Update Field Line Traces Plot\nUpdate field line traces plot.\nUpdate seeding points number, line style and line width.\n\n"
      ]
    },
    {
      "cell_type": "code",
      "execution_count": null,
      "metadata": {
        "collapsed": false
      },
      "outputs": [],
      "source": [
        "plot.SeedingPointsNumber = 20\nplot.LineStyle = \"Cylinder\"\nplot.LineWidth = 3\nplot.update()"
      ]
    },
    {
      "cell_type": "markdown",
      "metadata": {},
      "source": [
        "## Export field line traces plot\nExport field line traces plot.\nFor field lint traces plot, the export file format is ``.fldplt``.\n\n"
      ]
    },
    {
      "cell_type": "code",
      "execution_count": null,
      "metadata": {
        "collapsed": false
      },
      "outputs": [],
      "source": [
        "M2D.post.export_field_plot(plot_name=\"LineTracesTest\", output_dir=M2D.toolkit_directory, file_format=\"fldplt\")"
      ]
    },
    {
      "cell_type": "markdown",
      "metadata": {},
      "source": [
        "## Export the mesh field plot\nExport the mesh in ``aedtplt`` format.\n\n"
      ]
    },
    {
      "cell_type": "code",
      "execution_count": null,
      "metadata": {
        "collapsed": false
      },
      "outputs": [],
      "source": [
        "M2D.post.export_mesh_obj(setup=M2D.nominal_adaptive)"
      ]
    },
    {
      "cell_type": "markdown",
      "metadata": {},
      "source": [
        "## Save project and close AEDT\nSave the project and close AEDT.\n\n"
      ]
    },
    {
      "cell_type": "code",
      "execution_count": null,
      "metadata": {
        "collapsed": false
      },
      "outputs": [],
      "source": [
        "M2D.save_project()\nM2D.release_desktop()"
      ]
    }
  ],
  "metadata": {
    "kernelspec": {
      "display_name": "Python 3",
      "language": "python",
      "name": "python3"
    },
    "language_info": {
      "codemirror_mode": {
        "name": "ipython",
        "version": 3
      },
      "file_extension": ".py",
      "mimetype": "text/x-python",
      "name": "python",
      "nbconvert_exporter": "python",
      "pygments_lexer": "ipython3",
      "version": "3.10.9"
    }
  },
  "nbformat": 4,
  "nbformat_minor": 0
}