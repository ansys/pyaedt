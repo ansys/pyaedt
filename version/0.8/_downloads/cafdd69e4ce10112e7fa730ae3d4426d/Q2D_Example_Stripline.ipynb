{
  "cells": [
    {
      "cell_type": "markdown",
      "metadata": {},
      "source": [
        "\n# 2D Extractor: stripline analysis\nThis example shows how you can use PyAEDT to create a differential stripline design in\n2D Extractor and run a simulation.\n"
      ]
    },
    {
      "cell_type": "markdown",
      "metadata": {},
      "source": [
        "## Perform required imports\nPerform required imports.\n\n"
      ]
    },
    {
      "cell_type": "code",
      "execution_count": null,
      "metadata": {
        "collapsed": false
      },
      "outputs": [],
      "source": [
        "import os\nimport pyaedt"
      ]
    },
    {
      "cell_type": "markdown",
      "metadata": {},
      "source": [
        "## Set AEDT version\nSet AEDT version.\n\n"
      ]
    },
    {
      "cell_type": "code",
      "execution_count": null,
      "metadata": {
        "collapsed": false
      },
      "outputs": [],
      "source": [
        "aedt_version = \"2024.1\""
      ]
    },
    {
      "cell_type": "markdown",
      "metadata": {},
      "source": [
        "## Set non-graphical mode\nSet non-graphical mode. \nYou can set ``non_graphical`` either to ``True`` or ``False``.\n\n"
      ]
    },
    {
      "cell_type": "code",
      "execution_count": null,
      "metadata": {
        "collapsed": false
      },
      "outputs": [],
      "source": [
        "non_graphical = False\nproject_path = pyaedt.generate_unique_project_name()"
      ]
    },
    {
      "cell_type": "markdown",
      "metadata": {},
      "source": [
        "## Launch AEDT and 2D Extractor\nLaunch AEDT 2023 R2 in graphical mode and launch 2D Extractor. This example\nuses SI units.\n\n"
      ]
    },
    {
      "cell_type": "code",
      "execution_count": null,
      "metadata": {
        "collapsed": false
      },
      "outputs": [],
      "source": [
        "q = pyaedt.Q2d(projectname=project_path,\n               designname=\"differential_stripline\",\n               specified_version=aedt_version,\n               non_graphical=non_graphical,\n               new_desktop_session=True\n               )"
      ]
    },
    {
      "cell_type": "markdown",
      "metadata": {},
      "source": [
        "## Define variables\nDefine variables.\n\n"
      ]
    },
    {
      "cell_type": "code",
      "execution_count": null,
      "metadata": {
        "collapsed": false
      },
      "outputs": [],
      "source": [
        "e_factor = \"e_factor\"\nsig_w = \"sig_bot_w\"\nsig_gap = \"sig_gap\"\nco_gnd_w = \"gnd_w\"\nclearance = \"clearance\"\ncond_h = \"cond_h\"\ncore_h = \"core_h\"\npp_h = \"pp_h\"\n\nfor var_name, var_value in {\n    \"e_factor\": \"2\",\n    \"sig_bot_w\": \"150um\",\n    \"sig_gap\": \"150um\",\n    \"gnd_w\": \"500um\",\n    \"clearance\": \"150um\",\n    \"cond_h\": \"17um\",\n    \"core_h\": \"150um\",\n    \"pp_h\": \"150um\",\n\n}.items():\n    q[var_name] = var_value\n\ndelta_w_half = \"({0}/{1})\".format(cond_h, e_factor)\nsig_top_w = \"({1}-{0}*2)\".format(delta_w_half, sig_w)\nco_gnd_top_w = \"({1}-{0}*2)\".format(delta_w_half, co_gnd_w)\nmodel_w = \"{}*2+{}*2+{}*2+{}\".format(co_gnd_w, clearance, sig_w, sig_gap)"
      ]
    },
    {
      "cell_type": "markdown",
      "metadata": {},
      "source": [
        "## Create primitives\nCreate primitives and define the layer heights.\n\n"
      ]
    },
    {
      "cell_type": "code",
      "execution_count": null,
      "metadata": {
        "collapsed": false
      },
      "outputs": [],
      "source": [
        "layer_1_lh = 0\nlayer_1_uh = cond_h\nlayer_2_lh = layer_1_uh + \"+\" + core_h\nlayer_2_uh = layer_2_lh + \"+\" + cond_h\nlayer_3_lh = layer_2_uh + \"+\" + pp_h\nlayer_3_uh = layer_3_lh + \"+\" + cond_h"
      ]
    },
    {
      "cell_type": "markdown",
      "metadata": {},
      "source": [
        "## Create positive signal\nCreate a positive signal.\n\n"
      ]
    },
    {
      "cell_type": "code",
      "execution_count": null,
      "metadata": {
        "collapsed": false
      },
      "outputs": [],
      "source": [
        "base_line_obj = q.modeler.create_polyline([[0, layer_2_lh, 0], [sig_w, layer_2_lh, 0]], name=\"signal_p\")\ntop_line_obj = q.modeler.create_polyline([[0, layer_2_uh, 0], [sig_top_w, layer_2_uh, 0]])\nq.modeler.move([top_line_obj], [delta_w_half, 0, 0])\nq.modeler.connect([base_line_obj, top_line_obj])\nq.modeler.move([base_line_obj], [\"{}+{}\".format(co_gnd_w, clearance), 0, 0])\n\n# Create negative signal\n# ~~~~~~~~~~~~~~~~~~~~~~\n# Create a negative signal.\n\nbase_line_obj = q.modeler.create_polyline(points=[[0, layer_2_lh, 0], [sig_w, layer_2_lh, 0]], name=\"signal_n\")\ntop_line_obj = q.modeler.create_polyline(points=[[0, layer_2_uh, 0], [sig_top_w, layer_2_uh, 0]])\nq.modeler.move(assignment=[top_line_obj], vector=[delta_w_half, 0, 0])\nq.modeler.connect([base_line_obj, top_line_obj])\nq.modeler.move(assignment=[base_line_obj], vector=[\"{}+{}+{}+{}\".format(co_gnd_w, clearance, sig_w, sig_gap), 0, 0])"
      ]
    },
    {
      "cell_type": "markdown",
      "metadata": {},
      "source": [
        "## Create coplanar ground\nCreate a coplanar ground.\n\n"
      ]
    },
    {
      "cell_type": "code",
      "execution_count": null,
      "metadata": {
        "collapsed": false
      },
      "outputs": [],
      "source": [
        "base_line_obj = q.modeler.create_polyline(points=[[0, layer_2_lh, 0], [co_gnd_w, layer_2_lh, 0]], name=\"co_gnd_left\")\ntop_line_obj = q.modeler.create_polyline(points=[[0, layer_2_uh, 0], [co_gnd_top_w, layer_2_uh, 0]])\nq.modeler.move([top_line_obj], [delta_w_half, 0, 0])\nq.modeler.connect([base_line_obj, top_line_obj])\n\nbase_line_obj = q.modeler.create_polyline(points=[[0, layer_2_lh, 0], [co_gnd_w, layer_2_lh, 0]], name=\"co_gnd_right\")\ntop_line_obj = q.modeler.create_polyline(points=[[0, layer_2_uh, 0], [co_gnd_top_w, layer_2_uh, 0]])\nq.modeler.move(assignment=[top_line_obj], vector=[delta_w_half, 0, 0])\nq.modeler.connect([base_line_obj, top_line_obj])\nq.modeler.move(assignment=[base_line_obj], vector=[\"{}+{}*2+{}*2+{}\".format(co_gnd_w, clearance, sig_w, sig_gap), 0, 0])"
      ]
    },
    {
      "cell_type": "markdown",
      "metadata": {},
      "source": [
        "## Create reference ground plane\nCreate a reference ground plane.\n\n"
      ]
    },
    {
      "cell_type": "code",
      "execution_count": null,
      "metadata": {
        "collapsed": false
      },
      "outputs": [],
      "source": [
        "q.modeler.create_rectangle(origin=[0, layer_1_lh, 0], sizes=[model_w, cond_h], name=\"ref_gnd_u\")\nq.modeler.create_rectangle(origin=[0, layer_3_lh, 0], sizes=[model_w, cond_h], name=\"ref_gnd_l\")"
      ]
    },
    {
      "cell_type": "markdown",
      "metadata": {},
      "source": [
        "## Create dielectric\nCreate a dielectric.\n\n"
      ]
    },
    {
      "cell_type": "code",
      "execution_count": null,
      "metadata": {
        "collapsed": false
      },
      "outputs": [],
      "source": [
        "q.modeler.create_rectangle(\n    origin=[0, layer_1_uh, 0], sizes=[model_w, core_h], name=\"Core\", material=\"FR4_epoxy\"\n)\nq.modeler.create_rectangle(\n    origin=[0, layer_2_uh, 0], sizes=[model_w, pp_h], name=\"Prepreg\", material=\"FR4_epoxy\"\n)\nq.modeler.create_rectangle(\n    origin=[0, layer_2_lh, 0], sizes=[model_w, cond_h], name=\"Filling\", material=\"FR4_epoxy\"\n)"
      ]
    },
    {
      "cell_type": "markdown",
      "metadata": {},
      "source": [
        "## Assign conductors\nAssign conductors to the signal.\n\n"
      ]
    },
    {
      "cell_type": "code",
      "execution_count": null,
      "metadata": {
        "collapsed": false
      },
      "outputs": [],
      "source": [
        "obj = q.modeler.get_object_from_name(\"signal_p\")\nq.assign_single_conductor(assignment=[obj], name=obj.name, conductor_type=\"SignalLine\", solve_option=\"SolveOnBoundary\",\n                          units=\"mm\")\n\nobj = q.modeler.get_object_from_name(\"signal_n\")\nq.assign_single_conductor(assignment=[obj], name=obj.name, conductor_type=\"SignalLine\", solve_option=\"SolveOnBoundary\",\n                          units=\"mm\")"
      ]
    },
    {
      "cell_type": "markdown",
      "metadata": {},
      "source": [
        "## Create reference ground\nCreate a reference ground.\n\n"
      ]
    },
    {
      "cell_type": "code",
      "execution_count": null,
      "metadata": {
        "collapsed": false
      },
      "outputs": [],
      "source": [
        "obj = [q.modeler.get_object_from_name(i) for i in [\"co_gnd_left\", \"co_gnd_right\", \"ref_gnd_u\", \"ref_gnd_l\"]]\nq.assign_single_conductor(assignment=obj, name=\"gnd\", conductor_type=\"ReferenceGround\", solve_option=\"SolveOnBoundary\",\n                          units=\"mm\")"
      ]
    },
    {
      "cell_type": "markdown",
      "metadata": {},
      "source": [
        "## Assign Huray model on signals\nAssign the Huray model on the signals.\n\n"
      ]
    },
    {
      "cell_type": "code",
      "execution_count": null,
      "metadata": {
        "collapsed": false
      },
      "outputs": [],
      "source": [
        "obj = q.modeler.get_object_from_name(\"signal_p\")\nq.assign_huray_finitecond_to_edges(obj.edges, radius=\"0.5um\", ratio=3, name=\"b_\" + obj.name)\n\nobj = q.modeler.get_object_from_name(\"signal_n\")\nq.assign_huray_finitecond_to_edges(obj.edges, radius=\"0.5um\", ratio=3, name=\"b_\" + obj.name)"
      ]
    },
    {
      "cell_type": "markdown",
      "metadata": {},
      "source": [
        "## Define differential pair\nDefine the differential pair.\n\n"
      ]
    },
    {
      "cell_type": "code",
      "execution_count": null,
      "metadata": {
        "collapsed": false
      },
      "outputs": [],
      "source": [
        "matrix = q.insert_reduced_matrix(operation_name=q.MATRIXOPERATIONS.DiffPair, assignment=[\"signal_p\", \"signal_n\"],\n                                 reduced_matrix=\"diff_pair\")"
      ]
    },
    {
      "cell_type": "markdown",
      "metadata": {},
      "source": [
        "## Create setup, analyze, and plot\nCreate a setup, analyze, and plot solution data.\n\n"
      ]
    },
    {
      "cell_type": "code",
      "execution_count": null,
      "metadata": {
        "collapsed": false
      },
      "outputs": [],
      "source": [
        "# Create a setup.\nsetup = q.create_setup(name=\"new_setup\")\n\n# Add a sweep.\nsweep = setup.add_sweep(name=\"sweep1\", sweep_type=\"Discrete\")\nsweep.props[\"RangeType\"] = \"LinearStep\"\nsweep.props[\"RangeStart\"] = \"1GHz\"\nsweep.props[\"RangeStep\"] = \"100MHz\"\nsweep.props[\"RangeEnd\"] = \"5GHz\"\nsweep.props[\"SaveFields\"] = False\nsweep.props[\"SaveRadFields\"] = False\nsweep.props[\"Type\"] = \"Interpolating\"\nsweep.update()\n\n# Analyze the nominal design and plot characteristic impedance.\nq.analyze()\nplot_sources = matrix.get_sources_for_plot(category=\"Z0\")\na = q.post.get_solution_data(expressions=plot_sources, context=matrix.name)\na.plot(snapshot_path=os.path.join(q.working_directory, \"plot.jpg\"))  # Save plot as jpg\n\n# Add a parametric sweep and analyze.\nparametric = q.parametrics.add(sweep_var=\"sig_bot_w\", start_point=75, end_point=100, step=5,\n                               variation_type=\"LinearStep\")\nparametric.add_variation(sweep_var=\"sig_gap\", start_point=\"100um\", end_point=\"200um\", step=5,\n                         variation_type=\"LinearCount\")\nq.analyze_setup(name=parametric.name)"
      ]
    },
    {
      "cell_type": "markdown",
      "metadata": {},
      "source": [
        "## Save project and release AEDT\nSave the project and release AEDT.\n\n"
      ]
    },
    {
      "cell_type": "code",
      "execution_count": null,
      "metadata": {
        "collapsed": false
      },
      "outputs": [],
      "source": [
        "q.save_project()\nq.release_desktop()"
      ]
    }
  ],
  "metadata": {
    "kernelspec": {
      "display_name": "Python 3",
      "language": "python",
      "name": "python3"
    },
    "language_info": {
      "codemirror_mode": {
        "name": "ipython",
        "version": 3
      },
      "file_extension": ".py",
      "mimetype": "text/x-python",
      "name": "python",
      "nbconvert_exporter": "python",
      "pygments_lexer": "ipython3",
      "version": "3.10.9"
    }
  },
  "nbformat": 4,
  "nbformat_minor": 0
}