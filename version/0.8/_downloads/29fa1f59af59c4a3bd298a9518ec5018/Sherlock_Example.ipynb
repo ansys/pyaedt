{
  "cells": [
    {
      "cell_type": "markdown",
      "metadata": {},
      "source": [
        "\n# Icepak: setup from Sherlock inputs\nThis example shows how you can create an Icepak project from Sherlock\nfiles (STEP and CSV) and an AEDB board.\n"
      ]
    },
    {
      "cell_type": "markdown",
      "metadata": {},
      "source": [
        "## Perform required imports\nPerform required imports and set paths.\n\n"
      ]
    },
    {
      "cell_type": "code",
      "execution_count": null,
      "metadata": {
        "collapsed": false
      },
      "outputs": [],
      "source": [
        "import time\nimport os\nimport pyaedt\nimport datetime\n\n# Set paths\nproject_folder = pyaedt.generate_unique_folder_name()\ninput_dir = pyaedt.downloads.download_sherlock(destination=project_folder)"
      ]
    },
    {
      "cell_type": "markdown",
      "metadata": {},
      "source": [
        "## Set AEDT version\nSet AEDT version.\n\n"
      ]
    },
    {
      "cell_type": "code",
      "execution_count": null,
      "metadata": {
        "collapsed": false
      },
      "outputs": [],
      "source": [
        "aedt_version = \"2024.1\""
      ]
    },
    {
      "cell_type": "markdown",
      "metadata": {},
      "source": [
        "## Set non-graphical mode\nSet non-graphical mode. \nYou can set ``non_graphical`` value either to ``True`` or ``False``.\n\n"
      ]
    },
    {
      "cell_type": "code",
      "execution_count": null,
      "metadata": {
        "collapsed": false
      },
      "outputs": [],
      "source": [
        "non_graphical = False"
      ]
    },
    {
      "cell_type": "markdown",
      "metadata": {},
      "source": [
        "## Define variables\nDefine input variables. The following code creates all input variables that are needed\nto run this example.\n\n"
      ]
    },
    {
      "cell_type": "code",
      "execution_count": null,
      "metadata": {
        "collapsed": false
      },
      "outputs": [],
      "source": [
        "material_name = \"MaterialExport.csv\"\ncomponent_properties = \"TutorialBoardPartsList.csv\"\ncomponent_step = \"TutorialBoard.stp\"\naedt_odb_project = \"SherlockTutorial.aedt\"\naedt_odb_design_name = \"PCB\"\nstackup_thickness = 2.11836\noutline_polygon_name = \"poly_14188\""
      ]
    },
    {
      "cell_type": "markdown",
      "metadata": {},
      "source": [
        "## Launch AEDT\nLaunch AEDT 2023 R2 in graphical mode.\n\n"
      ]
    },
    {
      "cell_type": "code",
      "execution_count": null,
      "metadata": {
        "collapsed": false
      },
      "outputs": [],
      "source": [
        "d = pyaedt.launch_desktop(specified_version=aedt_version, non_graphical=non_graphical, new_desktop_session=True)\n\nstart = time.time()\nmaterial_list = os.path.join(input_dir, material_name)\ncomponent_list = os.path.join(input_dir, component_properties)\nvalidation = os.path.join(project_folder, \"validation.log\")\nfile_path = os.path.join(input_dir, component_step)\nproject_name = os.path.join(project_folder, component_step[:-3] + \"aedt\")"
      ]
    },
    {
      "cell_type": "markdown",
      "metadata": {},
      "source": [
        "## Create Icepak project\nCreate an Icepak project.\n\n"
      ]
    },
    {
      "cell_type": "code",
      "execution_count": null,
      "metadata": {
        "collapsed": false
      },
      "outputs": [],
      "source": [
        "ipk = pyaedt.Icepak(project_name)"
      ]
    },
    {
      "cell_type": "markdown",
      "metadata": {},
      "source": [
        "## Delete region to speed up import\nDelete the region and disable autosave to speed up the import.\n\n"
      ]
    },
    {
      "cell_type": "code",
      "execution_count": null,
      "metadata": {
        "collapsed": false
      },
      "outputs": [],
      "source": [
        "d.disable_autosave()\nipk.modeler.delete(\"Region\")\ncomponent_name = \"from_ODB\""
      ]
    },
    {
      "cell_type": "markdown",
      "metadata": {},
      "source": [
        "## Import PCB from AEDB file\nImport a PCB from an AEDB file.\n\n"
      ]
    },
    {
      "cell_type": "code",
      "execution_count": null,
      "metadata": {
        "collapsed": false
      },
      "outputs": [],
      "source": [
        "odb_path = os.path.join(input_dir, aedt_odb_project)\nipk.create_pcb_from_3dlayout(component_name=component_name, project_name=odb_path, design_name=aedt_odb_design_name,\n                             extenttype=\"Polygon\")"
      ]
    },
    {
      "cell_type": "markdown",
      "metadata": {},
      "source": [
        "## Create offset coordinate system\nCreate an offset coordinate system to match ODB++ with the\nSherlock STEP file.\n\n"
      ]
    },
    {
      "cell_type": "code",
      "execution_count": null,
      "metadata": {
        "collapsed": false
      },
      "outputs": [],
      "source": [
        "ipk.modeler.create_coordinate_system(origin=[0, 0, stackup_thickness / 2], mode=\"view\", view=\"XY\")"
      ]
    },
    {
      "cell_type": "markdown",
      "metadata": {},
      "source": [
        "## Import CAD file\nImport a CAD file.\n\n"
      ]
    },
    {
      "cell_type": "code",
      "execution_count": null,
      "metadata": {
        "collapsed": false
      },
      "outputs": [],
      "source": [
        "ipk.modeler.import_3d_cad(file_path, refresh_all_ids=False)"
      ]
    },
    {
      "cell_type": "markdown",
      "metadata": {},
      "source": [
        "## Save CAD file\nSave the CAD file and refresh the properties from the parsing of the AEDT file.\n\n"
      ]
    },
    {
      "cell_type": "code",
      "execution_count": null,
      "metadata": {
        "collapsed": false
      },
      "outputs": [],
      "source": [
        "ipk.save_project(refresh_obj_ids_after_save=True)"
      ]
    },
    {
      "cell_type": "markdown",
      "metadata": {},
      "source": [
        "## Plot model\nPlot the model.\n\n"
      ]
    },
    {
      "cell_type": "code",
      "execution_count": null,
      "metadata": {
        "collapsed": false
      },
      "outputs": [],
      "source": [
        "ipk.plot(show=False, export_path=os.path.join(project_folder, \"Sherlock_Example.jpg\"), plot_air_objects=False)"
      ]
    },
    {
      "cell_type": "markdown",
      "metadata": {},
      "source": [
        "## Delete PCB objects\nDelete the PCB objects.\n\n"
      ]
    },
    {
      "cell_type": "code",
      "execution_count": null,
      "metadata": {
        "collapsed": false
      },
      "outputs": [],
      "source": [
        "ipk.modeler.delete_objects_containing(\"pcb\", False)"
      ]
    },
    {
      "cell_type": "markdown",
      "metadata": {},
      "source": [
        "## Create region\nCreate an air region.\n\n"
      ]
    },
    {
      "cell_type": "code",
      "execution_count": null,
      "metadata": {
        "collapsed": false
      },
      "outputs": [],
      "source": [
        "ipk.modeler.create_air_region(*[20, 20, 300, 20, 20, 300])"
      ]
    },
    {
      "cell_type": "markdown",
      "metadata": {},
      "source": [
        "## Assign materials\nAssign materials from Sherlock file.\n\n"
      ]
    },
    {
      "cell_type": "code",
      "execution_count": null,
      "metadata": {
        "collapsed": false
      },
      "outputs": [],
      "source": [
        "ipk.assignmaterial_from_sherlock_files(component_list, material_list)"
      ]
    },
    {
      "cell_type": "markdown",
      "metadata": {},
      "source": [
        "## Delete objects with no material assignments\nDelete objects with no materials assignments.\n\n"
      ]
    },
    {
      "cell_type": "code",
      "execution_count": null,
      "metadata": {
        "collapsed": false
      },
      "outputs": [],
      "source": [
        "no_material_objs = ipk.modeler.get_objects_by_material(\"\")\nipk.modeler.delete(no_material_objs)\nipk.save_project()"
      ]
    },
    {
      "cell_type": "markdown",
      "metadata": {},
      "source": [
        "## Assign power to component blocks\nAssign power to component blocks.\n\n"
      ]
    },
    {
      "cell_type": "code",
      "execution_count": null,
      "metadata": {
        "collapsed": false
      },
      "outputs": [],
      "source": [
        "all_objects = ipk.modeler.object_names"
      ]
    },
    {
      "cell_type": "markdown",
      "metadata": {},
      "source": [
        "## Assign power blocks\nAssign power blocks from the Sherlock file.\n\n"
      ]
    },
    {
      "cell_type": "code",
      "execution_count": null,
      "metadata": {
        "collapsed": false
      },
      "outputs": [],
      "source": [
        "total_power = ipk.assign_block_from_sherlock_file(csv_name=component_list)"
      ]
    },
    {
      "cell_type": "markdown",
      "metadata": {},
      "source": [
        "## Plot model\nPlot the model again now that materials are assigned.\n\n"
      ]
    },
    {
      "cell_type": "code",
      "execution_count": null,
      "metadata": {
        "collapsed": false
      },
      "outputs": [],
      "source": [
        "ipk.plot(show=False, export_path=os.path.join(project_folder, \"Sherlock_Example.jpg\"), plot_air_objects=False)"
      ]
    },
    {
      "cell_type": "markdown",
      "metadata": {},
      "source": [
        "## Set up boundaries\nSet up boundaries.\n\n"
      ]
    },
    {
      "cell_type": "code",
      "execution_count": null,
      "metadata": {
        "collapsed": false
      },
      "outputs": [],
      "source": [
        "# Mesh settings that is tailored for PCB\n# Max iterations is set to 20 for quick demonstration, please increase to at least 100 for better accuracy.\n\nipk.globalMeshSettings(3, gap_min_elements='1', noOgrids=True, MLM_en=True,\n                            MLM_Type='2D', edge_min_elements='2', object='Region')\n\nsetup1 = ipk.create_setup()\nsetup1.props[\"Solution Initialization - Y Velocity\"] = \"1m_per_sec\"\nsetup1.props[\"Radiation Model\"] = \"Discrete Ordinates Model\"\nsetup1.props[\"Include Gravity\"] = True\nsetup1.props[\"Secondary Gradient\"] = True\nsetup1.props[\"Convergence Criteria - Max Iterations\"] = 10\nipk.assign_openings(ipk.modeler.get_object_faces(\"Region\"))"
      ]
    },
    {
      "cell_type": "markdown",
      "metadata": {},
      "source": [
        "## Create point monitor\n\n"
      ]
    },
    {
      "cell_type": "code",
      "execution_count": null,
      "metadata": {
        "collapsed": false
      },
      "outputs": [],
      "source": [
        "point1 = ipk.assign_point_monitor(ipk.modeler[\"COMP_U10\"].top_face_z.center, monitor_name=\"Point1\")\nipk.modeler.set_working_coordinate_system(\"Global\")\nline = ipk.modeler.create_polyline(\n    [ipk.modeler[\"COMP_U10\"].top_face_z.vertices[0].position, ipk.modeler[\"COMP_U10\"].top_face_z.vertices[2].position],\n    non_model=True)\nipk.post.create_report(expressions=\"Point1.Temperature\", primary_sweep_variable=\"X\")"
      ]
    },
    {
      "cell_type": "markdown",
      "metadata": {},
      "source": [
        "## Check for intersections\nCheck for intersections using validation and fix them by\nassigning priorities.\n\n"
      ]
    },
    {
      "cell_type": "code",
      "execution_count": null,
      "metadata": {
        "collapsed": false
      },
      "outputs": [],
      "source": [
        "ipk.assign_priority_on_intersections()"
      ]
    },
    {
      "cell_type": "markdown",
      "metadata": {},
      "source": [
        "## Compute power budget\n\n"
      ]
    },
    {
      "cell_type": "code",
      "execution_count": null,
      "metadata": {
        "collapsed": false
      },
      "outputs": [],
      "source": [
        "power_budget, total = ipk.post.power_budget(\"W\" )\nprint(total)"
      ]
    },
    {
      "cell_type": "markdown",
      "metadata": {},
      "source": [
        "## Analyze the model\n\n"
      ]
    },
    {
      "cell_type": "code",
      "execution_count": null,
      "metadata": {
        "collapsed": false
      },
      "outputs": [],
      "source": [
        "ipk.analyze(cores=4, tasks=4)\nipk.save_project()"
      ]
    },
    {
      "cell_type": "markdown",
      "metadata": {},
      "source": [
        "## Get solution data and plots\n\n"
      ]
    },
    {
      "cell_type": "code",
      "execution_count": null,
      "metadata": {
        "collapsed": false
      },
      "outputs": [],
      "source": [
        "plot1 = ipk.post.create_fieldplot_surface(ipk.modeler[\"COMP_U10\"].faces, \"SurfTemperature\")\nipk.post.plot_field(\"SurfPressure\", ipk.modeler[\"COMP_U10\"].faces, show=False, export_path=ipk.working_directory)"
      ]
    },
    {
      "cell_type": "markdown",
      "metadata": {},
      "source": [
        "## Save project and release AEDT\nSave the project and release AEDT.\n\n"
      ]
    },
    {
      "cell_type": "code",
      "execution_count": null,
      "metadata": {
        "collapsed": false
      },
      "outputs": [],
      "source": [
        "ipk.save_project()\n\nend = time.time() - start\nprint(\"Elapsed time: {}\".format(datetime.timedelta(seconds=end)))\nprint(\"Project Saved in {} \".format(ipk.project_file))\nipk.release_desktop()"
      ]
    }
  ],
  "metadata": {
    "kernelspec": {
      "display_name": "Python 3",
      "language": "python",
      "name": "python3"
    },
    "language_info": {
      "codemirror_mode": {
        "name": "ipython",
        "version": 3
      },
      "file_extension": ".py",
      "mimetype": "text/x-python",
      "name": "python",
      "nbconvert_exporter": "python",
      "pygments_lexer": "ipython3",
      "version": "3.10.9"
    }
  },
  "nbformat": 4,
  "nbformat_minor": 0
}