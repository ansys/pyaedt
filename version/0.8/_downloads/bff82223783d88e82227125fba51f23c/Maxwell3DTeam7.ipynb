{
  "cells": [
    {
      "cell_type": "markdown",
      "metadata": {},
      "source": [
        "\n# Maxwell 3D: asymmetric conductor analysis\nThis example uses PyAEDT to set up the TEAM 7 problem for an asymmetric\nconductor with a hole and solve it using the Maxwell 3D Eddy Current solver.\nhttps://www.compumag.org/wp/wp-content/uploads/2018/06/problem7.pdf\n"
      ]
    },
    {
      "cell_type": "markdown",
      "metadata": {},
      "source": [
        "## Perform required imports\nPerform required imports.\n\n"
      ]
    },
    {
      "cell_type": "code",
      "execution_count": null,
      "metadata": {
        "collapsed": false
      },
      "outputs": [],
      "source": [
        "import numpy as np\nimport os\nimport tempfile\n\nfrom pyaedt import Maxwell3d\nfrom pyaedt.generic.general_methods import write_csv"
      ]
    },
    {
      "cell_type": "markdown",
      "metadata": {},
      "source": [
        "## Set AEDT version\nSet AEDT version.\n\n"
      ]
    },
    {
      "cell_type": "code",
      "execution_count": null,
      "metadata": {
        "collapsed": false
      },
      "outputs": [],
      "source": [
        "aedt_version = \"2024.1\""
      ]
    },
    {
      "cell_type": "markdown",
      "metadata": {},
      "source": [
        "## Create temporary directory\nCreate temporary directory.\n\n"
      ]
    },
    {
      "cell_type": "code",
      "execution_count": null,
      "metadata": {
        "collapsed": false
      },
      "outputs": [],
      "source": [
        "temp_dir = tempfile.TemporaryDirectory(suffix=\".ansys\")"
      ]
    },
    {
      "cell_type": "markdown",
      "metadata": {},
      "source": [
        "## Set non-graphical mode\nSet non-graphical mode. \nYou can set ``non_graphical`` either to ``True`` or ``False``.\n\n"
      ]
    },
    {
      "cell_type": "code",
      "execution_count": null,
      "metadata": {
        "collapsed": false
      },
      "outputs": [],
      "source": [
        "non_graphical = False"
      ]
    },
    {
      "cell_type": "markdown",
      "metadata": {},
      "source": [
        "## Launch AEDT and Maxwell 3D\nLaunch AEDT and Maxwell 3D. The following code sets up the project and design names, the solver, and\nthe version. It also creates an instance of the ``Maxwell3d`` class named ``m3d``. \n\n"
      ]
    },
    {
      "cell_type": "code",
      "execution_count": null,
      "metadata": {
        "collapsed": false
      },
      "outputs": [],
      "source": [
        "project_name = \"COMPUMAG\"\ndesign_name = \"TEAM 7 Asymmetric Conductor\"\nsolver = \"EddyCurrent\"\n\nm3d = Maxwell3d(\n    projectname=project_name,\n    designname=design_name,\n    solution_type=solver,\n    specified_version=aedt_version,\n    non_graphical=non_graphical,\n    new_desktop_session=True\n)\nm3d.modeler.model_units = \"mm\""
      ]
    },
    {
      "cell_type": "markdown",
      "metadata": {},
      "source": [
        "## Add Maxwell 3D setup\nAdd a Maxwell 3D setup with frequency points at DC, 50 Hz, and 200Hz.\nOtherwise, the default PyAEDT setup values are used. To approximate a DC field in the\nEddy Current solver, use a low frequency value. Second-order shape functions improve\nthe smoothness of the induced currents in the plate.\n\n"
      ]
    },
    {
      "cell_type": "code",
      "execution_count": null,
      "metadata": {
        "collapsed": false
      },
      "outputs": [],
      "source": [
        "dc_freq = 0.1\nstop_freq = 50\n\nsetup = m3d.create_setup(name=\"Setup1\")\nsetup.props[\"Frequency\"] = \"200Hz\"\nsetup.props[\"HasSweepSetup\"] = True\nsetup.add_eddy_current_sweep(\"LinearStep\", dc_freq, stop_freq, stop_freq - dc_freq, clear=True)\nsetup.props[\"UseHighOrderShapeFunc\"] = True\nsetup.props[\"PercentError\"] = 0.4\nsetup.update()"
      ]
    },
    {
      "cell_type": "markdown",
      "metadata": {},
      "source": [
        "## Define coil dimensions\nDefine coil dimensions as shown on the TEAM7 drawing of the coil.\n\n"
      ]
    },
    {
      "cell_type": "code",
      "execution_count": null,
      "metadata": {
        "collapsed": false
      },
      "outputs": [],
      "source": [
        "coil_external = 150 + 25 + 25\ncoil_internal = 150\ncoil_r1 = 25\ncoil_r2 = 50\ncoil_thk = coil_r2 - coil_r1\ncoil_height = 100\ncoil_centre = [294 - 25 - 150 / 2, 25 + 150 / 2, 19 + 30 + 100 / 2]\n\n# Use expressions to construct the three dimensions needed to describe the midpoints of\n# the coil.\n\ndim1 = coil_internal / 2 + (coil_external - coil_internal) / 4\ndim2 = coil_internal / 2 - coil_r1\ndim3 = dim2 + np.sqrt(((coil_r1 + (coil_r2 - coil_r1) / 2) ** 2) / 2)\n\n# Use coordinates to draw a polyline along which to sweep the coil cross sections.\nP1 = [dim1, -dim2, 0]\nP2 = [dim1, dim2, 0]\nP3 = [dim3, dim3, 0]\nP4 = [dim2, dim1, 0]"
      ]
    },
    {
      "cell_type": "markdown",
      "metadata": {},
      "source": [
        "## Create coordinate system for positioning coil\nCreate a coordinate system for positioning the coil.\n\n"
      ]
    },
    {
      "cell_type": "code",
      "execution_count": null,
      "metadata": {
        "collapsed": false
      },
      "outputs": [],
      "source": [
        "m3d.modeler.create_coordinate_system(origin=coil_centre, mode=\"view\", view=\"XY\", name=\"Coil_CS\")"
      ]
    },
    {
      "cell_type": "markdown",
      "metadata": {},
      "source": [
        "## Create polyline\nCreate a polyline. One quarter of the coil is modeled by sweeping a 2D sheet along a polyline.\n\n"
      ]
    },
    {
      "cell_type": "code",
      "execution_count": null,
      "metadata": {
        "collapsed": false
      },
      "outputs": [],
      "source": [
        "test = m3d.modeler.create_polyline(points=[P1, P2, P3, P4], segment_type=[\"Line\", \"Arc\"], name=\"Coil\")\ntest.set_crosssection_properties(type=\"Rectangle\", width=coil_thk, height=coil_height)"
      ]
    },
    {
      "cell_type": "markdown",
      "metadata": {},
      "source": [
        "## Duplicate and unite polyline to create full coil\nDuplicate and unit the polyline to create a full coil.\n\n"
      ]
    },
    {
      "cell_type": "code",
      "execution_count": null,
      "metadata": {
        "collapsed": false
      },
      "outputs": [],
      "source": [
        "m3d.modeler.duplicate_around_axis(\n    \"Coil\", axis=\"Global\", angle=90, clones=4, create_new_objects=True, is_3d_comp=False\n)\nm3d.modeler.unite(\"Coil, Coil_1, Coil_2\")\nm3d.modeler.unite(\"Coil, Coil_3\")\nm3d.modeler.fit_all()"
      ]
    },
    {
      "cell_type": "markdown",
      "metadata": {},
      "source": [
        "## Assign material and if solution is allowed inside coil\nAssign the material ``Cooper`` from the Maxwell internal library to the coil and\nallow a solution inside the coil.\n\n"
      ]
    },
    {
      "cell_type": "code",
      "execution_count": null,
      "metadata": {
        "collapsed": false
      },
      "outputs": [],
      "source": [
        "m3d.assign_material(\"Coil\", \"Copper\")\nm3d.solve_inside(\"Coil\")"
      ]
    },
    {
      "cell_type": "markdown",
      "metadata": {},
      "source": [
        "## Create terminal\nCreate a terminal for the coil from a cross-section that is split and one half deleted.\n\n"
      ]
    },
    {
      "cell_type": "code",
      "execution_count": null,
      "metadata": {
        "collapsed": false
      },
      "outputs": [],
      "source": [
        "m3d.modeler.section(\"Coil\", \"YZ\")\nm3d.modeler.separate_bodies(\"Coil_Section1\")\nm3d.modeler.delete(\"Coil_Section1_Separate1\")\n\n# Add variable for coil excitation\n# ~~~~~~~~~~~~~~~~~~~~~~~~~~~~~~~~\n# Add a design variable for coil excitation. The NB units here are AmpereTurns.\n\nCoil_Excitation = 2742\nm3d[\"Coil_Excitation\"] = str(Coil_Excitation) + \"A\"\nm3d.assign_current(assignment=\"Coil_Section1\", amplitude=\"Coil_Excitation\", solid=False)\nm3d.modeler.set_working_coordinate_system(\"Global\")"
      ]
    },
    {
      "cell_type": "markdown",
      "metadata": {},
      "source": [
        "## Add a material\nAdd a material named ``team3_aluminium``.\n\n"
      ]
    },
    {
      "cell_type": "code",
      "execution_count": null,
      "metadata": {
        "collapsed": false
      },
      "outputs": [],
      "source": [
        "mat = m3d.materials.add_material(\"team7_aluminium\")\nmat.conductivity = 3.526e7"
      ]
    },
    {
      "cell_type": "markdown",
      "metadata": {},
      "source": [
        "## Model aluminium plate with a hole\nModel the aluminium plate with a hole by subtracting two rectangular cuboids.\n\n"
      ]
    },
    {
      "cell_type": "code",
      "execution_count": null,
      "metadata": {
        "collapsed": false
      },
      "outputs": [],
      "source": [
        "plate = m3d.modeler.create_box(origin=[0, 0, 0], sizes=[294, 294, 19], name=\"Plate\", material=\"team7_aluminium\")\nm3d.modeler.fit_all()\nm3d.modeler.create_box(origin=[18, 18, 0], sizes=[108, 108, 19], name=\"Hole\")\nm3d.modeler.subtract(blank_list=\"Plate\", tool_list=[\"Hole\"], keep_originals=False)"
      ]
    },
    {
      "cell_type": "markdown",
      "metadata": {},
      "source": [
        "## Draw a background region\nDraw a background region that uses the default properties for an air region.\n\n"
      ]
    },
    {
      "cell_type": "code",
      "execution_count": null,
      "metadata": {
        "collapsed": false
      },
      "outputs": [],
      "source": [
        "m3d.modeler.create_air_region(x_pos=100, y_pos=100, z_pos=100, x_neg=100, y_neg=100, z_neg=100)"
      ]
    },
    {
      "cell_type": "markdown",
      "metadata": {},
      "source": [
        "## Adjust eddy effects for plate and coil\nAdjust the eddy effects for the plate and coil by turning off displacement currents\nfor all parts. The setting for eddy effect is ignored for the stranded conductor type\nused in the coil.\n\n"
      ]
    },
    {
      "cell_type": "code",
      "execution_count": null,
      "metadata": {
        "collapsed": false
      },
      "outputs": [],
      "source": [
        "m3d.eddy_effects_on(assignment=\"Plate\")\nm3d.eddy_effects_on(assignment=[\"Coil\", \"Region\", \"Line_A1_B1mesh\", \"Line_A2_B2mesh\"], enable_eddy_effects=False,\n                    enable_displacement_current=False)"
      ]
    },
    {
      "cell_type": "markdown",
      "metadata": {},
      "source": [
        "## Create expression for Z component of B in Gauss\nCreate an expression for the Z component of B in Gauss using the fields calculator.\n\n"
      ]
    },
    {
      "cell_type": "code",
      "execution_count": null,
      "metadata": {
        "collapsed": false
      },
      "outputs": [],
      "source": [
        "Fields = m3d.ofieldsreporter\nFields.CalcStack(\"clear\")\nFields.EnterQty(\"B\")\nFields.CalcOp(\"ScalarZ\")\nFields.EnterScalarFunc(\"Phase\")\nFields.CalcOp(\"AtPhase\")\nFields.EnterScalar(10000)\nFields.CalcOp(\"*\")\nFields.CalcOp(\"Smooth\")\nFields.AddNamedExpression(\"Bz\", \"Fields\")"
      ]
    },
    {
      "cell_type": "markdown",
      "metadata": {},
      "source": [
        "## Draw two lines along which to plot Bz\nDraw two lines along which to plot Bz. The following code also adds a small cylinder\nto refine the mesh locally around each line.\n\n"
      ]
    },
    {
      "cell_type": "code",
      "execution_count": null,
      "metadata": {
        "collapsed": false
      },
      "outputs": [],
      "source": [
        "lines = [\"Line_A1_B1\", \"Line_A2_B2\"]\nmesh_diameter = \"2mm\"\n\nline_points_1 = [[\"0mm\", \"72mm\", \"34mm\"], [\"288mm\", \"72mm\", \"34mm\"]]\npolyline = m3d.modeler.create_polyline(points=line_points_1, name=lines[0])\nl1_mesh = m3d.modeler.create_polyline(points=line_points_1, name=lines[0] + \"mesh\")\nl1_mesh.set_crosssection_properties(type=\"Circle\", width=mesh_diameter)\n\nline_points_2 = [[\"0mm\", \"144mm\", \"34mm\"], [\"288mm\", \"144mm\", \"34mm\"]]\npolyline2 = m3d.modeler.create_polyline(points=line_points_2, name=lines[1])\nl2_mesh = m3d.modeler.create_polyline(points=line_points_2, name=lines[1] + \"mesh\")\nl2_mesh.set_crosssection_properties(type=\"Circle\", width=mesh_diameter)"
      ]
    },
    {
      "cell_type": "markdown",
      "metadata": {},
      "source": [
        "## Plot model\nPlot the model.\n\n"
      ]
    },
    {
      "cell_type": "code",
      "execution_count": null,
      "metadata": {
        "collapsed": false
      },
      "outputs": [],
      "source": [
        "m3d.plot(show=False, export_path=os.path.join(temp_dir.name, \"model.jpg\"), plot_air_objects=False)"
      ]
    },
    {
      "cell_type": "markdown",
      "metadata": {},
      "source": [
        "Published measurement results are included with this script via the list below.\nTest results are used to create text files for import into a rectangular plot\nand to overlay simulation results.\n\n"
      ]
    },
    {
      "cell_type": "code",
      "execution_count": null,
      "metadata": {
        "collapsed": false
      },
      "outputs": [],
      "source": [
        "dataset = [\n    \"Bz A1_B1 000 0\",\n    \"Bz A1_B1 050 0\",\n    \"Bz A1_B1 050 90\",\n    \"Bz A1_B1 200 0\",\n    \"Bz A1_B1 200 90\",\n    \"Bz A2_B2 050 0\",\n    \"Bz A2_B2 050 90\",\n    \"Bz A2_B2 200 0\",\n    \"Bz A2_B2 200 90\",\n]\nheader = [\"Distance [mm]\", \"Bz [Tesla]\"]\n\nline_length = [0, 18, 36, 54, 72, 90, 108, 126, 144, 162, 180, 198, 216, 234, 252, 270, 288]\ndata = [\n    [\n        -6.667,\n        -7.764,\n        -8.707,\n        -8.812,\n        -5.870,\n        8.713,\n        50.40,\n        88.47,\n        100.9,\n        104.0,\n        104.8,\n        104.9,\n        104.6,\n        103.1,\n        97.32,\n        75.19,\n        29.04,\n    ],\n    [\n        4.90,\n        -17.88,\n        -22.13,\n        -20.19,\n        -15.67,\n        0.36,\n        43.64,\n        78.11,\n        71.55,\n        60.44,\n        53.91,\n        52.62,\n        53.81,\n        56.91,\n        59.24,\n        52.78,\n        27.61,\n    ],\n    [-1.16, 2.84, 4.15, 4.00, 3.07, 2.31, 1.89, 4.97, 12.61, 14.15, 13.04, 12.40, 12.05, 12.27, 12.66, 9.96, 2.36],\n    [\n        -3.63,\n        -18.46,\n        -23.62,\n        -21.59,\n        -16.09,\n        0.23,\n        44.35,\n        75.53,\n        63.42,\n        53.20,\n        48.66,\n        47.31,\n        48.31,\n        51.26,\n        53.61,\n        46.11,\n        24.96,\n    ],\n    [-1.38, 1.20, 2.15, 1.63, 1.10, 0.27, -2.28, -1.40, 4.17, 3.94, 4.86, 4.09, 3.69, 4.60, 3.48, 4.10, 0.98],\n    [\n        -1.83,\n        -8.50,\n        -13.60,\n        -15.21,\n        -14.48,\n        -5.62,\n        28.77,\n        60.34,\n        61.84,\n        56.64,\n        53.40,\n        52.36,\n        53.93,\n        56.82,\n        59.48,\n        52.08,\n        26.56,\n    ],\n    [-1.63, -0.60, -0.43, 0.11, 1.26, 3.40, 6.53, 10.25, 11.83, 11.83, 11.01, 10.58, 10.80, 10.54, 10.62, 9.03, 1.79],\n    [\n        -0.86,\n        -7.00,\n        -11.58,\n        -13.36,\n        -13.77,\n        -6.74,\n        24.63,\n        53.19,\n        54.89,\n        50.72,\n        48.03,\n        47.13,\n        48.25,\n        51.35,\n        53.35,\n        45.37,\n        24.01,\n    ],\n    [-1.35, -0.71, -0.81, -0.67, 0.15, 1.39, 2.67, 3.00, 4.01, 3.80, 4.00, 3.02, 2.20, 2.78, 1.58, 1.37, 0.93],\n]"
      ]
    },
    {
      "cell_type": "markdown",
      "metadata": {},
      "source": [
        "## Write dataset values in a CSV file\nDataset details are used to encode test parameters in the text files.\nFor example, ``Bz A1_B1 050 0`` is the Z component of flux density ``B``.\nalong line ``A1_B1`` at 50 Hz and 0 deg.\n\n"
      ]
    },
    {
      "cell_type": "code",
      "execution_count": null,
      "metadata": {
        "collapsed": false
      },
      "outputs": [],
      "source": [
        "line_length.insert(0, header[0])\nfor i in range(len(dataset)):\n    data[i].insert(0, header[1])\n    ziplist = zip(line_length, data[i])\n    file_path = os.path.join(temp_dir.name, str(dataset[i]) + \".csv\")\n    write_csv(output=file_path, list_data=ziplist)"
      ]
    },
    {
      "cell_type": "markdown",
      "metadata": {},
      "source": [
        "## Create rectangular plots and import test data into report\nCreate rectangular plots, using text file encoding to control their formatting.\nImport test data into correct plot and overlay with simulation results.\nVariations for a DC plot must have different frequency and phase than the other plots.\n\n"
      ]
    },
    {
      "cell_type": "code",
      "execution_count": null,
      "metadata": {
        "collapsed": false
      },
      "outputs": [],
      "source": [
        "for item in range(len(dataset)):\n    if item % 2 == 0:\n        t = dataset[item]\n        plot_name = t[0:3] + \"Along the Line\" + t[2:9] + \", \" + t[9:12] + \"Hz\"\n        if t[9:12] == \"000\":\n            variations = {\n                \"Distance\": [\"All\"],\n                \"Freq\": [str(dc_freq) + \"Hz\"],\n                \"Phase\": [\"0deg\"],\n                \"Coil_Excitation\": [\"All\"],\n            }\n        else:\n            variations = {\n                \"Distance\": [\"All\"],\n                \"Freq\": [t[9:12] + \"Hz\"],\n                \"Phase\": [\"0deg\", \"90deg\"],\n                \"Coil_Excitation\": [\"All\"],\n            }\n        report = m3d.post.create_report(expressions=t[0:2], variations=variations, primary_sweep_variable=\"Distance\",\n                                        report_category=\"Fields\", context=\"Line_\" + t[3:8], plot_name=plot_name)\n        file_path = os.path.join(temp_dir.name, str(dataset[i]) + \".csv\")\n        report.import_traces(file_path, plot_name)"
      ]
    },
    {
      "cell_type": "markdown",
      "metadata": {},
      "source": [
        "## Analyze project\nAnalyze the project.\n\n"
      ]
    },
    {
      "cell_type": "code",
      "execution_count": null,
      "metadata": {
        "collapsed": false
      },
      "outputs": [],
      "source": [
        "m3d.analyze()"
      ]
    },
    {
      "cell_type": "markdown",
      "metadata": {},
      "source": [
        "## Create plots of induced current and flux density on surface of plate\nCreate two plots of the induced current (``Mag_J``) and the flux density (``Mag_B``) on the\nsurface of the plate.\n\n"
      ]
    },
    {
      "cell_type": "code",
      "execution_count": null,
      "metadata": {
        "collapsed": false
      },
      "outputs": [],
      "source": [
        "surf_list = m3d.modeler.get_object_faces(\"Plate\")\nintrinsic_dict = {\"Freq\": \"200Hz\", \"Phase\": \"0deg\"}\nm3d.post.create_fieldplot_surface(surf_list, \"Mag_J\", intrinsics=intrinsic_dict, plot_name=\"Mag_J\")\nm3d.post.create_fieldplot_surface(surf_list, \"Mag_B\", intrinsics=intrinsic_dict, plot_name=\"Mag_B\")\nm3d.post.create_fieldplot_surface(surf_list, \"Mesh\", intrinsics=intrinsic_dict, plot_name=\"Mesh\")"
      ]
    },
    {
      "cell_type": "markdown",
      "metadata": {},
      "source": [
        "## Release AEDT and clean up temporary directory\nRelease AEDT and remove both the project and temporary directories.\n\n"
      ]
    },
    {
      "cell_type": "code",
      "execution_count": null,
      "metadata": {
        "collapsed": false
      },
      "outputs": [],
      "source": [
        "m3d.release_desktop(True, True)\ntemp_dir.cleanup()"
      ]
    }
  ],
  "metadata": {
    "kernelspec": {
      "display_name": "Python 3",
      "language": "python",
      "name": "python3"
    },
    "language_info": {
      "codemirror_mode": {
        "name": "ipython",
        "version": 3
      },
      "file_extension": ".py",
      "mimetype": "text/x-python",
      "name": "python",
      "nbconvert_exporter": "python",
      "pygments_lexer": "ipython3",
      "version": "3.10.9"
    }
  },
  "nbformat": 4,
  "nbformat_minor": 0
}