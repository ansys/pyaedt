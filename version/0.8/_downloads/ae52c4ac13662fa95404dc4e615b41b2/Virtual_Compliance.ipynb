{
  "cells": [
    {
      "cell_type": "markdown",
      "metadata": {},
      "source": [
        "\n# Circuit: PCIE virtual compliance\nThis example shows how to generate a compliance report in PyAEDT using\nthe ``VirtualCompliance`` class.\n"
      ]
    },
    {
      "cell_type": "markdown",
      "metadata": {},
      "source": [
        "## Perform required imports\nPerform required imports and set paths.\n\n"
      ]
    },
    {
      "cell_type": "code",
      "execution_count": null,
      "metadata": {
        "collapsed": false
      },
      "outputs": [],
      "source": [
        "import os.path\nimport pyaedt\nfrom pyaedt.generic.compliance import VirtualCompliance"
      ]
    },
    {
      "cell_type": "markdown",
      "metadata": {},
      "source": [
        "## Set AEDT version\nSet AEDT version.\n\n"
      ]
    },
    {
      "cell_type": "code",
      "execution_count": null,
      "metadata": {
        "collapsed": false
      },
      "outputs": [],
      "source": [
        "aedt_version = \"2024.1\""
      ]
    },
    {
      "cell_type": "markdown",
      "metadata": {},
      "source": [
        "## Set non-graphical mode\nSet non-graphical mode.\nYou can set ``non_graphical`` either to ``True`` or ``False``.\nThe Boolean parameter ``new_thread`` defines whether to create a new instance\nof AEDT or try to connect to an existing instance of it.\n\n"
      ]
    },
    {
      "cell_type": "code",
      "execution_count": null,
      "metadata": {
        "collapsed": false
      },
      "outputs": [],
      "source": [
        "non_graphical = True\nnew_thread = True"
      ]
    },
    {
      "cell_type": "markdown",
      "metadata": {},
      "source": [
        "## Download example files\nDownload the project and files needed to run the example.\n\n"
      ]
    },
    {
      "cell_type": "code",
      "execution_count": null,
      "metadata": {
        "collapsed": false
      },
      "outputs": [],
      "source": [
        "workdir = pyaedt.downloads.download_file('pcie_compliance')\n\nprojectdir = os.path.join(workdir, \"project\")"
      ]
    },
    {
      "cell_type": "markdown",
      "metadata": {},
      "source": [
        "## Launch AEDT\nLaunch AEDT.\n\n"
      ]
    },
    {
      "cell_type": "code",
      "execution_count": null,
      "metadata": {
        "collapsed": false
      },
      "outputs": [],
      "source": [
        "d = pyaedt.Desktop(aedt_version, new_desktop_session=new_thread, non_graphical=non_graphical)"
      ]
    },
    {
      "cell_type": "markdown",
      "metadata": {},
      "source": [
        "## Open and solve layout\nOpen the HFSS 3D Layout project and analyze it using the SIwave solver.\nBefore solving, this code ensures that the model is solved from DC to 70GHz and that\ncausality and passivity are enforced.\n\n"
      ]
    },
    {
      "cell_type": "code",
      "execution_count": null,
      "metadata": {
        "collapsed": false
      },
      "outputs": [],
      "source": [
        "h3d = pyaedt.Hfss3dLayout(os.path.join(projectdir, \"PCIE_GEN5_only_layout.aedtz\"), specified_version=241)\nh3d.remove_all_unused_definitions()\nh3d.edit_cosim_options(simulate_missing_solution=False)\nh3d.setups[0].sweeps[0].props[\"EnforcePassivity\"] = True\nh3d.setups[0].sweeps[0].props[\"Sweeps\"][\"Data\"] = 'LIN 0MHz 70GHz 0.1GHz'\nh3d.setups[0].sweeps[0].props[\"EnforceCausality\"] = True\nh3d.setups[0].sweeps[0].update()\nh3d.analyze()\nh3d = pyaedt.Hfss3dLayout(specified_version=241)\ntouchstone_path = h3d.export_touchstone()"
      ]
    },
    {
      "cell_type": "markdown",
      "metadata": {},
      "source": [
        "## Create LNA project\nUse the LNA setup to retrieve Touchstone files\nand generate frequency domain reports.\n\n"
      ]
    },
    {
      "cell_type": "code",
      "execution_count": null,
      "metadata": {
        "collapsed": false
      },
      "outputs": [],
      "source": [
        "cir = pyaedt.Circuit(projectname=h3d.project_name, designname=\"Touchstone\")\nstatus, diff_pairs, comm_pairs = cir.create_lna_schematic_from_snp(input_file=touchstone_path, start_frequency=0,\n                                                                   stop_frequency=70, auto_assign_diff_pairs=True,\n                                                                   separation=\".\", pattern=[\"component\", \"pin\", \"net\"],\n                                                                   analyze=True)\n\ninsertion = cir.get_all_insertion_loss_list(trlist=diff_pairs,\n                                            reclist=diff_pairs,\n                                            tx_prefix=\"X1\",\n                                            rx_prefix=\"U1\",\n                                            math_formula=\"dB\",\n                                            net_list=[\"RX0\", \"RX1\", \"RX2\", \"RX3\"]\n                                            )\nreturn_diff = cir.get_all_return_loss_list(excitation_names=diff_pairs,\n                                           excitation_name_prefix=\"X1\",\n                                           math_formula=\"dB\",\n                                           net_list=[\"RX0\", \"RX1\", \"RX2\", \"RX3\"]\n                                           )\nreturn_comm = cir.get_all_return_loss_list(excitation_names=comm_pairs,\n                                           excitation_name_prefix=\"COMMON_X1\",\n                                           math_formula=\"dB\",\n                                           net_list=[\"RX0\", \"RX1\", \"RX2\", \"RX3\"])"
      ]
    },
    {
      "cell_type": "markdown",
      "metadata": {},
      "source": [
        "## Create TDR project\nCreate a TDR project to compute transient simulation and retrieve\nthe TDR measurement on a differential pair.\nThe original circuit schematic is duplicated and modified to achieve this target.\n\n"
      ]
    },
    {
      "cell_type": "code",
      "execution_count": null,
      "metadata": {
        "collapsed": false
      },
      "outputs": [],
      "source": [
        "result, tdr_probe_name = cir.create_tdr_schematic_from_snp(input_file=touchstone_path,\n                                                           probe_pins=[\"X1.A2.PCIe_Gen4_RX0_P\"],\n                                                           probe_ref_pins=[\"X1.A3.PCIe_Gen4_RX0_N\"],\n                                                           termination_pins=[\"U1.AP26.PCIe_Gen4_RX0_P\",\n                                                                             \"U1.AN26.PCIe_Gen4_RX0_N\"],\n                                                           differential=True, rise_time=35, use_convolution=True,\n                                                           analyze=True, design_name=\"TDR\")"
      ]
    },
    {
      "cell_type": "markdown",
      "metadata": {},
      "source": [
        "## Create AMI project\nCreate an Ibis AMI project to compute an eye diagram simulation and retrieve\neye mask violations.\n\n"
      ]
    },
    {
      "cell_type": "code",
      "execution_count": null,
      "metadata": {
        "collapsed": false
      },
      "outputs": [],
      "source": [
        "result, eye_curve_tx, eye_curve_rx = cir.create_ami_schematic_from_snp(input_file=touchstone_path,\n                                                                       ibis_ami=os.path.join(projectdir, \"models\",\n                                                                                             \"pcieg5_32gt.ibs\"),\n                                                                       component_name=\"Spec_Model\", tx_buffer_name=\"1p\",\n                                                                       rx_buffer_name=\"2p\",\n                                                                       tx_pins=[\"U1.AM25.PCIe_Gen4_TX0_CAP_P\"],\n                                                                       tx_refs=[\"U1.AL25.PCIe_Gen4_TX0_CAP_N\"],\n                                                                       rx_pins=[\"X1.B2.PCIe_Gen4_TX0_P\"],\n                                                                       rx_refs=[\"X1.B3.PCIe_Gen4_TX0_N\"],\n                                                                       use_ibis_buffer=False, differential=True,\n                                                                       bit_pattern=\"random_bit_count=2.5e3 random_seed=1\",\n                                                                       unit_interval=\"31.25ps\", use_convolution=True,\n                                                                       analyze=True, design_name=\"AMI\")\n\ncir.save_project()"
      ]
    },
    {
      "cell_type": "markdown",
      "metadata": {},
      "source": [
        "## Create virtual compliance report\nInitialize the ``VirtualCompliance`` class\nand set up the main project information needed to generate the report.\n\n\n<img src=\"file://../../_static/virtual_compliance_class.png\" width=\"400\" alt=\"Virtual compliance class description.\">\n\n\n<img src=\"file://../../_static/virtual_compliance_configs.png\" width=\"400\" alt=\"Virtual compliance configuration files hierarchy.\">\n\n\n\n"
      ]
    },
    {
      "cell_type": "code",
      "execution_count": null,
      "metadata": {
        "collapsed": false
      },
      "outputs": [],
      "source": [
        "template = os.path.join(workdir, \"pcie_gen5_templates\", \"main.json\")\n\nv = VirtualCompliance(cir.desktop_class, str(template))"
      ]
    },
    {
      "cell_type": "markdown",
      "metadata": {},
      "source": [
        "## Customize project and design\nDefine the path to the project file and the\ndesign names to be used in each report generation.\n\n\n<img src=\"file://../../_static/virtual_compliance_usage.png\" width=\"400\" alt=\"Virtual compliance configuration usage example.\">\n\n\n\n"
      ]
    },
    {
      "cell_type": "code",
      "execution_count": null,
      "metadata": {
        "collapsed": false
      },
      "outputs": [],
      "source": [
        "v.project_file = cir.project_file\nv.reports[\"insertion losses\"].design_name = \"LNA\"\nv.reports[\"return losses\"].design_name = \"LNA\"\nv.reports[\"common mode return losses\"].design_name = \"LNA\"\nv.reports[\"tdr from circuit\"].design_name = \"TDR\"\nv.reports[\"eye1\"].design_name = \"AMI\"\nv.reports[\"eye3\"].design_name = \"AMI\"\nv.parameters[\"erl\"].design_name = \"LNA\"\nv.specs_folder = os.path.join(workdir, 'readme_pictures')"
      ]
    },
    {
      "cell_type": "markdown",
      "metadata": {},
      "source": [
        "## Define trace names\nChange the trace name with projects and users.\nReuse the compliance template and update traces accordingly.\n\n"
      ]
    },
    {
      "cell_type": "code",
      "execution_count": null,
      "metadata": {
        "collapsed": false
      },
      "outputs": [],
      "source": [
        "v.reports[\"insertion losses\"].traces = insertion\n\nv.reports[\"return losses\"].traces = return_diff\n\nv.reports[\"common mode return losses\"].traces = return_comm\n\nv.reports[\"eye1\"].traces = eye_curve_tx\nv.reports[\"eye3\"].traces = eye_curve_tx\nv.reports[\"tdr from circuit\"].traces = tdr_probe_name\nv.parameters[\"erl\"].trace_pins = [\n    [\"X1.A5.PCIe_Gen4_RX1_P\", \"X1.A6.PCIe_Gen4_RX1_N\", \"U1.AR25.PCIe_Gen4_RX1_P\", \"U1.AP25.PCIe_Gen4_RX1_N\"],\n    [7, 8, 18, 17]]"
      ]
    },
    {
      "cell_type": "markdown",
      "metadata": {},
      "source": [
        "## Generate PDF report\nGenerate the reports and produce a PDF report.\n\n\n<img src=\"file://../../_static/virtual_compliance_scattering1.png\" width=\"400\" alt=\"Insertion loss output.\">\n\n\n<img src=\"file://../../_static/virtual_compliance_scattering2.png\" width=\"400\" alt=\"Return loss output.\">\n\n\n<img src=\"file://../../_static/virtual_compliance_eye.png\" width=\"400\" alt=\"Eye diagram example.\">\n\n\n\n"
      ]
    },
    {
      "cell_type": "code",
      "execution_count": null,
      "metadata": {
        "collapsed": false
      },
      "outputs": [],
      "source": [
        "v.create_compliance_report()\n\nd.release_desktop(True, True)"
      ]
    }
  ],
  "metadata": {
    "kernelspec": {
      "display_name": "Python 3",
      "language": "python",
      "name": "python3"
    },
    "language_info": {
      "codemirror_mode": {
        "name": "ipython",
        "version": 3
      },
      "file_extension": ".py",
      "mimetype": "text/x-python",
      "name": "python",
      "nbconvert_exporter": "python",
      "pygments_lexer": "ipython3",
      "version": "3.10.9"
    }
  },
  "nbformat": 4,
  "nbformat_minor": 0
}