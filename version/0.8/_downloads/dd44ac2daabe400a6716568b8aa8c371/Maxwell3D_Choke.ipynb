{
  "cells": [
    {
      "cell_type": "markdown",
      "metadata": {},
      "source": [
        "\n# Maxwell 3D: choke setup\nThis example shows how you can use PyAEDT to create a choke setup in Maxwell 3D.\n"
      ]
    },
    {
      "cell_type": "markdown",
      "metadata": {},
      "source": [
        "## Perform required imports\nPerform required imports.\n\n"
      ]
    },
    {
      "cell_type": "code",
      "execution_count": null,
      "metadata": {
        "collapsed": false
      },
      "outputs": [],
      "source": [
        "import json\nimport os\nimport pyaedt\nimport tempfile"
      ]
    },
    {
      "cell_type": "markdown",
      "metadata": {},
      "source": [
        "## Set AEDT version\nSet AEDT version.\n\n"
      ]
    },
    {
      "cell_type": "code",
      "execution_count": null,
      "metadata": {
        "collapsed": false
      },
      "outputs": [],
      "source": [
        "aedt_version = \"2024.1\""
      ]
    },
    {
      "cell_type": "markdown",
      "metadata": {},
      "source": [
        "## Create temporary directory\nCreate temporary directory.\n\n"
      ]
    },
    {
      "cell_type": "code",
      "execution_count": null,
      "metadata": {
        "collapsed": false
      },
      "outputs": [],
      "source": [
        "temp_dir = tempfile.TemporaryDirectory(suffix=\".ansys\")"
      ]
    },
    {
      "cell_type": "markdown",
      "metadata": {},
      "source": [
        "## Set non-graphical mode\nSet non-graphical mode. \nYou can define ``non_graphical`` either to ``True`` or ``False``.\n\n"
      ]
    },
    {
      "cell_type": "code",
      "execution_count": null,
      "metadata": {
        "collapsed": false
      },
      "outputs": [],
      "source": [
        "non_graphical = False"
      ]
    },
    {
      "cell_type": "markdown",
      "metadata": {},
      "source": [
        "## Launch Maxwell3D\nLaunch Maxwell 3D 2023 R2 in graphical mode.\n\n"
      ]
    },
    {
      "cell_type": "code",
      "execution_count": null,
      "metadata": {
        "collapsed": false
      },
      "outputs": [],
      "source": [
        "m3d = pyaedt.Maxwell3d(projectname=pyaedt.generate_unique_project_name(),\n                       solution_type=\"EddyCurrent\",\n                       specified_version=aedt_version,\n                       non_graphical=non_graphical,\n                       new_desktop_session=True\n                       )"
      ]
    },
    {
      "cell_type": "markdown",
      "metadata": {},
      "source": [
        "## Rules and information of use\nThe dictionary values containing the different parameters of the core and\nthe windings that compose the choke. You must not change the main structure of\nthe dictionary. The dictionary has many primary keys, including\n``\"Number of Windings\"``, ``\"Layer\"``, and ``\"Layer Type\"``, that have\ndictionaries as values. The keys of these dictionaries are secondary keys\nof the dictionary values, such as ``\"1\"``, ``\"2\"``, ``\"3\"``, ``\"4\"``, and\n``\"Simple\"``.\n\nYou must not modify the primary or secondary keys. You can modify only their values.\nYou must not change the data types for these keys. For the dictionaries from\n``\"Number of Windings\"`` through ``\"Wire Section\"``, values must be Boolean. Only\none value per dictionary can be ``\"True\"``. If all values are ``True``, only the first one\nremains set to ``True``. If all values are ``False``, the first value is chosen as the\ncorrect one by default. For the dictionaries from ``\"Core\"`` through ``\"Inner Winding\"``,\nvalues must be strings, floats, or integers.\n\nDescriptions follow for primary keys:\n\n- ``\"Number of Windings\"``: Number of windings around the core\n- ``\"Layer\"``: Number of layers of all windings\n- ``\"Layer Type\"``: Whether layers of a winding are linked to each other\n- ``\"Similar Layer\"``: Whether layers of a winding have the same number of turns and same spacing between turns\n- ``\"Mode\"``: When there are only two windows, whether they are in common or differential mode\n- ``\"Wire Section\"``: Type of wire section and number of segments\n- ``\"Core\"``: Design of the core\n- ``\"Outer Winding\"``: Design of the first layer or outer layer of a winding and the common parameters for all layers\n- ``\"Mid Winding\"``: Turns and turns spacing (\"Coil Pit\") for the second or mid layer if it is necessary\n- ``\"Inner Winding\"``: Turns and turns spacing (\"Coil Pit\") for the third or inner layer if it is necessary\n- ``\"Occupation(%)\"``: An informative parameter that is useless to modify\n\nThe following parameter values work. You can modify them if you want.\n\n"
      ]
    },
    {
      "cell_type": "code",
      "execution_count": null,
      "metadata": {
        "collapsed": false
      },
      "outputs": [],
      "source": [
        "values = {\n    \"Number of Windings\": {\"1\": False, \"2\": False, \"3\": True, \"4\": False},\n    \"Layer\": {\"Simple\": False, \"Double\": False, \"Triple\": True},\n    \"Layer Type\": {\"Separate\": False, \"Linked\": True},\n    \"Similar Layer\": {\"Similar\": False, \"Different\": True},\n    \"Mode\": {\"Differential\": True, \"Common\": False},\n    \"Wire Section\": {\"None\": False, \"Hexagon\": False, \"Octagon\": True, \"Circle\": False},\n    \"Core\": {\n        \"Name\": \"Core\",\n        \"Material\": \"ferrite\",\n        \"Inner Radius\": 100,\n        \"Outer Radius\": 143,\n        \"Height\": 25,\n        \"Chamfer\": 0.8,\n    },\n    \"Outer Winding\": {\n        \"Name\": \"Winding\",\n        \"Material\": \"copper\",\n        \"Inner Radius\": 100,\n        \"Outer Radius\": 143,\n        \"Height\": 25,\n        \"Wire Diameter\": 5,\n        \"Turns\": 2,\n        \"Coil Pit(deg)\": 4,\n        \"Occupation(%)\": 0,\n    },\n    \"Mid Winding\": {\"Turns\": 7, \"Coil Pit(deg)\": 4, \"Occupation(%)\": 0},\n    \"Inner Winding\": {\"Turns\": 10, \"Coil Pit(deg)\": 4, \"Occupation(%)\": 0},\n}"
      ]
    },
    {
      "cell_type": "markdown",
      "metadata": {},
      "source": [
        "## Convert dictionary to JSON file\nCovert a dictionary to a JSON file. PyAEDT methods ask for the path of the\nJSON file as an argument. You can convert a dictionary to a JSON file.\n\n"
      ]
    },
    {
      "cell_type": "code",
      "execution_count": null,
      "metadata": {
        "collapsed": false
      },
      "outputs": [],
      "source": [
        "json_path = os.path.join(temp_dir.name, \"choke_example.json\")\n\nwith open(json_path, \"w\") as outfile:\n    json.dump(values, outfile)"
      ]
    },
    {
      "cell_type": "markdown",
      "metadata": {},
      "source": [
        "## Verify parameters of JSON file\nVerify parameters of the JSON file. The ``check_choke_values`` method takes\nthe JSON file path as an argument and does the following:\n\n- Checks if the JSON file is correctly written (as explained in the rules)\n- Checks inequations on windings parameters to avoid having unintended intersections\n\n"
      ]
    },
    {
      "cell_type": "code",
      "execution_count": null,
      "metadata": {
        "collapsed": false
      },
      "outputs": [],
      "source": [
        "dictionary_values = m3d.modeler.check_choke_values(json_path, create_another_file=False)\nprint(dictionary_values)"
      ]
    },
    {
      "cell_type": "markdown",
      "metadata": {},
      "source": [
        "## Create choke\nCreate the choke. The ``create_choke`` method takes the JSON file path as an \nargument.\n\n"
      ]
    },
    {
      "cell_type": "code",
      "execution_count": null,
      "metadata": {
        "collapsed": false
      },
      "outputs": [],
      "source": [
        "list_object = m3d.modeler.create_choke(json_path)\nprint(list_object)\ncore = list_object[1]\nfirst_winding_list = list_object[2]\nsecond_winding_list = list_object[3]\nthird_winding_list = list_object[4]"
      ]
    },
    {
      "cell_type": "markdown",
      "metadata": {},
      "source": [
        "## Assign excitations\nAssign excitations.\n\n"
      ]
    },
    {
      "cell_type": "code",
      "execution_count": null,
      "metadata": {
        "collapsed": false
      },
      "outputs": [],
      "source": [
        "first_winding_faces = m3d.modeler.get_object_faces(first_winding_list[0].name)\nsecond_winding_faces = m3d.modeler.get_object_faces(second_winding_list[0].name)\nthird_winding_faces = m3d.modeler.get_object_faces(third_winding_list[0].name)\nm3d.assign_current([first_winding_faces[-1]], amplitude=1000, phase=\"0deg\", swap_direction=False, name=\"phase_1_in\")\nm3d.assign_current([first_winding_faces[-2]], amplitude=1000, phase=\"0deg\", swap_direction=True, name=\"phase_1_out\")\nm3d.assign_current([second_winding_faces[-1]], amplitude=1000, phase=\"120deg\", swap_direction=False, name=\"phase_2_in\")\nm3d.assign_current([second_winding_faces[-2]], amplitude=1000, phase=\"120deg\", swap_direction=True, name=\"phase_2_out\")\nm3d.assign_current([third_winding_faces[-1]], amplitude=1000, phase=\"240deg\", swap_direction=False, name=\"phase_3_in\")\nm3d.assign_current([third_winding_faces[-2]], amplitude=1000, phase=\"240deg\", swap_direction=True, name=\"phase_3_out\")"
      ]
    },
    {
      "cell_type": "markdown",
      "metadata": {},
      "source": [
        "## Assign matrix\nAssign the matrix.\n\n"
      ]
    },
    {
      "cell_type": "code",
      "execution_count": null,
      "metadata": {
        "collapsed": false
      },
      "outputs": [],
      "source": [
        "m3d.assign_matrix([\"phase_1_in\", \"phase_2_in\", \"phase_3_in\"], matrix_name=\"current_matrix\")"
      ]
    },
    {
      "cell_type": "markdown",
      "metadata": {},
      "source": [
        "## Create mesh operation\nCreate the mesh operation.\n\n"
      ]
    },
    {
      "cell_type": "code",
      "execution_count": null,
      "metadata": {
        "collapsed": false
      },
      "outputs": [],
      "source": [
        "mesh = m3d.mesh\nmesh.assign_skin_depth(assignment=[first_winding_list[0], second_winding_list[0], third_winding_list[0]],\n                       skin_depth=0.20, triangulation_max_length=\"10mm\", name=\"skin_depth\")\nmesh.assign_surface_mesh_manual([first_winding_list[0], second_winding_list[0], third_winding_list[0]],\n                                surface_deviation=None, normal_dev=\"30deg\", name=\"surface_approx\")"
      ]
    },
    {
      "cell_type": "markdown",
      "metadata": {},
      "source": [
        "## Create boundaries\nCreate the boundaries. A region with openings is needed to run the analysis.\n\n"
      ]
    },
    {
      "cell_type": "code",
      "execution_count": null,
      "metadata": {
        "collapsed": false
      },
      "outputs": [],
      "source": [
        "region = m3d.modeler.create_air_region(x_pos=100, y_pos=100, z_pos=100, x_neg=100, y_neg=100, z_neg=0)"
      ]
    },
    {
      "cell_type": "markdown",
      "metadata": {},
      "source": [
        "## Create setup\nCreate a setup with a sweep to run the simulation. Depending on your machine's\ncomputing power, the simulation can take some time to run.\n\n"
      ]
    },
    {
      "cell_type": "code",
      "execution_count": null,
      "metadata": {
        "collapsed": false
      },
      "outputs": [],
      "source": [
        "setup = m3d.create_setup(\"MySetup\")\nprint(setup.props)\nsetup.props[\"Frequency\"] = \"100kHz\"\nsetup.props[\"PercentRefinement\"] = 15\nsetup.props[\"MaximumPasses\"] = 10\nsetup.props[\"HasSweepSetup\"] = True\nsetup.add_eddy_current_sweep(range_type=\"LinearCount\", start=100, end=1000, count=12, units=\"kHz\", clear=True)"
      ]
    },
    {
      "cell_type": "markdown",
      "metadata": {},
      "source": [
        "## Save project\nSave the project.\n\n"
      ]
    },
    {
      "cell_type": "code",
      "execution_count": null,
      "metadata": {
        "collapsed": false
      },
      "outputs": [],
      "source": [
        "m3d.save_project()\nm3d.modeler.fit_all()\nm3d.plot(show=False, export_path=os.path.join(temp_dir.name, \"Image.jpg\"), plot_air_objects=True)"
      ]
    },
    {
      "cell_type": "markdown",
      "metadata": {},
      "source": [
        "## Close AEDT\nAfter the simulation completes, you can close AEDT or release it using the\n:func:`pyaedt.Desktop.release_desktop` method.\nAll methods provide for saving the project before closing.\n\n"
      ]
    },
    {
      "cell_type": "code",
      "execution_count": null,
      "metadata": {
        "collapsed": false
      },
      "outputs": [],
      "source": [
        "m3d.release_desktop()\ntemp_dir.cleanup()"
      ]
    }
  ],
  "metadata": {
    "kernelspec": {
      "display_name": "Python 3",
      "language": "python",
      "name": "python3"
    },
    "language_info": {
      "codemirror_mode": {
        "name": "ipython",
        "version": 3
      },
      "file_extension": ".py",
      "mimetype": "text/x-python",
      "name": "python",
      "nbconvert_exporter": "python",
      "pygments_lexer": "ipython3",
      "version": "3.10.9"
    }
  },
  "nbformat": 4,
  "nbformat_minor": 0
}