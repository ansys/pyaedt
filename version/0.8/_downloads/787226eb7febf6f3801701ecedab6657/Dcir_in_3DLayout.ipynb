{
  "cells": [
    {
      "cell_type": "markdown",
      "metadata": {},
      "source": [
        "\n# HFSS 3D Layout: SIwave DCIR analysis in HFSS 3D Layout\nThis example shows how you can use configure HFSS 3D Layout for SIwave DCIR\nanalysis.\n"
      ]
    },
    {
      "cell_type": "code",
      "execution_count": null,
      "metadata": {
        "collapsed": false
      },
      "outputs": [],
      "source": [
        "import os\nimport tempfile\nimport pyaedt"
      ]
    },
    {
      "cell_type": "markdown",
      "metadata": {},
      "source": [
        "## Set AEDT version\nSet AEDT version.\n\n"
      ]
    },
    {
      "cell_type": "code",
      "execution_count": null,
      "metadata": {
        "collapsed": false
      },
      "outputs": [],
      "source": [
        "aedt_version = \"2024.1\""
      ]
    },
    {
      "cell_type": "markdown",
      "metadata": {},
      "source": [
        "## Configure EDB for DCIR analysis\nCopy example into temporary folder\n\n"
      ]
    },
    {
      "cell_type": "code",
      "execution_count": null,
      "metadata": {
        "collapsed": false
      },
      "outputs": [],
      "source": [
        "temp_dir = tempfile.gettempdir()\ndst_dir = os.path.join(temp_dir, pyaedt.generate_unique_name(\"pyaedt_dcir\"))\nos.mkdir(dst_dir)\nlocal_path = pyaedt.downloads.download_aedb(dst_dir)"
      ]
    },
    {
      "cell_type": "markdown",
      "metadata": {},
      "source": [
        "Load example board into EDB\n\n"
      ]
    },
    {
      "cell_type": "code",
      "execution_count": null,
      "metadata": {
        "collapsed": false
      },
      "outputs": [],
      "source": [
        "appedb = pyaedt.Edb(local_path, edbversion=aedt_version)"
      ]
    },
    {
      "cell_type": "markdown",
      "metadata": {},
      "source": [
        "Create pin group on VRM positive pins\n\n"
      ]
    },
    {
      "cell_type": "code",
      "execution_count": null,
      "metadata": {
        "collapsed": false
      },
      "outputs": [],
      "source": [
        "gnd_name = \"GND\"\nappedb.siwave.create_pin_group_on_net(\n    reference_designator=\"U3A1\",\n    net_name=\"BST_V3P3_S5\",\n    group_name=\"U3A1-BST_V3P3_S5\")"
      ]
    },
    {
      "cell_type": "markdown",
      "metadata": {},
      "source": [
        "Create pin group on VRM negative pins\n\n"
      ]
    },
    {
      "cell_type": "code",
      "execution_count": null,
      "metadata": {
        "collapsed": false
      },
      "outputs": [],
      "source": [
        "appedb.siwave.create_pin_group_on_net(\n    reference_designator=\"U3A1\",\n    net_name=\"GND\",\n    group_name=\"U3A1-GND\")"
      ]
    },
    {
      "cell_type": "markdown",
      "metadata": {},
      "source": [
        "Create voltage source between VRM positive and negative pin groups\n\n"
      ]
    },
    {
      "cell_type": "code",
      "execution_count": null,
      "metadata": {
        "collapsed": false
      },
      "outputs": [],
      "source": [
        "appedb.siwave.create_voltage_source_on_pin_group(\n    pos_pin_group_name=\"U3A1-BST_V3P3_S5\",\n    neg_pin_group_name=\"U3A1-GND\",\n    magnitude=3.3,\n    name=\"U3A1-BST_V3P3_S5\"\n)"
      ]
    },
    {
      "cell_type": "markdown",
      "metadata": {},
      "source": [
        "Create pin group on sink component positive pins\n\n"
      ]
    },
    {
      "cell_type": "code",
      "execution_count": null,
      "metadata": {
        "collapsed": false
      },
      "outputs": [],
      "source": [
        "appedb.siwave.create_pin_group_on_net(\n    reference_designator=\"U2A5\",\n    net_name=\"V3P3_S5\",\n    group_name=\"U2A5-V3P3_S5\")"
      ]
    },
    {
      "cell_type": "markdown",
      "metadata": {},
      "source": [
        "Create pin group on sink component negative pins\n\n"
      ]
    },
    {
      "cell_type": "code",
      "execution_count": null,
      "metadata": {
        "collapsed": false
      },
      "outputs": [],
      "source": [
        "appedb.siwave.create_pin_group_on_net(\n    reference_designator=\"U2A5\",\n    net_name=\"GND\",\n    group_name=\"U2A5-GND\")\n\n# ~~~~~~~~~~~~~~~~~~~~~~~~~~~~~~~~~~~~~~~~~~~~~~~~~~~~~~~~~~~~~~~~~~~~~~~~~\n# Create place current source between sink component positive and negative pin groups\nappedb.siwave.create_current_source_on_pin_group(\n    pos_pin_group_name=\"U2A5-V3P3_S5\",\n    neg_pin_group_name=\"U2A5-GND\",\n    magnitude=1,\n    name=\"U2A5-V3P3_S5\"\n)"
      ]
    },
    {
      "cell_type": "markdown",
      "metadata": {},
      "source": [
        "Add SIwave DCIR analysis\n\n"
      ]
    },
    {
      "cell_type": "code",
      "execution_count": null,
      "metadata": {
        "collapsed": false
      },
      "outputs": [],
      "source": [
        "appedb.siwave.add_siwave_dc_analysis(name=\"my_setup\")"
      ]
    },
    {
      "cell_type": "markdown",
      "metadata": {},
      "source": [
        "## Save and close EDB\nSave and close EDB.\n\n"
      ]
    },
    {
      "cell_type": "code",
      "execution_count": null,
      "metadata": {
        "collapsed": false
      },
      "outputs": [],
      "source": [
        "appedb.save_edb()\nappedb.close_edb()"
      ]
    },
    {
      "cell_type": "markdown",
      "metadata": {},
      "source": [
        "## Analysis DCIR in AEDT\nLaunch AEDT and import the configured EDB and analysis DCIR\n\n"
      ]
    },
    {
      "cell_type": "code",
      "execution_count": null,
      "metadata": {
        "collapsed": false
      },
      "outputs": [],
      "source": [
        "desktop = pyaedt.Desktop(aedt_version, non_graphical=False, new_desktop_session=True)\nhfss3dl = pyaedt.Hfss3dLayout(local_path)\nhfss3dl.analyze()\nhfss3dl.save_project()"
      ]
    },
    {
      "cell_type": "markdown",
      "metadata": {},
      "source": [
        "## Get element data\nGet current source\n\n"
      ]
    },
    {
      "cell_type": "code",
      "execution_count": null,
      "metadata": {
        "collapsed": false
      },
      "outputs": [],
      "source": [
        "current_source = hfss3dl.get_dcir_element_data_current_source(setup=\"my_setup\")\nprint(current_source)\n\n# ~~~~~~~~~~~~~~~~~~~\n# Get via information\n\nvia = hfss3dl.get_dcir_element_data_via(setup=\"my_setup\")\nprint(via)"
      ]
    },
    {
      "cell_type": "markdown",
      "metadata": {},
      "source": [
        "## Get voltage\nGet voltage from dcir solution data\n\n"
      ]
    },
    {
      "cell_type": "code",
      "execution_count": null,
      "metadata": {
        "collapsed": false
      },
      "outputs": [],
      "source": [
        "voltage = hfss3dl.get_dcir_solution_data(setup=\"my_setup\", show=\"Sources\", category=\"Voltage\")\nprint({expression: voltage.data_magnitude(expression) for expression in voltage.expressions})"
      ]
    },
    {
      "cell_type": "markdown",
      "metadata": {},
      "source": [
        "## Close AEDT\n\n"
      ]
    },
    {
      "cell_type": "code",
      "execution_count": null,
      "metadata": {
        "collapsed": false
      },
      "outputs": [],
      "source": [
        "desktop.release_desktop()"
      ]
    }
  ],
  "metadata": {
    "kernelspec": {
      "display_name": "Python 3",
      "language": "python",
      "name": "python3"
    },
    "language_info": {
      "codemirror_mode": {
        "name": "ipython",
        "version": 3
      },
      "file_extension": ".py",
      "mimetype": "text/x-python",
      "name": "python",
      "nbconvert_exporter": "python",
      "pygments_lexer": "ipython3",
      "version": "3.10.9"
    }
  },
  "nbformat": 4,
  "nbformat_minor": 0
}