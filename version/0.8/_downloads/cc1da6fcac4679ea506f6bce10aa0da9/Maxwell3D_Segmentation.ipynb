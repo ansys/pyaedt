{
  "cells": [
    {
      "cell_type": "markdown",
      "metadata": {},
      "source": [
        "\n# Maxwell 3D: magnet segmentation\nThis example shows how you can use PyAEDT to segment magnets of an electric motor.\nThe method is valid and usable for any object the user would like to segment.\n"
      ]
    },
    {
      "cell_type": "markdown",
      "metadata": {},
      "source": [
        "## Perform required imports\nPerform required imports.\n\n"
      ]
    },
    {
      "cell_type": "code",
      "execution_count": null,
      "metadata": {
        "collapsed": false
      },
      "outputs": [],
      "source": [
        "from pyaedt import downloads\nfrom pyaedt import Maxwell3d\n\nimport tempfile"
      ]
    },
    {
      "cell_type": "markdown",
      "metadata": {},
      "source": [
        "## Set AEDT version\nSet AEDT version.\n\n"
      ]
    },
    {
      "cell_type": "code",
      "execution_count": null,
      "metadata": {
        "collapsed": false
      },
      "outputs": [],
      "source": [
        "aedt_version = \"2024.1\""
      ]
    },
    {
      "cell_type": "markdown",
      "metadata": {},
      "source": [
        "## Create temporary directory\nCreate temporary directory.\n\n"
      ]
    },
    {
      "cell_type": "code",
      "execution_count": null,
      "metadata": {
        "collapsed": false
      },
      "outputs": [],
      "source": [
        "temp_dir = tempfile.TemporaryDirectory(suffix=\".ansys\")"
      ]
    },
    {
      "cell_type": "markdown",
      "metadata": {},
      "source": [
        "## Set non-graphical mode\nSet non-graphical mode. \nYou can set ``non_graphical`` either to ``True`` or ``False``.\n\n"
      ]
    },
    {
      "cell_type": "code",
      "execution_count": null,
      "metadata": {
        "collapsed": false
      },
      "outputs": [],
      "source": [
        "non_graphical = False"
      ]
    },
    {
      "cell_type": "markdown",
      "metadata": {},
      "source": [
        "## Download .aedt file example\nSet local temporary folder to export the .aedt file to.\n\n"
      ]
    },
    {
      "cell_type": "code",
      "execution_count": null,
      "metadata": {
        "collapsed": false
      },
      "outputs": [],
      "source": [
        "aedt_file = downloads.download_file(\"object_segmentation\", \"Motor3D_obj_segments.aedt\", temp_dir.name)"
      ]
    },
    {
      "cell_type": "markdown",
      "metadata": {},
      "source": [
        "## Launch Maxwell 3D\nLaunch Maxwell 3D.\n\n"
      ]
    },
    {
      "cell_type": "code",
      "execution_count": null,
      "metadata": {
        "collapsed": false
      },
      "outputs": [],
      "source": [
        "m3d = Maxwell3d(projectname=aedt_file,\n                specified_version=aedt_version,\n                new_desktop_session=True,\n                non_graphical=non_graphical)"
      ]
    },
    {
      "cell_type": "markdown",
      "metadata": {},
      "source": [
        "## Create object to access 3D modeler\nCreate the object ``mod3D`` to access the 3D modeler easily.\n\n"
      ]
    },
    {
      "cell_type": "code",
      "execution_count": null,
      "metadata": {
        "collapsed": false
      },
      "outputs": [],
      "source": [
        "modeler = m3d.modeler"
      ]
    },
    {
      "cell_type": "markdown",
      "metadata": {},
      "source": [
        "## Segment first magnet by specifying the number of segments\nSelect first magnet to segment by specifying the number of segments.\nThe method accepts in input either the list of magnets names to segment or\nmagnets ids or the magnet object :class:`pyaedt.modeler.cad.object3d.Object3d`.\n``apply_mesh_sheets`` is enabled which means that the mesh sheets will\nbe applied in the geometry too.\nIn this specific case we give as input the name of the magnet.\n\n"
      ]
    },
    {
      "cell_type": "code",
      "execution_count": null,
      "metadata": {
        "collapsed": false
      },
      "outputs": [],
      "source": [
        "segments_number = 5\nobject_name = \"PM_I1\"\nsheets_1 = modeler.objects_segmentation(object_name, segments_number=segments_number, apply_mesh_sheets=True)"
      ]
    },
    {
      "cell_type": "markdown",
      "metadata": {},
      "source": [
        "## Segment second magnet by specifying the number of segments\nSelect second magnet to segment by specifying the number of segments.\nIn this specific case we give as input the id of the magnet.\n\n"
      ]
    },
    {
      "cell_type": "code",
      "execution_count": null,
      "metadata": {
        "collapsed": false
      },
      "outputs": [],
      "source": [
        "segments_number = 4\nobject_name = \"PM_I1_1\"\nmagnet_id = [obj.id for obj in modeler.object_list if obj.name == object_name][0]\nsheets_2 = modeler.objects_segmentation(magnet_id, segments_number=segments_number, apply_mesh_sheets=True)"
      ]
    },
    {
      "cell_type": "markdown",
      "metadata": {},
      "source": [
        "## Segment third magnet by specifying the segmentation thickness\nSelect third magnet to segment by specifying the segmentation thickness.\nIn this specific case we give as input the magnet object of type :class:`pyaedt.modeler.cad.object3d.Object3d`.\n\n"
      ]
    },
    {
      "cell_type": "code",
      "execution_count": null,
      "metadata": {
        "collapsed": false
      },
      "outputs": [],
      "source": [
        "segmentation_thickness = 1\nobject_name = \"PM_O1\"\nmagnet = [obj for obj in modeler.object_list if obj.name == object_name][0]\nsheets_3 = modeler.objects_segmentation(magnet, segmentation_thickness=segmentation_thickness, apply_mesh_sheets=True)"
      ]
    },
    {
      "cell_type": "markdown",
      "metadata": {},
      "source": [
        "## Segment fourth magnet by specifying the number of segments\nSelect fourth magnet to segment by specifying the number of segments.\nIn this specific case we give as input the name of the magnet and we disable the mesh sheets.\n\n"
      ]
    },
    {
      "cell_type": "code",
      "execution_count": null,
      "metadata": {
        "collapsed": false
      },
      "outputs": [],
      "source": [
        "object_name = \"PM_O1_1\"\nsegments_number = 10\nsheets_4 = modeler.objects_segmentation(object_name, segments_number=segments_number)"
      ]
    },
    {
      "cell_type": "markdown",
      "metadata": {},
      "source": [
        "## Save project and close AEDT\nSave the project and close AEDT.\n\n"
      ]
    },
    {
      "cell_type": "code",
      "execution_count": null,
      "metadata": {
        "collapsed": false
      },
      "outputs": [],
      "source": [
        "m3d.save_project()\nm3d.release_desktop()\ntemp_dir.cleanup()"
      ]
    }
  ],
  "metadata": {
    "kernelspec": {
      "display_name": "Python 3",
      "language": "python",
      "name": "python3"
    },
    "language_info": {
      "codemirror_mode": {
        "name": "ipython",
        "version": 3
      },
      "file_extension": ".py",
      "mimetype": "text/x-python",
      "name": "python",
      "nbconvert_exporter": "python",
      "pygments_lexer": "ipython3",
      "version": "3.10.9"
    }
  },
  "nbformat": 4,
  "nbformat_minor": 0
}