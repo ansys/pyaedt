{
  "cells": [
    {
      "cell_type": "markdown",
      "metadata": {},
      "source": [
        "\n# HFSS: choke\nThis example shows how you can use PyAEDT to create a choke setup in HFSS.\n"
      ]
    },
    {
      "cell_type": "markdown",
      "metadata": {},
      "source": [
        "## Perform required imports\nPerform required imports.\n\n"
      ]
    },
    {
      "cell_type": "code",
      "execution_count": null,
      "metadata": {
        "collapsed": false
      },
      "outputs": [],
      "source": [
        "import json\nimport os\nimport pyaedt\n\nproject_name = pyaedt.generate_unique_project_name(rootname=r\"C:\\Data\\Support\\Test\", folder_name=\"choke\", project_name=\"choke\")"
      ]
    },
    {
      "cell_type": "markdown",
      "metadata": {},
      "source": [
        "## Set AEDT version\nSet AEDT version.\n\n"
      ]
    },
    {
      "cell_type": "code",
      "execution_count": null,
      "metadata": {
        "collapsed": false
      },
      "outputs": [],
      "source": [
        "aedt_version = \"2024.1\""
      ]
    },
    {
      "cell_type": "markdown",
      "metadata": {},
      "source": [
        "## Set non-graphical mode\nSet non-graphical mode. \nYou can set ``non_graphical`` either to ``True`` or ``False``.\n\n"
      ]
    },
    {
      "cell_type": "code",
      "execution_count": null,
      "metadata": {
        "collapsed": false
      },
      "outputs": [],
      "source": [
        "non_graphical = False"
      ]
    },
    {
      "cell_type": "markdown",
      "metadata": {},
      "source": [
        "## Launch HFSS\nLaunches HFSS 2023 R2 in graphical mode.\n\n"
      ]
    },
    {
      "cell_type": "code",
      "execution_count": null,
      "metadata": {
        "collapsed": false
      },
      "outputs": [],
      "source": [
        "hfss = pyaedt.Hfss(projectname=project_name,\n                   specified_version=aedt_version,\n                   non_graphical=non_graphical,\n                   new_desktop_session=True,\n                   solution_type=\"Terminal\")"
      ]
    },
    {
      "cell_type": "markdown",
      "metadata": {},
      "source": [
        "## Rules and information of use\nThe dictionary values contain the different parameter values of the core and\nthe windings that compose the choke. You must not change the main structure of\nthe dictionary. The dictionary has many primary keys, including\n``\"Number of Windings\"``, ``\"Layer\"``, and ``\"Layer Type\"``, that have\ndictionaries as values. The keys of these dictionaries are secondary keys\nof the dictionary values, such as ``\"1\"``, ``\"2\"``, ``\"3\"``, ``\"4\"``, and\n``\"Simple\"``.\n\nYou must not modify the primary or secondary keys. You can modify only their values.\nYou must not change the data types for these keys. For the dictionaries from\n``\"Number of Windings\"`` through ``\"Wire Section\"``, values must be Boolean. Only\none value per dictionary can be ``True``. If all values are ``True``, only the first one\nremains set to ``True``. If all values are ``False``, the first value is chosen as the\ncorrect one by default. For the dictionaries from ``\"Core\"`` through ``\"Inner Winding\"``,\nvalues must be strings, floats, or integers.\n\nDescriptions follow for primary keys:\n\n- ``\"Number of Windings\"``: Number of windings around the core\n- ``\"Layer\"``: Number of layers of all windings\n- ``\"Layer Type\"``: Whether layers of a winding are linked to each other\n- ``\"Similar Layer\"``: Whether layers of a winding have the same number of turns and same spacing between turns\n- ``\"Mode\"``: When there are only two windows, whether they are in common or differential mode\n- ``\"Wire Section\"``: Type of wire section and number of segments\n- ``\"Core\"``: Design of the core\n- ``\"Outer Winding\"``: Design of the first layer or outer layer of a winding and the common parameters for all layers\n- ``\"Mid Winding\"``: Turns and turns spacing (\"Coil Pit\") for the second or mid layer if it is necessary\n- ``\"Inner Winding\"``: Turns and turns spacing (\"Coil Pit\") for the third or inner layer if it is necessary\n- ``\"Occupation(%)\"``: An informative parameter that is useless to modify\n\nThe following parameter values work. You can modify them if you want.\n\n"
      ]
    },
    {
      "cell_type": "code",
      "execution_count": null,
      "metadata": {
        "collapsed": false
      },
      "outputs": [],
      "source": [
        "values = {\n    \"Number of Windings\": {\"1\": False, \"2\": True, \"3\": False, \"4\": False},\n    \"Layer\": {\"Simple\": False, \"Double\": True, \"Triple\": False},\n    \"Layer Type\": {\"Separate\": False, \"Linked\": True},\n    \"Similar Layer\": {\"Similar\": False, \"Different\": True},\n    \"Mode\": {\"Differential\": False, \"Common\": True},\n    \"Wire Section\": {\"None\": False, \"Hexagon\": True, \"Octagon\": False, \"Circle\": False},\n    \"Core\": {\n        \"Name\": \"Core\",\n        \"Material\": \"ferrite\",\n        \"Inner Radius\": 20,\n        \"Outer Radius\": 30,\n        \"Height\": 10,\n        \"Chamfer\": 0.8,\n    },\n    \"Outer Winding\": {\n        \"Name\": \"Winding\",\n        \"Material\": \"copper\",\n        \"Inner Radius\": 20,\n        \"Outer Radius\": 30,\n        \"Height\": 10,\n        \"Wire Diameter\": 1.5,\n        \"Turns\": 20,\n        \"Coil Pit(deg)\": 0.1,\n        \"Occupation(%)\": 0,\n    },\n    \"Mid Winding\": {\"Turns\": 25, \"Coil Pit(deg)\": 0.1, \"Occupation(%)\": 0},\n    \"Inner Winding\": {\"Turns\": 4, \"Coil Pit(deg)\": 0.1, \"Occupation(%)\": 0},\n}"
      ]
    },
    {
      "cell_type": "markdown",
      "metadata": {},
      "source": [
        "## Convert dictionary to JSON file\nConvert a dictionary to a JSON file. You must supply the path of the\nJSON file as an argument. \n\n"
      ]
    },
    {
      "cell_type": "code",
      "execution_count": null,
      "metadata": {
        "collapsed": false
      },
      "outputs": [],
      "source": [
        "json_path = os.path.join(hfss.working_directory, \"choke_example.json\")\n\nwith open(json_path, \"w\") as outfile:\n    json.dump(values, outfile)"
      ]
    },
    {
      "cell_type": "markdown",
      "metadata": {},
      "source": [
        "## Verify parameters of JSON file\nVerify parameters of the JSON file. The ``check_choke_values`` method takes\nthe JSON file path as an argument and does the following:\n\n- Checks if the JSON file is correctly written (as explained in the rules)\n- Checks in equations on windings parameters to avoid having unintended intersections\n\n"
      ]
    },
    {
      "cell_type": "code",
      "execution_count": null,
      "metadata": {
        "collapsed": false
      },
      "outputs": [],
      "source": [
        "dictionary_values = hfss.modeler.check_choke_values(json_path, create_another_file=False)\nprint(dictionary_values)"
      ]
    },
    {
      "cell_type": "markdown",
      "metadata": {},
      "source": [
        "## Create choke\nCreate the choke. The ``create_choke`` method takes the JSON file path as an \nargument.\n\n"
      ]
    },
    {
      "cell_type": "code",
      "execution_count": null,
      "metadata": {
        "collapsed": false
      },
      "outputs": [],
      "source": [
        "list_object = hfss.modeler.create_choke(json_path)\nprint(list_object)\ncore = list_object[1]\nfirst_winding_list = list_object[2]\nsecond_winding_list = list_object[3]"
      ]
    },
    {
      "cell_type": "markdown",
      "metadata": {},
      "source": [
        "## Create ground\nCreate a ground.\n\n"
      ]
    },
    {
      "cell_type": "code",
      "execution_count": null,
      "metadata": {
        "collapsed": false
      },
      "outputs": [],
      "source": [
        "ground_radius = 1.2 * dictionary_values[1][\"Outer Winding\"][\"Outer Radius\"]\nground_position = [0, 0, first_winding_list[1][0][2] - 2]\nground = hfss.modeler.create_circle(\"XY\", ground_position, ground_radius, name=\"GND\", material=\"copper\")\ncoat = hfss.assign_coating(ground, is_infinite_ground=True)"
      ]
    },
    {
      "cell_type": "markdown",
      "metadata": {},
      "source": [
        "## Create lumped ports\nCreate lumped ports.\n\n"
      ]
    },
    {
      "cell_type": "code",
      "execution_count": null,
      "metadata": {
        "collapsed": false
      },
      "outputs": [],
      "source": [
        "port_position_list = [\n    [first_winding_list[1][0][0], first_winding_list[1][0][1], first_winding_list[1][0][2] - 1],\n    [first_winding_list[1][-1][0], first_winding_list[1][-1][1], first_winding_list[1][-1][2] - 1],\n    [second_winding_list[1][0][0], second_winding_list[1][0][1], second_winding_list[1][0][2] - 1],\n    [second_winding_list[1][-1][0], second_winding_list[1][-1][1], second_winding_list[1][-1][2] - 1],\n]\nport_dimension_list = [2, dictionary_values[1][\"Outer Winding\"][\"Wire Diameter\"]]\nfor position in port_position_list:\n    sheet = hfss.modeler.create_rectangle(\"XZ\", position, port_dimension_list, name=\"sheet_port\")\n    sheet.move([-dictionary_values[1][\"Outer Winding\"][\"Wire Diameter\"] / 2, 0, -1])\n    hfss.lumped_port(assignment=sheet.name, reference=[ground],\n                     name=\"port_\" + str(port_position_list.index(position) + 1))"
      ]
    },
    {
      "cell_type": "markdown",
      "metadata": {},
      "source": [
        "## Create mesh\nCreate the mesh.\n\n"
      ]
    },
    {
      "cell_type": "code",
      "execution_count": null,
      "metadata": {
        "collapsed": false
      },
      "outputs": [],
      "source": [
        "cylinder_height = 2.5 * dictionary_values[1][\"Outer Winding\"][\"Height\"]\ncylinder_position = [0, 0, first_winding_list[1][0][2] - 4]\nmesh_operation_cylinder = hfss.modeler.create_cylinder(\"XY\", cylinder_position, ground_radius, cylinder_height,\n                                                       num_sides=36, name=\"mesh_cylinder\")\nhfss.mesh.assign_length_mesh([mesh_operation_cylinder], maximum_length=15, maximum_elements=None, name=\"choke_mesh\")"
      ]
    },
    {
      "cell_type": "markdown",
      "metadata": {},
      "source": [
        "## Create boundaries\nCreate the boundaries. A region with openings is needed to run the analysis.\n\n"
      ]
    },
    {
      "cell_type": "code",
      "execution_count": null,
      "metadata": {
        "collapsed": false
      },
      "outputs": [],
      "source": [
        "region = hfss.modeler.create_region(pad_percent=1000)"
      ]
    },
    {
      "cell_type": "markdown",
      "metadata": {},
      "source": [
        "## Create setup\nCreate a setup with a sweep to run the simulation. Depending on your machine's\ncomputing power, the simulation can take some time to run.\n\n"
      ]
    },
    {
      "cell_type": "code",
      "execution_count": null,
      "metadata": {
        "collapsed": false
      },
      "outputs": [],
      "source": [
        "setup = hfss.create_setup(\"MySetup\")\nsetup.props[\"Frequency\"] = \"50MHz\"\nsetup[\"MaximumPasses\"] = 10\nhfss.create_linear_count_sweep(setup=setup.name, units=\"MHz\", start_frequency=0.1, stop_frequency=100,\n                               num_of_freq_points=100, name=\"sweep1\", save_fields=False, sweep_type=\"Interpolating\")"
      ]
    },
    {
      "cell_type": "markdown",
      "metadata": {},
      "source": [
        "## Save project\nSave the project.\n\n"
      ]
    },
    {
      "cell_type": "code",
      "execution_count": null,
      "metadata": {
        "collapsed": false
      },
      "outputs": [],
      "source": [
        "hfss.modeler.fit_all()\nhfss.plot(show=False, export_path=os.path.join(hfss.working_directory, \"Image.jpg\"), plot_air_objects=True)"
      ]
    },
    {
      "cell_type": "markdown",
      "metadata": {},
      "source": [
        "## Close AEDT\nAfter the simulation completes, you can close AEDT or release it using the\n:func:`pyaedt.Desktop.release_desktop` method.\nAll methods provide for saving the project before closing.\n\n"
      ]
    },
    {
      "cell_type": "code",
      "execution_count": null,
      "metadata": {
        "collapsed": false
      },
      "outputs": [],
      "source": [
        "hfss.release_desktop()"
      ]
    }
  ],
  "metadata": {
    "kernelspec": {
      "display_name": "Python 3",
      "language": "python",
      "name": "python3"
    },
    "language_info": {
      "codemirror_mode": {
        "name": "ipython",
        "version": 3
      },
      "file_extension": ".py",
      "mimetype": "text/x-python",
      "name": "python",
      "nbconvert_exporter": "python",
      "pygments_lexer": "ipython3",
      "version": "3.10.9"
    }
  },
  "nbformat": 4,
  "nbformat_minor": 0
}