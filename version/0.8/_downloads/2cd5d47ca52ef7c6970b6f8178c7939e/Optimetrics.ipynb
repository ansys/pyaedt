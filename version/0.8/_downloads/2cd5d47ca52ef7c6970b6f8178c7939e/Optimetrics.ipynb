{
  "cells": [
    {
      "cell_type": "markdown",
      "metadata": {},
      "source": [
        "\n# General: optimetrics setup\nThis example shows how you can use PyAEDT to create a project in HFSS and create all optimetrics setups.\n"
      ]
    },
    {
      "cell_type": "markdown",
      "metadata": {},
      "source": [
        "## Perform required imports\nPerform required imports.\n\n"
      ]
    },
    {
      "cell_type": "code",
      "execution_count": null,
      "metadata": {
        "collapsed": false
      },
      "outputs": [],
      "source": [
        "import pyaedt\n\nimport os"
      ]
    },
    {
      "cell_type": "markdown",
      "metadata": {},
      "source": [
        "## Set AEDT version\nSet AEDT version.\n\n"
      ]
    },
    {
      "cell_type": "code",
      "execution_count": null,
      "metadata": {
        "collapsed": false
      },
      "outputs": [],
      "source": [
        "aedt_version = \"2024.1\""
      ]
    },
    {
      "cell_type": "markdown",
      "metadata": {},
      "source": [
        "## Set non-graphical mode\nSet non-graphical mode. \nYou can set ``non_graphical`` either to ``True`` or ``False``.\n\n"
      ]
    },
    {
      "cell_type": "code",
      "execution_count": null,
      "metadata": {
        "collapsed": false
      },
      "outputs": [],
      "source": [
        "non_graphical = False"
      ]
    },
    {
      "cell_type": "markdown",
      "metadata": {},
      "source": [
        "## Initialize object and create variables\nInitialize the ``Hfss`` object and create two needed design variables,\n``w1`` and ``w2``.\n\n"
      ]
    },
    {
      "cell_type": "code",
      "execution_count": null,
      "metadata": {
        "collapsed": false
      },
      "outputs": [],
      "source": [
        "hfss = pyaedt.Hfss(specified_version=aedt_version, new_desktop_session=True, non_graphical=non_graphical)\nhfss[\"w1\"] = \"1mm\"\nhfss[\"w2\"] = \"100mm\""
      ]
    },
    {
      "cell_type": "markdown",
      "metadata": {},
      "source": [
        "## Create waveguide with sheets on it\nCreate one of the standard waveguide structures and parametrize it.\nYou can also create rectangles of waveguide openings and assign ports later.\n\n"
      ]
    },
    {
      "cell_type": "code",
      "execution_count": null,
      "metadata": {
        "collapsed": false
      },
      "outputs": [],
      "source": [
        "wg1, p1, p2 = hfss.modeler.create_waveguide(\n    [0, 0, 0],\n    hfss.AXIS.Y,\n    \"WG17\",\n    wg_thickness=\"w1\",\n    wg_length=\"w2\",\n    create_sheets_on_openings=True,\n)\n\nmodel = hfss.plot(show=False)\n\nmodel.show_grid = False\nmodel.plot(os.path.join(hfss.working_directory, \"Image.jpg\"))"
      ]
    },
    {
      "cell_type": "markdown",
      "metadata": {},
      "source": [
        "## Create wave ports on sheets\nCreate two wave ports on the sheets.\n\n"
      ]
    },
    {
      "cell_type": "code",
      "execution_count": null,
      "metadata": {
        "collapsed": false
      },
      "outputs": [],
      "source": [
        "hfss.wave_port(p1, integration_line=hfss.AxisDir.ZPos, name=\"1\")\nhfss.wave_port(p2, integration_line=hfss.AxisDir.ZPos, name=\"2\")"
      ]
    },
    {
      "cell_type": "markdown",
      "metadata": {},
      "source": [
        "## Create setup and frequency sweep\nCreate a setup and a frequency sweep to use as the base for optimetrics\nsetups.\n\n"
      ]
    },
    {
      "cell_type": "code",
      "execution_count": null,
      "metadata": {
        "collapsed": false
      },
      "outputs": [],
      "source": [
        "setup = hfss.create_setup()\nhfss.create_linear_step_sweep(\n    setup_name=setup.name,\n    unit=\"GHz\",\n    start_frequency=1,\n    stop_frequency=5,\n    step_size=0.1,\n    sweep_name=\"Sweep1\",\n    save_fields=True\n)"
      ]
    },
    {
      "cell_type": "markdown",
      "metadata": {},
      "source": [
        "# Optimetrics analysis\nCreate parametrics analysis\n~~~~~~~~~~~~~~~~~~~~~~~~~~~\nCreate a simple optimetrics parametrics analysis with output calculations.\n\n"
      ]
    },
    {
      "cell_type": "code",
      "execution_count": null,
      "metadata": {
        "collapsed": false
      },
      "outputs": [],
      "source": [
        "sweep = hfss.parametrics.add(\"w2\", 90, 200, 5)\nsweep.add_variation(\"w1\", 0.1, 2, 10)\nsweep.add_calculation(calculation=\"dB(S(1,1))\", ranges={\"Freq\": \"2.5GHz\"})\nsweep.add_calculation(calculation=\"dB(S(1,1))\", ranges={\"Freq\": \"2.6GHz\"})"
      ]
    },
    {
      "cell_type": "markdown",
      "metadata": {},
      "source": [
        "## Create sensitivity analysis\nCreate an optimetrics sensitivity analysis with output calculations.\n\n"
      ]
    },
    {
      "cell_type": "code",
      "execution_count": null,
      "metadata": {
        "collapsed": false
      },
      "outputs": [],
      "source": [
        "sweep2 = hfss.optimizations.add(calculation=\"dB(S(1,1))\", ranges={\"Freq\": \"2.5GHz\"}, optim_type=\"Sensitivity\")\nsweep2.add_variation(\"w1\", 0.1, 3, 0.5)\nsweep2.add_calculation(calculation=\"dB(S(1,1))\", ranges={\"Freq\": \"2.6GHz\"})"
      ]
    },
    {
      "cell_type": "markdown",
      "metadata": {},
      "source": [
        "## Create optimization based on goals and calculations\nCreate an optimization analysis based on goals and calculations.\n\n"
      ]
    },
    {
      "cell_type": "code",
      "execution_count": null,
      "metadata": {
        "collapsed": false
      },
      "outputs": [],
      "source": [
        "sweep3 = hfss.optimizations.add(calculation=\"dB(S(1,1))\", ranges={\"Freq\": \"2.5GHz\"})\nsweep3.add_variation(\"w1\", 0.1, 3, 0.5)\nsweep3.add_goal(calculation=\"dB(S(1,1))\", ranges={\"Freq\": \"2.6GHz\"})\nsweep3.add_goal(calculation=\"dB(S(1,1))\", ranges={\"Freq\": (\"2.6GHz\", \"5GHz\")})\nsweep3.add_goal(\n    calculation=\"dB(S(1,1))\",\n    ranges={\"Freq\": (\"2.6GHz\", \"5GHz\")},\n    condition=\"Maximize\",\n)"
      ]
    },
    {
      "cell_type": "markdown",
      "metadata": {},
      "source": [
        "## Create DX optimization based on a goal and calculation\nCreate a DX (DesignXplorer) optimization based on a goal and a calculation.\n\n"
      ]
    },
    {
      "cell_type": "code",
      "execution_count": null,
      "metadata": {
        "collapsed": false
      },
      "outputs": [],
      "source": [
        "sweep4 = hfss.optimizations.add(calculation=\"dB(S(1,1))\", ranges={\"Freq\": \"2.5GHz\"}, optim_type=\"DesignExplorer\")\nsweep4.add_goal(calculation=\"dB(S(1,1))\", ranges={\"Freq\": \"2.6GHz\"})"
      ]
    },
    {
      "cell_type": "markdown",
      "metadata": {},
      "source": [
        "## Create DOE based on a goal and calculation\nCreate a DOE (Design of Experiments) based on a goal and a calculation.\n\n"
      ]
    },
    {
      "cell_type": "code",
      "execution_count": null,
      "metadata": {
        "collapsed": false
      },
      "outputs": [],
      "source": [
        "sweep5 = hfss.optimizations.add(calculation=\"dB(S(1,1))\", ranges={\"Freq\": \"2.5GHz\"}, optim_type=\"DXDOE\")"
      ]
    },
    {
      "cell_type": "markdown",
      "metadata": {},
      "source": [
        "## Create DOE based on a goal and calculation\nCreate a DOE based on a goal and a calculation.\n\n"
      ]
    },
    {
      "cell_type": "code",
      "execution_count": null,
      "metadata": {
        "collapsed": false
      },
      "outputs": [],
      "source": [
        "region = hfss.modeler.create_region()\nhfss.assign_radiation_boundary_to_objects(region)\nhfss.insert_infinite_sphere(name=\"Infinite_1\")\nsweep6 = hfss.optimizations.add(\n    calculation=\"RealizedGainTotal\",\n    solution=hfss.nominal_adaptive,\n    ranges={\"Freq\": \"5GHz\", \"Theta\": [\"0deg\", \"10deg\", \"20deg\"], \"Phi\": \"0deg\"},\n    context=\"Infinite_1\",\n)"
      ]
    },
    {
      "cell_type": "markdown",
      "metadata": {},
      "source": [
        "# Close AEDT\nAfter the simulaton completes, you can close AEDT or release it using the\n:func:`pyaedt.Desktop.release_desktop` method.\nAll methods provide for saving the project before closing.\n\n"
      ]
    },
    {
      "cell_type": "code",
      "execution_count": null,
      "metadata": {
        "collapsed": false
      },
      "outputs": [],
      "source": [
        "hfss.release_desktop()"
      ]
    }
  ],
  "metadata": {
    "kernelspec": {
      "display_name": "Python 3",
      "language": "python",
      "name": "python3"
    },
    "language_info": {
      "codemirror_mode": {
        "name": "ipython",
        "version": 3
      },
      "file_extension": ".py",
      "mimetype": "text/x-python",
      "name": "python",
      "nbconvert_exporter": "python",
      "pygments_lexer": "ipython3",
      "version": "3.10.9"
    }
  },
  "nbformat": 4,
  "nbformat_minor": 0
}