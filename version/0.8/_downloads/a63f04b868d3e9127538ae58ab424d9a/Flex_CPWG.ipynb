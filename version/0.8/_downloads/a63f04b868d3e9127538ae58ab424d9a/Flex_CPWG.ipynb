{
  "cells": [
    {
      "cell_type": "markdown",
      "metadata": {},
      "source": [
        "\n# HFSS: flex cable CPWG\nThis example shows how you can use PyAEDT to create a flex cable CPWG (coplanar waveguide with ground).\n"
      ]
    },
    {
      "cell_type": "markdown",
      "metadata": {},
      "source": [
        "## Perform required imports\nPerform required imports.\n\n"
      ]
    },
    {
      "cell_type": "code",
      "execution_count": null,
      "metadata": {
        "collapsed": false
      },
      "outputs": [],
      "source": [
        "import os\nfrom math import radians, sin, cos, sqrt\nimport pyaedt"
      ]
    },
    {
      "cell_type": "markdown",
      "metadata": {},
      "source": [
        "## Set AEDT version\nSet AEDT version.\n\n"
      ]
    },
    {
      "cell_type": "code",
      "execution_count": null,
      "metadata": {
        "collapsed": false
      },
      "outputs": [],
      "source": [
        "aedt_version = \"2024.1\""
      ]
    },
    {
      "cell_type": "markdown",
      "metadata": {},
      "source": [
        "## Set non-graphical mode\nSet non-graphical mode. \nYou can set ``non_graphical`` either to ``True`` or ``False``.\n\n"
      ]
    },
    {
      "cell_type": "code",
      "execution_count": null,
      "metadata": {
        "collapsed": false
      },
      "outputs": [],
      "source": [
        "non_graphical = False"
      ]
    },
    {
      "cell_type": "markdown",
      "metadata": {},
      "source": [
        "## Launch AEDT\nLaunch AEDT 2023 R2 in graphical mode.\n\n"
      ]
    },
    {
      "cell_type": "code",
      "execution_count": null,
      "metadata": {
        "collapsed": false
      },
      "outputs": [],
      "source": [
        "hfss = pyaedt.Hfss(specified_version=aedt_version,\n                   solution_type=\"DrivenTerminal\",\n                   new_desktop_session=True,\n                   non_graphical=non_graphical)\nhfss.change_material_override(True)\nhfss.change_automatically_use_causal_materials(True)\nhfss.create_open_region(\"100GHz\")\nhfss.modeler.model_units = \"mil\"\nhfss.mesh.assign_initial_mesh_from_slider(applycurvilinear=True)"
      ]
    },
    {
      "cell_type": "markdown",
      "metadata": {},
      "source": [
        "## Create variables\nCreate input variables for creating the flex cable CPWG.\n\n"
      ]
    },
    {
      "cell_type": "code",
      "execution_count": null,
      "metadata": {
        "collapsed": false
      },
      "outputs": [],
      "source": [
        "total_length = 300\ntheta = 120\nr = 100\nwidth = 3\nheight = 0.1\nspacing = 1.53\ngnd_width = 10\ngnd_thickness = 2\n\nxt = (total_length - r * radians(theta)) / 2"
      ]
    },
    {
      "cell_type": "markdown",
      "metadata": {},
      "source": [
        "## Create bend\nCreate the bend. The ``create_bending`` method creates a list of points for\nthe bend based on the curvature radius and extension.\n\n"
      ]
    },
    {
      "cell_type": "code",
      "execution_count": null,
      "metadata": {
        "collapsed": false
      },
      "outputs": [],
      "source": [
        "def create_bending(radius, extension=0):\n    position_list = [(-xt, 0, -radius), (0, 0, -radius)]\n\n    for i in [radians(i) for i in range(theta)] + [radians(theta + 0.000000001)]:\n        position_list.append((radius * sin(i), 0, -radius * cos(i)))\n\n    x1, y1, z1 = position_list[-1]\n    x0, y0, z0 = position_list[-2]\n\n    scale = (xt + extension) / sqrt((x1 - x0) ** 2 + (z1 - z0) ** 2)\n    x, y, z = (x1 - x0) * scale + x0, 0, (z1 - z0) * scale + z0\n\n    position_list[-1] = (x, y, z)\n    return position_list"
      ]
    },
    {
      "cell_type": "markdown",
      "metadata": {},
      "source": [
        "## Draw signal line\nDraw a signal line to create a bent signal wire.\n\n"
      ]
    },
    {
      "cell_type": "code",
      "execution_count": null,
      "metadata": {
        "collapsed": false
      },
      "outputs": [],
      "source": [
        "position_list = create_bending(r, 1)\nline = hfss.modeler.create_polyline(points=position_list, material=\"copper\", xsection_type=\"Rectangle\",\n                                    xsection_width=height, xsection_height=width)"
      ]
    },
    {
      "cell_type": "markdown",
      "metadata": {},
      "source": [
        "## Draw ground line\nDraw a ground line to create two bent ground wires.\n\n"
      ]
    },
    {
      "cell_type": "code",
      "execution_count": null,
      "metadata": {
        "collapsed": false
      },
      "outputs": [],
      "source": [
        "gnd_r = [(x, spacing + width / 2 + gnd_width / 2, z) for x, y, z in position_list]\ngnd_l = [(x, -y, z) for x, y, z in gnd_r]\n\ngnd_objs = []\nfor gnd in [gnd_r, gnd_l]:\n    x = hfss.modeler.create_polyline(points=gnd, material=\"copper\", xsection_type=\"Rectangle\", xsection_width=height,\n                                     xsection_height=gnd_width)\n    x.color = (255, 0, 0)\n    gnd_objs.append(x)"
      ]
    },
    {
      "cell_type": "markdown",
      "metadata": {},
      "source": [
        "## Draw dielectric\nDraw a dielectric to create a dielectric cable.\n\n"
      ]
    },
    {
      "cell_type": "code",
      "execution_count": null,
      "metadata": {
        "collapsed": false
      },
      "outputs": [],
      "source": [
        "position_list = create_bending(r + (height + gnd_thickness) / 2)\n\nfr4 = hfss.modeler.create_polyline(points=position_list, material=\"FR4_epoxy\", xsection_type=\"Rectangle\",\n                                   xsection_width=gnd_thickness, xsection_height=width + 2 * spacing + 2 * gnd_width)"
      ]
    },
    {
      "cell_type": "markdown",
      "metadata": {},
      "source": [
        "## Create bottom metals\nCreate the bottom metals.\n\n"
      ]
    },
    {
      "cell_type": "code",
      "execution_count": null,
      "metadata": {
        "collapsed": false
      },
      "outputs": [],
      "source": [
        "position_list = create_bending(r + height + gnd_thickness, 1)\n\nbot = hfss.modeler.create_polyline(points=position_list, material=\"copper\", xsection_type=\"Rectangle\",\n                                   xsection_width=height, xsection_height=width + 2 * spacing + 2 * gnd_width)"
      ]
    },
    {
      "cell_type": "markdown",
      "metadata": {},
      "source": [
        "## Create port interfaces\nCreate port interfaces (PEC enclosures).\n\n"
      ]
    },
    {
      "cell_type": "code",
      "execution_count": null,
      "metadata": {
        "collapsed": false
      },
      "outputs": [],
      "source": [
        "port_faces = []\nfor face, blockname in zip([fr4.top_face_z, fr4.bottom_face_x], [\"b1\", \"b2\"]):\n    xc, yc, zc = face.center\n    positions = [i.position for i in face.vertices]\n\n    port_sheet_list = [((x - xc) * 10 + xc, (y - yc) + yc, (z - zc) * 10 + zc) for x, y, z in positions]\n    s = hfss.modeler.create_polyline(port_sheet_list, cover_surface=True, close_surface=True)\n    center = [round(i, 6) for i in s.faces[0].center]\n\n    port_block = hfss.modeler.thicken_sheet(s.name, -5)\n    port_block.name = blockname\n    for f in port_block.faces:\n\n        if [round(i, 6) for i in f.center] == center:\n            port_faces.append(f)\n\n    port_block.material_name = \"PEC\"\n\n    for i in [line, bot] + gnd_objs:\n        i.subtract([port_block], True)\n\n    print(port_faces)"
      ]
    },
    {
      "cell_type": "markdown",
      "metadata": {},
      "source": [
        "## Create boundary condition\nCreates a Perfect E boundary condition.\n\n"
      ]
    },
    {
      "cell_type": "code",
      "execution_count": null,
      "metadata": {
        "collapsed": false
      },
      "outputs": [],
      "source": [
        "boundary = []\nfor face in [fr4.top_face_y, fr4.bottom_face_y]:\n    s = hfss.modeler.create_object_from_face(face)\n    boundary.append(s)\n    hfss.assign_perfecte_to_sheets(s)"
      ]
    },
    {
      "cell_type": "markdown",
      "metadata": {},
      "source": [
        "## Create ports\nCreates ports.\n\n"
      ]
    },
    {
      "cell_type": "code",
      "execution_count": null,
      "metadata": {
        "collapsed": false
      },
      "outputs": [],
      "source": [
        "for s, port_name in zip(port_faces, [\"1\", \"2\"]):\n    reference = [i.name for i in gnd_objs + boundary + [bot]] + [\"b1\", \"b2\"]\n\n    hfss.wave_port(s.id, reference=reference, name=port_name)"
      ]
    },
    {
      "cell_type": "markdown",
      "metadata": {},
      "source": [
        "## Create setup and sweep\nCreate the setup and sweep.\n\n"
      ]
    },
    {
      "cell_type": "code",
      "execution_count": null,
      "metadata": {
        "collapsed": false
      },
      "outputs": [],
      "source": [
        "setup = hfss.create_setup(\"setup1\")\nsetup[\"Frequency\"] = \"2GHz\"\nsetup.props[\"MaximumPasses\"] = 10\nsetup.props[\"MinimumConvergedPasses\"] = 2\nhfss.create_linear_count_sweep(setup=\"setup1\", units=\"GHz\", start_frequency=1e-1, stop_frequency=4,\n                               num_of_freq_points=101, name=\"sweep1\", save_fields=False, sweep_type=\"Interpolating\")"
      ]
    },
    {
      "cell_type": "markdown",
      "metadata": {},
      "source": [
        "## Plot model\nPlot the model.\n\n"
      ]
    },
    {
      "cell_type": "code",
      "execution_count": null,
      "metadata": {
        "collapsed": false
      },
      "outputs": [],
      "source": [
        "my_plot = hfss.plot(show=False, plot_air_objects=False)\nmy_plot.show_axes = False\nmy_plot.show_grid = False\nmy_plot.plot(\n    os.path.join(hfss.working_directory, \"Image.jpg\"),\n)"
      ]
    },
    {
      "cell_type": "markdown",
      "metadata": {},
      "source": [
        "## Analyze and release\nUncomment the ``hfss.analyze`` command if you want to analyze the\nmodel and release AEDT.\n\n"
      ]
    },
    {
      "cell_type": "code",
      "execution_count": null,
      "metadata": {
        "collapsed": false
      },
      "outputs": [],
      "source": [
        "hfss.release_desktop()"
      ]
    }
  ],
  "metadata": {
    "kernelspec": {
      "display_name": "Python 3",
      "language": "python",
      "name": "python3"
    },
    "language_info": {
      "codemirror_mode": {
        "name": "ipython",
        "version": 3
      },
      "file_extension": ".py",
      "mimetype": "text/x-python",
      "name": "python",
      "nbconvert_exporter": "python",
      "pygments_lexer": "ipython3",
      "version": "3.10.9"
    }
  },
  "nbformat": 4,
  "nbformat_minor": 0
}