{
  "cells": [
    {
      "cell_type": "markdown",
      "metadata": {},
      "source": [
        "# Maxwell 2D Electrostatic analysis\r\n\r\nThis example shows how you can use PyAEDT to create a Maxwell 2D\r\nelectrostatic analysis. It shows how to create the geometry, load\r\nmaterial properties from an Excel file and set up the mesh settings.\r\nMoreover, it focuses on post-processing operations, in particular how to\r\nplot field line traces, relevant for an electrostatic analysis.\r\n"
      ]
    },
    {
      "cell_type": "markdown",
      "metadata": {},
      "source": [
        "# Perform required imports\r\n\r\nPerform required imports.\r\n"
      ]
    },
    {
      "cell_type": "code",
      "execution_count": null,
      "metadata": {
        "collapsed": false
      },
      "outputs": [],
      "source": [
        "import ansys.aedt.core"
      ]
    },
    {
      "cell_type": "markdown",
      "metadata": {},
      "source": [
        "# Set AEDT version\r\n\r\nSet AEDT version.\r\n"
      ]
    },
    {
      "cell_type": "code",
      "execution_count": null,
      "metadata": {
        "collapsed": false
      },
      "outputs": [],
      "source": [
        "aedt_version = \"2024.2\""
      ]
    },
    {
      "cell_type": "markdown",
      "metadata": {},
      "source": [
        "# Initialize Maxwell 2D\r\n\r\nInitialize Maxwell 2D, providing the version, path to the project, and\r\nthe design name and type.\r\n"
      ]
    },
    {
      "cell_type": "code",
      "execution_count": null,
      "metadata": {
        "collapsed": false
      },
      "outputs": [],
      "source": [
        "setup_name = 'MySetupAuto'\nsolver = 'Electrostatic'\ndesign_name = 'Design1'\nproject_name = ansys.aedt.core.generate_unique_project_name()\nnon_graphical = False"
      ]
    },
    {
      "cell_type": "markdown",
      "metadata": {},
      "source": [
        "# Download .xlsx file\r\n\r\nSet local temporary folder to export the .xlsx file to.\r\n"
      ]
    },
    {
      "cell_type": "code",
      "execution_count": null,
      "metadata": {
        "collapsed": false
      },
      "outputs": [],
      "source": [
        "file_name_xlsx = ansys.aedt.core.downloads.download_file(\"field_line_traces\", \"my_copper.xlsx\")"
      ]
    },
    {
      "cell_type": "markdown",
      "metadata": {},
      "source": [
        "# Initialize dictionaries\r\n\r\nInitialize dictionaries that contain all the definitions for the design\r\nvariables.\r\n"
      ]
    },
    {
      "cell_type": "code",
      "execution_count": null,
      "metadata": {
        "collapsed": false
      },
      "outputs": [],
      "source": [
        "geom_params_circle = {\n    'circle_x0': '-10mm',\n    'circle_y0': '0mm',\n    'circle_z0': '0mm',\n    'circle_axis': 'Z',\n    'circle_radius': '1mm'\n}\n\ngeom_params_rectangle = {\n    'r_x0': '1mm',\n    'r_y0': '5mm',\n    'r_z0': '0mm',\n    'r_axis': 'Z',\n    'r_dx': '-1mm',\n    'r_dy': '-10mm'\n}"
      ]
    },
    {
      "cell_type": "markdown",
      "metadata": {},
      "source": [
        "# Launch Maxwell 2D\r\n\r\nLaunch Maxwell 2D and save the project.\r\n"
      ]
    },
    {
      "cell_type": "code",
      "execution_count": null,
      "metadata": {
        "collapsed": false
      },
      "outputs": [],
      "source": [
        "M2D = ansys.aedt.core.Maxwell2d(project=project_name,\n                       version=aedt_version,\n                       design=design_name,\n                       solution_type=solver,\n                       new_desktop=True,\n                       non_graphical=non_graphical\n                       )"
      ]
    },
    {
      "cell_type": "markdown",
      "metadata": {},
      "source": [
        "# Create object to access 2D modeler\r\n\r\nCreate the object `mod2D` to access the 2D modeler easily.\r\n"
      ]
    },
    {
      "cell_type": "code",
      "execution_count": null,
      "metadata": {
        "collapsed": false
      },
      "outputs": [],
      "source": [
        "mod2D = M2D.modeler\nmod2D.delete()\nmod2D.model_units = \"mm\""
      ]
    },
    {
      "cell_type": "markdown",
      "metadata": {},
      "source": [
        "# Define variables from dictionaries\r\n\r\nDefine design variables from the created dictionaries.\r\n"
      ]
    },
    {
      "cell_type": "code",
      "execution_count": null,
      "metadata": {
        "collapsed": false
      },
      "outputs": [],
      "source": [
        "for k, v in geom_params_circle.items():\n    M2D[k] = v\nfor k, v in geom_params_rectangle.items():\n    M2D[k] = v"
      ]
    },
    {
      "cell_type": "markdown",
      "metadata": {},
      "source": [
        "# Read materials from .xslx file\r\n\r\nRead materials from .xslx file into and set into design.\r\n"
      ]
    },
    {
      "cell_type": "code",
      "execution_count": null,
      "metadata": {
        "collapsed": false
      },
      "outputs": [],
      "source": [
        "mats = M2D.materials.import_materials_from_excel(file_name_xlsx)"
      ]
    },
    {
      "cell_type": "markdown",
      "metadata": {},
      "source": [
        "# Create design geometries\r\n\r\nCreate rectangle and a circle and assign the material read from the\r\n.xlsx file. Create two new polylines and a region.\r\n"
      ]
    },
    {
      "cell_type": "code",
      "execution_count": null,
      "metadata": {
        "collapsed": false
      },
      "outputs": [],
      "source": [
        "rect = mod2D.create_rectangle(origin=['r_x0', 'r_y0', 'r_z0'],\n                              sizes=['r_dx', 'r_dy', 0],\n                              name='Ground', matname=mats[0])\nrect.color = (0, 0, 255)  # rgb\nrect.solve_inside = False\n\ncircle = mod2D.create_circle(position=['circle_x0', 'circle_y0', 'circle_z0'], radius='circle_radius',\n                             num_sides='0', is_covered=True, name='Electrode', matname=mats[0])\ncircle.color = (0, 0, 255)  # rgb\ncircle.solve_inside = False\n\npoly1_points = [[-9, 2, 0], [-4, 2, 0], [2, -2, 0],[8, 2, 0]]\npoly2_points = [[-9, 0, 0], [9, 0, 0]]\npoly1_id = mod2D.create_polyline(points=poly1_points, segment_type='Spline', name='Poly1')\npoly2_id = mod2D.create_polyline(points=poly2_points, name='Poly2')\nmod2D.split([poly1_id, poly2_id], 'YZ', sides='NegativeOnly')\nmod2D.create_region([20, 100, 20, 100])"
      ]
    },
    {
      "cell_type": "markdown",
      "metadata": {},
      "source": [
        "# Define excitations\r\n\r\nAssign voltage excitations to rectangle and circle.\r\n"
      ]
    },
    {
      "cell_type": "code",
      "execution_count": null,
      "metadata": {
        "collapsed": false
      },
      "outputs": [],
      "source": [
        "M2D.assign_voltage(rect.id, amplitude=0, name='Ground')\nM2D.assign_voltage(circle.id, amplitude=50e6, name='50kV')"
      ]
    },
    {
      "cell_type": "markdown",
      "metadata": {},
      "source": [
        "# Create initial mesh settings\r\n\r\nAssign a surface mesh to the rectangle.\r\n"
      ]
    },
    {
      "cell_type": "code",
      "execution_count": null,
      "metadata": {
        "collapsed": false
      },
      "outputs": [],
      "source": [
        "M2D.mesh.assign_surface_mesh_manual(assignment=['Ground'], surface_deviation=0.001)"
      ]
    },
    {
      "cell_type": "markdown",
      "metadata": {},
      "source": [
        "# Create, validate and analyze the setup\r\n\r\nCreate, update, validate and analyze the setup.\r\n"
      ]
    },
    {
      "cell_type": "code",
      "execution_count": null,
      "metadata": {
        "collapsed": false
      },
      "outputs": [],
      "source": [
        "setup = M2D.create_setup(name=setup_name)\nsetup.props['PercentError'] = 0.5\nsetup.update()\nM2D.validate_simple()\nM2D.analyze_setup(setup_name)"
      ]
    },
    {
      "cell_type": "markdown",
      "metadata": {},
      "source": [
        "# Evaluate the E Field tangential component\r\n\r\nEvaluate the E Field tangential component along the given polylines. Add\r\nthese operations to the Named Expression list in Field Calculator.\r\n"
      ]
    },
    {
      "cell_type": "code",
      "execution_count": null,
      "metadata": {
        "collapsed": false
      },
      "outputs": [],
      "source": [
        "fields = M2D.ofieldsreporter\nfields.CalcStack(\"clear\")\nfields.EnterQty(\"E\")\nfields.EnterEdge(\"Poly1\")\nfields.CalcOp(\"Tangent\")\nfields.CalcOp(\"Dot\")\nfields.AddNamedExpression(\"e_tan_poly1\", \"Fields\")\nfields.EnterQty(\"E\")\nfields.EnterEdge(\"Poly2\")\nfields.CalcOp(\"Tangent\")\nfields.CalcOp(\"Dot\")\nfields.AddNamedExpression(\"e_tan_poly2\", \"Fields\")"
      ]
    },
    {
      "cell_type": "markdown",
      "metadata": {},
      "source": [
        "# Create Field Line Traces Plot\r\n\r\nCreate Field Line Traces Plot specifying as seeding faces the ground,\r\nthe electrode and the region and as `In surface objects` only the\r\nregion.\r\n"
      ]
    },
    {
      "cell_type": "code",
      "execution_count": null,
      "metadata": {
        "collapsed": false
      },
      "outputs": [],
      "source": [
        "plot = M2D.post.create_fieldplot_line_traces(seeding_faces=[\"Ground\", \"Electrode\", \"Region\"],\n                                             in_volume_tracing_objs=\"Region\", plot_name=\"LineTracesTest\")"
      ]
    },
    {
      "cell_type": "markdown",
      "metadata": {},
      "source": [
        "# Update Field Line Traces Plot\r\n\r\nUpdate field line traces plot. Update seeding points number, line style\r\nand line width.\r\n"
      ]
    },
    {
      "cell_type": "code",
      "execution_count": null,
      "metadata": {
        "collapsed": false
      },
      "outputs": [],
      "source": [
        "plot.SeedingPointsNumber = 20\nplot.LineStyle = \"Cylinder\"\nplot.LineWidth = 3\nplot.update()"
      ]
    },
    {
      "cell_type": "markdown",
      "metadata": {},
      "source": [
        "# Export field line traces plot\r\n\r\nExport field line traces plot. For field lint traces plot, the export\r\nfile format is `.fldplt`.\r\n"
      ]
    },
    {
      "cell_type": "code",
      "execution_count": null,
      "metadata": {
        "collapsed": false
      },
      "outputs": [],
      "source": [
        "M2D.post.export_field_plot(plot_name=\"LineTracesTest\", output_dir=M2D.toolkit_directory, file_format=\"fldplt\")"
      ]
    },
    {
      "cell_type": "markdown",
      "metadata": {},
      "source": [
        "# Export the mesh field plot\r\n\r\nExport the mesh in `aedtplt` format.\r\n"
      ]
    },
    {
      "cell_type": "code",
      "execution_count": null,
      "metadata": {
        "collapsed": false
      },
      "outputs": [],
      "source": [
        "M2D.post.export_mesh_obj(setup=M2D.nominal_adaptive)"
      ]
    },
    {
      "cell_type": "markdown",
      "metadata": {},
      "source": [
        "# Save project and close AEDT\r\n\r\nSave the project and close AEDT.\r\n"
      ]
    },
    {
      "cell_type": "code",
      "execution_count": null,
      "metadata": {
        "collapsed": false
      },
      "outputs": [],
      "source": [
        "M2D.save_project()\nM2D.release_desktop()"
      ]
    }
  ],
  "metadata": {
    "kernelspec": {
      "display_name": "Python 3",
      "language": "python",
      "name": "python3"
    },
    "language_info": {
      "codemirror_mode": {
        "name": "ipython",
        "version": 3
      },
      "file_extension": ".py",
      "mimetype": "text/x-python",
      "name": "python",
      "nbconvert_exporter": "python",
      "pygments_lexer": "ipython3",
      "version": "3.10.9"
    }
  },
  "nbformat": 4,
  "nbformat_minor": 0
}