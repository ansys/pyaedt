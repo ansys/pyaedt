{
  "cells": [
    {
      "cell_type": "markdown",
      "metadata": {},
      "source": [
        "# Maxwell 2D: transient winding analysis\r\n\r\nThis example shows how you can use PyAEDT to create a project in Maxwell\r\n2D and run a transient simulation. It runs only on Windows using\r\nCPython.\r\n\r\nThe following libraries are required for the advanced postprocessing\r\nfeatures used in this example:\r\n\r\n-   [Matplotlib](https://pypi.org/project/matplotlib/)\r\n-   [Numpty](https://pypi.org/project/numpy/)\r\n-   [PyVista](https://pypi.org/project/pyvista/)\r\n\r\nInstall these libraries with:\r\n\r\n``` \r\npip install numpy pyvista matplotlib\r\n```\r\n"
      ]
    },
    {
      "cell_type": "markdown",
      "metadata": {},
      "source": [
        "# Perform required imports\r\n\r\nPerform required imports.\r\n"
      ]
    },
    {
      "cell_type": "code",
      "execution_count": null,
      "metadata": {
        "collapsed": false
      },
      "outputs": [],
      "source": [
        "import os\nimport ansys.aedt.core\nimport tempfile"
      ]
    },
    {
      "cell_type": "markdown",
      "metadata": {},
      "source": [
        "# Set AEDT version\r\n\r\nSet AEDT version.\r\n"
      ]
    },
    {
      "cell_type": "code",
      "execution_count": null,
      "metadata": {
        "collapsed": false
      },
      "outputs": [],
      "source": [
        "aedt_version = \"2024.2\""
      ]
    },
    {
      "cell_type": "markdown",
      "metadata": {},
      "source": [
        "# Create temporary directory\r\n\r\nCreate temporary directory.\r\n"
      ]
    },
    {
      "cell_type": "code",
      "execution_count": null,
      "metadata": {
        "collapsed": false
      },
      "outputs": [],
      "source": [
        "temp_dir = tempfile.TemporaryDirectory(suffix=\".ansys\")"
      ]
    },
    {
      "cell_type": "markdown",
      "metadata": {},
      "source": [
        "# Set non-graphical mode\r\n\r\nSet non-graphical mode. You can set `non_graphical` either to `True` or\r\n`False`.\r\n"
      ]
    },
    {
      "cell_type": "code",
      "execution_count": null,
      "metadata": {
        "collapsed": false
      },
      "outputs": [],
      "source": [
        "non_graphical = False"
      ]
    },
    {
      "cell_type": "markdown",
      "metadata": {},
      "source": [
        "# Insert Maxwell 2D design and save project\r\n\r\nInsert a Maxwell 2D design and save the project.\r\n"
      ]
    },
    {
      "cell_type": "code",
      "execution_count": null,
      "metadata": {
        "collapsed": false
      },
      "outputs": [],
      "source": [
        "maxwell_2d = ansys.aedt.core.Maxwell2d(solution_type=\"TransientXY\", version=aedt_version, non_graphical=non_graphical,\n                              new_desktop=True, project=ansys.aedt.core.generate_unique_project_name())"
      ]
    },
    {
      "cell_type": "markdown",
      "metadata": {},
      "source": [
        "# Create rectangle and duplicate it\r\n\r\nCreate a rectangle and duplicate it.\r\n"
      ]
    },
    {
      "cell_type": "code",
      "execution_count": null,
      "metadata": {
        "collapsed": false
      },
      "outputs": [],
      "source": [
        "rect1 = maxwell_2d.modeler.create_rectangle([0, 0, 0], [10, 20], name=\"winding\", material=\"copper\")\nadded = rect1.duplicate_along_line([14, 0, 0])\nrect2 = maxwell_2d.modeler[added[0]]"
      ]
    },
    {
      "cell_type": "markdown",
      "metadata": {},
      "source": [
        "# Create air region\r\n\r\nCreate an air region.\r\n"
      ]
    },
    {
      "cell_type": "code",
      "execution_count": null,
      "metadata": {
        "collapsed": false
      },
      "outputs": [],
      "source": [
        "region = maxwell_2d.modeler.create_region([100, 100, 100, 100])"
      ]
    },
    {
      "cell_type": "markdown",
      "metadata": {},
      "source": [
        "# Assign windings and balloon\r\n\r\nAssigns windings to the sheets and a balloon to the air region.\r\n"
      ]
    },
    {
      "cell_type": "code",
      "execution_count": null,
      "metadata": {
        "collapsed": false
      },
      "outputs": [],
      "source": [
        "maxwell_2d.assign_winding([rect1.name, rect2.name], name=\"PHA\")\nmaxwell_2d.assign_balloon(region.edges)"
      ]
    },
    {
      "cell_type": "markdown",
      "metadata": {},
      "source": [
        "# Plot model\r\n\r\nPlot the model.\r\n"
      ]
    },
    {
      "cell_type": "code",
      "execution_count": null,
      "metadata": {
        "collapsed": false
      },
      "outputs": [],
      "source": [
        "maxwell_2d.plot(show=False, output_file=os.path.join(temp_dir.name, \"Image.jpg\"), plot_air_objects=True)"
      ]
    },
    {
      "cell_type": "markdown",
      "metadata": {},
      "source": [
        "# Create setup\r\n\r\nCreate the transient setup.\r\n"
      ]
    },
    {
      "cell_type": "code",
      "execution_count": null,
      "metadata": {
        "collapsed": false
      },
      "outputs": [],
      "source": [
        "setup = maxwell_2d.create_setup()\nsetup.props[\"StopTime\"] = \"0.02s\"\nsetup.props[\"TimeStep\"] = \"0.0002s\"\nsetup.props[\"SaveFieldsType\"] = \"Every N Steps\"\nsetup.props[\"N Steps\"] = \"1\"\nsetup.props[\"Steps From\"] = \"0s\"\nsetup.props[\"Steps To\"] = \"0.002s\""
      ]
    },
    {
      "cell_type": "markdown",
      "metadata": {},
      "source": [
        "# Create rectangular plot\r\n\r\nCreate a rectangular plot.\r\n"
      ]
    },
    {
      "cell_type": "code",
      "execution_count": null,
      "metadata": {
        "collapsed": false
      },
      "outputs": [],
      "source": [
        "maxwell_2d.post.create_report(\"InputCurrent(PHA)\", domain=\"Time\", primary_sweep_variable=\"Time\",\n                              plot_name=\"Winding Plot 1\")"
      ]
    },
    {
      "cell_type": "markdown",
      "metadata": {},
      "source": [
        "# Solve model\r\n\r\nSolve the model.\r\n"
      ]
    },
    {
      "cell_type": "code",
      "execution_count": null,
      "metadata": {
        "collapsed": false
      },
      "outputs": [],
      "source": [
        "maxwell_2d.analyze(use_auto_settings=False)"
      ]
    },
    {
      "cell_type": "markdown",
      "metadata": {},
      "source": [
        "# Create output and plot using PyVista\r\n\r\nCreate the output and plot it using PyVista.\r\n"
      ]
    },
    {
      "cell_type": "code",
      "execution_count": null,
      "metadata": {
        "collapsed": false
      },
      "outputs": [],
      "source": [
        "cutlist = [\"Global:XY\"]\nface_lists = rect1.faces\nface_lists += rect2.faces\ntimesteps = [str(i * 2e-4) + \"s\" for i in range(11)]\nid_list = [f.id for f in face_lists]\n\ngif = maxwell_2d.post.plot_animated_field(quantity=\"Mag_B\", assignment=id_list, plot_type=\"Surface\",\n                                          intrinsics={\"Time\": \"0s\"}, variation_variable=\"Time\",\n                                          variations=timesteps, show=False, export_gif=False)\ngif.isometric_view = False\ngif.camera_position = [15, 15, 80]\ngif.focal_point = [15, 15, 0]\ngif.roll_angle = 0\ngif.elevation_angle = 0\ngif.azimuth_angle = 0\n# Set off_screen to False to visualize the animation.\n# gif.off_screen = False\ngif.animate()"
      ]
    },
    {
      "cell_type": "markdown",
      "metadata": {},
      "source": [
        "# Generate plot outside AEDT\r\n\r\nGenerate the same plot outside AEDT.\r\n"
      ]
    },
    {
      "cell_type": "code",
      "execution_count": null,
      "metadata": {
        "collapsed": false
      },
      "outputs": [],
      "source": [
        "solutions = maxwell_2d.post.get_solution_data(\"InputCurrent(PHA)\", primary_sweep_variable=\"Time\")\nsolutions.plot()"
      ]
    },
    {
      "cell_type": "markdown",
      "metadata": {},
      "source": [
        "# Close AEDT\r\n\r\nClose AEDT.\r\n"
      ]
    },
    {
      "cell_type": "code",
      "execution_count": null,
      "metadata": {
        "collapsed": false
      },
      "outputs": [],
      "source": [
        "maxwell_2d.release_desktop()\ntemp_dir.cleanup()"
      ]
    }
  ],
  "metadata": {
    "kernelspec": {
      "display_name": "Python 3",
      "language": "python",
      "name": "python3"
    },
    "language_info": {
      "codemirror_mode": {
        "name": "ipython",
        "version": 3
      },
      "file_extension": ".py",
      "mimetype": "text/x-python",
      "name": "python",
      "nbconvert_exporter": "python",
      "pygments_lexer": "ipython3",
      "version": "3.10.9"
    }
  },
  "nbformat": 4,
  "nbformat_minor": 0
}