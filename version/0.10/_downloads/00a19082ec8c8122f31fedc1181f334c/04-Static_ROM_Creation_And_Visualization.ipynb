{
  "cells": [
    {
      "cell_type": "markdown",
      "metadata": {},
      "source": [
        "# Twin Builder: static ROM creation and simulation (2023 R2 beta)\r\n\r\nThis example shows how you can use PyAEDT to create a static ROM in Twin\r\nBuilder and run a Twin Builder time-domain simulation.\r\n\r\n::: note\r\n::: title\r\nNote\r\n:::\r\n\r\nThis example uses functionality only available in Twin Builder 2023 R2\r\nand later. For 2023 R2, the build date must be 8/7/2022 or later.\r\n:::\r\n"
      ]
    },
    {
      "cell_type": "markdown",
      "metadata": {},
      "source": [
        "# Perform required imports\r\n\r\nPerform required imports.\r\n"
      ]
    },
    {
      "cell_type": "code",
      "execution_count": null,
      "metadata": {
        "collapsed": false
      },
      "outputs": [],
      "source": [
        "import os\nimport math\nimport shutil\nimport matplotlib.pyplot as plt\nfrom ansys.aedt.core import TwinBuilder\nfrom ansys.aedt.core import generate_unique_project_name\nfrom ansys.aedt.core.generic.general_methods import generate_unique_folder_name\nfrom ansys.aedt.core import downloads\nfrom ansys.aedt.core.generic.settings import settings"
      ]
    },
    {
      "cell_type": "markdown",
      "metadata": {},
      "source": [
        "# Set AEDT version\r\n\r\nSet AEDT version.\r\n"
      ]
    },
    {
      "cell_type": "code",
      "execution_count": null,
      "metadata": {
        "collapsed": false
      },
      "outputs": [],
      "source": [
        "aedt_version = \"2024.2\""
      ]
    },
    {
      "cell_type": "markdown",
      "metadata": {},
      "source": [
        "# Select version and set launch options\r\n\r\nSelect the Twin Builder version and set launch options. The following\r\ncode launches Twin Builder 2023 R2 in graphical mode.\r\n\r\nYou can change the Boolean parameter `non_graphical` to `True` to launch\r\nTwin Builder in non-graphical mode. You can also change the Boolean\r\nparameter `new_thread` to `False` to launch Twin Builder in an existing\r\nAEDT session if one is running.\r\n"
      ]
    },
    {
      "cell_type": "code",
      "execution_count": null,
      "metadata": {
        "collapsed": false
      },
      "outputs": [],
      "source": [
        "non_graphical = False\nnew_thread = True"
      ]
    },
    {
      "cell_type": "markdown",
      "metadata": {},
      "source": [
        "# Set up input data\r\n\r\nDefine needed file name\r\n"
      ]
    },
    {
      "cell_type": "code",
      "execution_count": null,
      "metadata": {
        "collapsed": false
      },
      "outputs": [],
      "source": [
        "source_snapshot_data_zipfilename = \"Ex1_Fluent_StaticRom.zip\"\nsource_build_conf_file = \"SROMbuild.conf\"\nsource_props_conf_file = \"SROM_props.conf\"\n\n# Download data from example_data repository\nsource_data_folder = downloads.download_twin_builder_data(source_snapshot_data_zipfilename, True)\nsource_data_folder = downloads.download_twin_builder_data(source_build_conf_file, True)\nsource_data_folder = downloads.download_twin_builder_data(source_props_conf_file, True)\n\n# Uncomment the following line for local testing \n# source_data_folder = \"D:\\\\Scratch\\\\TempStatic\"\n\ndata_folder = os.path.join(source_data_folder, \"Ex04\")\n\n# Unzip training data and config file\ndownloads.unzip(os.path.join(source_data_folder, source_snapshot_data_zipfilename), data_folder)\nshutil.copyfile(os.path.join(source_data_folder, source_build_conf_file),\n                os.path.join(data_folder, source_build_conf_file))\nshutil.copyfile(os.path.join(source_data_folder, source_props_conf_file),\n                os.path.join(data_folder, source_props_conf_file))"
      ]
    },
    {
      "cell_type": "markdown",
      "metadata": {},
      "source": [
        "# Launch Twin Builder and build ROM component\r\n\r\nLaunch Twin Builder using an implicit declaration and add a new design\r\nwith a default setup for building the static ROM component.\r\n"
      ]
    },
    {
      "cell_type": "code",
      "execution_count": null,
      "metadata": {
        "collapsed": false
      },
      "outputs": [],
      "source": [
        "tb = TwinBuilder(project=generate_unique_project_name(), version=aedt_version,\n                 non_graphical=non_graphical, new_desktop=new_thread)\n\n# Switch the current desktop configuration and the schematic environment to \"Twin Builder\".\n# The Static ROM feature is only available with a twin builder license.\n# This and the restoring section at the end are not needed if the desktop is already configured as \"Twin Builder\".\ncurrent_desktop_config = tb._odesktop.GetDesktopConfiguration()\ncurrent_schematic_environment = tb._odesktop.GetSchematicEnvironment()\ntb._odesktop.SetDesktopConfiguration(\"Twin Builder\")\ntb._odesktop.SetSchematicEnvironment(1)\n\n# Get the static ROM builder object\nrom_manager = tb._odesign.GetROMManager()\nstatic_rom_builder = rom_manager.GetStaticROMBuilder()\n\n# Build the static ROM with specified configuration file\nconfpath = os.path.join(data_folder, source_build_conf_file)\nstatic_rom_builder.Build(confpath.replace('\\\\', '/'))\n\n# Test if ROM was created successfully\nstatic_rom_path = os.path.join(data_folder, 'StaticRom.rom')\nif os.path.exists(static_rom_path):\n    tb.logger.info(\"Built intermediate rom file successfully at: %s\", static_rom_path)\nelse:\n    tb.logger.error(\"Intermediate rom file not found at: %s\", static_rom_path)\n\n# Create the ROM component definition in Twin Builder\nrom_manager.CreateROMComponent(static_rom_path.replace('\\\\', '/'), 'staticrom')"
      ]
    },
    {
      "cell_type": "markdown",
      "metadata": {},
      "source": [
        "# Create schematic\r\n\r\nPlace components to create a schematic.\r\n"
      ]
    },
    {
      "cell_type": "code",
      "execution_count": null,
      "metadata": {
        "collapsed": false
      },
      "outputs": [],
      "source": [
        "# Define the grid distance for ease in calculations\nG = 0.00254\n\n# Place a dynamic ROM component\nrom1 = tb.modeler.schematic.create_component(\"ROM1\", \"\", \"staticrom\", [40 * G, 25 * G])\n\n# Place two excitation sources\nsource1 = tb.modeler.schematic.create_periodic_waveform_source(None, \"SINE\", 2.5, 0.01, 0, 7.5, 0, [20 * G, 29 * G])\nsource2 = tb.modeler.schematic.create_periodic_waveform_source(None, \"SINE\", 50, 0.02, 0, 450, 0, [20 * G, 25 * G])\n\n# Connect components with wires\n\ntb.modeler.schematic.create_wire([[22 * G, 29 * G], [33 * G, 29 * G]])\ntb.modeler.schematic.create_wire([[22 * G, 25 * G], [30 * G, 25 * G], [30 * G, 28 * G], [33 * G, 28 * G]])\n\n# Enable storage of views\n\nrom1.set_property(\"store_snapshots\", 1)\nrom1.set_property(\"view1_storage_period\", \"10s\")\nrom1.set_property(\"view2_storage_period\", \"10s\")\n\n# Zoom to fit the schematic\ntb.modeler.zoom_to_fit()"
      ]
    },
    {
      "cell_type": "markdown",
      "metadata": {},
      "source": [
        "# Parametrize transient setup\r\n\r\nParametrize the default transient setup by setting the end time.\r\n"
      ]
    },
    {
      "cell_type": "code",
      "execution_count": null,
      "metadata": {
        "collapsed": false
      },
      "outputs": [],
      "source": [
        "tb.set_end_time(\"300s\")\ntb.set_hmin(\"1s\")\ntb.set_hmax(\"1s\")"
      ]
    },
    {
      "cell_type": "markdown",
      "metadata": {},
      "source": [
        "# Solve transient setup\r\n\r\nSolve the transient setup. Skipping in case of documentation build.\r\n"
      ]
    },
    {
      "cell_type": "code",
      "execution_count": null,
      "metadata": {
        "collapsed": false
      },
      "outputs": [],
      "source": [
        "if os.getenv(\"PYAEDT_DOC_GENERATION\", \"False\") != \"1\":\n    tb.analyze_setup(\"TR\")"
      ]
    },
    {
      "cell_type": "markdown",
      "metadata": {},
      "source": [
        "# Get report data and plot using Matplotlib\r\n\r\nGet report data and plot it using Matplotlib. The following code gets\r\nand plots the values for the voltage on the pulse voltage source and the\r\nvalues for the output of the dynamic ROM.\r\n"
      ]
    },
    {
      "cell_type": "code",
      "execution_count": null,
      "metadata": {
        "collapsed": false
      },
      "outputs": [],
      "source": [
        "if os.getenv(\"PYAEDT_DOC_GENERATION\", \"False\") != \"1\":\n    e_value = \"ROM1.outfield_mode_1\"\n    x = tb.post.get_solution_data(e_value, \"TR\", \"Time\")\n    x.plot()\n    e_value = \"ROM1.outfield_mode_2\"\n    x = tb.post.get_solution_data(e_value, \"TR\", \"Time\")\n    x.plot()\n    e_value = \"SINE1.VAL\"\n    x = tb.post.get_solution_data(e_value, \"TR\", \"Time\")\n    x.plot()\n    e_value = \"SINE2.VAL\"\n    x = tb.post.get_solution_data(e_value, \"TR\", \"Time\")\n    x.plot()"
      ]
    },
    {
      "cell_type": "markdown",
      "metadata": {},
      "source": [
        "# Close Twin Builder\r\n\r\nAfter the simulation is completed, you can close Twin Builder or release\r\nit. All methods provide for saving the project before closing.\r\n"
      ]
    },
    {
      "cell_type": "code",
      "execution_count": null,
      "metadata": {
        "collapsed": false
      },
      "outputs": [],
      "source": [
        "# Clean up the downloaded data\nshutil.rmtree(source_data_folder)\n\n# Restore earlier desktop configuration and schematic environment\ntb._odesktop.SetDesktopConfiguration(current_desktop_config)\ntb._odesktop.SetSchematicEnvironment(current_schematic_environment)\n\ntb.release_desktop()"
      ]
    }
  ],
  "metadata": {
    "kernelspec": {
      "display_name": "Python 3",
      "language": "python",
      "name": "python3"
    },
    "language_info": {
      "codemirror_mode": {
        "name": "ipython",
        "version": 3
      },
      "file_extension": ".py",
      "mimetype": "text/x-python",
      "name": "python",
      "nbconvert_exporter": "python",
      "pygments_lexer": "ipython3",
      "version": "3.10.9"
    }
  },
  "nbformat": 4,
  "nbformat_minor": 0
}