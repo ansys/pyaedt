{
  "cells": [
    {
      "cell_type": "markdown",
      "metadata": {},
      "source": [
        "# Circuit: AMI PostProcessing\r\n\r\nThis example shows how you can use PyAEDT to perform advanced\r\npostprocessing of AMI simulations.\r\n"
      ]
    },
    {
      "cell_type": "markdown",
      "metadata": {},
      "source": [
        "# Perform required imports\r\n\r\nPerform required imports and set the local path to the path for PyAEDT.\r\n"
      ]
    },
    {
      "cell_type": "code",
      "execution_count": null,
      "metadata": {
        "collapsed": false
      },
      "outputs": [],
      "source": [
        "# sphinx_gallery_thumbnail_path = 'Resources/spectrum_plot.png'\n\nimport os\nfrom matplotlib import pyplot as plt\nimport numpy as np\n\nimport ansys.aedt.core\n\n# Set local path to path for PyAEDT\ntemp_folder = ansys.aedt.core.generate_unique_folder_name()\nproject_path = ansys.aedt.core.downloads.download_file(\"ami\", \"ami_usb.aedtz\", temp_folder)"
      ]
    },
    {
      "cell_type": "markdown",
      "metadata": {},
      "source": [
        "# Set AEDT version\r\n\r\nSet AEDT version.\r\n"
      ]
    },
    {
      "cell_type": "code",
      "execution_count": null,
      "metadata": {
        "collapsed": false
      },
      "outputs": [],
      "source": [
        "aedt_version = \"2024.2\""
      ]
    },
    {
      "cell_type": "markdown",
      "metadata": {},
      "source": [
        "# Set non-graphical mode\r\n\r\nSet non-graphical mode. You can set `non_graphical` either to `True` or\r\n`False`. The Boolean parameter `new_thread` defines whether to create a\r\nnew instance of AEDT or try to connect to an existing instance of it.\r\n"
      ]
    },
    {
      "cell_type": "code",
      "execution_count": null,
      "metadata": {
        "collapsed": false
      },
      "outputs": [],
      "source": [
        "non_graphical = False\nNewThread = True"
      ]
    },
    {
      "cell_type": "markdown",
      "metadata": {},
      "source": [
        "# Launch AEDT with Circuit and enable Pandas as the output format\r\n\r\nAll outputs obtained with the [get_solution_data]{.title-ref} method\r\nwill have the Pandas format. Launch AEDT with Circuit. The\r\n`ansys.aedt.core.Desktop`{.interpreted-text role=\"class\"} class\r\ninitializes AEDT and starts the specified version in the specified mode.\r\n"
      ]
    },
    {
      "cell_type": "code",
      "execution_count": null,
      "metadata": {
        "collapsed": false
      },
      "outputs": [],
      "source": [
        "ansys.aedt.core.settings.enable_pandas_output = True\ncir = ansys.aedt.core.Circuit(project=os.path.join(project_path), non_graphical=non_graphical,\n                     version=aedt_version, new_desktop=NewThread)"
      ]
    },
    {
      "cell_type": "markdown",
      "metadata": {},
      "source": [
        "# Solve AMI setup\r\n\r\nSolve the transient setup.\r\n"
      ]
    },
    {
      "cell_type": "code",
      "execution_count": null,
      "metadata": {
        "collapsed": false
      },
      "outputs": [],
      "source": [
        "cir.analyze()"
      ]
    },
    {
      "cell_type": "markdown",
      "metadata": {},
      "source": [
        "# Get AMI report\r\n\r\nGet AMI report data\r\n"
      ]
    },
    {
      "cell_type": "code",
      "execution_count": null,
      "metadata": {
        "collapsed": false
      },
      "outputs": [],
      "source": [
        "plot_name = \"WaveAfterProbe<b_input_43.int_ami_rx>\"\ncir.solution_type = \"NexximAMI\"\noriginal_data = cir.post.get_solution_data(expressions=plot_name, domain=\"Time\",\n                                           variations=cir.available_variations.nominal)\noriginal_data_value = original_data.full_matrix_real_imag[0]\noriginal_data_sweep = original_data.primary_sweep_values\nprint(original_data_value)"
      ]
    },
    {
      "cell_type": "markdown",
      "metadata": {},
      "source": [
        "# Plot data\r\n\r\nCreate a plot based on solution data.\r\n"
      ]
    },
    {
      "cell_type": "code",
      "execution_count": null,
      "metadata": {
        "collapsed": false
      },
      "outputs": [],
      "source": [
        "fig = original_data.plot()"
      ]
    },
    {
      "cell_type": "markdown",
      "metadata": {},
      "source": [
        "# Sample WaveAfterProbe waveform using receiver clock\r\n\r\nExtract waveform at specific clock time plus half unit interval\r\n"
      ]
    },
    {
      "cell_type": "code",
      "execution_count": null,
      "metadata": {
        "collapsed": false
      },
      "outputs": [],
      "source": [
        "probe_name = \"b_input_43\"\nsource_name = \"b_output4_42\"\nplot_type = \"WaveAfterProbe\"\nsetup_name = \"AMIAnalysis\"\nignore_bits = 100\nunit_interval = 0.1e-9\nsample_waveform = cir.post.sample_ami_waveform(setup=setup_name, probe=probe_name, source=source_name,\n                                               variation_list_w_value=cir.available_variations.nominal,\n                                               unit_interval=unit_interval, ignore_bits=ignore_bits,\n                                               plot_type=plot_type)"
      ]
    },
    {
      "cell_type": "markdown",
      "metadata": {},
      "source": [
        "# Plot waveform and samples\r\n\r\nCreate the plot from a start time to stop time in seconds\r\n"
      ]
    },
    {
      "cell_type": "code",
      "execution_count": null,
      "metadata": {
        "collapsed": false
      },
      "outputs": [],
      "source": [
        "tstop = 55e-9\ntstart = 50e-9\nscale_time = ansys.aedt.core.constants.unit_converter(1, unit_system=\"Time\", input_units=\"s\",\n                                             output_units=original_data.units_sweeps[\"Time\"])\nscale_data = ansys.aedt.core.constants.unit_converter(1, unit_system=\"Voltage\", input_units=\"V\",\n                                             output_units=original_data.units_data[plot_name])\n\ntstop_ns = scale_time * tstop\ntstart_ns = scale_time * tstart\n\nfor time in original_data_value[plot_name].index:\n    if tstart_ns <= time[0]:\n        start_index_original_data = time[0]\n        break\nfor time in original_data_value[plot_name][start_index_original_data:].index:\n    if time[0] >= tstop_ns:\n        stop_index_original_data = time[0]\n        break\nfor time in sample_waveform[0].index:\n    if tstart <= time:\n        sample_index = sample_waveform[0].index == time\n        start_index_waveform = sample_index.tolist().index(True)\n        break\nfor time in sample_waveform[0].index:\n    if time >= tstop:\n        sample_index = sample_waveform[0].index == time\n        stop_index_waveform = sample_index.tolist().index(True)\n        break\n\noriginal_data_zoom = original_data_value[start_index_original_data:stop_index_original_data]\nsampled_data_zoom = sample_waveform[0].values[start_index_waveform:stop_index_waveform] * scale_data\nsampled_time_zoom = sample_waveform[0].index[start_index_waveform:stop_index_waveform] * scale_time\n\nfig, ax = plt.subplots()\nax.plot(sampled_time_zoom, sampled_data_zoom, \"r*\")\nax.plot(np.array(list(original_data_zoom.index.values)), original_data_zoom.values)\nax.set_title('WaveAfterProbe')\nax.set_xlabel(original_data.units_sweeps[\"Time\"])\nax.set_ylabel(original_data.units_data[plot_name])\nplt.show()"
      ]
    },
    {
      "cell_type": "markdown",
      "metadata": {},
      "source": [
        "# Plot Slicer Scatter\r\n\r\nCreate the plot from a start time to stop time in seconds\r\n"
      ]
    },
    {
      "cell_type": "code",
      "execution_count": null,
      "metadata": {
        "collapsed": false
      },
      "outputs": [],
      "source": [
        "fig, ax2 = plt.subplots()\nax2.plot(sample_waveform[0].index, sample_waveform[0].values, \"r*\")\nax2.set_title('Slicer Scatter: WaveAfterProbe')\nax2.set_xlabel(\"s\")\nax2.set_ylabel(\"V\")\nplt.show()"
      ]
    },
    {
      "cell_type": "markdown",
      "metadata": {},
      "source": [
        "# Plot scatter histogram\r\n\r\nCreate the plot from a start time to stop time in seconds.\r\n"
      ]
    },
    {
      "cell_type": "code",
      "execution_count": null,
      "metadata": {
        "collapsed": false
      },
      "outputs": [],
      "source": [
        "fig, ax4 = plt.subplots()\nax4.set_title('Slicer Histogram: WaveAfterProbe')\nax4.hist(sample_waveform[0].values, orientation='horizontal')\nax4.set_ylabel(\"V\")\nax4.grid()\nplt.show()"
      ]
    },
    {
      "cell_type": "markdown",
      "metadata": {},
      "source": [
        "# Get Transient report\r\n\r\nGet Transient report data\r\n"
      ]
    },
    {
      "cell_type": "code",
      "execution_count": null,
      "metadata": {
        "collapsed": false
      },
      "outputs": [],
      "source": [
        "plot_name = \"V(b_input_43.int_ami_rx.eye_probe.out)\"\ncir.solution_type = \"NexximTransient\"\noriginal_data = cir.post.get_solution_data(expressions=plot_name,\n                                           domain=\"Time\",\n                                           setup_sweep_name=\"NexximTransient\",\n                                           variations=cir.available_variations.nominal)"
      ]
    },
    {
      "cell_type": "markdown",
      "metadata": {},
      "source": [
        "# Sample waveform using a user-defined clock\r\n\r\nExtract waveform at specific clock time plus half unit interval.\r\n"
      ]
    },
    {
      "cell_type": "code",
      "execution_count": null,
      "metadata": {
        "collapsed": false
      },
      "outputs": [],
      "source": [
        "original_data.enable_pandas_output = False\noriginal_data_value = original_data.data_real()\noriginal_data_sweep = original_data.primary_sweep_values\nwaveform_unit = original_data.units_data[plot_name]\nwaveform_sweep_unit = original_data.units_sweeps[\"Time\"]\ntics = np.arange(20e-9, 100e-9, 1e-10, dtype=float)\n\nsample_waveform = cir.post.sample_waveform(\n    waveform_data=original_data_value,\n    waveform_sweep=original_data_sweep,\n    waveform_unit=waveform_unit,\n    waveform_sweep_unit=waveform_sweep_unit,\n    unit_interval=unit_interval,\n    clock_tics=tics,\n    pandas_enabled=False,\n)"
      ]
    },
    {
      "cell_type": "markdown",
      "metadata": {},
      "source": [
        "# Plot waveform and samples\r\n\r\nCreate the plot from a start time to stop time in seconds.\r\n"
      ]
    },
    {
      "cell_type": "code",
      "execution_count": null,
      "metadata": {
        "collapsed": false
      },
      "outputs": [],
      "source": [
        "tstop = 40.0e-9\ntstart = 25.0e-9\nscale_time = ansys.aedt.core.constants.unit_converter(1, unit_system=\"Time\", input_units=\"s\",\n                                             output_units=waveform_sweep_unit)\nscale_data = ansys.aedt.core.constants.unit_converter(1, unit_system=\"Voltage\", input_units=\"V\",\n                                             output_units=waveform_unit)\n\ntstop_ns = scale_time * tstop\ntstart_ns = scale_time * tstart\n\nfor time in original_data_sweep:\n    if tstart_ns <= time:\n        start_index_original_data = original_data_sweep.index(time)\n        break\nfor time in original_data_sweep[start_index_original_data:]:\n    if time >= tstop_ns:\n        stop_index_original_data = original_data_sweep.index(time)\n        break\ncont = 0\nfor frame in sample_waveform:\n    if tstart <= frame[0]:\n        start_index_waveform = cont\n        break\n    cont += 1\nfor frame in sample_waveform[start_index_waveform:]:\n    if frame[0] >= tstop:\n        stop_index_waveform = cont\n        break\n    cont += 1\n\noriginal_data_zoom = original_data_value[start_index_original_data:stop_index_original_data]\noriginal_sweep_zoom = original_data_sweep[start_index_original_data:stop_index_original_data]\noriginal_data_zoom_array = np.array(list(map(list, zip(original_sweep_zoom, original_data_zoom))))\noriginal_data_zoom_array[:, 0] *= 1\nsampled_data_zoom_array = np.array(sample_waveform[start_index_waveform:stop_index_waveform])\nsampled_data_zoom_array[:, 0] *= scale_time\nsampled_data_zoom_array[:, 1] *= scale_data\n\nfig, ax = plt.subplots()\nax.plot(sampled_data_zoom_array[:, 0], sampled_data_zoom_array[:, 1], \"r*\")\nax.plot(original_sweep_zoom, original_data_zoom_array[:, 1])\nax.set_title(plot_name)\nax.set_xlabel(waveform_sweep_unit)\nax.set_ylabel(waveform_unit)\nplt.show()"
      ]
    },
    {
      "cell_type": "markdown",
      "metadata": {},
      "source": [
        "# Plot slicer scatter\r\n\r\nCreate the plot from a start time to stop time in seconds.\r\n"
      ]
    },
    {
      "cell_type": "code",
      "execution_count": null,
      "metadata": {
        "collapsed": false
      },
      "outputs": [],
      "source": [
        "sample_waveform_array = np.array(sample_waveform)\nfig, ax2 = plt.subplots()\nax2.plot(sample_waveform_array[:, 0], sample_waveform_array[:, 1], \"r*\")\nax2.set_title('Slicer Scatter: ' + plot_name)\nax2.set_xlabel(\"s\")\nax2.set_ylabel(\"V\")\nplt.show()"
      ]
    },
    {
      "cell_type": "markdown",
      "metadata": {},
      "source": [
        "# Save project and close AEDT\r\n\r\nSave the project and close AEDT.\r\n"
      ]
    },
    {
      "cell_type": "code",
      "execution_count": null,
      "metadata": {
        "collapsed": false
      },
      "outputs": [],
      "source": [
        "cir.save_project()\nprint(\"Project Saved in {}\".format(cir.project_path))\ncir.release_desktop()"
      ]
    }
  ],
  "metadata": {
    "kernelspec": {
      "display_name": "Python 3",
      "language": "python",
      "name": "python3"
    },
    "language_info": {
      "codemirror_mode": {
        "name": "ipython",
        "version": 3
      },
      "file_extension": ".py",
      "mimetype": "text/x-python",
      "name": "python",
      "nbconvert_exporter": "python",
      "pygments_lexer": "ipython3",
      "version": "3.10.9"
    }
  },
  "nbformat": 4,
  "nbformat_minor": 0
}