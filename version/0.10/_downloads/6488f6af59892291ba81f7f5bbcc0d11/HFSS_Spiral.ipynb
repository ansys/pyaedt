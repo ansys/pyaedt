{
  "cells": [
    {
      "cell_type": "markdown",
      "metadata": {},
      "source": [
        "# HFSS: spiral inductor\r\n\r\nThis example shows how you can use PyAEDT to create a spiral inductor,\r\nsolve it, and plot results.\r\n"
      ]
    },
    {
      "cell_type": "markdown",
      "metadata": {},
      "source": [
        "# Perform required imports\r\n\r\nPerform required imports.\r\n"
      ]
    },
    {
      "cell_type": "code",
      "execution_count": null,
      "metadata": {
        "collapsed": false
      },
      "outputs": [],
      "source": [
        "import os\nimport ansys.aedt.core\n\nproject_name = ansys.aedt.core.generate_unique_project_name(project_name=\"spiral\")"
      ]
    },
    {
      "cell_type": "markdown",
      "metadata": {},
      "source": [
        "# Set AEDT version\r\n\r\nSet AEDT version.\r\n"
      ]
    },
    {
      "cell_type": "code",
      "execution_count": null,
      "metadata": {
        "collapsed": false
      },
      "outputs": [],
      "source": [
        "aedt_version = \"2024.2\""
      ]
    },
    {
      "cell_type": "markdown",
      "metadata": {},
      "source": [
        "# Set non-graphical mode\r\n\r\nSet non-graphical mode. You can set `non_graphical` either to `True` or\r\n`False`.\r\n"
      ]
    },
    {
      "cell_type": "code",
      "execution_count": null,
      "metadata": {
        "collapsed": false
      },
      "outputs": [],
      "source": [
        "non_graphical = False"
      ]
    },
    {
      "cell_type": "markdown",
      "metadata": {},
      "source": [
        "# Launch HFSS\r\n\r\nLaunch HFSS 2023 R2 in non-graphical mode and change the units to\r\nmicrons.\r\n"
      ]
    },
    {
      "cell_type": "code",
      "execution_count": null,
      "metadata": {
        "collapsed": false
      },
      "outputs": [],
      "source": [
        "hfss = ansys.aedt.core.Hfss(version=aedt_version, non_graphical=non_graphical, design=\"A1\",\n                   new_desktop=True)\nhfss.solution_type = \"Modal\"\nhfss.modeler.model_units = \"um\"\np = hfss.modeler"
      ]
    },
    {
      "cell_type": "markdown",
      "metadata": {},
      "source": [
        "# Define variables\r\n\r\nDefine input variables. You can use the values that follow or edit them.\r\n"
      ]
    },
    {
      "cell_type": "code",
      "execution_count": null,
      "metadata": {
        "collapsed": false
      },
      "outputs": [],
      "source": [
        "rin = 10\nwidth = 2\nspacing = 1\nthickness = 1\nNp = 8\nNr = 10\ngap = 3\nhfss[\"Tsub\"] = \"6\" + hfss.modeler.model_units"
      ]
    },
    {
      "cell_type": "markdown",
      "metadata": {},
      "source": [
        "# Standardize polyline\r\n\r\nStandardize the polyline using the `create_line` method to fix the\r\nwidth, thickness, and material.\r\n"
      ]
    },
    {
      "cell_type": "code",
      "execution_count": null,
      "metadata": {
        "collapsed": false
      },
      "outputs": [],
      "source": [
        "def create_line(pts):\n    p.create_polyline(pts, material=\"copper\", xsection_type=\"Rectangle\", xsection_width=width,\n                      xsection_height=thickness)"
      ]
    },
    {
      "cell_type": "markdown",
      "metadata": {},
      "source": [
        "# Create spiral inductor\r\n\r\nCreate the spiral inductor. This spiral inductor is not parametric, but\r\nyou could parametrize it later.\r\n"
      ]
    },
    {
      "cell_type": "code",
      "execution_count": null,
      "metadata": {
        "collapsed": false
      },
      "outputs": [],
      "source": [
        "ind = hfss.modeler.create_spiral(\n    internal_radius=rin,\n    width=width,\n    spacing=spacing,\n    turns=Nr,\n    faces=Np,\n    thickness=thickness,\n    material=\"copper\",\n    name=\"Inductor1\",\n)"
      ]
    },
    {
      "cell_type": "markdown",
      "metadata": {},
      "source": [
        "# Center return path\r\n\r\nCenter the return path.\r\n"
      ]
    },
    {
      "cell_type": "code",
      "execution_count": null,
      "metadata": {
        "collapsed": false
      },
      "outputs": [],
      "source": [
        "x0, y0, z0 = ind.points[0]\nx1, y1, z1 = ind.points[-1]\ncreate_line([(x0 - width / 2, y0, -gap), (abs(x1) + 5, y0, -gap)])\np.create_box([x0 - width / 2, y0 - width / 2, -gap - thickness / 2], [width, width, gap + thickness], material=\"copper\")"
      ]
    },
    {
      "cell_type": "markdown",
      "metadata": {},
      "source": [
        "# Create port 1\r\n\r\nCreate port 1.\r\n"
      ]
    },
    {
      "cell_type": "code",
      "execution_count": null,
      "metadata": {
        "collapsed": false
      },
      "outputs": [],
      "source": [
        "p.create_rectangle(orientation=ansys.aedt.core.constants.PLANE.YZ,\n                   origin=[abs(x1) + 5, y0 - width / 2, -gap - thickness / 2],\n                   sizes=[width, \"-Tsub+{}{}\".format(gap, hfss.modeler.model_units)],\n                   name=\"port1\"\n                   )\nhfss.lumped_port(assignment=\"port1\", integration_line=ansys.aedt.core.constants.AXIS.Z)"
      ]
    },
    {
      "cell_type": "markdown",
      "metadata": {},
      "source": [
        "# Create port 2\r\n\r\nCreate port 2.\r\n"
      ]
    },
    {
      "cell_type": "code",
      "execution_count": null,
      "metadata": {
        "collapsed": false
      },
      "outputs": [],
      "source": [
        "create_line([(x1 + width / 2, y1, 0), (x1 - 5, y1, 0)])\np.create_rectangle(ansys.aedt.core.constants.PLANE.YZ, [x1 - 5, y1 - width / 2, -thickness / 2],\n                   [width, \"-Tsub\"],\n                   name=\"port2\")\nhfss.lumped_port(assignment=\"port2\", integration_line=ansys.aedt.core.constants.AXIS.Z)"
      ]
    },
    {
      "cell_type": "markdown",
      "metadata": {},
      "source": [
        "# Create silicon substrate and ground plane\r\n\r\nCreate the silicon substrate and the ground plane.\r\n"
      ]
    },
    {
      "cell_type": "code",
      "execution_count": null,
      "metadata": {
        "collapsed": false
      },
      "outputs": [],
      "source": [
        "p.create_box([x1 - 20, x1 - 20, \"-Tsub-{}{}/2\".format(thickness, hfss.modeler.model_units)],\n             [-2 * x1 + 40, -2 * x1 + 40, \"Tsub\"], material=\"silicon\")\n\np.create_box([x1 - 20, x1 - 20, \"-Tsub-{}{}/2\".format(thickness, hfss.modeler.model_units)],\n             [-2 * x1 + 40, -2 * x1 + 40, -0.1], material=\"PEC\")"
      ]
    },
    {
      "cell_type": "markdown",
      "metadata": {},
      "source": [
        "# Assign airbox and radiation\r\n\r\nAssign the airbox and the radiation.\r\n"
      ]
    },
    {
      "cell_type": "code",
      "execution_count": null,
      "metadata": {
        "collapsed": false
      },
      "outputs": [],
      "source": [
        "box = p.create_box(\n    [x1 - 20, x1 - 20, \"-Tsub-{}{}/2 - 0.1{}\".format(thickness, hfss.modeler.model_units, hfss.modeler.model_units)],\n    [-2 * x1 + 40, -2 * x1 + 40, 100], name=\"airbox\", material=\"air\")\n\nhfss.assign_radiation_boundary_to_objects(\"airbox\")"
      ]
    },
    {
      "cell_type": "markdown",
      "metadata": {},
      "source": [
        "# Assign material override\r\n\r\nAssign a material override so that the validation check does not fail.\r\n"
      ]
    },
    {
      "cell_type": "code",
      "execution_count": null,
      "metadata": {
        "collapsed": false
      },
      "outputs": [],
      "source": [
        "hfss.change_material_override()"
      ]
    },
    {
      "cell_type": "markdown",
      "metadata": {},
      "source": [
        "# Plot model\r\n\r\nPlot the model.\r\n"
      ]
    },
    {
      "cell_type": "code",
      "execution_count": null,
      "metadata": {
        "collapsed": false
      },
      "outputs": [],
      "source": [
        "hfss.plot(show=False, output_file=os.path.join(hfss.working_directory, \"Image.jpg\"), plot_air_objects=False)"
      ]
    },
    {
      "cell_type": "markdown",
      "metadata": {},
      "source": [
        "# Create setup\r\n\r\nCreate the setup and define a frequency sweep to solve the project.\r\n"
      ]
    },
    {
      "cell_type": "code",
      "execution_count": null,
      "metadata": {
        "collapsed": false
      },
      "outputs": [],
      "source": [
        "setup1 = hfss.create_setup(name=\"setup1\")\nsetup1.props[\"Frequency\"] = \"10GHz\"\nhfss.create_linear_count_sweep(setup=\"setup1\", units=\"GHz\", start_frequency=1e-3, stop_frequency=50,\n                               num_of_freq_points=451, sweep_type=\"Interpolating\")\nhfss.save_project()\nhfss.analyze()"
      ]
    },
    {
      "cell_type": "markdown",
      "metadata": {},
      "source": [
        "# Get report data\r\n\r\nGet report data and use the following formulas to calculate the\r\ninductance and quality factor.\r\n"
      ]
    },
    {
      "cell_type": "code",
      "execution_count": null,
      "metadata": {
        "collapsed": false
      },
      "outputs": [],
      "source": [
        "L_formula = \"1e9*im(1/Y(1,1))/(2*pi*freq)\"\nQ_formula = \"im(Y(1,1))/re(Y(1,1))\""
      ]
    },
    {
      "cell_type": "markdown",
      "metadata": {},
      "source": [
        "# Create output variable\r\n\r\nCreate output variable\r\n"
      ]
    },
    {
      "cell_type": "code",
      "execution_count": null,
      "metadata": {
        "collapsed": false
      },
      "outputs": [],
      "source": [
        "hfss.create_output_variable(\"L\", L_formula, solution=\"setup1 : LastAdaptive\")"
      ]
    },
    {
      "cell_type": "markdown",
      "metadata": {},
      "source": [
        "# Plot calculated values in Matplotlib\r\n\r\nPlot the calculated values in Matplotlib.\r\n"
      ]
    },
    {
      "cell_type": "code",
      "execution_count": null,
      "metadata": {
        "collapsed": false
      },
      "outputs": [],
      "source": [
        "data = hfss.post.get_solution_data([L_formula, Q_formula])\ndata.plot(curves=[L_formula, Q_formula], formula=\"re\", x_label=\"Freq\", y_label=\"L and Q\")"
      ]
    },
    {
      "cell_type": "markdown",
      "metadata": {},
      "source": [
        "# Export results to csv file\r\n\r\nExport results to csv file\r\n"
      ]
    },
    {
      "cell_type": "code",
      "execution_count": null,
      "metadata": {
        "collapsed": false
      },
      "outputs": [],
      "source": [
        "data.export_data_to_csv(os.path.join(hfss.toolkit_directory, \"output.csv\"))"
      ]
    },
    {
      "cell_type": "markdown",
      "metadata": {},
      "source": [
        "# Save project and close AEDT\r\n\r\nSave the project and close AEDT.\r\n"
      ]
    },
    {
      "cell_type": "code",
      "execution_count": null,
      "metadata": {
        "collapsed": false
      },
      "outputs": [],
      "source": [
        "hfss.save_project(project_name)\nhfss.release_desktop()"
      ]
    }
  ],
  "metadata": {
    "kernelspec": {
      "display_name": "Python 3",
      "language": "python",
      "name": "python3"
    },
    "language_info": {
      "codemirror_mode": {
        "name": "ipython",
        "version": 3
      },
      "file_extension": ".py",
      "mimetype": "text/x-python",
      "name": "python",
      "nbconvert_exporter": "python",
      "pygments_lexer": "ipython3",
      "version": "3.10.9"
    }
  },
  "nbformat": 4,
  "nbformat_minor": 0
}