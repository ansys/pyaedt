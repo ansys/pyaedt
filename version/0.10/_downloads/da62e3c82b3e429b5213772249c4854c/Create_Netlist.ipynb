{
  "cells": [
    {
      "cell_type": "markdown",
      "metadata": {},
      "source": [
        "# Circuit: netlist to schematic import\r\n\r\nThis example shows how you can import netlist data into a circuit\r\ndesign. HSPICE files are fully supported. Mentor files are partially\r\nsupported.\r\n"
      ]
    },
    {
      "cell_type": "markdown",
      "metadata": {},
      "source": [
        "# Perform required imports\r\n\r\nPerform required imports and set paths.\r\n"
      ]
    },
    {
      "cell_type": "code",
      "execution_count": null,
      "metadata": {
        "collapsed": false
      },
      "outputs": [],
      "source": [
        "import os\n\nimport ansys.aedt.core\n\nnetlist = ansys.aedt.core.downloads.download_netlist()\n\nproject_name = ansys.aedt.core.generate_unique_project_name()\nprint(project_name)"
      ]
    },
    {
      "cell_type": "markdown",
      "metadata": {},
      "source": [
        "# Set AEDT version\r\n\r\nSet AEDT version.\r\n"
      ]
    },
    {
      "cell_type": "code",
      "execution_count": null,
      "metadata": {
        "collapsed": false
      },
      "outputs": [],
      "source": [
        "aedt_version = \"2024.2\""
      ]
    },
    {
      "cell_type": "markdown",
      "metadata": {},
      "source": [
        "# Set non-graphical mode\r\n\r\nSet non-graphical mode. You can set `non_graphical` either to `True` or\r\n`False`. The Boolean parameter `NewThread` defines whether to create a\r\nnew instance of AEDT or try to connect to an existing instance of it.\r\n"
      ]
    },
    {
      "cell_type": "code",
      "execution_count": null,
      "metadata": {
        "collapsed": false
      },
      "outputs": [],
      "source": [
        "non_graphical = False\nNewThread = True"
      ]
    },
    {
      "cell_type": "markdown",
      "metadata": {},
      "source": [
        "# Launch AEDT with Circuit\r\n\r\nLaunch AEDT with Circuit. The\r\n`ansys.aedt.core.Desktop`{.interpreted-text role=\"class\"} class\r\ninitializes AEDT and starts it on the specified version in the specified\r\ngraphical mode.\r\n"
      ]
    },
    {
      "cell_type": "code",
      "execution_count": null,
      "metadata": {
        "collapsed": false
      },
      "outputs": [],
      "source": [
        "desktop = ansys.aedt.core.launch_desktop(aedt_version, non_graphical, NewThread)\naedtapp = ansys.aedt.core.Circuit(project=project_name)"
      ]
    },
    {
      "cell_type": "markdown",
      "metadata": {},
      "source": [
        "# Define variable\r\n\r\nDefine a design variable by using a `$` prefix.\r\n"
      ]
    },
    {
      "cell_type": "code",
      "execution_count": null,
      "metadata": {
        "collapsed": false
      },
      "outputs": [],
      "source": [
        "aedtapp[\"Voltage\"] = \"5\""
      ]
    },
    {
      "cell_type": "markdown",
      "metadata": {},
      "source": [
        "# Create schematic from netlist file\r\n\r\nCreate a schematic from a netlist file. The\r\n`create_schematic_from_netlist` method reads the netlist file and parses\r\nit. All components are parsed but only these categories are mapped: R,\r\nL, C, Q, U, J, V, and I.\r\n"
      ]
    },
    {
      "cell_type": "code",
      "execution_count": null,
      "metadata": {
        "collapsed": false
      },
      "outputs": [],
      "source": [
        "aedtapp.create_schematic_from_netlist(netlist)"
      ]
    },
    {
      "cell_type": "markdown",
      "metadata": {},
      "source": [
        "# Close project and release AEDT\r\n\r\nAfter adding any other desired functionalities, close the project and\r\nrelease AEDT.\r\n"
      ]
    },
    {
      "cell_type": "code",
      "execution_count": null,
      "metadata": {
        "collapsed": false
      },
      "outputs": [],
      "source": [
        "desktop.release_desktop()"
      ]
    }
  ],
  "metadata": {
    "kernelspec": {
      "display_name": "Python 3",
      "language": "python",
      "name": "python3"
    },
    "language_info": {
      "codemirror_mode": {
        "name": "ipython",
        "version": 3
      },
      "file_extension": ".py",
      "mimetype": "text/x-python",
      "name": "python",
      "nbconvert_exporter": "python",
      "pygments_lexer": "ipython3",
      "version": "3.10.9"
    }
  },
  "nbformat": 4,
  "nbformat_minor": 0
}