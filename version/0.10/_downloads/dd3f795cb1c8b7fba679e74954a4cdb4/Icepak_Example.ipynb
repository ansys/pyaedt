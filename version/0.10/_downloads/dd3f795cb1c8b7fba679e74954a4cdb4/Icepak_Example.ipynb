{
  "cells": [
    {
      "cell_type": "markdown",
      "metadata": {},
      "source": [
        "# Icepak: graphic card thermal analysis\r\n\r\nThis example shows how you can use PyAEDT to create a graphic card setup\r\nin Icepak and postprocess results. The example file is an Icepak project\r\nwith a model that is already created and has materials assigned.\r\n"
      ]
    },
    {
      "cell_type": "markdown",
      "metadata": {},
      "source": [
        "# Perform required imports\r\n\r\nPerform required imports.\r\n"
      ]
    },
    {
      "cell_type": "code",
      "execution_count": null,
      "metadata": {
        "collapsed": false
      },
      "outputs": [],
      "source": [
        "import os\nimport ansys.aedt.core"
      ]
    },
    {
      "cell_type": "markdown",
      "metadata": {},
      "source": [
        "# Set AEDT version\r\n\r\nSet AEDT version.\r\n"
      ]
    },
    {
      "cell_type": "code",
      "execution_count": null,
      "metadata": {
        "collapsed": false
      },
      "outputs": [],
      "source": [
        "aedt_version = \"2024.2\""
      ]
    },
    {
      "cell_type": "markdown",
      "metadata": {},
      "source": [
        "# Set non-graphical mode\r\n\r\nSet non-graphical mode. You can set `non_graphical` either to `True` or\r\n`False`.\r\n"
      ]
    },
    {
      "cell_type": "code",
      "execution_count": null,
      "metadata": {
        "collapsed": false
      },
      "outputs": [],
      "source": [
        "non_graphical = False"
      ]
    },
    {
      "cell_type": "markdown",
      "metadata": {},
      "source": [
        "# Download and open project\r\n\r\nDownload the project, open it, and save it to the temporary folder.\r\n"
      ]
    },
    {
      "cell_type": "code",
      "execution_count": null,
      "metadata": {
        "collapsed": false
      },
      "outputs": [],
      "source": [
        "temp_folder = ansys.aedt.core.generate_unique_folder_name()\nproject_temp_name = ansys.aedt.core.downloads.download_icepak(temp_folder)\n\nipk = ansys.aedt.core.Icepak(project=project_temp_name,\n                    version=aedt_version,\n                    new_desktop=True,\n                    non_graphical=non_graphical\n                    )\n\nipk.autosave_disable()"
      ]
    },
    {
      "cell_type": "markdown",
      "metadata": {},
      "source": [
        "# Plot model\r\n\r\nPlot the model.\r\n"
      ]
    },
    {
      "cell_type": "code",
      "execution_count": null,
      "metadata": {
        "collapsed": false
      },
      "outputs": [],
      "source": [
        "ipk.plot(show=False, output_file=os.path.join(temp_folder, \"Graphics_card.jpg\"), plot_air_objects=False)"
      ]
    },
    {
      "cell_type": "markdown",
      "metadata": {},
      "source": [
        "# Create source blocks\r\n\r\nCreate source blocks on the CPU and memories.\r\n"
      ]
    },
    {
      "cell_type": "code",
      "execution_count": null,
      "metadata": {
        "collapsed": false
      },
      "outputs": [],
      "source": [
        "ipk.create_source_block(\"CPU\", \"25W\")\nipk.create_source_block([\"MEMORY1\", \"MEMORY1_1\"], \"5W\")"
      ]
    },
    {
      "cell_type": "markdown",
      "metadata": {},
      "source": [
        "# Assign openings and grille\r\n\r\nAssign openings and a grille.\r\n"
      ]
    },
    {
      "cell_type": "code",
      "execution_count": null,
      "metadata": {
        "collapsed": false
      },
      "outputs": [],
      "source": [
        "region = ipk.modeler[\"Region\"]\nipk.assign_openings(air_faces=region.bottom_face_x.id)\nipk.assign_grille(air_faces=region.top_face_x.id, free_area_ratio=0.8)"
      ]
    },
    {
      "cell_type": "markdown",
      "metadata": {},
      "source": [
        "# Assign mesh regions\r\n\r\nAssign a mesh region to the heat sink and CPU.\r\n"
      ]
    },
    {
      "cell_type": "code",
      "execution_count": null,
      "metadata": {
        "collapsed": false
      },
      "outputs": [],
      "source": [
        "mesh_region = ipk.mesh.assign_mesh_region(assignment=[\"HEAT_SINK\", \"CPU\"])\nmesh_region.UserSpecifiedSettings = True\nmesh_region.MaxElementSizeX = \"3.35mm\"\nmesh_region.MaxElementSizeY = \"1.75mm\"\nmesh_region.MaxElementSizeZ = \"2.65mm\"\nmesh_region.MaxLevels = \"2\"\nmesh_region.update()"
      ]
    },
    {
      "cell_type": "markdown",
      "metadata": {},
      "source": [
        "# Assign point monitor\r\n\r\nAssign a point monitor and set it up.\r\n"
      ]
    },
    {
      "cell_type": "code",
      "execution_count": null,
      "metadata": {
        "collapsed": false
      },
      "outputs": [],
      "source": [
        "ipk.assign_point_monitor(point_position=[\"-35mm\", \"3.6mm\", \"-86mm\"], monitor_name=\"TemperatureMonitor1\")\nipk.assign_point_monitor(point_position=[\"80mm\", \"14.243mm\", \"-55mm\"], monitor_type=\"Speed\")\nsetup1 = ipk.create_setup()\nsetup1.props[\"Flow Regime\"] = \"Turbulent\"\nsetup1.props[\"Convergence Criteria - Max Iterations\"] = 5\nsetup1.props[\"Linear Solver Type - Pressure\"] = \"flex\"\nsetup1.props[\"Linear Solver Type - Temperature\"] = \"flex\"\nipk.save_project()"
      ]
    },
    {
      "cell_type": "markdown",
      "metadata": {},
      "source": [
        "# Solve project and postprocess\r\n\r\nSolve the project and plot temperatures.\r\n"
      ]
    },
    {
      "cell_type": "code",
      "execution_count": null,
      "metadata": {
        "collapsed": false
      },
      "outputs": [],
      "source": [
        "quantity_name = \"SurfTemperature\"\nsurflist = [i.id for i in ipk.modeler[\"CPU\"].faces]\nsurflist += [i.id for i in ipk.modeler[\"MEMORY1\"].faces]\nsurflist += [i.id for i in ipk.modeler[\"MEMORY1_1\"].faces]\nsurflist += [i.id for i in ipk.modeler[\"ALPHA_MAIN_PCB\"].faces]\n\nplot5 = ipk.post.create_fieldplot_surface(surflist, \"SurfTemperature\")\n\nipk.analyze()"
      ]
    },
    {
      "cell_type": "markdown",
      "metadata": {},
      "source": [
        "# Release AEDT\r\n\r\nRelease AEDT.\r\n"
      ]
    },
    {
      "cell_type": "code",
      "execution_count": null,
      "metadata": {
        "collapsed": false
      },
      "outputs": [],
      "source": [
        "ipk.release_desktop(True, True)"
      ]
    }
  ],
  "metadata": {
    "kernelspec": {
      "display_name": "Python 3",
      "language": "python",
      "name": "python3"
    },
    "language_info": {
      "codemirror_mode": {
        "name": "ipython",
        "version": 3
      },
      "file_extension": ".py",
      "mimetype": "text/x-python",
      "name": "python",
      "nbconvert_exporter": "python",
      "pygments_lexer": "ipython3",
      "version": "3.10.9"
    }
  },
  "nbformat": 4,
  "nbformat_minor": 0
}