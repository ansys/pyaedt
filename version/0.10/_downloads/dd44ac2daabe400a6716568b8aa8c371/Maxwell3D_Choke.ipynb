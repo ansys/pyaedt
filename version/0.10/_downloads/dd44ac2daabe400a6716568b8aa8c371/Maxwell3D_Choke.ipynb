{
  "cells": [
    {
      "cell_type": "markdown",
      "metadata": {},
      "source": [
        "# Maxwell 3D: choke setup\r\n\r\nThis example shows how you can use PyAEDT to create a choke setup in\r\nMaxwell 3D.\r\n"
      ]
    },
    {
      "cell_type": "markdown",
      "metadata": {},
      "source": [
        "# Perform required imports\r\n\r\nPerform required imports.\r\n"
      ]
    },
    {
      "cell_type": "code",
      "execution_count": null,
      "metadata": {
        "collapsed": false
      },
      "outputs": [],
      "source": [
        "import json\nimport os\nimport ansys.aedt.core\nimport tempfile"
      ]
    },
    {
      "cell_type": "markdown",
      "metadata": {},
      "source": [
        "# Set AEDT version\r\n\r\nSet AEDT version.\r\n"
      ]
    },
    {
      "cell_type": "code",
      "execution_count": null,
      "metadata": {
        "collapsed": false
      },
      "outputs": [],
      "source": [
        "aedt_version = \"2024.2\""
      ]
    },
    {
      "cell_type": "markdown",
      "metadata": {},
      "source": [
        "# Create temporary directory\r\n\r\nCreate temporary directory.\r\n"
      ]
    },
    {
      "cell_type": "code",
      "execution_count": null,
      "metadata": {
        "collapsed": false
      },
      "outputs": [],
      "source": [
        "temp_dir = tempfile.TemporaryDirectory(suffix=\".ansys\")"
      ]
    },
    {
      "cell_type": "markdown",
      "metadata": {},
      "source": [
        "# Set non-graphical mode\r\n\r\nSet non-graphical mode. You can define `non_graphical` either to `True`\r\nor `False`.\r\n"
      ]
    },
    {
      "cell_type": "code",
      "execution_count": null,
      "metadata": {
        "collapsed": false
      },
      "outputs": [],
      "source": [
        "non_graphical = False"
      ]
    },
    {
      "cell_type": "markdown",
      "metadata": {},
      "source": [
        "# Launch Maxwell3D\r\n\r\nLaunch Maxwell 3D 2023 R2 in graphical mode.\r\n"
      ]
    },
    {
      "cell_type": "code",
      "execution_count": null,
      "metadata": {
        "collapsed": false
      },
      "outputs": [],
      "source": [
        "m3d = ansys.aedt.core.Maxwell3d(project=ansys.aedt.core.generate_unique_project_name(),\n                       solution_type=\"EddyCurrent\",\n                       version=aedt_version,\n                       non_graphical=non_graphical,\n                       new_desktop=True\n                       )"
      ]
    },
    {
      "cell_type": "markdown",
      "metadata": {},
      "source": [
        "# Rules and information of use\r\n\r\nThe dictionary values containing the different parameters of the core\r\nand the windings that compose the choke. You must not change the main\r\nstructure of the dictionary. The dictionary has many primary keys,\r\nincluding `\"Number of Windings\"`, `\"Layer\"`, and `\"Layer Type\"`, that\r\nhave dictionaries as values. The keys of these dictionaries are\r\nsecondary keys of the dictionary values, such as `\"1\"`, `\"2\"`, `\"3\"`,\r\n`\"4\"`, and `\"Simple\"`.\r\n\r\nYou must not modify the primary or secondary keys. You can modify only\r\ntheir values. You must not change the data types for these keys. For the\r\ndictionaries from `\"Number of Windings\"` through `\"Wire Section\"`,\r\nvalues must be Boolean. Only one value per dictionary can be `\"True\"`.\r\nIf all values are `True`, only the first one remains set to `True`. If\r\nall values are `False`, the first value is chosen as the correct one by\r\ndefault. For the dictionaries from `\"Core\"` through `\"Inner Winding\"`,\r\nvalues must be strings, floats, or integers.\r\n\r\nDescriptions follow for primary keys:\r\n\r\n-   `\"Number of Windings\"`: Number of windings around the core\r\n-   `\"Layer\"`: Number of layers of all windings\r\n-   `\"Layer Type\"`: Whether layers of a winding are linked to each other\r\n-   `\"Similar Layer\"`: Whether layers of a winding have the same number\r\n    of turns and same spacing between turns\r\n-   `\"Mode\"`: When there are only two windows, whether they are in\r\n    common or differential mode\r\n-   `\"Wire Section\"`: Type of wire section and number of segments\r\n-   `\"Core\"`: Design of the core\r\n-   `\"Outer Winding\"`: Design of the first layer or outer layer of a\r\n    winding and the common parameters for all layers\r\n-   `\"Mid Winding\"`: Turns and turns spacing (\\\"Coil Pit\\\") for the\r\n    second or mid layer if it is necessary\r\n-   `\"Inner Winding\"`: Turns and turns spacing (\\\"Coil Pit\\\") for the\r\n    third or inner layer if it is necessary\r\n-   `\"Occupation(%)\"`: An informative parameter that is useless to\r\n    modify\r\n\r\nThe following parameter values work. You can modify them if you want.\r\n"
      ]
    },
    {
      "cell_type": "code",
      "execution_count": null,
      "metadata": {
        "collapsed": false
      },
      "outputs": [],
      "source": [
        "values = {\n    \"Number of Windings\": {\"1\": False, \"2\": False, \"3\": True, \"4\": False},\n    \"Layer\": {\"Simple\": False, \"Double\": False, \"Triple\": True},\n    \"Layer Type\": {\"Separate\": False, \"Linked\": True},\n    \"Similar Layer\": {\"Similar\": False, \"Different\": True},\n    \"Mode\": {\"Differential\": True, \"Common\": False},\n    \"Wire Section\": {\"None\": False, \"Hexagon\": False, \"Octagon\": True, \"Circle\": False},\n    \"Core\": {\n        \"Name\": \"Core\",\n        \"Material\": \"ferrite\",\n        \"Inner Radius\": 100,\n        \"Outer Radius\": 143,\n        \"Height\": 25,\n        \"Chamfer\": 0.8,\n    },\n    \"Outer Winding\": {\n        \"Name\": \"Winding\",\n        \"Material\": \"copper\",\n        \"Inner Radius\": 100,\n        \"Outer Radius\": 143,\n        \"Height\": 25,\n        \"Wire Diameter\": 5,\n        \"Turns\": 2,\n        \"Coil Pit(deg)\": 4,\n        \"Occupation(%)\": 0,\n    },\n    \"Mid Winding\": {\"Turns\": 7, \"Coil Pit(deg)\": 4, \"Occupation(%)\": 0},\n    \"Inner Winding\": {\"Turns\": 10, \"Coil Pit(deg)\": 4, \"Occupation(%)\": 0},\n}"
      ]
    },
    {
      "cell_type": "markdown",
      "metadata": {},
      "source": [
        "# Convert dictionary to JSON file\r\n\r\nCovert a dictionary to a JSON file. PyAEDT methods ask for the path of\r\nthe JSON file as an argument. You can convert a dictionary to a JSON\r\nfile.\r\n"
      ]
    },
    {
      "cell_type": "code",
      "execution_count": null,
      "metadata": {
        "collapsed": false
      },
      "outputs": [],
      "source": [
        "json_path = os.path.join(temp_dir.name, \"choke_example.json\")\n\nwith open(json_path, \"w\") as outfile:\n    json.dump(values, outfile)"
      ]
    },
    {
      "cell_type": "markdown",
      "metadata": {},
      "source": [
        "# Verify parameters of JSON file\r\n\r\nVerify parameters of the JSON file. The `check_choke_values` method\r\ntakes the JSON file path as an argument and does the following:\r\n\r\n-   Checks if the JSON file is correctly written (as explained in the\r\n    rules)\r\n-   Checks inequations on windings parameters to avoid having unintended\r\n    intersections\r\n"
      ]
    },
    {
      "cell_type": "code",
      "execution_count": null,
      "metadata": {
        "collapsed": false
      },
      "outputs": [],
      "source": [
        "dictionary_values = m3d.modeler.check_choke_values(json_path, create_another_file=False)\nprint(dictionary_values)"
      ]
    },
    {
      "cell_type": "markdown",
      "metadata": {},
      "source": [
        "# Create choke\r\n\r\nCreate the choke. The `create_choke` method takes the JSON file path as\r\nan argument.\r\n"
      ]
    },
    {
      "cell_type": "code",
      "execution_count": null,
      "metadata": {
        "collapsed": false
      },
      "outputs": [],
      "source": [
        "list_object = m3d.modeler.create_choke(json_path)\nprint(list_object)\ncore = list_object[1]\nfirst_winding_list = list_object[2]\nsecond_winding_list = list_object[3]\nthird_winding_list = list_object[4]"
      ]
    },
    {
      "cell_type": "markdown",
      "metadata": {},
      "source": [
        "# Assign excitations\r\n\r\nAssign excitations.\r\n"
      ]
    },
    {
      "cell_type": "code",
      "execution_count": null,
      "metadata": {
        "collapsed": false
      },
      "outputs": [],
      "source": [
        "first_winding_faces = m3d.modeler.get_object_faces(first_winding_list[0].name)\nsecond_winding_faces = m3d.modeler.get_object_faces(second_winding_list[0].name)\nthird_winding_faces = m3d.modeler.get_object_faces(third_winding_list[0].name)\nm3d.assign_current([first_winding_faces[-1]], amplitude=1000, phase=\"0deg\", swap_direction=False, name=\"phase_1_in\")\nm3d.assign_current([first_winding_faces[-2]], amplitude=1000, phase=\"0deg\", swap_direction=True, name=\"phase_1_out\")\nm3d.assign_current([second_winding_faces[-1]], amplitude=1000, phase=\"120deg\", swap_direction=False, name=\"phase_2_in\")\nm3d.assign_current([second_winding_faces[-2]], amplitude=1000, phase=\"120deg\", swap_direction=True, name=\"phase_2_out\")\nm3d.assign_current([third_winding_faces[-1]], amplitude=1000, phase=\"240deg\", swap_direction=False, name=\"phase_3_in\")\nm3d.assign_current([third_winding_faces[-2]], amplitude=1000, phase=\"240deg\", swap_direction=True, name=\"phase_3_out\")"
      ]
    },
    {
      "cell_type": "markdown",
      "metadata": {},
      "source": [
        "# Assign matrix\r\n\r\nAssign the matrix.\r\n"
      ]
    },
    {
      "cell_type": "code",
      "execution_count": null,
      "metadata": {
        "collapsed": false
      },
      "outputs": [],
      "source": [
        "m3d.assign_matrix([\"phase_1_in\", \"phase_2_in\", \"phase_3_in\"], matrix_name=\"current_matrix\")"
      ]
    },
    {
      "cell_type": "markdown",
      "metadata": {},
      "source": [
        "# Create mesh operation\r\n\r\nCreate the mesh operation.\r\n"
      ]
    },
    {
      "cell_type": "code",
      "execution_count": null,
      "metadata": {
        "collapsed": false
      },
      "outputs": [],
      "source": [
        "mesh = m3d.mesh\nmesh.assign_skin_depth(assignment=[first_winding_list[0], second_winding_list[0], third_winding_list[0]],\n                       skin_depth=0.20, triangulation_max_length=\"10mm\", name=\"skin_depth\")\nmesh.assign_surface_mesh_manual([first_winding_list[0], second_winding_list[0], third_winding_list[0]],\n                                surface_deviation=None, normal_dev=\"30deg\", name=\"surface_approx\")"
      ]
    },
    {
      "cell_type": "markdown",
      "metadata": {},
      "source": [
        "# Create boundaries\r\n\r\nCreate the boundaries. A region with openings is needed to run the\r\nanalysis.\r\n"
      ]
    },
    {
      "cell_type": "code",
      "execution_count": null,
      "metadata": {
        "collapsed": false
      },
      "outputs": [],
      "source": [
        "region = m3d.modeler.create_air_region(x_pos=100, y_pos=100, z_pos=100, x_neg=100, y_neg=100, z_neg=0)"
      ]
    },
    {
      "cell_type": "markdown",
      "metadata": {},
      "source": [
        "# Create setup\r\n\r\nCreate a setup with a sweep to run the simulation. Depending on your\r\nmachine\\'s computing power, the simulation can take some time to run.\r\n"
      ]
    },
    {
      "cell_type": "code",
      "execution_count": null,
      "metadata": {
        "collapsed": false
      },
      "outputs": [],
      "source": [
        "setup = m3d.create_setup(\"MySetup\")\nprint(setup.props)\nsetup.props[\"Frequency\"] = \"100kHz\"\nsetup.props[\"PercentRefinement\"] = 15\nsetup.props[\"MaximumPasses\"] = 10\nsetup.props[\"HasSweepSetup\"] = True\nsetup.add_eddy_current_sweep(range_type=\"LinearCount\", start=100, end=1000, count=12, units=\"kHz\", clear=True)"
      ]
    },
    {
      "cell_type": "markdown",
      "metadata": {},
      "source": [
        "# Save project\r\n\r\nSave the project.\r\n"
      ]
    },
    {
      "cell_type": "code",
      "execution_count": null,
      "metadata": {
        "collapsed": false
      },
      "outputs": [],
      "source": [
        "m3d.save_project()\nm3d.modeler.fit_all()\nm3d.plot(show=False, output_file=os.path.join(temp_dir.name, \"Image.jpg\"), plot_air_objects=True)"
      ]
    },
    {
      "cell_type": "markdown",
      "metadata": {},
      "source": [
        "# Close AEDT\r\n\r\nAfter the simulation completes, you can close AEDT or release it using\r\nthe `ansys.aedt.core.Desktop.release_desktop`{.interpreted-text\r\nrole=\"func\"} method. All methods provide for saving the project before\r\nclosing.\r\n"
      ]
    },
    {
      "cell_type": "code",
      "execution_count": null,
      "metadata": {
        "collapsed": false
      },
      "outputs": [],
      "source": [
        "m3d.release_desktop()\ntemp_dir.cleanup()"
      ]
    }
  ],
  "metadata": {
    "kernelspec": {
      "display_name": "Python 3",
      "language": "python",
      "name": "python3"
    },
    "language_info": {
      "codemirror_mode": {
        "name": "ipython",
        "version": 3
      },
      "file_extension": ".py",
      "mimetype": "text/x-python",
      "name": "python",
      "nbconvert_exporter": "python",
      "pygments_lexer": "ipython3",
      "version": "3.10.9"
    }
  },
  "nbformat": 4,
  "nbformat_minor": 0
}