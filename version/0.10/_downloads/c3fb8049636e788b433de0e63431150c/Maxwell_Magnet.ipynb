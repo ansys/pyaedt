{
  "cells": [
    {
      "cell_type": "markdown",
      "metadata": {},
      "source": [
        "# Maxwell 3D: magnet DC analysis\r\n\r\nThis example shows how you can use PyAEDT to create a Maxwell DC\r\nanalysis, compute mass center, and move coordinate systems.\r\n"
      ]
    },
    {
      "cell_type": "markdown",
      "metadata": {},
      "source": [
        "# Perform required imports\r\n\r\nPerform required imports.\r\n"
      ]
    },
    {
      "cell_type": "code",
      "execution_count": null,
      "metadata": {
        "collapsed": false
      },
      "outputs": [],
      "source": [
        "from ansys.aedt.core import Maxwell3d\nfrom ansys.aedt.core import generate_unique_project_name\nimport os\nimport tempfile"
      ]
    },
    {
      "cell_type": "markdown",
      "metadata": {},
      "source": [
        "# Set AEDT version\r\n\r\nSet AEDT version.\r\n"
      ]
    },
    {
      "cell_type": "code",
      "execution_count": null,
      "metadata": {
        "collapsed": false
      },
      "outputs": [],
      "source": [
        "aedt_version = \"2024.2\""
      ]
    },
    {
      "cell_type": "markdown",
      "metadata": {},
      "source": [
        "# Create temporary directory\r\n\r\nCreate temporary directory.\r\n"
      ]
    },
    {
      "cell_type": "code",
      "execution_count": null,
      "metadata": {
        "collapsed": false
      },
      "outputs": [],
      "source": [
        "temp_dir = tempfile.TemporaryDirectory(suffix=\".ansys\")"
      ]
    },
    {
      "cell_type": "markdown",
      "metadata": {},
      "source": [
        "# Set non-graphical mode\r\n\r\nSet non-graphical mode. You can set `non_graphical` either to `True` or\r\n`False`.\r\n"
      ]
    },
    {
      "cell_type": "code",
      "execution_count": null,
      "metadata": {
        "collapsed": false
      },
      "outputs": [],
      "source": [
        "non_graphical = False"
      ]
    },
    {
      "cell_type": "markdown",
      "metadata": {},
      "source": [
        "# Launch AEDT\r\n\r\nLaunch AEDT in graphical mode.\r\n"
      ]
    },
    {
      "cell_type": "code",
      "execution_count": null,
      "metadata": {
        "collapsed": false
      },
      "outputs": [],
      "source": [
        "m3d = Maxwell3d(project=generate_unique_project_name(),\n                version=aedt_version,\n                new_desktop=True,\n                non_graphical=non_graphical)"
      ]
    },
    {
      "cell_type": "markdown",
      "metadata": {},
      "source": [
        "# Set up Maxwell solution\r\n\r\nSet up the Maxwell solution to DC.\r\n"
      ]
    },
    {
      "cell_type": "code",
      "execution_count": null,
      "metadata": {
        "collapsed": false
      },
      "outputs": [],
      "source": [
        "m3d.solution_type = m3d.SOLUTIONS.Maxwell3d.ElectroDCConduction"
      ]
    },
    {
      "cell_type": "markdown",
      "metadata": {},
      "source": [
        "# Create magnet\r\n\r\nCreate a magnet.\r\n"
      ]
    },
    {
      "cell_type": "code",
      "execution_count": null,
      "metadata": {
        "collapsed": false
      },
      "outputs": [],
      "source": [
        "magnet = m3d.modeler.create_box(origin=[7, 4, 22], sizes=[10, 5, 30], name=\"Magnet\", material=\"copper\")"
      ]
    },
    {
      "cell_type": "markdown",
      "metadata": {},
      "source": [
        "# Create setup and assign voltage\r\n\r\nCreate the setup and assign a voltage.\r\n"
      ]
    },
    {
      "cell_type": "code",
      "execution_count": null,
      "metadata": {
        "collapsed": false
      },
      "outputs": [],
      "source": [
        "m3d.assign_voltage(magnet.faces, 0)\nm3d.create_setup()"
      ]
    },
    {
      "cell_type": "markdown",
      "metadata": {},
      "source": [
        "# Plot model\r\n\r\nPlot the model.\r\n"
      ]
    },
    {
      "cell_type": "code",
      "execution_count": null,
      "metadata": {
        "collapsed": false
      },
      "outputs": [],
      "source": [
        "m3d.plot(show=False, output_file=os.path.join(temp_dir.name, \"Image.jpg\"), plot_air_objects=True)"
      ]
    },
    {
      "cell_type": "markdown",
      "metadata": {},
      "source": [
        "# Solve setup\r\n\r\nSolve the setup.\r\n"
      ]
    },
    {
      "cell_type": "code",
      "execution_count": null,
      "metadata": {
        "collapsed": false
      },
      "outputs": [],
      "source": [
        "m3d.analyze()"
      ]
    },
    {
      "cell_type": "markdown",
      "metadata": {},
      "source": [
        "# Compute mass center\r\n\r\nCompute mass center using the fields calculator.\r\n"
      ]
    },
    {
      "cell_type": "code",
      "execution_count": null,
      "metadata": {
        "collapsed": false
      },
      "outputs": [],
      "source": [
        "m3d.post.ofieldsreporter.EnterScalarFunc(\"X\")\nm3d.post.ofieldsreporter.EnterVol(magnet.name)\nm3d.post.ofieldsreporter.CalcOp(\"Mean\")\nm3d.post.ofieldsreporter.AddNamedExpression(\"CM_X\", \"Fields\")\nm3d.post.ofieldsreporter.EnterScalarFunc(\"Y\")\nm3d.post.ofieldsreporter.EnterVol(magnet.name)\nm3d.post.ofieldsreporter.CalcOp(\"Mean\")\nm3d.post.ofieldsreporter.AddNamedExpression(\"CM_Y\", \"Fields\")\nm3d.post.ofieldsreporter.EnterScalarFunc(\"Z\")\nm3d.post.ofieldsreporter.EnterVol(magnet.name)\nm3d.post.ofieldsreporter.CalcOp(\"Mean\")\nm3d.post.ofieldsreporter.AddNamedExpression(\"CM_Z\", \"Fields\")\nm3d.post.ofieldsreporter.CalcStack(\"clear\")"
      ]
    },
    {
      "cell_type": "markdown",
      "metadata": {},
      "source": [
        "# Get mass center\r\n\r\nGet mass center using the fields calculator.\r\n"
      ]
    },
    {
      "cell_type": "code",
      "execution_count": null,
      "metadata": {
        "collapsed": false
      },
      "outputs": [],
      "source": [
        "xval = m3d.post.get_scalar_field_value(\"CM_X\")\nyval = m3d.post.get_scalar_field_value(\"CM_Y\")\nzval = m3d.post.get_scalar_field_value(\"CM_Z\")"
      ]
    },
    {
      "cell_type": "markdown",
      "metadata": {},
      "source": [
        "# Create variables\r\n\r\nCreate variables with mass center values.\r\n"
      ]
    },
    {
      "cell_type": "code",
      "execution_count": null,
      "metadata": {
        "collapsed": false
      },
      "outputs": [],
      "source": [
        "m3d[magnet.name + \"x\"] = str(xval * 1e3) + \"mm\"\nm3d[magnet.name + \"y\"] = str(yval * 1e3) + \"mm\"\nm3d[magnet.name + \"z\"] = str(zval * 1e3) + \"mm\""
      ]
    },
    {
      "cell_type": "markdown",
      "metadata": {},
      "source": [
        "# Create coordinate system\r\n\r\nCreate a parametric coordinate system.\r\n"
      ]
    },
    {
      "cell_type": "code",
      "execution_count": null,
      "metadata": {
        "collapsed": false
      },
      "outputs": [],
      "source": [
        "cs1 = m3d.modeler.create_coordinate_system(\n    [magnet.name + \"x\", magnet.name + \"y\", magnet.name + \"z\"], reference_cs=\"Global\", name=magnet.name + \"CS\"\n)"
      ]
    },
    {
      "cell_type": "markdown",
      "metadata": {},
      "source": [
        "# Save and close\r\n\r\nSave the project and close AEDT.\r\n"
      ]
    },
    {
      "cell_type": "code",
      "execution_count": null,
      "metadata": {
        "collapsed": false
      },
      "outputs": [],
      "source": [
        "m3d.save_project()\nm3d.release_desktop(close_projects=True, close_desktop=True)\ntemp_dir.cleanup()"
      ]
    }
  ],
  "metadata": {
    "kernelspec": {
      "display_name": "Python 3",
      "language": "python",
      "name": "python3"
    },
    "language_info": {
      "codemirror_mode": {
        "name": "ipython",
        "version": 3
      },
      "file_extension": ".py",
      "mimetype": "text/x-python",
      "name": "python",
      "nbconvert_exporter": "python",
      "pygments_lexer": "ipython3",
      "version": "3.10.9"
    }
  },
  "nbformat": 4,
  "nbformat_minor": 0
}