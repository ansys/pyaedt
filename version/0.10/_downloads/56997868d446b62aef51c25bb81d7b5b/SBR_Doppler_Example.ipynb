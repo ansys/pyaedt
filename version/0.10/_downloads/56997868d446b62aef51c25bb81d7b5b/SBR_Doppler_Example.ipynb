{
  "cells": [
    {
      "cell_type": "markdown",
      "metadata": {},
      "source": [
        "# SBR+: doppler setup\r\n\r\nThis example shows how you can use PyAEDT to create a multipart scenario\r\nin HFSS SBR+ and set up a doppler analysis.\r\n"
      ]
    },
    {
      "cell_type": "markdown",
      "metadata": {},
      "source": [
        "# Perform required imports\r\n\r\nPerform required imports.\r\n"
      ]
    },
    {
      "cell_type": "code",
      "execution_count": null,
      "metadata": {
        "collapsed": false
      },
      "outputs": [],
      "source": [
        "import os\nimport ansys.aedt.core"
      ]
    },
    {
      "cell_type": "markdown",
      "metadata": {},
      "source": [
        "# Set AEDT version\r\n\r\nSet AEDT version.\r\n"
      ]
    },
    {
      "cell_type": "code",
      "execution_count": null,
      "metadata": {
        "collapsed": false
      },
      "outputs": [],
      "source": [
        "aedt_version = \"2024.2\"\n\n# Launch AEDT\n# ~~~~~~~~~~~\n# Launch AEDT.\n\nprojectname = \"MicroDoppler_with_ADP\"\ndesignname = \"doppler\"\nlibrary_path = ansys.aedt.core.downloads.download_multiparts()"
      ]
    },
    {
      "cell_type": "markdown",
      "metadata": {},
      "source": [
        "# Set non-graphical mode\r\n\r\nSet non-graphical mode. You can set `non_graphical` either to `True` or\r\n`False`.\r\n"
      ]
    },
    {
      "cell_type": "code",
      "execution_count": null,
      "metadata": {
        "collapsed": false
      },
      "outputs": [],
      "source": [
        "non_graphical = False"
      ]
    },
    {
      "cell_type": "markdown",
      "metadata": {},
      "source": [
        "# Download and open project\r\n\r\nDownload and open the project.\r\n"
      ]
    },
    {
      "cell_type": "code",
      "execution_count": null,
      "metadata": {
        "collapsed": false
      },
      "outputs": [],
      "source": [
        "project_name = ansys.aedt.core.generate_unique_project_name(project_name=\"doppler\")\n\n# Instantiate the application.\napp = ansys.aedt.core.Hfss(\n    version=aedt_version,\n    solution_type=\"SBR+\",\n    new_desktop=True,\n    project=project_name,\n    close_on_exit=True,\n    non_graphical=non_graphical\n)\n\napp.autosave_disable()"
      ]
    },
    {
      "cell_type": "markdown",
      "metadata": {},
      "source": [
        "# Save project and rename design\r\n\r\nSave the project to the temporary folder and rename the design.\r\n"
      ]
    },
    {
      "cell_type": "code",
      "execution_count": null,
      "metadata": {
        "collapsed": false
      },
      "outputs": [],
      "source": [
        "app.save_project()\napp.rename_design(designname)"
      ]
    },
    {
      "cell_type": "markdown",
      "metadata": {},
      "source": [
        "# Set up library paths\r\n\r\nSet up library paths to 3D components.\r\n"
      ]
    },
    {
      "cell_type": "code",
      "execution_count": null,
      "metadata": {
        "collapsed": false
      },
      "outputs": [],
      "source": [
        "actor_lib = os.path.join(library_path, \"actor_library\")\nenv_lib = os.path.join(library_path, \"environment_library\")\nradar_lib = os.path.join(library_path, \"radar_modules\")\nenv_folder = os.path.join(env_lib, \"road1\")\nperson_folder = os.path.join(actor_lib, \"person3\")\ncar_folder = os.path.join(actor_lib, \"vehicle1\")\nbike_folder = os.path.join(actor_lib, \"bike1\")\nbird_folder = os.path.join(actor_lib, \"bird1\")"
      ]
    },
    {
      "cell_type": "markdown",
      "metadata": {},
      "source": [
        "# Define environment\r\n\r\nDefine the background environment.\r\n"
      ]
    },
    {
      "cell_type": "code",
      "execution_count": null,
      "metadata": {
        "collapsed": false
      },
      "outputs": [],
      "source": [
        "road1 = app.modeler.add_environment(input_dir=env_folder, name=\"Bari\")\nprim = app.modeler"
      ]
    },
    {
      "cell_type": "markdown",
      "metadata": {},
      "source": [
        "# Place actors\r\n\r\nPlace actors in the environment. This code places persons, birds, bikes,\r\nand cars in the environment.\r\n"
      ]
    },
    {
      "cell_type": "code",
      "execution_count": null,
      "metadata": {
        "collapsed": false
      },
      "outputs": [],
      "source": [
        "person1 = app.modeler.add_person(input_dir=person_folder, speed=1.0, global_offset=[25, 1.5, 0], yaw=180,\n                                 name=\"Massimo\")\nperson2 = app.modeler.add_person(input_dir=person_folder, speed=1.0, global_offset=[25, 2.5, 0], yaw=180, name=\"Devin\")\ncar1 = app.modeler.add_vehicle(input_dir=car_folder, speed=8.7, global_offset=[3, -2.5, 0], name=\"LuxuryCar\")\nbike1 = app.modeler.add_vehicle(input_dir=bike_folder, speed=2.1, global_offset=[24, 3.6, 0], yaw=180,\n                                name=\"Alberto_in_bike\")\nbird1 = app.modeler.add_bird(input_dir=bird_folder, speed=1.0, global_offset=[19, 4, 3], yaw=120, pitch=-5,\n                             flapping_rate=30, name=\"Pigeon\")\nbird2 = app.modeler.add_bird(input_dir=bird_folder, speed=1.0, global_offset=[6, 2, 3], yaw=-60, pitch=10, name=\"Eagle\")"
      ]
    },
    {
      "cell_type": "markdown",
      "metadata": {},
      "source": [
        "# Place radar\r\n\r\nPlace radar on the car. The radar is created relative to the car\\'s\r\ncoordinate system.\r\n"
      ]
    },
    {
      "cell_type": "code",
      "execution_count": null,
      "metadata": {
        "collapsed": false
      },
      "outputs": [],
      "source": [
        "radar1 = app.create_sbr_radar_from_json(radar_file=radar_lib, name=\"Example_1Tx_1Rx\", offset=[2.57, 0, 0.54],\n                                        use_relative_cs=True, relative_cs_name=car1.cs_name)"
      ]
    },
    {
      "cell_type": "markdown",
      "metadata": {},
      "source": [
        "# Create setup\r\n\r\nCreate setup and validate it. The `create_sbr_pulse_doppler_setup`\r\nmethod creates a setup and a parametric sweep on the time variable with\r\na duration of two seconds. The step is computed automatically from CPI.\r\n"
      ]
    },
    {
      "cell_type": "code",
      "execution_count": null,
      "metadata": {
        "collapsed": false
      },
      "outputs": [],
      "source": [
        "setup, sweep = app.create_sbr_pulse_doppler_setup(sweep_time_duration=2)\napp.set_sbr_current_sources_options()\napp.validate_simple()"
      ]
    },
    {
      "cell_type": "markdown",
      "metadata": {},
      "source": [
        "# Plot model\r\n\r\nPlot the model.\r\n"
      ]
    },
    {
      "cell_type": "code",
      "execution_count": null,
      "metadata": {
        "collapsed": false
      },
      "outputs": [],
      "source": [
        "app.plot(show=False, output_file=os.path.join(app.working_directory, \"Image.jpg\"), plot_air_objects=True)"
      ]
    },
    {
      "cell_type": "markdown",
      "metadata": {},
      "source": [
        "# Solve and release AEDT\r\n\r\nSolve and release AEDT. To solve, uncomment the `app.analyze_setup`\r\ncommand to activate the simulation.\r\n"
      ]
    },
    {
      "cell_type": "code",
      "execution_count": null,
      "metadata": {
        "collapsed": false
      },
      "outputs": [],
      "source": [
        "# app.analyze_setup(sweep.name)\napp.save_project()\napp.release_desktop(close_projects=True, close_desktop=True)"
      ]
    }
  ],
  "metadata": {
    "kernelspec": {
      "display_name": "Python 3",
      "language": "python",
      "name": "python3"
    },
    "language_info": {
      "codemirror_mode": {
        "name": "ipython",
        "version": 3
      },
      "file_extension": ".py",
      "mimetype": "text/x-python",
      "name": "python",
      "nbconvert_exporter": "python",
      "pygments_lexer": "ipython3",
      "version": "3.10.9"
    }
  },
  "nbformat": 4,
  "nbformat_minor": 0
}