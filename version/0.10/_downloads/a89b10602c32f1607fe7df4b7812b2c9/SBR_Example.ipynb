{
  "cells": [
    {
      "cell_type": "markdown",
      "metadata": {},
      "source": [
        "# SBR+: HFSS to SBR+ coupling\r\n\r\nThis example shows how you can use PyAEDT to create an HFSS SBR+ project\r\nfrom an HFSS antenna and run a simulation.\r\n"
      ]
    },
    {
      "cell_type": "markdown",
      "metadata": {},
      "source": [
        "# Perform required imports\r\n\r\nPerform required imports and set up the local path to the path for the\r\nPyAEDT directory.\r\n"
      ]
    },
    {
      "cell_type": "code",
      "execution_count": null,
      "metadata": {
        "collapsed": false
      },
      "outputs": [],
      "source": [
        "import os\nimport ansys.aedt.core\n\nproject_full_name = ansys.aedt.core.downloads.download_sbr(ansys.aedt.core.generate_unique_project_name(project_name=\"sbr_freq\"))"
      ]
    },
    {
      "cell_type": "markdown",
      "metadata": {},
      "source": [
        "# Set AEDT version\r\n\r\nSet AEDT version.\r\n"
      ]
    },
    {
      "cell_type": "code",
      "execution_count": null,
      "metadata": {
        "collapsed": false
      },
      "outputs": [],
      "source": [
        "aedt_version = \"2024.2\""
      ]
    },
    {
      "cell_type": "markdown",
      "metadata": {},
      "source": [
        "# Set non-graphical mode\r\n\r\nSet non-graphical mode. You can set `non_graphical` either to `True` or\r\n`False`.\r\n"
      ]
    },
    {
      "cell_type": "code",
      "execution_count": null,
      "metadata": {
        "collapsed": false
      },
      "outputs": [],
      "source": [
        "non_graphical = False"
      ]
    },
    {
      "cell_type": "markdown",
      "metadata": {},
      "source": [
        "# Define designs\r\n\r\nDefine two designs, one source and one target, with each design\r\nconnected to a different object.\r\n"
      ]
    },
    {
      "cell_type": "code",
      "execution_count": null,
      "metadata": {
        "collapsed": false
      },
      "outputs": [],
      "source": [
        "target = ansys.aedt.core.Hfss(\n    project=project_full_name,\n    design=\"Cassegrain_\",\n    solution_type=\"SBR+\",\n    version=aedt_version,\n    new_desktop=True,\n    non_graphical=non_graphical\n)\n\nsource = ansys.aedt.core.Hfss(project=target.project_name,\n                     design=\"feeder\",\n                     version=aedt_version,\n                     )"
      ]
    },
    {
      "cell_type": "markdown",
      "metadata": {},
      "source": [
        "# Define linked antenna\r\n\r\nDefine a linked antenna. This is HFSS far field applied to HFSS SBR+.\r\n"
      ]
    },
    {
      "cell_type": "code",
      "execution_count": null,
      "metadata": {
        "collapsed": false
      },
      "outputs": [],
      "source": [
        "target.create_sbr_linked_antenna(source, target_cs=\"feederPosition\", field_type=\"farfield\")"
      ]
    },
    {
      "cell_type": "markdown",
      "metadata": {},
      "source": [
        "# Assign boundaries\r\n\r\nAssign boundaries.\r\n"
      ]
    },
    {
      "cell_type": "code",
      "execution_count": null,
      "metadata": {
        "collapsed": false
      },
      "outputs": [],
      "source": [
        "target.assign_perfecte_to_sheets([\"Reflector\", \"Subreflector\"])\ntarget.mesh.assign_curvilinear_elements([\"Reflector\", \"Subreflector\"])"
      ]
    },
    {
      "cell_type": "markdown",
      "metadata": {},
      "source": [
        "# Plot model\r\n\r\nPlot the model\r\n"
      ]
    },
    {
      "cell_type": "code",
      "execution_count": null,
      "metadata": {
        "collapsed": false
      },
      "outputs": [],
      "source": [
        "source.plot(show=False, output_file=os.path.join(target.working_directory, \"Source.jpg\"), plot_air_objects=True)\ntarget.plot(show=False, output_file=os.path.join(target.working_directory, \"Target.jpg\"), plot_air_objects=False)"
      ]
    },
    {
      "cell_type": "markdown",
      "metadata": {},
      "source": [
        "# Create setup and solve\r\n\r\nCreate a setup and solve it.\r\n"
      ]
    },
    {
      "cell_type": "code",
      "execution_count": null,
      "metadata": {
        "collapsed": false
      },
      "outputs": [],
      "source": [
        "setup1 = target.create_setup()\nsetup1.props[\"RadiationSetup\"] = \"ATK_3D\"\nsetup1.props[\"ComputeFarFields\"] = True\nsetup1.props[\"RayDensityPerWavelength\"] = 2\nsetup1.props[\"MaxNumberOfBounces\"] = 3\nsetup1[\"RangeType\"] = \"SinglePoints\"\nsetup1[\"RangeStart\"] = \"10GHz\"\ntarget.analyze()"
      ]
    },
    {
      "cell_type": "markdown",
      "metadata": {},
      "source": [
        "# Plot results\r\n\r\nPlot results.\r\n"
      ]
    },
    {
      "cell_type": "code",
      "execution_count": null,
      "metadata": {
        "collapsed": false
      },
      "outputs": [],
      "source": [
        "variations = target.available_variations.nominal_w_values_dict\nvariations[\"Freq\"] = [\"10GHz\"]\nvariations[\"Theta\"] = [\"All\"]\nvariations[\"Phi\"] = [\"All\"]\ntarget.post.create_report(\"db(GainTotal)\", target.nominal_adaptive, variations=variations,\n                          primary_sweep_variable=\"Theta\", report_category=\"Far Fields\", context=\"ATK_3D\")"
      ]
    },
    {
      "cell_type": "markdown",
      "metadata": {},
      "source": [
        "# Plot results outside AEDT\r\n\r\nPlot results using Matplotlib.\r\n"
      ]
    },
    {
      "cell_type": "code",
      "execution_count": null,
      "metadata": {
        "collapsed": false
      },
      "outputs": [],
      "source": [
        "solution = target.post.get_solution_data(\n    \"GainTotal\",\n    target.nominal_adaptive,\n    variations=variations,\n    primary_sweep_variable=\"Theta\",\n    context=\"ATK_3D\",\n    report_category=\"Far Fields\",\n)\nsolution.plot()"
      ]
    },
    {
      "cell_type": "markdown",
      "metadata": {},
      "source": [
        "# Release AEDT\r\n\r\nRelease AEDT and close the example.\r\n"
      ]
    },
    {
      "cell_type": "code",
      "execution_count": null,
      "metadata": {
        "collapsed": false
      },
      "outputs": [],
      "source": [
        "target.release_desktop()"
      ]
    }
  ],
  "metadata": {
    "kernelspec": {
      "display_name": "Python 3",
      "language": "python",
      "name": "python3"
    },
    "language_info": {
      "codemirror_mode": {
        "name": "ipython",
        "version": 3
      },
      "file_extension": ".py",
      "mimetype": "text/x-python",
      "name": "python",
      "nbconvert_exporter": "python",
      "pygments_lexer": "ipython3",
      "version": "3.10.9"
    }
  },
  "nbformat": 4,
  "nbformat_minor": 0
}