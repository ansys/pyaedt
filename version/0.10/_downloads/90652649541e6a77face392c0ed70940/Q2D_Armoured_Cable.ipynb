{
  "cells": [
    {
      "cell_type": "markdown",
      "metadata": {},
      "source": [
        "# Q2D: Cable parameter identification\r\n\r\nThis example shows how you can use PyAEDT to perform these tasks:\r\n\r\n> -   Create a Q2D design using the Modeler primitives and importing\r\n>     part of the geometry.\r\n> -   Set up the entire simulation.\r\n> -   Link the solution to a Simplorer design.\r\n>\r\n> For cable information, see [4 Core Armoured Power\r\n> Cable](https://www.luxingcable.com/low-voltage-cables/4-core-armoured-power-cable.html)\r\n"
      ]
    },
    {
      "cell_type": "markdown",
      "metadata": {},
      "source": [
        "# Perform required imports\r\n"
      ]
    },
    {
      "cell_type": "code",
      "execution_count": null,
      "metadata": {
        "collapsed": false
      },
      "outputs": [],
      "source": [
        "import ansys.aedt.core\nimport math"
      ]
    },
    {
      "cell_type": "markdown",
      "metadata": {},
      "source": [
        "# Set AEDT version\r\n\r\nSet AEDT version.\r\n"
      ]
    },
    {
      "cell_type": "code",
      "execution_count": null,
      "metadata": {
        "collapsed": false
      },
      "outputs": [],
      "source": [
        "aedt_version = \"2024.2\""
      ]
    },
    {
      "cell_type": "markdown",
      "metadata": {},
      "source": [
        "# Initialize core strand dimensions and positions\r\n\r\nInitialize cable sizing - radii in mm.\r\n"
      ]
    },
    {
      "cell_type": "code",
      "execution_count": null,
      "metadata": {
        "collapsed": false
      },
      "outputs": [],
      "source": [
        "c_strand_radius = 2.575\ncable_n_cores = 4\ncore_n_strands = 6\ncore_xlpe_ins_thickness = 0.5\ncore_xy_coord = math.ceil(3 * c_strand_radius + 2 * core_xlpe_ins_thickness)"
      ]
    },
    {
      "cell_type": "markdown",
      "metadata": {},
      "source": [
        "Initialize filling and sheath dimensions\r\n\\~\\~\\~\\~\\~\\~\\~\\~\\~\\~\\~\\~\\~\\~\\~\\~\\~\\~\\~\\~\\~\\~\\~\\~\\~\\~\\~\\~\\~\\~\\~\\~\\~\\~\\~\\~\\~\\~\\~\r\nInitialize radii of further structures incrementally adding thicknesses.\r\n"
      ]
    },
    {
      "cell_type": "code",
      "execution_count": null,
      "metadata": {
        "collapsed": false
      },
      "outputs": [],
      "source": [
        "filling_radius = 1.4142 * (core_xy_coord + 3 * c_strand_radius + core_xlpe_ins_thickness + 0.5)\ninner_sheath_radius = filling_radius + 0.75\narmour_thickness = 3\narmour_radius = inner_sheath_radius + armour_thickness\nouter_sheath_radius = armour_radius + 2"
      ]
    },
    {
      "cell_type": "markdown",
      "metadata": {},
      "source": [
        "# Initialize armature strand dimensions\r\n\r\nInitialize radii.\r\n"
      ]
    },
    {
      "cell_type": "code",
      "execution_count": null,
      "metadata": {
        "collapsed": false
      },
      "outputs": [],
      "source": [
        "armour_centre_pos = inner_sheath_radius + armour_thickness / 2.0\narm_strand_rad = armour_thickness / 2.0 - 0.2\nn_arm_strands = 30"
      ]
    },
    {
      "cell_type": "markdown",
      "metadata": {},
      "source": [
        "# Initialize dictionaries\r\n\r\nInitialize dictionaries that contain all the definitions for the design\r\nvariables and output variables.\r\n"
      ]
    },
    {
      "cell_type": "code",
      "execution_count": null,
      "metadata": {
        "collapsed": false
      },
      "outputs": [],
      "source": [
        "core_params = {\n    \"n_cores\": str(cable_n_cores),\n    \"n_strands_core\": str(core_n_strands),\n    \"c_strand_radius\": str(c_strand_radius) + 'mm',\n    \"c_strand_xy_coord\": str(core_xy_coord) + 'mm'\n}\nouter_params = {\n    \"filling_radius\": str(filling_radius) + 'mm',\n    \"inner_sheath_radius\": str(inner_sheath_radius) + 'mm',\n    \"armour_radius\": str(armour_radius) + 'mm',\n    \"outer_sheath_radius\": str(outer_sheath_radius) + 'mm'\n}\narmour_params = {\n    \"armour_centre_pos\": str(armour_centre_pos) + 'mm',\n    \"arm_strand_rad\": str(arm_strand_rad) + 'mm',\n    \"n_arm_strands\": str(n_arm_strands)\n}"
      ]
    },
    {
      "cell_type": "markdown",
      "metadata": {},
      "source": [
        "# Initialize Q2D\r\n\r\nInitialize Q2D, providing the version, path to the project, and the\r\ndesign name and type.\r\n"
      ]
    },
    {
      "cell_type": "code",
      "execution_count": null,
      "metadata": {
        "collapsed": false
      },
      "outputs": [],
      "source": [
        "project_name = 'Q2D_ArmouredCableExample'\nq2d_design_name = '2D_Extractor_Cable'\nsetup_name = \"MySetupAuto\"\nsweep_name = \"sweep1\"\ntb_design_name = 'CableSystem'\nq2d = ansys.aedt.core.Q2d(project=project_name, design=q2d_design_name, version=aedt_version)"
      ]
    },
    {
      "cell_type": "markdown",
      "metadata": {},
      "source": [
        "# Define variables from dictionaries\r\n\r\nDefine design variables from the created dictionaries.\r\n"
      ]
    },
    {
      "cell_type": "code",
      "execution_count": null,
      "metadata": {
        "collapsed": false
      },
      "outputs": [],
      "source": [
        "for k, v in core_params.items():\n    q2d[k] = v\nfor k, v in outer_params.items():\n    q2d[k] = v\nfor k, v in armour_params.items():\n    q2d[k] = v"
      ]
    },
    {
      "cell_type": "markdown",
      "metadata": {},
      "source": [
        "# Create object to access 2D modeler\r\n\r\nCreate the `mod2D` object to access the 2D modeler easily.\r\n"
      ]
    },
    {
      "cell_type": "code",
      "execution_count": null,
      "metadata": {
        "collapsed": false
      },
      "outputs": [],
      "source": [
        "mod2D = q2d.modeler\nmod2D.delete()\nmod2D.model_units = \"mm\""
      ]
    },
    {
      "cell_type": "markdown",
      "metadata": {},
      "source": [
        "# Initialize required material properties\r\n\r\nCable insulators require the definition of specific materials since they\r\nare not included in the Sys Library. Plastic, PE (cross-linked, wire,\r\nand cable grade)\r\n"
      ]
    },
    {
      "cell_type": "code",
      "execution_count": null,
      "metadata": {
        "collapsed": false
      },
      "outputs": [],
      "source": [
        "mat_pe_cable_grade = q2d.materials.add_material(\"plastic_pe_cable_grade\")\nmat_pe_cable_grade.conductivity = \"1.40573e-16\"\nmat_pe_cable_grade.permittivity = \"2.09762\"\nmat_pe_cable_grade.dielectric_loss_tangent = \"0.000264575\"\nmat_pe_cable_grade.update()\n# Plastic, PP (10% carbon fiber)\nmat_pp = q2d.materials.add_material(\"plastic_pp_carbon_fiber\")\nmat_pp.conductivity = \"0.0003161\"\nmat_pp.update()"
      ]
    },
    {
      "cell_type": "markdown",
      "metadata": {},
      "source": [
        "# Create geometry for core strands, filling, and XLPE insulation\r\n"
      ]
    },
    {
      "cell_type": "code",
      "execution_count": null,
      "metadata": {
        "collapsed": false
      },
      "outputs": [],
      "source": [
        "mod2D.create_coordinate_system(['c_strand_xy_coord', 'c_strand_xy_coord', '0mm'], name='CS_c_strand_1')\nmod2D.set_working_coordinate_system('CS_c_strand_1')\nc1_id = mod2D.create_circle(['0mm', '0mm', '0mm'], 'c_strand_radius', name='c_strand_1', material='copper')\nc2_id = c1_id.duplicate_along_line(vector=['0mm', '2.0*c_strand_radius', '0mm'], nclones=2)\nmod2D.duplicate_around_axis(c2_id, axis=\"Z\", angle=360 / core_n_strands, clones=6)\nc_unite_name = mod2D.unite(q2d.get_all_conductors_names())\n\nfill_id = mod2D.create_circle(['0mm', '0mm', '0mm'], '3*c_strand_radius', name='c_strand_fill',\n                              material='plastic_pp_carbon_fiber')\nfill_id.color = (255, 255, 0)\nxlpe_id = mod2D.create_circle(['0mm', '0mm', '0mm'], '3*c_strand_radius+' + str(core_xlpe_ins_thickness) + 'mm',\n                              name='c_strand_xlpe',\n                              material='plastic_pe_cable_grade')\nxlpe_id.color = (0, 128, 128)\n\nmod2D.set_working_coordinate_system('Global')\nall_obj_names = q2d.get_all_conductors_names() + q2d.get_all_dielectrics_names()\nmod2D.duplicate_around_axis(all_obj_names, axis=\"Z\", angle=360 / cable_n_cores, clones=4)\ncond_names = q2d.get_all_conductors_names()"
      ]
    },
    {
      "cell_type": "markdown",
      "metadata": {},
      "source": [
        "# Create geometry for filling object\r\n"
      ]
    },
    {
      "cell_type": "code",
      "execution_count": null,
      "metadata": {
        "collapsed": false
      },
      "outputs": [],
      "source": [
        "filling_id = mod2D.create_circle(['0mm', '0mm', '0mm'], 'filling_radius', name='Filling',\n                                 material='plastic_pp_carbon_fiber')\nfilling_id.color = (255, 255, 180)"
      ]
    },
    {
      "cell_type": "markdown",
      "metadata": {},
      "source": [
        "Create geometry for inner sheath object\r\n\\~\\~\\~\\~\\~\\~\\~\\~\\~\\~\\~\\~\\~\\~\\~\\~\\~\\~\\~\\~\\~\\~\\~\\~\\~\\~\\~\\~\\~\\~\\~\\~\\~\\~\\~\\~\\~\\~\r\n"
      ]
    },
    {
      "cell_type": "code",
      "execution_count": null,
      "metadata": {
        "collapsed": false
      },
      "outputs": [],
      "source": [
        "inner_sheath_id = mod2D.create_circle(['0mm', '0mm', '0mm'], 'inner_sheath_radius', name='InnerSheath',\n                                     material='PVC plastic')\ninner_sheath_id.color = (0, 0, 0)"
      ]
    },
    {
      "cell_type": "markdown",
      "metadata": {},
      "source": [
        "# Create geometry for armature fill\r\n"
      ]
    },
    {
      "cell_type": "code",
      "execution_count": null,
      "metadata": {
        "collapsed": false
      },
      "outputs": [],
      "source": [
        "arm_fill_id = mod2D.create_circle(['0mm', '0mm', '0mm'], 'armour_radius', name='ArmourFilling',\n                                  material='plastic_pp_carbon_fiber')\narm_fill_id.color = (255, 255, 255)"
      ]
    },
    {
      "cell_type": "markdown",
      "metadata": {},
      "source": [
        "# Create geometry for outer sheath\r\n"
      ]
    },
    {
      "cell_type": "code",
      "execution_count": null,
      "metadata": {
        "collapsed": false
      },
      "outputs": [],
      "source": [
        "outer_sheath_id = mod2D.create_circle(['0mm', '0mm', '0mm'], 'outer_sheath_radius', name='OuterSheath',\n                                     material='PVC plastic')\nouter_sheath_id.color = (0, 0, 0)"
      ]
    },
    {
      "cell_type": "markdown",
      "metadata": {},
      "source": [
        "# Create geometry for armature steel strands\r\n"
      ]
    },
    {
      "cell_type": "code",
      "execution_count": null,
      "metadata": {
        "collapsed": false
      },
      "outputs": [],
      "source": [
        "arm_strand_1_id = mod2D.create_circle(['0mm', 'armour_centre_pos', '0mm'], '1.1mm', name='arm_strand_1',\n                                      material='steel_stainless')\narm_strand_1_id.color = (128, 128, 64)\narm_strand_1_id.duplicate_around_axis('Z', '360deg/n_arm_strands', clones='n_arm_strands')\narm_strand_names = mod2D.get_objects_w_string('arm_strand')"
      ]
    },
    {
      "cell_type": "markdown",
      "metadata": {},
      "source": [
        "# Create region\r\n"
      ]
    },
    {
      "cell_type": "code",
      "execution_count": null,
      "metadata": {
        "collapsed": false
      },
      "outputs": [],
      "source": [
        "region = q2d.modeler.create_region([500, 500, 500, 500])\nregion.material_name = \"vacuum\""
      ]
    },
    {
      "cell_type": "markdown",
      "metadata": {},
      "source": [
        "# Assign conductors and reference ground\r\n"
      ]
    },
    {
      "cell_type": "code",
      "execution_count": null,
      "metadata": {
        "collapsed": false
      },
      "outputs": [],
      "source": [
        "obj = [q2d.modeler.get_object_from_name(i) for i in cond_names]\n[q2d.assign_single_conductor(assignment=i, name='C1' + str(obj.index(i) + 1), conductor_type='SignalLine') for i\n in obj]\nobj = [q2d.modeler.get_object_from_name(i) for i in arm_strand_names]\nq2d.assign_single_conductor(assignment=obj, name=\"gnd\", conductor_type=\"ReferenceGround\")\nmod2D.fit_all()"
      ]
    },
    {
      "cell_type": "markdown",
      "metadata": {},
      "source": [
        "# Assign design settings\r\n"
      ]
    },
    {
      "cell_type": "code",
      "execution_count": null,
      "metadata": {
        "collapsed": false
      },
      "outputs": [],
      "source": [
        "lumped_length = \"100m\"\nq2d_des_settings = q2d.design_settings\nq2d_des_settings['LumpedLength'] = lumped_length"
      ]
    },
    {
      "cell_type": "markdown",
      "metadata": {},
      "source": [
        "# Insert setup and frequency sweep\r\n"
      ]
    },
    {
      "cell_type": "code",
      "execution_count": null,
      "metadata": {
        "collapsed": false
      },
      "outputs": [],
      "source": [
        "q2d_setup = q2d.create_setup(name=setup_name)\nq2d_sweep = q2d_setup.add_sweep(name=sweep_name)"
      ]
    },
    {
      "cell_type": "markdown",
      "metadata": {},
      "source": [
        "# Analyze setup\r\n"
      ]
    },
    {
      "cell_type": "code",
      "execution_count": null,
      "metadata": {
        "collapsed": false
      },
      "outputs": [],
      "source": [
        "# q2d.analyze(name=name)"
      ]
    },
    {
      "cell_type": "markdown",
      "metadata": {},
      "source": [
        "# Add a Simplorer/Twin Builder design and the Q3D dynamic component\r\n"
      ]
    },
    {
      "cell_type": "code",
      "execution_count": null,
      "metadata": {
        "collapsed": false
      },
      "outputs": [],
      "source": [
        "tb = ansys.aedt.core.TwinBuilder(design=tb_design_name)"
      ]
    },
    {
      "cell_type": "markdown",
      "metadata": {},
      "source": [
        "# Add a Q3D dynamic component\r\n"
      ]
    },
    {
      "cell_type": "code",
      "execution_count": null,
      "metadata": {
        "collapsed": false
      },
      "outputs": [],
      "source": [
        "tb.add_q3d_dynamic_component(project_name, q2d_design_name, setup_name, sweep_name, coupling_matrix_name=\"Original\",\n                             model_depth=lumped_length)"
      ]
    },
    {
      "cell_type": "markdown",
      "metadata": {},
      "source": [
        "# Save project and release desktop\r\n"
      ]
    },
    {
      "cell_type": "code",
      "execution_count": null,
      "metadata": {
        "collapsed": false
      },
      "outputs": [],
      "source": [
        "tb.save_project()\ntb.release_desktop(True, True)"
      ]
    }
  ],
  "metadata": {
    "kernelspec": {
      "display_name": "Python 3",
      "language": "python",
      "name": "python3"
    },
    "language_info": {
      "codemirror_mode": {
        "name": "ipython",
        "version": 3
      },
      "file_extension": ".py",
      "mimetype": "text/x-python",
      "name": "python",
      "nbconvert_exporter": "python",
      "pygments_lexer": "ipython3",
      "version": "3.10.9"
    }
  },
  "nbformat": 4,
  "nbformat_minor": 0
}