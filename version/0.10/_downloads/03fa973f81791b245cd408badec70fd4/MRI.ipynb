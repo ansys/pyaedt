{
  "cells": [
    {
      "cell_type": "markdown",
      "metadata": {},
      "source": [
        "# Multiphysics: HFSS-Mechanical MRI analysis\r\n\r\nThe goal of this workshop is to use a coil tuned to 63.8 MHz to\r\ndetermine the temperature rise in a gel phantom near an implant given a\r\nbackground SAR of 1 W/kg.\r\n\r\nSteps to follow Step 1: Simulate coil loaded by empty phantom: Scale\r\ninput to coil ports to produce desired background SAR of 1 W/kg at\r\nlocation that will later contain the implant. Step 2: Simulate coil\r\nloaded by phantom containing implant in proper location: View SAR in\r\ntissue surrounding implant. Step 3: Thermal simulation: Link HFSS to\r\ntransient thermal solver to find temperature rise in tissue near implant\r\nvs. time.\r\n"
      ]
    },
    {
      "cell_type": "markdown",
      "metadata": {},
      "source": [
        "# Perform required imports\r\n\r\nPerform required imports.\r\n"
      ]
    },
    {
      "cell_type": "code",
      "execution_count": null,
      "metadata": {
        "collapsed": false
      },
      "outputs": [],
      "source": [
        "import os.path\n\nfrom ansys.aedt.core import Hfss, Mechanical, Icepak, downloads"
      ]
    },
    {
      "cell_type": "markdown",
      "metadata": {},
      "source": [
        "# Set AEDT version\r\n\r\nSet AEDT version.\r\n"
      ]
    },
    {
      "cell_type": "code",
      "execution_count": null,
      "metadata": {
        "collapsed": false
      },
      "outputs": [],
      "source": [
        "aedt_version = \"2024.2\""
      ]
    },
    {
      "cell_type": "markdown",
      "metadata": {},
      "source": [
        "# Set non-graphical mode\r\n\r\nSet non-graphical mode. [ You can set\r\n]{.title-ref}[non_graphical]{.title-ref}[ either to\r\n]{.title-ref}[True]{.title-ref}[ or ]{.title-ref}[False]{.title-ref}\\`.\r\n"
      ]
    },
    {
      "cell_type": "code",
      "execution_count": null,
      "metadata": {
        "collapsed": false
      },
      "outputs": [],
      "source": [
        "non_graphical = False"
      ]
    },
    {
      "cell_type": "markdown",
      "metadata": {},
      "source": [
        "# Project load\r\n\r\nOpen the ANSYS Electronics Desktop 2018.2 Open project\r\nbackground_SAR.aedt Project contains phantom and airbox Phantom consists\r\nof two objects: phantom and implant_box Separate objects are used to\r\nselectively assign mesh operations Material properties defined in this\r\nproject already contain #electrical and thermal properties.\r\n"
      ]
    },
    {
      "cell_type": "code",
      "execution_count": null,
      "metadata": {
        "collapsed": false
      },
      "outputs": [],
      "source": [
        "project_path = downloads.download_file(directory=\"mri\")\nhfss = Hfss(os.path.join(project_path, \"background_SAR.aedt\"), version=aedt_version, non_graphical=non_graphical,\n            new_desktop=True)"
      ]
    },
    {
      "cell_type": "markdown",
      "metadata": {},
      "source": [
        "# Insert 3D component\r\n\r\nThe MRI Coil is saved as a separate 3D Component \u2012 3D Components store\r\ngeometry (including parameters), material properties, boundary\r\nconditions, mesh assignments, and excitations \u2012 3D Components make it\r\neasy to reuse and share parts of a simulation\r\n"
      ]
    },
    {
      "cell_type": "code",
      "execution_count": null,
      "metadata": {
        "collapsed": false
      },
      "outputs": [],
      "source": [
        "hfss.modeler.insert_3d_component(os.path.join(project_path, \"coil.a3dcomp\"))"
      ]
    },
    {
      "cell_type": "markdown",
      "metadata": {},
      "source": [
        "# Expression Cache\r\n\r\n> On the expression cache tab, define additional convergence criteria\r\n> for self impedance of the four coil\r\n\r\nports \u2012 Set each of these convergence criteria to 2.5 ohm For this demo\r\nnumber of passes is limited to 2 to reduce simulation time.\r\n"
      ]
    },
    {
      "cell_type": "code",
      "execution_count": null,
      "metadata": {
        "collapsed": false
      },
      "outputs": [],
      "source": [
        "im_traces = hfss.get_traces_for_plot(get_mutual_terms=False, category=\"im(Z\", first_element_filter=\"Coil1_p*\")\n\nhfss.setups[0].enable_expression_cache(\n    report_type=\"Modal Solution Data\",\n    expressions=im_traces,\n    isconvergence=True,\n    isrelativeconvergence=False,\n    conv_criteria=2.5,\n    use_cache_for_freq=False)\nhfss.setups[0].props[\"MaximumPasses\"] = 2"
      ]
    },
    {
      "cell_type": "markdown",
      "metadata": {},
      "source": [
        "# Edit Sources\r\n\r\nThe 3D Component of the MRI Coil contains all the ports, but the sources\r\nfor these ports are not yet defined. Browse to and select sources.csv.\r\nThese sources were determined by tuning this coil at 63.8 MHz. Notice\r\nthe \"\\*input_scale\" multiplier to allow quick adjustment of the coil\r\nexcitation power.\r\n"
      ]
    },
    {
      "cell_type": "code",
      "execution_count": null,
      "metadata": {
        "collapsed": false
      },
      "outputs": [],
      "source": [
        "hfss.edit_sources_from_file(os.path.join(project_path, \"sources.csv\"))"
      ]
    },
    {
      "cell_type": "markdown",
      "metadata": {},
      "source": [
        "# Run Simulation\r\n\r\nSave and analyze the project.\r\n"
      ]
    },
    {
      "cell_type": "code",
      "execution_count": null,
      "metadata": {
        "collapsed": false
      },
      "outputs": [],
      "source": [
        "hfss.save_project(os.path.join(project_path, \"solved.aedt\"))\nhfss.analyze(cores=6)"
      ]
    },
    {
      "cell_type": "markdown",
      "metadata": {},
      "source": [
        "# Plot SAR on cut plane in phantom\r\n\r\nEnsure that the SAR averaging method is set to Gridless Plot averagedSAR\r\non GlobalYZ plane Draw Point1 at origin of the implant coordinate system\r\n"
      ]
    },
    {
      "cell_type": "code",
      "execution_count": null,
      "metadata": {
        "collapsed": false
      },
      "outputs": [],
      "source": [
        "hfss.sar_setup(-1, tissue_mass=1, material_density=1, average_sar_method=1)\nhfss.post.create_fieldplot_cutplane(assignment=\"implant:YZ\", quantity=\"Average_SAR\", filter_objects=[\"implant_box\"])\n\nhfss.modeler.set_working_coordinate_system(\"implant\")\nhfss.modeler.create_point([0, 0, 0], name=\"Point1\")\n\nhfss.post.plot_field(quantity=\"Average_SAR\", assignment=\"implant:YZ\", plot_type=\"CutPlane\", show=False,\n                     show_legend=False, filter_objects=[\"implant_box\"])"
      ]
    },
    {
      "cell_type": "markdown",
      "metadata": {},
      "source": [
        "# Adjust Input Power to MRI Coil\r\n\r\nThe goal is to adjust the MRI coil's input power, so that the averageSAR\r\nat Point1 is 1 W/kg Note that SAR and input power are linearly related\r\nTo determine required input, calculate input_scale = 1/AverageSAR at\r\nPoint1\r\n"
      ]
    },
    {
      "cell_type": "code",
      "execution_count": null,
      "metadata": {
        "collapsed": false
      },
      "outputs": [],
      "source": [
        "sol_data = hfss.post.get_solution_data(expressions=\"Average_SAR\",\n                                       primary_sweep_variable=\"Freq\",\n                                       context=\"Point1\",\n                                       report_category=\"Fields\")\nsol_data.data_real()\n\nhfss[\"input_scale\"] = 1 / sol_data.data_real()[0]"
      ]
    },
    {
      "cell_type": "markdown",
      "metadata": {},
      "source": [
        "# Phantom with Implant\r\n\r\nImport implant geometry. Subtract rod from implant_box. Assign titanium\r\nto the imported object rod. Analyze the project.\r\n"
      ]
    },
    {
      "cell_type": "code",
      "execution_count": null,
      "metadata": {
        "collapsed": false
      },
      "outputs": [],
      "source": [
        "hfss.modeler.import_3d_cad(os.path.join(project_path, \"implant_rod.sat\"))\n\nhfss.modeler[\"implant_box\"].subtract(\"rod\", keep_originals=True)\nhfss.modeler[\"rod\"].material_name = \"titanium\"\nhfss.analyze(cores=6)\nhfss.save_project()"
      ]
    },
    {
      "cell_type": "markdown",
      "metadata": {},
      "source": [
        "# Thermal Simulation\r\n\r\nInitialize a new Mechanical Transient Thermal analysis. Mechanical\r\nTransient Thermal is available in AEDT from 2023 R2 as a Beta feature.\r\n"
      ]
    },
    {
      "cell_type": "code",
      "execution_count": null,
      "metadata": {
        "collapsed": false
      },
      "outputs": [],
      "source": [
        "mech = Mechanical(solution_type=\"Transient Thermal\", version=aedt_version)"
      ]
    },
    {
      "cell_type": "markdown",
      "metadata": {},
      "source": [
        "# Copy geometries\r\n\r\nCopy bodies from the HFSS project. 3D Component will not be copied.\r\n"
      ]
    },
    {
      "cell_type": "code",
      "execution_count": null,
      "metadata": {
        "collapsed": false
      },
      "outputs": [],
      "source": [
        "mech.copy_solid_bodies_from(hfss)"
      ]
    },
    {
      "cell_type": "markdown",
      "metadata": {},
      "source": [
        "# Link sources to EM losses\r\n\r\nLink sources to the EM losses. Assign external convection.\r\n"
      ]
    },
    {
      "cell_type": "code",
      "execution_count": null,
      "metadata": {
        "collapsed": false
      },
      "outputs": [],
      "source": [
        "exc = mech.assign_em_losses(design=hfss.design_name, setup=hfss.setups[0].name, sweep=\"LastAdaptive\",\n                            map_frequency=hfss.setups[0].props[\"Frequency\"],\n                            surface_objects=mech.get_all_conductors_names())\nmech.assign_uniform_convection(mech.modeler[\"Region\"].faces, convection_value=1)"
      ]
    },
    {
      "cell_type": "markdown",
      "metadata": {},
      "source": [
        "# Create Setup\r\n\r\nCreate a new setup and edit properties. Simulation will be for 60\r\nseconds.\r\n"
      ]
    },
    {
      "cell_type": "code",
      "execution_count": null,
      "metadata": {
        "collapsed": false
      },
      "outputs": [],
      "source": [
        "setup = mech.create_setup()\n# setup.add_mesh_link(\"backgroundSAR\")\n# mech.create_dataset1d_design(\"PowerMap\", [0, 239, 240, 360], [1, 1, 0, 0])\n# exc.props[\"LossMultiplier\"] = \"pwl(PowerMap,Time)\"\n\nmech.modeler.set_working_coordinate_system(\"implant\")\nmech.modeler.create_point([0, 0, 0], name=\"Point1\")\nsetup.props[\"Stop Time\"] = 60\nsetup.props[\"Time Step\"] = \"10s\"\nsetup.props[\"SaveFieldsType\"] = \"Every N Steps\"\nsetup.props[\"N Steps\"] = \"2\""
      ]
    },
    {
      "cell_type": "markdown",
      "metadata": {},
      "source": [
        "# Analyze Mechanical\r\n\r\nAnalyze the project.\r\n"
      ]
    },
    {
      "cell_type": "code",
      "execution_count": null,
      "metadata": {
        "collapsed": false
      },
      "outputs": [],
      "source": [
        "mech.analyze(cores=6)"
      ]
    },
    {
      "cell_type": "markdown",
      "metadata": {},
      "source": [
        "# Plot fields\r\n\r\nPlot Temperature on cut plane. Plot Temperature on point.\r\n"
      ]
    },
    {
      "cell_type": "code",
      "execution_count": null,
      "metadata": {
        "collapsed": false
      },
      "outputs": [],
      "source": [
        "mech.post.create_fieldplot_cutplane(\"implant:YZ\", \"Temperature\", filter_objects=[\"implant_box\"])\nmech.save_project()\n\ndata = mech.post.get_solution_data(\"Temperature\", primary_sweep_variable=\"Time\", context=\"Point1\",\n                                   report_category=\"Fields\")\n#data.plot()\n\nmech.post.plot_animated_field(quantity=\"Temperature\", assignment=\"implant:YZ\", plot_type=\"CutPlane\",\n                              intrinsics={\"Time\": \"10s\"}, variation_variable=\"Time\",\n                              variations=[\"10s\", \"20s\", \"30s\", \"40s\", \"50s\", \"60s\"],\n                              show=False, filter_objects=[\"implant_box\"])"
      ]
    },
    {
      "cell_type": "markdown",
      "metadata": {},
      "source": [
        "# Thermal Simulation\r\n\r\nInitialize a new Icepak Transient Thermal analysis.\r\n"
      ]
    },
    {
      "cell_type": "code",
      "execution_count": null,
      "metadata": {
        "collapsed": false
      },
      "outputs": [],
      "source": [
        "ipk = Icepak(solution_type=\"Transient\", version=aedt_version)\nipk.design_solutions.problem_type = \"TemperatureOnly\""
      ]
    },
    {
      "cell_type": "markdown",
      "metadata": {},
      "source": [
        "# Copy geometries\r\n\r\nCopy bodies from the HFSS project. 3D Component will not be copied.\r\n"
      ]
    },
    {
      "cell_type": "code",
      "execution_count": null,
      "metadata": {
        "collapsed": false
      },
      "outputs": [],
      "source": [
        "ipk.modeler.delete(\"Region\")\nipk.copy_solid_bodies_from(hfss)"
      ]
    },
    {
      "cell_type": "markdown",
      "metadata": {},
      "source": [
        "# Link sources to EM losses\r\n\r\nLink sources to the EM losses. Assign external convection.\r\n"
      ]
    },
    {
      "cell_type": "code",
      "execution_count": null,
      "metadata": {
        "collapsed": false
      },
      "outputs": [],
      "source": [
        "exc = ipk.assign_em_losses(design=hfss.design_name, setup=hfss.setups[0].name, sweep=\"LastAdaptive\",\n                           map_frequency=hfss.setups[0].props[\"Frequency\"],\n                           surface_objects=ipk.get_all_conductors_names())"
      ]
    },
    {
      "cell_type": "markdown",
      "metadata": {},
      "source": [
        "# Create Setup\r\n\r\nCreate a new setup and edit properties. Simulation will be for 60\r\nseconds.\r\n"
      ]
    },
    {
      "cell_type": "code",
      "execution_count": null,
      "metadata": {
        "collapsed": false
      },
      "outputs": [],
      "source": [
        "setup = ipk.create_setup()\n\nsetup.props[\"Stop Time\"] = 60\nsetup.props[\"N Steps\"] = 2\nsetup.props[\"Time Step\"] = 5\nsetup.props['Convergence Criteria - Energy'] = 1e-12"
      ]
    },
    {
      "cell_type": "markdown",
      "metadata": {},
      "source": [
        "# Mesh Region\r\n\r\nCreate a new mesh region and change accuracy level to 4.\r\n"
      ]
    },
    {
      "cell_type": "code",
      "execution_count": null,
      "metadata": {
        "collapsed": false
      },
      "outputs": [],
      "source": [
        "bound = ipk.modeler[\"implant_box\"].bounding_box\nmesh_box = ipk.modeler.create_box(bound[:3], [bound[3] - bound[0], bound[4] - bound[1], bound[5] - bound[2]])\nmesh_box.model = False\nmesh_region = ipk.mesh.assign_mesh_region([mesh_box.name])\nmesh_region.UserSpecifiedSettings = False\nmesh_region.Level = 4\nmesh_region.update()"
      ]
    },
    {
      "cell_type": "markdown",
      "metadata": {},
      "source": [
        "# Point Monitor\r\n\r\nCreate a new point monitor.\r\n"
      ]
    },
    {
      "cell_type": "code",
      "execution_count": null,
      "metadata": {
        "collapsed": false
      },
      "outputs": [],
      "source": [
        "ipk.modeler.set_working_coordinate_system(\"implant\")\nipk.monitor.assign_point_monitor([0, 0, 0], monitor_name=\"Point1\")\nipk.assign_openings(ipk.modeler[\"Region\"].top_face_z)"
      ]
    },
    {
      "cell_type": "markdown",
      "metadata": {},
      "source": [
        "# Analyze and plot fields\r\n\r\nAnalyze the project. Plot temperature on cut plane. Plot temperature on\r\nmonitor point.\r\n"
      ]
    },
    {
      "cell_type": "code",
      "execution_count": null,
      "metadata": {
        "collapsed": false
      },
      "outputs": [],
      "source": [
        "ipk.analyze(cores=4, tasks=4)\nipk.post.create_fieldplot_cutplane(\"implant:YZ\", \"Temperature\", filter_objects=[\"implant_box\"])\nipk.save_project()\n\ndata = ipk.post.get_solution_data(\"Point1.Temperature\", primary_sweep_variable=\"Time\", report_category=\"Monitor\")\n#data.plot()\n\nipk.release_desktop(True, True)"
      ]
    }
  ],
  "metadata": {
    "kernelspec": {
      "display_name": "Python 3",
      "language": "python",
      "name": "python3"
    },
    "language_info": {
      "codemirror_mode": {
        "name": "ipython",
        "version": 3
      },
      "file_extension": ".py",
      "mimetype": "text/x-python",
      "name": "python",
      "nbconvert_exporter": "python",
      "pygments_lexer": "ipython3",
      "version": "3.10.9"
    }
  },
  "nbformat": 4,
  "nbformat_minor": 0
}