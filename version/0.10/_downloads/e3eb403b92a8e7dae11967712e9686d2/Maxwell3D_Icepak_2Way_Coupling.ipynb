{
  "cells": [
    {
      "cell_type": "markdown",
      "metadata": {},
      "source": [
        "# Multiphysics: Maxwell 3D - Icepak electrothermal analysis\r\n\r\nThis example uses PyAEDT to set up a simple Maxwell design consisting of\r\na coil and a ferrite core. Coil current is set to 100A, and coil\r\nresistance and ohmic loss are analyzed. Ohmic loss is mapped to Icepak,\r\nand a thermal analysis is performed. Icepak calculates a temperature\r\ndistribution, and it is mapped back to Maxwell (2-way coupling). Coil\r\nresistance and ohmic loss are analyzed again in Maxwell. Results are\r\nprinted in AEDT Message Manager.\r\n"
      ]
    },
    {
      "cell_type": "markdown",
      "metadata": {},
      "source": [
        "# Perform required imports\r\n\r\nPerform required imports.\r\n"
      ]
    },
    {
      "cell_type": "code",
      "execution_count": null,
      "metadata": {
        "collapsed": false
      },
      "outputs": [],
      "source": [
        "import ansys.aedt.core\nfrom ansys.aedt.core.generic.constants import AXIS"
      ]
    },
    {
      "cell_type": "markdown",
      "metadata": {},
      "source": [
        "# Set AEDT version\r\n\r\nSet AEDT version.\r\n"
      ]
    },
    {
      "cell_type": "code",
      "execution_count": null,
      "metadata": {
        "collapsed": false
      },
      "outputs": [],
      "source": [
        "aedt_version = \"2024.2\""
      ]
    },
    {
      "cell_type": "markdown",
      "metadata": {},
      "source": [
        "# Set non-graphical mode\r\n\r\nSet non-graphical mode. You can set `non_graphical` either to `True` or\r\n`False`.\r\n"
      ]
    },
    {
      "cell_type": "code",
      "execution_count": null,
      "metadata": {
        "collapsed": false
      },
      "outputs": [],
      "source": [
        "non_graphical = False"
      ]
    },
    {
      "cell_type": "markdown",
      "metadata": {},
      "source": [
        "# Launch AEDT and Maxwell 3D\r\n\r\nLaunch AEDT and Maxwell 3D. The following code sets up the project and\r\ndesign names, the solver, and the version. It also creates an instance\r\nof the `Maxwell3d` class named `m3d`.\r\n"
      ]
    },
    {
      "cell_type": "code",
      "execution_count": null,
      "metadata": {
        "collapsed": false
      },
      "outputs": [],
      "source": [
        "project_name = \"Maxwell-Icepak-2way-Coupling\"\nmaxwell_design_name = \"1 Maxwell\"\nicepak_design_name = \"2 Icepak\"\n\nm3d = ansys.aedt.core.Maxwell3d(\n    project=project_name,\n    design=maxwell_design_name,\n    solution_type=\"EddyCurrent\",\n    version=aedt_version,\n    non_graphical=non_graphical,\n)"
      ]
    },
    {
      "cell_type": "markdown",
      "metadata": {},
      "source": [
        "# Create geometry in Maxwell\r\n\r\nCreate the coil, coil terminal, core, and region.\r\n"
      ]
    },
    {
      "cell_type": "code",
      "execution_count": null,
      "metadata": {
        "collapsed": false
      },
      "outputs": [],
      "source": [
        "coil = m3d.modeler.create_rectangle(\n    orientation=\"XZ\", origin=[70, 0, -11], sizes=[11, 110], name=\"Coil\"\n)\n\ncoil.sweep_around_axis(axis=AXIS.Z)\n\ncoil_terminal = m3d.modeler.create_rectangle(\n    orientation=\"XZ\", origin=[70, 0, -11], sizes=[11, 110], name=\"Coil_terminal\"\n)\n\ncore = m3d.modeler.create_rectangle(\n    orientation=\"XZ\", origin=[45, 0, -18], sizes=[7, 160], name=\"Core\"\n)\ncore.sweep_around_axis(axis=AXIS.Z)\n\n# Magnetic flux is not concentrated by the core in +z-direction. Therefore, more padding is needed in that direction.\nregion = m3d.modeler.create_region(pad_percent=[20, 20, 500, 20, 20, 100])"
      ]
    },
    {
      "cell_type": "markdown",
      "metadata": {},
      "source": [
        "# Assign materials\r\n\r\nCreate a material: Copper AWG40 Litz wire, strand diameter = 0.08mm, 24\r\nparallel strands. Assign materials: Assign Coil to AWG40 copper, core to\r\nferrite, and region to vacuum.\r\n"
      ]
    },
    {
      "cell_type": "code",
      "execution_count": null,
      "metadata": {
        "collapsed": false
      },
      "outputs": [],
      "source": [
        "no_strands = 24\nstrand_diameter = 0.08\n\ncu_litz = m3d.materials.duplicate_material(\"copper\", \"copper_litz\")\ncu_litz.stacking_type = \"Litz Wire\"\ncu_litz.wire_diameter = str(strand_diameter) + \"mm\"\ncu_litz.wire_type = \"Round\"\ncu_litz.strand_number = no_strands\n\nm3d.assign_material(region.name, \"vacuum\")\nm3d.assign_material(coil.name, \"copper_litz\")\nm3d.assign_material(core.name, \"ferrite\")"
      ]
    },
    {
      "cell_type": "markdown",
      "metadata": {},
      "source": [
        "# Assign excitation\r\n\r\nAssign coil current, coil consists of 20 turns, total current 10A. Note\r\nthat each coil turn consists of 24 parallel Litz strands, see above.\r\n"
      ]
    },
    {
      "cell_type": "code",
      "execution_count": null,
      "metadata": {
        "collapsed": false
      },
      "outputs": [],
      "source": [
        "no_turns = 20\ncoil_current = 10\nm3d.assign_coil([\"Coil_terminal\"], conductors_number=no_turns, name=\"Coil_terminal\")\nm3d.assign_winding(is_solid=False, current=coil_current, name=\"Winding1\")\n\nm3d.add_winding_coils(assignment=\"Winding1\", coils=[\"Coil_terminal\"])"
      ]
    },
    {
      "cell_type": "markdown",
      "metadata": {},
      "source": [
        "# Assign mesh operations\r\n\r\nMesh operations are not necessary in eddy current solver because of\r\nauto-adaptive meshing. However, with appropriate mesh operations, less\r\nadaptive passes are needed.\r\n"
      ]
    },
    {
      "cell_type": "code",
      "execution_count": null,
      "metadata": {
        "collapsed": false
      },
      "outputs": [],
      "source": [
        "m3d.mesh.assign_length_mesh([\"Core\"], maximum_length=15, maximum_elements=None, name=\"Inside_Core\")\nm3d.mesh.assign_length_mesh([\"Coil\"], maximum_length=30, maximum_elements=None, name=\"Inside_Coil\")"
      ]
    },
    {
      "cell_type": "markdown",
      "metadata": {},
      "source": [
        "# Set conductivity temperature coefficient\r\n\r\nSet conductivity as a function of temperature. Resistivity increases by\r\n0.393% per K.\r\n"
      ]
    },
    {
      "cell_type": "code",
      "execution_count": null,
      "metadata": {
        "collapsed": false
      },
      "outputs": [],
      "source": [
        "cu_resistivity_temp_coefficient = 0.00393\ncu_litz.conductivity.add_thermal_modifier_free_form(\"1.0/(1.0+{}*(Temp-20))\".format(cu_resistivity_temp_coefficient))"
      ]
    },
    {
      "cell_type": "markdown",
      "metadata": {},
      "source": [
        "# Set object temperature and enable feedback\r\n\r\nSet the temperature of the objects to default temperature (22deg C) and\r\nenable temperature feedback for two-way coupling.\r\n"
      ]
    },
    {
      "cell_type": "code",
      "execution_count": null,
      "metadata": {
        "collapsed": false
      },
      "outputs": [],
      "source": [
        "m3d.modeler.set_objects_temperature([\"Coil\"])"
      ]
    },
    {
      "cell_type": "markdown",
      "metadata": {},
      "source": [
        "# Assign matrix\r\n\r\nResistance and inductance calculation.\r\n"
      ]
    },
    {
      "cell_type": "code",
      "execution_count": null,
      "metadata": {
        "collapsed": false
      },
      "outputs": [],
      "source": [
        "m3d.assign_matrix([\"Winding1\"], matrix_name=\"Matrix1\")"
      ]
    },
    {
      "cell_type": "markdown",
      "metadata": {},
      "source": [
        "# Create and analyze simulation setup\r\n\r\nSimulation frequency 150kHz.\r\n"
      ]
    },
    {
      "cell_type": "code",
      "execution_count": null,
      "metadata": {
        "collapsed": false
      },
      "outputs": [],
      "source": [
        "setup = m3d.create_setup(name=\"Setup1\")\nsetup.props[\"Frequency\"] = \"150kHz\"\nm3d.analyze_setup(\"Setup1\")"
      ]
    },
    {
      "cell_type": "markdown",
      "metadata": {},
      "source": [
        "# Postprocessing\r\n\r\nCalculate analytical DC resistance and compare it with the simulated\r\ncoil resistance, print them in the message manager, as well as ohmic\r\nloss in coil before temperature feedback.\r\n"
      ]
    },
    {
      "cell_type": "code",
      "execution_count": null,
      "metadata": {
        "collapsed": false
      },
      "outputs": [],
      "source": [
        "report = m3d.post.create_report(expressions=\"Matrix1.R(Winding1,Winding1)\")\nsolution = report.get_solution_data()\nresistance = solution.data_magnitude()[0]\n\nreport_loss = m3d.post.create_report(expressions=\"StrandedLossAC\")\nsolution_loss = report_loss.get_solution_data()\nem_loss = solution_loss.data_magnitude()[0]\n\n# Analytical calculation of the DC resistance of the coil\ncu_cond = float(cu_litz.conductivity.value)\n# average radius of a coil turn = 0.125m\nl_conductor = no_turns*2*0.125*3.1415\n# R = resistivity * length / area / no_strand\nr_analytical_DC = (1.0 / cu_cond) * l_conductor / (3.1415 * (strand_diameter / 1000 / 2) ** 2) / no_strands\n\n# Print results in the Message Manager\nm3d.logger.info(\"*******Coil analytical DC resistance =  {:.2f}Ohm\".format(r_analytical_DC))\nm3d.logger.info(\"*******Coil resistance at 150kHz BEFORE temperature feedback =  {:.2f}Ohm\".format(resistance))\nm3d.logger.info(\"*******Ohmic loss in coil BEFORE temperature feedback =  {:.2f}W\".format(em_loss / 1000))"
      ]
    },
    {
      "cell_type": "markdown",
      "metadata": {},
      "source": [
        "# Icepak design\r\n\r\nInsert Icepak design, copy solid objects from Maxwell, and modify region\r\ndimensions.\r\n"
      ]
    },
    {
      "cell_type": "code",
      "execution_count": null,
      "metadata": {
        "collapsed": false
      },
      "outputs": [],
      "source": [
        "ipk = ansys.aedt.core.Icepak(design=icepak_design_name)\nipk.copy_solid_bodies_from(m3d, no_pec=False)\n\n# Set domain dimensions suitable for natural convection using the diameter of the coil\nipk.modeler[\"Region\"].delete()\ncoil_dim = coil.bounding_dimension[0]\nipk.modeler.create_region(0, False)\nipk.modeler.edit_region_dimensions([coil_dim / 2, coil_dim / 2, coil_dim / 2, coil_dim / 2, coil_dim * 2, coil_dim])"
      ]
    },
    {
      "cell_type": "markdown",
      "metadata": {},
      "source": [
        "# Map coil losses\r\n\r\nMap ohmic losses from Maxwell to the Icepak design.\r\n"
      ]
    },
    {
      "cell_type": "code",
      "execution_count": null,
      "metadata": {
        "collapsed": false
      },
      "outputs": [],
      "source": [
        "ipk.assign_em_losses(design=\"1 Maxwell\", setup=m3d.setups[0].name, sweep=\"LastAdaptive\", assignment=[\"Coil\"])"
      ]
    },
    {
      "cell_type": "markdown",
      "metadata": {},
      "source": [
        "# Boundary conditions\r\n\r\nAssign opening.\r\n"
      ]
    },
    {
      "cell_type": "code",
      "execution_count": null,
      "metadata": {
        "collapsed": false
      },
      "outputs": [],
      "source": [
        "faces = ipk.modeler[\"Region\"].faces\nface_names = [face.id for face in faces]\nipk.assign_free_opening(face_names, boundary_name=\"Opening1\")"
      ]
    },
    {
      "cell_type": "markdown",
      "metadata": {},
      "source": [
        "# Assign monitor\r\n\r\nTemperature monitor on the coil surface\r\n"
      ]
    },
    {
      "cell_type": "code",
      "execution_count": null,
      "metadata": {
        "collapsed": false
      },
      "outputs": [],
      "source": [
        "temp_monitor = ipk.assign_point_monitor([70, 0, 0], monitor_name=\"PointMonitor1\")"
      ]
    },
    {
      "cell_type": "markdown",
      "metadata": {},
      "source": [
        "# Icepak solution setup\r\n"
      ]
    },
    {
      "cell_type": "code",
      "execution_count": null,
      "metadata": {
        "collapsed": false
      },
      "outputs": [],
      "source": [
        "solution_setup = ipk.create_setup()\nsolution_setup.props[\"Convergence Criteria - Max Iterations\"] = 50\nsolution_setup.props[\"Flow Regime\"] = \"Turbulent\"\nsolution_setup.props[\"Turbulent Model Eqn\"] = \"ZeroEquation\"\nsolution_setup.props[\"Radiation Model\"] = \"Discrete Ordinates Model\"\nsolution_setup.props[\"Include Flow\"] = True\nsolution_setup.props[\"Include Gravity\"] = True\nsolution_setup.props[\"Solution Initialization - Z Velocity\"] = \"0.0005m_per_sec\"\nsolution_setup.props[\"Convergence Criteria - Flow\"] = 0.0005\nsolution_setup.props[\"Flow Iteration Per Radiation Iteration\"] = \"5\""
      ]
    },
    {
      "cell_type": "markdown",
      "metadata": {},
      "source": [
        "# Add 2-way coupling and solve the project\r\n\r\nEnable mapping temperature distribution back to Maxwell. Default number\r\nMaxwell \\<\\--\\> Icepak iterations is 2, but for increased accuracy it\r\ncan be increased (number_of_iterations).\r\n"
      ]
    },
    {
      "cell_type": "code",
      "execution_count": null,
      "metadata": {
        "collapsed": false
      },
      "outputs": [],
      "source": [
        "ipk.assign_2way_coupling()\nipk.analyze_setup(name=solution_setup.name)"
      ]
    },
    {
      "cell_type": "markdown",
      "metadata": {},
      "source": [
        "# Postprocessing\r\n\r\nPlot temperature on the object surfaces.\r\n"
      ]
    },
    {
      "cell_type": "code",
      "execution_count": null,
      "metadata": {
        "collapsed": false
      },
      "outputs": [],
      "source": [
        "surface_list = []\nfor name in [\"Coil\", \"Core\"]:\n    surface_list.extend(ipk.modeler.get_object_faces(name))\n\nsurf_temperature = ipk.post.create_fieldplot_surface(surface_list, quantity=\"SurfTemperature\",\n                                                     plot_name=\"Surface Temperature\")\n\nvelocity_cutplane = ipk.post.create_fieldplot_cutplane(assignment=[\"Global:XZ\"], quantity=\"Velocity Vectors\",\n                                                       plot_name=\"Velocity Vectors\")\n\nsurf_temperature.export_image()\nvelocity_cutplane.export_image(orientation=\"right\")\n\nreport_temp = ipk.post.create_report(expressions=\"PointMonitor1.Temperature\", primary_sweep_variable=\"X\")\nsolution_temp = report_temp.get_solution_data()\ntemp = solution_temp.data_magnitude()[0]\nm3d.logger.info(\"*******Coil temperature =  {:.2f}deg C\".format(temp))"
      ]
    },
    {
      "cell_type": "markdown",
      "metadata": {},
      "source": [
        "# Get new resistance from Maxwell\r\n\r\nTemperature of the coil increases, and consequently also coil resistance\r\nincreases.\r\n"
      ]
    },
    {
      "cell_type": "code",
      "execution_count": null,
      "metadata": {
        "collapsed": false
      },
      "outputs": [],
      "source": [
        "report_new = m3d.post.create_report(expressions=\"Matrix1.R(Winding1,Winding1)\")\nsolution_new = report_new.get_solution_data()\nresistance_new = solution_new.data_magnitude()[0]\nresistance_increase = (resistance_new - resistance)/resistance * 100\n\nreport_loss_new = m3d.post.create_report(expressions=\"StrandedLossAC\")\nsolution_loss_new = report_loss_new.get_solution_data()\nem_loss_new = solution_loss_new.data_magnitude()[0]\n\nm3d.logger.info(\"*******Coil resistance at 150kHz AFTER temperature feedback =  {:.2f}Ohm\".format(resistance_new))\nm3d.logger.info(\"*******Coil resistance increased by {:.2f}%\".format(resistance_increase))\nm3d.logger.info(\"*******Ohmic loss in coil AFTER temperature feedback =  {:.2f}W\".format(em_loss_new/1000))"
      ]
    },
    {
      "cell_type": "markdown",
      "metadata": {},
      "source": [
        "# Release desktop\r\n"
      ]
    },
    {
      "cell_type": "code",
      "execution_count": null,
      "metadata": {
        "collapsed": false
      },
      "outputs": [],
      "source": [
        "ipk.release_desktop(True, True)"
      ]
    }
  ],
  "metadata": {
    "kernelspec": {
      "display_name": "Python 3",
      "language": "python",
      "name": "python3"
    },
    "language_info": {
      "codemirror_mode": {
        "name": "ipython",
        "version": 3
      },
      "file_extension": ".py",
      "mimetype": "text/x-python",
      "name": "python",
      "nbconvert_exporter": "python",
      "pygments_lexer": "ipython3",
      "version": "3.10.9"
    }
  },
  "nbformat": 4,
  "nbformat_minor": 0
}