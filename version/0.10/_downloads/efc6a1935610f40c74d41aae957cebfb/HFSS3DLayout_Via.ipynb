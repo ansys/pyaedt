{
  "cells": [
    {
      "cell_type": "markdown",
      "metadata": {},
      "source": [
        "# HFSS 3D Layout: parametric via analysis\r\n\r\nThis example shows how you can use HFSS 3D Layout to create and solve a\r\nparametric via analysis.\r\n"
      ]
    },
    {
      "cell_type": "markdown",
      "metadata": {},
      "source": [
        "# Perform required imports\r\n\r\nPerform required imports.\r\n"
      ]
    },
    {
      "cell_type": "code",
      "execution_count": null,
      "metadata": {
        "collapsed": false
      },
      "outputs": [],
      "source": [
        "import ansys.aedt.core\nimport os"
      ]
    },
    {
      "cell_type": "markdown",
      "metadata": {},
      "source": [
        "# Set AEDT version\r\n\r\nSet AEDT version.\r\n"
      ]
    },
    {
      "cell_type": "code",
      "execution_count": null,
      "metadata": {
        "collapsed": false
      },
      "outputs": [],
      "source": [
        "aedt_version = \"2024.2\""
      ]
    },
    {
      "cell_type": "markdown",
      "metadata": {},
      "source": [
        "# Set non-graphical mode\r\n\r\nSet non-graphical mode. You can set `non_graphical` either to `True` or\r\n`False`.\r\n"
      ]
    },
    {
      "cell_type": "code",
      "execution_count": null,
      "metadata": {
        "collapsed": false
      },
      "outputs": [],
      "source": [
        "non_graphical = True"
      ]
    },
    {
      "cell_type": "markdown",
      "metadata": {},
      "source": [
        "# Launch AEDT\r\n\r\nLaunch AEDT 2023 R2 in graphical mode.\r\n"
      ]
    },
    {
      "cell_type": "code",
      "execution_count": null,
      "metadata": {
        "collapsed": false
      },
      "outputs": [],
      "source": [
        "h3d = ansys.aedt.core.Hfss3dLayout(version=aedt_version, new_desktop=True, non_graphical=non_graphical)"
      ]
    },
    {
      "cell_type": "markdown",
      "metadata": {},
      "source": [
        "# Set up variables\r\n\r\nSet up all parametric variables to use in the layout.\r\n"
      ]
    },
    {
      "cell_type": "code",
      "execution_count": null,
      "metadata": {
        "collapsed": false
      },
      "outputs": [],
      "source": [
        "h3d[\"viatotrace\"] = \"5mm\"\nh3d[\"viatovia\"] = \"10mm\"\nh3d[\"w1\"] = \"1mm\"\nh3d[\"sp\"] = \"0.5mm\"\nh3d[\"len\"] = \"50mm\""
      ]
    },
    {
      "cell_type": "markdown",
      "metadata": {},
      "source": [
        "# Add stackup layers\r\n\r\nAdd stackup layers.\r\n"
      ]
    },
    {
      "cell_type": "code",
      "execution_count": null,
      "metadata": {
        "collapsed": false
      },
      "outputs": [],
      "source": [
        "h3d.modeler.layers.add_layer(layer=\"GND\", layer_type=\"signal\", thickness=\"0\", isnegative=True)\nh3d.modeler.layers.add_layer(layer=\"diel\", layer_type=\"dielectric\", thickness=\"0.2mm\", material=\"FR4_epoxy\")\nh3d.modeler.layers.add_layer(layer=\"TOP\", layer_type=\"signal\", thickness=\"0.035mm\", elevation=\"0.2mm\")"
      ]
    },
    {
      "cell_type": "markdown",
      "metadata": {},
      "source": [
        "# Create signal net and ground planes\r\n\r\nCreate a signal net and ground planes.\r\n"
      ]
    },
    {
      "cell_type": "code",
      "execution_count": null,
      "metadata": {
        "collapsed": false
      },
      "outputs": [],
      "source": [
        "h3d.modeler.create_line(layer=\"TOP\",\n                        center_line_coordinates=[[0, 0], [\"len\", 0]],\n                        lw=\"w1\",\n                        name=\"microstrip\",\n                        net=\"microstrip\")\nh3d.modeler.create_rectangle(layer=\"TOP\", origin=[0, \"-w1/2-sp\"], sizes=[\"len\", \"-w1/2-sp-20mm\"])\nh3d.modeler.create_rectangle(layer=\"TOP\", origin=[0, \"w1/2+sp\"], sizes=[\"len\", \"w1/2+sp+20mm\"])"
      ]
    },
    {
      "cell_type": "markdown",
      "metadata": {},
      "source": [
        "# Create vias\r\n\r\nCreate vias with parametric positions.\r\n"
      ]
    },
    {
      "cell_type": "code",
      "execution_count": null,
      "metadata": {
        "collapsed": false
      },
      "outputs": [],
      "source": [
        "h3d.modeler.create_via(x=\"viatovia\", y=\"-viatotrace\", name=\"via1\")\nh3d.modeler.create_via(x=\"viatovia\", y=\"viatotrace\", name=\"via2\")\nh3d.modeler.create_via(x=\"2*viatovia\", y=\"-viatotrace\")\nh3d.modeler.create_via(x=\"2*viatovia\", y=\"viatotrace\")\nh3d.modeler.create_via(x=\"3*viatovia\", y=\"-viatotrace\")\nh3d.modeler.create_via(x=\"3*viatovia\", y=\"viatotrace\")"
      ]
    },
    {
      "cell_type": "markdown",
      "metadata": {},
      "source": [
        "# Create circuit ports\r\n\r\nCreate circuit ports.\r\n"
      ]
    },
    {
      "cell_type": "code",
      "execution_count": null,
      "metadata": {
        "collapsed": false
      },
      "outputs": [],
      "source": [
        "h3d.create_edge_port(\"microstrip\", 0)\nh3d.create_edge_port(\"microstrip\", 2)"
      ]
    },
    {
      "cell_type": "markdown",
      "metadata": {},
      "source": [
        "# Create setup and sweep\r\n\r\nCreate a setup and a sweep.\r\n"
      ]
    },
    {
      "cell_type": "code",
      "execution_count": null,
      "metadata": {
        "collapsed": false
      },
      "outputs": [],
      "source": [
        "setup = h3d.create_setup()\nh3d.create_linear_count_sweep(setup=setup.name, unit=\"GHz\", start_frequency=3, stop_frequency=7,\n                              num_of_freq_points=1001, save_fields=False, sweep_type=\"Interpolating\",\n                              interpolation_tol_percent=1, interpolation_max_solutions=255, use_q3d_for_dc=False)"
      ]
    },
    {
      "cell_type": "markdown",
      "metadata": {},
      "source": [
        "# Solve and plot results\r\n\r\nSolve and plot the results.\r\n"
      ]
    },
    {
      "cell_type": "code",
      "execution_count": null,
      "metadata": {
        "collapsed": false
      },
      "outputs": [],
      "source": [
        "h3d.analyze()\ntraces = h3d.get_traces_for_plot(first_element_filter=\"Port1\")\nh3d.post.create_report(traces, variations=h3d.available_variations.nominal_w_values_dict)"
      ]
    },
    {
      "cell_type": "markdown",
      "metadata": {},
      "source": [
        "# Create report outside AEDT\r\n\r\nCreate a report using Matplotlib.\r\n"
      ]
    },
    {
      "cell_type": "code",
      "execution_count": null,
      "metadata": {
        "collapsed": false
      },
      "outputs": [],
      "source": [
        "traces = h3d.get_traces_for_plot(first_element_filter=\"Port1\", category=\"S\")\n\nsolutions = h3d.post.get_solution_data(expressions=traces)\nsolutions.plot(formula=\"db20\")"
      ]
    },
    {
      "cell_type": "markdown",
      "metadata": {},
      "source": [
        "# Close AEDT\r\n\r\nAfter the simulation completes, you can close AEDT or release it using\r\nthe `ansys.aedt.core.Desktop.release_desktop`{.interpreted-text\r\nrole=\"func\"} method. All methods provide for saving the project before\r\nclosing.\r\n"
      ]
    },
    {
      "cell_type": "code",
      "execution_count": null,
      "metadata": {
        "collapsed": false
      },
      "outputs": [],
      "source": [
        "h3d.release_desktop()"
      ]
    }
  ],
  "metadata": {
    "kernelspec": {
      "display_name": "Python 3",
      "language": "python",
      "name": "python3"
    },
    "language_info": {
      "codemirror_mode": {
        "name": "ipython",
        "version": 3
      },
      "file_extension": ".py",
      "mimetype": "text/x-python",
      "name": "python",
      "nbconvert_exporter": "python",
      "pygments_lexer": "ipython3",
      "version": "3.10.9"
    }
  },
  "nbformat": 4,
  "nbformat_minor": 0
}