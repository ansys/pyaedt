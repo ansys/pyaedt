{
  "cells": [
    {
      "cell_type": "markdown",
      "metadata": {},
      "source": [
        "# Circuit: PCIE virtual compliance\r\n\r\nThis example shows how to generate a compliance report in PyAEDT using\r\nthe `VirtualCompliance` class.\r\n"
      ]
    },
    {
      "cell_type": "markdown",
      "metadata": {},
      "source": [
        "# Perform required imports\r\n\r\nPerform required imports and set paths.\r\n"
      ]
    },
    {
      "cell_type": "code",
      "execution_count": null,
      "metadata": {
        "collapsed": false
      },
      "outputs": [],
      "source": [
        "import os.path\nimport ansys.aedt.core\nfrom ansys.aedt.core.generic.compliance import VirtualCompliance"
      ]
    },
    {
      "cell_type": "markdown",
      "metadata": {},
      "source": [
        "# Set AEDT version\r\n\r\nSet AEDT version.\r\n"
      ]
    },
    {
      "cell_type": "code",
      "execution_count": null,
      "metadata": {
        "collapsed": false
      },
      "outputs": [],
      "source": [
        "aedt_version = \"2024.2\""
      ]
    },
    {
      "cell_type": "markdown",
      "metadata": {},
      "source": [
        "# Set non-graphical mode\r\n\r\nSet non-graphical mode. You can set `non_graphical` either to `True` or\r\n`False`. The Boolean parameter `new_thread` defines whether to create a\r\nnew instance of AEDT or try to connect to an existing instance of it.\r\n"
      ]
    },
    {
      "cell_type": "code",
      "execution_count": null,
      "metadata": {
        "collapsed": false
      },
      "outputs": [],
      "source": [
        "non_graphical = True\nnew_thread = True"
      ]
    },
    {
      "cell_type": "markdown",
      "metadata": {},
      "source": [
        "# Download example files\r\n\r\nDownload the project and files needed to run the example.\r\n"
      ]
    },
    {
      "cell_type": "code",
      "execution_count": null,
      "metadata": {
        "collapsed": false
      },
      "outputs": [],
      "source": [
        "workdir = ansys.aedt.core.downloads.download_file('pcie_compliance')\n\nprojectdir = os.path.join(workdir, \"project\")"
      ]
    },
    {
      "cell_type": "markdown",
      "metadata": {},
      "source": [
        "# Launch AEDT\r\n\r\nLaunch AEDT.\r\n"
      ]
    },
    {
      "cell_type": "code",
      "execution_count": null,
      "metadata": {
        "collapsed": false
      },
      "outputs": [],
      "source": [
        "d = ansys.aedt.core.Desktop(aedt_version, new_desktop=new_thread, non_graphical=non_graphical)"
      ]
    },
    {
      "cell_type": "markdown",
      "metadata": {},
      "source": [
        "# Open and solve layout\r\n\r\nOpen the HFSS 3D Layout project and analyze it using the SIwave solver.\r\nBefore solving, this code ensures that the model is solved from DC to\r\n70GHz and that causality and passivity are enforced.\r\n"
      ]
    },
    {
      "cell_type": "code",
      "execution_count": null,
      "metadata": {
        "collapsed": false
      },
      "outputs": [],
      "source": [
        "h3d = ansys.aedt.core.Hfss3dLayout(os.path.join(projectdir, \"PCIE_GEN5_only_layout.aedtz\"), version=242)\nh3d.remove_all_unused_definitions()\nh3d.edit_cosim_options(simulate_missing_solution=False)\nh3d.setups[0].sweeps[0].props[\"EnforcePassivity\"] = True\nh3d.setups[0].sweeps[0].props[\"Sweeps\"][\"Data\"] = 'LIN 0MHz 70GHz 0.1GHz'\nh3d.setups[0].sweeps[0].props[\"EnforceCausality\"] = True\nh3d.setups[0].sweeps[0].update()\nh3d.analyze()\nh3d = ansys.aedt.core.Hfss3dLayout(version=242)\ntouchstone_path = h3d.export_touchstone()"
      ]
    },
    {
      "cell_type": "markdown",
      "metadata": {},
      "source": [
        "# Create LNA project\r\n\r\nUse the LNA setup to retrieve Touchstone files and generate frequency\r\ndomain reports.\r\n"
      ]
    },
    {
      "cell_type": "code",
      "execution_count": null,
      "metadata": {
        "collapsed": false
      },
      "outputs": [],
      "source": [
        "cir = ansys.aedt.core.Circuit(project=h3d.project_name, design=\"Touchstone\")\nstatus, diff_pairs, comm_pairs = cir.create_lna_schematic_from_snp(input_file=touchstone_path, start_frequency=0,\n                                                                   stop_frequency=70, auto_assign_diff_pairs=True,\n                                                                   separation=\".\", pattern=[\"component\", \"pin\", \"net\"],\n                                                                   analyze=True)\n\ninsertion = cir.get_all_insertion_loss_list(drivers=diff_pairs, receivers=diff_pairs, drivers_prefix_name=\"X1\",\n                                            receivers_prefix_name=\"U1\", math_formula=\"dB\",\n                                            nets=[\"RX0\", \"RX1\", \"RX2\", \"RX3\"])\nreturn_diff = cir.get_all_return_loss_list(excitations=diff_pairs, excitation_name_prefix=\"X1\", math_formula=\"dB\",\n                                           nets=[\"RX0\", \"RX1\", \"RX2\", \"RX3\"])\nreturn_comm = cir.get_all_return_loss_list(excitations=comm_pairs, excitation_name_prefix=\"COMMON_X1\",\n                                           math_formula=\"dB\", nets=[\"RX0\", \"RX1\", \"RX2\", \"RX3\"])"
      ]
    },
    {
      "cell_type": "markdown",
      "metadata": {},
      "source": [
        "# Create TDR project\r\n\r\nCreate a TDR project to compute transient simulation and retrieve the\r\nTDR measurement on a differential pair. The original circuit schematic\r\nis duplicated and modified to achieve this target.\r\n"
      ]
    },
    {
      "cell_type": "code",
      "execution_count": null,
      "metadata": {
        "collapsed": false
      },
      "outputs": [],
      "source": [
        "result, tdr_probe_name = cir.create_tdr_schematic_from_snp(input_file=touchstone_path,\n                                                           tx_schematic_pins=[\"X1.A2.PCIe_Gen4_RX0_P\"],\n                                                           tx_schematic_differential_pins=[\"X1.A3.PCIe_Gen4_RX0_N\"],\n                                                           termination_pins=[\"U1.AP26.PCIe_Gen4_RX0_P\",\n                                                                             \"U1.AN26.PCIe_Gen4_RX0_N\"],\n                                                           differential=True, rise_time=35, use_convolution=True,\n                                                           analyze=True, design_name=\"TDR\")"
      ]
    },
    {
      "cell_type": "markdown",
      "metadata": {},
      "source": [
        "# Create AMI project\r\n\r\nCreate an Ibis AMI project to compute an eye diagram simulation and\r\nretrieve eye mask violations.\r\n"
      ]
    },
    {
      "cell_type": "code",
      "execution_count": null,
      "metadata": {
        "collapsed": false
      },
      "outputs": [],
      "source": [
        "result, eye_curve_tx, eye_curve_rx = cir.create_ami_schematic_from_snp(input_file=touchstone_path,\n                                                                       ibis_tx_file=os.path.join(projectdir, \"models\",\n                                                                                                 \"pcieg5_32gt.ibs\"),\n                                                                       tx_buffer_name=\"1p\", rx_buffer_name=\"2p\",\n                                                                       tx_schematic_pins=[\n                                                                           \"U1.AM25.PCIe_Gen4_TX0_CAP_P\"],\n                                                                       rx_schematic_pins=[\n                                                                           \"X1.B2.PCIe_Gen4_TX0_P\"],\n                                                                       tx_schematic_differential_pins=[\n                                                                           \"U1.AL25.PCIe_Gen4_TX0_CAP_N\"],\n                                                                       rx_schematic_differentialial_pins=[\n                                                                           \"X1.B3.PCIe_Gen4_TX0_N\"],\n                                                                       ibis_tx_component_name=\"Spec_Model\",\n                                                                       use_ibis_buffer=False, differential=True,\n                                                                       bit_pattern=\"random_bit_count=2.5e3 random_seed=1\",\n                                                                       unit_interval=\"31.25ps\", use_convolution=True,\n                                                                       analyze=True, design_name=\"AMI\")\n\ncir.save_project()"
      ]
    },
    {
      "cell_type": "markdown",
      "metadata": {},
      "source": [
        "# Create virtual compliance report\r\n\r\nInitialize the `VirtualCompliance` class and set up the main project\r\ninformation needed to generate the report.\r\n\r\n![Virtual compliance class description.](../../_static/virtual_compliance_class.png){width=\"400px\"}\r\n\r\n![Virtual compliance configuration files hierarchy.](../../_static/virtual_compliance_configs.png){width=\"400px\"}\r\n"
      ]
    },
    {
      "cell_type": "code",
      "execution_count": null,
      "metadata": {
        "collapsed": false
      },
      "outputs": [],
      "source": [
        "template = os.path.join(workdir, \"pcie_gen5_templates\", \"main.json\")\n\nv = VirtualCompliance(cir.desktop_class, str(template))"
      ]
    },
    {
      "cell_type": "markdown",
      "metadata": {},
      "source": [
        "# Customize project and design\r\n\r\nDefine the path to the project file and the design names to be used in\r\neach report generation.\r\n\r\n![Virtual compliance configuration usage example.](../../_static/virtual_compliance_usage.png){width=\"400px\"}\r\n"
      ]
    },
    {
      "cell_type": "code",
      "execution_count": null,
      "metadata": {
        "collapsed": false
      },
      "outputs": [],
      "source": [
        "v.project_file = cir.project_file\nv.reports[\"insertion losses\"].design_name = \"LNA\"\nv.reports[\"return losses\"].design_name = \"LNA\"\nv.reports[\"common mode return losses\"].design_name = \"LNA\"\nv.reports[\"tdr from circuit\"].design_name = \"TDR\"\nv.reports[\"eye1\"].design_name = \"AMI\"\nv.reports[\"eye3\"].design_name = \"AMI\"\nv.parameters[\"erl\"].design_name = \"LNA\"\nv.specs_folder = os.path.join(workdir, 'readme_pictures')"
      ]
    },
    {
      "cell_type": "markdown",
      "metadata": {},
      "source": [
        "# Define trace names\r\n\r\nChange the trace name with projects and users. Reuse the compliance\r\ntemplate and update traces accordingly.\r\n"
      ]
    },
    {
      "cell_type": "code",
      "execution_count": null,
      "metadata": {
        "collapsed": false
      },
      "outputs": [],
      "source": [
        "v.reports[\"insertion losses\"].traces = insertion\n\nv.reports[\"return losses\"].traces = return_diff\n\nv.reports[\"common mode return losses\"].traces = return_comm\n\nv.reports[\"eye1\"].traces = eye_curve_tx\nv.reports[\"eye3\"].traces = eye_curve_tx\nv.reports[\"tdr from circuit\"].traces = tdr_probe_name\nv.parameters[\"erl\"].trace_pins = [\n    [\"X1.A5.PCIe_Gen4_RX1_P\", \"X1.A6.PCIe_Gen4_RX1_N\", \"U1.AR25.PCIe_Gen4_RX1_P\", \"U1.AP25.PCIe_Gen4_RX1_N\"],\n    [7, 8, 18, 17]]"
      ]
    },
    {
      "cell_type": "markdown",
      "metadata": {},
      "source": [
        "# Generate PDF report\r\n\r\nGenerate the reports and produce a PDF report.\r\n\r\n![Insertion loss output.](../../_static/virtual_compliance_scattering1.png){width=\"400px\"}\r\n\r\n![Return loss output.](../../_static/virtual_compliance_scattering2.png){width=\"400px\"}\r\n\r\n![Eye diagram example.](../../_static/virtual_compliance_eye.png){width=\"400px\"}\r\n"
      ]
    },
    {
      "cell_type": "code",
      "execution_count": null,
      "metadata": {
        "collapsed": false
      },
      "outputs": [],
      "source": [
        "v.create_compliance_report()\n\nd.release_desktop(True, True)"
      ]
    }
  ],
  "metadata": {
    "kernelspec": {
      "display_name": "Python 3",
      "language": "python",
      "name": "python3"
    },
    "language_info": {
      "codemirror_mode": {
        "name": "ipython",
        "version": 3
      },
      "file_extension": ".py",
      "mimetype": "text/x-python",
      "name": "python",
      "nbconvert_exporter": "python",
      "pygments_lexer": "ipython3",
      "version": "3.10.9"
    }
  },
  "nbformat": 4,
  "nbformat_minor": 0
}