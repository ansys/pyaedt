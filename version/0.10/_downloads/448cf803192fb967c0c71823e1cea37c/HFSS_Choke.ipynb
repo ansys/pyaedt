{
  "cells": [
    {
      "cell_type": "markdown",
      "metadata": {},
      "source": [
        "# HFSS: choke\r\n\r\nThis example shows how you can use PyAEDT to create a choke setup in\r\nHFSS.\r\n"
      ]
    },
    {
      "cell_type": "markdown",
      "metadata": {},
      "source": [
        "# Perform required imports\r\n\r\nPerform required imports.\r\n"
      ]
    },
    {
      "cell_type": "code",
      "execution_count": null,
      "metadata": {
        "collapsed": false
      },
      "outputs": [],
      "source": [
        "import json\nimport os\nimport ansys.aedt.core\nimport tempfile"
      ]
    },
    {
      "cell_type": "markdown",
      "metadata": {},
      "source": [
        "# Create temporary directory\r\n\r\nCreate temporary directory.\r\n"
      ]
    },
    {
      "cell_type": "code",
      "execution_count": null,
      "metadata": {
        "collapsed": false
      },
      "outputs": [],
      "source": [
        "temp_dir = tempfile.TemporaryDirectory(suffix=\".ansys\")\n\nproject_name = ansys.aedt.core.generate_unique_project_name(root_name=temp_dir.name, folder_name=\"choke\",\n                                                   project_name=\"choke\")"
      ]
    },
    {
      "cell_type": "markdown",
      "metadata": {},
      "source": [
        "# Set AEDT version\r\n\r\nSet AEDT version.\r\n"
      ]
    },
    {
      "cell_type": "code",
      "execution_count": null,
      "metadata": {
        "collapsed": false
      },
      "outputs": [],
      "source": [
        "aedt_version = \"2024.2\""
      ]
    },
    {
      "cell_type": "markdown",
      "metadata": {},
      "source": [
        "# Set non-graphical mode\r\n\r\nSet non-graphical mode. You can set `non_graphical` either to `True` or\r\n`False`.\r\n"
      ]
    },
    {
      "cell_type": "code",
      "execution_count": null,
      "metadata": {
        "collapsed": false
      },
      "outputs": [],
      "source": [
        "non_graphical = False"
      ]
    },
    {
      "cell_type": "markdown",
      "metadata": {},
      "source": [
        "# Launch HFSS\r\n\r\nLaunches HFSS 2023 R2 in graphical mode.\r\n"
      ]
    },
    {
      "cell_type": "code",
      "execution_count": null,
      "metadata": {
        "collapsed": false
      },
      "outputs": [],
      "source": [
        "hfss = ansys.aedt.core.Hfss(project=project_name,\n                   version=aedt_version,\n                   non_graphical=non_graphical,\n                   new_desktop=True,\n                   solution_type=\"Terminal\")"
      ]
    },
    {
      "cell_type": "markdown",
      "metadata": {},
      "source": [
        "# Rules and information of use\r\n\r\nThe dictionary values contain the different parameter values of the core\r\nand the windings that compose the choke. You must not change the main\r\nstructure of the dictionary. The dictionary has many primary keys,\r\nincluding `\"Number of Windings\"`, `\"Layer\"`, and `\"Layer Type\"`, that\r\nhave dictionaries as values. The keys of these dictionaries are\r\nsecondary keys of the dictionary values, such as `\"1\"`, `\"2\"`, `\"3\"`,\r\n`\"4\"`, and `\"Simple\"`.\r\n\r\nYou must not modify the primary or secondary keys. You can modify only\r\ntheir values. You must not change the data types for these keys. For the\r\ndictionaries from `\"Number of Windings\"` through `\"Wire Section\"`,\r\nvalues must be Boolean. Only one value per dictionary can be `True`. If\r\nall values are `True`, only the first one remains set to `True`. If all\r\nvalues are `False`, the first value is chosen as the correct one by\r\ndefault. For the dictionaries from `\"Core\"` through `\"Inner Winding\"`,\r\nvalues must be strings, floats, or integers.\r\n\r\nDescriptions follow for primary keys:\r\n\r\n-   `\"Number of Windings\"`: Number of windings around the core\r\n-   `\"Layer\"`: Number of layers of all windings\r\n-   `\"Layer Type\"`: Whether layers of a winding are linked to each other\r\n-   `\"Similar Layer\"`: Whether layers of a winding have the same number\r\n    of turns and same spacing between turns\r\n-   `\"Mode\"`: When there are only two windows, whether they are in\r\n    common or differential mode\r\n-   `\"Wire Section\"`: Type of wire section and number of segments\r\n-   `\"Core\"`: Design of the core\r\n-   `\"Outer Winding\"`: Design of the first layer or outer layer of a\r\n    winding and the common parameters for all layers\r\n-   `\"Mid Winding\"`: Turns and turns spacing (\\\"Coil Pit\\\") for the\r\n    second or mid layer if it is necessary\r\n-   `\"Inner Winding\"`: Turns and turns spacing (\\\"Coil Pit\\\") for the\r\n    third or inner layer if it is necessary\r\n-   `\"Occupation(%)\"`: An informative parameter that is useless to\r\n    modify\r\n\r\nThe following parameter values work. You can modify them if you want.\r\n"
      ]
    },
    {
      "cell_type": "code",
      "execution_count": null,
      "metadata": {
        "collapsed": false
      },
      "outputs": [],
      "source": [
        "values = {\n    \"Number of Windings\": {\"1\": False, \"2\": True, \"3\": False, \"4\": False},\n    \"Layer\": {\"Simple\": False, \"Double\": True, \"Triple\": False},\n    \"Layer Type\": {\"Separate\": False, \"Linked\": True},\n    \"Similar Layer\": {\"Similar\": False, \"Different\": True},\n    \"Mode\": {\"Differential\": False, \"Common\": True},\n    \"Wire Section\": {\"None\": False, \"Hexagon\": True, \"Octagon\": False, \"Circle\": False},\n    \"Core\": {\n        \"Name\": \"Core\",\n        \"Material\": \"ferrite\",\n        \"Inner Radius\": 20,\n        \"Outer Radius\": 30,\n        \"Height\": 10,\n        \"Chamfer\": 0.8,\n    },\n    \"Outer Winding\": {\n        \"Name\": \"Winding\",\n        \"Material\": \"copper\",\n        \"Inner Radius\": 20,\n        \"Outer Radius\": 30,\n        \"Height\": 10,\n        \"Wire Diameter\": 1.5,\n        \"Turns\": 20,\n        \"Coil Pit(deg)\": 0.1,\n        \"Occupation(%)\": 0,\n    },\n    \"Mid Winding\": {\"Turns\": 25, \"Coil Pit(deg)\": 0.1, \"Occupation(%)\": 0},\n    \"Inner Winding\": {\"Turns\": 4, \"Coil Pit(deg)\": 0.1, \"Occupation(%)\": 0},\n}"
      ]
    },
    {
      "cell_type": "markdown",
      "metadata": {},
      "source": [
        "# Convert dictionary to JSON file\r\n\r\nConvert a dictionary to a JSON file. You must supply the path of the\r\nJSON file as an argument.\r\n"
      ]
    },
    {
      "cell_type": "code",
      "execution_count": null,
      "metadata": {
        "collapsed": false
      },
      "outputs": [],
      "source": [
        "json_path = os.path.join(hfss.working_directory, \"choke_example.json\")\n\nwith open(json_path, \"w\") as outfile:\n    json.dump(values, outfile)"
      ]
    },
    {
      "cell_type": "markdown",
      "metadata": {},
      "source": [
        "# Verify parameters of JSON file\r\n\r\nVerify parameters of the JSON file. The `check_choke_values` method\r\ntakes the JSON file path as an argument and does the following:\r\n\r\n-   Checks if the JSON file is correctly written (as explained in the\r\n    rules)\r\n-   Checks in equations on windings parameters to avoid having\r\n    unintended intersections\r\n"
      ]
    },
    {
      "cell_type": "code",
      "execution_count": null,
      "metadata": {
        "collapsed": false
      },
      "outputs": [],
      "source": [
        "dictionary_values = hfss.modeler.check_choke_values(json_path, create_another_file=False)\nprint(dictionary_values)"
      ]
    },
    {
      "cell_type": "markdown",
      "metadata": {},
      "source": [
        "# Create choke\r\n\r\nCreate the choke. The `create_choke` method takes the JSON file path as\r\nan argument.\r\n"
      ]
    },
    {
      "cell_type": "code",
      "execution_count": null,
      "metadata": {
        "collapsed": false
      },
      "outputs": [],
      "source": [
        "list_object = hfss.modeler.create_choke(json_path)\nprint(list_object)\ncore = list_object[1]\nfirst_winding_list = list_object[2]\nsecond_winding_list = list_object[3]"
      ]
    },
    {
      "cell_type": "markdown",
      "metadata": {},
      "source": [
        "# Create ground\r\n\r\nCreate a ground.\r\n"
      ]
    },
    {
      "cell_type": "code",
      "execution_count": null,
      "metadata": {
        "collapsed": false
      },
      "outputs": [],
      "source": [
        "ground_radius = 1.2 * dictionary_values[1][\"Outer Winding\"][\"Outer Radius\"]\nground_position = [0, 0, first_winding_list[1][0][2] - 2]\nground = hfss.modeler.create_circle(\"XY\", ground_position, ground_radius, name=\"GND\", material=\"copper\")\ncoat = hfss.assign_coating(ground, is_infinite_ground=True)"
      ]
    },
    {
      "cell_type": "markdown",
      "metadata": {},
      "source": [
        "# Create lumped ports\r\n\r\nCreate lumped ports.\r\n"
      ]
    },
    {
      "cell_type": "code",
      "execution_count": null,
      "metadata": {
        "collapsed": false
      },
      "outputs": [],
      "source": [
        "port_position_list = [\n    [first_winding_list[1][0][0], first_winding_list[1][0][1], first_winding_list[1][0][2] - 1],\n    [first_winding_list[1][-1][0], first_winding_list[1][-1][1], first_winding_list[1][-1][2] - 1],\n    [second_winding_list[1][0][0], second_winding_list[1][0][1], second_winding_list[1][0][2] - 1],\n    [second_winding_list[1][-1][0], second_winding_list[1][-1][1], second_winding_list[1][-1][2] - 1],\n]\nport_dimension_list = [2, dictionary_values[1][\"Outer Winding\"][\"Wire Diameter\"]]\nfor position in port_position_list:\n    sheet = hfss.modeler.create_rectangle(\"XZ\", position, port_dimension_list, name=\"sheet_port\")\n    sheet.move([-dictionary_values[1][\"Outer Winding\"][\"Wire Diameter\"] / 2, 0, -1])\n    hfss.lumped_port(assignment=sheet.name, reference=[ground],\n                     name=\"port_\" + str(port_position_list.index(position) + 1))"
      ]
    },
    {
      "cell_type": "markdown",
      "metadata": {},
      "source": [
        "# Create mesh\r\n\r\nCreate the mesh.\r\n"
      ]
    },
    {
      "cell_type": "code",
      "execution_count": null,
      "metadata": {
        "collapsed": false
      },
      "outputs": [],
      "source": [
        "cylinder_height = 2.5 * dictionary_values[1][\"Outer Winding\"][\"Height\"]\ncylinder_position = [0, 0, first_winding_list[1][0][2] - 4]\nmesh_operation_cylinder = hfss.modeler.create_cylinder(\"XY\", cylinder_position, ground_radius, cylinder_height,\n                                                       num_sides=36, name=\"mesh_cylinder\")\nhfss.mesh.assign_length_mesh([mesh_operation_cylinder], maximum_length=15, maximum_elements=None, name=\"choke_mesh\")"
      ]
    },
    {
      "cell_type": "markdown",
      "metadata": {},
      "source": [
        "# Create boundaries\r\n\r\nCreate the boundaries. A region with openings is needed to run the\r\nanalysis.\r\n"
      ]
    },
    {
      "cell_type": "code",
      "execution_count": null,
      "metadata": {
        "collapsed": false
      },
      "outputs": [],
      "source": [
        "region = hfss.modeler.create_region(pad_percent=1000)"
      ]
    },
    {
      "cell_type": "markdown",
      "metadata": {},
      "source": [
        "# Create setup\r\n\r\nCreate a setup with a sweep to run the simulation. Depending on your\r\nmachine\\'s computing power, the simulation can take some time to run.\r\n"
      ]
    },
    {
      "cell_type": "code",
      "execution_count": null,
      "metadata": {
        "collapsed": false
      },
      "outputs": [],
      "source": [
        "setup = hfss.create_setup(\"MySetup\")\nsetup.props[\"Frequency\"] = \"50MHz\"\nsetup[\"MaximumPasses\"] = 10\nhfss.create_linear_count_sweep(setup=setup.name, units=\"MHz\", start_frequency=0.1, stop_frequency=100,\n                               num_of_freq_points=100, name=\"sweep1\", save_fields=False, sweep_type=\"Interpolating\")"
      ]
    },
    {
      "cell_type": "markdown",
      "metadata": {},
      "source": [
        "# Save project\r\n\r\nSave the project.\r\n"
      ]
    },
    {
      "cell_type": "code",
      "execution_count": null,
      "metadata": {
        "collapsed": false
      },
      "outputs": [],
      "source": [
        "hfss.modeler.fit_all()\nhfss.plot(show=False, output_file=os.path.join(hfss.working_directory, \"Image.jpg\"), plot_air_objects=True)"
      ]
    },
    {
      "cell_type": "markdown",
      "metadata": {},
      "source": [
        "# Close AEDT\r\n\r\nAfter the simulation completes, you can close AEDT or release it using\r\nthe `ansys.aedt.core.Desktop.release_desktop`{.interpreted-text\r\nrole=\"func\"} method. All methods provide for saving the project before\r\nclosing.\r\n"
      ]
    },
    {
      "cell_type": "code",
      "execution_count": null,
      "metadata": {
        "collapsed": false
      },
      "outputs": [],
      "source": [
        "hfss.release_desktop()"
      ]
    }
  ],
  "metadata": {
    "kernelspec": {
      "display_name": "Python 3",
      "language": "python",
      "name": "python3"
    },
    "language_info": {
      "codemirror_mode": {
        "name": "ipython",
        "version": 3
      },
      "file_extension": ".py",
      "mimetype": "text/x-python",
      "name": "python",
      "nbconvert_exporter": "python",
      "pygments_lexer": "ipython3",
      "version": "3.10.9"
    }
  },
  "nbformat": 4,
  "nbformat_minor": 0
}