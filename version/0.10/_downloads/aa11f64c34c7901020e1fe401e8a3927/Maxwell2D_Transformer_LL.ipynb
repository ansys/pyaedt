{
  "cells": [
    {
      "cell_type": "markdown",
      "metadata": {},
      "source": [
        "# Transformer leakage inductance calculation in Maxwell 2D Magnetostatic\r\n\r\nThis example shows how you can use pyAEDT to create a Maxwell 2D\r\nmagnetostatic analysis to calculate transformer leakage inductance and\r\nreactance. The analysis based on this document form page 8 on:\r\n<https://www.ee.iitb.ac.in/~fclab/FEM/FEM1.pdf>\r\n"
      ]
    },
    {
      "cell_type": "markdown",
      "metadata": {},
      "source": [
        "# Perform required imports\r\n"
      ]
    },
    {
      "cell_type": "code",
      "execution_count": null,
      "metadata": {
        "collapsed": false
      },
      "outputs": [],
      "source": [
        "import tempfile\nfrom ansys.aedt.core import Maxwell2d\n\ntemp_dir = tempfile.TemporaryDirectory(suffix=\".ansys\")"
      ]
    },
    {
      "cell_type": "markdown",
      "metadata": {},
      "source": [
        "Initialize and launch Maxwell 2D\r\n\r\n:   \r\n\r\n    ------------------------------------------------------------------------\r\n\r\nInitialize and launch Maxwell 2D, providing the version, path to the\r\nproject, and the design name and type.\r\n"
      ]
    },
    {
      "cell_type": "code",
      "execution_count": null,
      "metadata": {
        "collapsed": false
      },
      "outputs": [],
      "source": [
        "non_graphical = False\n\nproject_name = \"Transformer_leakage_inductance\"\ndesign_name = \"1 Magnetostatic\"\nsolver = \"MagnetostaticXY\"\ndesktop_version = \"2024.2\"\n\nm2d = Maxwell2d(version=desktop_version,\n                new_desktop=False,\n                design=design_name,\n                project=project_name,\n                solution_type=solver,\n                non_graphical=non_graphical)"
      ]
    },
    {
      "cell_type": "markdown",
      "metadata": {},
      "source": [
        "# Initialize dictionaries\r\n\r\nInitialize dictionaries that contain all the definitions for the design\r\nvariables.\r\n"
      ]
    },
    {
      "cell_type": "code",
      "execution_count": null,
      "metadata": {
        "collapsed": false
      },
      "outputs": [],
      "source": [
        "mod = m2d.modeler\nmod.model_units = \"mm\"\n\ndimensions = {\n    \"core_width\": \"1097mm\",\n    \"core_height\": \"2880mm\",\n    \"core_opening_x1\": \"270mm\",\n    \"core_opening_x2\": \"557mm\",\n    \"core_opening_y1\": \"540mm\",\n    \"core_opening_y2\": \"2340mm\",\n    \"core_opening_width\": \"core_opening_x2-core_opening_x1\",\n    \"core_opening_height\": \"core_opening_y2-core_opening_y1\",\n    \"LV_x1\": \"293mm\",\n    \"LV_x2\": \"345mm\",\n    \"LV_width\": \"LV_x2-LV_x1\",\n    \"LV_mean_radius\": \"LV_x1+LV_width/2\",\n    \"LV_mean_turn_length\": \"pi*2*LV_mean_radius\",\n    \"LV_y1\": \"620mm\",\n    \"LV_y2\": \"2140mm\",\n    \"LV_height\": \"LV_y2-LV_y1\",\n    \"HV_x1\": \"394mm\",\n    \"HV_x2\": \"459mm\",\n    \"HV_width\": \"HV_x2-HV_x1\",\n    \"HV_mean_radius\": \"HV_x1+HV_width/2\",\n    \"HV_mean_turn_length\": \"pi*2*HV_mean_radius\",\n    \"HV_y1\": \"620mm\",\n    \"HV_y2\": \"2140mm\",\n    \"HV_height\": \"HV_y2-HV_y1\",\n    \"HV_LV_gap_radius\": \"(LV_x2 + HV_x1)/2\",\n    \"HV_LV_gap_length\": \"pi*2*HV_LV_gap_radius\",\n}\n\nspecifications = {\n    \"Amp_turns\": \"135024A\",\n    \"Frequency\": \"50Hz\",\n    \"HV_turns\": \"980\",\n    \"HV_current\": \"Amp_turns/HV_turns\",\n}"
      ]
    },
    {
      "cell_type": "markdown",
      "metadata": {},
      "source": [
        "# Define variables from dictionaries\r\n\r\nDefine design variables from the created dictionaries.\r\n"
      ]
    },
    {
      "cell_type": "code",
      "execution_count": null,
      "metadata": {
        "collapsed": false
      },
      "outputs": [],
      "source": [
        "m2d.variable_manager.set_variable(name=\"Dimensions\")\n\nfor k, v in dimensions.items():\n    m2d[k] = v\n\nm2d.variable_manager.set_variable(name=\"Windings\")\n\nfor k, v in specifications.items():\n    m2d[k] = v"
      ]
    },
    {
      "cell_type": "markdown",
      "metadata": {},
      "source": [
        "# Create design geometries\r\n\r\nCreate transformer core, HV and LV windings, and the region.\r\n"
      ]
    },
    {
      "cell_type": "code",
      "execution_count": null,
      "metadata": {
        "collapsed": false
      },
      "outputs": [],
      "source": [
        "core_id = mod.create_rectangle(\n    position=[0, 0, 0],\n    dimension_list=[\"core_width\", \"core_height\", 0],\n    name=\"core\",\n    matname=\"steel_1008\",\n)\n\ncore_hole_id = mod.create_rectangle(\n    position=[\"core_opening_x1\", \"core_opening_y1\", 0],\n    dimension_list=[\"core_opening_width\", \"core_opening_height\", 0],\n    name=\"core_hole\",\n)\n\nmod.subtract(blank_list=[core_id], tool_list=[core_hole_id], keep_originals=False)\n\nlv_id = mod.create_rectangle(\n    position=[\"LV_x1\", \"LV_y1\", 0],\n    dimension_list=[\"LV_width\", \"LV_height\", 0],\n    name=\"LV\",\n    matname=\"copper\",\n)\n\nhv_id = mod.create_rectangle(\n    position=[\"HV_x1\", \"HV_y1\", 0],\n    dimension_list=[\"HV_width\", \"HV_height\", 0],\n    name=\"HV\",\n    matname=\"copper\",\n)\n\n# Very small region is enough, because all the flux is concentrated in the core\nregion_id = mod.create_region(\n    pad_percent=[20, 10, 0, 10]\n)"
      ]
    },
    {
      "cell_type": "markdown",
      "metadata": {},
      "source": [
        "# Assign boundary condition\r\n\r\nAssign vector potential to zero on all region boundaries. This makes x=0\r\nedge a symmetry boundary.\r\n"
      ]
    },
    {
      "cell_type": "code",
      "execution_count": null,
      "metadata": {
        "collapsed": false
      },
      "outputs": [],
      "source": [
        "region_edges = region_id.edges\n\nm2d.assign_vector_potential(\n    input_edge=region_edges,\n    bound_name=\"VectorPotential1\"\n)"
      ]
    },
    {
      "cell_type": "markdown",
      "metadata": {},
      "source": [
        "# Create initial mesh settings\r\n\r\nAssign a relatively dense mesh to all objects to ensure that the energy\r\nis calculated accurately.\r\n"
      ]
    },
    {
      "cell_type": "code",
      "execution_count": null,
      "metadata": {
        "collapsed": false
      },
      "outputs": [],
      "source": [
        "m2d.mesh.assign_length_mesh(\n    names=[\"core\", \"Region\", \"LV\", \"HV\"],\n    maxlength=50,\n    maxel=None,\n    meshop_name=\"all_objects\"\n)"
      ]
    },
    {
      "cell_type": "markdown",
      "metadata": {},
      "source": [
        "# Define excitations\r\n\r\nAssign the same current in amp-turns but in opposite directions to HV\r\nand LV windings.\r\n"
      ]
    },
    {
      "cell_type": "code",
      "execution_count": null,
      "metadata": {
        "collapsed": false
      },
      "outputs": [],
      "source": [
        "m2d.assign_current(\n    object_list=lv_id,\n    amplitude=\"Amp_turns\",\n    name=\"LV\"\n)\nm2d.assign_current(\n    object_list=hv_id,\n    amplitude=\"Amp_turns\",\n    name=\"HV\",\n    swap_direction=True\n)"
      ]
    },
    {
      "cell_type": "markdown",
      "metadata": {},
      "source": [
        "Create and analyze the setup\r\n\\~\\~\\~\\~\\~\\~\\~\\~\\~\\~\\~\\~\\~\\~\\~\\~\\~\\~\\~\\~\\~\\~\\~\\~\\~\\~\\~ Create and\r\nanalyze the setup. Setu no. of minimum passes to 3 to ensure accuracy.\r\n"
      ]
    },
    {
      "cell_type": "code",
      "execution_count": null,
      "metadata": {
        "collapsed": false
      },
      "outputs": [],
      "source": [
        "m2d.create_setup(\n    setupname=\"Setup1\",\n    MinimumPasses=3\n)\nm2d.analyze_setup()"
      ]
    },
    {
      "cell_type": "markdown",
      "metadata": {},
      "source": [
        "# Calculate transformer leakage inductance and reactance\r\n\r\nCalculate transformer leakage inductance from the magnetic energy.\r\n"
      ]
    },
    {
      "cell_type": "code",
      "execution_count": null,
      "metadata": {
        "collapsed": false
      },
      "outputs": [],
      "source": [
        "field_calculator = m2d.ofieldsreporter\n\nfield_calculator.EnterQty(\"Energy\")\nfield_calculator.EnterSurf(\"HV\")\nfield_calculator.CalcOp(\"Integrate\")\nfield_calculator.EnterScalarFunc(\"HV_mean_turn_length\")\nfield_calculator.CalcOp(\"*\")\n\nfield_calculator.EnterQty(\"Energy\")\nfield_calculator.EnterSurf(\"LV\")\nfield_calculator.CalcOp(\"Integrate\")\nfield_calculator.EnterScalarFunc(\"LV_mean_turn_length\")\nfield_calculator.CalcOp(\"*\")\n\nfield_calculator.EnterQty(\"Energy\")\nfield_calculator.EnterSurf(\"Region\")\nfield_calculator.CalcOp(\"Integrate\")\nfield_calculator.EnterScalarFunc(\"HV_LV_gap_length\")\nfield_calculator.CalcOp(\"*\")\n\nfield_calculator.CalcOp(\"+\")\nfield_calculator.CalcOp(\"+\")\n\nfield_calculator.EnterScalar(2)\nfield_calculator.CalcOp(\"*\")\nfield_calculator.EnterScalarFunc(\"HV_current\")\nfield_calculator.EnterScalarFunc(\"HV_current\")\nfield_calculator.CalcOp(\"*\")\nfield_calculator.CalcOp(\"/\")\nfield_calculator.AddNamedExpression(\"Leakage_inductance\", \"Fields\")\n\nfield_calculator.CopyNamedExprToStack(\"Leakage_inductance\")\nfield_calculator.EnterScalar(2)\nfield_calculator.EnterScalar(3.14159265358979)\nfield_calculator.EnterScalarFunc(\"Frequency\")\nfield_calculator.CalcOp(\"*\")\nfield_calculator.CalcOp(\"*\")\nfield_calculator.CalcOp(\"*\")\nfield_calculator.AddNamedExpression(\"Leakage_reactance\", \"Fields\")\n\nm2d.post.create_report(\n    expressions=[\"Leakage_inductance\", \"Leakage_reactance\"],\n    report_category=\"Fields\",\n    primary_sweep_variable=\"core_width\",\n    plot_type=\"Data Table\",\n    plotname=\"Transformer Leakage Inductance\",\n)"
      ]
    },
    {
      "cell_type": "markdown",
      "metadata": {},
      "source": [
        "# Print leakage inductance and reactance values in the Message Manager\r\n\r\nPrint leakage inductance and reactance values in the Message Manager\r\n"
      ]
    },
    {
      "cell_type": "code",
      "execution_count": null,
      "metadata": {
        "collapsed": false
      },
      "outputs": [],
      "source": [
        "m2d.logger.clear_messages()\nm2d.logger.info(\n    \"Leakage_inductance =  {:.4f}H\".format(m2d.post.get_scalar_field_value(quantity_name=\"Leakage_inductance\"))\n)\nm2d.logger.info(\n    \"Leakage_reactance =  {:.2f}Ohm\".format(m2d.post.get_scalar_field_value(quantity_name=\"Leakage_reactance\"))\n)"
      ]
    },
    {
      "cell_type": "markdown",
      "metadata": {},
      "source": [
        "# Plot energy in the simulation domain\r\n\r\nMost of the energy is confined in the air between the HV and LV\r\nwindings.\r\n"
      ]
    },
    {
      "cell_type": "code",
      "execution_count": null,
      "metadata": {
        "collapsed": false
      },
      "outputs": [],
      "source": [
        "object_faces = []\nfor name in mod.object_names:\n    object_faces.extend(m2d.modeler.get_object_faces(name))\n\nenergy_field_overlay = m2d.post.create_fieldplot_surface(\n    objlist=object_faces,\n    quantityName=\"energy\",\n    plot_name=\"Energy\",\n)\n\nm2d.save_project()\nm2d.release_desktop()\ntemp_dir.cleanup()"
      ]
    }
  ],
  "metadata": {
    "kernelspec": {
      "display_name": "Python 3",
      "language": "python",
      "name": "python3"
    },
    "language_info": {
      "codemirror_mode": {
        "name": "ipython",
        "version": 3
      },
      "file_extension": ".py",
      "mimetype": "text/x-python",
      "name": "python",
      "nbconvert_exporter": "python",
      "pygments_lexer": "ipython3",
      "version": "3.10.9"
    }
  },
  "nbformat": 4,
  "nbformat_minor": 0
}