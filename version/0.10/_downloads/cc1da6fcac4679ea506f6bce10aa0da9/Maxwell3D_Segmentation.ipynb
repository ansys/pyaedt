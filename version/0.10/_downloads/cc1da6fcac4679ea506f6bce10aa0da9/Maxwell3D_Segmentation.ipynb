{
  "cells": [
    {
      "cell_type": "markdown",
      "metadata": {},
      "source": [
        "# Maxwell 3D: magnet segmentation\r\n\r\nThis example shows how you can use PyAEDT to segment magnets of an\r\nelectric motor. The method is valid and usable for any object the user\r\nwould like to segment.\r\n"
      ]
    },
    {
      "cell_type": "markdown",
      "metadata": {},
      "source": [
        "# Perform required imports\r\n\r\nPerform required imports.\r\n"
      ]
    },
    {
      "cell_type": "code",
      "execution_count": null,
      "metadata": {
        "collapsed": false
      },
      "outputs": [],
      "source": [
        "from ansys.aedt.core import downloads\nfrom ansys.aedt.core import Maxwell3d\n\nimport tempfile"
      ]
    },
    {
      "cell_type": "markdown",
      "metadata": {},
      "source": [
        "# Set AEDT version\r\n\r\nSet AEDT version.\r\n"
      ]
    },
    {
      "cell_type": "code",
      "execution_count": null,
      "metadata": {
        "collapsed": false
      },
      "outputs": [],
      "source": [
        "aedt_version = \"2024.2\""
      ]
    },
    {
      "cell_type": "markdown",
      "metadata": {},
      "source": [
        "# Create temporary directory\r\n\r\nCreate temporary directory.\r\n"
      ]
    },
    {
      "cell_type": "code",
      "execution_count": null,
      "metadata": {
        "collapsed": false
      },
      "outputs": [],
      "source": [
        "temp_dir = tempfile.TemporaryDirectory(suffix=\".ansys\")"
      ]
    },
    {
      "cell_type": "markdown",
      "metadata": {},
      "source": [
        "# Set non-graphical mode\r\n\r\nSet non-graphical mode. You can set `non_graphical` either to `True` or\r\n`False`.\r\n"
      ]
    },
    {
      "cell_type": "code",
      "execution_count": null,
      "metadata": {
        "collapsed": false
      },
      "outputs": [],
      "source": [
        "non_graphical = False"
      ]
    },
    {
      "cell_type": "markdown",
      "metadata": {},
      "source": [
        "# Download .aedt file example\r\n\r\nSet local temporary folder to export the .aedt file to.\r\n"
      ]
    },
    {
      "cell_type": "code",
      "execution_count": null,
      "metadata": {
        "collapsed": false
      },
      "outputs": [],
      "source": [
        "aedt_file = downloads.download_file(\"object_segmentation\", \"Motor3D_obj_segments.aedt\", temp_dir.name)"
      ]
    },
    {
      "cell_type": "markdown",
      "metadata": {},
      "source": [
        "# Launch Maxwell 3D\r\n\r\nLaunch Maxwell 3D.\r\n"
      ]
    },
    {
      "cell_type": "code",
      "execution_count": null,
      "metadata": {
        "collapsed": false
      },
      "outputs": [],
      "source": [
        "m3d = Maxwell3d(project=aedt_file,\n                version=aedt_version,\n                new_desktop=True,\n                non_graphical=non_graphical)"
      ]
    },
    {
      "cell_type": "markdown",
      "metadata": {},
      "source": [
        "# Create object to access 3D modeler\r\n\r\nCreate the object `mod3D` to access the 3D modeler easily.\r\n"
      ]
    },
    {
      "cell_type": "code",
      "execution_count": null,
      "metadata": {
        "collapsed": false
      },
      "outputs": [],
      "source": [
        "modeler = m3d.modeler"
      ]
    },
    {
      "cell_type": "markdown",
      "metadata": {},
      "source": [
        "# Segment first magnet by specifying the number of segments\r\n\r\nSelect first magnet to segment by specifying the number of segments. The\r\nmethod accepts in input either the list of magnets names to segment or\r\nmagnets ids or the magnet object\r\n`ansys.aedt.core.modeler.cad.object_3d.Object3d`{.interpreted-text\r\nrole=\"class\"}. `apply_mesh_sheets` is enabled which means that the mesh\r\nsheets will be applied in the geometry too. In this specific case we\r\ngive as input the name of the magnet.\r\n"
      ]
    },
    {
      "cell_type": "code",
      "execution_count": null,
      "metadata": {
        "collapsed": false
      },
      "outputs": [],
      "source": [
        "segments_number = 5\nobject_name = \"PM_I1\"\nsheets_1 = modeler.objects_segmentation(object_name, segments=segments_number, apply_mesh_sheets=True)"
      ]
    },
    {
      "cell_type": "markdown",
      "metadata": {},
      "source": [
        "# Segment second magnet by specifying the number of segments\r\n\r\nSelect second magnet to segment by specifying the number of segments. In\r\nthis specific case we give as input the id of the magnet.\r\n"
      ]
    },
    {
      "cell_type": "code",
      "execution_count": null,
      "metadata": {
        "collapsed": false
      },
      "outputs": [],
      "source": [
        "segments_number = 4\nobject_name = \"PM_I1_1\"\nmagnet_id = [obj.id for obj in modeler.object_list if obj.name == object_name][0]\nsheets_2 = modeler.objects_segmentation(magnet_id, segments=segments_number, apply_mesh_sheets=True)"
      ]
    },
    {
      "cell_type": "markdown",
      "metadata": {},
      "source": [
        "# Segment third magnet by specifying the segmentation thickness\r\n\r\nSelect third magnet to segment by specifying the segmentation thickness.\r\nIn this specific case we give as input the magnet object of type\r\n`ansys.aedt.core.modeler.cad.object_3d.Object3d`{.interpreted-text\r\nrole=\"class\"}.\r\n"
      ]
    },
    {
      "cell_type": "code",
      "execution_count": null,
      "metadata": {
        "collapsed": false
      },
      "outputs": [],
      "source": [
        "segmentation_thickness = 1\nobject_name = \"PM_O1\"\nmagnet = [obj for obj in modeler.object_list if obj.name == object_name][0]\nsheets_3 = modeler.objects_segmentation(magnet, segmentation_thickness=segmentation_thickness, apply_mesh_sheets=True)"
      ]
    },
    {
      "cell_type": "markdown",
      "metadata": {},
      "source": [
        "# Segment fourth magnet by specifying the number of segments\r\n\r\nSelect fourth magnet to segment by specifying the number of segments. In\r\nthis specific case we give as input the name of the magnet and we\r\ndisable the mesh sheets.\r\n"
      ]
    },
    {
      "cell_type": "code",
      "execution_count": null,
      "metadata": {
        "collapsed": false
      },
      "outputs": [],
      "source": [
        "object_name = \"PM_O1_1\"\nsegments_number = 10\nsheets_4 = modeler.objects_segmentation(object_name, segments=segments_number)"
      ]
    },
    {
      "cell_type": "markdown",
      "metadata": {},
      "source": [
        "# Save project and close AEDT\r\n\r\nSave the project and close AEDT.\r\n"
      ]
    },
    {
      "cell_type": "code",
      "execution_count": null,
      "metadata": {
        "collapsed": false
      },
      "outputs": [],
      "source": [
        "m3d.save_project()\nm3d.release_desktop()\ntemp_dir.cleanup()"
      ]
    }
  ],
  "metadata": {
    "kernelspec": {
      "display_name": "Python 3",
      "language": "python",
      "name": "python3"
    },
    "language_info": {
      "codemirror_mode": {
        "name": "ipython",
        "version": 3
      },
      "file_extension": ".py",
      "mimetype": "text/x-python",
      "name": "python",
      "nbconvert_exporter": "python",
      "pygments_lexer": "ipython3",
      "version": "3.10.9"
    }
  },
  "nbformat": 4,
  "nbformat_minor": 0
}