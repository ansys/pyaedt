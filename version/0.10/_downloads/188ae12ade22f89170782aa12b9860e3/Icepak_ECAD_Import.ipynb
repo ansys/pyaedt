{
  "cells": [
    {
      "cell_type": "markdown",
      "metadata": {},
      "source": [
        "Icepak: Importing a PCB and its components via IDF and EDB\r\n\\-\\-\\-\\-\\-\\-\\-\\-\\-\\-\\-\\-\\-\\-\\-\\-\\-\\-\\-\\-\\-\\-\\-\\-\\-\\-\\-\\-\\-\\-\\-\\-\\-\\-\\-\\--This\r\nexample shows how to import a PCB and its components using IDF files\r\n(*.ldb/*.bdf). The *.emn/*.emp combination can also be used in a similar\r\nway.\r\n"
      ]
    },
    {
      "cell_type": "markdown",
      "metadata": {},
      "source": [
        "# Perform required imports\r\n\r\nPerform required imports including the operating system, Ansys PyAEDT\r\npackages.\r\n"
      ]
    },
    {
      "cell_type": "code",
      "execution_count": null,
      "metadata": {
        "collapsed": false
      },
      "outputs": [],
      "source": [
        "# Generic Python packages \n\nimport os \n\n# PyAEDT Packages\nimport ansys.aedt.core\nfrom ansys.aedt.core import Icepak\nfrom ansys.aedt.core import Desktop\nfrom ansys.aedt.core import Hfss3dLayout\nfrom ansys.aedt.core.modules.boundary import BoundaryObject"
      ]
    },
    {
      "cell_type": "markdown",
      "metadata": {},
      "source": [
        "# Set AEDT version\r\n\r\nSet AEDT version.\r\n"
      ]
    },
    {
      "cell_type": "code",
      "execution_count": null,
      "metadata": {
        "collapsed": false
      },
      "outputs": [],
      "source": [
        "aedt_version = \"2024.2\""
      ]
    },
    {
      "cell_type": "markdown",
      "metadata": {},
      "source": [
        "# Set non-graphical mode\r\n\r\nSet non-graphical mode. You can set `non_graphical` either to `True` or\r\n`False`.\r\n"
      ]
    },
    {
      "cell_type": "code",
      "execution_count": null,
      "metadata": {
        "collapsed": false
      },
      "outputs": [],
      "source": [
        "non_graphical = False"
      ]
    },
    {
      "cell_type": "markdown",
      "metadata": {},
      "source": [
        "# Download and open project\r\n\r\nDownload the project, open it, and save it to the temporary folder.\r\n"
      ]
    },
    {
      "cell_type": "code",
      "execution_count": null,
      "metadata": {
        "collapsed": false
      },
      "outputs": [],
      "source": [
        "temp_folder = ansys.aedt.core.generate_unique_folder_name()\n\nipk = ansys.aedt.core.Icepak(project=os.path.join(temp_folder, \"Icepak_ECAD_Import.aedt\"),\n                    version=aedt_version,\n                    new_desktop=True,\n                    non_graphical=non_graphical\n                    )\n\nipk.autosave_disable()                                                    # Saves the project"
      ]
    },
    {
      "cell_type": "markdown",
      "metadata": {},
      "source": [
        "# Import the IDF files\r\n\r\nSample *.bdf and*.ldf files are presented here.\r\n\r\n\\<img src=\\\"../../\\_static/bdf.png\\\" width=\\\"400\\\"\\> \\<img\r\nsrc=\\\"../../\\_static/ldf.png\\\" width=\\\"400\\\"\\>\r\n\r\nImports the idf files with several filtering options including caps,\r\nresistors, inductors, power, size, \\... There are also options for the\r\nPCB creation (number o flayers, copper percentages, layer sizes). In\r\nthis example, the default values are used for the PCB. The imported PCB\r\nhere will be deleted later and replaced by a PCB that has the trace\r\ninformation for higher accuracy.\r\n"
      ]
    },
    {
      "cell_type": "code",
      "execution_count": null,
      "metadata": {
        "collapsed": false
      },
      "outputs": [],
      "source": [
        "def_path = ansys.aedt.core.downloads.download_file('icepak/Icepak_ECAD_Import/A1_uprev.aedb','edb.def',temp_folder)\nboard_path = ansys.aedt.core.downloads.download_file('icepak/Icepak_ECAD_Import/','A1.bdf',temp_folder)\nlibrary_path = ansys.aedt.core.downloads.download_file('icepak/Icepak_ECAD_Import/','A1.ldf',temp_folder)\n\nipk.import_idf(board_path, library_path=None, control_path=None,\n               filter_cap=False, filter_ind=False, filter_res=False,\n               filter_height_under=None, filter_height_exclude_2d=False,\n               power_under=None, create_filtered_as_non_model=False,\n               high_surface_thick='0.07mm', low_surface_thick='0.07mm',\n               internal_thick='0.07mm', internal_layer_number=2,\n               high_surface_coverage=30, low_surface_coverage=30,\n               internal_layer_coverage=30, trace_material='Cu-Pure',\n               substrate_material='FR-4', create_board=True,\n               model_board_as_rect=False, model_device_as_rect=True,\n               cutoff_height='5mm', component_lib='')"
      ]
    },
    {
      "cell_type": "markdown",
      "metadata": {},
      "source": [
        "# Fit to scale, save the project\r\n"
      ]
    },
    {
      "cell_type": "code",
      "execution_count": null,
      "metadata": {
        "collapsed": false
      },
      "outputs": [],
      "source": [
        "ipk.modeler.fit_all()    # scales to fit all objects in AEDT\nipk.save_project()  # saves the project"
      ]
    },
    {
      "cell_type": "markdown",
      "metadata": {},
      "source": [
        "# Add an HFSS 3D Layout design with the layout information of the PCB\r\n"
      ]
    },
    {
      "cell_type": "code",
      "execution_count": null,
      "metadata": {
        "collapsed": false
      },
      "outputs": [],
      "source": [
        "Layout_name = 'A1_uprev'          # 3D layout name available for import, the extension of .aedb should not be listed here\n\nhfss3dLO = Hfss3dLayout('Icepak_ECAD_Import', 'PCB_temp')      # adding a dummy HFSS 3D layout to the current project\n\n#edb_full_path = os.path.join(os.getcwd(), Layout_name+'.aedb\\edb.def')   # path to the EDB file\nhfss3dLO.import_edb(def_path)  # importing the EDB file\nhfss3dLO.save_project()  # save the new project so files are stored in the path\n\nipk.delete_design(name='PCB_temp', fallback_design=None)                 # deleting the dummy layout from the original project\n\n# This part creates a 3D component PCB in Icepak from the imported EDB file\n# 1 watt is assigned to the PCB as power input\n\ncomponent_name = \"PCB_ECAD\"\n\nodb_path = os.path.join(temp_folder, 'icepak/Icepak_ECAD_Import/'+Layout_name+'.aedt')\nipk.create_pcb_from_3dlayout(\n    component_name, odb_path, Layout_name, resolution=2, extenttype=\"Polygon\", outlinepolygon='poly_0', \n    custom_x_resolution=None, custom_y_resolution=None, power_in=1)"
      ]
    },
    {
      "cell_type": "markdown",
      "metadata": {},
      "source": [
        "# Delete PCB objects\r\n\r\nDelete the PCB object from IDF import.\r\n"
      ]
    },
    {
      "cell_type": "code",
      "execution_count": null,
      "metadata": {
        "collapsed": false
      },
      "outputs": [],
      "source": [
        "ipk.modeler.delete_objects_containing(\"IDF_BoardOutline\", False)"
      ]
    },
    {
      "cell_type": "markdown",
      "metadata": {},
      "source": [
        "# Compute power budget\r\n"
      ]
    },
    {
      "cell_type": "code",
      "execution_count": null,
      "metadata": {
        "collapsed": false
      },
      "outputs": [],
      "source": [
        "# Creates a setup to be able to calculate the power\nipk.create_setup(\"setup1\")\n\npower_budget, total = ipk.post.power_budget(\"W\")\nprint(total)"
      ]
    },
    {
      "cell_type": "markdown",
      "metadata": {},
      "source": [
        "# Release AEDT\r\n\r\nRelease AEDT.\r\n"
      ]
    },
    {
      "cell_type": "code",
      "execution_count": null,
      "metadata": {
        "collapsed": false
      },
      "outputs": [],
      "source": [
        "ipk.release_desktop(True, True)"
      ]
    }
  ],
  "metadata": {
    "kernelspec": {
      "display_name": "Python 3",
      "language": "python",
      "name": "python3"
    },
    "language_info": {
      "codemirror_mode": {
        "name": "ipython",
        "version": 3
      },
      "file_extension": ".py",
      "mimetype": "text/x-python",
      "name": "python",
      "nbconvert_exporter": "python",
      "pygments_lexer": "ipython3",
      "version": "3.10.9"
    }
  },
  "nbformat": 4,
  "nbformat_minor": 0
}