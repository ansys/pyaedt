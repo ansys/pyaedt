{
  "cells": [
    {
      "cell_type": "markdown",
      "metadata": {},
      "source": [
        "# Create a 3D Component and reuse it\r\n\r\nSummary of the workflow 1. Create an antenna using PyAEDT and HFSS 3D\r\nModeler (same can be done with EDB and HFSS 3D Layout) 2. Store the\r\nobject as a 3D Component on the disk 3. Reuse the 3D component in\r\nanother project 4. Parametrize and optimize target design\r\n"
      ]
    },
    {
      "cell_type": "markdown",
      "metadata": {},
      "source": [
        "# Perform required imports\r\n\r\nPerform required imports.\r\n"
      ]
    },
    {
      "cell_type": "code",
      "execution_count": null,
      "metadata": {
        "collapsed": false
      },
      "outputs": [],
      "source": [
        "import os\nimport tempfile\nfrom ansys.aedt.core import Hfss\nfrom ansys.aedt.core.generic.general_methods import generate_unique_name"
      ]
    },
    {
      "cell_type": "markdown",
      "metadata": {},
      "source": [
        "# Set AEDT version\r\n\r\nSet AEDT version.\r\n"
      ]
    },
    {
      "cell_type": "code",
      "execution_count": null,
      "metadata": {
        "collapsed": false
      },
      "outputs": [],
      "source": [
        "aedt_version = \"2024.2\""
      ]
    },
    {
      "cell_type": "markdown",
      "metadata": {},
      "source": [
        "# Launch HFSS\r\n\r\nPyAEDT can initialize a new session of Electronics Desktop or connect to\r\nan existing one. Once Desktop is connected, a new HFSS session is\r\nstarted and a design is created.\r\n"
      ]
    },
    {
      "cell_type": "code",
      "execution_count": null,
      "metadata": {
        "collapsed": false
      },
      "outputs": [],
      "source": [
        "hfss = Hfss(version=aedt_version, new_desktop=True, close_on_exit=True)"
      ]
    },
    {
      "cell_type": "markdown",
      "metadata": {},
      "source": [
        "# Variables\r\n\r\nPyAEDT can create and store all variables available in AEDT (Design,\r\nProject, Post Processing)\r\n"
      ]
    },
    {
      "cell_type": "code",
      "execution_count": null,
      "metadata": {
        "collapsed": false
      },
      "outputs": [],
      "source": [
        "hfss[\"thick\"] = \"0.1mm\"\nhfss[\"width\"] = \"1mm\""
      ]
    },
    {
      "cell_type": "markdown",
      "metadata": {},
      "source": [
        "# Modeler\r\n\r\nPyAEDT supports all modeler functionalities available in the Desktop.\r\nObjects can be created, deleted and modified using all available boolean\r\noperations. History is also fully accessible to PyAEDT.\r\n"
      ]
    },
    {
      "cell_type": "code",
      "execution_count": null,
      "metadata": {
        "collapsed": false
      },
      "outputs": [],
      "source": [
        "substrate = hfss.modeler.create_box([\"-width\", \"-width\", \"-thick\"], [\"2*width\", \"2*width\", \"thick\"], name=\"sub\",\n                                    material=\"FR4_epoxy\")\n\npatch = hfss.modeler.create_rectangle(\"XY\",[\"-width/2\",\"-width/2\",\"0mm\"],[\"width\",\"width\"], name=\"patch1\")\n\nvia1 = hfss.modeler.create_cylinder(2, [\"-width/8\", \"-width/4\", \"-thick\"], \"0.01mm\", \"thick\", name=\"via_inner\",\n                                    material=\"copper\")\n\nvia_outer = hfss.modeler.create_cylinder(2, [\"-width/8\", \"-width/4\", \"-thick\"], \"0.025mm\", \"thick\", name=\"via_teflon\",\n                                         material=\"Teflon_based\")"
      ]
    },
    {
      "cell_type": "markdown",
      "metadata": {},
      "source": [
        "# Boundaries\r\n\r\nMost of HFSS boundaries and excitations are already available in PyAEDT.\r\nUser can assign easily a boundary to a face or to an object by taking\r\nbenefits of Object-Oriented Programming (OOP) available in PyAEDT.\r\n"
      ]
    },
    {
      "cell_type": "code",
      "execution_count": null,
      "metadata": {
        "collapsed": false
      },
      "outputs": [],
      "source": [
        "hfss.assign_perfecte_to_sheets(patch)"
      ]
    },
    {
      "cell_type": "markdown",
      "metadata": {},
      "source": [
        "# Advanced Modeler functions\r\n\r\nThanks to Python capabilities a lot of additional functionalities have\r\nbeen added to the Modeler of PyAEDT. in this example there is a property\r\nto retrieve automatically top and bottom faces of an objects.\r\n"
      ]
    },
    {
      "cell_type": "code",
      "execution_count": null,
      "metadata": {
        "collapsed": false
      },
      "outputs": [],
      "source": [
        "side_face = [i for i in via_outer.faces if i.id not in [via_outer.top_face_z.id, via_outer.bottom_face_z.id]]\n\nhfss.assign_perfecte_to_sheets(side_face)\nhfss.assign_perfecte_to_sheets(substrate.bottom_face_z)"
      ]
    },
    {
      "cell_type": "markdown",
      "metadata": {},
      "source": [
        "# Create Wave Port\r\n\r\nWave port can be assigned to a sheet or to a face of an object.\r\n"
      ]
    },
    {
      "cell_type": "code",
      "execution_count": null,
      "metadata": {
        "collapsed": false
      },
      "outputs": [],
      "source": [
        "hfss.wave_port(via_outer.bottom_face_z, name=\"P1\")"
      ]
    },
    {
      "cell_type": "markdown",
      "metadata": {},
      "source": [
        "# Create 3D Component\r\n\r\nOnce the model is ready a 3D Component can be created. Multiple options\r\nare available to partially select objects, cs, boundaries and mesh\r\noperations. Furthermore, encrypted 3d comp can be created too.\r\n"
      ]
    },
    {
      "cell_type": "code",
      "execution_count": null,
      "metadata": {
        "collapsed": false
      },
      "outputs": [],
      "source": [
        "component_path = os.path.join(tempfile.gettempdir(), generate_unique_name(\"component_test\") + \".aedbcomp\")\nhfss.modeler.create_3dcomponent(component_path, \"patch_antenna\")"
      ]
    },
    {
      "cell_type": "markdown",
      "metadata": {},
      "source": [
        "# Multiple project management\r\n\r\nPyAEDT allows to control multiple projects, design and solution type at\r\nthe same time.\r\n"
      ]
    },
    {
      "cell_type": "code",
      "execution_count": null,
      "metadata": {
        "collapsed": false
      },
      "outputs": [],
      "source": [
        "hfss2 = Hfss(project=\"new_project\", design=\"new_design\")"
      ]
    },
    {
      "cell_type": "markdown",
      "metadata": {},
      "source": [
        "# Insert of 3d component\r\n\r\nThe 3d component can be inserted without any additional info. All needed\r\ninfo will be read from the file itself.\r\n"
      ]
    },
    {
      "cell_type": "code",
      "execution_count": null,
      "metadata": {
        "collapsed": false
      },
      "outputs": [],
      "source": [
        "hfss2.modeler.insert_3d_component(component_path)"
      ]
    },
    {
      "cell_type": "markdown",
      "metadata": {},
      "source": [
        "# 3D Component Parameters\r\n\r\nAll 3d Component parameters are available and can be parametrized.\r\n"
      ]
    },
    {
      "cell_type": "code",
      "execution_count": null,
      "metadata": {
        "collapsed": false
      },
      "outputs": [],
      "source": [
        "hfss2.modeler.user_defined_components[\"patch_antenna1\"].parameters\n\nhfss2[\"p_thick\"] = \"1mm\"\n\nhfss2.modeler.user_defined_components[\"patch_antenna1\"].parameters[\"thick\"]=\"p_thick\""
      ]
    },
    {
      "cell_type": "markdown",
      "metadata": {},
      "source": [
        "# Multiple 3d Components\r\n\r\nThere is no limit to the number of 3D components that can be added on\r\nthe same design. They can be the same or linked to different files.\r\n"
      ]
    },
    {
      "cell_type": "code",
      "execution_count": null,
      "metadata": {
        "collapsed": false
      },
      "outputs": [],
      "source": [
        "hfss2.modeler.create_coordinate_system(origin=[20, 20, 10], name=\"Second_antenna\")\n\nant2 = hfss2.modeler.insert_3d_component(component_path, coordinate_system=\"Second_antenna\")"
      ]
    },
    {
      "cell_type": "markdown",
      "metadata": {},
      "source": [
        "# Move components\r\n\r\nThe component can be moved by changing is position or moving the\r\nrelative coordinate system.\r\n"
      ]
    },
    {
      "cell_type": "code",
      "execution_count": null,
      "metadata": {
        "collapsed": false
      },
      "outputs": [],
      "source": [
        "hfss2.modeler.coordinate_systems[0].origin = [10, 10, 3]"
      ]
    },
    {
      "cell_type": "markdown",
      "metadata": {},
      "source": [
        "# Boundaries\r\n\r\nMost of HFSS boundaries and excitations are already available in PyAEDT.\r\nUser can assign easily a boundary to a face or to an object by taking\r\nbenefits of\r\n"
      ]
    },
    {
      "cell_type": "code",
      "execution_count": null,
      "metadata": {
        "collapsed": false
      },
      "outputs": [],
      "source": [
        "hfss2.modeler.create_air_region(30, 30, 30, 30, 30, 30)\nhfss2.assign_radiation_boundary_to_faces(hfss2.modeler[\"Region\"].faces)\n\n# Create Setup and Optimetrics\n# Once project is ready to be solved, a setup and parametrics analysis can be created with PyAEDT.\n# All setup parameters can be edited.\n\nsetup1 = hfss2.create_setup()\n\noptim = hfss2.parametrics.add(\"p_thick\", \"0.2mm\", \"1.5mm\", step=14)"
      ]
    },
    {
      "cell_type": "markdown",
      "metadata": {},
      "source": [
        "# Save project\r\n\r\nSave the project.\r\n"
      ]
    },
    {
      "cell_type": "code",
      "execution_count": null,
      "metadata": {
        "collapsed": false
      },
      "outputs": [],
      "source": [
        "hfss2.modeler.fit_all()\nhfss2.plot(show=False, output_file=os.path.join(hfss.working_directory, \"Image.jpg\"), plot_air_objects=True)"
      ]
    },
    {
      "cell_type": "markdown",
      "metadata": {},
      "source": [
        "# Close AEDT\r\n\r\nAfter the simulation completes, you can close AEDT or release it using\r\nthe `ansys.aedt.core.Desktop.release_desktop`{.interpreted-text\r\nrole=\"func\"} method. All methods provide for saving the project before\r\nclosing AEDT.\r\n"
      ]
    },
    {
      "cell_type": "code",
      "execution_count": null,
      "metadata": {
        "collapsed": false
      },
      "outputs": [],
      "source": [
        "hfss2.save_project(os.path.join(tempfile.gettempdir(), generate_unique_name(\"parametrized\") + \".aedt\"))\nhfss2.release_desktop()"
      ]
    }
  ],
  "metadata": {
    "kernelspec": {
      "display_name": "Python 3",
      "language": "python",
      "name": "python3"
    },
    "language_info": {
      "codemirror_mode": {
        "name": "ipython",
        "version": 3
      },
      "file_extension": ".py",
      "mimetype": "text/x-python",
      "name": "python",
      "nbconvert_exporter": "python",
      "pygments_lexer": "ipython3",
      "version": "3.10.9"
    }
  },
  "nbformat": 4,
  "nbformat_minor": 0
}