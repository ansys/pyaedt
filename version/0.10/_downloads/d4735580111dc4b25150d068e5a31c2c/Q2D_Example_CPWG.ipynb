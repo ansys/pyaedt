{
  "cells": [
    {
      "cell_type": "markdown",
      "metadata": {},
      "source": [
        "# 2D Extractor: CPWG analysis\r\n\r\nThis example shows how you can use PyAEDT to create a CPWG (coplanar\r\nwaveguide with ground) design in 2D Extractor and run a simulation.\r\n"
      ]
    },
    {
      "cell_type": "markdown",
      "metadata": {},
      "source": [
        "# Perform required imports\r\n\r\nPerform required imports.\r\n"
      ]
    },
    {
      "cell_type": "code",
      "execution_count": null,
      "metadata": {
        "collapsed": false
      },
      "outputs": [],
      "source": [
        "import os\nimport ansys.aedt.core"
      ]
    },
    {
      "cell_type": "markdown",
      "metadata": {},
      "source": [
        "# Set AEDT version\r\n\r\nSet AEDT version.\r\n"
      ]
    },
    {
      "cell_type": "code",
      "execution_count": null,
      "metadata": {
        "collapsed": false
      },
      "outputs": [],
      "source": [
        "aedt_version = \"2024.2\""
      ]
    },
    {
      "cell_type": "markdown",
      "metadata": {},
      "source": [
        "# Set non-graphical mode\r\n\r\nSet non-graphical mode. You can set `non_graphical` either to `True` or\r\n`False`.\r\n"
      ]
    },
    {
      "cell_type": "code",
      "execution_count": null,
      "metadata": {
        "collapsed": false
      },
      "outputs": [],
      "source": [
        "non_graphical = False"
      ]
    },
    {
      "cell_type": "markdown",
      "metadata": {},
      "source": [
        "# Launch AEDT and 2D Extractor\r\n\r\nLaunch AEDT 2023 R2 in graphical mode and launch 2D Extractor. This\r\nexample uses SI units.\r\n"
      ]
    },
    {
      "cell_type": "code",
      "execution_count": null,
      "metadata": {
        "collapsed": false
      },
      "outputs": [],
      "source": [
        "q = ansys.aedt.core.Q2d(version=aedt_version,\n               non_graphical=non_graphical,\n               new_desktop=True,\n               project=ansys.aedt.core.generate_unique_name(\"pyaedt_q2d_example\"),\n               design=\"coplanar_waveguide\")"
      ]
    },
    {
      "cell_type": "markdown",
      "metadata": {},
      "source": [
        "# Define variables\r\n\r\nDefine variables.\r\n"
      ]
    },
    {
      "cell_type": "code",
      "execution_count": null,
      "metadata": {
        "collapsed": false
      },
      "outputs": [],
      "source": [
        "e_factor = \"e_factor\"\nsig_bot_w = \"sig_bot_w\"\nco_gnd_w = \"gnd_w\"\nclearance = \"clearance\"\ncond_h = \"cond_h\"\nd_h = \"d_h\"\nsm_h = \"sm_h\"\n\nfor var_name, var_value in {\n    \"sig_bot_w\": \"150um\",\n    \"e_factor\": \"2\",\n    \"gnd_w\": \"500um\",\n    \"clearance\": \"150um\",\n    \"cond_h\": \"50um\",\n    \"d_h\": \"150um\",\n    \"sm_h\": \"20um\",\n}.items():\n    q[var_name] = var_value\n\ndelta_w_half = \"({0}/{1})\".format(cond_h, e_factor)\nsig_top_w = \"({1}-{0}*2)\".format(delta_w_half, sig_bot_w)\nco_gnd_top_w = \"({1}-{0}*2)\".format(delta_w_half, co_gnd_w)\nmodel_w = \"{}*2+{}*2+{}\".format(co_gnd_w, clearance, sig_bot_w)"
      ]
    },
    {
      "cell_type": "markdown",
      "metadata": {},
      "source": [
        "# Create primitives\r\n\r\nCreate primitives and define the layer heights.\r\n"
      ]
    },
    {
      "cell_type": "code",
      "execution_count": null,
      "metadata": {
        "collapsed": false
      },
      "outputs": [],
      "source": [
        "layer_1_lh = 0\nlayer_1_uh = cond_h\nlayer_2_lh = layer_1_uh + \"+\" + d_h\nlayer_2_uh = layer_2_lh + \"+\" + cond_h"
      ]
    },
    {
      "cell_type": "markdown",
      "metadata": {},
      "source": [
        "# Create signal\r\n\r\nCreate a signal.\r\n"
      ]
    },
    {
      "cell_type": "code",
      "execution_count": null,
      "metadata": {
        "collapsed": false
      },
      "outputs": [],
      "source": [
        "base_line_obj = q.modeler.create_polyline(points=[[0, layer_2_lh, 0], [sig_bot_w, layer_2_lh, 0]], name=\"signal\")\ntop_line_obj = q.modeler.create_polyline(points=[[0, layer_2_uh, 0], [sig_top_w, layer_2_uh, 0]])\nq.modeler.move(assignment=[top_line_obj], vector=[delta_w_half, 0, 0])\nq.modeler.connect([base_line_obj, top_line_obj])\nq.modeler.move(assignment=[base_line_obj], vector=[\"{}+{}\".format(co_gnd_w, clearance), 0, 0])"
      ]
    },
    {
      "cell_type": "markdown",
      "metadata": {},
      "source": [
        "# Create coplanar ground\r\n\r\nCreate a coplanar ground.\r\n"
      ]
    },
    {
      "cell_type": "code",
      "execution_count": null,
      "metadata": {
        "collapsed": false
      },
      "outputs": [],
      "source": [
        "base_line_obj = q.modeler.create_polyline(points=[[0, layer_2_lh, 0], [co_gnd_w, layer_2_lh, 0]], name=\"co_gnd_left\")\ntop_line_obj = q.modeler.create_polyline(points=[[0, layer_2_uh, 0], [co_gnd_top_w, layer_2_uh, 0]])\nq.modeler.move(assignment=[top_line_obj], vector=[delta_w_half, 0, 0])\nq.modeler.connect([base_line_obj, top_line_obj])\n\nbase_line_obj = q.modeler.create_polyline(points=[[0, layer_2_lh, 0], [co_gnd_w, layer_2_lh, 0]], name=\"co_gnd_right\")\ntop_line_obj = q.modeler.create_polyline(points=[[0, layer_2_uh, 0], [co_gnd_top_w, layer_2_uh, 0]])\nq.modeler.move(assignment=[top_line_obj], vector=[delta_w_half, 0, 0])\nq.modeler.connect([base_line_obj, top_line_obj])\nq.modeler.move(assignment=[base_line_obj], vector=[\"{}+{}*2+{}\".format(co_gnd_w, clearance, sig_bot_w), 0, 0])"
      ]
    },
    {
      "cell_type": "markdown",
      "metadata": {},
      "source": [
        "# Create reference ground plane\r\n\r\nCreate a reference ground plane.\r\n"
      ]
    },
    {
      "cell_type": "code",
      "execution_count": null,
      "metadata": {
        "collapsed": false
      },
      "outputs": [],
      "source": [
        "q.modeler.create_rectangle(origin=[0, layer_1_lh, 0], sizes=[model_w, cond_h], name=\"ref_gnd\")"
      ]
    },
    {
      "cell_type": "markdown",
      "metadata": {},
      "source": [
        "# Create dielectric\r\n\r\nCreate a dielectric.\r\n"
      ]
    },
    {
      "cell_type": "code",
      "execution_count": null,
      "metadata": {
        "collapsed": false
      },
      "outputs": [],
      "source": [
        "q.modeler.create_rectangle(\n    origin=[0, layer_1_uh, 0], sizes=[model_w, d_h], name=\"Dielectric\", material=\"FR4_epoxy\"\n)"
      ]
    },
    {
      "cell_type": "markdown",
      "metadata": {},
      "source": [
        "# Create conformal coating\r\n\r\nCreate a conformal coating.\r\n"
      ]
    },
    {
      "cell_type": "code",
      "execution_count": null,
      "metadata": {
        "collapsed": false
      },
      "outputs": [],
      "source": [
        "sm_obj_list = []\nids = [1, 2, 3]\nif aedt_version >= \"2023.1\":\n    ids = [0, 1, 2]\n\nfor obj_name in [\"signal\", \"co_gnd_left\", \"co_gnd_right\"]:\n    obj = q.modeler.get_object_from_name(obj_name)\n    e_obj_list = []\n    for i in ids:\n        e_obj = q.modeler.create_object_from_edge(obj.edges[i])\n        e_obj_list.append(e_obj)\n    e_obj_1 = e_obj_list[0]\n    q.modeler.unite(e_obj_list)\n    new_obj = q.modeler.sweep_along_vector(e_obj_1.id, [0, sm_h, 0])\n    sm_obj_list.append(e_obj_1)\n\nnew_obj = q.modeler.create_rectangle(origin=[co_gnd_w, layer_2_lh, 0], sizes=[clearance, sm_h])\nsm_obj_list.append(new_obj)\n\nnew_obj = q.modeler.create_rectangle(origin=[co_gnd_w, layer_2_lh, 0], sizes=[clearance, sm_h])\nq.modeler.move([new_obj], [sig_bot_w + \"+\" + clearance, 0, 0])\nsm_obj_list.append(new_obj)\n\nsm_obj = sm_obj_list[0]\nq.modeler.unite(sm_obj_list)\nsm_obj.material_name = \"SolderMask\"\nsm_obj.color = (0, 150, 100)\nsm_obj.name = \"solder_mask\""
      ]
    },
    {
      "cell_type": "markdown",
      "metadata": {},
      "source": [
        "# Assign conductor\r\n\r\nAssign a conductor to the signal.\r\n"
      ]
    },
    {
      "cell_type": "code",
      "execution_count": null,
      "metadata": {
        "collapsed": false
      },
      "outputs": [],
      "source": [
        "obj = q.modeler.get_object_from_name(\"signal\")\nq.assign_single_conductor(assignment=[obj], name=obj.name, conductor_type=\"SignalLine\", solve_option=\"SolveOnBoundary\",\n                          units=\"mm\")"
      ]
    },
    {
      "cell_type": "markdown",
      "metadata": {},
      "source": [
        "# Create reference ground\r\n\r\nCreate a reference ground.\r\n"
      ]
    },
    {
      "cell_type": "code",
      "execution_count": null,
      "metadata": {
        "collapsed": false
      },
      "outputs": [],
      "source": [
        "obj = [q.modeler.get_object_from_name(i) for i in [\"co_gnd_left\", \"co_gnd_right\", \"ref_gnd\"]]\nq.assign_single_conductor(assignment=obj, name=\"gnd\", conductor_type=\"ReferenceGround\", solve_option=\"SolveOnBoundary\",\n                          units=\"mm\")"
      ]
    },
    {
      "cell_type": "markdown",
      "metadata": {},
      "source": [
        "# Assign Huray model on signal\r\n\r\nAssign the Huray model on the signal.\r\n"
      ]
    },
    {
      "cell_type": "code",
      "execution_count": null,
      "metadata": {
        "collapsed": false
      },
      "outputs": [],
      "source": [
        "obj = q.modeler.get_object_from_name(\"signal\")\nq.assign_huray_finitecond_to_edges(obj.edges, radius=\"0.5um\", ratio=3, name=\"b_\" + obj.name)"
      ]
    },
    {
      "cell_type": "markdown",
      "metadata": {},
      "source": [
        "# Create setup, analyze, and plot\r\n\r\nCreate the setup, analyze it, and plot solution data.\r\n"
      ]
    },
    {
      "cell_type": "code",
      "execution_count": null,
      "metadata": {
        "collapsed": false
      },
      "outputs": [],
      "source": [
        "setup = q.create_setup(name=\"new_setup\")\n\nsweep = setup.add_sweep(name=\"sweep1\", sweep_type=\"Discrete\")\nsweep.props[\"RangeType\"] = \"LinearStep\"\nsweep.props[\"RangeStart\"] = \"1GHz\"\nsweep.props[\"RangeStep\"] = \"100MHz\"\nsweep.props[\"RangeEnd\"] = \"5GHz\"\nsweep.props[\"SaveFields\"] = False\nsweep.props[\"SaveRadFields\"] = False\nsweep.props[\"Type\"] = \"Interpolating\"\n\nsweep.update()\n\nq.analyze()\n\na = q.post.get_solution_data(expressions=\"Z0(signal,signal)\", context=\"Original\")\na.plot()"
      ]
    },
    {
      "cell_type": "markdown",
      "metadata": {},
      "source": [
        "# Save project and close AEDT\r\n\r\nSave the project and close AEDT.\r\n"
      ]
    },
    {
      "cell_type": "code",
      "execution_count": null,
      "metadata": {
        "collapsed": false
      },
      "outputs": [],
      "source": [
        "home = os.path.expanduser(\"~\")\nq.save_project(os.path.join(home, \"Downloads\", \"pyaedt_example\", q.project_name + \".aedt\"))\nq.release_desktop()"
      ]
    }
  ],
  "metadata": {
    "kernelspec": {
      "display_name": "Python 3",
      "language": "python",
      "name": "python3"
    },
    "language_info": {
      "codemirror_mode": {
        "name": "ipython",
        "version": 3
      },
      "file_extension": ".py",
      "mimetype": "text/x-python",
      "name": "python",
      "nbconvert_exporter": "python",
      "pygments_lexer": "ipython3",
      "version": "3.10.9"
    }
  },
  "nbformat": 4,
  "nbformat_minor": 0
}