{
  "cells": [
    {
      "cell_type": "markdown",
      "metadata": {},
      "source": [
        "# Twin Builder: RC circuit design anaysis\r\n\r\nThis example shows how you can use PyAEDT to create a Twin Builder\r\ndesign and run a Twin Builder time-domain simulation.\r\n"
      ]
    },
    {
      "cell_type": "markdown",
      "metadata": {},
      "source": [
        "# Perform required imports\r\n\r\nPerform required imports.\r\n"
      ]
    },
    {
      "cell_type": "code",
      "execution_count": null,
      "metadata": {
        "collapsed": false
      },
      "outputs": [],
      "source": [
        "import ansys.aedt.core"
      ]
    },
    {
      "cell_type": "markdown",
      "metadata": {},
      "source": [
        "# Set AEDT version\r\n\r\nSet AEDT version.\r\n"
      ]
    },
    {
      "cell_type": "code",
      "execution_count": null,
      "metadata": {
        "collapsed": false
      },
      "outputs": [],
      "source": [
        "aedt_version = \"2024.2\""
      ]
    },
    {
      "cell_type": "markdown",
      "metadata": {},
      "source": [
        "# Select version and set launch options\r\n\r\nSelect the Twin Builder version and set the launch options. The\r\nfollowing code launches Twin Builder 2023 R2 in graphical mode.\r\n\r\nYou can change the Boolean parameter `non_graphical` to `True` to launch\r\nTwin Builder in non-graphical mode. You can also change the Boolean\r\nparameter `new_thread` to `False` to launch Twin Builder in an existing\r\nAEDT session if one is running.\r\n"
      ]
    },
    {
      "cell_type": "code",
      "execution_count": null,
      "metadata": {
        "collapsed": false
      },
      "outputs": [],
      "source": [
        "non_graphical = False\nnew_thread = True"
      ]
    },
    {
      "cell_type": "markdown",
      "metadata": {},
      "source": [
        "# Launch Twin Builder\r\n\r\nLaunch Twin Builder using an implicit declaration and add a new design\r\nwith a default setup.\r\n"
      ]
    },
    {
      "cell_type": "code",
      "execution_count": null,
      "metadata": {
        "collapsed": false
      },
      "outputs": [],
      "source": [
        "tb = ansys.aedt.core.TwinBuilder(project=ansys.aedt.core.generate_unique_project_name(),\n                        version=aedt_version,\n                        non_graphical=non_graphical,\n                        new_desktop=new_thread\n                        )\ntb.modeler.schematic_units = \"mil\""
      ]
    },
    {
      "cell_type": "markdown",
      "metadata": {},
      "source": [
        "# Create components for RC circuit\r\n\r\nCreate components for an RC circuit driven by a pulse voltage source.\r\nCreate components, such as a voltage source, resistor, and capacitor.\r\n"
      ]
    },
    {
      "cell_type": "code",
      "execution_count": null,
      "metadata": {
        "collapsed": false
      },
      "outputs": [],
      "source": [
        "source = tb.modeler.schematic.create_voltage_source(\"E1\", \"EPULSE\", 10, 10, [0, 0])\nresistor = tb.modeler.schematic.create_resistor(\"R1\", 10000, [1000, 1000], 90)\ncapacitor = tb.modeler.schematic.create_capacitor(\"C1\", 1e-6, [2000, 0])"
      ]
    },
    {
      "cell_type": "markdown",
      "metadata": {},
      "source": [
        "# Create ground\r\n\r\nCreate a ground, which is needed for an analog analysis.\r\n"
      ]
    },
    {
      "cell_type": "code",
      "execution_count": null,
      "metadata": {
        "collapsed": false
      },
      "outputs": [],
      "source": [
        "gnd = tb.modeler.components.create_gnd([0, -1000])"
      ]
    },
    {
      "cell_type": "markdown",
      "metadata": {},
      "source": [
        "# Connect components\r\n\r\nConnects components with pins.\r\n"
      ]
    },
    {
      "cell_type": "code",
      "execution_count": null,
      "metadata": {
        "collapsed": false
      },
      "outputs": [],
      "source": [
        "source.pins[1].connect_to_component(resistor.pins[0])\nresistor.pins[1].connect_to_component(capacitor.pins[0])\ncapacitor.pins[1].connect_to_component(source.pins[0])\nsource.pins[0].connect_to_component(gnd.pins[0])"
      ]
    },
    {
      "cell_type": "markdown",
      "metadata": {},
      "source": [
        "# Parametrize transient setup\r\n\r\nParametrize the default transient setup by setting the end time.\r\n"
      ]
    },
    {
      "cell_type": "code",
      "execution_count": null,
      "metadata": {
        "collapsed": false
      },
      "outputs": [],
      "source": [
        "tb.set_end_time(\"300ms\")"
      ]
    },
    {
      "cell_type": "markdown",
      "metadata": {},
      "source": [
        "# Solve transient setup\r\n\r\nSolve the transient setup.\r\n"
      ]
    },
    {
      "cell_type": "code",
      "execution_count": null,
      "metadata": {
        "collapsed": false
      },
      "outputs": [],
      "source": [
        "tb.analyze_setup(\"TR\")"
      ]
    },
    {
      "cell_type": "markdown",
      "metadata": {},
      "source": [
        "# Get report data and plot using Matplotlib\r\n\r\nGet report data and plot it using Matplotlib. The following code gets\r\nand plots the values for the voltage on the pulse voltage source and the\r\nvalues for the voltage on the capacitor in the RC circuit.\r\n"
      ]
    },
    {
      "cell_type": "code",
      "execution_count": null,
      "metadata": {
        "collapsed": false
      },
      "outputs": [],
      "source": [
        "E_Value = \"E1.V\"\nC_Value = \"C1.V\"\n\nx = tb.post.get_solution_data([E_Value, C_Value], \"TR\", \"Time\")\nx.plot([E_Value, C_Value], x_label=\"Time\", y_label=\"Capacitor Voltage vs Input Pulse\")\n\ntb.save_project()"
      ]
    },
    {
      "cell_type": "markdown",
      "metadata": {},
      "source": [
        "# Close Twin Builder\r\n\r\nAfter the simulation completes, you can close Twin Builder or release\r\nit. All methods provide for saving the project before closing.\r\n"
      ]
    },
    {
      "cell_type": "code",
      "execution_count": null,
      "metadata": {
        "collapsed": false
      },
      "outputs": [],
      "source": [
        "tb.release_desktop()"
      ]
    }
  ],
  "metadata": {
    "kernelspec": {
      "display_name": "Python 3",
      "language": "python",
      "name": "python3"
    },
    "language_info": {
      "codemirror_mode": {
        "name": "ipython",
        "version": 3
      },
      "file_extension": ".py",
      "mimetype": "text/x-python",
      "name": "python",
      "nbconvert_exporter": "python",
      "pygments_lexer": "ipython3",
      "version": "3.10.9"
    }
  },
  "nbformat": 4,
  "nbformat_minor": 0
}