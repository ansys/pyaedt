{
  "cells": [
    {
      "cell_type": "markdown",
      "metadata": {},
      "source": [
        "# Circuit: schematic creation and analysis\r\n\r\nThis example shows how you can use PyAEDT to create a circuit design and\r\nrun a Nexxim time-domain simulation.\r\n"
      ]
    },
    {
      "cell_type": "markdown",
      "metadata": {},
      "source": [
        "# Perform required imports\r\n\r\nPerform required imports.\r\n"
      ]
    },
    {
      "cell_type": "code",
      "execution_count": null,
      "metadata": {
        "collapsed": false
      },
      "outputs": [],
      "source": [
        "# sphinx_gallery_thumbnail_path = 'Resources/circuit.png'\n\nimport ansys.aedt.core"
      ]
    },
    {
      "cell_type": "markdown",
      "metadata": {},
      "source": [
        "# Set AEDT version\r\n\r\nSet AEDT version.\r\n"
      ]
    },
    {
      "cell_type": "code",
      "execution_count": null,
      "metadata": {
        "collapsed": false
      },
      "outputs": [],
      "source": [
        "aedt_version = \"2024.2\""
      ]
    },
    {
      "cell_type": "markdown",
      "metadata": {},
      "source": [
        "# Set non-graphical mode\r\n\r\nSet non-graphical mode. You can set `non_graphical` either to `True` or\r\n`False`. The Boolean parameter `new_thread` defines whether to create a\r\nnew instance of AEDT or try to connect to an existing instance of it.\r\n"
      ]
    },
    {
      "cell_type": "code",
      "execution_count": null,
      "metadata": {
        "collapsed": false
      },
      "outputs": [],
      "source": [
        "non_graphical = False\nnew_thread = True"
      ]
    },
    {
      "cell_type": "markdown",
      "metadata": {},
      "source": [
        "# Launch AEDT and Circuit\r\n\r\nLaunch AEDT and Circuit. The `ansys.aedt.core.Desktop`{.interpreted-text\r\nrole=\"class\"} class initializes AEDT and starts the specified version in\r\nthe specified mode.\r\n"
      ]
    },
    {
      "cell_type": "code",
      "execution_count": null,
      "metadata": {
        "collapsed": false
      },
      "outputs": [],
      "source": [
        "desktop = ansys.aedt.core.launch_desktop(aedt_version, non_graphical, new_thread)\naedt_app = ansys.aedt.core.Circuit(project=ansys.aedt.core.generate_unique_project_name())\naedt_app.modeler.schematic.schematic_units = \"mil\""
      ]
    },
    {
      "cell_type": "markdown",
      "metadata": {},
      "source": [
        "# Create circuit setup\r\n\r\nCreate and customize an LNA (linear network analysis) setup.\r\n"
      ]
    },
    {
      "cell_type": "code",
      "execution_count": null,
      "metadata": {
        "collapsed": false
      },
      "outputs": [],
      "source": [
        "setup1 = aedt_app.create_setup(\"MyLNA\")\nsetup1.props[\"SweepDefinition\"][\"Data\"] = \"LINC 0GHz 4GHz 10001\""
      ]
    },
    {
      "cell_type": "markdown",
      "metadata": {},
      "source": [
        "# Create components\r\n\r\nCreate components, such as an inductor, resistor, and capacitor.\r\n"
      ]
    },
    {
      "cell_type": "code",
      "execution_count": null,
      "metadata": {
        "collapsed": false
      },
      "outputs": [],
      "source": [
        "inductor = aedt_app.modeler.schematic.create_inductor(name=\"L1\", value=1e-9, location=[0, 0])\nresistor = aedt_app.modeler.schematic.create_resistor(name=\"R1\", value=50, location=[500, 0])\ncapacitor = aedt_app.modeler.schematic.create_capacitor(name=\"C1\", value=1e-12, location=[1000, 0])"
      ]
    },
    {
      "cell_type": "markdown",
      "metadata": {},
      "source": [
        "# Get all pins\r\n\r\nGet all pins of a specified component.\r\n"
      ]
    },
    {
      "cell_type": "code",
      "execution_count": null,
      "metadata": {
        "collapsed": false
      },
      "outputs": [],
      "source": [
        "pins_resistor = resistor.pins"
      ]
    },
    {
      "cell_type": "markdown",
      "metadata": {},
      "source": [
        "# Create port and ground\r\n\r\nCreate a port and a ground, which are needed for the circuit analysis.\r\n"
      ]
    },
    {
      "cell_type": "code",
      "execution_count": null,
      "metadata": {
        "collapsed": false
      },
      "outputs": [],
      "source": [
        "port = aedt_app.modeler.components.create_interface_port(name=\"myport\", location=[-200, 0] )\ngnd = aedt_app.modeler.components.create_gnd(location=[1200, -100])"
      ]
    },
    {
      "cell_type": "markdown",
      "metadata": {},
      "source": [
        "# Connect components\r\n\r\nConnect components with wires.\r\n"
      ]
    },
    {
      "cell_type": "code",
      "execution_count": null,
      "metadata": {
        "collapsed": false
      },
      "outputs": [],
      "source": [
        "port.pins[0].connect_to_component(assignment=inductor.pins[0], use_wire=True)\ninductor.pins[1].connect_to_component(assignment=resistor.pins[1], use_wire=True)\nresistor.pins[0].connect_to_component(assignment=capacitor.pins[0], use_wire=True)\ncapacitor.pins[1].connect_to_component(assignment=gnd.pins[0], use_wire=True)"
      ]
    },
    {
      "cell_type": "markdown",
      "metadata": {},
      "source": [
        "# Create transient setup\r\n\r\nCreate a transient setup.\r\n"
      ]
    },
    {
      "cell_type": "code",
      "execution_count": null,
      "metadata": {
        "collapsed": false
      },
      "outputs": [],
      "source": [
        "setup2 = aedt_app.create_setup(name=\"MyTransient\", setup_type=aedt_app.SETUPS.NexximTransient)\nsetup2.props[\"TransientData\"] = [\"0.01ns\", \"200ns\"]\nsetup3 = aedt_app.create_setup(name=\"MyDC\", setup_type=aedt_app.SETUPS.NexximDC)"
      ]
    },
    {
      "cell_type": "markdown",
      "metadata": {},
      "source": [
        "# Solve transient setup\r\n\r\nSolve the transient setup.\r\n"
      ]
    },
    {
      "cell_type": "code",
      "execution_count": null,
      "metadata": {
        "collapsed": false
      },
      "outputs": [],
      "source": [
        "aedt_app.analyze_setup(\"MyLNA\")\naedt_app.export_fullwave_spice()"
      ]
    },
    {
      "cell_type": "markdown",
      "metadata": {},
      "source": [
        "# Create report\r\n\r\nCreate a report that plots solution data.\r\n"
      ]
    },
    {
      "cell_type": "code",
      "execution_count": null,
      "metadata": {
        "collapsed": false
      },
      "outputs": [],
      "source": [
        "solutions = aedt_app.post.get_solution_data(expressions=aedt_app.get_traces_for_plot(category=\"S\"))\nsolutions.enable_pandas_output = True\nreal, imag = solutions.full_matrix_real_imag\nprint(real)"
      ]
    },
    {
      "cell_type": "markdown",
      "metadata": {},
      "source": [
        "# Plot data\r\n\r\nCreate a plot based on solution data.\r\n"
      ]
    },
    {
      "cell_type": "code",
      "execution_count": null,
      "metadata": {
        "collapsed": false
      },
      "outputs": [],
      "source": [
        "fig = solutions.plot()"
      ]
    },
    {
      "cell_type": "markdown",
      "metadata": {},
      "source": [
        "# Close AEDT\r\n\r\nAfter the simulation completes, you can close AEDT or release it using\r\nthe `ansys.aedt.core.Desktop.force_close_desktop`{.interpreted-text\r\nrole=\"func\"} method. All methods provide for saving the project before\r\nclosing.\r\n"
      ]
    },
    {
      "cell_type": "code",
      "execution_count": null,
      "metadata": {
        "collapsed": false
      },
      "outputs": [],
      "source": [
        "desktop.release_desktop()"
      ]
    }
  ],
  "metadata": {
    "kernelspec": {
      "display_name": "Python 3",
      "language": "python",
      "name": "python3"
    },
    "language_info": {
      "codemirror_mode": {
        "name": "ipython",
        "version": 3
      },
      "file_extension": ".py",
      "mimetype": "text/x-python",
      "name": "python",
      "nbconvert_exporter": "python",
      "pygments_lexer": "ipython3",
      "version": "3.10.9"
    }
  },
  "nbformat": 4,
  "nbformat_minor": 0
}