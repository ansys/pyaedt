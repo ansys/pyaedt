{
  "cells": [
    {
      "cell_type": "markdown",
      "metadata": {},
      "source": [
        "# General: configuration files\r\n\r\nThis example shows how you can use PyAEDT to export configuration files\r\nand re-use them to import in a new project. A configuration file is\r\nsupported by these applications:\r\n\r\n-   HFSS\r\n-   2D Extractor and Q3D Extractor\r\n-   Maxwell\r\n-   Icepak (in AEDT)\r\n-   Mechanical (in AEDT)\r\n\r\nThe following sections are covered:\r\n\r\n-   Variables\r\n-   Mesh operations (except Icepak)\r\n-   Setup and optimetrics\r\n-   Material properties\r\n-   Object properties\r\n-   Boundaries and excitations\r\n\r\nWhen a boundary is attached to a face, the tool tries to match it with a\r\n`FaceByPosition` on the same object name on the target design. If, for\r\nany reason, this face position has changed or the object name in the\r\ntarget design has changed, the boundary fails to apply.\r\n"
      ]
    },
    {
      "cell_type": "markdown",
      "metadata": {},
      "source": [
        "# Perform required imports\r\n\r\nPerform required imports from ansys.aedt.core.\r\n"
      ]
    },
    {
      "cell_type": "code",
      "execution_count": null,
      "metadata": {
        "collapsed": false
      },
      "outputs": [],
      "source": [
        "import os\nimport ansys.aedt.core"
      ]
    },
    {
      "cell_type": "markdown",
      "metadata": {},
      "source": [
        "# Set AEDT version\r\n\r\nSet AEDT version.\r\n"
      ]
    },
    {
      "cell_type": "code",
      "execution_count": null,
      "metadata": {
        "collapsed": false
      },
      "outputs": [],
      "source": [
        "aedt_version = \"2024.2\""
      ]
    },
    {
      "cell_type": "markdown",
      "metadata": {},
      "source": [
        "# Set non-graphical mode\r\n\r\nSet non-graphical mode. You can set `non_graphical` either to `True` or\r\n`False`.\r\n"
      ]
    },
    {
      "cell_type": "code",
      "execution_count": null,
      "metadata": {
        "collapsed": false
      },
      "outputs": [],
      "source": [
        "non_graphical = False"
      ]
    },
    {
      "cell_type": "markdown",
      "metadata": {},
      "source": [
        "# Open project\r\n\r\nDownload the project, open it, and save it to the temporary folder.\r\n"
      ]
    },
    {
      "cell_type": "code",
      "execution_count": null,
      "metadata": {
        "collapsed": false
      },
      "outputs": [],
      "source": [
        "project_full_name = ansys.aedt.core.downloads.download_icepak(ansys.aedt.core.generate_unique_folder_name(folder_name=\"Graphic_Card\"))\n\nipk = ansys.aedt.core.Icepak(project=project_full_name, version=aedt_version,\n                    new_desktop=True, non_graphical=non_graphical)\nipk.autosave_disable()"
      ]
    },
    {
      "cell_type": "markdown",
      "metadata": {},
      "source": [
        "# Create source blocks\r\n\r\nCreate a source block on the CPU and memories.\r\n"
      ]
    },
    {
      "cell_type": "code",
      "execution_count": null,
      "metadata": {
        "collapsed": false
      },
      "outputs": [],
      "source": [
        "ipk.create_source_block(object_name=\"CPU\", input_power=\"25W\")\nipk.create_source_block(object_name=[\"MEMORY1\", \"MEMORY1_1\"], input_power=\"5W\")"
      ]
    },
    {
      "cell_type": "markdown",
      "metadata": {},
      "source": [
        "# Assign boundaries\r\n\r\nAssign the opening and grille.\r\n"
      ]
    },
    {
      "cell_type": "code",
      "execution_count": null,
      "metadata": {
        "collapsed": false
      },
      "outputs": [],
      "source": [
        "region = ipk.modeler[\"Region\"]\nipk.assign_openings(air_faces=region.bottom_face_x.id)\nipk.assign_grille(air_faces=region.top_face_x.id, free_area_ratio=0.8)"
      ]
    },
    {
      "cell_type": "markdown",
      "metadata": {},
      "source": [
        "# Create setup\r\n\r\nCreate the setup. Properties can be set up from the `setup` object with\r\ngetters and setters. They don\\'t have to perfectly match the property\r\nsyntax.\r\n"
      ]
    },
    {
      "cell_type": "code",
      "execution_count": null,
      "metadata": {
        "collapsed": false
      },
      "outputs": [],
      "source": [
        "setup1 = ipk.create_setup()\nsetup1[\"FlowRegime\"] = \"Turbulent\"\nsetup1[\"Max Iterations\"] = 5\nsetup1[\"Solver Type Pressure\"] = \"flex\"\nsetup1[\"Solver Type Temperature\"] = \"flex\"\nipk.save_project(r\"C:\\temp\\Graphic_card.aedt\")"
      ]
    },
    {
      "cell_type": "markdown",
      "metadata": {},
      "source": [
        "# Export project to step file\r\n\r\nExport the current project to the step file.\r\n"
      ]
    },
    {
      "cell_type": "code",
      "execution_count": null,
      "metadata": {
        "collapsed": false
      },
      "outputs": [],
      "source": [
        "filename = ipk.design_name\nfile_path = os.path.join(ipk.working_directory, filename + \".step\")\nipk.export_3d_model(file_name=filename, file_path=ipk.working_directory, file_format=\".step\", assignment_to_export=[],\n                    assignment_to_remove=[])"
      ]
    },
    {
      "cell_type": "markdown",
      "metadata": {},
      "source": [
        "# Export configuration files\r\n\r\nExport the configuration files. You can optionally disable the export\r\nand import sections. Supported formats are json and toml files\r\n"
      ]
    },
    {
      "cell_type": "code",
      "execution_count": null,
      "metadata": {
        "collapsed": false
      },
      "outputs": [],
      "source": [
        "conf_file = ipk.configurations.export_config(os.path.join(ipk.working_directory, \"config.toml\"))\nipk.close_project()"
      ]
    },
    {
      "cell_type": "markdown",
      "metadata": {},
      "source": [
        "# Create project\r\n\r\nCreate an Icepak project and import the step.\r\n"
      ]
    },
    {
      "cell_type": "code",
      "execution_count": null,
      "metadata": {
        "collapsed": false
      },
      "outputs": [],
      "source": [
        "app = ansys.aedt.core.Icepak(project=\"new_proj_Ipk\")\napp.modeler.import_3d_cad(file_path)"
      ]
    },
    {
      "cell_type": "markdown",
      "metadata": {},
      "source": [
        "# Import and apply configuration file\r\n\r\nImport and apply the configuration file. You can apply all or part of\r\nthe JSON file that you import using options in the `configurations`\r\nobject.\r\n"
      ]
    },
    {
      "cell_type": "code",
      "execution_count": null,
      "metadata": {
        "collapsed": false
      },
      "outputs": [],
      "source": [
        "out = app.configurations.import_config(conf_file)\napp.configurations.results.global_import_success"
      ]
    },
    {
      "cell_type": "markdown",
      "metadata": {},
      "source": [
        "# Close project\r\n\r\nClose the project.\r\n"
      ]
    },
    {
      "cell_type": "code",
      "execution_count": null,
      "metadata": {
        "collapsed": false
      },
      "outputs": [],
      "source": [
        "app.release_desktop()"
      ]
    }
  ],
  "metadata": {
    "kernelspec": {
      "display_name": "Python 3",
      "language": "python",
      "name": "python3"
    },
    "language_info": {
      "codemirror_mode": {
        "name": "ipython",
        "version": 3
      },
      "file_extension": ".py",
      "mimetype": "text/x-python",
      "name": "python",
      "nbconvert_exporter": "python",
      "pygments_lexer": "ipython3",
      "version": "3.10.9"
    }
  },
  "nbformat": 4,
  "nbformat_minor": 0
}