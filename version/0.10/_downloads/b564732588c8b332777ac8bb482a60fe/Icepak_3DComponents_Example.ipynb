{
  "cells": [
    {
      "cell_type": "markdown",
      "metadata": {},
      "source": [
        "# Icepak: thermal analysis with 3D components\r\n\r\nThis example shows how to create a thermal analysis of an electronic\r\npackage by taking advantage of 3D components and features added by\r\nPyAEDT.\r\n"
      ]
    },
    {
      "cell_type": "markdown",
      "metadata": {},
      "source": [
        "# Import PyAEDT and download files\r\n\r\nPerform import of required classes from the `pyaedt` package and import\r\nthe `os` package.\r\n"
      ]
    },
    {
      "cell_type": "code",
      "execution_count": null,
      "metadata": {
        "collapsed": false
      },
      "outputs": [],
      "source": [
        "from ansys.aedt.core import Icepak, generate_unique_folder_name, downloads, settings\nimport os\n\n# Download needed files\n\ntemp_folder = generate_unique_folder_name()\npackage_temp_name, qfp_temp_name = downloads.download_icepak_3d_component(temp_folder)"
      ]
    },
    {
      "cell_type": "markdown",
      "metadata": {},
      "source": [
        "# Set AEDT version\r\n\r\nSet AEDT version.\r\n"
      ]
    },
    {
      "cell_type": "code",
      "execution_count": null,
      "metadata": {
        "collapsed": false
      },
      "outputs": [],
      "source": [
        "aedt_version = \"2024.2\""
      ]
    },
    {
      "cell_type": "markdown",
      "metadata": {},
      "source": [
        "# Set non-graphical mode\r\n\r\nSet non-graphical mode. You can set `non_graphical` either to `True` or\r\n`False`.\r\n"
      ]
    },
    {
      "cell_type": "code",
      "execution_count": null,
      "metadata": {
        "collapsed": false
      },
      "outputs": [],
      "source": [
        "non_graphical = False"
      ]
    },
    {
      "cell_type": "markdown",
      "metadata": {},
      "source": [
        "# Create heatsink\r\n\r\nOpen a new project in non-graphical mode.\r\n"
      ]
    },
    {
      "cell_type": "code",
      "execution_count": null,
      "metadata": {
        "collapsed": false
      },
      "outputs": [],
      "source": [
        "ipk = Icepak(project=os.path.join(temp_folder, \"Heatsink.aedt\"),\n             version=aedt_version,\n             non_graphical=non_graphical,\n             close_on_exit=True,\n             new_desktop=True)\n\n# Remove air region created by default because it is not needed as the heatsink will be exported as a 3DComponent.\n\nipk.modeler.get_object_from_name(\"Region\").delete()\n\n# Definition of heatsink with boxes\nhs_base = ipk.modeler.create_box(origin=[0, 0, 0], sizes=[37.5, 37.5, 2], name=\"HS_Base\")\nhs_base.material_name = \"Al-Extruded\"\nhs_fin = ipk.modeler.create_box(origin=[0, 0, 2], sizes=[37.5, 1, 18], name=\"HS_Fin1\")\nhs_fin.material_name = \"Al-Extruded\"\nhs_fin.duplicate_along_line([0, 3.65, 0], nclones=11)\n\nipk.plot(show=False, output_file=os.path.join(temp_folder, \"Heatsink.jpg\"))\n\n# Definition of a mesh region. First a non-model box is created, then the mesh region is assigned\nmesh_box = ipk.modeler.create_box(origin=[-2, -2, -3], sizes=[41.5, 41.5, 24])\nmesh_box.model = False\nmesh_region = ipk.mesh.assign_mesh_region([mesh_box.name])\nmesh_region.UserSpecifiedSettings = True\nmesh_region.MaxElementSizeX = \"5mm\"\nmesh_region.MaxElementSizeY = \"5mm\"\nmesh_region.MaxElementSizeZ = \"1mm\"\nmesh_region.MinElementsInGap = \"4\"\nmesh_region.MaxLevels = \"2\"\nmesh_region.BufferLayers = \"1\"\nmesh_region.update()\n\n# Assignment of monitor objects.\nhs_fin5_object = ipk.modeler.get_object_from_name(\"HS_Fin1_5\")\npoint_monitor_position = [0.5 * (hs_base.bounding_box[i] + hs_base.bounding_box[i + 3]) for i in range(2)] + [\n    hs_fin5_object.bounding_box[-1]]  # average x,y, top z\n\nipk.monitor.assign_point_monitor(point_monitor_position, monitor_quantity=[\"Temperature\", \"HeatFlux\"],\n                                 monitor_name=\"TopPoint\")\nipk.monitor.assign_face_monitor(hs_base.bottom_face_z.id, monitor_quantity=\"Temperature\", monitor_name=\"Bottom\")\nipk.monitor.assign_point_monitor_in_object(\"HS_Fin1_5\", monitor_quantity=\"Temperature\", monitor_name=\"Fin5Center\")\n\n# Export the heatsink 3D component and close project. auxiliary_dict is set to true in order to export the\n# monitor objects along with the .a3dcomp file.\nos.mkdir(os.path.join(temp_folder, \"componentLibrary\"))\nipk.modeler.create_3dcomponent(os.path.join(temp_folder, \"componentLibrary\", \"Heatsink.a3dcomp\"), name=\"Heatsink\",\n                               export_auxiliary=True)\nipk.close_project(save=False)"
      ]
    },
    {
      "cell_type": "markdown",
      "metadata": {},
      "source": [
        "# Create QFP\r\n\r\nDownload and open a project containing a QPF.\r\n"
      ]
    },
    {
      "cell_type": "code",
      "execution_count": null,
      "metadata": {
        "collapsed": false
      },
      "outputs": [],
      "source": [
        "ipk = Icepak(project=qfp_temp_name)\nipk.plot(show=False, output_file=os.path.join(temp_folder, \"QFP2.jpg\"))\n\n# Create dataset for power dissipation.\nx_datalist = [45, 53, 60, 70]\ny_datalist = [0.5, 3, 6, 9]\nipk.create_dataset(\"PowerDissipationDataset\", x_datalist, y_datalist, z=None, v=None, is_project_dataset=False,\n                   x_unit=\"cel\", y_unit=\"W\", v_unit=\"\")\n\n# Assign source power condition to the die.\nipk.create_source_power(\n    \"DieSource\",\n    thermal_dependent_dataset=\"PowerDissipationDataset\",\n    source_name=\"DieSource\"\n)\n\n# Assign thickness to the die attach surface.\nipk.create_conduting_plate(face_id=\"Die_Attach\",\n                           thermal_specification=\"Thickness\",\n                           shell_conduction=True,\n                           thickness=\"0.05mm\",\n                           solid_material=\"Epoxy Resin-Typical\",\n                           bc_name=\"Die_Attach\",\n                           )\n\n# Assign monitor objects.\nipk.monitor.assign_point_monitor_in_object(\"QFP2_die\", monitor_quantity=\"Temperature\", monitor_name=\"DieCenter\")\nipk.monitor.assign_surface_monitor(\"Die_Attach\", monitor_quantity=\"Temperature\", monitor_name=\"DieAttach\")\n\n# Export the QFP 3D component and close project. Here the auxiliary dictionary allows exporting not only the monitor\n# objects but also the dataset used for the power source assignment.\nipk.modeler.create_3dcomponent(os.path.join(temp_folder, \"componentLibrary\", \"QFP.a3dcomp\"), name=\"QFP\",\n                               export_auxiliary=True, datasets=[\"PowerDissipationDataset\"])\nipk.release_desktop(False, False)"
      ]
    },
    {
      "cell_type": "markdown",
      "metadata": {},
      "source": [
        "# Create electronic package\r\n\r\nDownload and open a project containing the electronic package.\r\n"
      ]
    },
    {
      "cell_type": "code",
      "execution_count": null,
      "metadata": {
        "collapsed": false
      },
      "outputs": [],
      "source": [
        "ipk = Icepak(project=package_temp_name,\n             version=aedt_version,\n             non_graphical=non_graphical)\nipk.plot(show=False, output_file=os.path.join(temp_folder, \"electronic_package_missing_obj.jpg\"))\n\n# The heatsink and the QFP are missing. They can be inserted as 3d components. The auxiliary files are needed since\n# the aim is to import also monitor objects and datasets. Also, a coordinate system is created for the heatsink so\n# that it is placed on top of the AGP.\nagp = ipk.modeler.get_object_from_name(\"AGP_IDF\")\ncs = ipk.modeler.create_coordinate_system(\n    origin=[agp.bounding_box[0], agp.bounding_box[1], agp.bounding_box[-1]],\n    name=\"HeatsinkCS\",\n    reference_cs=\"Global\",\n    x_pointing=[1, 0, 0],\n    y_pointing=[0, 1, 0],\n)\nheatsink_obj = ipk.modeler.insert_3d_component(\n    input_file=os.path.join(temp_folder, \"componentLibrary\", \"Heatsink.a3dcomp\"), coordinate_system=\"HeatsinkCS\",\n    auxiliary_parameters=True)\n\nQFP2_obj = ipk.modeler.insert_3d_component(input_file=os.path.join(temp_folder, \"componentLibrary\", \"QFP.a3dcomp\"),\n                                           coordinate_system=\"Global\", auxiliary_parameters=True)\nipk.plot(show=False, output_file=os.path.join(temp_folder, \"electronic_package.jpg\"))\n\n# Create a coordinate system at the xmin, ymin, zmin of the model\nbounding_box = ipk.modeler.get_model_bounding_box()\ncs_pcb_assembly = ipk.modeler.create_coordinate_system(\n    origin=[bounding_box[0], bounding_box[1], bounding_box[2]],\n    name=\"PCB_Assembly\",\n    reference_cs=\"Global\",\n    x_pointing=[1, 0, 0],\n    y_pointing=[0, 1, 0],\n)\n\n# Export of the whole assembly as 3d component and close project. First, a flattening is needed because nested 3d\n# components are not natively supported. Then it is possible to export the whole package as 3d component. Here the\n# auxiliary dictionary is needed to export monitor objects, datasets and native components.\nipk.flatten_3d_components()\nipk.modeler.create_3dcomponent(input_file=os.path.join(temp_folder, \"componentLibrary\", \"PCBAssembly.a3dcomp\"),\n                               name=\"PCBAssembly\", coordinate_systems=[\"Global\", \"HeatsinkCS\", \"PCB_Assembly\"],\n                               reference_coordinate_system=\"PCB_Assembly\", export_auxiliary=True)"
      ]
    },
    {
      "cell_type": "markdown",
      "metadata": {},
      "source": [
        "# Release AEDT\r\n\r\nRelease AEDT.\r\n"
      ]
    },
    {
      "cell_type": "code",
      "execution_count": null,
      "metadata": {
        "collapsed": false
      },
      "outputs": [],
      "source": [
        "ipk.release_desktop(True, True)"
      ]
    }
  ],
  "metadata": {
    "kernelspec": {
      "display_name": "Python 3",
      "language": "python",
      "name": "python3"
    },
    "language_info": {
      "codemirror_mode": {
        "name": "ipython",
        "version": 3
      },
      "file_extension": ".py",
      "mimetype": "text/x-python",
      "name": "python",
      "nbconvert_exporter": "python",
      "pygments_lexer": "ipython3",
      "version": "3.10.9"
    }
  },
  "nbformat": 4,
  "nbformat_minor": 0
}