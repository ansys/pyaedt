{
  "cells": [
    {
      "cell_type": "markdown",
      "metadata": {},
      "source": [
        "# EMIT: antenna\r\n\r\nThis example shows how you can use PyAEDT to create a project in EMIT\r\nfor the simulation of an antenna.\r\n"
      ]
    },
    {
      "cell_type": "markdown",
      "metadata": {},
      "source": [
        "# Perform required inputs\r\n\r\nPerform required imports.\r\n\r\nsphinx_gallery_thumbnail_path = \\\"Resources/emit_simple_cosite.png\\\"\r\n"
      ]
    },
    {
      "cell_type": "code",
      "execution_count": null,
      "metadata": {
        "collapsed": false
      },
      "outputs": [],
      "source": [
        "import os\nimport ansys.aedt.core\nfrom ansys.aedt.core.emit_core.emit_constants import TxRxMode, ResultType"
      ]
    },
    {
      "cell_type": "markdown",
      "metadata": {},
      "source": [
        "# Set AEDT version\r\n\r\nSet AEDT version.\r\n"
      ]
    },
    {
      "cell_type": "code",
      "execution_count": null,
      "metadata": {
        "collapsed": false
      },
      "outputs": [],
      "source": [
        "aedt_version = \"2024.2\""
      ]
    },
    {
      "cell_type": "markdown",
      "metadata": {},
      "source": [
        "# Set non-graphical mode\r\n\r\nSet non-graphical mode. You can set `non_graphical` either to `True` or\r\n`False`. The `NewThread` Boolean variable defines whether to create a\r\nnew instance of AEDT or try to connect to existing instance of it if one\r\nis available.\r\n"
      ]
    },
    {
      "cell_type": "code",
      "execution_count": null,
      "metadata": {
        "collapsed": false
      },
      "outputs": [],
      "source": [
        "non_graphical = False\nNewThread = True"
      ]
    },
    {
      "cell_type": "markdown",
      "metadata": {},
      "source": [
        "# Launch AEDT with EMIT\r\n\r\nLaunch AEDT with EMIT. The `Desktop` class initializes AEDT and starts\r\nit on the specified version and in the specified graphical mode.\r\n"
      ]
    },
    {
      "cell_type": "code",
      "execution_count": null,
      "metadata": {
        "collapsed": false
      },
      "outputs": [],
      "source": [
        "d = ansys.aedt.core.launch_desktop(aedt_version, non_graphical, NewThread)\naedtapp = ansys.aedt.core.Emit(ansys.aedt.core.generate_unique_project_name())"
      ]
    },
    {
      "cell_type": "markdown",
      "metadata": {},
      "source": [
        "# Create and connect EMIT components\r\n\r\nCreate three radios and connect an antenna to each one.\r\n"
      ]
    },
    {
      "cell_type": "code",
      "execution_count": null,
      "metadata": {
        "collapsed": false
      },
      "outputs": [],
      "source": [
        "rad1 = aedtapp.modeler.components.create_component(\"New Radio\")\nant1 = aedtapp.modeler.components.create_component(\"Antenna\")\nif rad1 and ant1:\n    ant1.move_and_connect_to(rad1)\n\n# Convenience method to create a radio and antenna connected together\nrad2, ant2 = aedtapp.modeler.components.create_radio_antenna(\"GPS Receiver\")\nrad3, ant3 = aedtapp.modeler.components.create_radio_antenna(\"Bluetooth Low Energy (LE)\", \"Bluetooth\")"
      ]
    },
    {
      "cell_type": "markdown",
      "metadata": {},
      "source": [
        "# Define coupling among RF systems\r\n\r\nDefine the coupling among the RF systems. This portion of the EMIT API\r\nis not yet implemented.\r\n"
      ]
    },
    {
      "cell_type": "markdown",
      "metadata": {},
      "source": [
        "# Run EMIT simulation\r\n\r\nRun the EMIT simulation.\r\n\r\nThis part of the example requires Ansys AEDT 2023 R2.\r\n"
      ]
    },
    {
      "cell_type": "code",
      "execution_count": null,
      "metadata": {
        "collapsed": false
      },
      "outputs": [],
      "source": [
        "if aedt_version > \"2023.1\" and os.getenv(\"PYAEDT_DOC_GENERATION\", \"False\") != \"1\":\n    rev = aedtapp.results.analyze()\n    rx_bands = rev.get_band_names(rad2.name, TxRxMode.RX) \n    tx_bands = rev.get_band_names(rad3.name, TxRxMode.TX) \n    domain = aedtapp.results.interaction_domain()\n    domain.set_receiver(rad2.name, rx_bands[0], -1)\n    domain.set_interferer(rad3.name,tx_bands[0])\n    interaction = rev.run(domain)\n    worst = interaction.get_worst_instance(ResultType.EMI)\n    if worst.has_valid_values():\n        emi = worst.get_value(ResultType.EMI)\n        print(\"Worst case interference is: {} dB\".format(emi))"
      ]
    },
    {
      "cell_type": "markdown",
      "metadata": {},
      "source": [
        "# Save project and close AEDT\r\n\r\nAfter the simulation completes, you can close AEDT or release it using\r\nthe `ansys.aedt.core.Desktop.force_close_desktop`{.interpreted-text\r\nrole=\"func\"} method. All methods provide for saving the project before\r\nclosing.\r\n"
      ]
    },
    {
      "cell_type": "code",
      "execution_count": null,
      "metadata": {
        "collapsed": false
      },
      "outputs": [],
      "source": [
        "aedtapp.save_project()\naedtapp.release_desktop(close_projects=True, close_desktop=True)"
      ]
    }
  ],
  "metadata": {
    "kernelspec": {
      "display_name": "Python 3",
      "language": "python",
      "name": "python3"
    },
    "language_info": {
      "codemirror_mode": {
        "name": "ipython",
        "version": 3
      },
      "file_extension": ".py",
      "mimetype": "text/x-python",
      "name": "python",
      "nbconvert_exporter": "python",
      "pygments_lexer": "ipython3",
      "version": "3.10.9"
    }
  },
  "nbformat": 4,
  "nbformat_minor": 0
}