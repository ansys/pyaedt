{
  "cells": [
    {
      "cell_type": "markdown",
      "metadata": {},
      "source": [
        "# Multiphysics: HFSS-Mechanical multiphysics analysis\r\n\r\nThis example shows how you can use PyAEDT to create a multiphysics\r\nworkflow that includes Circuit, HFSS, and Mechanical.\r\n"
      ]
    },
    {
      "cell_type": "markdown",
      "metadata": {},
      "source": [
        "# Perform required imports\r\n\r\nPerform required imports.\r\n"
      ]
    },
    {
      "cell_type": "code",
      "execution_count": null,
      "metadata": {
        "collapsed": false
      },
      "outputs": [],
      "source": [
        "import os\nimport ansys.aedt.core"
      ]
    },
    {
      "cell_type": "markdown",
      "metadata": {},
      "source": [
        "# Set AEDT version\r\n\r\nSet AEDT version.\r\n"
      ]
    },
    {
      "cell_type": "code",
      "execution_count": null,
      "metadata": {
        "collapsed": false
      },
      "outputs": [],
      "source": [
        "aedt_version = \"2024.2\""
      ]
    },
    {
      "cell_type": "markdown",
      "metadata": {},
      "source": [
        "# Set non-graphical mode\r\n\r\nSet non-graphical mode. You can set `non_graphical` either to `True` or\r\n`False`.\r\n"
      ]
    },
    {
      "cell_type": "code",
      "execution_count": null,
      "metadata": {
        "collapsed": false
      },
      "outputs": [],
      "source": [
        "non_graphical = False"
      ]
    },
    {
      "cell_type": "markdown",
      "metadata": {},
      "source": [
        "# Download and open project\r\n\r\nDownload and open the project. Save it to the temporary folder.\r\n"
      ]
    },
    {
      "cell_type": "code",
      "execution_count": null,
      "metadata": {
        "collapsed": false
      },
      "outputs": [],
      "source": [
        "project_temp_name = ansys.aedt.core.downloads.download_via_wizard(ansys.aedt.core.generate_unique_folder_name())"
      ]
    },
    {
      "cell_type": "markdown",
      "metadata": {},
      "source": [
        "# Start HFSS\r\n\r\nStart HFSS and initialize the PyAEDT object.\r\n"
      ]
    },
    {
      "cell_type": "code",
      "execution_count": null,
      "metadata": {
        "collapsed": false
      },
      "outputs": [],
      "source": [
        "hfss = ansys.aedt.core.Hfss(project=project_temp_name, version=aedt_version, non_graphical=non_graphical,\n                   new_desktop=True)\npin_names = hfss.excitations\nhfss.change_material_override(True)"
      ]
    },
    {
      "cell_type": "markdown",
      "metadata": {},
      "source": [
        "# Start Circuit\r\n\r\nStart Circuit and add the HFSS dynamic link component to it.\r\n"
      ]
    },
    {
      "cell_type": "code",
      "execution_count": null,
      "metadata": {
        "collapsed": false
      },
      "outputs": [],
      "source": [
        "circuit = ansys.aedt.core.Circuit()\nhfss_comp = circuit.modeler.schematic.add_subcircuit_dynamic_link(hfss)"
      ]
    },
    {
      "cell_type": "markdown",
      "metadata": {},
      "source": [
        "# Set up dynamic link options\r\n\r\nSet up dynamic link options. The argument for the\r\n`set_sim_option_on_hfss_subcircuit` method can be the component name,\r\ncomponent ID, or component object.\r\n"
      ]
    },
    {
      "cell_type": "code",
      "execution_count": null,
      "metadata": {
        "collapsed": false
      },
      "outputs": [],
      "source": [
        "circuit.modeler.schematic.refresh_dynamic_link(hfss_comp.composed_name)\ncircuit.modeler.schematic.set_sim_option_on_hfss_subcircuit(hfss_comp)\nhfss_setup_name = hfss.setups[0].name + \" : \" + hfss.setups[0].sweeps[0].name\ncircuit.modeler.schematic.set_sim_solution_on_hfss_subcircuit(hfss_comp.composed_name, hfss_setup_name)"
      ]
    },
    {
      "cell_type": "markdown",
      "metadata": {},
      "source": [
        "# Create ports and excitations\r\n\r\nCreate ports and excitations. Find component pin locations and create\r\ninterface ports on them. Define the voltage source on the input port.\r\n"
      ]
    },
    {
      "cell_type": "code",
      "execution_count": null,
      "metadata": {
        "collapsed": false
      },
      "outputs": [],
      "source": [
        "circuit.modeler.schematic.create_interface_port(\n    name=\"Excitation_1\", location=[hfss_comp.pins[0].location[0], hfss_comp.pins[0].location[1]]\n)\ncircuit.modeler.schematic.create_interface_port(\n    name=\"Excitation_2\", location=[hfss_comp.pins[1].location[0], hfss_comp.pins[1].location[1]]\n)\ncircuit.modeler.schematic.create_interface_port(\n    name=\"Port_1\", location=[hfss_comp.pins[2].location[0], hfss_comp.pins[2].location[1]]\n)\ncircuit.modeler.schematic.create_interface_port(\n    name=\"Port_2\", location=[hfss_comp.pins[3].location[0], hfss_comp.pins[3].location[1]]\n)\n\nvoltage = 1\nphase = 0\nports_list = [\"Excitation_1\", \"Excitation_2\"]\nsource = circuit.assign_voltage_sinusoidal_excitation_to_ports(ports_list)\nsource.ac_magnitude = voltage\nsource.phase = phase"
      ]
    },
    {
      "cell_type": "markdown",
      "metadata": {},
      "source": [
        "# Create setup\r\n\r\nCreate a setup.\r\n"
      ]
    },
    {
      "cell_type": "code",
      "execution_count": null,
      "metadata": {
        "collapsed": false
      },
      "outputs": [],
      "source": [
        "setup_name = \"MySetup\"\nLNA_setup = circuit.create_setup(name=setup_name)\nbw_start = 4.3\nbw_stop = 4.4\nn_points = 1001\nunit = \"GHz\"\nsweep_list = [\"LINC\", str(bw_start) + unit, str(bw_stop) + unit, str(n_points)]\nLNA_setup.props[\"SweepDefinition\"][\"Data\"] = \" \".join(sweep_list)"
      ]
    },
    {
      "cell_type": "markdown",
      "metadata": {},
      "source": [
        "# Solve and push excitations\r\n\r\nSolve the circuit and push excitations to the HFSS model to calculate\r\nthe correct value of losses.\r\n"
      ]
    },
    {
      "cell_type": "code",
      "execution_count": null,
      "metadata": {
        "collapsed": false
      },
      "outputs": [],
      "source": [
        "circuit.analyze()\ncircuit.push_excitations(instance=\"S1\", setup=setup_name)"
      ]
    },
    {
      "cell_type": "markdown",
      "metadata": {},
      "source": [
        "# Start Mechanical\r\n\r\nStart Mechanical and copy bodies from the HFSS project.\r\n"
      ]
    },
    {
      "cell_type": "code",
      "execution_count": null,
      "metadata": {
        "collapsed": false
      },
      "outputs": [],
      "source": [
        "mech = ansys.aedt.core.Mechanical()\nmech.copy_solid_bodies_from(hfss)\nmech.change_material_override(True)"
      ]
    },
    {
      "cell_type": "markdown",
      "metadata": {},
      "source": [
        "# Get losses from HFSS and assign convection to Mechanical\r\n\r\nGet losses from HFSS and assign the convection to Mechanical.\r\n"
      ]
    },
    {
      "cell_type": "code",
      "execution_count": null,
      "metadata": {
        "collapsed": false
      },
      "outputs": [],
      "source": [
        "mech.assign_em_losses(design=hfss.design_name, setup=hfss.setups[0].name, sweep=\"LastAdaptive\",\n                      map_frequency=hfss.setups[0].props[\"Frequency\"], surface_objects=hfss.get_all_conductors_names())\ndiels = [\"1_pd\", \"2_pd\", \"3_pd\", \"4_pd\", \"5_pd\"]\nfor el in diels:\n    mech.assign_uniform_convection(assignment=[mech.modeler[el].top_face_y, mech.modeler[el].bottom_face_y],\n                                   convection_value=3)"
      ]
    },
    {
      "cell_type": "markdown",
      "metadata": {},
      "source": [
        "# Plot model\r\n\r\nPlot the model.\r\n"
      ]
    },
    {
      "cell_type": "code",
      "execution_count": null,
      "metadata": {
        "collapsed": false
      },
      "outputs": [],
      "source": [
        "mech.plot(show=False, output_file=os.path.join(mech.working_directory, \"Mech.jpg\"), plot_air_objects=False)"
      ]
    },
    {
      "cell_type": "markdown",
      "metadata": {},
      "source": [
        "# Solve and plot thermal results\r\n\r\nSolve and plot the thermal results.\r\n"
      ]
    },
    {
      "cell_type": "code",
      "execution_count": null,
      "metadata": {
        "collapsed": false
      },
      "outputs": [],
      "source": [
        "mech.create_setup()\nmech.save_project()\nmech.analyze()\nsurfaces = []\nfor name in mech.get_all_conductors_names():\n    surfaces.extend(mech.modeler.get_object_faces(name))\nmech.post.create_fieldplot_surface(assignment=surfaces, quantity=\"Temperature\")"
      ]
    },
    {
      "cell_type": "markdown",
      "metadata": {},
      "source": [
        "# Release AEDT\r\n\r\nRelease AEDT.\r\n"
      ]
    },
    {
      "cell_type": "code",
      "execution_count": null,
      "metadata": {
        "collapsed": false
      },
      "outputs": [],
      "source": [
        "mech.release_desktop(True, True)"
      ]
    }
  ],
  "metadata": {
    "kernelspec": {
      "display_name": "Python 3",
      "language": "python",
      "name": "python3"
    },
    "language_info": {
      "codemirror_mode": {
        "name": "ipython",
        "version": 3
      },
      "file_extension": ".py",
      "mimetype": "text/x-python",
      "name": "python",
      "nbconvert_exporter": "python",
      "pygments_lexer": "ipython3",
      "version": "3.10.9"
    }
  },
  "nbformat": 4,
  "nbformat_minor": 0
}