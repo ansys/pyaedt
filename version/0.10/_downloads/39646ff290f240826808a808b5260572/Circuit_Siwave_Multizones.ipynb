{
  "cells": [
    {
      "cell_type": "markdown",
      "metadata": {},
      "source": [
        "# Circuit: Simulate multi-zones layout with Siwave\r\n\r\nThis example shows how you can use PyAEDT simulate multi-zones with\r\nSiwave.\r\n"
      ]
    },
    {
      "cell_type": "markdown",
      "metadata": {},
      "source": [
        "# Perform required imports\r\n\r\nPerform required imports, which includes importing a section.\r\n"
      ]
    },
    {
      "cell_type": "code",
      "execution_count": null,
      "metadata": {
        "collapsed": false
      },
      "outputs": [],
      "source": [
        "from ansys.aedt.core import Edb, Circuit\nimport os.path\nimport ansys.aedt.core"
      ]
    },
    {
      "cell_type": "markdown",
      "metadata": {},
      "source": [
        "# Download file\r\n\r\nDownload the AEDB file and copy it in the temporary folder.\r\n"
      ]
    },
    {
      "cell_type": "code",
      "execution_count": null,
      "metadata": {
        "collapsed": false
      },
      "outputs": [],
      "source": [
        "temp_folder = ansys.aedt.core.generate_unique_folder_name()\nedb_file = ansys.aedt.core.downloads.download_file(destination=temp_folder, directory=\"edb/siwave_multi_zones.aedb\")\nworking_directory = os.path.join(temp_folder, \"workdir\")\naedt_file = os.path.splitext(edb_file)[0] + \".aedt\"\ncircuit_project_file = os.path.join(working_directory, os.path.splitext(os.path.basename(edb_file))[0] +\n                               \"multizone_clipped_circuit.aedt\")\nprint(edb_file)"
      ]
    },
    {
      "cell_type": "markdown",
      "metadata": {},
      "source": [
        "# Set AEDT version\r\n\r\nSet AEDT version.\r\n"
      ]
    },
    {
      "cell_type": "code",
      "execution_count": null,
      "metadata": {
        "collapsed": false
      },
      "outputs": [],
      "source": [
        "aedt_version = \"2024.2\""
      ]
    },
    {
      "cell_type": "markdown",
      "metadata": {},
      "source": [
        "# Ground net\r\n\r\nCommon reference net used across all sub-designs, Mandatory for this\r\nwork flow.\r\n"
      ]
    },
    {
      "cell_type": "code",
      "execution_count": null,
      "metadata": {
        "collapsed": false
      },
      "outputs": [],
      "source": [
        "common_reference_net = \"GND\""
      ]
    },
    {
      "cell_type": "markdown",
      "metadata": {},
      "source": [
        "# Project load\r\n\r\nLoad initial Edb file, checking if aedt file exists and remove to allow\r\nEdb loading.\r\n"
      ]
    },
    {
      "cell_type": "code",
      "execution_count": null,
      "metadata": {
        "collapsed": false
      },
      "outputs": [],
      "source": [
        "if os.path.isfile(aedt_file):\n    os.remove(aedt_file)\nedb = Edb(edbversion=aedt_version, edbpath=edb_file)"
      ]
    },
    {
      "cell_type": "markdown",
      "metadata": {},
      "source": [
        "# Project zones\r\n\r\nCopy project zone into sub project.\r\n"
      ]
    },
    {
      "cell_type": "code",
      "execution_count": null,
      "metadata": {
        "collapsed": false
      },
      "outputs": [],
      "source": [
        "edb_zones = edb.copy_zones(working_directory=working_directory)"
      ]
    },
    {
      "cell_type": "markdown",
      "metadata": {},
      "source": [
        "# Split zones\r\n\r\nClip sub-designs along with corresponding zone definition and create\r\nport of clipped signal traces.\r\n"
      ]
    },
    {
      "cell_type": "code",
      "execution_count": null,
      "metadata": {
        "collapsed": false
      },
      "outputs": [],
      "source": [
        "defined_ports, project_connexions = edb.cutout_multizone_layout(edb_zones, common_reference_net)"
      ]
    },
    {
      "cell_type": "markdown",
      "metadata": {},
      "source": [
        "# Circuit\r\n\r\nCreate circuit design, import all sub-project as EM model and connect\r\nall corresponding pins in circuit.\r\n"
      ]
    },
    {
      "cell_type": "code",
      "execution_count": null,
      "metadata": {
        "collapsed": false
      },
      "outputs": [],
      "source": [
        "circuit = Circuit(version=aedt_version, project=circuit_project_file)\ncircuit.connect_circuit_models_from_multi_zone_cutout(project_connections=project_connexions,\n                                                      edb_zones_dict=edb_zones, ports=defined_ports,\n                                                      model_inc=70)"
      ]
    },
    {
      "cell_type": "markdown",
      "metadata": {},
      "source": [
        "# Setup\r\n\r\n> Add Nexxim LNA simulation setup.\r\n"
      ]
    },
    {
      "cell_type": "code",
      "execution_count": null,
      "metadata": {
        "collapsed": false
      },
      "outputs": [],
      "source": [
        "circuit_setup= circuit.create_setup(\"Pyedt_LNA\")"
      ]
    },
    {
      "cell_type": "markdown",
      "metadata": {},
      "source": [
        "# Frequency sweep\r\n\r\nAdd frequency sweep from 0GHt to 20GHz with 10NHz frequency step.\r\n"
      ]
    },
    {
      "cell_type": "code",
      "execution_count": null,
      "metadata": {
        "collapsed": false
      },
      "outputs": [],
      "source": [
        "circuit_setup.props[\"SweepDefinition\"][\"Data\"] = \"LIN {} {} {}\".format(\"0GHz\", \"20GHz\", \"10MHz\")"
      ]
    },
    {
      "cell_type": "markdown",
      "metadata": {},
      "source": [
        "# Start simulation\r\n\r\nAnalyze all siwave projects and solves the circuit.\r\n"
      ]
    },
    {
      "cell_type": "code",
      "execution_count": null,
      "metadata": {
        "collapsed": false
      },
      "outputs": [],
      "source": [
        "circuit.analyze()"
      ]
    },
    {
      "cell_type": "markdown",
      "metadata": {},
      "source": [
        "# Define differential pairs\r\n"
      ]
    },
    {
      "cell_type": "code",
      "execution_count": null,
      "metadata": {
        "collapsed": false
      },
      "outputs": [],
      "source": [
        "circuit.set_differential_pair(assignment=\"U0.via_38.B2B_SIGP\", reference=\"U0.via_39.B2B_SIGN\", differential_mode=\"U0\")\ncircuit.set_differential_pair(assignment=\"U1.via_32.B2B_SIGP\", reference=\"U1.via_33.B2B_SIGN\", differential_mode=\"U1\")"
      ]
    },
    {
      "cell_type": "markdown",
      "metadata": {},
      "source": [
        "# Plot results\r\n"
      ]
    },
    {
      "cell_type": "code",
      "execution_count": null,
      "metadata": {
        "collapsed": false
      },
      "outputs": [],
      "source": [
        "circuit.post.create_report(expressions=[\"dB(S(U0,U0))\", \"dB(S(U1,U0))\"], context=\"Differential Pairs\")"
      ]
    },
    {
      "cell_type": "markdown",
      "metadata": {},
      "source": [
        "# Release AEDT desktop\r\n"
      ]
    },
    {
      "cell_type": "code",
      "execution_count": null,
      "metadata": {
        "collapsed": false
      },
      "outputs": [],
      "source": [
        "circuit.release_desktop()"
      ]
    }
  ],
  "metadata": {
    "kernelspec": {
      "display_name": "Python 3",
      "language": "python",
      "name": "python3"
    },
    "language_info": {
      "codemirror_mode": {
        "name": "ipython",
        "version": 3
      },
      "file_extension": ".py",
      "mimetype": "text/x-python",
      "name": "python",
      "nbconvert_exporter": "python",
      "pygments_lexer": "ipython3",
      "version": "3.10.9"
    }
  },
  "nbformat": 4,
  "nbformat_minor": 0
}