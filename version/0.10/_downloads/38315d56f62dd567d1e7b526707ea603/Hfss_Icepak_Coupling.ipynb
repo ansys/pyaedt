{
  "cells": [
    {
      "cell_type": "markdown",
      "metadata": {},
      "source": [
        "# Multiphysics: HFSS-Icepak multiphysics analysis\r\n\r\nThis example shows how you can create a project from scratch in HFSS and\r\nIcepak (linked to HFSS). This includes creating a setup, solving it, and\r\ncreating postprocessing outputs.\r\n\r\nTo provide the advanced postprocessing features needed for this example,\r\nthe `numpy`, `matplotlib`, and `pyvista` packages must be installed on\r\nthe machine.\r\n\r\nThis examples runs only on Windows using CPython.\r\n"
      ]
    },
    {
      "cell_type": "markdown",
      "metadata": {},
      "source": [
        "# Perform required imports\r\n\r\nPerform required imports.\r\n"
      ]
    },
    {
      "cell_type": "code",
      "execution_count": null,
      "metadata": {
        "collapsed": false
      },
      "outputs": [],
      "source": [
        "import os\nimport ansys.aedt.core\nfrom ansys.aedt.core.generic.pdf import AnsysReport"
      ]
    },
    {
      "cell_type": "markdown",
      "metadata": {},
      "source": [
        "# Set AEDT version\r\n\r\nSet AEDT version.\r\n"
      ]
    },
    {
      "cell_type": "code",
      "execution_count": null,
      "metadata": {
        "collapsed": false
      },
      "outputs": [],
      "source": [
        "aedt_version = \"2024.2\""
      ]
    },
    {
      "cell_type": "markdown",
      "metadata": {},
      "source": [
        "# Set non-graphical mode\r\n\r\nSet non-graphical mode. You can set `non_graphical` either to `True` or\r\n`False`.\r\n"
      ]
    },
    {
      "cell_type": "code",
      "execution_count": null,
      "metadata": {
        "collapsed": false
      },
      "outputs": [],
      "source": [
        "non_graphical = False"
      ]
    },
    {
      "cell_type": "markdown",
      "metadata": {},
      "source": [
        "# Open project\r\n\r\nOpen the project.\r\n"
      ]
    },
    {
      "cell_type": "code",
      "execution_count": null,
      "metadata": {
        "collapsed": false
      },
      "outputs": [],
      "source": [
        "NewThread = True\n\nproject_file = ansys.aedt.core.generate_unique_project_name()"
      ]
    },
    {
      "cell_type": "markdown",
      "metadata": {},
      "source": [
        "# Launch AEDT and initialize HFSS\r\n\r\nLaunch AEDT and initialize HFSS. If there is an active HFSS design, the\r\n`aedtapp` object is linked to it. Otherwise, a new design is created.\r\n"
      ]
    },
    {
      "cell_type": "code",
      "execution_count": null,
      "metadata": {
        "collapsed": false
      },
      "outputs": [],
      "source": [
        "aedtapp = ansys.aedt.core.Hfss(project=project_file,\n                      version=aedt_version,\n                      non_graphical=non_graphical,\n                      new_desktop=NewThread\n                      )"
      ]
    },
    {
      "cell_type": "markdown",
      "metadata": {},
      "source": [
        "# Initialize variable settings\r\n\r\nInitialize variable settings. You can initialize a variable simply by\r\ncreating it as a list object. If you enter the prefix `$`, the variable\r\nis created for the project. Otherwise, the variable is created for the\r\ndesign.\r\n"
      ]
    },
    {
      "cell_type": "code",
      "execution_count": null,
      "metadata": {
        "collapsed": false
      },
      "outputs": [],
      "source": [
        "aedtapp[\"$coax_dimension\"] = \"100mm\"\nudp = aedtapp.modeler.Position(0, 0, 0)\naedtapp[\"inner\"] = \"3mm\""
      ]
    },
    {
      "cell_type": "markdown",
      "metadata": {},
      "source": [
        "# Create coaxial and cylinders\r\n\r\nCreate a coaxial and three cylinders. You can apply parameters directly\r\nusing the\r\n`ansys.aedt.core.modeler.cad.primitives_3d.Primitives3D.create_cylinder`{.interpreted-text\r\nrole=\"func\"} method. You can assign a material directly to the object\r\ncreation action. Optionally, you can assign a material using the\r\n`assign_material`{.interpreted-text role=\"func\"} method.\r\n"
      ]
    },
    {
      "cell_type": "code",
      "execution_count": null,
      "metadata": {
        "collapsed": false
      },
      "outputs": [],
      "source": [
        "# TODO: How does this work when two truesurfaces are defined?\no1 = aedtapp.modeler.create_cylinder(orientation=aedtapp.PLANE.ZX, origin=udp, radius=\"inner\", height=\"$coax_dimension\",\n                                     num_sides=0, name=\"inner\")\no2 = aedtapp.modeler.create_cylinder(orientation=aedtapp.PLANE.ZX, origin=udp, radius=8, height=\"$coax_dimension\",\n                                     num_sides=0, material=\"teflon_based\")\no3 = aedtapp.modeler.create_cylinder(orientation=aedtapp.PLANE.ZX, origin=udp, radius=10, height=\"$coax_dimension\",\n                                     num_sides=0, name=\"outer\")"
      ]
    },
    {
      "cell_type": "markdown",
      "metadata": {},
      "source": [
        "# Assign colors\r\n\r\nAssign colors to each primitive.\r\n"
      ]
    },
    {
      "cell_type": "code",
      "execution_count": null,
      "metadata": {
        "collapsed": false
      },
      "outputs": [],
      "source": [
        "o1.color = (255, 0, 0)\no2.color = (0, 255, 0)\no3.color = (255, 0, 0)\no3.transparency = 0.8\naedtapp.modeler.fit_all()"
      ]
    },
    {
      "cell_type": "markdown",
      "metadata": {},
      "source": [
        "# Assign materials\r\n\r\nAssign materials. You can assign materials either directly when creating\r\nthe primitive, which was done for `id2`, or after the object is created.\r\n"
      ]
    },
    {
      "cell_type": "code",
      "execution_count": null,
      "metadata": {
        "collapsed": false
      },
      "outputs": [],
      "source": [
        "o1.material_name = \"Copper\"\no3.material_name = \"Copper\""
      ]
    },
    {
      "cell_type": "markdown",
      "metadata": {},
      "source": [
        "# Perform modeler operations\r\n\r\nPerform modeler operations. You can subtract, add, and perform other\r\noperations using either the object ID or object name.\r\n"
      ]
    },
    {
      "cell_type": "code",
      "execution_count": null,
      "metadata": {
        "collapsed": false
      },
      "outputs": [],
      "source": [
        "aedtapp.modeler.subtract(o3, o2, True)\naedtapp.modeler.subtract(o2, o1, True)"
      ]
    },
    {
      "cell_type": "markdown",
      "metadata": {},
      "source": [
        "# Perform mesh operations\r\n\r\nPerform mesh operations. Most mesh operations are available. After a\r\nmesh is created, you can access a mesh operation to edit or review\r\nparameter values.\r\n"
      ]
    },
    {
      "cell_type": "code",
      "execution_count": null,
      "metadata": {
        "collapsed": false
      },
      "outputs": [],
      "source": [
        "aedtapp.mesh.assign_initial_mesh_from_slider(level=6)\naedtapp.mesh.assign_model_resolution(assignment=[o1.name, o3.name], defeature_length=None)\naedtapp.mesh.assign_length_mesh(assignment=o2.faces, inside_selection=False, maximum_length=1, maximum_elements=2000)"
      ]
    },
    {
      "cell_type": "markdown",
      "metadata": {},
      "source": [
        "# Create excitations\r\n\r\nCreate excitations. The `create_wave_port_between_objects` method\r\nautomatically identifies the closest faces on a predefined direction and\r\ncreates a sheet to cover the faces. It also assigns a port to this face.\r\nIf `add_pec_cap=True`, the method creates a PEC cap.\r\n"
      ]
    },
    {
      "cell_type": "code",
      "execution_count": null,
      "metadata": {
        "collapsed": false
      },
      "outputs": [],
      "source": [
        "aedtapp.wave_port(assignment=\"inner\", reference=\"outer\", create_port_sheet=True, create_pec_cap=True,\n                  integration_line=1, name=\"P1\")\naedtapp.wave_port(assignment=\"inner\", reference=\"outer\", create_port_sheet=True, create_pec_cap=True,\n                  integration_line=4, name=\"P2\")\n\nport_names = aedtapp.get_all_sources()\naedtapp.modeler.fit_all()"
      ]
    },
    {
      "cell_type": "markdown",
      "metadata": {},
      "source": [
        "# Create setup\r\n\r\nCreate a setup. A setup is created with default values. After its\r\ncreation, you can change values and update the setup. The `update`\r\nmethod returns a Boolean value.\r\n"
      ]
    },
    {
      "cell_type": "code",
      "execution_count": null,
      "metadata": {
        "collapsed": false
      },
      "outputs": [],
      "source": [
        "aedtapp.set_active_design(aedtapp.design_name)\nsetup = aedtapp.create_setup(\"MySetup\")\nsetup.props[\"Frequency\"] = \"1GHz\"\nsetup.props[\"BasisOrder\"] = 2\nsetup.props[\"MaximumPasses\"] = 1"
      ]
    },
    {
      "cell_type": "markdown",
      "metadata": {},
      "source": [
        "# Create sweep\r\n\r\nCreate a sweep. A sweep is created with default values.\r\n"
      ]
    },
    {
      "cell_type": "code",
      "execution_count": null,
      "metadata": {
        "collapsed": false
      },
      "outputs": [],
      "source": [
        "sweepname = aedtapp.create_linear_count_sweep(setup=\"MySetup\", units=\"GHz\", start_frequency=0.8, stop_frequency=1.2,\n                                              num_of_freq_points=401, sweep_type=\"Interpolating\")"
      ]
    },
    {
      "cell_type": "markdown",
      "metadata": {},
      "source": [
        "# Create Icepak model\r\n\r\nCreate an Icepak model. After an HFSS setup is ready, link this model to\r\nan Icepak project and run a coupled physics analysis. The\r\n`FieldAnalysis3D.copy_solid_bodies_from`{.interpreted-text role=\"func\"}\r\nmethod imports a model from HFSS with all material settings.\r\n"
      ]
    },
    {
      "cell_type": "code",
      "execution_count": null,
      "metadata": {
        "collapsed": false
      },
      "outputs": [],
      "source": [
        "ipkapp = ansys.aedt.core.Icepak()\nipkapp.copy_solid_bodies_from(aedtapp)"
      ]
    },
    {
      "cell_type": "markdown",
      "metadata": {},
      "source": [
        "# Link sources to EM losses\r\n\r\nLink sources to the EM losses.\r\n"
      ]
    },
    {
      "cell_type": "code",
      "execution_count": null,
      "metadata": {
        "collapsed": false
      },
      "outputs": [],
      "source": [
        "surfaceobj = [\"inner\", \"outer\"]\nipkapp.assign_em_losses(design=aedtapp.design_name, setup=\"MySetup\", sweep=\"LastAdaptive\", map_frequency=\"1GHz\",\n                        surface_objects=surfaceobj, parameters=[\"$coax_dimension\", \"inner\"])"
      ]
    },
    {
      "cell_type": "markdown",
      "metadata": {},
      "source": [
        "# Edit gravity setting\r\n\r\nEdit the gravity setting if necessary because it is important for a\r\nfluid analysis.\r\n"
      ]
    },
    {
      "cell_type": "code",
      "execution_count": null,
      "metadata": {
        "collapsed": false
      },
      "outputs": [],
      "source": [
        "ipkapp.edit_design_settings(aedtapp.GRAVITY.ZNeg)"
      ]
    },
    {
      "cell_type": "markdown",
      "metadata": {},
      "source": [
        "# Set up Icepak project\r\n\r\nSet up the Icepak project. When you create a setup, default settings are\r\napplied. When you need to change a property of the setup, you can use\r\nthe `props` command to pass the correct value to the property. The\r\n`update` function applies the settings to the setup. The setup creation\r\nprocess is identical for all tools.\r\n"
      ]
    },
    {
      "cell_type": "code",
      "execution_count": null,
      "metadata": {
        "collapsed": false
      },
      "outputs": [],
      "source": [
        "setup_ipk = ipkapp.create_setup(\"SetupIPK\")\nsetup_ipk.props[\"Convergence Criteria - Max Iterations\"] = 3"
      ]
    },
    {
      "cell_type": "markdown",
      "metadata": {},
      "source": [
        "# Edit or review mesh parameters\r\n\r\nEdit or review the mesh parameters. After a mesh is created, you can\r\naccess a mesh operation to edit or review parameter values.\r\n"
      ]
    },
    {
      "cell_type": "code",
      "execution_count": null,
      "metadata": {
        "collapsed": false
      },
      "outputs": [],
      "source": [
        "airbox = ipkapp.modeler.get_obj_id(\"Region\")\nipkapp.modeler[airbox].display_wireframe = True\nairfaces = ipkapp.modeler.get_object_faces(airbox)\nipkapp.assign_openings(airfaces)"
      ]
    },
    {
      "cell_type": "markdown",
      "metadata": {},
      "source": [
        "# Close and open projects\r\n\r\nClose and open the projects to ensure that the HFSS - Icepak coupling\r\nworks correctly in AEDT versions 2019 R3 through 2021 R1. Closing and\r\nopening projects can be helpful when performing operations on multiple\r\nprojects.\r\n"
      ]
    },
    {
      "cell_type": "code",
      "execution_count": null,
      "metadata": {
        "collapsed": false
      },
      "outputs": [],
      "source": [
        "aedtapp.save_project()\naedtapp.close_project(aedtapp.project_name)\naedtapp = ansys.aedt.core.Hfss(project_file)\nipkapp = ansys.aedt.core.Icepak()\nipkapp.solution_type = ipkapp.SOLUTIONS.Icepak.SteadyTemperatureAndFlow\nipkapp.modeler.fit_all()"
      ]
    },
    {
      "cell_type": "markdown",
      "metadata": {},
      "source": [
        "# Solve Icepak project\r\n\r\nSolve the Icepak project and the HFSS sweep.\r\n"
      ]
    },
    {
      "cell_type": "code",
      "execution_count": null,
      "metadata": {
        "collapsed": false
      },
      "outputs": [],
      "source": [
        "setup1 = ipkapp.analyze_setup(\"SetupIPK\")\naedtapp.save_project()\naedtapp.modeler.fit_all()\naedtapp.analyze_setup(\"MySetup\")"
      ]
    },
    {
      "cell_type": "markdown",
      "metadata": {},
      "source": [
        "# Generate field plots and export\r\n\r\nGenerate field plots on the HFSS project and export them as images.\r\n"
      ]
    },
    {
      "cell_type": "code",
      "execution_count": null,
      "metadata": {
        "collapsed": false
      },
      "outputs": [],
      "source": [
        "cutlist = [ansys.aedt.core.constants.GLOBALCS.XY, ansys.aedt.core.constants.GLOBALCS.ZX, ansys.aedt.core.constants.GLOBALCS.YZ]\nvollist = [o2.name]\nsetup_name = \"MySetup : LastAdaptive\"\nquantity_name = \"ComplexMag_E\"\nquantity_name2 = \"ComplexMag_H\"\nintrinsic = {\"Freq\": \"1GHz\", \"Phase\": \"0deg\"}\nsurflist = aedtapp.modeler.get_object_faces(\"outer\")\nplot1 = aedtapp.post.create_fieldplot_surface(surflist, quantity_name2, setup_name, intrinsic)\n\nresults_folder = os.path.join(aedtapp.working_directory, \"Coaxial_Results_NG\")\nif not os.path.exists(results_folder):\n    os.mkdir(results_folder)\n\naedtapp.post.plot_field_from_fieldplot(plot1.name, project_path=results_folder, mesh_plot=False, image_format=\"jpg\",\n                                       view=\"isometric\", show=False, plot_cad_objs=False, log_scale=False)"
      ]
    },
    {
      "cell_type": "markdown",
      "metadata": {},
      "source": [
        "# Generate animation from field plots\r\n\r\nGenerate an animation from field plots using PyVista.\r\n"
      ]
    },
    {
      "cell_type": "code",
      "execution_count": null,
      "metadata": {
        "collapsed": false
      },
      "outputs": [],
      "source": [
        "import time\n\nstart = time.time()\ncutlist = [\"Global:XY\"]\nphases = [str(i * 5) + \"deg\" for i in range(18)]\n\nanimated = aedtapp.post.plot_animated_field(quantity=\"Mag_E\", assignment=cutlist, plot_type=\"CutPlane\",\n                                            setup=aedtapp.nominal_adaptive,\n                                            intrinsics={\"Freq\": \"1GHz\", \"Phase\": \"0deg\"}, variation_variable=\"Phase\",\n                                            variations=phases, show=False, log_scale=True, export_gif=False,\n                                            export_path=results_folder)\nanimated.gif_file = os.path.join(aedtapp.working_directory, \"animate.gif\")\n# animated.camera_position = [0, 0, 300]\n# animated.focal_point = [0, 0, 0]\n# Set off_screen to False to visualize the animation.\n# animated.off_screen = False\nanimated.animate()\n\nendtime = time.time() - start\nprint(\"Total Time\", endtime)"
      ]
    },
    {
      "cell_type": "markdown",
      "metadata": {},
      "source": [
        "# Create Icepak plots and export\r\n\r\nCreate Icepak plots and export them as images using the same functions\r\nthat were used early. Only the quantity is different.\r\n"
      ]
    },
    {
      "cell_type": "code",
      "execution_count": null,
      "metadata": {
        "collapsed": false
      },
      "outputs": [],
      "source": [
        "quantity_name = \"Temperature\"\nsetup_name = ipkapp.existing_analysis_sweeps[0]\nintrinsic = \"\"\nsurflist = ipkapp.modeler.get_object_faces(\"inner\") + ipkapp.modeler.get_object_faces(\"outer\")\nplot5 = ipkapp.post.create_fieldplot_surface(surflist, \"SurfTemperature\")\n\naedtapp.save_project()"
      ]
    },
    {
      "cell_type": "markdown",
      "metadata": {},
      "source": [
        "# Generate plots outside of AEDT\r\n\r\nGenerate plots outside of AEDT using Matplotlib and NumPy.\r\n"
      ]
    },
    {
      "cell_type": "code",
      "execution_count": null,
      "metadata": {
        "collapsed": false
      },
      "outputs": [],
      "source": [
        "trace_names = aedtapp.get_traces_for_plot(category=\"S\")\ncxt = [\"Domain:=\", \"Sweep\"]\nfamilies = [\"Freq:=\", [\"All\"]]\nmy_data = aedtapp.post.get_solution_data(expressions=trace_names)\nmy_data.plot(trace_names, \"db20\", x_label=\"Frequency (Ghz)\", y_label=\"SParameters(dB)\", title=\"Scattering Chart\",\n             snapshot_path=os.path.join(results_folder, \"Touchstone_from_matplotlib.jpg\"))"
      ]
    },
    {
      "cell_type": "markdown",
      "metadata": {},
      "source": [
        "# Generate pdf report\r\n\r\nGenerate a pdf report with output of simultion.\r\n"
      ]
    },
    {
      "cell_type": "code",
      "execution_count": null,
      "metadata": {
        "collapsed": false
      },
      "outputs": [],
      "source": [
        "report = AnsysReport(version=aedt_version, design_name=aedtapp.design_name, project_name=aedtapp.project_name)\nreport.create()\nreport.add_section()\nreport.add_chapter(\"Hfss Results\")\nreport.add_sub_chapter(\"Field Plot\")\nreport.add_text(\"This section contains Field plots of Hfss Coaxial.\")\nreport.add_image(os.path.join(results_folder, plot1.name + \".jpg\"), \"Coaxial Cable\")\nreport.add_page_break()\nreport.add_sub_chapter(\"S Parameters\")\nreport.add_chart(my_data.intrinsics[\"Freq\"], my_data.data_db20(), \"Freq\", trace_names[0], \"S-Parameters\")\nreport.add_image(os.path.join(results_folder, \"Touchstone_from_matplotlib.jpg\"), \"Touchstone from Matplotlib\")\nreport.add_section()\nreport.add_chapter(\"Icepak Results\")\nreport.add_sub_chapter(\"Temperature Plot\")\nreport.add_text(\"This section contains Multiphysics temperature plot.\")\nreport.add_toc()\n# report.add_image(os.path.join(results_folder, plot5.name+\".jpg\"), \"Coaxial Cable Temperatures\")\nreport.save_pdf(results_folder, \"AEDT_Results.pdf\")"
      ]
    },
    {
      "cell_type": "markdown",
      "metadata": {},
      "source": [
        "# Close project and release AEDT\r\n\r\nClose the project and release AEDT.\r\n"
      ]
    },
    {
      "cell_type": "code",
      "execution_count": null,
      "metadata": {
        "collapsed": false
      },
      "outputs": [],
      "source": [
        "aedtapp.release_desktop()"
      ]
    }
  ],
  "metadata": {
    "kernelspec": {
      "display_name": "Python 3",
      "language": "python",
      "name": "python3"
    },
    "language_info": {
      "codemirror_mode": {
        "name": "ipython",
        "version": 3
      },
      "file_extension": ".py",
      "mimetype": "text/x-python",
      "name": "python",
      "nbconvert_exporter": "python",
      "pygments_lexer": "ipython3",
      "version": "3.10.9"
    }
  },
  "nbformat": 4,
  "nbformat_minor": 0
}