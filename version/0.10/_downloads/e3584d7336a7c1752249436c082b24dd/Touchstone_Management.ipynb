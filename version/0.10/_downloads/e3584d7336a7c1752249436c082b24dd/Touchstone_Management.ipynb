{
  "cells": [
    {
      "cell_type": "markdown",
      "metadata": {},
      "source": [
        "# Circuit: Touchstone file management\r\n\r\nThis example shows how you can use objects in a Touchstone file without\r\nopening AEDT.\r\n\r\nTo provide the advanced postprocessing features needed for this example,\r\nMatplotlib and NumPy must be installed on your machine.\r\n\r\nThis example runs only on Windows using CPython.\r\n"
      ]
    },
    {
      "cell_type": "markdown",
      "metadata": {},
      "source": [
        "# Perform required imports\r\n\r\nPerform required imports and set the local path to the path for PyAEDT.\r\n"
      ]
    },
    {
      "cell_type": "code",
      "execution_count": null,
      "metadata": {
        "collapsed": false
      },
      "outputs": [],
      "source": [
        "from ansys.aedt.core import downloads\n\nexample_path = downloads.download_touchstone()"
      ]
    },
    {
      "cell_type": "markdown",
      "metadata": {},
      "source": [
        "# Import libraries and Touchstone file\r\n\r\nImport Matplotlib, NumPy, and the Touchstone file.\r\n"
      ]
    },
    {
      "cell_type": "code",
      "execution_count": null,
      "metadata": {
        "collapsed": false
      },
      "outputs": [],
      "source": [
        "from ansys.aedt.core.generic.touchstone_parser import read_touchstone"
      ]
    },
    {
      "cell_type": "markdown",
      "metadata": {},
      "source": [
        "# Read Touchstone file\r\n\r\nRead the Touchstone file.\r\n"
      ]
    },
    {
      "cell_type": "code",
      "execution_count": null,
      "metadata": {
        "collapsed": false
      },
      "outputs": [],
      "source": [
        "data = read_touchstone(example_path)"
      ]
    },
    {
      "cell_type": "markdown",
      "metadata": {},
      "source": [
        "# Get curve plot\r\n\r\nGet the curve plot by category. The following code shows how to plot\r\nlists of the return losses, insertion losses, fext, and next based on a\r\nfew inputs and port names.\r\n"
      ]
    },
    {
      "cell_type": "code",
      "execution_count": null,
      "metadata": {
        "collapsed": false
      },
      "outputs": [],
      "source": [
        "data.plot_return_losses()\n\ndata.plot_insertion_losses()\n\ndata.plot_next_xtalk_losses(\"U1\")\n\ndata.plot_fext_xtalk_losses(tx_prefix=\"U1\", rx_prefix=\"U7\")"
      ]
    },
    {
      "cell_type": "markdown",
      "metadata": {},
      "source": [
        "# Get curve worst cases\r\n\r\nGet curve worst cases.\r\n"
      ]
    },
    {
      "cell_type": "code",
      "execution_count": null,
      "metadata": {
        "collapsed": false
      },
      "outputs": [],
      "source": [
        "worst_rl, global_mean = data.get_worst_curve(\n    freq_min=1, freq_max=20, worst_is_higher=True, curve_list=data.get_return_loss_index()\n)\nworst_il, mean2 = data.get_worst_curve(freq_min=1,\n                                       freq_max=20,\n                                       worst_is_higher=False,\n                                       curve_list=data.get_insertion_loss_index()\n                                       )\nworst_fext, mean3 = data.get_worst_curve(freq_min=1,\n                                         freq_max=20,\n                                         worst_is_higher=True,\n                                         curve_list=data.get_fext_xtalk_index_from_prefix(tx_prefix=\"U1\",\n                                                                                          rx_prefix=\"U7\")\n                                         )\nworst_next, mean4 = data.get_worst_curve(\n    freq_min=1, freq_max=20, worst_is_higher=True, curve_list=data.get_next_xtalk_index(\"U1\")\n)"
      ]
    }
  ],
  "metadata": {
    "kernelspec": {
      "display_name": "Python 3",
      "language": "python",
      "name": "python3"
    },
    "language_info": {
      "codemirror_mode": {
        "name": "ipython",
        "version": 3
      },
      "file_extension": ".py",
      "mimetype": "text/x-python",
      "name": "python",
      "nbconvert_exporter": "python",
      "pygments_lexer": "ipython3",
      "version": "3.10.9"
    }
  },
  "nbformat": 4,
  "nbformat_minor": 0
}