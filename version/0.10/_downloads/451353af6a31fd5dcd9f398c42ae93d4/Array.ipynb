{
  "cells": [
    {
      "cell_type": "markdown",
      "metadata": {},
      "source": [
        "# HFSS: component antenna array\r\n\r\nThis example shows how you can use PyAEDT to create an example using a\r\n3D component file. It sets up the analysis, solves it, and uses\r\npostprocessing functions to create plots using Matplotlib and PyVista\r\nwithout opening the HFSS user interface. This examples runs only on\r\nWindows using CPython.\r\n"
      ]
    },
    {
      "cell_type": "markdown",
      "metadata": {},
      "source": [
        "# Perform required imports\r\n\r\nPerform required imports.\r\n"
      ]
    },
    {
      "cell_type": "code",
      "execution_count": null,
      "metadata": {
        "collapsed": false
      },
      "outputs": [],
      "source": [
        "import os\nimport ansys.aedt.core\nfrom ansys.aedt.core.generic.farfield_visualization import FfdSolutionData"
      ]
    },
    {
      "cell_type": "markdown",
      "metadata": {},
      "source": [
        "# Set AEDT version\r\n\r\nSet AEDT version.\r\n"
      ]
    },
    {
      "cell_type": "code",
      "execution_count": null,
      "metadata": {
        "collapsed": false
      },
      "outputs": [],
      "source": [
        "aedt_version = \"2024.2\""
      ]
    },
    {
      "cell_type": "markdown",
      "metadata": {},
      "source": [
        "# Set non-graphical mode\r\n\r\nSet non-graphical mode. You can set `non_graphical` either to `True` or\r\n`False`.\r\n"
      ]
    },
    {
      "cell_type": "code",
      "execution_count": null,
      "metadata": {
        "collapsed": false
      },
      "outputs": [],
      "source": [
        "non_graphical = False"
      ]
    },
    {
      "cell_type": "markdown",
      "metadata": {},
      "source": [
        "# Download 3D component\r\n\r\nDownload the 3D component that is needed to run the example.\r\n"
      ]
    },
    {
      "cell_type": "code",
      "execution_count": null,
      "metadata": {
        "collapsed": false
      },
      "outputs": [],
      "source": [
        "example_path = ansys.aedt.core.downloads.download_3dcomponent()"
      ]
    },
    {
      "cell_type": "markdown",
      "metadata": {},
      "source": [
        "# Launch HFSS and save project\r\n\r\nLaunch HFSS and save the project.\r\n"
      ]
    },
    {
      "cell_type": "code",
      "execution_count": null,
      "metadata": {
        "collapsed": false
      },
      "outputs": [],
      "source": [
        "project_name = ansys.aedt.core.generate_unique_project_name(project_name=\"array\")\nhfss = ansys.aedt.core.Hfss(project=project_name,\n                   version=aedt_version,\n                   design=\"Array_Simple\",\n                   non_graphical=non_graphical,\n                   new_desktop=True)\n\nprint(\"Project name \" + project_name)"
      ]
    },
    {
      "cell_type": "markdown",
      "metadata": {},
      "source": [
        "# Read array definition from JSON file\r\n\r\nRead the array definition from a JSON file. A JSON file can contain all\r\ninformation needed to import and set up a full array in HFSS.\r\n\r\nIf a 3D component is not available in the design, it is loaded into the\r\ndictionary from the path that you specify. The following code edits the\r\ndictionary to point to the location of the A3DCOMP file.\r\n"
      ]
    },
    {
      "cell_type": "code",
      "execution_count": null,
      "metadata": {
        "collapsed": false
      },
      "outputs": [],
      "source": [
        "dict_in = ansys.aedt.core.general_methods.read_json(os.path.join(example_path, \"array_simple.json\"))\ndict_in[\"Circ_Patch_5GHz1\"] = os.path.join(example_path, \"Circ_Patch_5GHz.a3dcomp\")\ndict_in[\"cells\"][(3, 3)] = {\"name\": \"Circ_Patch_5GHz1\"}\narray = hfss.add_3d_component_array_from_json(dict_in)"
      ]
    },
    {
      "cell_type": "markdown",
      "metadata": {},
      "source": [
        "# Modify cells\r\n\r\nRotate corner elements.\r\n"
      ]
    },
    {
      "cell_type": "code",
      "execution_count": null,
      "metadata": {
        "collapsed": false
      },
      "outputs": [],
      "source": [
        "array.cells[0][0].rotation = 90\narray.cells[0][2].rotation = 90\narray.cells[2][0].rotation = 90\narray.cells[2][2].rotation = 90"
      ]
    },
    {
      "cell_type": "markdown",
      "metadata": {},
      "source": [
        "# Set up simulation\r\n\r\nSet up a simulation and analyze it.\r\n"
      ]
    },
    {
      "cell_type": "code",
      "execution_count": null,
      "metadata": {
        "collapsed": false
      },
      "outputs": [],
      "source": [
        "setup = hfss.create_setup()\nsetup.props[\"Frequency\"] = \"5GHz\"\nsetup.props[\"MaximumPasses\"] = 3\n\nhfss.analyze(cores=4)\nhfss.save_project()"
      ]
    },
    {
      "cell_type": "markdown",
      "metadata": {},
      "source": [
        "# Get far field data\r\n\r\nGet far field data. After the simulation completes, the far field data\r\nis generated port by port and stored in a data class.\r\n"
      ]
    },
    {
      "cell_type": "code",
      "execution_count": null,
      "metadata": {
        "collapsed": false
      },
      "outputs": [],
      "source": [
        "ffdata = hfss.get_antenna_data(setup=hfss.nominal_adaptive, sphere=\"Infinite Sphere1\")"
      ]
    },
    {
      "cell_type": "markdown",
      "metadata": {},
      "source": [
        "# Generate contour plot\r\n\r\nGenerate a contour plot. You can define the Theta scan and Phi scan.\r\n"
      ]
    },
    {
      "cell_type": "code",
      "execution_count": null,
      "metadata": {
        "collapsed": false
      },
      "outputs": [],
      "source": [
        "ffdata.farfield_data.plot_contour(quantity='RealizedGain',\n                                  title='Contour at {}Hz'.format(ffdata.farfield_data.frequency))"
      ]
    },
    {
      "cell_type": "markdown",
      "metadata": {},
      "source": [
        "# Release AEDT\r\n\r\nRelease AEDT. Far field post-processing can be performed without AEDT\r\nbecause the data is stored.\r\n"
      ]
    },
    {
      "cell_type": "code",
      "execution_count": null,
      "metadata": {
        "collapsed": false
      },
      "outputs": [],
      "source": [
        "eep_file = ffdata.metadata_file\nworking_directory = hfss.working_directory\n\nhfss.release_desktop()"
      ]
    },
    {
      "cell_type": "markdown",
      "metadata": {},
      "source": [
        "# Load far field data\r\n\r\nLoad far field data stored.\r\n"
      ]
    },
    {
      "cell_type": "code",
      "execution_count": null,
      "metadata": {
        "collapsed": false
      },
      "outputs": [],
      "source": [
        "ffdata = FfdSolutionData(input_file=eep_file)"
      ]
    },
    {
      "cell_type": "markdown",
      "metadata": {},
      "source": [
        "# Generate contour plot\r\n\r\nGenerate a contour plot. You can define the Theta scan and Phi scan.\r\n"
      ]
    },
    {
      "cell_type": "code",
      "execution_count": null,
      "metadata": {
        "collapsed": false
      },
      "outputs": [],
      "source": [
        "ffdata.plot_contour(quantity='RealizedGain', title='Contour at {}Hz'.format(ffdata.frequency))"
      ]
    },
    {
      "cell_type": "markdown",
      "metadata": {},
      "source": [
        "# Generate 2D cutout plots\r\n\r\nGenerate 2D cutout plots. You can define the Theta scan and Phi scan.\r\n"
      ]
    },
    {
      "cell_type": "code",
      "execution_count": null,
      "metadata": {
        "collapsed": false
      },
      "outputs": [],
      "source": [
        "ffdata.plot_cut(quantity='RealizedGain', primary_sweep='theta', secondary_sweep_value=[-180, -75, 75],\n                title='Azimuth at {}Hz'.format(ffdata.frequency), quantity_format=\"dB10\")\n\nffdata.plot_cut(quantity='RealizedGain', primary_sweep=\"phi\", secondary_sweep_value=30, title='Elevation',\n                quantity_format=\"dB10\")"
      ]
    },
    {
      "cell_type": "markdown",
      "metadata": {},
      "source": [
        "# Generate 3D plots\r\n\r\nGenerate 3D plots. You can define the Theta scan and Phi scan.\r\n"
      ]
    },
    {
      "cell_type": "code",
      "execution_count": null,
      "metadata": {
        "collapsed": false
      },
      "outputs": [],
      "source": [
        "# ffdata.plot_3d(quantity='RealizedGain',\n#                output_file=os.path.join(working_directory, \"Image.jpg\"),\n#                show=False)"
      ]
    }
  ],
  "metadata": {
    "kernelspec": {
      "display_name": "Python 3",
      "language": "python",
      "name": "python3"
    },
    "language_info": {
      "codemirror_mode": {
        "name": "ipython",
        "version": 3
      },
      "file_extension": ".py",
      "mimetype": "text/x-python",
      "name": "python",
      "nbconvert_exporter": "python",
      "pygments_lexer": "ipython3",
      "version": "3.10.9"
    }
  },
  "nbformat": 4,
  "nbformat_minor": 0
}