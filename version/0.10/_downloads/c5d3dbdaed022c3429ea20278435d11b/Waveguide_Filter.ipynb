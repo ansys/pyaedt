{
  "cells": [
    {
      "cell_type": "markdown",
      "metadata": {},
      "source": [
        "# HFSS: Inductive Iris waveguide filter\r\n\r\nThis example shows how to build and analyze a 4-pole X-Band waveguide\r\nfilter using inductive irises.\r\n"
      ]
    },
    {
      "cell_type": "code",
      "execution_count": null,
      "metadata": {
        "collapsed": false
      },
      "outputs": [],
      "source": [
        "# sphinx_gallery_thumbnail_path = 'Resources/wgf.png'"
      ]
    },
    {
      "cell_type": "markdown",
      "metadata": {},
      "source": [
        "# Perform required imports\r\n\r\nPerform required imports.\r\n"
      ]
    },
    {
      "cell_type": "code",
      "execution_count": null,
      "metadata": {
        "collapsed": false
      },
      "outputs": [],
      "source": [
        "import os\nimport tempfile\nimport ansys.aedt.core\nfrom ansys.aedt.core import general_methods"
      ]
    },
    {
      "cell_type": "markdown",
      "metadata": {},
      "source": [
        "# Set AEDT version\r\n\r\nSet AEDT version.\r\n"
      ]
    },
    {
      "cell_type": "code",
      "execution_count": null,
      "metadata": {
        "collapsed": false
      },
      "outputs": [],
      "source": [
        "aedt_version = \"2024.2\""
      ]
    },
    {
      "cell_type": "markdown",
      "metadata": {},
      "source": [
        "# Launch Ansys Electronics Desktop (AEDT)\r\n"
      ]
    },
    {
      "cell_type": "markdown",
      "metadata": {},
      "source": [
        "# Define parameters and values for waveguide iris filter\r\n\r\nl: Length of the cavity from the mid-point of one iris\r\n\r\n:   to the midpoint of the next iris.\r\n\r\nw: Width of the iris opening. a: Long dimension of the waveguide\r\ncross-section (X-Band) b: Short dimension of the waveguide\r\ncross-section. t: Metal thickness of the iris insert.\r\n"
      ]
    },
    {
      "cell_type": "code",
      "execution_count": null,
      "metadata": {
        "collapsed": false
      },
      "outputs": [],
      "source": [
        "wgparams = {'l': [0.7428, 0.82188],\n            'w': [0.50013, 0.3642, 0.3458],\n            'a': 0.4,\n            'b': 0.9,\n            't': 0.15,\n            'units': 'in'}\n\nnon_graphical = False\nnew_thread = True"
      ]
    },
    {
      "cell_type": "markdown",
      "metadata": {},
      "source": [
        "# Save the project and results in the TEMP folder\r\n"
      ]
    },
    {
      "cell_type": "code",
      "execution_count": null,
      "metadata": {
        "collapsed": false
      },
      "outputs": [],
      "source": [
        "project_folder = os.path.join(tempfile.gettempdir(), \"waveguide_example\")\nif not os.path.exists(project_folder):\n    os.mkdir(project_folder)\nproject_name = os.path.join(project_folder, general_methods.generate_unique_name(\"wgf\", n=2))\n\n# Instantiate the HFSS application\nhfss = ansys.aedt.core.Hfss(project=project_name + '.aedt',\n                   version=aedt_version,\n                   design=\"filter\",\n                   non_graphical=non_graphical,\n                   new_desktop=True,\n                   close_on_exit=True,\n                   solution_type=\"Modal\")\n\n# hfss.settings.enable_debug_methods_argument_logger = False  # Only for debugging.\n\nvar_mapping = dict()  # Used by parse_expr to parse expressions."
      ]
    },
    {
      "cell_type": "markdown",
      "metadata": {},
      "source": [
        "# Initialize design parameters in HFSS.\r\n"
      ]
    },
    {
      "cell_type": "code",
      "execution_count": null,
      "metadata": {
        "collapsed": false
      },
      "outputs": [],
      "source": [
        "hfss.modeler.model_units = \"in\"  # Set to inches\nfor key in wgparams:\n    if type(wgparams[key]) in [int, float]:\n        hfss[key] = str(wgparams[key]) + wgparams['units']\n        var_mapping[key] = wgparams[key]  # Used for expression parsing\n    elif type(wgparams[key]) == list:\n        count = 1\n        for v in wgparams[key]:\n            this_key = key + str(count)\n            hfss[this_key] = str(v) + wgparams['units']\n            var_mapping[this_key] = v  # Used to parse expressions and generate numerical values.\n            count += 1\n\nif len(wgparams['l']) % 2 == 0:\n    zstart = \"-t/2\"  # Even number of cavities, odd number of irises.\n    is_even = True\nelse:\n    zstart = \"l1/2 - t/2\"  # Odd number of cavities, even number of irises.\n    is_even = False"
      ]
    },
    {
      "cell_type": "markdown",
      "metadata": {},
      "source": [
        "# Draw parametric waveguide filter\r\n\r\nDefine a function to place each iris at the correct longitudinal (z)\r\nposition, Loop from the largest index (interior of the filter) to 1,\r\nwhich is the first iris nearest the waveguide ports.\r\n"
      ]
    },
    {
      "cell_type": "code",
      "execution_count": null,
      "metadata": {
        "collapsed": false
      },
      "outputs": [],
      "source": [
        "def place_iris(zpos, dz, n):\n    w_str = \"w\" + str(n)  # Iris width parameter as a string.\n    this_name = \"iris_a_\" + str(n)  # Iris object name in the HFSS project.\n    iris = []  # Return a list of the two objects that make up the iris.\n    if this_name in hfss.modeler.object_names:\n        this_name = this_name.replace(\"a\", \"c\")\n    iris.append(hfss.modeler.create_box(origin=['-b/2', '-a/2', zpos],\n                                        sizes=['(b - ' + w_str + ')/2', 'a', dz],\n                                        name=this_name,\n                                        material=\"silver\"))\n    iris.append(iris[0].mirror([0, 0, 0], [1, 0, 0], duplicate=True))\n    return iris"
      ]
    },
    {
      "cell_type": "markdown",
      "metadata": {},
      "source": [
        "# Place irises\r\n\r\nPlace the irises from inner (highest integer) to outer.\r\n"
      ]
    },
    {
      "cell_type": "code",
      "execution_count": null,
      "metadata": {
        "collapsed": false
      },
      "outputs": [],
      "source": [
        "for count in reversed(range(1, len(wgparams['w']) + 1)):\n    if count < len(wgparams['w']):  # Update zpos\n        zpos = zpos + \"\".join([\" + l\" + str(count) + \" + \"])[:-3]\n        iris = place_iris(zpos, \"t\", count)\n        iris = place_iris(\"-(\" + zpos + \")\", \"-t\", count)\n\n    else:  # Place first iris\n        zpos = zstart\n        iris = place_iris(zpos, \"t\", count)\n        if not is_even:\n            iris = place_iris(\"-(\" + zpos + \")\", \"-t\", count)"
      ]
    },
    {
      "cell_type": "markdown",
      "metadata": {},
      "source": [
        "# Draw full waveguide with ports\r\n\r\nUse `hfss.variable_manager` which acts like a dict() to return an\r\ninstance of the `ansys.aedt.core.application.variables.VariableManager`\r\nclass for any variable. The `VariableManager` instance takes the HFSS\r\nvariable name as a key. `VariableManager` properties enable access to\r\nupdate, modify and evaluate variables.\r\n"
      ]
    },
    {
      "cell_type": "code",
      "execution_count": null,
      "metadata": {
        "collapsed": false
      },
      "outputs": [],
      "source": [
        "var_mapping['port_extension'] = 1.5 * wgparams['l'][0]\nhfss['port_extension'] = str(var_mapping['port_extension']) + wgparams['units']\nhfss[\"wg_z_start\"] = \"-(\" + zpos + \") - port_extension\"\nhfss[\"wg_length\"] = \"2*(\" + zpos + \" + port_extension )\"\nwg_z_start = hfss.variable_manager[\"wg_z_start\"]\nwg_length = hfss.variable_manager[\"wg_length\"]\nhfss[\"u_start\"] = \"-a/2\"\nhfss[\"u_end\"] = \"a/2\"\nhfss.modeler.create_box(origin=[\"-b/2\", \"-a/2\", \"wg_z_start\"],\n                        sizes=[\"b\", \"a\", \"wg_length\"],\n                        name=\"waveguide\",\n                        material=\"vacuum\")"
      ]
    },
    {
      "cell_type": "markdown",
      "metadata": {},
      "source": [
        "# Draw the whole waveguide.\r\n\r\nwg_z is the total length of the waveguide, including port extension.\r\nNote that the `.evaluated_value` provides access to the numerical value\r\nof `wg_z_start` which is an expression in HFSS.\r\n"
      ]
    },
    {
      "cell_type": "code",
      "execution_count": null,
      "metadata": {
        "collapsed": false
      },
      "outputs": [],
      "source": [
        "wg_z = [wg_z_start.evaluated_value, hfss.value_with_units(wg_z_start.numeric_value + wg_length.numeric_value, \"in\")]"
      ]
    },
    {
      "cell_type": "markdown",
      "metadata": {},
      "source": [
        "Assign wave ports to the end faces of the waveguid and define the\r\ncalibration lines to ensure self-consistent polarization between wave\r\nports. \\~\\~\\~\\~\\~\\~\\~\\~\\~\\~\\~\\~\\~\\~\\~\\~\\~\\~\\~\\~\\~\\~\\~\\~\\~\\~\\~\\~\\~\\~\r\n"
      ]
    },
    {
      "cell_type": "code",
      "execution_count": null,
      "metadata": {
        "collapsed": false
      },
      "outputs": [],
      "source": [
        "count = 0\nports = []\nfor n, z in enumerate(wg_z):\n    face_id = hfss.modeler.get_faceid_from_position(position=[0, 0, z], assignment=\"waveguide\")\n    u_start = [0, hfss.variable_manager[\"u_start\"].evaluated_value, z]\n    u_end = [0, hfss.variable_manager[\"u_end\"].evaluated_value, z]\n\n    ports.append(hfss.wave_port(face_id, integration_line=[u_start, u_end], name=\"P\" + str(n + 1), renormalize=False))"
      ]
    },
    {
      "cell_type": "markdown",
      "metadata": {},
      "source": [
        "# Insert the mesh adaptation setup using refinement at two frequencies.\r\n\r\nThis approach is useful for resonant structures as the coarse initial\r\nmesh impacts the resonant frequency and hence, the field propagation\r\nthrough the filter. Adaptation at multiple frequencies helps to ensure\r\nthat energy propagates through the resonant structure while the mesh is\r\nrefined.\r\n"
      ]
    },
    {
      "cell_type": "code",
      "execution_count": null,
      "metadata": {
        "collapsed": false
      },
      "outputs": [],
      "source": [
        "setup = hfss.create_setup(\"Setup1\", setuptype=\"HFSSDriven\",\n                          MultipleAdaptiveFreqsSetup=['9.8GHz', '10.2GHz'],\n                          MaximumPasses=5)\n\nsetup.create_frequency_sweep(\n    unit=\"GHz\",\n    name=\"Sweep1\",\n    start_frequency=9.5,\n    stop_frequency=10.5,\n    sweep_type=\"Interpolating\",\n)"
      ]
    },
    {
      "cell_type": "markdown",
      "metadata": {},
      "source": [
        "Solve the project with two tasks. Each frequency point is solved\r\nsimultaneously.\r\n"
      ]
    },
    {
      "cell_type": "code",
      "execution_count": null,
      "metadata": {
        "collapsed": false
      },
      "outputs": [],
      "source": [
        "setup.analyze(tasks=2)"
      ]
    },
    {
      "cell_type": "markdown",
      "metadata": {},
      "source": [
        "# Generate S-parameter plots\r\n\r\n> The following commands fetch solution data from HFSS for plotting\r\n> directly from the Python interpreter. Caution: The syntax for\r\n> expressions must be identical to that used in HFSS.\r\n"
      ]
    },
    {
      "cell_type": "code",
      "execution_count": null,
      "metadata": {
        "collapsed": false
      },
      "outputs": [],
      "source": [
        "traces_to_plot = hfss.get_traces_for_plot(second_element_filter=\"P1*\")\nreport = hfss.post.create_report(traces_to_plot)  # Creates a report in HFSS\nsolution = report.get_solution_data()\n\nplt = solution.plot(solution.expressions)  # Matplotlib axes object."
      ]
    },
    {
      "cell_type": "markdown",
      "metadata": {},
      "source": [
        "# Generate E field plot\r\n\r\n> The following command generates a field plot in HFSS and uses PyVista\r\n> to plot the field in Jupyter.\r\n"
      ]
    },
    {
      "cell_type": "code",
      "execution_count": null,
      "metadata": {
        "collapsed": false
      },
      "outputs": [],
      "source": [
        "plot = hfss.post.plot_field(quantity=\"Mag_E\", assignment=[\"Global:XZ\"], plot_type=\"CutPlane\",\n                            setup=hfss.nominal_adaptive, intrinsics={\"Freq\": \"9.8GHz\", \"Phase\": \"0deg\"}, show=False,\n                            export_path=hfss.working_directory)"
      ]
    },
    {
      "cell_type": "markdown",
      "metadata": {},
      "source": [
        "# Save and close the desktop\r\n\r\n> The following command saves the project to a file and closes the\r\n> desktop.\r\n"
      ]
    },
    {
      "cell_type": "code",
      "execution_count": null,
      "metadata": {
        "collapsed": false
      },
      "outputs": [],
      "source": [
        "hfss.save_project()\nhfss.release_desktop()"
      ]
    }
  ],
  "metadata": {
    "kernelspec": {
      "display_name": "Python 3",
      "language": "python",
      "name": "python3"
    },
    "language_info": {
      "codemirror_mode": {
        "name": "ipython",
        "version": 3
      },
      "file_extension": ".py",
      "mimetype": "text/x-python",
      "name": "python",
      "nbconvert_exporter": "python",
      "pygments_lexer": "ipython3",
      "version": "3.10.9"
    }
  },
  "nbformat": 4,
  "nbformat_minor": 0
}