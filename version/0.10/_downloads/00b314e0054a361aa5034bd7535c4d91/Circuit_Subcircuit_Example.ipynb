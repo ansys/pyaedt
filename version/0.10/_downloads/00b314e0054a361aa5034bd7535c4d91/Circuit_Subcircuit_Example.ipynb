{
  "cells": [
    {
      "cell_type": "markdown",
      "metadata": {},
      "source": [
        "# Circuit: schematic subcircuit management\r\n\r\nThis example shows how you can use PyAEDT to add a subcircuit to a\r\ncircuit design. It pushes down the child subcircuit and pops up to the\r\nparent design.\r\n"
      ]
    },
    {
      "cell_type": "markdown",
      "metadata": {},
      "source": [
        "# Perform required import\r\n\r\nPerform the required import.\r\n"
      ]
    },
    {
      "cell_type": "code",
      "execution_count": null,
      "metadata": {
        "collapsed": false
      },
      "outputs": [],
      "source": [
        "import os\nimport ansys.aedt.core"
      ]
    },
    {
      "cell_type": "markdown",
      "metadata": {},
      "source": [
        "# Set AEDT version\r\n\r\nSet AEDT version.\r\n"
      ]
    },
    {
      "cell_type": "code",
      "execution_count": null,
      "metadata": {
        "collapsed": false
      },
      "outputs": [],
      "source": [
        "aedt_version = \"2024.2\""
      ]
    },
    {
      "cell_type": "markdown",
      "metadata": {},
      "source": [
        "# Set non-graphical mode\r\n\r\nSet non-graphical mode. You can set `non_graphical` either to `True` or\r\n`False`.\r\n"
      ]
    },
    {
      "cell_type": "code",
      "execution_count": null,
      "metadata": {
        "collapsed": false
      },
      "outputs": [],
      "source": [
        "non_graphical = False"
      ]
    },
    {
      "cell_type": "markdown",
      "metadata": {},
      "source": [
        "# Launch AEDT with Circuit\r\n\r\nLaunch AEDT 2023 R2 in graphical mode with Circuit.\r\n"
      ]
    },
    {
      "cell_type": "code",
      "execution_count": null,
      "metadata": {
        "collapsed": false
      },
      "outputs": [],
      "source": [
        "circuit = ansys.aedt.core.Circuit(project=ansys.aedt.core.generate_unique_project_name(),\n                         version=aedt_version,\n                         non_graphical=non_graphical,\n                         new_desktop=True\n                         )\ncircuit.modeler.schematic_units = \"mil\""
      ]
    },
    {
      "cell_type": "markdown",
      "metadata": {},
      "source": [
        "# Add subcircuit\r\n\r\nAdd a new subcircuit to the previously created circuit design, creating\r\na child circuit. Push this child circuit down into the child subcircuit.\r\n"
      ]
    },
    {
      "cell_type": "code",
      "execution_count": null,
      "metadata": {
        "collapsed": false
      },
      "outputs": [],
      "source": [
        "subcircuit = circuit.modeler.schematic.create_subcircuit(location=[0.0, 0.0])\nsubcircuit_name = subcircuit.composed_name\ncircuit.push_down(subcircuit)"
      ]
    },
    {
      "cell_type": "markdown",
      "metadata": {},
      "source": [
        "# Parametrize subcircuit\r\n\r\nParametrize the subcircuit and add a resistor, inductor, and a capacitor\r\nwith the parameter values in the following code example. Connect them in\r\nseries and then use the `pop_up` \\# method to get back to the parent\r\ndesign.\r\n"
      ]
    },
    {
      "cell_type": "code",
      "execution_count": null,
      "metadata": {
        "collapsed": false
      },
      "outputs": [],
      "source": [
        "circuit.variable_manager.set_variable(name=\"R_val\", expression=\"35ohm\")\ncircuit.variable_manager.set_variable(name=\"L_val\", expression=\"1e-7H\")\ncircuit.variable_manager.set_variable(name=\"C_val\", expression=\"5e-10F\")\np1 = circuit.modeler.schematic.create_interface_port(name=\"In\")\nr1 = circuit.modeler.schematic.create_resistor(value=\"R_val\")\nl1 = circuit.modeler.schematic.create_inductor(value=\"L_val\")\nc1 = circuit.modeler.schematic.create_capacitor(value=\"C_val\")\np2 = circuit.modeler.schematic.create_interface_port(name=\"Out\")\ncircuit.modeler.schematic.connect_components_in_series(assignment=[p1, r1, l1, c1, p2], use_wire=True)\ncircuit.pop_up()"
      ]
    },
    {
      "cell_type": "markdown",
      "metadata": {},
      "source": [
        "# Release AEDT\r\n\r\nRelease AEDT.\r\n"
      ]
    },
    {
      "cell_type": "code",
      "execution_count": null,
      "metadata": {
        "collapsed": false
      },
      "outputs": [],
      "source": [
        "circuit.release_desktop(True, True)"
      ]
    }
  ],
  "metadata": {
    "kernelspec": {
      "display_name": "Python 3",
      "language": "python",
      "name": "python3"
    },
    "language_info": {
      "codemirror_mode": {
        "name": "ipython",
        "version": 3
      },
      "file_extension": ".py",
      "mimetype": "text/x-python",
      "name": "python",
      "nbconvert_exporter": "python",
      "pygments_lexer": "ipython3",
      "version": "3.10.9"
    }
  },
  "nbformat": 4,
  "nbformat_minor": 0
}